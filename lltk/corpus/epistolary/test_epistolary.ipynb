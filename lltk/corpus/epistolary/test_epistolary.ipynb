{
 "cells": [
  {
   "cell_type": "markdown",
   "metadata": {},
   "source": [
    "# Epistolary"
   ]
  },
  {
   "cell_type": "code",
   "execution_count": 1,
   "metadata": {},
   "outputs": [],
   "source": [
    "import os,sys; sys.path.insert(0,os.path.abspath('../../..'))\n",
    "from epistolary import *"
   ]
  },
  {
   "cell_type": "code",
   "execution_count": 2,
   "metadata": {},
   "outputs": [
    {
     "name": "stderr",
     "output_type": "stream",
     "text": [
      "\u001b[36m[23:00:36]\u001b[0m \u001b[34m\u001b[1mlltk.corpus.corpus.init()\u001b[0m\u001b[36m:231:\u001b[0m Initializing from metadata: [Epistolary](epistolary)\n",
      "\u001b[36m[23:00:37]\u001b[0m \u001b[34m\u001b[1mlltk.corpus.corpus.init()\u001b[0m\u001b[36m:231:\u001b[0m Initializing from metadata: [Chadwyck](chadwyck)\n"
     ]
    }
   ],
   "source": [
    "C=Epistolary()\n",
    "C.init()"
   ]
  },
  {
   "cell_type": "code",
   "execution_count": 3,
   "metadata": {},
   "outputs": [
    {
     "data": {
      "text/plain": [
       "[TextEpistolaryChadwyck](_epistolary/_chadwyck/Eighteenth-Century_Fiction/richards.01)"
      ]
     },
     "execution_count": 3,
     "metadata": {},
     "output_type": "execute_result"
    }
   ],
   "source": [
    "clar = C.textd[CLAR_ID]\n",
    "clar"
   ]
  },
  {
   "cell_type": "code",
   "execution_count": 18,
   "metadata": {},
   "outputs": [
    {
     "data": {
      "text/plain": [
       "[SectionCorpusLetterChadwyck](_chadwyck/EighteenthCentury_Fiction/richards01/sections)"
      ]
     },
     "execution_count": 18,
     "metadata": {},
     "output_type": "execute_result"
    }
   ],
   "source": [
    "SC=clar.sections\n",
    "SC"
   ]
  },
  {
   "cell_type": "code",
   "execution_count": 20,
   "metadata": {},
   "outputs": [
    {
     "data": {
      "text/plain": [
       "'/Users/ryan/lltk_data/corpora/epistolary/texts/_chadwyck/EighteenthCentury_Fiction/richards01/sections'"
      ]
     },
     "execution_count": 20,
     "metadata": {},
     "output_type": "execute_result"
    }
   ],
   "source": [
    "SC.path"
   ]
  },
  {
   "cell_type": "code",
   "execution_count": 23,
   "metadata": {},
   "outputs": [
    {
     "data": {
      "text/plain": [
       "'/Users/ryan/lltk_data/corpora/epistolary/texts/_chadwyck/EighteenthCentury_Fiction/richards01/sections'"
      ]
     },
     "execution_count": 23,
     "metadata": {},
     "output_type": "execute_result"
    }
   ],
   "source": [
    "SC.path"
   ]
  },
  {
   "cell_type": "code",
   "execution_count": 28,
   "metadata": {},
   "outputs": [
    {
     "data": {
      "text/plain": [
       "[SectionCorpusLetterChadwyck](_chadwyck/EighteenthCentury_Fiction/richards01/sections)"
      ]
     },
     "execution_count": 28,
     "metadata": {},
     "output_type": "execute_result"
    }
   ],
   "source": [
    "SC.t._section_corpus"
   ]
  },
  {
   "cell_type": "code",
   "execution_count": 7,
   "metadata": {},
   "outputs": [
    {
     "data": {
      "text/plain": [
       "{'id_orig': 'Z300044077',\n",
       " 'id_parent': 'L022b',\n",
       " 'vol_i': '1',\n",
       " 'letter_i': '22',\n",
       " 'letter_ii': '2',\n",
       " 'num_enclosed': '0',\n",
       " 'depth_enclosed': '1',\n",
       " 'txt_head': '',\n",
       " 'txt_front': '',\n",
       " 'sender_tok': '?',\n",
       " 'recip_tok': '?',\n",
       " 'id': 'L022c'}"
      ]
     },
     "execution_count": 7,
     "metadata": {},
     "output_type": "execute_result"
    }
   ],
   "source": [
    "t=SC.textd['L022c']\n",
    "t._meta"
   ]
  },
  {
   "cell_type": "code",
   "execution_count": 8,
   "metadata": {},
   "outputs": [
    {
     "data": {
      "text/plain": [
       "{'id_orig': 'Z300044077',\n",
       " 'id_parent': 'L022b',\n",
       " 'vol_i': '1',\n",
       " 'letter_i': '22',\n",
       " 'letter_ii': '2',\n",
       " 'num_enclosed': '0',\n",
       " 'depth_enclosed': '1',\n",
       " 'txt_head': '',\n",
       " 'txt_front': '',\n",
       " 'sender_tok': '?',\n",
       " 'recip_tok': '?',\n",
       " 'id': 'L022c'}"
      ]
     },
     "execution_count": 8,
     "metadata": {},
     "output_type": "execute_result"
    }
   ],
   "source": [
    "t.meta"
   ]
  },
  {
   "cell_type": "code",
   "execution_count": 9,
   "metadata": {},
   "outputs": [
    {
     "data": {
      "text/plain": [
       "{'id_orig': 'Z300044077',\n",
       " 'id_parent': '',\n",
       " 'vol_i': '1',\n",
       " 'letter_i': '22',\n",
       " 'letter_ii': '1',\n",
       " 'num_enclosed': '2',\n",
       " 'depth_enclosed': '0',\n",
       " 'txt_head': 'LETTER XXII.',\n",
       " 'txt_front': 'Miss Clarissa Harlowe, To Miss Howe. | * * | * * | * *',\n",
       " 'sender_tok': 'Miss Clarissa Harlowe',\n",
       " 'recip_tok': 'Miss Howe',\n",
       " 'id': 'L022b'}"
      ]
     },
     "execution_count": 9,
     "metadata": {},
     "output_type": "execute_result"
    }
   ],
   "source": [
    "t=SC.textd['L022b']\n",
    "t._meta"
   ]
  },
  {
   "cell_type": "code",
   "execution_count": 14,
   "metadata": {},
   "outputs": [
    {
     "data": {
      "text/plain": [
       "{'id_orig': 'Z300044077',\n",
       " 'id_parent': '',\n",
       " 'vol_i': '1',\n",
       " 'letter_i': '22',\n",
       " 'letter_ii': '1',\n",
       " 'num_enclosed': '2',\n",
       " 'depth_enclosed': '0',\n",
       " 'txt_head': 'LETTER XXII.',\n",
       " 'txt_front': 'Miss Clarissa Harlowe, To Miss Howe. | * * | * * | * *',\n",
       " 'sender_tok': 'Miss Clarissa Harlowe',\n",
       " 'recip_tok': 'Miss Howe',\n",
       " 'id': 'L022b'}"
      ]
     },
     "execution_count": 14,
     "metadata": {},
     "output_type": "execute_result"
    }
   ],
   "source": [
    "t.meta"
   ]
  },
  {
   "cell_type": "code",
   "execution_count": 17,
   "metadata": {},
   "outputs": [
    {
     "data": {
      "text/plain": [
       "'/Users/ryan/lltk_data/corpora/epistolary/texts/L022b'"
      ]
     },
     "execution_count": 17,
     "metadata": {},
     "output_type": "execute_result"
    }
   ],
   "source": [
    "t.path"
   ]
  },
  {
   "cell_type": "code",
   "execution_count": 11,
   "metadata": {},
   "outputs": [],
   "source": [
    "# len(SC.texts())\n",
    "# len(SC._textd)\n",
    "# len(SC.meta)"
   ]
  },
  {
   "cell_type": "code",
   "execution_count": 12,
   "metadata": {},
   "outputs": [
    {
     "name": "stderr",
     "output_type": "stream",
     "text": [
      "\u001b[36m[23:00:59]\u001b[0m \u001b[34m\u001b[1mlltk.corpus.corpus.load_metadata()\u001b[0m\u001b[36m:248:\u001b[0m Generating metadata dataframe\n",
      "Iterating over texts: 100%|██████████| 625/625 [00:00<00:00, 110641.96it/s]\n",
      "\u001b[36m[23:01:00]\u001b[0m \u001b[34m\u001b[1mlltk.corpus.corpus.load_metadata()\u001b[0m\u001b[36m:259:\u001b[0m Returning dataframe of (625, 11) dimensions\n"
     ]
    },
    {
     "data": {
      "text/html": [
       "<div>\n",
       "<style scoped>\n",
       "    .dataframe tbody tr th:only-of-type {\n",
       "        vertical-align: middle;\n",
       "    }\n",
       "\n",
       "    .dataframe tbody tr th {\n",
       "        vertical-align: top;\n",
       "    }\n",
       "\n",
       "    .dataframe thead th {\n",
       "        text-align: right;\n",
       "    }\n",
       "</style>\n",
       "<table border=\"1\" class=\"dataframe\">\n",
       "  <thead>\n",
       "    <tr style=\"text-align: right;\">\n",
       "      <th></th>\n",
       "      <th>id_orig</th>\n",
       "      <th>id_parent</th>\n",
       "      <th>vol_i</th>\n",
       "      <th>letter_i</th>\n",
       "      <th>letter_ii</th>\n",
       "      <th>num_enclosed</th>\n",
       "      <th>depth_enclosed</th>\n",
       "      <th>txt_head</th>\n",
       "      <th>txt_front</th>\n",
       "      <th>sender_tok</th>\n",
       "      <th>recip_tok</th>\n",
       "    </tr>\n",
       "    <tr>\n",
       "      <th>id</th>\n",
       "      <th></th>\n",
       "      <th></th>\n",
       "      <th></th>\n",
       "      <th></th>\n",
       "      <th></th>\n",
       "      <th></th>\n",
       "      <th></th>\n",
       "      <th></th>\n",
       "      <th></th>\n",
       "      <th></th>\n",
       "      <th></th>\n",
       "    </tr>\n",
       "  </thead>\n",
       "  <tbody>\n",
       "    <tr>\n",
       "      <th>L001a</th>\n",
       "      <td>Z300044056</td>\n",
       "      <td></td>\n",
       "      <td>1</td>\n",
       "      <td>1</td>\n",
       "      <td>0</td>\n",
       "      <td>0</td>\n",
       "      <td>0</td>\n",
       "      <td>LETTER I.</td>\n",
       "      <td>Miss Anna Howe, To Miss Clarissa Harlowe.</td>\n",
       "      <td>Miss Anna Howe</td>\n",
       "      <td>Miss Clarissa Harlowe</td>\n",
       "    </tr>\n",
       "    <tr>\n",
       "      <th>L002a</th>\n",
       "      <td>Z300044057</td>\n",
       "      <td></td>\n",
       "      <td>1</td>\n",
       "      <td>2</td>\n",
       "      <td>0</td>\n",
       "      <td>0</td>\n",
       "      <td>0</td>\n",
       "      <td>LETTER II.</td>\n",
       "      <td>Miss Clarissa Harlowe, To Miss Howe.</td>\n",
       "      <td>Miss Clarissa Harlowe</td>\n",
       "      <td>Miss Howe</td>\n",
       "    </tr>\n",
       "    <tr>\n",
       "      <th>L003a</th>\n",
       "      <td>Z300044058</td>\n",
       "      <td></td>\n",
       "      <td>1</td>\n",
       "      <td>3</td>\n",
       "      <td>0</td>\n",
       "      <td>0</td>\n",
       "      <td>0</td>\n",
       "      <td>LETTER III.</td>\n",
       "      <td>Miss Clarissa Harlowe, To Miss Howe.</td>\n",
       "      <td>Miss Clarissa Harlowe</td>\n",
       "      <td>Miss Howe</td>\n",
       "    </tr>\n",
       "    <tr>\n",
       "      <th>L004a</th>\n",
       "      <td>Z300044059</td>\n",
       "      <td></td>\n",
       "      <td>1</td>\n",
       "      <td>4</td>\n",
       "      <td>0</td>\n",
       "      <td>0</td>\n",
       "      <td>0</td>\n",
       "      <td>LETTER IV.</td>\n",
       "      <td>Miss Clarissa Harlowe, To Miss Howe.</td>\n",
       "      <td>Miss Clarissa Harlowe</td>\n",
       "      <td>Miss Howe</td>\n",
       "    </tr>\n",
       "    <tr>\n",
       "      <th>L005a</th>\n",
       "      <td>Z300044060</td>\n",
       "      <td></td>\n",
       "      <td>1</td>\n",
       "      <td>5</td>\n",
       "      <td>0</td>\n",
       "      <td>0</td>\n",
       "      <td>0</td>\n",
       "      <td>LETTER V.</td>\n",
       "      <td>Miss Clarissa Harlowe, To Miss Howe.</td>\n",
       "      <td>Miss Clarissa Harlowe</td>\n",
       "      <td>Miss Howe</td>\n",
       "    </tr>\n",
       "    <tr>\n",
       "      <th>...</th>\n",
       "      <td>...</td>\n",
       "      <td>...</td>\n",
       "      <td>...</td>\n",
       "      <td>...</td>\n",
       "      <td>...</td>\n",
       "      <td>...</td>\n",
       "      <td>...</td>\n",
       "      <td>...</td>\n",
       "      <td>...</td>\n",
       "      <td>...</td>\n",
       "      <td>...</td>\n",
       "    </tr>\n",
       "    <tr>\n",
       "      <th>L525b</th>\n",
       "      <td>Z300044595</td>\n",
       "      <td></td>\n",
       "      <td>7</td>\n",
       "      <td>525</td>\n",
       "      <td>1</td>\n",
       "      <td>2</td>\n",
       "      <td>0</td>\n",
       "      <td>LETTER CXI.</td>\n",
       "      <td>Mr. Lovelace, To John Belford, Esq; | * * | * *</td>\n",
       "      <td>Mr. Lovelace</td>\n",
       "      <td>John Belford</td>\n",
       "    </tr>\n",
       "    <tr>\n",
       "      <th>L525c</th>\n",
       "      <td>Z300044595</td>\n",
       "      <td>L525b</td>\n",
       "      <td>7</td>\n",
       "      <td>525</td>\n",
       "      <td>2</td>\n",
       "      <td>0</td>\n",
       "      <td>1</td>\n",
       "      <td></td>\n",
       "      <td></td>\n",
       "      <td>?</td>\n",
       "      <td>?</td>\n",
       "    </tr>\n",
       "    <tr>\n",
       "      <th>L525d</th>\n",
       "      <td>Z300044595</td>\n",
       "      <td>L525b</td>\n",
       "      <td>7</td>\n",
       "      <td>525</td>\n",
       "      <td>3</td>\n",
       "      <td>0</td>\n",
       "      <td>1</td>\n",
       "      <td></td>\n",
       "      <td></td>\n",
       "      <td>?</td>\n",
       "      <td>?</td>\n",
       "    </tr>\n",
       "    <tr>\n",
       "      <th>L526a</th>\n",
       "      <td>Z300044596</td>\n",
       "      <td></td>\n",
       "      <td>7</td>\n",
       "      <td>526</td>\n",
       "      <td>0</td>\n",
       "      <td>0</td>\n",
       "      <td>0</td>\n",
       "      <td>LETTER CXII.</td>\n",
       "      <td>Mr. Lovelace, To John Belford, Esq;</td>\n",
       "      <td>Mr. Lovelace</td>\n",
       "      <td>John Belford</td>\n",
       "    </tr>\n",
       "    <tr>\n",
       "      <th>L527a</th>\n",
       "      <td>Z300044597</td>\n",
       "      <td></td>\n",
       "      <td>7</td>\n",
       "      <td>527</td>\n",
       "      <td>0</td>\n",
       "      <td>0</td>\n",
       "      <td>0</td>\n",
       "      <td>LETTER CXIII.</td>\n",
       "      <td>Translation of a Letter from F. J. De la Tour....</td>\n",
       "      <td>F. J. De la Tour</td>\n",
       "      <td>John Belford</td>\n",
       "    </tr>\n",
       "  </tbody>\n",
       "</table>\n",
       "<p>625 rows × 11 columns</p>\n",
       "</div>"
      ],
      "text/plain": [
       "          id_orig id_parent vol_i letter_i letter_ii num_enclosed  \\\n",
       "id                                                                  \n",
       "L001a  Z300044056               1        1         0            0   \n",
       "L002a  Z300044057               1        2         0            0   \n",
       "L003a  Z300044058               1        3         0            0   \n",
       "L004a  Z300044059               1        4         0            0   \n",
       "L005a  Z300044060               1        5         0            0   \n",
       "...           ...       ...   ...      ...       ...          ...   \n",
       "L525b  Z300044595               7      525         1            2   \n",
       "L525c  Z300044595     L525b     7      525         2            0   \n",
       "L525d  Z300044595     L525b     7      525         3            0   \n",
       "L526a  Z300044596               7      526         0            0   \n",
       "L527a  Z300044597               7      527         0            0   \n",
       "\n",
       "      depth_enclosed       txt_head  \\\n",
       "id                                    \n",
       "L001a              0      LETTER I.   \n",
       "L002a              0     LETTER II.   \n",
       "L003a              0    LETTER III.   \n",
       "L004a              0     LETTER IV.   \n",
       "L005a              0      LETTER V.   \n",
       "...              ...            ...   \n",
       "L525b              0    LETTER CXI.   \n",
       "L525c              1                  \n",
       "L525d              1                  \n",
       "L526a              0   LETTER CXII.   \n",
       "L527a              0  LETTER CXIII.   \n",
       "\n",
       "                                               txt_front  \\\n",
       "id                                                         \n",
       "L001a          Miss Anna Howe, To Miss Clarissa Harlowe.   \n",
       "L002a               Miss Clarissa Harlowe, To Miss Howe.   \n",
       "L003a               Miss Clarissa Harlowe, To Miss Howe.   \n",
       "L004a               Miss Clarissa Harlowe, To Miss Howe.   \n",
       "L005a               Miss Clarissa Harlowe, To Miss Howe.   \n",
       "...                                                  ...   \n",
       "L525b    Mr. Lovelace, To John Belford, Esq; | * * | * *   \n",
       "L525c                                                      \n",
       "L525d                                                      \n",
       "L526a                Mr. Lovelace, To John Belford, Esq;   \n",
       "L527a  Translation of a Letter from F. J. De la Tour....   \n",
       "\n",
       "                  sender_tok              recip_tok  \n",
       "id                                                   \n",
       "L001a         Miss Anna Howe  Miss Clarissa Harlowe  \n",
       "L002a  Miss Clarissa Harlowe              Miss Howe  \n",
       "L003a  Miss Clarissa Harlowe              Miss Howe  \n",
       "L004a  Miss Clarissa Harlowe              Miss Howe  \n",
       "L005a  Miss Clarissa Harlowe              Miss Howe  \n",
       "...                      ...                    ...  \n",
       "L525b           Mr. Lovelace           John Belford  \n",
       "L525c                      ?                      ?  \n",
       "L525d                      ?                      ?  \n",
       "L526a           Mr. Lovelace           John Belford  \n",
       "L527a       F. J. De la Tour           John Belford  \n",
       "\n",
       "[625 rows x 11 columns]"
      ]
     },
     "execution_count": 12,
     "metadata": {},
     "output_type": "execute_result"
    }
   ],
   "source": [
    "SC.meta"
   ]
  },
  {
   "cell_type": "code",
   "execution_count": 13,
   "metadata": {},
   "outputs": [
    {
     "ename": "NameError",
     "evalue": "name 'stop' is not defined",
     "output_type": "error",
     "traceback": [
      "\u001b[0;31m---------------------------------------------------------------------------\u001b[0m",
      "\u001b[0;31mNameError\u001b[0m                                 Traceback (most recent call last)",
      "\u001b[1;32m/Users/ryan/github/lltk/lltk/corpus/epistolary/test_epistolary.ipynb Cell 13'\u001b[0m in \u001b[0;36m<module>\u001b[0;34m\u001b[0m\n\u001b[0;32m----> <a href='vscode-notebook-cell:/Users/ryan/github/lltk/lltk/corpus/epistolary/test_epistolary.ipynb#ch0000053?line=0'>1</a>\u001b[0m stop\n",
      "\u001b[0;31mNameError\u001b[0m: name 'stop' is not defined"
     ]
    }
   ],
   "source": [
    "stop"
   ]
  },
  {
   "cell_type": "code",
   "execution_count": null,
   "metadata": {},
   "outputs": [],
   "source": []
  },
  {
   "cell_type": "code",
   "execution_count": null,
   "metadata": {},
   "outputs": [],
   "source": [
    "# SC.init()"
   ]
  },
  {
   "cell_type": "code",
   "execution_count": null,
   "metadata": {},
   "outputs": [],
   "source": [
    "xmltst=\"\"\"\n",
    "<letter>O my god see what he wrote?\n",
    "\n",
    "    <letter>I can't believe this see what she wrote me?\n",
    "\n",
    "        <letter>Woof woof</letter>\n",
    "\n",
    "        <letter>meow meow</letter>\n",
    "    </letter>\n",
    "</letter>\n",
    "\n",
    "<letter> ok #2....</letter>\n",
    "\n",
    "<letter> #3 !!!....</letter>\n",
    "\n",
    "<letter> 4....\n",
    "\n",
    "    <letter>4b</letter>\n",
    "\n",
    "</letter>\n",
    "\"\"\""
   ]
  },
  {
   "cell_type": "code",
   "execution_count": null,
   "metadata": {},
   "outputs": [],
   "source": [
    "\n",
    "# def init(self,force=False,lim=None,progress=True,**kwargs):\n",
    "#     from string import ascii_lowercase\n",
    "#     alpha=ascii_lowercase.replace('x','')\n",
    "#     alpha = (alpha*1000)\n",
    "#     letter_i=0\n",
    "#     letter_ii=0\n",
    "\n",
    "#     ## VOLUME\n",
    "#     dom = self.dom\n",
    "#     vols = dom(self.DIV_VOL)\n",
    "#     if not len(vols): vols=[dom]\n",
    "#     vol_i=0\n",
    "#     for voldom in tqdm(vols,desc='Iterating volumes',position=0): \n",
    "#         divs = voldom(self.DIV_LTR)\n",
    "#         if not len(divs): continue\n",
    "#         vol_i+=1\n",
    "\n",
    "#         for divdom in tqdm(divs,desc='Iterating volume letters',position=1,disable=True):\n",
    "#             ltrs=divdom(self.LTR)\n",
    "#             num_letters = len(ltrs)\n",
    "#             if not num_letters: continue\n",
    "#             letter_i+=1\n",
    "#             letter_ii = 0 if len(ltrs)==1 else 1\n",
    "\n",
    "#             _xmldiv = clean_text(str(divdom))\n",
    "#             _xmldiv_hdr = _xmldiv[:_xmldiv.index(f'<{self.LTR}')]\n",
    "#             #meta_hdr = letter_xml_hdr_to_meta(_xmldiv_hdr)\n",
    "#             #idz = meta_hdr.get('id_letter')\n",
    "#             idz = grab_tag_text(divdom,'idref',limit=1)\n",
    "\n",
    "#             for ldomi,ltrdom in enumerate(ltrs):\n",
    "#                 num_enclosed = len(ltrdom(self.LTR))\n",
    "#                 depth_enclosed = len(ltrdom.find_parents(self.LTR))\n",
    "#                 letter_subid = alpha[letter_ii]\n",
    "#                 letter_id=f'L{letter_i:03}{letter_subid}'\n",
    "\n",
    "#                 _xml=clean_text(str(ltrdom))\n",
    "#                 if ldomi==0: _xml=_xmldiv_hdr+_xml\n",
    "\n",
    "#                 odx=dict(\n",
    "#                     id=letter_id,\n",
    "#                     id_orig=idz,\n",
    "#                     vol_i=vol_i,\n",
    "#                     letter_i=letter_i,\n",
    "#                     letter_ii=letter_ii,\n",
    "#                     num_enclosed=num_enclosed,\n",
    "#                     depth_enclosed=depth_enclosed,\n",
    "#                     _xml=_xml,\n",
    "#                     _xml_ref=f'<letter id=\"{letter_id}\" />'\n",
    "#                 )\n",
    "#                 ltrdom.odx=odx\n",
    "#                 letter_ii+=1\n",
    "    \n",
    "#     for ltrdom in dom(self.LTR):\n",
    "#         parent=ltrdom.find_parent(self.LTR)\n",
    "#         if parent:\n",
    "#             ltrdom.odx['id_parent']=parent.odx['id']\n",
    "#             parent.odx['_xml'] = parent.odx['_xml'].replace( ltrdom.odx['_xml'], ltrdom.odx['_xml_ref'] )\n",
    "#         else:\n",
    "#             ltrdom.odx['id_parent']=''\n",
    "\n",
    "#     o=[]\n",
    "#     for ltrdom in dom(self.LTR):\n",
    "#         ltrdom.odx['_xml'] = ltrdom.odx['_xml_ref'][:-3] + ltrdom.odx['_xml'][1+len(self.LTR):]\n",
    "#         okeys=['id','id_orig','id_parent','letter_i','letter_ii','num_enclosed','depth_enclosed','_xml'] #txt_head','txt_front','_xml']\n",
    "#         odx=dict((k,ltrdom.odx.get(k)) for k in okeys)\n",
    "\n",
    "#         ## nowww init text\n",
    "#         self.init_text(**odx)\n",
    "#         o.append(odx)\n",
    "#     odf=pd.DataFrame(o).fillna('')\n",
    "#     self._init=True\n",
    "#     # return self._init\n",
    "#     return odf\n",
    "\n",
    "\n",
    "# SC=clar.sections\n",
    "# odf=init(SC)\n",
    "# odf"
   ]
  },
  {
   "cell_type": "code",
   "execution_count": null,
   "metadata": {},
   "outputs": [
    {
     "data": {
      "text/plain": [
       "[TextSectionLetterChadwyck](_epistolary/L460a)"
      ]
     },
     "execution_count": 13,
     "metadata": {},
     "output_type": "execute_result"
    }
   ],
   "source": [
    "t=random.choice(SC.texts())\n",
    "t"
   ]
  },
  {
   "cell_type": "code",
   "execution_count": null,
   "metadata": {},
   "outputs": [
    {
     "data": {
      "text/plain": [
       "({'id_orig': 'Z300044530',\n",
       "  'id_parent': '',\n",
       "  'vol_i': 7,\n",
       "  'letter_i': 460,\n",
       "  'letter_ii': 0,\n",
       "  'num_enclosed': 0,\n",
       "  'depth_enclosed': 0,\n",
       "  'id': 'L460a'},\n",
       " '<letter id=\"L460a\"<comhd3><idref>Z300044530</idref><collection>1 2</collection>\\n\\nLETTER XLIX. <attbytes>7Kb</attbytes><reflink>000137</reflink><comcitn><ty>BOOK</ty><id>Z300044530</id><a1>Richardson, Samuel, 1689-1761</a1><t1>Clarissa (1st ed.) (1748)</t1><pbl>Printed for S. Richardson: [etc.]</pbl><y1>1748</y1><t2>Literature Online</t2></comcitn></comhd3>\\n<edit>[Hyperlink to the 3rd edition]</edit><xref rid=\"3CL460\"><target>1CL460</target>\\n<front>\\n<argument r=\"italic\"><s>Mr. <hi r=\"smcap\">Lovelace,</hi> To <hi r=\"smcap\">John Belford,</hi> Esq; </s></argument></front>\\n<letter>\\n<p align=\"r\" r=\"italic\"><s>Wedn. morn. Sept. 6. </s></p>\\n<p><s><hi r=\"smcap\">And</hi> is she somewhat better? </s><s> -- Blessings upon thee\\nwithout number or measure! </s><s>Let her still be better\\nand better! </s><s><hi r=\"italic\">Tell</hi> me so at least, if it be <hi r=\"italic\">not</hi> so: </s><s>For thou\\nknowest not what a joy that poor temporary reprieve, that\\nshe will hold out yet a day or two, gave me. <')"
      ]
     },
     "execution_count": 14,
     "metadata": {},
     "output_type": "execute_result"
    }
   ],
   "source": [
    "t._meta, t._xml[:1000]"
   ]
  },
  {
   "cell_type": "code",
   "execution_count": null,
   "metadata": {},
   "outputs": [
    {
     "data": {
      "text/plain": [
       "{'id_orig': 'Z300044530',\n",
       " 'id_parent': '',\n",
       " 'vol_i': 7,\n",
       " 'letter_i': 460,\n",
       " 'letter_ii': 0,\n",
       " 'num_enclosed': 0,\n",
       " 'depth_enclosed': 0,\n",
       " 'id': 'L460a'}"
      ]
     },
     "execution_count": 15,
     "metadata": {},
     "output_type": "execute_result"
    }
   ],
   "source": [
    "t.meta"
   ]
  },
  {
   "cell_type": "code",
   "execution_count": null,
   "metadata": {},
   "outputs": [
    {
     "ename": "NameError",
     "evalue": "name 'odf' is not defined",
     "output_type": "error",
     "traceback": [
      "\u001b[0;31m---------------------------------------------------------------------------\u001b[0m",
      "\u001b[0;31mNameError\u001b[0m                                 Traceback (most recent call last)",
      "\u001b[1;32m/Users/ryan/github/lltk/lltk/corpus/epistolary/test_epistolary.ipynb Cell 19'\u001b[0m in \u001b[0;36m<module>\u001b[0;34m\u001b[0m\n\u001b[0;32m----> <a href='vscode-notebook-cell:/Users/ryan/github/lltk/lltk/corpus/epistolary/test_epistolary.ipynb#ch0000049?line=0'>1</a>\u001b[0m odf[odf\u001b[39m.\u001b[39mdepth_enclosed\u001b[39m>\u001b[39m\u001b[39m0\u001b[39m]\n",
      "\u001b[0;31mNameError\u001b[0m: name 'odf' is not defined"
     ]
    }
   ],
   "source": [
    "odf[odf.depth_enclosed>0]"
   ]
  },
  {
   "cell_type": "code",
   "execution_count": null,
   "metadata": {},
   "outputs": [
    {
     "name": "stdout",
     "output_type": "stream",
     "text": [
      "['<letter id=\"L022b\">\\n<p><s><hi r=\"smcap\">Sir,</hi>\\n<lb><hi r=\"smcap\">I know</hi> not what to make of the answer brought\\nto my request of being permitted to go to church\\nthis afternoon. </lb></s><s>If y']\n",
      "['<letter id=\"L022c\">\\n<caption r=\"italic\">To Miss <hi r=\"smcap\">Clarissa Harlowe</hi>.</caption>\\n<p><s><hi r=\"smcap\">For</hi> a girl to lay so much stress upon going to\\nchurch, and yet resolve to defy h']\n",
      "['<letter id=\"L024b\">\\n<p align=\"r\" r=\"italic\"><s>Mond. March 6. </s></p>\\n<p><s><ps><hi r=\"italic\">Miss</hi> <hi r=\"smcap\">Clary,</hi>\\n<lb><hi r=\"smcap\">By</hi> your papa\\'s and mamma\\'s command, I write,\\n']\n",
      "['<letter id=\"L024c\">\\n<caption r=\"italic\">To <hi r=\"smcap\">James Harlowe</hi> junior, Esq;</caption>\\n<p r=\"smcap\"><s>Sir,\\n<lb><hi r=\"smcap\">I will</hi> only say, That you may congratulate\\nyourself on ha']\n",
      "['<letter id=\"L025b\">\\n<p r=\"italic\"><s>Honoured Madam,\\n<lb><hi r=\"smcap\">Having</hi> acknowledged to you, that I had received\\nletters from Mr. Lovelace, full of resentment,\\nand that I answered them pure']\n",
      "['<letter id=\"L025c\">\\n<p><s><hi r=\"smcap\">Clarissa,</hi>\\n<lb><hi r=\"smcap\">Say</hi> not all the blame, and all the punishment, is\\nyours. </lb></s><s>I am as much blam\\'d, and as much\\npunish\\'d, as you are']\n",
      "['<letter id=\"L025d\">\\n<p align=\"r\" r=\"italic\"><s>Wednesday. </s></p>\\n<p><s><hi r=\"smcap\">I write,</hi> perverse girl, but with all the indignation\\nthat your disobedience deserves. </s><s>To desire to be']\n",
      "['<letter id=\"L029b\">\\n<p><s><hi r=\"smcap\">Treated,</hi> as I am treated, and, in a great\\nmeasure, if not <hi r=\"italic\">wholly,</hi> by your instigations,\\nbrother, you must permit me to expostulate with']\n",
      "['<letter id=\"L029c\">\\n<caption r=\"italic\">To Miss <hi r=\"smcap\">Clarissa Harlowe</hi>.</caption>\\n<p><s><hi r=\"smcap\">I know,</hi> there will be no end of your impertinent\\nscribble, if I don\\'t write to y']\n",
      "['<letter id=\"L029d\">\\n<p><s><hi r=\"smcap\">In</hi> what, my dear sister, have I offended you, that\\ninstead of endeavouring to soften my father\\'s anger\\nagainst me (as I am sure, I should have done for you']\n",
      "['<letter id=\"L029e\">\\n<caption r=\"italic\">To Miss <hi r=\"smcap\">Clary Harlowe</hi>.</caption>\\n<p><s><hi r=\"smcap\">Let</hi> it be pretty, or not pretty, in your wife\\nopinion, I shall speak my mind, I\\'ll ']\n",
      "['<letter id=\"L032b\">\\n<caption r=\"italic\">To <hi r=\"smcap\">John Harlowe,</hi> Esq;</caption>\\n<p align=\"r\" r=\"italic\"><s>Sat. March 11. </s></p>\\n<p><s><hi r=\"smcap\">Allow</hi> me, my honoured Second Papa']\n",
      "['<letter id=\"L032c\">\\n<caption r=\"italic\">The <hi r=\"smcap\">Answer</hi>.</caption>\\n<p align=\"r\" r=\"italic\"><s>Sunday night. </s></p>\\n<p><s><hi r=\"italic\">My dear Niece,</hi>\\n<lb><hi r=\"smcap\">It</hi> gr']\n",
      "['<letter id=\"L032d\">\\n<caption r=\"italic\">To <hi r=\"smcap\">Antony Harlowe,</hi> Esq;.</caption>\\n<p align=\"r\" r=\"italic\"><s>Saturday, March 11. </s></p>\\n<p><s><ps>Honoured Sir,\\n<lb><hi r=\"smcap\">As</hi> ']\n",
      "['<letter id=\"L032e\">\\n<caption r=\"italic\">Mr. <hi r=\"smcap\">Antony Harlowe,</hi> To Miss <hi r=\"smcap\">Clarissa Harlowe</hi>.</caption>\\n<p><s>Niece <hi r=\"smcap\">Clary,</hi>\\n<lb><hi r=\"smcap\">You</hi> h']\n",
      "['<letter id=\"L033b\">\\n<caption r=\"italic\">To <hi r=\"smcap\">Roger Solmes,</hi> Esq;</caption>\\n<p align=\"r\" r=\"italic\"><s>Wednesday, Mar. 15. </s></p>\\n<p><s><hi r=\"smcap\">Sir,</hi>\\n<lb><hi r=\"smcap\">You</']\n",
      "['<letter id=\"L033c\">\\n<caption r=\"italic\">To Miss <hi r=\"smcap\">Clarissa Harlowe</hi>.</caption>\\n<p align=\"r\" r=\"italic\"><s>These most humbly present.\\n<lb>Thursday, March 16. </lb></s></p>\\n<p><s>Dearest']\n",
      "['<letter id=\"L033d\">\\n<caption r=\"italic\">Mr. <hi r=\"smcap\">James Harlowe,</hi> To Miss <hi r=\"smcap\">Clarissa Harlowe</hi>.</caption>\\n<p align=\"r\" r=\"italic\"><s>Thursday, March 16. </s></p>\\n<p><s><hi r']\n",
      "['<letter id=\"L041b\">\\n<p><s><hi r=\"italic\">My dear girl,</hi>\\n<lb><hi r=\"smcap\">For</hi> so I must still call you; since <hi r=\"italic\">dear</hi> you may be\\nto me, in every sense of the word -- We have\\n']\n",
      "['<letter id=\"L041c\">\\n<p><s><hi r=\"italic\">Undutiful and perverse Clarissa,</hi>\\n<lb><hi r=\"smcap\">No</hi> condescension, I see, will move you. </lb></s><s>Your\\nmother shall <hi r=\"italic\">not</hi> see ']\n",
      "['<letter id=\"L042b\">\\n<caption r=\"italic\">To Miss <hi r=\"smcap\">Clarissa Harlowe</hi>.</caption>\\n<p><s><hi r=\"smcap\">I wonder</hi> that you have the courage to write to me,\\nupon whom you are so continua']\n",
      "['<letter id=\"L049b\">\\n<p><s><hi r=\"italic\">Miss</hi> <hi r=\"smcap\">Clary,</hi>\\n<lb><hi r=\"smcap\">I am</hi> commanded to let you know, that my father\\nand uncles having heard your aunt Hervey\\'s account\\nof']\n",
      "['<letter id=\"L049c\">\\n<p><s><hi r=\"smcap\">You</hi> might have told me, Brother, in three lines,\\nwhat the determination of my friends was; only,\\nthat then you would not have had room to display your\\npeda']\n",
      "['<letter id=\"L050b\">\\n<p r=\"italic\"><s>Clary Harlowe,\\n<lb><hi r=\"smcap\">Receive</hi> and read This, with the temper that\\nbecomes your sex, your character, your education,\\nand your duty: </lb></s><s>And ']\n",
      "['<letter id=\"L050c\">\\n<caption r=\"italic\">To Miss <hi r=\"smcap\">Clarissa Harlowe</hi>.</caption>\\n<p align=\"r\" r=\"italic\"><s>Thursday Morning. </s></p>\\n<p><s><hi r=\"smcap\">Once</hi> more I write, altho\\' ']\n",
      "['<letter id=\"L050d\">\\n<caption r=\"italic\">To <hi r=\"smcap\">James Harlowe,</hi> jun. Esq;</caption>\\n<p align=\"r\" r=\"italic\"><s>Thursday, March 23. </s></p>\\n<p><s><hi r=\"smcap\">Permit</hi> me, my ever-dea']\n",
      "['<letter id=\"L051b\">\\n<caption r=\"italic\">To Miss <hi r=\"smcap\">Clarissa Harlowe</hi>.</caption>\\n<p><s><hi r=\"smcap\">Once</hi> again, my inflexible sister, I write to you: </s>\\n<s>It is to let you know,']\n",
      "['<letter id=\"L052b\">\\n<caption r=\"italic\">To Mr. <hi r=\"smcap\">James Harlowe</hi>. </caption>\\n<p align=\"r\" r=\"italic\"><s>Friday Morning. </s></p>\\n<p><s>Sir, \\n<lb><hi r=\"smcap\">If,</hi> notwithstanding y']\n",
      "['<letter id=\"L053b\">\\n<caption r=\"italic\">To Miss <hi r=\"smcap\">Clarissa Harlowe</hi>.</caption>\\n<p><s><hi r=\"smcap\">I am</hi> to tell you, That your mamma has begg\\'d\\nyou off for the morrow: </s><s> -- ']\n",
      "['<letter id=\"L053c\">\\n<caption r=\"italic\">A very few words, my ever-honour\\'d Mamma!</caption>\\n<p><s><hi r=\"smcap\">If</hi> my sister wrote the inclosed by my father\\'s direction,\\nor yours, I must submit t']\n",
      "['<letter id=\"L053d\">\\n<p><s><hi r=\"smcap\">To</hi> apply for protection, where authority is defy\\'d,\\nis bold! </s><s> -- Your sister, who would not in <hi r=\"italic\">your</hi>\\ncircumstances have been guil']\n",
      "['<letter id=\"L058b\">\\n<caption r=\"italic\">To Miss <hi r=\"smcap\">Clarissa Harlowe</hi>.</caption>\\n<p align=\"r\" r=\"italic\"><s>Sunday, Mar. 26. </s></p>\\n<p><s><hi r=\"italic\">Dearest Madam,</hi>\\n<lb><hi r=\"']\n",
      "['<letter id=\"L058c\">\\n<caption r=\"italic\">To <hi r=\"smcap\">Roger Solmes,</hi> Esq;</caption>\\n<p><s><hi r=\"smcap\">Sir,</hi>\\n<lb><hi r=\"smcap\">Whatever</hi> you have to communicate to me, which\\nconcerns m']\n",
      "['<letter id=\"L058d\">\\n<caption r=\"italic\">To Miss <hi r=\"smcap\">Clarissa Harlowe</hi>.</caption>\\n<p><s><hi r=\"italic\">Niece,</hi>\\n<lb><hi r=\"smcap\">Every-body</hi> is now convinc\\'d, that nothing is to\\nb']\n",
      "['<letter id=\"L058e\">\\n<caption r=\"italic\">To <hi r=\"smcap\">John Harlowe,</hi> Esq;.</caption>\\n<p><s><ps><hi r=\"italic\">My dear and ever-honoured Uncle,</hi>\\n<lb><hi r=\"smcap\">I have</hi> no-body now but']\n",
      "['<letter id=\"L059b\">\\n<p align=\"r\" r=\"italic\"><s>Sunday night, or rather Monday morning. </s></p>\\n<p><s><hi r=\"smcap\">I must</hi> answer you, tho\\' against my own intention. </s>\\n<s>Every-body loves you;']\n",
      "['<letter id=\"L059c\">\\n<p><s><hi r=\"italic\">Dear and honoured Sir,</hi>\\n<lb><hi r=\"smcap\">How</hi> you rejoice me by your condescending\\ngoodness! </lb></s><s> -- So kind, so paternal a letter! -- so\\nsoot']\n",
      "['<letter id=\"L060b\">\\n<p align=\"r\" r=\"italic\"><s>Monday, 5 o\\' clock. </s></p>\\n<p><s><hi r=\"italic\">Miss Cunning-ones,</hi>\\n<lb><hi r=\"smcap\">Your</hi> fine, new proposal is thought unworthy\\nof a particu']\n",
      "['<letter id=\"L060c\">\\n<caption r=\"italic\">To <hi r=\"smcap\">John Harlowe,</hi> Esq;.</caption>\\n<p align=\"r\" r=\"italic\"><s>Monday night. </s></p>\\n<p><s><hi r=\"italic\">Honoured Sir,</hi>\\n<lb><hi r=\"smcap\">']\n",
      "['<letter id=\"L061b\">\\n<p align=\"r\" r=\"italic\"><s>Monday Night. </s></p>\\n<p><s><hi r=\"italic\">Miss Clary,</hi>\\n<lb><hi r=\"smcap\">Since</hi> you are grown such a bold challenger, and\\nteach us all our duty']\n",
      "['<letter id=\"L062b\">\\n<p align=\"r\" r=\"italic\"><s>Tuesday Afternoon. </s></p>\\n<p><s><hi r=\"italic\">Honoured Sir,</hi>\\n<lb><hi r=\"smcap\">Let</hi> me this once be heard with patience, and\\nhave my petition ']\n",
      "['<letter id=\"L062c\">\\n<p><s><hi r=\"smcap\">Your</hi> going to your uncle\\'s was absolutely concluded\\nupon for next Thursday. </s><s>Nevertheless,\\nyour mamma, seconded by Mr. Solmes, pleaded so\\nstrongly to']\n",
      "['<letter id=\"L062d\">\\n<p><s><hi r=\"italic\">Honoured Sir,</hi>\\n<lb><hi r=\"smcap\">Altho\\'</hi> I see not what end the proposed condition\\ncan answer, I comply with it. </lb></s><s>I wish I could\\nwith every ']\n",
      "['<letter id=\"L062e\">\\n<p><s><hi r=\"smcap\">You</hi> have done well to comply. </s><s>We are willing\\nto think the best of every slight instance of\\nyour duty. </s><s>Yet have you seem\\'d to consider the\\nday']\n",
      "['<letter id=\"L063b\">\\n<caption r=\"italic\">To Miss <hi r=\"smcap\">Clarissa Harlowe</hi>.</caption>\\n<p><s><hi r=\"italic\">Good God</hi>!\\n<lb><hi r=\"smcap\">What</hi> is now to become of me! </lb></s><s> -- H']\n",
      "['<letter id=\"L063c\">\\n<p align=\"r\" r=\"italic\"><s>Wednesday Morning. </s></p>\\n<p><s><hi r=\"smcap\">I am</hi> amazed, Sir, at the freedom of your reproaches. </s>\\n<s>Pressed and teazed, against convenience']\n",
      "['<letter id=\"L087b\">\\n<p r=\"italic\"><s>Dearest Madam, </s></p>\\n<p><s><hi r=\"smcap\">I have</hi> got intelligence from one as says she knows,\\nthat you must be married on Wednesday morning\\nto Mr. Solmes. <']\n",
      "['<letter id=\"L126b\">\\n<caption r=\"italic\">To <hi r=\"smcap\">Robert Lovelace,</hi> Esq;</caption>\\n<p align=\"r\" r=\"italic\"><s>Tuesday Night, April 18. </s></p>\\n<p><s><hi r=\"italic\">Dear Sir,</hi>\\n<lb><hi r']\n",
      "['<letter id=\"L193b\">\\n<p align=\"r\" r=\"italic\"><s>Monday, May 15. </s></p>\\n<p><s><hi r=\"italic\">Madam,</hi>\\n<lb><hi r=\"smcap\">I did</hi> make a sort of resolution ten years ago, never\\nto marry. </lb></s>']\n",
      "['<letter id=\"L199b\">\\n<caption r=\"italic\">To Mr. <hi r=\"smcap\">Lovelace</hi>.</caption>\\n<p><s>\\'\\'<hi r=\"smcap\">When</hi> a woman is married, that supreme\\nearthly obligation requires her, in all instances']\n",
      "['<letter id=\"L200b\">\\n<p align=\"r\" r=\"italic\"><s>M. Hall, May. 22. </s></p>\\n<p><s><hi r=\"italic\">Dear Cousin,</hi>\\n<lb><hi r=\"smcap\">We</hi> have been in daily hope for a long time, I\\nmust call it, of h']\n",
      "['<letter id=\"L222b\">\\n<p><s><hi r=\"smcap\">I cannot</hi> see you: </s><s>Nor will I, if I can help it. </s>\\n<s>Words cannot express the anguish of my soul\\non your baseness and ingratitude. </s></p>\\n<p><s']\n",
      "['<letter id=\"L223b\">\\n<caption r=\"italic\">To Mrs. <hi r=\"smcap\">Lovelace</hi>.</caption>\\n<p><s><hi r=\"smcap\">Indeed,</hi> my dearest life, you carry this matter too\\nfar. </s><s>What will the people belo']\n",
      "['<letter id=\"L223c\">\\n<caption r=\"italic\">To Mr. <hi r=\"smcap\">Lovelace</hi>.</caption>\\n<p><s><hi r=\"smcap\">I will</hi> not see you. </s><s>I cannot see you. </s><s>I have no\\ndirections to give you. </s']\n",
      "['<letter id=\"L223d\">\\n<caption r=\"italic\">To Mrs. <hi r=\"smcap\">Lovelace</hi>.</caption>\\n<p><s><hi r=\"smcap\">Again,</hi> Madam, I remind you of your promise: </s>\\n<s>And beg leave to say, I insist upon ']\n",
      "['<letter id=\"L223e\">\\n<caption r=\"italic\">To Mr.<hi r=\"smcap\">Lovelace</hi>.</caption>\\n<p><s><hi r=\"smcap\">The</hi> more you teaze me, the worse will it be for\\nyou. </s></p>\\n<p><s><hi r=\"italic\">Time</h']\n",
      "['<letter id=\"L223f\">\\n<caption r=\"italic\">To Mrs. <hi r=\"smcap\">Lovelace</hi>.</caption>\\n<p><s><hi r=\"italic\">Madam,</hi>\\n<lb><hi r=\"smcap\">I will</hi> go to the Commons, and proceed in every\\nparticular']\n",
      "['<letter id=\"L225b\">\\n<caption r=\"italic\">To Miss <hi r=\"smcap\">Lætitia Beaumont</hi>.</caption>\\n<p align=\"r\" r=\"italic\"><s>Wednesday, June 7. </s></p>\\n<p><s><hi r=\"italic\">My dearest Friend,</hi>\\n<lb><']\n",
      "['<letter id=\"L225c\">\\n<caption r=\"italic\">To Miss <hi r=\"smcap\">Howe</hi>.</caption>\\n<p><s><hi r=\"italic\">My dearest creature,</hi>\\n<lb><hi r=\"smcap\">How</hi> you have shock\\'d, confounded, surpriz\\'d,\\nas']\n",
      "['<letter id=\"L227b\">\\n<p><s><hi r=\"italic\">Honoured Sur,</hi>\\n<lb><hi r=\"smcap\">This</hi> is to sertifie your honner, as how I am heer\\nat Hamester, wher I have found out my Lady to\\nbe in logins at one M']\n",
      "['<letter id=\"L227c\">\\n<p align=\"r\" r=\"italic\"><s>Thursday, June 8. </s></p>\\n<p><s><hi r=\"smcap\">I write</hi> this, my dear Miss Howe, only for a feint,\\nand to see if it will go current. </s><s>I shall w']\n",
      "['<letter id=\"L227d\">\\n<p align=\"r\" r=\"italic\"><s>Thursday, June 8. </s></p>\\n<p><s><hi r=\"italic\">Mr. Lovelace,</hi>\\n<lb><hi r=\"smcap\">Do</hi> not give me cause to dread your return. </lb></s><s>If you\\nw']\n",
      "['<letter id=\"L229b\">\\n<caption r=\"italic\">To <hi r=\"smcap\">Robert Lovelace,</hi> Esq;.</caption>\\n<p align=\"r\" r=\"italic\"><s>Wedn. June 7. </s></p>\\n<p><s><hi r=\"italic\">Dear Sir,</hi>\\n<lb><hi r=\"smcap\">A']\n",
      "['<letter id=\"L229c\">\\n<caption r=\"italic\">To <hi r=\"smcap\">Robert Lovelace,</hi> Esq;.</caption>\\n<p align=\"r\" r=\"italic\"><s>Wedn. Morn. June 7. </s></p>\\n<p><s><hi r=\"italic\">Dear Nephew,</hi>\\n<lb><hi r=']\n",
      "['<letter id=\"L229d\">\\n<caption r=\"italic\">To <hi r=\"smcap\">Robert Lovelace,</hi> Esq;.</caption>\\n<p><s><hi r=\"italic\">Dear Cousin,</hi>\\n<lb><hi r=\"smcap\">At</hi> last, as we understand, there is some ho']\n",
      "['<letter id=\"L229e\">\\n<caption r=\"italic\">To <hi r=\"smcap\">Robert Lovelace,</hi> Esq;.</caption>\\n<p align=\"r\" r=\"italic\"><s>M. Hall, Wedn. June 7. </s></p>\\n<p><s><hi r=\"italic\">Cousin Lovelace,</hi>\\n<lb']\n",
      "['<letter id=\"L234b\">\\n<p><s>\\'\\'<hi r=\"smcap\">I congratulate</hi> you, my dear, with all my heart\\nand soul, upon [your escape] from the villain. </s>\\n<s>[I long] for the particulars of all. </s><s>[My mam']\n",
      "['<letter id=\"L235b\" r=\"small\">\\n<p><s><hi r=\"italic\">My dearest Friend,</hi>\\n<lb><hi r=\"smcap\">You</hi> will perhaps think, that I have been too long silent. </lb></s><s>But I\\nhad begun two letters at d']\n",
      "['<letter id=\"L236b\">\\n<p align=\"r\" r=\"italic\"><s>Hamstead, Tuesday evening. </s></p>\\n<p><s><hi r=\"italic\">My ever-dear Miss Howe,</hi>\\n<lb><hi r=\"smcap\">A few</hi> lines only, till calmer spirits and qu']\n",
      "['<letter id=\"L247b\">\\n<caption r=\"italic\">To Mrs. <hi r=\"smcap\">Harriot Lucas,</hi> at Mrs. <hi r=\"smcap\">Moore\\'s</hi> at\\n<hi r=\"roman\">Hamstead</hi>.</caption>\\n<p><s><hi r=\"smcap\">After</hi> the discov']\n",
      "['<letter id=\"L251b\">\\n<caption r=\"italic\">To <hi r=\"smcap\">Robert Lovelace,</hi> Esq;</caption>\\n<p align=\"r\" r=\"italic\"><s>Monday Night. </s></p>\\n<p><s><hi r=\"smcap\">Excuse</hi> us, dear nephew, I besee']\n",
      "['<letter id=\"L256b\">\\n<caption>PAPER I.</caption>\\n<p align=\"c\" r=\"italic\"><s>(Torn in two pieces.) </s></p>\\n<p><s><hi r=\"italic\">My dearest Miss Howe</hi>!\\n<lb><hi r=\"smcap\">O! what</hi> dreadful, dread']\n",
      "['<letter id=\"L256c\">\\n<caption>PAPER II.</caption>\\n<p align=\"c\" r=\"italic\"><s>(Scratch\\'d thro\\', and thrown under the Table.) </s></p>\\n<p><s><hi r=\"smcap\">And</hi> can you, my dear honoured papa, resolve']\n",
      "['<letter id=\"L256d\">\\n<caption>PAPER III.</caption>\\n<p><s><hi r=\"smcap\">A lady</hi> took a great fancy to a young Lion, or a Bear,\\nI forget which -- but a Bear, or a Tyger, I believe,\\nit was. </s><s>It ']\n",
      "['<letter id=\"L256e\">\\n<caption>PAPER IV.</caption>\\n<p><s><hi r=\"smcap\">How</hi> art thou now humbled in the dust, thou proud\\nClarissa Harlowe! </s><s>Thou that never steppedst out of\\nthy father\\'s house,']\n",
      "['<letter id=\"L256f\">\\n<caption>PAPER V.</caption>\\n<p><s><hi r=\"smcap\">Rejoice</hi> not now, my Bella, my sister, my friend; \\nbut pity the humbled creature, whose foolish heart\\nyou used to say you beheld']\n",
      "['<letter id=\"L256g\">\\n<caption>PAPER VI.</caption>\\n<p><s><hi r=\"smcap\">What</hi> now is become of the prospects of a happy\\nlife, which once I thought opening before me? </s><s> --  \\nWho now shall assist']\n",
      "['<letter id=\"L256h\">\\n<caption>PAPER VII.</caption>\\n<p><s><hi r=\"smcap\">Thou</hi> pernicious caterpillar, that preyest upon the\\nfair leaf of virgin fame, and poisonest those leaves\\nwhich thou canst not ']\n",
      "['<letter id=\"L256i\">\\n<caption>PAPER VIII.</caption>\\n<p><s><hi r=\"smcap\">At</hi> first, I saw something in your air and person that\\ndispleased me not. </s><s>Your birth and fortunes were\\nno small advant']\n",
      "['<letter id=\"L256j\">\\n<caption>PAPER IX.</caption>\\n<p><s><hi r=\"smcap\">Had</hi> the happiness of any the poorest outcast in the\\nworld, whom I had never seen, never known, never\\nbefore heard of, lain as ']\n",
      "['<letter id=\"L256k\">\\n<caption r=\"italic\">To Mr. <hi r=\"smcap\">Lovelace</hi>.</caption>\\n<p><s><hi r=\"smcap\">I never</hi> intended to write another line to you. </s><s>I would\\nnot see you, If I could hel']\n",
      "['<letter id=\"L264b\" r=\"italic\">\\n<p align=\"r\" r=\"italic\"><s>Monday, June 19. . . . </s></p>\\n<p r=\"italic\"><s><hi r=\"smcapit\">I the</hi> underwritten do hereby promise, that, on my\\ncoming into possession']\n",
      "['<letter id=\"L267b\">\\n<caption r=\"italic\">To <hi r=\"smcap\">Robert Lovelace,</hi> Esq;</caption>\\n<p align=\"r\" r=\"italic\"><s>Monday, June 19. </s></p>\\n<p><s><hi r=\"italic\">Dear Sir,</hi>\\n<lb><hi r=\"smcap\"']\n",
      "['<letter id=\"L270b\">\\n<p align=\"r\" r=\"italic\"><s>Tuesday, June 20 </s></p>\\n<p><s><hi r=\"italic\">My dearest Miss Harlowe,</hi>\\n<lb><hi r=\"smcap\">Again</hi> I venture to write to you (almost against incli']\n",
      "['<letter id=\"L383b\">\\n<caption r=\"italic\">To <hi r=\"smcap\">John Belford,</hi> Esq;</caption>\\n<p align=\"r\" r=\"italic\"><s>Aug. 3. </s></p>\\n<p><s><hi r=\"italic\">SIR,</hi>\\n<lb><hi r=\"smcap\">You</hi> have fr']\n",
      "['<letter id=\"L417b\">\\n<caption r=\"italic\">To <hi r=\"smcap\">Robert Lovelace,</hi> Esq;</caption>\\n<p align=\"r\" r=\"italic\"><s>Tuesday night, 11 o\\'clock. (Aug. 22.) </s></p>\\n<p><s><hi r=\"italic\">SIR,</hi>\\n<']\n",
      "['<letter id=\"L466b\">\\n<caption r=\"italic\">Miss <hi r=\"smcap\">Howe,</hi> To Miss <hi r=\"smcap\">Clarissa Harlowe</hi>.</caption>\\n<p align=\"r\" r=\"italic\"><s>Tuesday, Sept. 5. </s></p>\\n<p><s><hi r=\"italic\">']\n",
      "['<letter id=\"L466c\">\\n<p align=\"r\" r=\"italic\"><s>Wedn. near 3 o\\'Clock. </s></p>\\n<p><s><hi r=\"italic\">My dearest Miss Howe,</hi>\\n<lb><hi r=\"smcap\">You</hi> must not be surprized -- nor grieved -- that Mr']\n",
      "['<letter id=\"L479b\">\\n<caption r=\"italic\">To <hi r=\"smcap\">John Belford,</hi> Esq;</caption>\\n<p align=\"r\" r=\"italic\"><s>Sunday Evening, Sept. 3. </s></p>\\n<p><s><hi r=\"italic\">SIR,</hi>\\n<lb><hi r=\"smcap\"']\n",
      "['<letter id=\"L479c\">\\n<caption r=\"italic\">To <hi r=\"smcap\">James Harlowe,</hi> jun. Esq;</caption>\\n<p><s><hi r=\"italic\">SIR,</hi>\\n<lb><hi r=\"smcap\">The</hi> letter which the bearer of this brings with h']\n",
      "['<letter id=\"L487b\">\\n<caption r=\"italic\">To <hi r=\"smcap\">William Morden,</hi> Esq;</caption>\\n<p align=\"r\" r=\"italic\"><s>Saturday, Sept. 9. </s></p>\\n<p><s><hi r=\"italic\">Dear Cousin,</hi>\\n<lb><hi r=\"sm']\n",
      "['<letter id=\"L530b\">\\n<p align=\"r\" r=\"italic\"><s>Munich, Nov. 21.\\n<lb>&gap;&gap;Dec. 2. </lb></s></p>\\n<p><s><hi r=\"smcap\">Sir,\\n<lb>Your</lb></hi> letter was at Florence four days before I arrived\\nthere.']\n",
      "['<letter id=\"L530c\">\\n<p align=\"r\" r=\"italic\"><s>Vienna, Nov. 25.\\n<lb>&gap;&gap;Dec. 6. </lb></s></p>\\n<p><s><hi r=\"smcap\">Sir,\\n<lb>I have</lb></hi> this moment the favour of yours. </s><s>I will suspend']\n"
     ]
    },
    {
     "ename": "AttributeError",
     "evalue": "'NoneType' object has no attribute '_meta'",
     "output_type": "error",
     "traceback": [
      "\u001b[0;31m---------------------------------------------------------------------------\u001b[0m",
      "\u001b[0;31mAttributeError\u001b[0m                            Traceback (most recent call last)",
      "\u001b[1;32m/Users/ryan/github/lltk/lltk/corpus/epistolary/test_epistolary.ipynb Cell 9'\u001b[0m in \u001b[0;36m<module>\u001b[0;34m\u001b[0m\n\u001b[1;32m      <a href='vscode-notebook-cell:/Users/ryan/github/lltk/lltk/corpus/epistolary/test_epistolary.ipynb#ch0000040?line=0'>1</a>\u001b[0m \u001b[39mfor\u001b[39;00m t \u001b[39min\u001b[39;00m SC\u001b[39m.\u001b[39mtexts():\n\u001b[0;32m----> <a href='vscode-notebook-cell:/Users/ryan/github/lltk/lltk/corpus/epistolary/test_epistolary.ipynb#ch0000040?line=1'>2</a>\u001b[0m     \u001b[39mif\u001b[39;00m t\u001b[39m.\u001b[39;49m_meta\u001b[39m.\u001b[39mget(\u001b[39m'\u001b[39m\u001b[39mdepth_enclosed\u001b[39m\u001b[39m'\u001b[39m):\n\u001b[1;32m      <a href='vscode-notebook-cell:/Users/ryan/github/lltk/lltk/corpus/epistolary/test_epistolary.ipynb#ch0000040?line=2'>3</a>\u001b[0m         \u001b[39mprint\u001b[39m([t\u001b[39m.\u001b[39m_xml[:\u001b[39m200\u001b[39m]])\n\u001b[1;32m      <a href='vscode-notebook-cell:/Users/ryan/github/lltk/lltk/corpus/epistolary/test_epistolary.ipynb#ch0000040?line=4'>5</a>\u001b[0m t, t\u001b[39m.\u001b[39m_meta, t\u001b[39m.\u001b[39m_xml\n",
      "\u001b[0;31mAttributeError\u001b[0m: 'NoneType' object has no attribute '_meta'"
     ]
    }
   ],
   "source": [
    "for t in SC.texts():\n",
    "    if t._meta.get('depth_enclosed'):\n",
    "        print([t._xml[:00]])\n",
    "\n",
    "t, t._meta, t._xml"
   ]
  },
  {
   "cell_type": "code",
   "execution_count": null,
   "metadata": {},
   "outputs": [],
   "source": []
  },
  {
   "cell_type": "code",
   "execution_count": null,
   "metadata": {},
   "outputs": [
    {
     "data": {
      "text/plain": [
       "{'id_letter': 'Z300044056',\n",
       " 'txt_front': 'Miss Anna Howe, To Miss Clarissa Harlowe.',\n",
       " 'txt_head': 'LETTER I.'}"
      ]
     },
     "execution_count": 175,
     "metadata": {},
     "output_type": "execute_result"
    }
   ],
   "source": []
  },
  {
   "cell_type": "code",
   "execution_count": null,
   "metadata": {},
   "outputs": [
    {
     "name": "stdout",
     "output_type": "stream",
     "text": [
      "\u001b[0;31mSignature:\u001b[0m \u001b[0mgrab_tag_text\u001b[0m\u001b[0;34m(\u001b[0m\u001b[0mdom\u001b[0m\u001b[0;34m,\u001b[0m \u001b[0mtagname\u001b[0m\u001b[0;34m,\u001b[0m \u001b[0mlimit\u001b[0m\u001b[0;34m=\u001b[0m\u001b[0;32mNone\u001b[0m\u001b[0;34m,\u001b[0m \u001b[0msep_tag\u001b[0m\u001b[0;34m=\u001b[0m\u001b[0;34m' || '\u001b[0m\u001b[0;34m,\u001b[0m \u001b[0msep_ln\u001b[0m\u001b[0;34m=\u001b[0m\u001b[0;34m' | '\u001b[0m\u001b[0;34m)\u001b[0m\u001b[0;34m\u001b[0m\u001b[0;34m\u001b[0m\u001b[0m\n",
      "\u001b[0;31mDocstring:\u001b[0m <no docstring>\n",
      "\u001b[0;31mSource:\u001b[0m   \n",
      "\u001b[0;32mdef\u001b[0m \u001b[0mgrab_tag_text\u001b[0m\u001b[0;34m(\u001b[0m\u001b[0mdom\u001b[0m\u001b[0;34m,\u001b[0m\u001b[0mtagname\u001b[0m\u001b[0;34m,\u001b[0m\u001b[0mlimit\u001b[0m\u001b[0;34m=\u001b[0m\u001b[0;32mNone\u001b[0m\u001b[0;34m,\u001b[0m\u001b[0msep_tag\u001b[0m\u001b[0;34m=\u001b[0m\u001b[0;34m' || '\u001b[0m\u001b[0;34m,\u001b[0m\u001b[0msep_ln\u001b[0m\u001b[0;34m=\u001b[0m\u001b[0;34m' | '\u001b[0m\u001b[0;34m)\u001b[0m\u001b[0;34m:\u001b[0m\u001b[0;34m\u001b[0m\n",
      "\u001b[0;34m\u001b[0m    \u001b[0mtagnames\u001b[0m \u001b[0;34m=\u001b[0m \u001b[0;34m[\u001b[0m\u001b[0mtagname\u001b[0m\u001b[0;34m]\u001b[0m \u001b[0;32mif\u001b[0m \u001b[0mtype\u001b[0m\u001b[0;34m(\u001b[0m\u001b[0mtagname\u001b[0m\u001b[0;34m)\u001b[0m \u001b[0;32mnot\u001b[0m \u001b[0;32min\u001b[0m \u001b[0;34m{\u001b[0m\u001b[0mtuple\u001b[0m\u001b[0;34m,\u001b[0m\u001b[0mlist\u001b[0m\u001b[0;34m}\u001b[0m \u001b[0;32melse\u001b[0m \u001b[0mtagname\u001b[0m\u001b[0;34m\u001b[0m\n",
      "\u001b[0;34m\u001b[0m    \u001b[0mtags\u001b[0m \u001b[0;34m=\u001b[0m \u001b[0;34m[\u001b[0m\u001b[0;34m\u001b[0m\n",
      "\u001b[0;34m\u001b[0m        \u001b[0mtag\u001b[0m\u001b[0;34m\u001b[0m\n",
      "\u001b[0;34m\u001b[0m        \u001b[0;32mfor\u001b[0m \u001b[0mtagname\u001b[0m \u001b[0;32min\u001b[0m \u001b[0mtagnames\u001b[0m\u001b[0;34m\u001b[0m\n",
      "\u001b[0;34m\u001b[0m        \u001b[0;32mfor\u001b[0m \u001b[0mtag\u001b[0m \u001b[0;32min\u001b[0m \u001b[0mdom\u001b[0m\u001b[0;34m(\u001b[0m\u001b[0mtagname\u001b[0m\u001b[0;34m)\u001b[0m\u001b[0;34m\u001b[0m\n",
      "\u001b[0;34m\u001b[0m    \u001b[0;34m]\u001b[0m\u001b[0;34m\u001b[0m\n",
      "\u001b[0;34m\u001b[0m    \u001b[0;34m\u001b[0m\n",
      "\u001b[0;34m\u001b[0m    \u001b[0mtags_txt\u001b[0m \u001b[0;34m=\u001b[0m \u001b[0;34m[\u001b[0m\u001b[0;34m\u001b[0m\n",
      "\u001b[0;34m\u001b[0m        \u001b[0munhtml\u001b[0m\u001b[0;34m(\u001b[0m\u001b[0mstr\u001b[0m\u001b[0;34m(\u001b[0m\u001b[0mtag\u001b[0m\u001b[0;34m)\u001b[0m\u001b[0;34m)\u001b[0m\u001b[0;34m.\u001b[0m\u001b[0mstrip\u001b[0m\u001b[0;34m(\u001b[0m\u001b[0;34m)\u001b[0m\u001b[0;34m.\u001b[0m\u001b[0mreplace\u001b[0m\u001b[0;34m(\u001b[0m\u001b[0;34m'\\n'\u001b[0m\u001b[0;34m,\u001b[0m\u001b[0msep_ln\u001b[0m\u001b[0;34m)\u001b[0m\u001b[0;34m\u001b[0m\n",
      "\u001b[0;34m\u001b[0m        \u001b[0;32mfor\u001b[0m \u001b[0mtag\u001b[0m \u001b[0;32min\u001b[0m \u001b[0mtags\u001b[0m\u001b[0;34m\u001b[0m\n",
      "\u001b[0;34m\u001b[0m    \u001b[0;34m]\u001b[0m\u001b[0;34m\u001b[0m\n",
      "\u001b[0;34m\u001b[0m\u001b[0;34m\u001b[0m\n",
      "\u001b[0;34m\u001b[0m    \u001b[0motxt\u001b[0m \u001b[0;34m=\u001b[0m \u001b[0msep_tag\u001b[0m\u001b[0;34m.\u001b[0m\u001b[0mjoin\u001b[0m\u001b[0;34m(\u001b[0m\u001b[0mtags_txt\u001b[0m\u001b[0;34m)\u001b[0m\u001b[0;34m.\u001b[0m\u001b[0mstrip\u001b[0m\u001b[0;34m(\u001b[0m\u001b[0;34m)\u001b[0m\u001b[0;34m\u001b[0m\n",
      "\u001b[0;34m\u001b[0m\u001b[0;34m\u001b[0m\n",
      "\u001b[0;34m\u001b[0m    \u001b[0;32mreturn\u001b[0m \u001b[0motxt\u001b[0m\u001b[0;34m\u001b[0m\u001b[0;34m\u001b[0m\u001b[0m\n",
      "\u001b[0;31mFile:\u001b[0m      ~/github/lltk/lltk/text/utils.py\n",
      "\u001b[0;31mType:\u001b[0m      function\n"
     ]
    }
   ],
   "source": [
    "grab_tag_text??"
   ]
  },
  {
   "cell_type": "code",
   "execution_count": null,
   "metadata": {},
   "outputs": [],
   "source": [
    "# def meta(self):\n",
    "#     if self._meta_ is not None: return self._meta_\n",
    "#     meta=self._meta\n",
    "#     ltr_xml=self.xml\n",
    "#     if not ltr_xml: return meta\n",
    "#     ltr_dom=self.dom\n",
    "\n",
    "\n",
    "#     meta_map={\n",
    "#         'id_letter':'idref',\n",
    "#         'txt_front':['front','caption']\n",
    "#     }\n",
    "#     for newtag,xtag in meta_map.items():\n",
    "#         meta[newtag]=clean_text(grab_tag_text(ltr_dom, xtag)) if xtag else ''\n",
    "#     ltrtitle=''\n",
    "#     if '</collection>' in ltr_xml and '<attbytes>' in ltr_xml:\n",
    "#         ltrtitle=ltr_xml.split('</collection>')[-1].split('<attbytes>')[0].strip()\n",
    "#     meta['txt_head']=ltrtitle if ltrtitle!=meta['txt_front'] else ''\n",
    "#     meta['letter_i']=self.letter_i\n",
    "\n",
    "#     ## deduce recips?\n",
    "\n",
    "#     # meta['sender_tok'], meta['recip_tok'] = self.deduce_recip(meta)\n",
    "#     if meta.get('txt_front'):\n",
    "#         self.deduce_recip(meta)\n",
    "    \n",
    "#     meta['id']=self.id\n",
    "#     self._meta_=meta\n",
    "#     return meta"
   ]
  },
  {
   "cell_type": "code",
   "execution_count": null,
   "metadata": {},
   "outputs": [
    {
     "data": {
      "text/plain": [
       "{'letter_i': 1,\n",
       " 'letter_ii': 0,\n",
       " 'num_enclosed': 3,\n",
       " 'depth_enclosed': 0,\n",
       " '_xml_ref': '<letter id=\"L001a\" />',\n",
       " 'id': 'L001a',\n",
       " 'id_letter': '',\n",
       " 'txt_front': '',\n",
       " 'txt_head': ''}"
      ]
     },
     "execution_count": 157,
     "metadata": {},
     "output_type": "execute_result"
    }
   ],
   "source": [
    "meta(t)"
   ]
  },
  {
   "cell_type": "code",
   "execution_count": null,
   "metadata": {},
   "outputs": [
    {
     "name": "stdout",
     "output_type": "stream",
     "text": [
      "['<letter id=\"L001a\">O my god see what he wrote?\\n\\n    <letter id=\"L001b\" />\\n</letter>']\n",
      "['<letter id=\"L001b\">I can\\'t believe this see what she wrote me?\\n\\n        <letter id=\"L001c\" />\\n<letter id=\"L001d\" />\\n</letter>']\n",
      "['<letter id=\"L001c\">Woof woof</letter>']\n",
      "['<letter id=\"L001d\">meow meow</letter>']\n",
      "['<letter id=\"L002x\"> ok #2....</letter>']\n",
      "['<letter id=\"L003x\"> #3 !!!....</letter>']\n",
      "['<letter id=\"L004a\"> 4....\\n\\n    <letter id=\"L004b\" />\\n</letter>']\n",
      "['<letter id=\"L004b\">4b</letter>']\n"
     ]
    }
   ],
   "source": [
    "for x in odf._xml:\n",
    "    print([x])"
   ]
  },
  {
   "cell_type": "code",
   "execution_count": null,
   "metadata": {},
   "outputs": [
    {
     "data": {
      "text/html": [
       "<div>\n",
       "<style scoped>\n",
       "    .dataframe tbody tr th:only-of-type {\n",
       "        vertical-align: middle;\n",
       "    }\n",
       "\n",
       "    .dataframe tbody tr th {\n",
       "        vertical-align: top;\n",
       "    }\n",
       "\n",
       "    .dataframe thead th {\n",
       "        text-align: right;\n",
       "    }\n",
       "</style>\n",
       "<table border=\"1\" class=\"dataframe\">\n",
       "  <thead>\n",
       "    <tr style=\"text-align: right;\">\n",
       "      <th></th>\n",
       "      <th>letter_i</th>\n",
       "      <th>id_letter</th>\n",
       "      <th>txt_front</th>\n",
       "      <th>txt_head</th>\n",
       "      <th>sender_tok</th>\n",
       "      <th>recip_tok</th>\n",
       "    </tr>\n",
       "    <tr>\n",
       "      <th>id</th>\n",
       "      <th></th>\n",
       "      <th></th>\n",
       "      <th></th>\n",
       "      <th></th>\n",
       "      <th></th>\n",
       "      <th></th>\n",
       "    </tr>\n",
       "  </thead>\n",
       "  <tbody>\n",
       "    <tr>\n",
       "      <th>L001</th>\n",
       "      <td>1</td>\n",
       "      <td>Z300044056</td>\n",
       "      <td>Miss Anna Howe, To Miss Clarissa | Harlowe.</td>\n",
       "      <td>LETTER I.</td>\n",
       "      <td>Miss Anna Howe</td>\n",
       "      <td>Miss Clarissa Harlowe</td>\n",
       "    </tr>\n",
       "    <tr>\n",
       "      <th>L002</th>\n",
       "      <td>2</td>\n",
       "      <td>Z300044057</td>\n",
       "      <td>Miss Clarissa Harlowe, To Miss Howe.</td>\n",
       "      <td>LETTER II.</td>\n",
       "      <td>Miss Clarissa Harlowe</td>\n",
       "      <td>Miss Howe</td>\n",
       "    </tr>\n",
       "    <tr>\n",
       "      <th>L003</th>\n",
       "      <td>3</td>\n",
       "      <td>Z300044058</td>\n",
       "      <td>Miss Clarissa Harlowe, To Miss Howe.</td>\n",
       "      <td>LETTER III.</td>\n",
       "      <td>Miss Clarissa Harlowe</td>\n",
       "      <td>Miss Howe</td>\n",
       "    </tr>\n",
       "    <tr>\n",
       "      <th>L004</th>\n",
       "      <td>4</td>\n",
       "      <td>Z300044059</td>\n",
       "      <td>Miss Clarissa Harlowe, To Miss Howe.</td>\n",
       "      <td>LETTER IV.</td>\n",
       "      <td>Miss Clarissa Harlowe</td>\n",
       "      <td>Miss Howe</td>\n",
       "    </tr>\n",
       "    <tr>\n",
       "      <th>L005</th>\n",
       "      <td>5</td>\n",
       "      <td>Z300044060</td>\n",
       "      <td>Miss Clarissa Harlowe, To Miss Howe.</td>\n",
       "      <td>LETTER V.</td>\n",
       "      <td>Miss Clarissa Harlowe</td>\n",
       "      <td>Miss Howe</td>\n",
       "    </tr>\n",
       "    <tr>\n",
       "      <th>...</th>\n",
       "      <td>...</td>\n",
       "      <td>...</td>\n",
       "      <td>...</td>\n",
       "      <td>...</td>\n",
       "      <td>...</td>\n",
       "      <td>...</td>\n",
       "    </tr>\n",
       "    <tr>\n",
       "      <th>L523</th>\n",
       "      <td>523</td>\n",
       "      <td>Z300044593</td>\n",
       "      <td>Mr. Belford, To Robert Lovelace, Esq;</td>\n",
       "      <td>LETTER CIX.</td>\n",
       "      <td>Mr. Belford</td>\n",
       "      <td>Robert Lovelace</td>\n",
       "    </tr>\n",
       "    <tr>\n",
       "      <th>L524</th>\n",
       "      <td>524</td>\n",
       "      <td>Z300044594</td>\n",
       "      <td>Mr. Lovelace, To John Belford, Esq; || * * || ...</td>\n",
       "      <td>LETTER CX.</td>\n",
       "      <td>Mr. Lovelace Esq</td>\n",
       "      <td>John Belford William Morden</td>\n",
       "    </tr>\n",
       "    <tr>\n",
       "      <th>L525</th>\n",
       "      <td>525</td>\n",
       "      <td>Z300044595</td>\n",
       "      <td>Mr. Lovelace, To John Belford, Esq; || * * || * *</td>\n",
       "      <td>LETTER CXI.</td>\n",
       "      <td>Mr. Lovelace</td>\n",
       "      <td>John Belford</td>\n",
       "    </tr>\n",
       "    <tr>\n",
       "      <th>L526</th>\n",
       "      <td>526</td>\n",
       "      <td>Z300044596</td>\n",
       "      <td>Mr. Lovelace, To John Belford, Esq;</td>\n",
       "      <td>LETTER CXII.</td>\n",
       "      <td>Mr. Lovelace</td>\n",
       "      <td>John Belford</td>\n",
       "    </tr>\n",
       "    <tr>\n",
       "      <th>L527</th>\n",
       "      <td>527</td>\n",
       "      <td>Z300044597</td>\n",
       "      <td>Translation of a Letter from F. J. De la Tour....</td>\n",
       "      <td>LETTER CXIII.</td>\n",
       "      <td>F. J. De la Tour</td>\n",
       "      <td>John Belford</td>\n",
       "    </tr>\n",
       "  </tbody>\n",
       "</table>\n",
       "<p>527 rows × 6 columns</p>\n",
       "</div>"
      ],
      "text/plain": [
       "     letter_i   id_letter                                          txt_front  \\\n",
       "id                                                                             \n",
       "L001        1  Z300044056        Miss Anna Howe, To Miss Clarissa | Harlowe.   \n",
       "L002        2  Z300044057               Miss Clarissa Harlowe, To Miss Howe.   \n",
       "L003        3  Z300044058               Miss Clarissa Harlowe, To Miss Howe.   \n",
       "L004        4  Z300044059               Miss Clarissa Harlowe, To Miss Howe.   \n",
       "L005        5  Z300044060               Miss Clarissa Harlowe, To Miss Howe.   \n",
       "...       ...         ...                                                ...   \n",
       "L523      523  Z300044593              Mr. Belford, To Robert Lovelace, Esq;   \n",
       "L524      524  Z300044594  Mr. Lovelace, To John Belford, Esq; || * * || ...   \n",
       "L525      525  Z300044595  Mr. Lovelace, To John Belford, Esq; || * * || * *   \n",
       "L526      526  Z300044596                Mr. Lovelace, To John Belford, Esq;   \n",
       "L527      527  Z300044597  Translation of a Letter from F. J. De la Tour....   \n",
       "\n",
       "           txt_head             sender_tok                    recip_tok  \n",
       "id                                                                       \n",
       "L001      LETTER I.         Miss Anna Howe        Miss Clarissa Harlowe  \n",
       "L002     LETTER II.  Miss Clarissa Harlowe                    Miss Howe  \n",
       "L003    LETTER III.  Miss Clarissa Harlowe                    Miss Howe  \n",
       "L004     LETTER IV.  Miss Clarissa Harlowe                    Miss Howe  \n",
       "L005      LETTER V.  Miss Clarissa Harlowe                    Miss Howe  \n",
       "...             ...                    ...                          ...  \n",
       "L523    LETTER CIX.            Mr. Belford              Robert Lovelace  \n",
       "L524     LETTER CX.       Mr. Lovelace Esq  John Belford William Morden  \n",
       "L525    LETTER CXI.           Mr. Lovelace                 John Belford  \n",
       "L526   LETTER CXII.           Mr. Lovelace                 John Belford  \n",
       "L527  LETTER CXIII.       F. J. De la Tour                 John Belford  \n",
       "\n",
       "[527 rows x 6 columns]"
      ]
     },
     "execution_count": 13,
     "metadata": {},
     "output_type": "execute_result"
    }
   ],
   "source": [
    "SC.meta"
   ]
  },
  {
   "cell_type": "code",
   "execution_count": null,
   "metadata": {},
   "outputs": [
    {
     "data": {
      "text/plain": [
       "[TextSectionLetterChadwyck](_epistolary/_chadwyck/Eighteenth-Century_Fiction/richards.01)"
      ]
     },
     "execution_count": 13,
     "metadata": {},
     "output_type": "execute_result"
    }
   ],
   "source": [
    "t=SC.texts()[3]\n",
    "t"
   ]
  },
  {
   "cell_type": "code",
   "execution_count": null,
   "metadata": {},
   "outputs": [
    {
     "data": {
      "text/plain": [
       "{'testing': '', 'id': '_chadwyck/Eighteenth-Century_Fiction/richards.01'}"
      ]
     },
     "execution_count": 14,
     "metadata": {},
     "output_type": "execute_result"
    }
   ],
   "source": [
    "t._meta"
   ]
  },
  {
   "cell_type": "code",
   "execution_count": null,
   "metadata": {},
   "outputs": [
    {
     "data": {
      "text/plain": [
       "{'testing': '', 'id': '_chadwyck/Eighteenth-Century_Fiction/richards.01'}"
      ]
     },
     "execution_count": 15,
     "metadata": {},
     "output_type": "execute_result"
    }
   ],
   "source": [
    "t.meta"
   ]
  },
  {
   "cell_type": "code",
   "execution_count": null,
   "metadata": {},
   "outputs": [
    {
     "data": {
      "text/plain": [
       "{'letter_i': '2',\n",
       " 'id_letter': 'Z300044057',\n",
       " 'txt_front': 'Miss Clarissa Harlowe, To Miss Howe.',\n",
       " 'txt_head': 'LETTER II.',\n",
       " 'sender_tok': 'Miss Clarissa Harlowe',\n",
       " 'recip_tok': 'Miss Howe',\n",
       " 'id': 'L002'}"
      ]
     },
     "execution_count": 7,
     "metadata": {},
     "output_type": "execute_result"
    }
   ],
   "source": [
    "t.meta"
   ]
  },
  {
   "cell_type": "code",
   "execution_count": null,
   "metadata": {},
   "outputs": [
    {
     "data": {
      "text/plain": [
       "{'letter_i': '2',\n",
       " 'id_letter': 'Z300044057',\n",
       " 'txt_front': 'Miss Clarissa Harlowe, To Miss Howe.',\n",
       " 'txt_head': 'LETTER II.',\n",
       " 'sender_tok': 'Miss Clarissa Harlowe',\n",
       " 'recip_tok': 'Miss Howe',\n",
       " 'id': 'L002'}"
      ]
     },
     "execution_count": 8,
     "metadata": {},
     "output_type": "execute_result"
    }
   ],
   "source": [
    "t._meta"
   ]
  },
  {
   "cell_type": "code",
   "execution_count": null,
   "metadata": {},
   "outputs": [],
   "source": [
    "SC.texts()[1].meta"
   ]
  },
  {
   "cell_type": "code",
   "execution_count": null,
   "metadata": {},
   "outputs": [
    {
     "name": "stderr",
     "output_type": "stream",
     "text": [
      "\u001b[36m[13:12:25]\u001b[0m \u001b[34m\u001b[1mlltk.corpus.corpus.load_metadata()\u001b[0m\u001b[36m:245:\u001b[0m Generating metadata dataframe\n",
      "Iterating over texts: 100%|██████████| 527/527 [00:00<00:00, 166671.56it/s]\n",
      "\u001b[36m[13:12:25]\u001b[0m \u001b[34m\u001b[1mlltk.corpus.corpus.load_metadata()\u001b[0m\u001b[36m:255:\u001b[0m Returning dataframe of (527, 6) dimensions\n"
     ]
    },
    {
     "data": {
      "text/html": [
       "<div>\n",
       "<style scoped>\n",
       "    .dataframe tbody tr th:only-of-type {\n",
       "        vertical-align: middle;\n",
       "    }\n",
       "\n",
       "    .dataframe tbody tr th {\n",
       "        vertical-align: top;\n",
       "    }\n",
       "\n",
       "    .dataframe thead th {\n",
       "        text-align: right;\n",
       "    }\n",
       "</style>\n",
       "<table border=\"1\" class=\"dataframe\">\n",
       "  <thead>\n",
       "    <tr style=\"text-align: right;\">\n",
       "      <th></th>\n",
       "      <th>letter_i</th>\n",
       "      <th>id_letter</th>\n",
       "      <th>txt_front</th>\n",
       "      <th>txt_head</th>\n",
       "      <th>sender_tok</th>\n",
       "      <th>recip_tok</th>\n",
       "    </tr>\n",
       "    <tr>\n",
       "      <th>id</th>\n",
       "      <th></th>\n",
       "      <th></th>\n",
       "      <th></th>\n",
       "      <th></th>\n",
       "      <th></th>\n",
       "      <th></th>\n",
       "    </tr>\n",
       "  </thead>\n",
       "  <tbody>\n",
       "    <tr>\n",
       "      <th>L001</th>\n",
       "      <td>1</td>\n",
       "      <td>Z300044056</td>\n",
       "      <td>Miss Anna Howe, To Miss Clarissa | Harlowe.</td>\n",
       "      <td>LETTER I.</td>\n",
       "      <td>Miss Anna Howe</td>\n",
       "      <td>Miss Clarissa Harlowe</td>\n",
       "    </tr>\n",
       "    <tr>\n",
       "      <th>L002</th>\n",
       "      <td>2</td>\n",
       "      <td>Z300044057</td>\n",
       "      <td>Miss Clarissa Harlowe, To Miss Howe.</td>\n",
       "      <td>LETTER II.</td>\n",
       "      <td>Miss Clarissa Harlowe</td>\n",
       "      <td>Miss Howe</td>\n",
       "    </tr>\n",
       "    <tr>\n",
       "      <th>L003</th>\n",
       "      <td>3</td>\n",
       "      <td>Z300044058</td>\n",
       "      <td>Miss Clarissa Harlowe, To Miss Howe.</td>\n",
       "      <td>LETTER III.</td>\n",
       "      <td>Miss Clarissa Harlowe</td>\n",
       "      <td>Miss Howe</td>\n",
       "    </tr>\n",
       "    <tr>\n",
       "      <th>L004</th>\n",
       "      <td>4</td>\n",
       "      <td>Z300044059</td>\n",
       "      <td>Miss Clarissa Harlowe, To Miss Howe.</td>\n",
       "      <td>LETTER IV.</td>\n",
       "      <td>Miss Clarissa Harlowe</td>\n",
       "      <td>Miss Howe</td>\n",
       "    </tr>\n",
       "    <tr>\n",
       "      <th>L005</th>\n",
       "      <td>5</td>\n",
       "      <td>Z300044060</td>\n",
       "      <td>Miss Clarissa Harlowe, To Miss Howe.</td>\n",
       "      <td>LETTER V.</td>\n",
       "      <td>Miss Clarissa Harlowe</td>\n",
       "      <td>Miss Howe</td>\n",
       "    </tr>\n",
       "    <tr>\n",
       "      <th>...</th>\n",
       "      <td>...</td>\n",
       "      <td>...</td>\n",
       "      <td>...</td>\n",
       "      <td>...</td>\n",
       "      <td>...</td>\n",
       "      <td>...</td>\n",
       "    </tr>\n",
       "    <tr>\n",
       "      <th>L523</th>\n",
       "      <td>523</td>\n",
       "      <td>Z300044593</td>\n",
       "      <td>Mr. Belford, To Robert Lovelace, Esq;</td>\n",
       "      <td>LETTER CIX.</td>\n",
       "      <td>Mr. Belford</td>\n",
       "      <td>Robert Lovelace</td>\n",
       "    </tr>\n",
       "    <tr>\n",
       "      <th>L524</th>\n",
       "      <td>524</td>\n",
       "      <td>Z300044594</td>\n",
       "      <td>Mr. Lovelace, To John Belford, Esq; || * * || ...</td>\n",
       "      <td>LETTER CX.</td>\n",
       "      <td>Mr. Lovelace Esq</td>\n",
       "      <td>John Belford William Morden</td>\n",
       "    </tr>\n",
       "    <tr>\n",
       "      <th>L525</th>\n",
       "      <td>525</td>\n",
       "      <td>Z300044595</td>\n",
       "      <td>Mr. Lovelace, To John Belford, Esq; || * * || * *</td>\n",
       "      <td>LETTER CXI.</td>\n",
       "      <td>Mr. Lovelace</td>\n",
       "      <td>John Belford</td>\n",
       "    </tr>\n",
       "    <tr>\n",
       "      <th>L526</th>\n",
       "      <td>526</td>\n",
       "      <td>Z300044596</td>\n",
       "      <td>Mr. Lovelace, To John Belford, Esq;</td>\n",
       "      <td>LETTER CXII.</td>\n",
       "      <td>Mr. Lovelace</td>\n",
       "      <td>John Belford</td>\n",
       "    </tr>\n",
       "    <tr>\n",
       "      <th>L527</th>\n",
       "      <td>527</td>\n",
       "      <td>Z300044597</td>\n",
       "      <td>Translation of a Letter from F. J. De la Tour....</td>\n",
       "      <td>LETTER CXIII.</td>\n",
       "      <td>F. J. De la Tour</td>\n",
       "      <td>John Belford</td>\n",
       "    </tr>\n",
       "  </tbody>\n",
       "</table>\n",
       "<p>527 rows × 6 columns</p>\n",
       "</div>"
      ],
      "text/plain": [
       "     letter_i   id_letter                                          txt_front  \\\n",
       "id                                                                             \n",
       "L001        1  Z300044056        Miss Anna Howe, To Miss Clarissa | Harlowe.   \n",
       "L002        2  Z300044057               Miss Clarissa Harlowe, To Miss Howe.   \n",
       "L003        3  Z300044058               Miss Clarissa Harlowe, To Miss Howe.   \n",
       "L004        4  Z300044059               Miss Clarissa Harlowe, To Miss Howe.   \n",
       "L005        5  Z300044060               Miss Clarissa Harlowe, To Miss Howe.   \n",
       "...       ...         ...                                                ...   \n",
       "L523      523  Z300044593              Mr. Belford, To Robert Lovelace, Esq;   \n",
       "L524      524  Z300044594  Mr. Lovelace, To John Belford, Esq; || * * || ...   \n",
       "L525      525  Z300044595  Mr. Lovelace, To John Belford, Esq; || * * || * *   \n",
       "L526      526  Z300044596                Mr. Lovelace, To John Belford, Esq;   \n",
       "L527      527  Z300044597  Translation of a Letter from F. J. De la Tour....   \n",
       "\n",
       "           txt_head             sender_tok                    recip_tok  \n",
       "id                                                                       \n",
       "L001      LETTER I.         Miss Anna Howe        Miss Clarissa Harlowe  \n",
       "L002     LETTER II.  Miss Clarissa Harlowe                    Miss Howe  \n",
       "L003    LETTER III.  Miss Clarissa Harlowe                    Miss Howe  \n",
       "L004     LETTER IV.  Miss Clarissa Harlowe                    Miss Howe  \n",
       "L005      LETTER V.  Miss Clarissa Harlowe                    Miss Howe  \n",
       "...             ...                    ...                          ...  \n",
       "L523    LETTER CIX.            Mr. Belford              Robert Lovelace  \n",
       "L524     LETTER CX.       Mr. Lovelace Esq  John Belford William Morden  \n",
       "L525    LETTER CXI.           Mr. Lovelace                 John Belford  \n",
       "L526   LETTER CXII.           Mr. Lovelace                 John Belford  \n",
       "L527  LETTER CXIII.       F. J. De la Tour                 John Belford  \n",
       "\n",
       "[527 rows x 6 columns]"
      ]
     },
     "execution_count": 9,
     "metadata": {},
     "output_type": "execute_result"
    }
   ],
   "source": [
    "SC.load_metadata(progress=True)"
   ]
  },
  {
   "cell_type": "code",
   "execution_count": null,
   "metadata": {},
   "outputs": [
    {
     "name": "stdout",
     "output_type": "stream",
     "text": [
      "Saved: /Users/ryan/lltk_data/corpora/epistolary/texts/_chadwyck/EighteenthCentury_Fiction/richards01/sections/metadata.csv\n"
     ]
    }
   ],
   "source": [
    "SC.save_metadata()"
   ]
  },
  {
   "cell_type": "code",
   "execution_count": null,
   "metadata": {},
   "outputs": [
    {
     "name": "stdout",
     "output_type": "stream",
     "text": [
      "Saved: /Users/ryan/lltk_data/corpora/epistolary/texts/_chadwyck/EighteenthCentury_Fiction/richards01/sections/metadata.csv\n"
     ]
    }
   ],
   "source": [
    "SC.save_metadata()"
   ]
  },
  {
   "cell_type": "code",
   "execution_count": null,
   "metadata": {},
   "outputs": [
    {
     "data": {
      "text/html": [
       "<div>\n",
       "<style scoped>\n",
       "    .dataframe tbody tr th:only-of-type {\n",
       "        vertical-align: middle;\n",
       "    }\n",
       "\n",
       "    .dataframe tbody tr th {\n",
       "        vertical-align: top;\n",
       "    }\n",
       "\n",
       "    .dataframe thead th {\n",
       "        text-align: right;\n",
       "    }\n",
       "</style>\n",
       "<table border=\"1\" class=\"dataframe\">\n",
       "  <thead>\n",
       "    <tr style=\"text-align: right;\">\n",
       "      <th></th>\n",
       "      <th>id</th>\n",
       "      <th>letter_i</th>\n",
       "      <th>id_letter</th>\n",
       "      <th>txt_front</th>\n",
       "      <th>txt_head</th>\n",
       "      <th>sender_tok</th>\n",
       "      <th>recip_tok</th>\n",
       "    </tr>\n",
       "  </thead>\n",
       "  <tbody>\n",
       "    <tr>\n",
       "      <th>0</th>\n",
       "      <td>L001</td>\n",
       "      <td>1</td>\n",
       "      <td>Z300044056</td>\n",
       "      <td>Miss Anna Howe, To Miss Clarissa | Harlowe.</td>\n",
       "      <td>LETTER I.</td>\n",
       "      <td>Miss Anna Howe</td>\n",
       "      <td>Miss Clarissa Harlowe</td>\n",
       "    </tr>\n",
       "    <tr>\n",
       "      <th>1</th>\n",
       "      <td>L002</td>\n",
       "      <td>2</td>\n",
       "      <td>Z300044057</td>\n",
       "      <td>Miss Clarissa Harlowe, To Miss Howe.</td>\n",
       "      <td>LETTER II.</td>\n",
       "      <td>Miss Clarissa Harlowe</td>\n",
       "      <td>Miss Howe</td>\n",
       "    </tr>\n",
       "    <tr>\n",
       "      <th>2</th>\n",
       "      <td>L003</td>\n",
       "      <td>3</td>\n",
       "      <td>Z300044058</td>\n",
       "      <td>Miss Clarissa Harlowe, To Miss Howe.</td>\n",
       "      <td>LETTER III.</td>\n",
       "      <td>Miss Clarissa Harlowe</td>\n",
       "      <td>Miss Howe</td>\n",
       "    </tr>\n",
       "    <tr>\n",
       "      <th>3</th>\n",
       "      <td>L004</td>\n",
       "      <td>4</td>\n",
       "      <td>Z300044059</td>\n",
       "      <td>Miss Clarissa Harlowe, To Miss Howe.</td>\n",
       "      <td>LETTER IV.</td>\n",
       "      <td>Miss Clarissa Harlowe</td>\n",
       "      <td>Miss Howe</td>\n",
       "    </tr>\n",
       "    <tr>\n",
       "      <th>4</th>\n",
       "      <td>L005</td>\n",
       "      <td>5</td>\n",
       "      <td>Z300044060</td>\n",
       "      <td>Miss Clarissa Harlowe, To Miss Howe.</td>\n",
       "      <td>LETTER V.</td>\n",
       "      <td>Miss Clarissa Harlowe</td>\n",
       "      <td>Miss Howe</td>\n",
       "    </tr>\n",
       "    <tr>\n",
       "      <th>...</th>\n",
       "      <td>...</td>\n",
       "      <td>...</td>\n",
       "      <td>...</td>\n",
       "      <td>...</td>\n",
       "      <td>...</td>\n",
       "      <td>...</td>\n",
       "      <td>...</td>\n",
       "    </tr>\n",
       "    <tr>\n",
       "      <th>522</th>\n",
       "      <td>L523</td>\n",
       "      <td>523</td>\n",
       "      <td>Z300044593</td>\n",
       "      <td>Mr. Belford, To Robert Lovelace, Esq;</td>\n",
       "      <td>LETTER CIX.</td>\n",
       "      <td>Mr. Belford</td>\n",
       "      <td>Robert Lovelace</td>\n",
       "    </tr>\n",
       "    <tr>\n",
       "      <th>523</th>\n",
       "      <td>L524</td>\n",
       "      <td>524</td>\n",
       "      <td>Z300044594</td>\n",
       "      <td>Mr. Lovelace, To John Belford, Esq; || * * || ...</td>\n",
       "      <td>LETTER CX.</td>\n",
       "      <td>Mr. Lovelace Esq</td>\n",
       "      <td>John Belford William Morden</td>\n",
       "    </tr>\n",
       "    <tr>\n",
       "      <th>524</th>\n",
       "      <td>L525</td>\n",
       "      <td>525</td>\n",
       "      <td>Z300044595</td>\n",
       "      <td>Mr. Lovelace, To John Belford, Esq; || * * || * *</td>\n",
       "      <td>LETTER CXI.</td>\n",
       "      <td>Mr. Lovelace</td>\n",
       "      <td>John Belford</td>\n",
       "    </tr>\n",
       "    <tr>\n",
       "      <th>525</th>\n",
       "      <td>L526</td>\n",
       "      <td>526</td>\n",
       "      <td>Z300044596</td>\n",
       "      <td>Mr. Lovelace, To John Belford, Esq;</td>\n",
       "      <td>LETTER CXII.</td>\n",
       "      <td>Mr. Lovelace</td>\n",
       "      <td>John Belford</td>\n",
       "    </tr>\n",
       "    <tr>\n",
       "      <th>526</th>\n",
       "      <td>L527</td>\n",
       "      <td>527</td>\n",
       "      <td>Z300044597</td>\n",
       "      <td>Translation of a Letter from F. J. De la Tour....</td>\n",
       "      <td>LETTER CXIII.</td>\n",
       "      <td>F. J. De la Tour</td>\n",
       "      <td>John Belford</td>\n",
       "    </tr>\n",
       "  </tbody>\n",
       "</table>\n",
       "<p>527 rows × 7 columns</p>\n",
       "</div>"
      ],
      "text/plain": [
       "       id  letter_i   id_letter  \\\n",
       "0    L001         1  Z300044056   \n",
       "1    L002         2  Z300044057   \n",
       "2    L003         3  Z300044058   \n",
       "3    L004         4  Z300044059   \n",
       "4    L005         5  Z300044060   \n",
       "..    ...       ...         ...   \n",
       "522  L523       523  Z300044593   \n",
       "523  L524       524  Z300044594   \n",
       "524  L525       525  Z300044595   \n",
       "525  L526       526  Z300044596   \n",
       "526  L527       527  Z300044597   \n",
       "\n",
       "                                             txt_front       txt_head  \\\n",
       "0          Miss Anna Howe, To Miss Clarissa | Harlowe.      LETTER I.   \n",
       "1                 Miss Clarissa Harlowe, To Miss Howe.     LETTER II.   \n",
       "2                 Miss Clarissa Harlowe, To Miss Howe.    LETTER III.   \n",
       "3                 Miss Clarissa Harlowe, To Miss Howe.     LETTER IV.   \n",
       "4                 Miss Clarissa Harlowe, To Miss Howe.      LETTER V.   \n",
       "..                                                 ...            ...   \n",
       "522              Mr. Belford, To Robert Lovelace, Esq;    LETTER CIX.   \n",
       "523  Mr. Lovelace, To John Belford, Esq; || * * || ...     LETTER CX.   \n",
       "524  Mr. Lovelace, To John Belford, Esq; || * * || * *    LETTER CXI.   \n",
       "525                Mr. Lovelace, To John Belford, Esq;   LETTER CXII.   \n",
       "526  Translation of a Letter from F. J. De la Tour....  LETTER CXIII.   \n",
       "\n",
       "                sender_tok                    recip_tok  \n",
       "0           Miss Anna Howe        Miss Clarissa Harlowe  \n",
       "1    Miss Clarissa Harlowe                    Miss Howe  \n",
       "2    Miss Clarissa Harlowe                    Miss Howe  \n",
       "3    Miss Clarissa Harlowe                    Miss Howe  \n",
       "4    Miss Clarissa Harlowe                    Miss Howe  \n",
       "..                     ...                          ...  \n",
       "522            Mr. Belford              Robert Lovelace  \n",
       "523       Mr. Lovelace Esq  John Belford William Morden  \n",
       "524           Mr. Lovelace                 John Belford  \n",
       "525           Mr. Lovelace                 John Belford  \n",
       "526       F. J. De la Tour                 John Belford  \n",
       "\n",
       "[527 rows x 7 columns]"
      ]
     },
     "execution_count": 13,
     "metadata": {},
     "output_type": "execute_result"
    }
   ],
   "source": [
    "read_df(SC.path_metadata)"
   ]
  },
  {
   "cell_type": "code",
   "execution_count": null,
   "metadata": {},
   "outputs": [],
   "source": [
    "super(SectionCorpusLetterChadwyck, SC).__init__()"
   ]
  },
  {
   "cell_type": "code",
   "execution_count": null,
   "metadata": {},
   "outputs": [],
   "source": [
    "super(SectionCorpusLetterChadwyck, SC).__init__"
   ]
  },
  {
   "cell_type": "code",
   "execution_count": null,
   "metadata": {},
   "outputs": [],
   "source": [
    "super(SC).__init__"
   ]
  },
  {
   "cell_type": "code",
   "execution_count": null,
   "metadata": {},
   "outputs": [
    {
     "name": "stderr",
     "output_type": "stream",
     "text": [
      "\u001b[36m[17:34:58]\u001b[0m \u001b[34m\u001b[1mlltk.corpus.corpus.load_metadata()\u001b[0m\u001b[36m:245:\u001b[0m Generating metadata dataframe\n",
      "Iterating over texts:   7%|▋         | 39/527 [00:11<02:00,  4.04it/s]"
     ]
    },
    {
     "ename": "KeyboardInterrupt",
     "evalue": "",
     "output_type": "error",
     "traceback": [
      "\u001b[0;31m---------------------------------------------------------------------------\u001b[0m",
      "\u001b[0;31mKeyboardInterrupt\u001b[0m                         Traceback (most recent call last)",
      "\u001b[1;32m/Users/ryan/github/lltk/lltk/corpus/epistolary/test_epistolary.ipynb Cell 4'\u001b[0m in \u001b[0;36m<module>\u001b[0;34m\u001b[0m\n\u001b[0;32m----> <a href='vscode-notebook-cell:/Users/ryan/github/lltk/lltk/corpus/epistolary/test_epistolary.ipynb#ch0000014?line=0'>1</a>\u001b[0m SC\u001b[39m.\u001b[39;49mload_metadata(progress\u001b[39m=\u001b[39;49m\u001b[39mTrue\u001b[39;49;00m,lim\u001b[39m=\u001b[39;49m\u001b[39mNone\u001b[39;49;00m)\n",
      "File \u001b[0;32m~/github/lltk/lltk/corpus/corpus.py:246\u001b[0m, in \u001b[0;36mBaseCorpus.load_metadata\u001b[0;34m(self, force, progress, lim, **kwargs)\u001b[0m\n\u001b[1;32m    <a href='file:///Users/ryan/github/lltk/lltk/corpus/corpus.py?line=243'>244</a>\u001b[0m \u001b[39mif\u001b[39;00m force \u001b[39mor\u001b[39;00m \u001b[39mself\u001b[39m\u001b[39m.\u001b[39m_metadf \u001b[39mis\u001b[39;00m \u001b[39mNone\u001b[39;00m:\n\u001b[1;32m    <a href='file:///Users/ryan/github/lltk/lltk/corpus/corpus.py?line=244'>245</a>\u001b[0m     log\u001b[39m.\u001b[39mdebug(\u001b[39m'\u001b[39m\u001b[39mGenerating metadata dataframe\u001b[39m\u001b[39m'\u001b[39m)\n\u001b[0;32m--> <a href='file:///Users/ryan/github/lltk/lltk/corpus/corpus.py?line=245'>246</a>\u001b[0m     \u001b[39mself\u001b[39m\u001b[39m.\u001b[39m_metadf \u001b[39m=\u001b[39m pd\u001b[39m.\u001b[39;49mDataFrame(\n\u001b[1;32m    <a href='file:///Users/ryan/github/lltk/lltk/corpus/corpus.py?line=246'>247</a>\u001b[0m         t\u001b[39m.\u001b[39;49mmeta\n\u001b[1;32m    <a href='file:///Users/ryan/github/lltk/lltk/corpus/corpus.py?line=247'>248</a>\u001b[0m         \u001b[39mfor\u001b[39;49;00m t \u001b[39min\u001b[39;49;00m tqdm(\u001b[39mself\u001b[39;49m\u001b[39m.\u001b[39;49mtexts()[:lim],disable\u001b[39m=\u001b[39;49m\u001b[39mnot\u001b[39;49;00m progress,desc\u001b[39m=\u001b[39;49m\u001b[39m'\u001b[39;49m\u001b[39mIterating over texts\u001b[39;49m\u001b[39m'\u001b[39;49m)\n\u001b[1;32m    <a href='file:///Users/ryan/github/lltk/lltk/corpus/corpus.py?line=248'>249</a>\u001b[0m     )\n\u001b[1;32m    <a href='file:///Users/ryan/github/lltk/lltk/corpus/corpus.py?line=249'>250</a>\u001b[0m     \u001b[39mtry\u001b[39;00m:\n\u001b[1;32m    <a href='file:///Users/ryan/github/lltk/lltk/corpus/corpus.py?line=250'>251</a>\u001b[0m         \u001b[39mself\u001b[39m\u001b[39m.\u001b[39m_metadf \u001b[39m=\u001b[39m \u001b[39mself\u001b[39m\u001b[39m.\u001b[39m_metadf\u001b[39m.\u001b[39mset_index(\u001b[39mself\u001b[39m\u001b[39m.\u001b[39mcol_id)                \n",
      "File \u001b[0;32m~/miniforge3/lib/python3.9/site-packages/pandas/core/frame.py:710\u001b[0m, in \u001b[0;36mDataFrame.__init__\u001b[0;34m(self, data, index, columns, dtype, copy)\u001b[0m\n\u001b[1;32m    <a href='file:///Users/ryan/miniforge3/lib/python3.9/site-packages/pandas/core/frame.py?line=707'>708</a>\u001b[0m         data \u001b[39m=\u001b[39m np\u001b[39m.\u001b[39masarray(data)\n\u001b[1;32m    <a href='file:///Users/ryan/miniforge3/lib/python3.9/site-packages/pandas/core/frame.py?line=708'>709</a>\u001b[0m     \u001b[39melse\u001b[39;00m:\n\u001b[0;32m--> <a href='file:///Users/ryan/miniforge3/lib/python3.9/site-packages/pandas/core/frame.py?line=709'>710</a>\u001b[0m         data \u001b[39m=\u001b[39m \u001b[39mlist\u001b[39;49m(data)\n\u001b[1;32m    <a href='file:///Users/ryan/miniforge3/lib/python3.9/site-packages/pandas/core/frame.py?line=710'>711</a>\u001b[0m \u001b[39mif\u001b[39;00m \u001b[39mlen\u001b[39m(data) \u001b[39m>\u001b[39m \u001b[39m0\u001b[39m:\n\u001b[1;32m    <a href='file:///Users/ryan/miniforge3/lib/python3.9/site-packages/pandas/core/frame.py?line=711'>712</a>\u001b[0m     \u001b[39mif\u001b[39;00m is_dataclass(data[\u001b[39m0\u001b[39m]):\n",
      "File \u001b[0;32m~/github/lltk/lltk/corpus/corpus.py:247\u001b[0m, in \u001b[0;36m<genexpr>\u001b[0;34m(.0)\u001b[0m\n\u001b[1;32m    <a href='file:///Users/ryan/github/lltk/lltk/corpus/corpus.py?line=243'>244</a>\u001b[0m \u001b[39mif\u001b[39;00m force \u001b[39mor\u001b[39;00m \u001b[39mself\u001b[39m\u001b[39m.\u001b[39m_metadf \u001b[39mis\u001b[39;00m \u001b[39mNone\u001b[39;00m:\n\u001b[1;32m    <a href='file:///Users/ryan/github/lltk/lltk/corpus/corpus.py?line=244'>245</a>\u001b[0m     log\u001b[39m.\u001b[39mdebug(\u001b[39m'\u001b[39m\u001b[39mGenerating metadata dataframe\u001b[39m\u001b[39m'\u001b[39m)\n\u001b[1;32m    <a href='file:///Users/ryan/github/lltk/lltk/corpus/corpus.py?line=245'>246</a>\u001b[0m     \u001b[39mself\u001b[39m\u001b[39m.\u001b[39m_metadf \u001b[39m=\u001b[39m pd\u001b[39m.\u001b[39mDataFrame(\n\u001b[0;32m--> <a href='file:///Users/ryan/github/lltk/lltk/corpus/corpus.py?line=246'>247</a>\u001b[0m         t\u001b[39m.\u001b[39;49mmeta\n\u001b[1;32m    <a href='file:///Users/ryan/github/lltk/lltk/corpus/corpus.py?line=247'>248</a>\u001b[0m         \u001b[39mfor\u001b[39;00m t \u001b[39min\u001b[39;00m tqdm(\u001b[39mself\u001b[39m\u001b[39m.\u001b[39mtexts()[:lim],disable\u001b[39m=\u001b[39m\u001b[39mnot\u001b[39;00m progress,desc\u001b[39m=\u001b[39m\u001b[39m'\u001b[39m\u001b[39mIterating over texts\u001b[39m\u001b[39m'\u001b[39m)\n\u001b[1;32m    <a href='file:///Users/ryan/github/lltk/lltk/corpus/corpus.py?line=248'>249</a>\u001b[0m     )\n\u001b[1;32m    <a href='file:///Users/ryan/github/lltk/lltk/corpus/corpus.py?line=249'>250</a>\u001b[0m     \u001b[39mtry\u001b[39;00m:\n\u001b[1;32m    <a href='file:///Users/ryan/github/lltk/lltk/corpus/corpus.py?line=250'>251</a>\u001b[0m         \u001b[39mself\u001b[39m\u001b[39m.\u001b[39m_metadf \u001b[39m=\u001b[39m \u001b[39mself\u001b[39m\u001b[39m.\u001b[39m_metadf\u001b[39m.\u001b[39mset_index(\u001b[39mself\u001b[39m\u001b[39m.\u001b[39mcol_id)                \n",
      "File \u001b[0;32m~/github/lltk/lltk/corpus/epistolary/epistolary.py:108\u001b[0m, in \u001b[0;36mTextSectionLetterChadwyck.meta\u001b[0;34m(self)\u001b[0m\n\u001b[1;32m    <a href='file:///Users/ryan/github/lltk/lltk/corpus/epistolary/epistolary.py?line=102'>103</a>\u001b[0m meta[\u001b[39m'\u001b[39m\u001b[39mletter_i\u001b[39m\u001b[39m'\u001b[39m]\u001b[39m=\u001b[39m\u001b[39mself\u001b[39m\u001b[39m.\u001b[39mletter_i\n\u001b[1;32m    <a href='file:///Users/ryan/github/lltk/lltk/corpus/epistolary/epistolary.py?line=104'>105</a>\u001b[0m \u001b[39m## deduce recips?\u001b[39;00m\n\u001b[1;32m    <a href='file:///Users/ryan/github/lltk/lltk/corpus/epistolary/epistolary.py?line=105'>106</a>\u001b[0m \n\u001b[1;32m    <a href='file:///Users/ryan/github/lltk/lltk/corpus/epistolary/epistolary.py?line=106'>107</a>\u001b[0m \u001b[39m# meta['sender_tok'], meta['recip_tok'] = self.deduce_recip(meta)\u001b[39;00m\n\u001b[0;32m--> <a href='file:///Users/ryan/github/lltk/lltk/corpus/epistolary/epistolary.py?line=107'>108</a>\u001b[0m \u001b[39mself\u001b[39;49m\u001b[39m.\u001b[39;49mdeduce_recip(meta)\n\u001b[1;32m    <a href='file:///Users/ryan/github/lltk/lltk/corpus/epistolary/epistolary.py?line=109'>110</a>\u001b[0m meta[\u001b[39m'\u001b[39m\u001b[39mid\u001b[39m\u001b[39m'\u001b[39m]\u001b[39m=\u001b[39m\u001b[39mself\u001b[39m\u001b[39m.\u001b[39mid\n\u001b[1;32m    <a href='file:///Users/ryan/github/lltk/lltk/corpus/epistolary/epistolary.py?line=110'>111</a>\u001b[0m \u001b[39mself\u001b[39m\u001b[39m.\u001b[39m_meta_\u001b[39m=\u001b[39mmeta\n",
      "File \u001b[0;32m~/github/lltk/lltk/corpus/epistolary/epistolary.py:62\u001b[0m, in \u001b[0;36mTextSectionLetter.deduce_recip\u001b[0;34m(self, meta, keys)\u001b[0m\n\u001b[1;32m     <a href='file:///Users/ryan/github/lltk/lltk/corpus/epistolary/epistolary.py?line=59'>60</a>\u001b[0m sender,recip \u001b[39m=\u001b[39m \u001b[39m'\u001b[39m\u001b[39m'\u001b[39m,\u001b[39m'\u001b[39m\u001b[39m'\u001b[39m\n\u001b[1;32m     <a href='file:///Users/ryan/github/lltk/lltk/corpus/epistolary/epistolary.py?line=60'>61</a>\u001b[0m \u001b[39mif\u001b[39;00m \u001b[39mnot\u001b[39;00m ltr_meta\u001b[39m.\u001b[39mget(\u001b[39m'\u001b[39m\u001b[39msender_tok\u001b[39m\u001b[39m'\u001b[39m):\n\u001b[0;32m---> <a href='file:///Users/ryan/github/lltk/lltk/corpus/epistolary/epistolary.py?line=61'>62</a>\u001b[0m     \u001b[39mif\u001b[39;00m byline_sentdf \u001b[39mis\u001b[39;00m \u001b[39mNone\u001b[39;00m: byline_sentdf \u001b[39m=\u001b[39m deduce_recip(txt)\n\u001b[1;32m     <a href='file:///Users/ryan/github/lltk/lltk/corpus/epistolary/epistolary.py?line=62'>63</a>\u001b[0m     \u001b[39mif\u001b[39;00m \u001b[39m'\u001b[39m\u001b[39mepistolary_role\u001b[39m\u001b[39m'\u001b[39m \u001b[39min\u001b[39;00m \u001b[39mset\u001b[39m(byline_sentdf\u001b[39m.\u001b[39mcolumns):\n\u001b[1;32m     <a href='file:///Users/ryan/github/lltk/lltk/corpus/epistolary/epistolary.py?line=63'>64</a>\u001b[0m         sender\u001b[39m=\u001b[39m\u001b[39m'\u001b[39m\u001b[39m \u001b[39m\u001b[39m'\u001b[39m\u001b[39m.\u001b[39mjoin(byline_sentdf[byline_sentdf\u001b[39m.\u001b[39mepistolary_role\u001b[39m==\u001b[39m\u001b[39m'\u001b[39m\u001b[39msender\u001b[39m\u001b[39m'\u001b[39m]\u001b[39m.\u001b[39mtext)\n",
      "File \u001b[0;32m~/github/lltk/lltk/corpus/epistolary/epistolary.py:208\u001b[0m, in \u001b[0;36mdeduce_recip\u001b[0;34m(txt, recip_words, sender_words)\u001b[0m\n\u001b[1;32m    <a href='file:///Users/ryan/github/lltk/lltk/corpus/epistolary/epistolary.py?line=205'>206</a>\u001b[0m \u001b[39mdef\u001b[39;00m \u001b[39mdeduce_recip\u001b[39m(txt,recip_words\u001b[39m=\u001b[39m{\u001b[39m'\u001b[39m\u001b[39mto\u001b[39m\u001b[39m'\u001b[39m},sender_words\u001b[39m=\u001b[39m{\u001b[39m'\u001b[39m\u001b[39mfrom\u001b[39m\u001b[39m'\u001b[39m}):\n\u001b[1;32m    <a href='file:///Users/ryan/github/lltk/lltk/corpus/epistolary/epistolary.py?line=206'>207</a>\u001b[0m     \u001b[39mfrom\u001b[39;00m \u001b[39mlltk\u001b[39;00m\u001b[39m.\u001b[39;00m\u001b[39mmodel\u001b[39;00m\u001b[39m.\u001b[39;00m\u001b[39mner\u001b[39;00m \u001b[39mimport\u001b[39;00m get_ner_sentdf\n\u001b[0;32m--> <a href='file:///Users/ryan/github/lltk/lltk/corpus/epistolary/epistolary.py?line=207'>208</a>\u001b[0m     sentdf\u001b[39m=\u001b[39mget_ner_sentdf(txt)\n\u001b[1;32m    <a href='file:///Users/ryan/github/lltk/lltk/corpus/epistolary/epistolary.py?line=208'>209</a>\u001b[0m     groupd\u001b[39m=\u001b[39m{}\n\u001b[1;32m    <a href='file:///Users/ryan/github/lltk/lltk/corpus/epistolary/epistolary.py?line=209'>210</a>\u001b[0m     o\u001b[39m=\u001b[39m[]\n",
      "File \u001b[0;32m~/github/lltk/lltk/model/ner.py:232\u001b[0m, in \u001b[0;36mget_ner_sentdf\u001b[0;34m(doc)\u001b[0m\n\u001b[1;32m    <a href='file:///Users/ryan/github/lltk/lltk/model/ner.py?line=230'>231</a>\u001b[0m \u001b[39mdef\u001b[39;00m \u001b[39mget_ner_sentdf\u001b[39m(doc):\n\u001b[0;32m--> <a href='file:///Users/ryan/github/lltk/lltk/model/ner.py?line=231'>232</a>\u001b[0m     doc\u001b[39m=\u001b[39mnlp_ner_get_doc(doc)\n\u001b[1;32m    <a href='file:///Users/ryan/github/lltk/lltk/model/ner.py?line=233'>234</a>\u001b[0m     sents\u001b[39m=\u001b[39m[]\n\u001b[1;32m    <a href='file:///Users/ryan/github/lltk/lltk/model/ner.py?line=234'>235</a>\u001b[0m     \u001b[39mfor\u001b[39;00m sent \u001b[39min\u001b[39;00m doc\u001b[39m.\u001b[39msentences:\n",
      "File \u001b[0;32m~/github/lltk/lltk/model/ner.py:208\u001b[0m, in \u001b[0;36mnlp_ner_get_doc\u001b[0;34m(txt)\u001b[0m\n\u001b[1;32m    <a href='file:///Users/ryan/github/lltk/lltk/model/ner.py?line=205'>206</a>\u001b[0m \u001b[39mif\u001b[39;00m \u001b[39mtype\u001b[39m(txt)\u001b[39m!=\u001b[39m\u001b[39mstr\u001b[39m: \u001b[39mreturn\u001b[39;00m txt\n\u001b[1;32m    <a href='file:///Users/ryan/github/lltk/lltk/model/ner.py?line=206'>207</a>\u001b[0m nlp \u001b[39m=\u001b[39m nlp_ner_stanza()\n\u001b[0;32m--> <a href='file:///Users/ryan/github/lltk/lltk/model/ner.py?line=207'>208</a>\u001b[0m doc \u001b[39m=\u001b[39m nlp(txt)\n\u001b[1;32m    <a href='file:///Users/ryan/github/lltk/lltk/model/ner.py?line=208'>209</a>\u001b[0m \u001b[39mreturn\u001b[39;00m doc\n",
      "File \u001b[0;32m~/miniforge3/lib/python3.9/site-packages/stanza/pipeline/core.py:231\u001b[0m, in \u001b[0;36mPipeline.__call__\u001b[0;34m(self, doc)\u001b[0m\n\u001b[1;32m    <a href='file:///Users/ryan/miniforge3/lib/python3.9/site-packages/stanza/pipeline/core.py?line=227'>228</a>\u001b[0m \u001b[39mdef\u001b[39;00m \u001b[39m__call__\u001b[39m(\u001b[39mself\u001b[39m, doc):\n\u001b[1;32m    <a href='file:///Users/ryan/miniforge3/lib/python3.9/site-packages/stanza/pipeline/core.py?line=228'>229</a>\u001b[0m     \u001b[39massert\u001b[39;00m \u001b[39many\u001b[39m([\u001b[39misinstance\u001b[39m(doc, \u001b[39mstr\u001b[39m), \u001b[39misinstance\u001b[39m(doc, \u001b[39mlist\u001b[39m),\n\u001b[1;32m    <a href='file:///Users/ryan/miniforge3/lib/python3.9/site-packages/stanza/pipeline/core.py?line=229'>230</a>\u001b[0m                 \u001b[39misinstance\u001b[39m(doc, Document)]), \u001b[39m'\u001b[39m\u001b[39minput should be either str, list or Document\u001b[39m\u001b[39m'\u001b[39m\n\u001b[0;32m--> <a href='file:///Users/ryan/miniforge3/lib/python3.9/site-packages/stanza/pipeline/core.py?line=230'>231</a>\u001b[0m     doc \u001b[39m=\u001b[39m \u001b[39mself\u001b[39;49m\u001b[39m.\u001b[39;49mprocess(doc)\n\u001b[1;32m    <a href='file:///Users/ryan/miniforge3/lib/python3.9/site-packages/stanza/pipeline/core.py?line=231'>232</a>\u001b[0m     \u001b[39mreturn\u001b[39;00m doc\n",
      "File \u001b[0;32m~/miniforge3/lib/python3.9/site-packages/stanza/pipeline/core.py:225\u001b[0m, in \u001b[0;36mPipeline.process\u001b[0;34m(self, doc)\u001b[0m\n\u001b[1;32m    <a href='file:///Users/ryan/miniforge3/lib/python3.9/site-packages/stanza/pipeline/core.py?line=222'>223</a>\u001b[0m     \u001b[39mif\u001b[39;00m \u001b[39mself\u001b[39m\u001b[39m.\u001b[39mprocessors\u001b[39m.\u001b[39mget(processor_name):\n\u001b[1;32m    <a href='file:///Users/ryan/miniforge3/lib/python3.9/site-packages/stanza/pipeline/core.py?line=223'>224</a>\u001b[0m         process \u001b[39m=\u001b[39m \u001b[39mself\u001b[39m\u001b[39m.\u001b[39mprocessors[processor_name]\u001b[39m.\u001b[39mbulk_process \u001b[39mif\u001b[39;00m bulk \u001b[39melse\u001b[39;00m \u001b[39mself\u001b[39m\u001b[39m.\u001b[39mprocessors[processor_name]\u001b[39m.\u001b[39mprocess\n\u001b[0;32m--> <a href='file:///Users/ryan/miniforge3/lib/python3.9/site-packages/stanza/pipeline/core.py?line=224'>225</a>\u001b[0m         doc \u001b[39m=\u001b[39m process(doc)\n\u001b[1;32m    <a href='file:///Users/ryan/miniforge3/lib/python3.9/site-packages/stanza/pipeline/core.py?line=225'>226</a>\u001b[0m \u001b[39mreturn\u001b[39;00m doc\n",
      "File \u001b[0;32m~/miniforge3/lib/python3.9/site-packages/stanza/pipeline/pos_processor.py:41\u001b[0m, in \u001b[0;36mPOSProcessor.process\u001b[0;34m(self, document)\u001b[0m\n\u001b[1;32m     <a href='file:///Users/ryan/miniforge3/lib/python3.9/site-packages/stanza/pipeline/pos_processor.py?line=38'>39</a>\u001b[0m \u001b[39melse\u001b[39;00m:\n\u001b[1;32m     <a href='file:///Users/ryan/miniforge3/lib/python3.9/site-packages/stanza/pipeline/pos_processor.py?line=39'>40</a>\u001b[0m     \u001b[39mfor\u001b[39;00m i, b \u001b[39min\u001b[39;00m \u001b[39menumerate\u001b[39m(batch):\n\u001b[0;32m---> <a href='file:///Users/ryan/miniforge3/lib/python3.9/site-packages/stanza/pipeline/pos_processor.py?line=40'>41</a>\u001b[0m         preds \u001b[39m+\u001b[39m\u001b[39m=\u001b[39m \u001b[39mself\u001b[39;49m\u001b[39m.\u001b[39;49mtrainer\u001b[39m.\u001b[39;49mpredict(b)\n\u001b[1;32m     <a href='file:///Users/ryan/miniforge3/lib/python3.9/site-packages/stanza/pipeline/pos_processor.py?line=42'>43</a>\u001b[0m preds \u001b[39m=\u001b[39m unsort(preds, batch\u001b[39m.\u001b[39mdata_orig_idx)\n\u001b[1;32m     <a href='file:///Users/ryan/miniforge3/lib/python3.9/site-packages/stanza/pipeline/pos_processor.py?line=43'>44</a>\u001b[0m batch\u001b[39m.\u001b[39mdoc\u001b[39m.\u001b[39mset([doc\u001b[39m.\u001b[39mUPOS, doc\u001b[39m.\u001b[39mXPOS, doc\u001b[39m.\u001b[39mFEATS], [y \u001b[39mfor\u001b[39;00m x \u001b[39min\u001b[39;00m preds \u001b[39mfor\u001b[39;00m y \u001b[39min\u001b[39;00m x])\n",
      "File \u001b[0;32m~/miniforge3/lib/python3.9/site-packages/stanza/models/pos/trainer.py:73\u001b[0m, in \u001b[0;36mTrainer.predict\u001b[0;34m(self, batch, unsort)\u001b[0m\n\u001b[1;32m     <a href='file:///Users/ryan/miniforge3/lib/python3.9/site-packages/stanza/models/pos/trainer.py?line=70'>71</a>\u001b[0m \u001b[39mself\u001b[39m\u001b[39m.\u001b[39mmodel\u001b[39m.\u001b[39meval()\n\u001b[1;32m     <a href='file:///Users/ryan/miniforge3/lib/python3.9/site-packages/stanza/models/pos/trainer.py?line=71'>72</a>\u001b[0m batch_size \u001b[39m=\u001b[39m word\u001b[39m.\u001b[39msize(\u001b[39m0\u001b[39m)\n\u001b[0;32m---> <a href='file:///Users/ryan/miniforge3/lib/python3.9/site-packages/stanza/models/pos/trainer.py?line=72'>73</a>\u001b[0m _, preds \u001b[39m=\u001b[39m \u001b[39mself\u001b[39;49m\u001b[39m.\u001b[39;49mmodel(word, word_mask, wordchars, wordchars_mask, upos, xpos, ufeats, pretrained, word_orig_idx, sentlens, wordlens)\n\u001b[1;32m     <a href='file:///Users/ryan/miniforge3/lib/python3.9/site-packages/stanza/models/pos/trainer.py?line=73'>74</a>\u001b[0m upos_seqs \u001b[39m=\u001b[39m [\u001b[39mself\u001b[39m\u001b[39m.\u001b[39mvocab[\u001b[39m'\u001b[39m\u001b[39mupos\u001b[39m\u001b[39m'\u001b[39m]\u001b[39m.\u001b[39munmap(sent) \u001b[39mfor\u001b[39;00m sent \u001b[39min\u001b[39;00m preds[\u001b[39m0\u001b[39m]\u001b[39m.\u001b[39mtolist()]\n\u001b[1;32m     <a href='file:///Users/ryan/miniforge3/lib/python3.9/site-packages/stanza/models/pos/trainer.py?line=74'>75</a>\u001b[0m xpos_seqs \u001b[39m=\u001b[39m [\u001b[39mself\u001b[39m\u001b[39m.\u001b[39mvocab[\u001b[39m'\u001b[39m\u001b[39mxpos\u001b[39m\u001b[39m'\u001b[39m]\u001b[39m.\u001b[39munmap(sent) \u001b[39mfor\u001b[39;00m sent \u001b[39min\u001b[39;00m preds[\u001b[39m1\u001b[39m]\u001b[39m.\u001b[39mtolist()]\n",
      "File \u001b[0;32m~/miniforge3/lib/python3.9/site-packages/torch/nn/modules/module.py:1102\u001b[0m, in \u001b[0;36mModule._call_impl\u001b[0;34m(self, *input, **kwargs)\u001b[0m\n\u001b[1;32m   <a href='file:///Users/ryan/miniforge3/lib/python3.9/site-packages/torch/nn/modules/module.py?line=1097'>1098</a>\u001b[0m \u001b[39m# If we don't have any hooks, we want to skip the rest of the logic in\u001b[39;00m\n\u001b[1;32m   <a href='file:///Users/ryan/miniforge3/lib/python3.9/site-packages/torch/nn/modules/module.py?line=1098'>1099</a>\u001b[0m \u001b[39m# this function, and just call forward.\u001b[39;00m\n\u001b[1;32m   <a href='file:///Users/ryan/miniforge3/lib/python3.9/site-packages/torch/nn/modules/module.py?line=1099'>1100</a>\u001b[0m \u001b[39mif\u001b[39;00m \u001b[39mnot\u001b[39;00m (\u001b[39mself\u001b[39m\u001b[39m.\u001b[39m_backward_hooks \u001b[39mor\u001b[39;00m \u001b[39mself\u001b[39m\u001b[39m.\u001b[39m_forward_hooks \u001b[39mor\u001b[39;00m \u001b[39mself\u001b[39m\u001b[39m.\u001b[39m_forward_pre_hooks \u001b[39mor\u001b[39;00m _global_backward_hooks\n\u001b[1;32m   <a href='file:///Users/ryan/miniforge3/lib/python3.9/site-packages/torch/nn/modules/module.py?line=1100'>1101</a>\u001b[0m         \u001b[39mor\u001b[39;00m _global_forward_hooks \u001b[39mor\u001b[39;00m _global_forward_pre_hooks):\n\u001b[0;32m-> <a href='file:///Users/ryan/miniforge3/lib/python3.9/site-packages/torch/nn/modules/module.py?line=1101'>1102</a>\u001b[0m     \u001b[39mreturn\u001b[39;00m forward_call(\u001b[39m*\u001b[39;49m\u001b[39minput\u001b[39;49m, \u001b[39m*\u001b[39;49m\u001b[39m*\u001b[39;49mkwargs)\n\u001b[1;32m   <a href='file:///Users/ryan/miniforge3/lib/python3.9/site-packages/torch/nn/modules/module.py?line=1102'>1103</a>\u001b[0m \u001b[39m# Do not call functions when jit is used\u001b[39;00m\n\u001b[1;32m   <a href='file:///Users/ryan/miniforge3/lib/python3.9/site-packages/torch/nn/modules/module.py?line=1103'>1104</a>\u001b[0m full_backward_hooks, non_full_backward_hooks \u001b[39m=\u001b[39m [], []\n",
      "File \u001b[0;32m~/miniforge3/lib/python3.9/site-packages/stanza/models/pos/model.py:113\u001b[0m, in \u001b[0;36mTagger.forward\u001b[0;34m(self, word, word_mask, wordchars, wordchars_mask, upos, xpos, ufeats, pretrained, word_orig_idx, sentlens, wordlens)\u001b[0m\n\u001b[1;32m    <a href='file:///Users/ryan/miniforge3/lib/python3.9/site-packages/stanza/models/pos/model.py?line=109'>110</a>\u001b[0m     \u001b[39mreturn\u001b[39;00m pad_packed_sequence(PackedSequence(x, word_emb\u001b[39m.\u001b[39mbatch_sizes), batch_first\u001b[39m=\u001b[39m\u001b[39mTrue\u001b[39;00m)[\u001b[39m0\u001b[39m]\n\u001b[1;32m    <a href='file:///Users/ryan/miniforge3/lib/python3.9/site-packages/stanza/models/pos/model.py?line=111'>112</a>\u001b[0m \u001b[39mif\u001b[39;00m \u001b[39mself\u001b[39m\u001b[39m.\u001b[39margs[\u001b[39m'\u001b[39m\u001b[39mchar\u001b[39m\u001b[39m'\u001b[39m] \u001b[39mand\u001b[39;00m \u001b[39mself\u001b[39m\u001b[39m.\u001b[39margs[\u001b[39m'\u001b[39m\u001b[39mchar_emb_dim\u001b[39m\u001b[39m'\u001b[39m] \u001b[39m>\u001b[39m \u001b[39m0\u001b[39m:\n\u001b[0;32m--> <a href='file:///Users/ryan/miniforge3/lib/python3.9/site-packages/stanza/models/pos/model.py?line=112'>113</a>\u001b[0m     char_reps \u001b[39m=\u001b[39m \u001b[39mself\u001b[39;49m\u001b[39m.\u001b[39;49mcharmodel(wordchars, wordchars_mask, word_orig_idx, sentlens, wordlens)\n\u001b[1;32m    <a href='file:///Users/ryan/miniforge3/lib/python3.9/site-packages/stanza/models/pos/model.py?line=113'>114</a>\u001b[0m     char_reps \u001b[39m=\u001b[39m PackedSequence(\u001b[39mself\u001b[39m\u001b[39m.\u001b[39mtrans_char(\u001b[39mself\u001b[39m\u001b[39m.\u001b[39mdrop(char_reps\u001b[39m.\u001b[39mdata)), char_reps\u001b[39m.\u001b[39mbatch_sizes)\n\u001b[1;32m    <a href='file:///Users/ryan/miniforge3/lib/python3.9/site-packages/stanza/models/pos/model.py?line=114'>115</a>\u001b[0m     inputs \u001b[39m+\u001b[39m\u001b[39m=\u001b[39m [char_reps]\n",
      "File \u001b[0;32m~/miniforge3/lib/python3.9/site-packages/torch/nn/modules/module.py:1102\u001b[0m, in \u001b[0;36mModule._call_impl\u001b[0;34m(self, *input, **kwargs)\u001b[0m\n\u001b[1;32m   <a href='file:///Users/ryan/miniforge3/lib/python3.9/site-packages/torch/nn/modules/module.py?line=1097'>1098</a>\u001b[0m \u001b[39m# If we don't have any hooks, we want to skip the rest of the logic in\u001b[39;00m\n\u001b[1;32m   <a href='file:///Users/ryan/miniforge3/lib/python3.9/site-packages/torch/nn/modules/module.py?line=1098'>1099</a>\u001b[0m \u001b[39m# this function, and just call forward.\u001b[39;00m\n\u001b[1;32m   <a href='file:///Users/ryan/miniforge3/lib/python3.9/site-packages/torch/nn/modules/module.py?line=1099'>1100</a>\u001b[0m \u001b[39mif\u001b[39;00m \u001b[39mnot\u001b[39;00m (\u001b[39mself\u001b[39m\u001b[39m.\u001b[39m_backward_hooks \u001b[39mor\u001b[39;00m \u001b[39mself\u001b[39m\u001b[39m.\u001b[39m_forward_hooks \u001b[39mor\u001b[39;00m \u001b[39mself\u001b[39m\u001b[39m.\u001b[39m_forward_pre_hooks \u001b[39mor\u001b[39;00m _global_backward_hooks\n\u001b[1;32m   <a href='file:///Users/ryan/miniforge3/lib/python3.9/site-packages/torch/nn/modules/module.py?line=1100'>1101</a>\u001b[0m         \u001b[39mor\u001b[39;00m _global_forward_hooks \u001b[39mor\u001b[39;00m _global_forward_pre_hooks):\n\u001b[0;32m-> <a href='file:///Users/ryan/miniforge3/lib/python3.9/site-packages/torch/nn/modules/module.py?line=1101'>1102</a>\u001b[0m     \u001b[39mreturn\u001b[39;00m forward_call(\u001b[39m*\u001b[39;49m\u001b[39minput\u001b[39;49m, \u001b[39m*\u001b[39;49m\u001b[39m*\u001b[39;49mkwargs)\n\u001b[1;32m   <a href='file:///Users/ryan/miniforge3/lib/python3.9/site-packages/torch/nn/modules/module.py?line=1102'>1103</a>\u001b[0m \u001b[39m# Do not call functions when jit is used\u001b[39;00m\n\u001b[1;32m   <a href='file:///Users/ryan/miniforge3/lib/python3.9/site-packages/torch/nn/modules/module.py?line=1103'>1104</a>\u001b[0m full_backward_hooks, non_full_backward_hooks \u001b[39m=\u001b[39m [], []\n",
      "File \u001b[0;32m~/miniforge3/lib/python3.9/site-packages/stanza/models/common/char_model.py:36\u001b[0m, in \u001b[0;36mCharacterModel.forward\u001b[0;34m(self, chars, chars_mask, word_orig_idx, sentlens, wordlens)\u001b[0m\n\u001b[1;32m     <a href='file:///Users/ryan/miniforge3/lib/python3.9/site-packages/stanza/models/common/char_model.py?line=33'>34</a>\u001b[0m batch_size \u001b[39m=\u001b[39m embs\u001b[39m.\u001b[39msize(\u001b[39m0\u001b[39m)\n\u001b[1;32m     <a href='file:///Users/ryan/miniforge3/lib/python3.9/site-packages/stanza/models/common/char_model.py?line=34'>35</a>\u001b[0m embs \u001b[39m=\u001b[39m pack_padded_sequence(embs, wordlens, batch_first\u001b[39m=\u001b[39m\u001b[39mTrue\u001b[39;00m)\n\u001b[0;32m---> <a href='file:///Users/ryan/miniforge3/lib/python3.9/site-packages/stanza/models/common/char_model.py?line=35'>36</a>\u001b[0m output \u001b[39m=\u001b[39m \u001b[39mself\u001b[39;49m\u001b[39m.\u001b[39;49mcharlstm(embs, wordlens, hx\u001b[39m=\u001b[39;49m(\\\n\u001b[1;32m     <a href='file:///Users/ryan/miniforge3/lib/python3.9/site-packages/stanza/models/common/char_model.py?line=36'>37</a>\u001b[0m         \u001b[39mself\u001b[39;49m\u001b[39m.\u001b[39;49mcharlstm_h_init\u001b[39m.\u001b[39;49mexpand(\u001b[39mself\u001b[39;49m\u001b[39m.\u001b[39;49mnum_dir \u001b[39m*\u001b[39;49m \u001b[39mself\u001b[39;49m\u001b[39m.\u001b[39;49margs[\u001b[39m'\u001b[39;49m\u001b[39mchar_num_layers\u001b[39;49m\u001b[39m'\u001b[39;49m], batch_size, \u001b[39mself\u001b[39;49m\u001b[39m.\u001b[39;49margs[\u001b[39m'\u001b[39;49m\u001b[39mchar_hidden_dim\u001b[39;49m\u001b[39m'\u001b[39;49m])\u001b[39m.\u001b[39;49mcontiguous(), \\\n\u001b[1;32m     <a href='file:///Users/ryan/miniforge3/lib/python3.9/site-packages/stanza/models/common/char_model.py?line=37'>38</a>\u001b[0m         \u001b[39mself\u001b[39;49m\u001b[39m.\u001b[39;49mcharlstm_c_init\u001b[39m.\u001b[39;49mexpand(\u001b[39mself\u001b[39;49m\u001b[39m.\u001b[39;49mnum_dir \u001b[39m*\u001b[39;49m \u001b[39mself\u001b[39;49m\u001b[39m.\u001b[39;49margs[\u001b[39m'\u001b[39;49m\u001b[39mchar_num_layers\u001b[39;49m\u001b[39m'\u001b[39;49m], batch_size, \u001b[39mself\u001b[39;49m\u001b[39m.\u001b[39;49margs[\u001b[39m'\u001b[39;49m\u001b[39mchar_hidden_dim\u001b[39;49m\u001b[39m'\u001b[39;49m])\u001b[39m.\u001b[39;49mcontiguous()))\n\u001b[1;32m     <a href='file:///Users/ryan/miniforge3/lib/python3.9/site-packages/stanza/models/common/char_model.py?line=39'>40</a>\u001b[0m \u001b[39m# apply attention, otherwise take final states\u001b[39;00m\n\u001b[1;32m     <a href='file:///Users/ryan/miniforge3/lib/python3.9/site-packages/stanza/models/common/char_model.py?line=40'>41</a>\u001b[0m \u001b[39mif\u001b[39;00m \u001b[39mself\u001b[39m\u001b[39m.\u001b[39mattn:\n",
      "File \u001b[0;32m~/miniforge3/lib/python3.9/site-packages/torch/nn/modules/module.py:1102\u001b[0m, in \u001b[0;36mModule._call_impl\u001b[0;34m(self, *input, **kwargs)\u001b[0m\n\u001b[1;32m   <a href='file:///Users/ryan/miniforge3/lib/python3.9/site-packages/torch/nn/modules/module.py?line=1097'>1098</a>\u001b[0m \u001b[39m# If we don't have any hooks, we want to skip the rest of the logic in\u001b[39;00m\n\u001b[1;32m   <a href='file:///Users/ryan/miniforge3/lib/python3.9/site-packages/torch/nn/modules/module.py?line=1098'>1099</a>\u001b[0m \u001b[39m# this function, and just call forward.\u001b[39;00m\n\u001b[1;32m   <a href='file:///Users/ryan/miniforge3/lib/python3.9/site-packages/torch/nn/modules/module.py?line=1099'>1100</a>\u001b[0m \u001b[39mif\u001b[39;00m \u001b[39mnot\u001b[39;00m (\u001b[39mself\u001b[39m\u001b[39m.\u001b[39m_backward_hooks \u001b[39mor\u001b[39;00m \u001b[39mself\u001b[39m\u001b[39m.\u001b[39m_forward_hooks \u001b[39mor\u001b[39;00m \u001b[39mself\u001b[39m\u001b[39m.\u001b[39m_forward_pre_hooks \u001b[39mor\u001b[39;00m _global_backward_hooks\n\u001b[1;32m   <a href='file:///Users/ryan/miniforge3/lib/python3.9/site-packages/torch/nn/modules/module.py?line=1100'>1101</a>\u001b[0m         \u001b[39mor\u001b[39;00m _global_forward_hooks \u001b[39mor\u001b[39;00m _global_forward_pre_hooks):\n\u001b[0;32m-> <a href='file:///Users/ryan/miniforge3/lib/python3.9/site-packages/torch/nn/modules/module.py?line=1101'>1102</a>\u001b[0m     \u001b[39mreturn\u001b[39;00m forward_call(\u001b[39m*\u001b[39;49m\u001b[39minput\u001b[39;49m, \u001b[39m*\u001b[39;49m\u001b[39m*\u001b[39;49mkwargs)\n\u001b[1;32m   <a href='file:///Users/ryan/miniforge3/lib/python3.9/site-packages/torch/nn/modules/module.py?line=1102'>1103</a>\u001b[0m \u001b[39m# Do not call functions when jit is used\u001b[39;00m\n\u001b[1;32m   <a href='file:///Users/ryan/miniforge3/lib/python3.9/site-packages/torch/nn/modules/module.py?line=1103'>1104</a>\u001b[0m full_backward_hooks, non_full_backward_hooks \u001b[39m=\u001b[39m [], []\n",
      "File \u001b[0;32m~/miniforge3/lib/python3.9/site-packages/stanza/models/common/packed_lstm.py:22\u001b[0m, in \u001b[0;36mPackedLSTM.forward\u001b[0;34m(self, input, lengths, hx)\u001b[0m\n\u001b[1;32m     <a href='file:///Users/ryan/miniforge3/lib/python3.9/site-packages/stanza/models/common/packed_lstm.py?line=18'>19</a>\u001b[0m \u001b[39mif\u001b[39;00m \u001b[39mnot\u001b[39;00m \u001b[39misinstance\u001b[39m(\u001b[39minput\u001b[39m, PackedSequence):\n\u001b[1;32m     <a href='file:///Users/ryan/miniforge3/lib/python3.9/site-packages/stanza/models/common/packed_lstm.py?line=19'>20</a>\u001b[0m     \u001b[39minput\u001b[39m \u001b[39m=\u001b[39m pack_padded_sequence(\u001b[39minput\u001b[39m, lengths, batch_first\u001b[39m=\u001b[39m\u001b[39mself\u001b[39m\u001b[39m.\u001b[39mbatch_first)\n\u001b[0;32m---> <a href='file:///Users/ryan/miniforge3/lib/python3.9/site-packages/stanza/models/common/packed_lstm.py?line=21'>22</a>\u001b[0m res \u001b[39m=\u001b[39m \u001b[39mself\u001b[39;49m\u001b[39m.\u001b[39;49mlstm(\u001b[39minput\u001b[39;49m, hx)\n\u001b[1;32m     <a href='file:///Users/ryan/miniforge3/lib/python3.9/site-packages/stanza/models/common/packed_lstm.py?line=22'>23</a>\u001b[0m \u001b[39mif\u001b[39;00m \u001b[39mself\u001b[39m\u001b[39m.\u001b[39mpad:\n\u001b[1;32m     <a href='file:///Users/ryan/miniforge3/lib/python3.9/site-packages/stanza/models/common/packed_lstm.py?line=23'>24</a>\u001b[0m     res \u001b[39m=\u001b[39m (pad_packed_sequence(res[\u001b[39m0\u001b[39m], batch_first\u001b[39m=\u001b[39m\u001b[39mself\u001b[39m\u001b[39m.\u001b[39mbatch_first)[\u001b[39m0\u001b[39m], res[\u001b[39m1\u001b[39m])\n",
      "File \u001b[0;32m~/miniforge3/lib/python3.9/site-packages/torch/nn/modules/module.py:1102\u001b[0m, in \u001b[0;36mModule._call_impl\u001b[0;34m(self, *input, **kwargs)\u001b[0m\n\u001b[1;32m   <a href='file:///Users/ryan/miniforge3/lib/python3.9/site-packages/torch/nn/modules/module.py?line=1097'>1098</a>\u001b[0m \u001b[39m# If we don't have any hooks, we want to skip the rest of the logic in\u001b[39;00m\n\u001b[1;32m   <a href='file:///Users/ryan/miniforge3/lib/python3.9/site-packages/torch/nn/modules/module.py?line=1098'>1099</a>\u001b[0m \u001b[39m# this function, and just call forward.\u001b[39;00m\n\u001b[1;32m   <a href='file:///Users/ryan/miniforge3/lib/python3.9/site-packages/torch/nn/modules/module.py?line=1099'>1100</a>\u001b[0m \u001b[39mif\u001b[39;00m \u001b[39mnot\u001b[39;00m (\u001b[39mself\u001b[39m\u001b[39m.\u001b[39m_backward_hooks \u001b[39mor\u001b[39;00m \u001b[39mself\u001b[39m\u001b[39m.\u001b[39m_forward_hooks \u001b[39mor\u001b[39;00m \u001b[39mself\u001b[39m\u001b[39m.\u001b[39m_forward_pre_hooks \u001b[39mor\u001b[39;00m _global_backward_hooks\n\u001b[1;32m   <a href='file:///Users/ryan/miniforge3/lib/python3.9/site-packages/torch/nn/modules/module.py?line=1100'>1101</a>\u001b[0m         \u001b[39mor\u001b[39;00m _global_forward_hooks \u001b[39mor\u001b[39;00m _global_forward_pre_hooks):\n\u001b[0;32m-> <a href='file:///Users/ryan/miniforge3/lib/python3.9/site-packages/torch/nn/modules/module.py?line=1101'>1102</a>\u001b[0m     \u001b[39mreturn\u001b[39;00m forward_call(\u001b[39m*\u001b[39;49m\u001b[39minput\u001b[39;49m, \u001b[39m*\u001b[39;49m\u001b[39m*\u001b[39;49mkwargs)\n\u001b[1;32m   <a href='file:///Users/ryan/miniforge3/lib/python3.9/site-packages/torch/nn/modules/module.py?line=1102'>1103</a>\u001b[0m \u001b[39m# Do not call functions when jit is used\u001b[39;00m\n\u001b[1;32m   <a href='file:///Users/ryan/miniforge3/lib/python3.9/site-packages/torch/nn/modules/module.py?line=1103'>1104</a>\u001b[0m full_backward_hooks, non_full_backward_hooks \u001b[39m=\u001b[39m [], []\n",
      "File \u001b[0;32m~/miniforge3/lib/python3.9/site-packages/torch/nn/modules/rnn.py:694\u001b[0m, in \u001b[0;36mLSTM.forward\u001b[0;34m(self, input, hx)\u001b[0m\n\u001b[1;32m    <a href='file:///Users/ryan/miniforge3/lib/python3.9/site-packages/torch/nn/modules/rnn.py?line=690'>691</a>\u001b[0m     result \u001b[39m=\u001b[39m _VF\u001b[39m.\u001b[39mlstm(\u001b[39minput\u001b[39m, hx, \u001b[39mself\u001b[39m\u001b[39m.\u001b[39m_flat_weights, \u001b[39mself\u001b[39m\u001b[39m.\u001b[39mbias, \u001b[39mself\u001b[39m\u001b[39m.\u001b[39mnum_layers,\n\u001b[1;32m    <a href='file:///Users/ryan/miniforge3/lib/python3.9/site-packages/torch/nn/modules/rnn.py?line=691'>692</a>\u001b[0m                       \u001b[39mself\u001b[39m\u001b[39m.\u001b[39mdropout, \u001b[39mself\u001b[39m\u001b[39m.\u001b[39mtraining, \u001b[39mself\u001b[39m\u001b[39m.\u001b[39mbidirectional, \u001b[39mself\u001b[39m\u001b[39m.\u001b[39mbatch_first)\n\u001b[1;32m    <a href='file:///Users/ryan/miniforge3/lib/python3.9/site-packages/torch/nn/modules/rnn.py?line=692'>693</a>\u001b[0m \u001b[39melse\u001b[39;00m:\n\u001b[0;32m--> <a href='file:///Users/ryan/miniforge3/lib/python3.9/site-packages/torch/nn/modules/rnn.py?line=693'>694</a>\u001b[0m     result \u001b[39m=\u001b[39m _VF\u001b[39m.\u001b[39;49mlstm(\u001b[39minput\u001b[39;49m, batch_sizes, hx, \u001b[39mself\u001b[39;49m\u001b[39m.\u001b[39;49m_flat_weights, \u001b[39mself\u001b[39;49m\u001b[39m.\u001b[39;49mbias,\n\u001b[1;32m    <a href='file:///Users/ryan/miniforge3/lib/python3.9/site-packages/torch/nn/modules/rnn.py?line=694'>695</a>\u001b[0m                       \u001b[39mself\u001b[39;49m\u001b[39m.\u001b[39;49mnum_layers, \u001b[39mself\u001b[39;49m\u001b[39m.\u001b[39;49mdropout, \u001b[39mself\u001b[39;49m\u001b[39m.\u001b[39;49mtraining, \u001b[39mself\u001b[39;49m\u001b[39m.\u001b[39;49mbidirectional)\n\u001b[1;32m    <a href='file:///Users/ryan/miniforge3/lib/python3.9/site-packages/torch/nn/modules/rnn.py?line=695'>696</a>\u001b[0m output \u001b[39m=\u001b[39m result[\u001b[39m0\u001b[39m]\n\u001b[1;32m    <a href='file:///Users/ryan/miniforge3/lib/python3.9/site-packages/torch/nn/modules/rnn.py?line=696'>697</a>\u001b[0m hidden \u001b[39m=\u001b[39m result[\u001b[39m1\u001b[39m:]\n",
      "\u001b[0;31mKeyboardInterrupt\u001b[0m: "
     ]
    }
   ],
   "source": [
    "SC.load_metadata(progress=True,lim=None)"
   ]
  },
  {
   "cell_type": "code",
   "execution_count": null,
   "metadata": {},
   "outputs": [],
   "source": [
    "# save_df(SC.meta,SC.path_metadata)"
   ]
  },
  {
   "cell_type": "code",
   "execution_count": null,
   "metadata": {},
   "outputs": [
    {
     "data": {
      "text/plain": [
       "'/Users/ryan/lltk_data/corpora/epistolary/_chadwyck/EighteenthCentury_Fiction/richards01/sections/metadata.csv'"
      ]
     },
     "execution_count": 14,
     "metadata": {},
     "output_type": "execute_result"
    }
   ],
   "source": [
    "SC.path_metadata"
   ]
  },
  {
   "cell_type": "code",
   "execution_count": null,
   "metadata": {},
   "outputs": [
    {
     "data": {
      "text/plain": [
       "'_chadwyck/EighteenthCentury_Fiction/richards01/sections/L001'"
      ]
     },
     "execution_count": 11,
     "metadata": {},
     "output_type": "execute_result"
    }
   ],
   "source": [
    "sct=SC.texts()[0]\n",
    "sct.id"
   ]
  },
  {
   "cell_type": "code",
   "execution_count": null,
   "metadata": {},
   "outputs": [
    {
     "data": {
      "text/plain": [
       "[Epistolary](epistolary)"
      ]
     },
     "execution_count": 9,
     "metadata": {},
     "output_type": "execute_result"
    }
   ],
   "source": [
    "sct.corpus"
   ]
  },
  {
   "cell_type": "code",
   "execution_count": null,
   "metadata": {},
   "outputs": [
    {
     "data": {
      "text/plain": [
       "[TextSectionLetterChadwyck](_epistolary/_chadwyck/EighteenthCentury_Fiction/richards01/sections/L001)"
      ]
     },
     "execution_count": 10,
     "metadata": {},
     "output_type": "execute_result"
    }
   ],
   "source": [
    "sct"
   ]
  },
  {
   "cell_type": "code",
   "execution_count": null,
   "metadata": {},
   "outputs": [],
   "source": []
  }
 ],
 "metadata": {
  "interpreter": {
   "hash": "99c3488a746bccd77b7949f8f419451e1c962da56ebbaaae6e4d2e6c8c07eaa0"
  },
  "kernelspec": {
   "display_name": "Python 3.9.7 ('base')",
   "language": "python",
   "name": "python3"
  },
  "language_info": {
   "codemirror_mode": {
    "name": "ipython",
    "version": 3
   },
   "file_extension": ".py",
   "mimetype": "text/x-python",
   "name": "python",
   "nbconvert_exporter": "python",
   "pygments_lexer": "ipython3",
   "version": "3.9.7"
  },
  "orig_nbformat": 4
 },
 "nbformat": 4,
 "nbformat_minor": 2
}

{
 "cells": [
  {
   "cell_type": "code",
   "execution_count": 1,
   "metadata": {},
   "outputs": [],
   "source": [
    "import os,sys; sys.path.insert(0,os.path.abspath('../../..'))\n",
    "from epistolary import *"
   ]
  },
  {
   "cell_type": "code",
   "execution_count": 2,
   "metadata": {},
   "outputs": [],
   "source": [
    "\n",
    "class TextSectionLetter(TextSection):\n",
    "    def deduce_recip(self, meta=None,keys=['txt_front','txt_head']):\n",
    "        from lltk.model.ner import get_ner_sentdf\n",
    "\n",
    "        ltr_meta=meta if meta is not None else self._meta\n",
    "\n",
    "        txt = '     '.join(\n",
    "            ltr_meta.get(argname,'').replace(' | ',' ')\n",
    "            for argname in keys\n",
    "        )\n",
    "        \n",
    "        byline_sentdf = None\n",
    "        sender,recip = '',''\n",
    "        if not ltr_meta.get('sender_tok'):\n",
    "            if byline_sentdf is None: byline_sentdf = deduce_recip(get_ner_sentdf(txt))\n",
    "            if 'epistolary_role' in set(byline_sentdf.columns):\n",
    "                sender=' '.join(byline_sentdf[byline_sentdf.epistolary_role=='sender'].text)\n",
    "\n",
    "        ## recip\n",
    "        if not ltr_meta.get('recip_tok'):\n",
    "            if byline_sentdf is None: byline_sentdf = deduce_recip(get_ner_sentdf(txt))\n",
    "            if 'epistolary_role' in set(byline_sentdf.columns):\n",
    "                recip=' '.join(byline_sentdf[byline_sentdf.epistolary_role=='recip'].text)\n",
    "        \n",
    "        return sender,recip\n",
    "\n",
    "\n",
    "class TextSectionLetterChadwyck(TextSectionLetter):\n",
    "    sep_sents='\\n'\n",
    "    sep_paras='\\n\\n'\n",
    "    sep_txt='\\n\\n------------\\n\\n'\n",
    "\n",
    "    @property\n",
    "    def meta(self):\n",
    "        if self._meta_: return self._meta_\n",
    "        meta=self._meta\n",
    "        ltr_xml=self.xml\n",
    "        ltr_dom=self.dom\n",
    "\n",
    "        meta_map={\n",
    "            'id_letter':'idref',\n",
    "            'txt_front':['front','caption']\n",
    "        }\n",
    "        for newtag,xtag in meta_map.items():\n",
    "            meta[newtag]=clean_text(grab_tag_text(ltr_dom, xtag)) if xtag else ''\n",
    "        ltrtitle=''\n",
    "        if '</collection>' in ltr_xml and '<attbytes>' in ltr_xml:\n",
    "            ltrtitle=ltr_xml.split('</collection>')[-1].split('<attbytes>')[0].strip()\n",
    "        meta['txt_head']=ltrtitle if ltrtitle!=meta['txt_front'] else ''\n",
    "        meta['letter_i']=self.letter_i\n",
    "        meta['id']=f'L{self.letter_i:03}' if self.letter_i else meta['id_letter']\n",
    "\n",
    "        ## deduce recips?\n",
    "        meta['sender_tok'], meta['recip_tok'] = self.deduce_recip(meta)\n",
    "\n",
    "        self._meta_=meta\n",
    "        return meta\n",
    "\n",
    "\n",
    "    @property\n",
    "    def txt(self,*x,**y):\n",
    "        ltr_dom = remove_bad_tags(self.dom, BAD_TAGS)\n",
    "        letters = list(ltr_dom(self.LTR))\n",
    "        if not len(letters): letters=[ltr_dom]\n",
    "        ltxts=[]\n",
    "        for ltr in letters:\n",
    "            ptxts=[]\n",
    "            paras=list(ltr('p'))\n",
    "            if not len(paras): paras=[ltr]\n",
    "            for p in paras:\n",
    "                sents = p('s')\n",
    "                if not len(sents):\n",
    "                    sents=nltk.sent_tokenize(p.text)\n",
    "                else:\n",
    "                    sents=[s.text.strip() for s in sents]\n",
    "                # ptxt=self.sep_sents.join([escape_linebreaks(x) for x in sents if x])\n",
    "                ptxt=self.sep_sents.join([x.replace('\\n',' ') for x in sents if x])\n",
    "                ptxts.append(ptxt)\n",
    "            ltrtxt=self.sep_paras.join(ptxts).strip()\n",
    "            ltxts.append(ltrtxt)\n",
    "        otxt=self.sep_txt.join(ltxts).strip()\n",
    "        return clean_text(otxt)\n",
    "\n",
    "\n",
    "class TextEpistolaryChadwyck(BaseText):\n",
    "    DIV='div3'\n",
    "    LTR='letter'\n",
    "    SECTION_CLASS=TextSectionLetterChadwyck\n",
    "\n",
    "    @property\n",
    "    def letters(self,lim=None,progress=False,**kwargs):\n",
    "        if self._letters is None:\n",
    "            self._letters=[]\n",
    "            div_strs=[\n",
    "                ltrxml.split(f'<{self.DIV}>',1)[-1].strip()\n",
    "                for ltrxml in self.xml.split(f'</{self.DIV}>')[:-1]\n",
    "                if f'</{self.LTR}>' in ltrxml.split(f'<{self.DIV}>',1)[-1]\n",
    "            ]\n",
    "            letter_i=0\n",
    "            iterr=tqdm(div_strs, disable=not progress, desc='Scanning for letters')\n",
    "            for ltrxml in iterr:\n",
    "                letter_i+=1 #len(o)+1\n",
    "                letter_id=f'L{letter_i:03}'\n",
    "                #ltr=TextSectionLetterChadwyck(letter_id, _source=self,letter_i=letter_i)\n",
    "                ltr=self.init_section(letter_id, letter_i=letter_i)\n",
    "                ltr._xml=ltrxml\n",
    "                self._letters.append(ltr)\n",
    "        return self._letters\n"
   ]
  },
  {
   "cell_type": "code",
   "execution_count": 14,
   "metadata": {},
   "outputs": [
    {
     "data": {
      "text/plain": [
       "[TextEpistolaryChadwyck](_epistolary/_chadwyck/Eighteenth-Century_Fiction/richards.01)"
      ]
     },
     "execution_count": 14,
     "metadata": {},
     "output_type": "execute_result"
    }
   ],
   "source": [
    "t = Text(CLAR_ID, corpus='epistolary')\n",
    "t.__class__ = TextEpistolaryChadwyck\n",
    "tl=t.letters\n",
    "t"
   ]
  },
  {
   "cell_type": "code",
   "execution_count": 15,
   "metadata": {},
   "outputs": [
    {
     "name": "stdout",
     "output_type": "stream",
     "text": [
      "[TextSectionLetterChadwyck](_epistolary/_chadwyck/Eighteenth-Century_Fiction/richards.01/L497)\n"
     ]
    },
    {
     "data": {
      "text/plain": [
       "{'letter_i': 497,\n",
       " 'id': 'L497',\n",
       " 'id_letter': 'Z300044567',\n",
       " 'txt_front': 'Mr. Belford, To James Harlowe, jun. Esq; || The WILL; || To my Executor.',\n",
       " 'txt_head': 'LETTER [LXXXVI.]',\n",
       " 'sender_tok': 'Mr. Belford',\n",
       " 'recip_tok': 'James Harlowe'}"
      ]
     },
     "execution_count": 15,
     "metadata": {},
     "output_type": "execute_result"
    }
   ],
   "source": [
    "ts=random.choice(tl)\n",
    "print(ts)\n",
    "ts.meta"
   ]
  },
  {
   "cell_type": "code",
   "execution_count": 16,
   "metadata": {},
   "outputs": [
    {
     "data": {
      "text/plain": [
       "('_chadwyck/Eighteenth-Century_Fiction/richards.01/L497',\n",
       " '_epistolary/_chadwyck/Eighteenth-Century_Fiction/richards.01/L497',\n",
       " '/Users/ryan/lltk_data/corpora/epistolary/texts/_chadwyck/Eighteenth-Century_Fiction/richards.01/L497')"
      ]
     },
     "execution_count": 16,
     "metadata": {},
     "output_type": "execute_result"
    }
   ],
   "source": [
    "ts.id, ts.addr, ts.path"
   ]
  },
  {
   "cell_type": "code",
   "execution_count": 17,
   "metadata": {},
   "outputs": [],
   "source": [
    "\n",
    "class TextEpistolary(BaseText):\n",
    "    DIV=''\n",
    "    LTR=''\n",
    "    @property\n",
    "    def letters(self): return []\n",
    "\n",
    "\n",
    "class Epistolary(BaseCorpus):\n",
    "    NAME='Epistolary'\n",
    "    ID='epistolary'\n",
    "    TEXT_CLASS=TextEpistolary\n",
    "    CORPORA_TO_START_WITH = ['Chadwyck']\n",
    "\n",
    "    def init(self,*x,**y):\n",
    "        super().init(*x,**y)\n",
    "        \n",
    "        # recast text objects by corpus\n",
    "        for idx,t in self._textd.items():\n",
    "            if t.source and t.source.corpus.id=='chadwyck':\n",
    "                t.__class__ = TextEpistolaryChadwyck"
   ]
  },
  {
   "cell_type": "code",
   "execution_count": 18,
   "metadata": {},
   "outputs": [],
   "source": [
    "C=Epistolary()\n",
    "C.init()\n",
    "# C._textd"
   ]
  },
  {
   "cell_type": "markdown",
   "metadata": {},
   "source": []
  },
  {
   "cell_type": "code",
   "execution_count": 19,
   "metadata": {},
   "outputs": [
    {
     "name": "stdout",
     "output_type": "stream",
     "text": [
      "0    [TextEpistolary](_epistolary/Eighteenth-Century_Fiction/richards.02)\n",
      "155  [TextEpistolaryChadwyck](_epistolary/_chadwyck/Eighteenth-Century_Fiction/richards.04)\n",
      "84   [TextEpistolaryChadwyck](_epistolary/_chadwyck/Eighteenth-Century_Fiction/burney.01)\n"
     ]
    }
   ],
   "source": [
    "for t in C.texts():\n",
    "    print(f'{len(t.letters):<4} {t}')"
   ]
  },
  {
   "cell_type": "code",
   "execution_count": 20,
   "metadata": {},
   "outputs": [
    {
     "data": {
      "text/plain": [
       "[TextSectionLetterChadwyck](_epistolary/_chadwyck/Eighteenth-Century_Fiction/burney.01/L080)"
      ]
     },
     "execution_count": 20,
     "metadata": {},
     "output_type": "execute_result"
    }
   ],
   "source": [
    "ts=random.choice(t.letters)\n",
    "ts"
   ]
  },
  {
   "cell_type": "code",
   "execution_count": 26,
   "metadata": {},
   "outputs": [
    {
     "data": {
      "text/plain": [
       "'/Users/ryan/lltk_data/corpora/epistolary/texts/_chadwyck/Eighteenth-Century_Fiction/burney.01'"
      ]
     },
     "execution_count": 26,
     "metadata": {},
     "output_type": "execute_result"
    }
   ],
   "source": []
  },
  {
   "cell_type": "code",
   "execution_count": null,
   "metadata": {},
   "outputs": [],
   "source": []
  }
 ],
 "metadata": {
  "interpreter": {
   "hash": "b0fa6594d8f4cbf19f97940f81e996739fb7646882a419484c72d19e05852a7e"
  },
  "kernelspec": {
   "display_name": "Python 3.9.10 64-bit",
   "language": "python",
   "name": "python3"
  },
  "language_info": {
   "codemirror_mode": {
    "name": "ipython",
    "version": 3
   },
   "file_extension": ".py",
   "mimetype": "text/x-python",
   "name": "python",
   "nbconvert_exporter": "python",
   "pygments_lexer": "ipython3",
   "version": "3.9.7"
  },
  "orig_nbformat": 4
 },
 "nbformat": 4,
 "nbformat_minor": 2
}

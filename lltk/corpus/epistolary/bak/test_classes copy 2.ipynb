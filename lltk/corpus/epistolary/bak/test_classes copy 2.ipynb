{
 "cells": [
  {
   "cell_type": "code",
   "execution_count": 8,
   "metadata": {},
   "outputs": [],
   "source": [
    "import os,sys; sys.path.insert(0,os.path.abspath('../../..'))\n",
    "from epistolary import *"
   ]
  },
  {
   "cell_type": "code",
   "execution_count": 9,
   "metadata": {},
   "outputs": [],
   "source": [
    "class TextSection(BaseText):\n",
    "    _type='sections'\n",
    "\n",
    "    @property\n",
    "    def corpus(self): return self.source.corpus\n",
    "    @property\n",
    "    def path(self): return os.path.join(self.source.path,self._type,self.id)\n",
    "    @property\n",
    "    def addr(self): return os.path.join(self.source.addr,self.id)\n",
    "    @property\n",
    "    def txt(self): return self._txt if self._txt else ''\n",
    "    @property\n",
    "    def xml(self): return self._xml if self._xml else ''\n",
    "\n",
    "\n",
    "class TextSectionLetter(TextSection):\n",
    "    _type='letters'\n",
    "\n",
    "    def deduce_recip(self, keys=['txt_front','txt_head']):\n",
    "        from lltk.model.ner import get_ner_sentdf\n",
    "\n",
    "        ltr_meta=self._meta\n",
    "\n",
    "        txt = '     '.join(\n",
    "            ltr_meta.get(argname,'').replace(' | ',' ')\n",
    "            for argname in keys\n",
    "        )\n",
    "        \n",
    "        byline_sentdf = None\n",
    "        if not ltr_meta.get('sender_tok'):\n",
    "            if byline_sentdf is None: byline_sentdf = get_ner_sentdf(txt)\n",
    "            if 'epistolary_role' in set(byline_sentdf.columns):\n",
    "                ltr_meta['sender_tok']=' '.join(byline_sentdf[byline_sentdf.epistolary_role=='sender'].text)\n",
    "            else:\n",
    "                ltr_meta['sender_tok']=''\n",
    "\n",
    "        ## recip\n",
    "        if not ltr_meta.get('recip_tok'):\n",
    "            if byline_sentdf is None: byline_sentdf = get_ner_sentdf(txt)\n",
    "            if 'epistolary_role' in set(byline_sentdf.columns):\n",
    "                ltr_meta['recip_tok']=' '.join(byline_sentdf[byline_sentdf.epistolary_role=='recip'].text)\n",
    "            else:\n",
    "                ltr_meta['recip_tok']=''\n",
    "\n",
    "        return ltr_meta\n",
    "\n",
    "\n",
    "class TextSectionLetterChadwyck(TextSectionLetter):\n",
    "    sep_sents='\\n'\n",
    "    sep_paras='\\n\\n'\n",
    "    sep_txt='\\n\\n------------\\n\\n'\n",
    "\n",
    "    @property\n",
    "    def meta(self):\n",
    "        if self._meta_: return self._meta_\n",
    "        meta=self._meta\n",
    "        ltr_xml=self.xml\n",
    "        ltr_dom=self.dom\n",
    "\n",
    "        meta_map={\n",
    "            'id_letter':'idref',\n",
    "            'txt_front':['front','caption']\n",
    "        }\n",
    "        for newtag,xtag in meta_map.items():\n",
    "            meta[newtag]=clean_text(grab_tag_text(ltr_dom, xtag)) if xtag else ''\n",
    "        ltrtitle=''\n",
    "        if '</collection>' in ltr_xml and '<attbytes>' in ltr_xml:\n",
    "            ltrtitle=ltr_xml.split('</collection>')[-1].split('<attbytes>')[0].strip()\n",
    "        meta['txt_head']=ltrtitle if ltrtitle!=meta['txt_front'] else ''\n",
    "        meta['letter_i']=self.letter_i\n",
    "        meta['id']=f'L{self.letter_i:03}' if self.letter_i else meta['id_letter']\n",
    "        self._meta_=meta\n",
    "        return meta\n",
    "\n",
    "\n",
    "    @property\n",
    "    def txt(self,*x,**y):\n",
    "        ltr_dom = remove_bad_tags(self.dom, BAD_TAGS)\n",
    "        letters = list(ltr_dom(self.LTR))\n",
    "        if not len(letters): letters=[ltr_dom]\n",
    "        ltxts=[]\n",
    "        for ltr in letters:\n",
    "            ptxts=[]\n",
    "            paras=list(ltr('p'))\n",
    "            if not len(paras): paras=[ltr]\n",
    "            for p in paras:\n",
    "                sents = p('s')\n",
    "                if not len(sents):\n",
    "                    sents=nltk.sent_tokenize(p.text)\n",
    "                else:\n",
    "                    sents=[s.text.strip() for s in sents]\n",
    "                # ptxt=self.sep_sents.join([escape_linebreaks(x) for x in sents if x])\n",
    "                ptxt=self.sep_sents.join([x.replace('\\n',' ') for x in sents if x])\n",
    "                ptxts.append(ptxt)\n",
    "            ltrtxt=self.sep_paras.join(ptxts).strip()\n",
    "            ltxts.append(ltrtxt)\n",
    "        otxt=self.sep_txt.join(ltxts).strip()\n",
    "        return clean_text(otxt)\n",
    "\n",
    "\n",
    "class TextEpistolaryChadwyck(BaseText):\n",
    "    DIV='div3'\n",
    "    LTR='letter'\n",
    "\n",
    "\n",
    "    def letters(self,lim=None,progress=False,**kwargs):\n",
    "        if self._letters is None:\n",
    "            self._letters=[]\n",
    "            div_strs=[\n",
    "                ltrxml.split(f'<{self.DIV}>',1)[-1].strip()\n",
    "                for ltrxml in self.xml.split(f'</{self.DIV}>')[:-1]\n",
    "                if f'</{self.LTR}>' in ltrxml.split(f'<{self.DIV}>',1)[-1]\n",
    "            ]\n",
    "            letter_i=0\n",
    "            iterr=tqdm(div_strs, disable=not progress, desc='Scanning for letters')\n",
    "            for ltrxml in iterr:\n",
    "                letter_i+=1 #len(o)+1\n",
    "                letter_id=f'L{letter_i:03}'\n",
    "                ltr=TextSectionLetterChadwyck(letter_id, _source=self,letter_i=letter_i)\n",
    "                ltr._xml=ltrxml\n",
    "                self._letters.append(ltr)\n",
    "        return self._letters\n",
    "\n"
   ]
  },
  {
   "cell_type": "code",
   "execution_count": 10,
   "metadata": {},
   "outputs": [],
   "source": [
    "t = Text(CLAR_ID, corpus='epistolary')\n",
    "t.__class__ = TextEpistolaryChadwyck\n",
    "tl=t.letters()\n"
   ]
  },
  {
   "cell_type": "code",
   "execution_count": 11,
   "metadata": {},
   "outputs": [
    {
     "data": {
      "text/plain": [
       "{'letter_i': 443,\n",
       " 'id': 'L443',\n",
       " 'id_letter': 'Z300044513',\n",
       " 'txt_front': 'Mr. Belford, To Robert Lovelace, Esq; || CLARISSA HARLOWE. | APRIL X. | [Then the year] | Ætat. xix.',\n",
       " 'txt_head': 'LETTER XXXII.'}"
      ]
     },
     "metadata": {},
     "output_type": "display_data"
    },
    {
     "data": {
      "text/plain": [
       "('/Users/ryan/lltk_data/corpora/epistolary/texts/_chadwyck/Eighteenth-Century_Fiction/richards.01/letters/L443',\n",
       " 'letters')"
      ]
     },
     "execution_count": 11,
     "metadata": {},
     "output_type": "execute_result"
    }
   ],
   "source": [
    "ts=random.choice(tl)\n",
    "display(ts.meta)\n",
    "ts.path, ts._type"
   ]
  },
  {
   "cell_type": "code",
   "execution_count": null,
   "metadata": {},
   "outputs": [],
   "source": []
  },
  {
   "cell_type": "code",
   "execution_count": null,
   "metadata": {},
   "outputs": [],
   "source": [
    "class TextEpistolary(Text):\n",
    "\n",
    "    def compile(self,lim=None,progress=True,force=False,*x,**y):\n",
    "        ofn_ltrs = os.path.join(C.paths['path_letters'], t.corpus.id, t.id + '.csv')\n",
    "        ofn_xml = os.path.join(C.paths['path_xml'], t.corpus.id, t.id + '.xml')\n",
    "        ofn_txt = os.path.join(C.paths['path_txt'], t.corpus.id, t.id + '.txt')\n",
    "\n",
    "        if not force and os.path.exists(ofn_ltrs):\n",
    "            odf = read_df(ofn_ltrs)\n",
    "            odf_anno=load_with_anno(ofn_ltrs)\n",
    "            if len(odf_anno) and 'id' in set(odf_anno.columns):\n",
    "                odf_anno=odf_anno.set_index('id')\n",
    "                odf_anno=odf_anno[[col for col in odf_anno.columns if not col.startswith('id_')]]\n",
    "                odx_anno=dict((idx, dict(row)) for idx,row in odf_anno.iterrows())\n",
    "\n",
    "                newkeys=set(rowdk for idx,rowd in odx_anno.items() for rowdk in rowd)\n",
    "                for nk in newkeys:\n",
    "                    odf[nk]=[odx_anno.get(idx,{}).get(nk,'') for idx in odf.id]\n",
    "            \n",
    "            return fix_meta(odf)\n",
    "            \n",
    "\n",
    "        ol=[]\n",
    "        #if force or not os.path.exists(ofn_ltrs) or not os.path.exists(ofn_xml) or not os.path.exists(ofn_txt):\n",
    "        if not os.path.exists(os.path.dirname(ofn_xml)): os.makedirs(os.path.dirname(ofn_xml))\n",
    "        if not os.path.exists(os.path.dirname(ofn_txt)): os.makedirs(os.path.dirname(ofn_txt))            \n",
    "        if not os.path.exists(os.path.dirname(ofn_ltrs)): os.makedirs(os.path.dirname(ofn_ltrs))            \n",
    "        \n",
    "        tdf=epistolarized_chadwyck_t(C,t=t,lim=lim,progress=progress,*x,**y)\n",
    "        if not len(tdf): return pd.DataFrame()\n",
    "\n",
    "    \n",
    "        todf=fix_meta(tdf)\n",
    "\n",
    "        for pxml,txml in zip(tdf.path_xml,tdf.xml):\n",
    "            if pxml and txml:\n",
    "                with open(pxml,'w') as of: of.write(txml)\n",
    "        for ptxt,ttxt in zip(tdf.path_txt,tdf.txt):\n",
    "            if ptxt and ttxt:\n",
    "                with open(ptxt,'w') as of: of.write(ttxt)\n",
    "\n",
    "        for needcol in {'sender_tok','sender_id','recip_tok','recip_id','front','title_letter'}:\n",
    "            if not needcol in set(todf.columns): todf[needcol]=''\n",
    "        for badcol in {'txt','xml','path_txt','path_xml'} & set(todf.columns):\n",
    "            todf=todf.drop(badcol,1)\n",
    "        \n",
    "        cols=[\n",
    "            'id','id_corpus','id_text','id_letter','letter_i',\n",
    "            'txt_head',\n",
    "            'txt_front',\n",
    "            'sender_tok',#'sender_id',\n",
    "            'recip_tok',#'recip_id',\n",
    "        ]\n",
    "        odf_ltrs=todf[[c for c in cols if c in set(todf.columns)]].fillna('')\n",
    "        save_df(fix_meta(odf_ltrs), ofn_ltrs, verbose=True)\n",
    "        return odf_ltrs\n",
    "\n",
    "        \n",
    "    def compile_text_chars(self,t,tdf=None,force=False,force_inner=False,verbose=False,*x,**y):\n",
    "        id_corpus=t.corpus.id\n",
    "        id_text=t.id\n",
    "\n",
    "        ofn_tok2id = os.path.join(self.path_chars, id_corpus, id_text, 'tok2id.csv')\n",
    "        ofn_id2meta = os.path.join(self.path_chars, id_corpus, id_text, 'id2meta.csv')\n",
    "\n",
    "        if force or not os.path.exists(ofn_tok2id):\n",
    "            # get latest sender,recip data\n",
    "            if tdf is None: tdf=self.compile_text(t,force=force_inner,*x,**y)\n",
    "            odf_tok2id=calculate_tok2id(tdf.fillna(''))\n",
    "            save_df(odf_tok2id, ofn_tok2id, verbose=verbose, index=False)\n",
    "            if verbose: display(odf_tok2id)\n",
    "        else:\n",
    "            odf_tok2id=read_df(ofn_tok2id)\n",
    "        \n",
    "        # update with anno\n",
    "        odf_tok2id_anno=load_with_anno(ofn_tok2id)\n",
    "        if len(odf_tok2id_anno):\n",
    "            d_tok2id_anno=dict(zip(odf_tok2id_anno.char_tok, odf_tok2id_anno.char_id)) if len(odf_tok2id_anno) else {}\n",
    "            odf_tok2id['char_id']=[d_tok2id_anno.get(ctok,cid) for ctok,cid in zip(odf_tok2id.char_tok,odf_tok2id.char_id)]\n",
    "        \n",
    "        \n",
    "\n",
    "        ## id2meta\n",
    "        if force or not os.path.exists(ofn_id2meta):\n",
    "            ## id2meta\n",
    "            char_ids = Counter()\n",
    "            for char_id,char_tok_count in zip(odf_tok2id.char_id, odf_tok2id.char_tok_count):\n",
    "                char_ids[char_id]+=char_tok_count\n",
    "            # init?\n",
    "            id2meta_l=[]\n",
    "            for char_id,char_id_count in char_ids.most_common():\n",
    "                char_dx={'char_id':char_id, 'char_id_count':char_id_count, **chardata_metakeys_initial}\n",
    "                id2meta_l.append(char_dx)\n",
    "            odf_id2meta = pd.DataFrame(id2meta_l).fillna('')\n",
    "            save_df(odf_id2meta, ofn_id2meta, verbose=verbose, index=False)\n",
    "            if verbose: display(odf_id2meta)\n",
    "        else:\n",
    "            odf_id2meta=read_df(ofn_id2meta)\n",
    "\n",
    "        # update with anno\n",
    "        odf_id2meta=odf_id2meta.set_index('char_id')\n",
    "        odf_id2meta_anno=load_with_anno(ofn_id2meta)\n",
    "        if len(odf_id2meta_anno) and 'char_id' in set(odf_id2meta_anno.columns):\n",
    "            odf_id2meta_anno=odf_id2meta_anno.fillna('').set_index('char_id')\n",
    "            odf_id2meta_anno=odf_id2meta_anno[[col for col in odf_id2meta_anno if col not in {'char_id_count'}]]\n",
    "            odf_id2meta.update(odf_id2meta_anno)\n",
    "        odf_id2meta=odf_id2meta.reset_index()\n",
    "        \n",
    "        return odf_tok2id.fillna(''), odf_id2meta.fillna('')\n",
    "        \n",
    "    def get_letters(self,t,force=False,*x,**y):\n",
    "        df_letters=self.compile_text(t,force=force,*x,**y)\n",
    "        df_tok2id,df_id2meta=self.compile_text_chars(t,force=force,*x,**y)\n",
    "        d_tok2id=dict(zip(df_tok2id.char_tok, df_tok2id.char_id))\n",
    "        cols_id2meta_uniq=[col for col in df_id2meta if col not in set(df_letters.columns)]\n",
    "        df_id2meta=df_id2meta[cols_id2meta_uniq]\n",
    "\n",
    "        for sndr in ['sender','recip']:\n",
    "            sidkey=f'{sndr}_id'\n",
    "            df_letters[sidkey]=df_letters[f'{sndr}_tok'].apply(lambda stok: d_tok2id.get(stok,stok))\n",
    "            senders = set(df_letters[sidkey])\n",
    "            df_id2meta_now = df_id2meta[df_id2meta.char_id.isin(senders)]\n",
    "            df_id2meta_now.columns=[col.replace('char_',f'{sndr}_') for col in df_id2meta.columns]\n",
    "            if sidkey in set(df_id2meta_now.columns):\n",
    "                df_letters = df_letters.merge(df_id2meta_now, how='left', on=sidkey)\n",
    "            \n",
    "        return df_letters\n",
    "\n",
    "\n",
    "    def iter_letter_networks(self,t,dfletters=None,*x,**y):\n",
    "        dfletters=self.get_letters(t,*x,**y) if dfletters is None else dfletters\n",
    "        return iter_letter_networks_from_dfletters(dfletters,*x,**y)\n",
    "\n",
    "    def get_letter_network(self,t,dfletters=None,*x,**y):\n",
    "        dfletters=self.get_letters(t,*x,**y) if dfletters is None else dfletters\n",
    "        return get_letter_network_from_dfletters(dfletters,*x,**y)\n",
    "\n",
    "\n",
    "\n",
    "\n",
    "\n",
    "\n",
    "\n",
    "class Epistolary(Corpus):\n",
    "    NAME='Epistolary'\n",
    "    ID='epistolary'\n",
    "    TEXT_CLASS=TextEpistolary\n",
    "    CORPORA_TO_START_WITH = ['Chadwyck']\n",
    "\n",
    "\n",
    "# C = Epistolary()\n",
    "# C.meta"
   ]
  },
  {
   "cell_type": "code",
   "execution_count": null,
   "metadata": {},
   "outputs": [],
   "source": [
    "C=Epistolary()\n",
    "C.init()"
   ]
  },
  {
   "cell_type": "code",
   "execution_count": null,
   "metadata": {},
   "outputs": [],
   "source": [
    "t=C.texts()[-1]\n",
    "t, t.source"
   ]
  },
  {
   "cell_type": "code",
   "execution_count": null,
   "metadata": {},
   "outputs": [],
   "source": [
    "C.texts()"
   ]
  },
  {
   "cell_type": "code",
   "execution_count": null,
   "metadata": {},
   "outputs": [],
   "source": []
  },
  {
   "cell_type": "code",
   "execution_count": null,
   "metadata": {},
   "outputs": [],
   "source": [
    "# t = Text(id='_chadwyck/Eighteenth-Century_Fiction/burney.01')\n",
    "# t.meta"
   ]
  },
  {
   "cell_type": "code",
   "execution_count": null,
   "metadata": {},
   "outputs": [],
   "source": [
    "# Chad=load('Chadwyck')\n",
    "# Chad.init()\n",
    "# Chad.meta"
   ]
  },
  {
   "cell_type": "code",
   "execution_count": null,
   "metadata": {},
   "outputs": [],
   "source": [
    "meta=Chad.load_metadata_file()\n"
   ]
  },
  {
   "cell_type": "code",
   "execution_count": null,
   "metadata": {},
   "outputs": [],
   "source": [
    "\n",
    "\n",
    "# def load_metadata_from_df_or_fn(idf,force=False,**attrs):\n",
    "#     if type(idf)==str: idf=read_df(idf)\n",
    "#     if idf is None or not len(idf): return pd.DataFrame()\n",
    "#     #return df_requiring_id_and_corpus(idf,**attrs)\n",
    "#     return df_requiring_id(idf,**attrs).fillna('')\n",
    "\n",
    "\n",
    "# def df_requiring_id(df,idkey='id',fillna='',*x,**y):\n",
    "#     if df is None or not len(df): return pd.DataFrame(columns=[],index=[]).rename_axis(idkey)\n",
    "#     if df.index.name==idkey and not idkey in set(df.columns): df=df.reset_index()\n",
    "#     if not idkey in set(df.columns): df[idkey]=''\n",
    "#     df[idkey]=df[idkey].fillna('')\n",
    "#     df[idkey]=[(idx if idx else f'X{i+1:04}') for i,idx in enumerate(df[idkey])]\n",
    "#     df=df.fillna(fillna) if fillna is not None else df\n",
    "#     df=df.set_index(idkey)\n",
    "#     return df"
   ]
  },
  {
   "cell_type": "code",
   "execution_count": null,
   "metadata": {},
   "outputs": [],
   "source": []
  },
  {
   "cell_type": "code",
   "execution_count": null,
   "metadata": {},
   "outputs": [],
   "source": []
  },
  {
   "cell_type": "code",
   "execution_count": null,
   "metadata": {},
   "outputs": [],
   "source": []
  },
  {
   "cell_type": "code",
   "execution_count": null,
   "metadata": {},
   "outputs": [],
   "source": []
  },
  {
   "cell_type": "code",
   "execution_count": null,
   "metadata": {},
   "outputs": [],
   "source": [
    "t=C.texts()[1]\n",
    "t"
   ]
  },
  {
   "cell_type": "code",
   "execution_count": null,
   "metadata": {},
   "outputs": [],
   "source": [
    "t.source.meta"
   ]
  },
  {
   "cell_type": "code",
   "execution_count": null,
   "metadata": {},
   "outputs": [],
   "source": [
    "# !echo $PATH"
   ]
  },
  {
   "cell_type": "code",
   "execution_count": null,
   "metadata": {},
   "outputs": [],
   "source": []
  },
  {
   "cell_type": "code",
   "execution_count": null,
   "metadata": {},
   "outputs": [],
   "source": []
  },
  {
   "cell_type": "code",
   "execution_count": null,
   "metadata": {},
   "outputs": [],
   "source": [
    "idx='_chadwyck/Eighteenth-Century_Fiction/richards.04'"
   ]
  },
  {
   "cell_type": "code",
   "execution_count": null,
   "metadata": {},
   "outputs": [],
   "source": [
    "C = Epistolary()\n",
    "C.init()\n",
    "C.t.meta"
   ]
  },
  {
   "cell_type": "code",
   "execution_count": null,
   "metadata": {},
   "outputs": [],
   "source": [
    "t=C.t\n",
    "t._meta"
   ]
  },
  {
   "cell_type": "code",
   "execution_count": null,
   "metadata": {},
   "outputs": [],
   "source": [
    "t.source.corpus.init_metadata()"
   ]
  },
  {
   "cell_type": "code",
   "execution_count": null,
   "metadata": {},
   "outputs": [],
   "source": [
    "# t.id, t.source.id"
   ]
  },
  {
   "cell_type": "code",
   "execution_count": null,
   "metadata": {},
   "outputs": [],
   "source": []
  },
  {
   "cell_type": "code",
   "execution_count": null,
   "metadata": {},
   "outputs": [],
   "source": []
  },
  {
   "cell_type": "code",
   "execution_count": null,
   "metadata": {},
   "outputs": [],
   "source": [
    "t.meta"
   ]
  },
  {
   "cell_type": "code",
   "execution_count": null,
   "metadata": {},
   "outputs": [],
   "source": [
    "t.source_text()"
   ]
  },
  {
   "cell_type": "code",
   "execution_count": null,
   "metadata": {},
   "outputs": [],
   "source": []
  },
  {
   "cell_type": "code",
   "execution_count": null,
   "metadata": {},
   "outputs": [],
   "source": []
  },
  {
   "cell_type": "code",
   "execution_count": null,
   "metadata": {},
   "outputs": [],
   "source": []
  },
  {
   "cell_type": "code",
   "execution_count": null,
   "metadata": {},
   "outputs": [],
   "source": [
    "source_text(t)"
   ]
  },
  {
   "cell_type": "code",
   "execution_count": null,
   "metadata": {},
   "outputs": [],
   "source": []
  },
  {
   "cell_type": "code",
   "execution_count": null,
   "metadata": {},
   "outputs": [],
   "source": []
  },
  {
   "cell_type": "code",
   "execution_count": null,
   "metadata": {},
   "outputs": [],
   "source": [
    "Chad=load('Chadwyck')\n",
    "Chad.meta"
   ]
  },
  {
   "cell_type": "code",
   "execution_count": null,
   "metadata": {},
   "outputs": [],
   "source": []
  },
  {
   "cell_type": "code",
   "execution_count": null,
   "metadata": {},
   "outputs": [],
   "source": [
    "# load_metadata_from_df_or_fn(meta, id_corpus_default='chad')\n",
    "meta_final=pd.DataFrame([\n",
    "    {'id_text':'Eighteenth-Century_Fiction/richards.01', 'final':'!', 'id_corpus':'chadwyck'},\n",
    "])\n",
    "load_metadata_from_df_or_fn(meta_final)\n",
    "# meta_final"
   ]
  },
  {
   "cell_type": "code",
   "execution_count": null,
   "metadata": {},
   "outputs": [],
   "source": []
  },
  {
   "cell_type": "code",
   "execution_count": null,
   "metadata": {},
   "outputs": [],
   "source": [
    "C = Epistolary()\n"
   ]
  },
  {
   "cell_type": "code",
   "execution_count": null,
   "metadata": {},
   "outputs": [],
   "source": [
    "# load_metadata_from_df_or_fn(meta)"
   ]
  },
  {
   "cell_type": "code",
   "execution_count": null,
   "metadata": {},
   "outputs": [],
   "source": []
  },
  {
   "cell_type": "code",
   "execution_count": null,
   "metadata": {},
   "outputs": [],
   "source": [
    "meta"
   ]
  },
  {
   "cell_type": "code",
   "execution_count": null,
   "metadata": {},
   "outputs": [],
   "source": [
    "# meta.update??"
   ]
  },
  {
   "cell_type": "code",
   "execution_count": null,
   "metadata": {},
   "outputs": [],
   "source": [
    "init_metadata(Epistolary(),meta_init=meta,other_meta=[lltk.load('Chadwyck')])"
   ]
  },
  {
   "cell_type": "code",
   "execution_count": null,
   "metadata": {},
   "outputs": [],
   "source": []
  },
  {
   "cell_type": "code",
   "execution_count": null,
   "metadata": {},
   "outputs": [],
   "source": []
  },
  {
   "cell_type": "code",
   "execution_count": null,
   "metadata": {},
   "outputs": [],
   "source": [
    "C=Epistolary()\n",
    "C.init_metadata()"
   ]
  },
  {
   "cell_type": "code",
   "execution_count": null,
   "metadata": {},
   "outputs": [],
   "source": [
    "C.path_metadata_init"
   ]
  },
  {
   "cell_type": "code",
   "execution_count": null,
   "metadata": {},
   "outputs": [],
   "source": [
    "C.load_metadata()"
   ]
  },
  {
   "cell_type": "code",
   "execution_count": null,
   "metadata": {},
   "outputs": [],
   "source": [
    "C=Epistolary()"
   ]
  },
  {
   "cell_type": "code",
   "execution_count": null,
   "metadata": {},
   "outputs": [],
   "source": [
    "C.texts"
   ]
  },
  {
   "cell_type": "code",
   "execution_count": null,
   "metadata": {},
   "outputs": [],
   "source": []
  },
  {
   "cell_type": "code",
   "execution_count": null,
   "metadata": {},
   "outputs": [],
   "source": [
    "clary = get_clarissa()\n",
    "clary = SourceTextEpistolary(clary, hello='x!?')"
   ]
  },
  {
   "cell_type": "code",
   "execution_count": null,
   "metadata": {},
   "outputs": [],
   "source": []
  },
  {
   "cell_type": "code",
   "execution_count": null,
   "metadata": {},
   "outputs": [],
   "source": []
  },
  {
   "cell_type": "code",
   "execution_count": null,
   "metadata": {},
   "outputs": [],
   "source": []
  },
  {
   "cell_type": "code",
   "execution_count": null,
   "metadata": {},
   "outputs": [],
   "source": []
  },
  {
   "cell_type": "code",
   "execution_count": null,
   "metadata": {},
   "outputs": [],
   "source": []
  },
  {
   "cell_type": "code",
   "execution_count": null,
   "metadata": {},
   "outputs": [],
   "source": []
  }
 ],
 "metadata": {
  "interpreter": {
   "hash": "b0fa6594d8f4cbf19f97940f81e996739fb7646882a419484c72d19e05852a7e"
  },
  "kernelspec": {
   "display_name": "Python 3.9.10 64-bit",
   "language": "python",
   "name": "python3"
  },
  "language_info": {
   "codemirror_mode": {
    "name": "ipython",
    "version": 3
   },
   "file_extension": ".py",
   "mimetype": "text/x-python",
   "name": "python",
   "nbconvert_exporter": "python",
   "pygments_lexer": "ipython3",
   "version": "3.9.7"
  },
  "orig_nbformat": 4
 },
 "nbformat": 4,
 "nbformat_minor": 2
}

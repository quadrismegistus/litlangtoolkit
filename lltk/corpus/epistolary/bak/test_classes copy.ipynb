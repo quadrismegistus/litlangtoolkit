{
 "cells": [
  {
   "cell_type": "code",
   "execution_count": 8,
   "metadata": {},
   "outputs": [],
   "source": [
    "import os,sys; sys.path.insert(0,os.path.abspath('../../..'))\n",
    "from epistolary import *"
   ]
  },
  {
   "cell_type": "code",
   "execution_count": 9,
   "metadata": {},
   "outputs": [
    {
     "data": {
      "text/html": [
       "<div>\n",
       "<style scoped>\n",
       "    .dataframe tbody tr th:only-of-type {\n",
       "        vertical-align: middle;\n",
       "    }\n",
       "\n",
       "    .dataframe tbody tr th {\n",
       "        vertical-align: top;\n",
       "    }\n",
       "\n",
       "    .dataframe thead th {\n",
       "        text-align: right;\n",
       "    }\n",
       "</style>\n",
       "<table border=\"1\" class=\"dataframe\">\n",
       "  <thead>\n",
       "    <tr style=\"text-align: right;\">\n",
       "      <th></th>\n",
       "      <th>testing</th>\n",
       "      <th>author</th>\n",
       "      <th>title</th>\n",
       "      <th>year</th>\n",
       "      <th>idref</th>\n",
       "      <th>pub</th>\n",
       "      <th>type</th>\n",
       "      <th>name</th>\n",
       "      <th>nation</th>\n",
       "      <th>medium</th>\n",
       "      <th>subcorpus</th>\n",
       "      <th>fn_raw</th>\n",
       "    </tr>\n",
       "    <tr>\n",
       "      <th>id</th>\n",
       "      <th></th>\n",
       "      <th></th>\n",
       "      <th></th>\n",
       "      <th></th>\n",
       "      <th></th>\n",
       "      <th></th>\n",
       "      <th></th>\n",
       "      <th></th>\n",
       "      <th></th>\n",
       "      <th></th>\n",
       "      <th></th>\n",
       "      <th></th>\n",
       "    </tr>\n",
       "  </thead>\n",
       "  <tbody>\n",
       "    <tr>\n",
       "      <th>Eighteenth-Century_Fiction/richards.02</th>\n",
       "      <td>x</td>\n",
       "      <td></td>\n",
       "      <td></td>\n",
       "      <td></td>\n",
       "      <td></td>\n",
       "      <td></td>\n",
       "      <td></td>\n",
       "      <td></td>\n",
       "      <td></td>\n",
       "      <td></td>\n",
       "      <td></td>\n",
       "      <td></td>\n",
       "    </tr>\n",
       "    <tr>\n",
       "      <th>_chadwyck/Eighteenth-Century_Fiction/richards.04</th>\n",
       "      <td>y</td>\n",
       "      <td>Richardson, Samuel, 1689-1761</td>\n",
       "      <td>Pamela (1741)</td>\n",
       "      <td>1741</td>\n",
       "      <td>Z200045357</td>\n",
       "      <td>Printed for C. Rivington, in St. Paul's Church...</td>\n",
       "      <td>BOOK</td>\n",
       "      <td>Vol. 1</td>\n",
       "      <td>British</td>\n",
       "      <td>Fiction</td>\n",
       "      <td>Eighteenth-Century_Fiction</td>\n",
       "      <td>Eighteenth-Century_Fiction/richards.04.new</td>\n",
       "    </tr>\n",
       "    <tr>\n",
       "      <th>_chadwyck/Eighteenth-Century_Fiction/burney.01</th>\n",
       "      <td></td>\n",
       "      <td>Burney, Fanny, 1752-1840</td>\n",
       "      <td>Evelina (1778)</td>\n",
       "      <td>1778</td>\n",
       "      <td>Z200000830</td>\n",
       "      <td>Printed for T. Lowndes, [etc.]</td>\n",
       "      <td>BOOK</td>\n",
       "      <td>Vol. 1</td>\n",
       "      <td>British</td>\n",
       "      <td>Fiction</td>\n",
       "      <td>Eighteenth-Century_Fiction</td>\n",
       "      <td>Eighteenth-Century_Fiction/burney.01.new</td>\n",
       "    </tr>\n",
       "  </tbody>\n",
       "</table>\n",
       "</div>"
      ],
      "text/plain": [
       "                                                 testing  \\\n",
       "id                                                         \n",
       "Eighteenth-Century_Fiction/richards.02                 x   \n",
       "_chadwyck/Eighteenth-Century_Fiction/richards.04       y   \n",
       "_chadwyck/Eighteenth-Century_Fiction/burney.01             \n",
       "\n",
       "                                                                         author  \\\n",
       "id                                                                                \n",
       "Eighteenth-Century_Fiction/richards.02                                            \n",
       "_chadwyck/Eighteenth-Century_Fiction/richards.04  Richardson, Samuel, 1689-1761   \n",
       "_chadwyck/Eighteenth-Century_Fiction/burney.01         Burney, Fanny, 1752-1840   \n",
       "\n",
       "                                                           title  year  \\\n",
       "id                                                                       \n",
       "Eighteenth-Century_Fiction/richards.02                                   \n",
       "_chadwyck/Eighteenth-Century_Fiction/richards.04   Pamela (1741)  1741   \n",
       "_chadwyck/Eighteenth-Century_Fiction/burney.01    Evelina (1778)  1778   \n",
       "\n",
       "                                                       idref  \\\n",
       "id                                                             \n",
       "Eighteenth-Century_Fiction/richards.02                         \n",
       "_chadwyck/Eighteenth-Century_Fiction/richards.04  Z200045357   \n",
       "_chadwyck/Eighteenth-Century_Fiction/burney.01    Z200000830   \n",
       "\n",
       "                                                                                                pub  \\\n",
       "id                                                                                                    \n",
       "Eighteenth-Century_Fiction/richards.02                                                                \n",
       "_chadwyck/Eighteenth-Century_Fiction/richards.04  Printed for C. Rivington, in St. Paul's Church...   \n",
       "_chadwyck/Eighteenth-Century_Fiction/burney.01                       Printed for T. Lowndes, [etc.]   \n",
       "\n",
       "                                                  type    name   nation  \\\n",
       "id                                                                        \n",
       "Eighteenth-Century_Fiction/richards.02                                    \n",
       "_chadwyck/Eighteenth-Century_Fiction/richards.04  BOOK  Vol. 1  British   \n",
       "_chadwyck/Eighteenth-Century_Fiction/burney.01    BOOK  Vol. 1  British   \n",
       "\n",
       "                                                   medium  \\\n",
       "id                                                          \n",
       "Eighteenth-Century_Fiction/richards.02                      \n",
       "_chadwyck/Eighteenth-Century_Fiction/richards.04  Fiction   \n",
       "_chadwyck/Eighteenth-Century_Fiction/burney.01    Fiction   \n",
       "\n",
       "                                                                   subcorpus  \\\n",
       "id                                                                             \n",
       "Eighteenth-Century_Fiction/richards.02                                         \n",
       "_chadwyck/Eighteenth-Century_Fiction/richards.04  Eighteenth-Century_Fiction   \n",
       "_chadwyck/Eighteenth-Century_Fiction/burney.01    Eighteenth-Century_Fiction   \n",
       "\n",
       "                                                                                      fn_raw  \n",
       "id                                                                                            \n",
       "Eighteenth-Century_Fiction/richards.02                                                        \n",
       "_chadwyck/Eighteenth-Century_Fiction/richards.04  Eighteenth-Century_Fiction/richards.04.new  \n",
       "_chadwyck/Eighteenth-Century_Fiction/burney.01      Eighteenth-Century_Fiction/burney.01.new  "
      ]
     },
     "execution_count": 9,
     "metadata": {},
     "output_type": "execute_result"
    }
   ],
   "source": [
    "C=Epistolary()\n",
    "C.init()"
   ]
  },
  {
   "cell_type": "code",
   "execution_count": 10,
   "metadata": {},
   "outputs": [
    {
     "data": {
      "text/plain": [
       "(Burney, Fanny, 1752-1840, _Evelina (1778)_ (1778) [Epistolary: _chadwyck/Eighteenth-Century_Fiction/burney.01],\n",
       " Burney, Fanny, 1752-1840, _Evelina (1778)_ (1778) [Chadwyck: Eighteenth-Century_Fiction/burney.01])"
      ]
     },
     "execution_count": 10,
     "metadata": {},
     "output_type": "execute_result"
    }
   ],
   "source": [
    "t=C.texts()[-1]\n",
    "t, t.source"
   ]
  },
  {
   "cell_type": "code",
   "execution_count": 11,
   "metadata": {},
   "outputs": [
    {
     "data": {
      "text/plain": [
       "({'testing': '', 'id': '_chadwyck/Eighteenth-Century_Fiction/burney.01'},\n",
       " {'author': 'Burney, Fanny, 1752-1840',\n",
       "  'title': 'Evelina (1778)',\n",
       "  'year': '1778',\n",
       "  'idref': 'Z200000830',\n",
       "  'pub': 'Printed for T. Lowndes, [etc.]',\n",
       "  'type': 'BOOK',\n",
       "  'name': 'Vol. 1',\n",
       "  'nation': 'British',\n",
       "  'medium': 'Fiction',\n",
       "  'subcorpus': 'Eighteenth-Century_Fiction',\n",
       "  'fn_raw': 'Eighteenth-Century_Fiction/burney.01.new',\n",
       "  'id': 'Eighteenth-Century_Fiction/burney.01'})"
      ]
     },
     "execution_count": 11,
     "metadata": {},
     "output_type": "execute_result"
    }
   ],
   "source": [
    "t._meta, t.source._meta"
   ]
  },
  {
   "cell_type": "code",
   "execution_count": null,
   "metadata": {},
   "outputs": [],
   "source": []
  },
  {
   "cell_type": "code",
   "execution_count": 15,
   "metadata": {},
   "outputs": [],
   "source": [
    "# t = Text(id='_chadwyck/Eighteenth-Century_Fiction/burney.01')\n",
    "# t.meta"
   ]
  },
  {
   "cell_type": "code",
   "execution_count": 17,
   "metadata": {},
   "outputs": [],
   "source": [
    "# Chad=load('Chadwyck')\n",
    "# Chad.init()\n",
    "# Chad.meta"
   ]
  },
  {
   "cell_type": "code",
   "execution_count": 12,
   "metadata": {},
   "outputs": [],
   "source": [
    "meta=Chad.load_metadata_file()\n"
   ]
  },
  {
   "cell_type": "code",
   "execution_count": 16,
   "metadata": {},
   "outputs": [],
   "source": [
    "\n",
    "\n",
    "# def load_metadata_from_df_or_fn(idf,force=False,**attrs):\n",
    "#     if type(idf)==str: idf=read_df(idf)\n",
    "#     if idf is None or not len(idf): return pd.DataFrame()\n",
    "#     #return df_requiring_id_and_corpus(idf,**attrs)\n",
    "#     return df_requiring_id(idf,**attrs).fillna('')\n",
    "\n",
    "\n",
    "# def df_requiring_id(df,idkey='id',fillna='',*x,**y):\n",
    "#     if df is None or not len(df): return pd.DataFrame(columns=[],index=[]).rename_axis(idkey)\n",
    "#     if df.index.name==idkey and not idkey in set(df.columns): df=df.reset_index()\n",
    "#     if not idkey in set(df.columns): df[idkey]=''\n",
    "#     df[idkey]=df[idkey].fillna('')\n",
    "#     df[idkey]=[(idx if idx else f'X{i+1:04}') for i,idx in enumerate(df[idkey])]\n",
    "#     df=df.fillna(fillna) if fillna is not None else df\n",
    "#     df=df.set_index(idkey)\n",
    "#     return df"
   ]
  },
  {
   "cell_type": "code",
   "execution_count": null,
   "metadata": {},
   "outputs": [],
   "source": []
  },
  {
   "cell_type": "code",
   "execution_count": null,
   "metadata": {},
   "outputs": [],
   "source": []
  },
  {
   "cell_type": "code",
   "execution_count": null,
   "metadata": {},
   "outputs": [],
   "source": []
  },
  {
   "cell_type": "code",
   "execution_count": 20,
   "metadata": {},
   "outputs": [
    {
     "data": {
      "text/html": [
       "<div>\n",
       "<style scoped>\n",
       "    .dataframe tbody tr th:only-of-type {\n",
       "        vertical-align: middle;\n",
       "    }\n",
       "\n",
       "    .dataframe tbody tr th {\n",
       "        vertical-align: top;\n",
       "    }\n",
       "\n",
       "    .dataframe thead th {\n",
       "        text-align: right;\n",
       "    }\n",
       "</style>\n",
       "<table border=\"1\" class=\"dataframe\">\n",
       "  <thead>\n",
       "    <tr style=\"text-align: right;\">\n",
       "      <th></th>\n",
       "    </tr>\n",
       "    <tr>\n",
       "      <th>id</th>\n",
       "    </tr>\n",
       "  </thead>\n",
       "  <tbody>\n",
       "    <tr>\n",
       "      <th>Eighteenth-Century_Fiction/paltock.01</th>\n",
       "    </tr>\n",
       "    <tr>\n",
       "      <th>Eighteenth-Century_Fiction/brookefm.02</th>\n",
       "    </tr>\n",
       "    <tr>\n",
       "      <th>Eighteenth-Century_Fiction/mackenzi.01</th>\n",
       "    </tr>\n",
       "    <tr>\n",
       "      <th>Eighteenth-Century_Fiction/cleland.01</th>\n",
       "    </tr>\n",
       "    <tr>\n",
       "      <th>Eighteenth-Century_Fiction/haywood.07</th>\n",
       "    </tr>\n",
       "    <tr>\n",
       "      <th>...</th>\n",
       "    </tr>\n",
       "    <tr>\n",
       "      <th>Early_English_Prose_Fiction/ee54010.01</th>\n",
       "    </tr>\n",
       "    <tr>\n",
       "      <th>Early_English_Prose_Fiction/ee17010.04</th>\n",
       "    </tr>\n",
       "    <tr>\n",
       "      <th>Early_English_Prose_Fiction/ee73020.01</th>\n",
       "    </tr>\n",
       "    <tr>\n",
       "      <th>Early_English_Prose_Fiction/ee24020.03</th>\n",
       "    </tr>\n",
       "    <tr>\n",
       "      <th>Early_English_Prose_Fiction/ee12010.02</th>\n",
       "    </tr>\n",
       "  </tbody>\n",
       "</table>\n",
       "<p>1337 rows × 0 columns</p>\n",
       "</div>"
      ],
      "text/plain": [
       "Empty DataFrame\n",
       "Columns: []\n",
       "Index: [Eighteenth-Century_Fiction/paltock.01, Eighteenth-Century_Fiction/brookefm.02, Eighteenth-Century_Fiction/mackenzi.01, Eighteenth-Century_Fiction/cleland.01, Eighteenth-Century_Fiction/haywood.07, Eighteenth-Century_Fiction/johnston.01, Eighteenth-Century_Fiction/defoe.06, Eighteenth-Century_Fiction/richards.06, Eighteenth-Century_Fiction/smollett.05, Eighteenth-Century_Fiction/davys.03, Eighteenth-Century_Fiction/defoe.04, Eighteenth-Century_Fiction/sheridan.01, Eighteenth-Century_Fiction/walpole.01, Eighteenth-Century_Fiction/defoe.05, Eighteenth-Century_Fiction/defoe.07, Eighteenth-Century_Fiction/haywood.08, Eighteenth-Century_Fiction/lennox.01, Eighteenth-Century_Fiction/haywood.11, Eighteenth-Century_Fiction/fieldins.01, Eighteenth-Century_Fiction/smollett.04, Eighteenth-Century_Fiction/haywood.12, Eighteenth-Century_Fiction/defoe.08, Eighteenth-Century_Fiction/sheridan.02, Eighteenth-Century_Fiction/fieldinh.05, Eighteenth-Century_Fiction/burney.01, Eighteenth-Century_Fiction/swift.02, Eighteenth-Century_Fiction/manley.01, Eighteenth-Century_Fiction/brookefm.01, Eighteenth-Century_Fiction/haywood.05, Eighteenth-Century_Fiction/barker.01, Eighteenth-Century_Fiction/manley.05, Eighteenth-Century_Fiction/richards.04, Eighteenth-Century_Fiction/sterne.03, Eighteenth-Century_Fiction/manley.04, Eighteenth-Century_Fiction/reeve.01, Eighteenth-Century_Fiction/davys.01, Eighteenth-Century_Fiction/haywood.14, Eighteenth-Century_Fiction/fieldinz.01, Eighteenth-Century_Fiction/brookeh.01, Eighteenth-Century_Fiction/haywood.09, Eighteenth-Century_Fiction/aubin.05, Eighteenth-Century_Fiction/amory.01, Eighteenth-Century_Fiction/haywood.04, Eighteenth-Century_Fiction/fieldinh.01, Eighteenth-Century_Fiction/goldsmit.01, Eighteenth-Century_Fiction/haywood.01, Eighteenth-Century_Fiction/aubin.06, Eighteenth-Century_Fiction/fieldins.02, Eighteenth-Century_Fiction/davys.04, Eighteenth-Century_Fiction/richards.03, Eighteenth-Century_Fiction/haywood.13, Eighteenth-Century_Fiction/defoe.03, Eighteenth-Century_Fiction/smollett.01, Eighteenth-Century_Fiction/mackenzi.03, Eighteenth-Century_Fiction/richards.05, Eighteenth-Century_Fiction/fieldinh.04, Eighteenth-Century_Fiction/aubin.03, Eighteenth-Century_Fiction/smollett.03, Eighteenth-Century_Fiction/coventry.01, Eighteenth-Century_Fiction/manley.02, Eighteenth-Century_Fiction/smollett.06, Eighteenth-Century_Fiction/hawkeswo.01, Eighteenth-Century_Fiction/scott.01, Eighteenth-Century_Fiction/defoe.01, Eighteenth-Century_Fiction/aubin.02, Eighteenth-Century_Fiction/fieldinh.06, Eighteenth-Century_Fiction/barker.03, Eighteenth-Century_Fiction/smollett.02, Eighteenth-Century_Fiction/fieldinh.02, Eighteenth-Century_Fiction/richards.01, Eighteenth-Century_Fiction/manley.03, Eighteenth-Century_Fiction/haywood.06, Eighteenth-Century_Fiction/defoe.02, Eighteenth-Century_Fiction/scott.02, Eighteenth-Century_Fiction/haywood.02, Eighteenth-Century_Fiction/sterne.02, Eighteenth-Century_Fiction/swift.01, Eighteenth-Century_Fiction/haywood.15, Eighteenth-Century_Fiction/fieldinh.03, Eighteenth-Century_Fiction/davys.05, Eighteenth-Century_Fiction/barker.04, Eighteenth-Century_Fiction/aubin.07, Eighteenth-Century_Fiction/barker.02, Eighteenth-Century_Fiction/lennox.02, Eighteenth-Century_Fiction/aubin.01, Eighteenth-Century_Fiction/sterne.01, Eighteenth-Century_Fiction/davys.02, Eighteenth-Century_Fiction/graves.01, Eighteenth-Century_Fiction/johnson.01, Eighteenth-Century_Fiction/haywood.03, Eighteenth-Century_Fiction/richards.02, Eighteenth-Century_Fiction/mackenzi.02, Eighteenth-Century_Fiction/haywood.10, Eighteenth-Century_Fiction/sheridan.03, Eighteenth-Century_Fiction/aubin.04, Nineteenth-Century_Fiction/ncf0204.06, Nineteenth-Century_Fiction/ncf23608.01, Nineteenth-Century_Fiction/ncf22301.01, Nineteenth-Century_Fiction/ncf21101.02, Nineteenth-Century_Fiction/ncf3206.05, ...]\n",
       "\n",
       "[1337 rows x 0 columns]"
      ]
     },
     "execution_count": 20,
     "metadata": {},
     "output_type": "execute_result"
    }
   ],
   "source": []
  },
  {
   "cell_type": "code",
   "execution_count": 5,
   "metadata": {},
   "outputs": [
    {
     "data": {
      "text/plain": [
       "None, _None_ (None) [Epistolary: _chadwyck/Eighteenth-Century_Fiction/richards.04]"
      ]
     },
     "execution_count": 5,
     "metadata": {},
     "output_type": "execute_result"
    }
   ],
   "source": [
    "t=C.texts()[1]\n",
    "t"
   ]
  },
  {
   "cell_type": "code",
   "execution_count": 10,
   "metadata": {},
   "outputs": [
    {
     "data": {
      "text/plain": [
       "{'id': 'Eighteenth-Century_Fiction/richards.04'}"
      ]
     },
     "execution_count": 10,
     "metadata": {},
     "output_type": "execute_result"
    }
   ],
   "source": [
    "t.source.meta"
   ]
  },
  {
   "cell_type": "code",
   "execution_count": 11,
   "metadata": {},
   "outputs": [],
   "source": [
    "# !echo $PATH"
   ]
  },
  {
   "cell_type": "code",
   "execution_count": 2,
   "metadata": {},
   "outputs": [],
   "source": [
    "class TextEpistolary(Text):\n",
    "\n",
    "    def compile(self,lim=None,progress=True,force=False,*x,**y):\n",
    "        ofn_ltrs = os.path.join(C.paths['path_letters'], t.corpus.id, t.id + '.csv')\n",
    "        ofn_xml = os.path.join(C.paths['path_xml'], t.corpus.id, t.id + '.xml')\n",
    "        ofn_txt = os.path.join(C.paths['path_txt'], t.corpus.id, t.id + '.txt')\n",
    "\n",
    "        if not force and os.path.exists(ofn_ltrs):\n",
    "            odf = read_df(ofn_ltrs)\n",
    "            odf_anno=load_with_anno(ofn_ltrs)\n",
    "            if len(odf_anno) and 'id' in set(odf_anno.columns):\n",
    "                odf_anno=odf_anno.set_index('id')\n",
    "                odf_anno=odf_anno[[col for col in odf_anno.columns if not col.startswith('id_')]]\n",
    "                odx_anno=dict((idx, dict(row)) for idx,row in odf_anno.iterrows())\n",
    "\n",
    "                newkeys=set(rowdk for idx,rowd in odx_anno.items() for rowdk in rowd)\n",
    "                for nk in newkeys:\n",
    "                    odf[nk]=[odx_anno.get(idx,{}).get(nk,'') for idx in odf.id]\n",
    "            \n",
    "            return fix_meta(odf)\n",
    "            \n",
    "\n",
    "        ol=[]\n",
    "        #if force or not os.path.exists(ofn_ltrs) or not os.path.exists(ofn_xml) or not os.path.exists(ofn_txt):\n",
    "        if not os.path.exists(os.path.dirname(ofn_xml)): os.makedirs(os.path.dirname(ofn_xml))\n",
    "        if not os.path.exists(os.path.dirname(ofn_txt)): os.makedirs(os.path.dirname(ofn_txt))            \n",
    "        if not os.path.exists(os.path.dirname(ofn_ltrs)): os.makedirs(os.path.dirname(ofn_ltrs))            \n",
    "        \n",
    "        tdf=epistolarized_chadwyck_t(C,t=t,lim=lim,progress=progress,*x,**y)\n",
    "        if not len(tdf): return pd.DataFrame()\n",
    "\n",
    "    \n",
    "        todf=fix_meta(tdf)\n",
    "\n",
    "        for pxml,txml in zip(tdf.path_xml,tdf.xml):\n",
    "            if pxml and txml:\n",
    "                with open(pxml,'w') as of: of.write(txml)\n",
    "        for ptxt,ttxt in zip(tdf.path_txt,tdf.txt):\n",
    "            if ptxt and ttxt:\n",
    "                with open(ptxt,'w') as of: of.write(ttxt)\n",
    "\n",
    "        for needcol in {'sender_tok','sender_id','recip_tok','recip_id','front','title_letter'}:\n",
    "            if not needcol in set(todf.columns): todf[needcol]=''\n",
    "        for badcol in {'txt','xml','path_txt','path_xml'} & set(todf.columns):\n",
    "            todf=todf.drop(badcol,1)\n",
    "        \n",
    "        cols=[\n",
    "            'id','id_corpus','id_text','id_letter','letter_i',\n",
    "            'txt_head',\n",
    "            'txt_front',\n",
    "            'sender_tok',#'sender_id',\n",
    "            'recip_tok',#'recip_id',\n",
    "        ]\n",
    "        odf_ltrs=todf[[c for c in cols if c in set(todf.columns)]].fillna('')\n",
    "        save_df(fix_meta(odf_ltrs), ofn_ltrs, verbose=True)\n",
    "        return odf_ltrs\n",
    "\n",
    "        \n",
    "    def compile_text_chars(self,t,tdf=None,force=False,force_inner=False,verbose=False,*x,**y):\n",
    "        id_corpus=t.corpus.id\n",
    "        id_text=t.id\n",
    "\n",
    "        ofn_tok2id = os.path.join(self.path_chars, id_corpus, id_text, 'tok2id.csv')\n",
    "        ofn_id2meta = os.path.join(self.path_chars, id_corpus, id_text, 'id2meta.csv')\n",
    "\n",
    "        if force or not os.path.exists(ofn_tok2id):\n",
    "            # get latest sender,recip data\n",
    "            if tdf is None: tdf=self.compile_text(t,force=force_inner,*x,**y)\n",
    "            odf_tok2id=calculate_tok2id(tdf.fillna(''))\n",
    "            save_df(odf_tok2id, ofn_tok2id, verbose=verbose, index=False)\n",
    "            if verbose: display(odf_tok2id)\n",
    "        else:\n",
    "            odf_tok2id=read_df(ofn_tok2id)\n",
    "        \n",
    "        # update with anno\n",
    "        odf_tok2id_anno=load_with_anno(ofn_tok2id)\n",
    "        if len(odf_tok2id_anno):\n",
    "            d_tok2id_anno=dict(zip(odf_tok2id_anno.char_tok, odf_tok2id_anno.char_id)) if len(odf_tok2id_anno) else {}\n",
    "            odf_tok2id['char_id']=[d_tok2id_anno.get(ctok,cid) for ctok,cid in zip(odf_tok2id.char_tok,odf_tok2id.char_id)]\n",
    "        \n",
    "        \n",
    "\n",
    "        ## id2meta\n",
    "        if force or not os.path.exists(ofn_id2meta):\n",
    "            ## id2meta\n",
    "            char_ids = Counter()\n",
    "            for char_id,char_tok_count in zip(odf_tok2id.char_id, odf_tok2id.char_tok_count):\n",
    "                char_ids[char_id]+=char_tok_count\n",
    "            # init?\n",
    "            id2meta_l=[]\n",
    "            for char_id,char_id_count in char_ids.most_common():\n",
    "                char_dx={'char_id':char_id, 'char_id_count':char_id_count, **chardata_metakeys_initial}\n",
    "                id2meta_l.append(char_dx)\n",
    "            odf_id2meta = pd.DataFrame(id2meta_l).fillna('')\n",
    "            save_df(odf_id2meta, ofn_id2meta, verbose=verbose, index=False)\n",
    "            if verbose: display(odf_id2meta)\n",
    "        else:\n",
    "            odf_id2meta=read_df(ofn_id2meta)\n",
    "\n",
    "        # update with anno\n",
    "        odf_id2meta=odf_id2meta.set_index('char_id')\n",
    "        odf_id2meta_anno=load_with_anno(ofn_id2meta)\n",
    "        if len(odf_id2meta_anno) and 'char_id' in set(odf_id2meta_anno.columns):\n",
    "            odf_id2meta_anno=odf_id2meta_anno.fillna('').set_index('char_id')\n",
    "            odf_id2meta_anno=odf_id2meta_anno[[col for col in odf_id2meta_anno if col not in {'char_id_count'}]]\n",
    "            odf_id2meta.update(odf_id2meta_anno)\n",
    "        odf_id2meta=odf_id2meta.reset_index()\n",
    "        \n",
    "        return odf_tok2id.fillna(''), odf_id2meta.fillna('')\n",
    "        \n",
    "    def get_letters(self,t,force=False,*x,**y):\n",
    "        df_letters=self.compile_text(t,force=force,*x,**y)\n",
    "        df_tok2id,df_id2meta=self.compile_text_chars(t,force=force,*x,**y)\n",
    "        d_tok2id=dict(zip(df_tok2id.char_tok, df_tok2id.char_id))\n",
    "        cols_id2meta_uniq=[col for col in df_id2meta if col not in set(df_letters.columns)]\n",
    "        df_id2meta=df_id2meta[cols_id2meta_uniq]\n",
    "\n",
    "        for sndr in ['sender','recip']:\n",
    "            sidkey=f'{sndr}_id'\n",
    "            df_letters[sidkey]=df_letters[f'{sndr}_tok'].apply(lambda stok: d_tok2id.get(stok,stok))\n",
    "            senders = set(df_letters[sidkey])\n",
    "            df_id2meta_now = df_id2meta[df_id2meta.char_id.isin(senders)]\n",
    "            df_id2meta_now.columns=[col.replace('char_',f'{sndr}_') for col in df_id2meta.columns]\n",
    "            if sidkey in set(df_id2meta_now.columns):\n",
    "                df_letters = df_letters.merge(df_id2meta_now, how='left', on=sidkey)\n",
    "            \n",
    "        return df_letters\n",
    "\n",
    "\n",
    "    def iter_letter_networks(self,t,dfletters=None,*x,**y):\n",
    "        dfletters=self.get_letters(t,*x,**y) if dfletters is None else dfletters\n",
    "        return iter_letter_networks_from_dfletters(dfletters,*x,**y)\n",
    "\n",
    "    def get_letter_network(self,t,dfletters=None,*x,**y):\n",
    "        dfletters=self.get_letters(t,*x,**y) if dfletters is None else dfletters\n",
    "        return get_letter_network_from_dfletters(dfletters,*x,**y)\n",
    "\n",
    "\n",
    "\n",
    "\n"
   ]
  },
  {
   "cell_type": "code",
   "execution_count": 4,
   "metadata": {},
   "outputs": [
    {
     "data": {
      "text/plain": [
       "'??'"
      ]
     },
     "metadata": {},
     "output_type": "display_data"
    },
    {
     "data": {
      "text/html": [
       "<div>\n",
       "<style scoped>\n",
       "    .dataframe tbody tr th:only-of-type {\n",
       "        vertical-align: middle;\n",
       "    }\n",
       "\n",
       "    .dataframe tbody tr th {\n",
       "        vertical-align: top;\n",
       "    }\n",
       "\n",
       "    .dataframe thead th {\n",
       "        text-align: right;\n",
       "    }\n",
       "</style>\n",
       "<table border=\"1\" class=\"dataframe\">\n",
       "  <thead>\n",
       "    <tr style=\"text-align: right;\">\n",
       "      <th></th>\n",
       "      <th>testing</th>\n",
       "    </tr>\n",
       "    <tr>\n",
       "      <th>id</th>\n",
       "      <th></th>\n",
       "    </tr>\n",
       "  </thead>\n",
       "  <tbody>\n",
       "    <tr>\n",
       "      <th>Eighteenth-Century_Fiction/richards.02</th>\n",
       "      <td>x</td>\n",
       "    </tr>\n",
       "    <tr>\n",
       "      <th>_chadwyck/Eighteenth-Century_Fiction/richards.04</th>\n",
       "      <td>y</td>\n",
       "    </tr>\n",
       "    <tr>\n",
       "      <th>_chadwyck/Eighteenth-Century_Fiction/burney.01</th>\n",
       "      <td></td>\n",
       "    </tr>\n",
       "  </tbody>\n",
       "</table>\n",
       "</div>"
      ],
      "text/plain": [
       "                                                 testing\n",
       "id                                                      \n",
       "Eighteenth-Century_Fiction/richards.02                 x\n",
       "_chadwyck/Eighteenth-Century_Fiction/richards.04       y\n",
       "_chadwyck/Eighteenth-Century_Fiction/burney.01          "
      ]
     },
     "metadata": {},
     "output_type": "display_data"
    },
    {
     "data": {
      "text/plain": [
       "'!!'"
      ]
     },
     "metadata": {},
     "output_type": "display_data"
    },
    {
     "data": {
      "text/html": [
       "<div>\n",
       "<style scoped>\n",
       "    .dataframe tbody tr th:only-of-type {\n",
       "        vertical-align: middle;\n",
       "    }\n",
       "\n",
       "    .dataframe tbody tr th {\n",
       "        vertical-align: top;\n",
       "    }\n",
       "\n",
       "    .dataframe thead th {\n",
       "        text-align: right;\n",
       "    }\n",
       "</style>\n",
       "<table border=\"1\" class=\"dataframe\">\n",
       "  <thead>\n",
       "    <tr style=\"text-align: right;\">\n",
       "      <th></th>\n",
       "    </tr>\n",
       "    <tr>\n",
       "      <th>id</th>\n",
       "    </tr>\n",
       "  </thead>\n",
       "  <tbody>\n",
       "    <tr>\n",
       "      <th>Eighteenth-Century_Fiction/richards.02</th>\n",
       "    </tr>\n",
       "    <tr>\n",
       "      <th>_chadwyck/Eighteenth-Century_Fiction/richards.04</th>\n",
       "    </tr>\n",
       "    <tr>\n",
       "      <th>_chadwyck/Eighteenth-Century_Fiction/burney.01</th>\n",
       "    </tr>\n",
       "  </tbody>\n",
       "</table>\n",
       "</div>"
      ],
      "text/plain": [
       "Empty DataFrame\n",
       "Columns: []\n",
       "Index: [Eighteenth-Century_Fiction/richards.02, _chadwyck/Eighteenth-Century_Fiction/richards.04, _chadwyck/Eighteenth-Century_Fiction/burney.01]"
      ]
     },
     "metadata": {},
     "output_type": "display_data"
    },
    {
     "data": {
      "text/html": [
       "<div>\n",
       "<style scoped>\n",
       "    .dataframe tbody tr th:only-of-type {\n",
       "        vertical-align: middle;\n",
       "    }\n",
       "\n",
       "    .dataframe tbody tr th {\n",
       "        vertical-align: top;\n",
       "    }\n",
       "\n",
       "    .dataframe thead th {\n",
       "        text-align: right;\n",
       "    }\n",
       "</style>\n",
       "<table border=\"1\" class=\"dataframe\">\n",
       "  <thead>\n",
       "    <tr style=\"text-align: right;\">\n",
       "      <th></th>\n",
       "    </tr>\n",
       "    <tr>\n",
       "      <th>id</th>\n",
       "    </tr>\n",
       "  </thead>\n",
       "  <tbody>\n",
       "    <tr>\n",
       "      <th>Eighteenth-Century_Fiction/richards.02</th>\n",
       "    </tr>\n",
       "    <tr>\n",
       "      <th>_chadwyck/Eighteenth-Century_Fiction/richards.04</th>\n",
       "    </tr>\n",
       "    <tr>\n",
       "      <th>_chadwyck/Eighteenth-Century_Fiction/burney.01</th>\n",
       "    </tr>\n",
       "  </tbody>\n",
       "</table>\n",
       "</div>"
      ],
      "text/plain": [
       "Empty DataFrame\n",
       "Columns: []\n",
       "Index: [Eighteenth-Century_Fiction/richards.02, _chadwyck/Eighteenth-Century_Fiction/richards.04, _chadwyck/Eighteenth-Century_Fiction/burney.01]"
      ]
     },
     "execution_count": 4,
     "metadata": {},
     "output_type": "execute_result"
    }
   ],
   "source": []
  },
  {
   "cell_type": "code",
   "execution_count": 3,
   "metadata": {},
   "outputs": [],
   "source": [
    "idx='_chadwyck/Eighteenth-Century_Fiction/richards.04'"
   ]
  },
  {
   "cell_type": "code",
   "execution_count": 29,
   "metadata": {},
   "outputs": [
    {
     "data": {
      "text/plain": [
       "{'id': '_chadwyck/Eighteenth-Century_Fiction/burney.01'}"
      ]
     },
     "execution_count": 29,
     "metadata": {},
     "output_type": "execute_result"
    }
   ],
   "source": [
    "C = Epistolary()\n",
    "C.init()\n",
    "C.t.meta"
   ]
  },
  {
   "cell_type": "code",
   "execution_count": 37,
   "metadata": {},
   "outputs": [
    {
     "data": {
      "text/plain": [
       "{'id': '_chadwyck/Eighteenth-Century_Fiction/burney.01'}"
      ]
     },
     "execution_count": 37,
     "metadata": {},
     "output_type": "execute_result"
    }
   ],
   "source": [
    "t=C.t\n",
    "t._meta"
   ]
  },
  {
   "cell_type": "code",
   "execution_count": 41,
   "metadata": {},
   "outputs": [
    {
     "ename": "AttributeError",
     "evalue": "'Chadwyck' object has no attribute 'init_metadata'",
     "output_type": "error",
     "traceback": [
      "\u001b[0;31m---------------------------------------------------------------------------\u001b[0m",
      "\u001b[0;31mAttributeError\u001b[0m                            Traceback (most recent call last)",
      "\u001b[1;32m/Users/ryan/lltk_data/corpora/epistolary/test_classes.ipynb Cell 6'\u001b[0m in \u001b[0;36m<module>\u001b[0;34m\u001b[0m\n\u001b[0;32m----> <a href='vscode-notebook-cell:/Users/ryan/lltk_data/corpora/epistolary/test_classes.ipynb#ch0000126?line=0'>1</a>\u001b[0m t\u001b[39m.\u001b[39;49msource\u001b[39m.\u001b[39;49mcorpus\u001b[39m.\u001b[39;49minit_metadata()\n",
      "\u001b[0;31mAttributeError\u001b[0m: 'Chadwyck' object has no attribute 'init_metadata'"
     ]
    }
   ],
   "source": [
    "t.source.corpus.init_metadata()"
   ]
  },
  {
   "cell_type": "code",
   "execution_count": 21,
   "metadata": {},
   "outputs": [
    {
     "data": {
      "text/plain": [
       "('_chadwyck/Eighteenth-Century_Fiction/richards.04',\n",
       " 'Eighteenth-Century_Fiction/richards.04')"
      ]
     },
     "execution_count": 21,
     "metadata": {},
     "output_type": "execute_result"
    }
   ],
   "source": [
    "# t.id, t.source.id"
   ]
  },
  {
   "cell_type": "code",
   "execution_count": 23,
   "metadata": {},
   "outputs": [
    {
     "data": {
      "text/plain": [
       "Richardson, Samuel, 1689-1761, _Pamela (1741)_ (1741) [_chadwyck/Eighteenth-Century_Fiction/richards.04]"
      ]
     },
     "execution_count": 23,
     "metadata": {},
     "output_type": "execute_result"
    }
   ],
   "source": []
  },
  {
   "cell_type": "code",
   "execution_count": null,
   "metadata": {},
   "outputs": [],
   "source": []
  },
  {
   "cell_type": "code",
   "execution_count": 9,
   "metadata": {},
   "outputs": [
    {
     "data": {
      "text/plain": [
       "{'testing': 'x', 'id': 'Eighteenth-Century_Fiction/richards.02'}"
      ]
     },
     "execution_count": 9,
     "metadata": {},
     "output_type": "execute_result"
    }
   ],
   "source": [
    "t.meta"
   ]
  },
  {
   "cell_type": "code",
   "execution_count": 13,
   "metadata": {},
   "outputs": [
    {
     "name": "stdout",
     "output_type": "stream",
     "text": [
      "epistolary Eighteenth-Century_Fiction/richards.02 --> epistolary Eighteenth-Century_Fiction/richards.02\n"
     ]
    },
    {
     "data": {
      "text/plain": [
       "False"
      ]
     },
     "execution_count": 13,
     "metadata": {},
     "output_type": "execute_result"
    }
   ],
   "source": [
    "t.source_text()"
   ]
  },
  {
   "cell_type": "code",
   "execution_count": null,
   "metadata": {},
   "outputs": [],
   "source": []
  },
  {
   "cell_type": "code",
   "execution_count": null,
   "metadata": {},
   "outputs": [],
   "source": []
  },
  {
   "cell_type": "code",
   "execution_count": 22,
   "metadata": {},
   "outputs": [],
   "source": []
  },
  {
   "cell_type": "code",
   "execution_count": 23,
   "metadata": {},
   "outputs": [
    {
     "data": {
      "text/html": [
       "<div>\n",
       "<style scoped>\n",
       "    .dataframe tbody tr th:only-of-type {\n",
       "        vertical-align: middle;\n",
       "    }\n",
       "\n",
       "    .dataframe tbody tr th {\n",
       "        vertical-align: top;\n",
       "    }\n",
       "\n",
       "    .dataframe thead th {\n",
       "        text-align: right;\n",
       "    }\n",
       "</style>\n",
       "<table border=\"1\" class=\"dataframe\">\n",
       "  <thead>\n",
       "    <tr style=\"text-align: right;\">\n",
       "      <th></th>\n",
       "      <th>author</th>\n",
       "      <th>title</th>\n",
       "      <th>year</th>\n",
       "      <th>idref</th>\n",
       "      <th>pub</th>\n",
       "      <th>type</th>\n",
       "      <th>name</th>\n",
       "      <th>nation</th>\n",
       "      <th>medium</th>\n",
       "      <th>subcorpus</th>\n",
       "      <th>fn_raw</th>\n",
       "      <th>id_corpus</th>\n",
       "      <th>_id</th>\n",
       "      <th>id_text</th>\n",
       "    </tr>\n",
       "    <tr>\n",
       "      <th>id</th>\n",
       "      <th></th>\n",
       "      <th></th>\n",
       "      <th></th>\n",
       "      <th></th>\n",
       "      <th></th>\n",
       "      <th></th>\n",
       "      <th></th>\n",
       "      <th></th>\n",
       "      <th></th>\n",
       "      <th></th>\n",
       "      <th></th>\n",
       "      <th></th>\n",
       "      <th></th>\n",
       "      <th></th>\n",
       "    </tr>\n",
       "  </thead>\n",
       "  <tbody>\n",
       "    <tr>\n",
       "      <th>Eighteenth-Century_Fiction/richards.01</th>\n",
       "      <td>Richardson, Samuel, 1689-1761</td>\n",
       "      <td>Clarissa (1st ed.) (1748)</td>\n",
       "      <td>1748</td>\n",
       "      <td>Z200044053</td>\n",
       "      <td>Printed for S. Richardson: [etc.]</td>\n",
       "      <td>BOOK</td>\n",
       "      <td>Vol. 1</td>\n",
       "      <td>British</td>\n",
       "      <td>Fiction</td>\n",
       "      <td>Eighteenth-Century_Fiction</td>\n",
       "      <td>Eighteenth-Century_Fiction/richards.01.new</td>\n",
       "      <td>chadwyck</td>\n",
       "      <td>chadwyck|Eighteenth-Century_Fiction/richards.01</td>\n",
       "      <td>Eighteenth-Century_Fiction/richards.01</td>\n",
       "    </tr>\n",
       "  </tbody>\n",
       "</table>\n",
       "</div>"
      ],
      "text/plain": [
       "                                                               author  \\\n",
       "id                                                                      \n",
       "Eighteenth-Century_Fiction/richards.01  Richardson, Samuel, 1689-1761   \n",
       "\n",
       "                                                            title  year  \\\n",
       "id                                                                        \n",
       "Eighteenth-Century_Fiction/richards.01  Clarissa (1st ed.) (1748)  1748   \n",
       "\n",
       "                                             idref  \\\n",
       "id                                                   \n",
       "Eighteenth-Century_Fiction/richards.01  Z200044053   \n",
       "\n",
       "                                                                      pub  \\\n",
       "id                                                                          \n",
       "Eighteenth-Century_Fiction/richards.01  Printed for S. Richardson: [etc.]   \n",
       "\n",
       "                                        type    name   nation   medium  \\\n",
       "id                                                                       \n",
       "Eighteenth-Century_Fiction/richards.01  BOOK  Vol. 1  British  Fiction   \n",
       "\n",
       "                                                         subcorpus  \\\n",
       "id                                                                   \n",
       "Eighteenth-Century_Fiction/richards.01  Eighteenth-Century_Fiction   \n",
       "\n",
       "                                                                            fn_raw  \\\n",
       "id                                                                                   \n",
       "Eighteenth-Century_Fiction/richards.01  Eighteenth-Century_Fiction/richards.01.new   \n",
       "\n",
       "                                       id_corpus  \\\n",
       "id                                                 \n",
       "Eighteenth-Century_Fiction/richards.01  chadwyck   \n",
       "\n",
       "                                                                                    _id  \\\n",
       "id                                                                                        \n",
       "Eighteenth-Century_Fiction/richards.01  chadwyck|Eighteenth-Century_Fiction/richards.01   \n",
       "\n",
       "                                                                       id_text  \n",
       "id                                                                              \n",
       "Eighteenth-Century_Fiction/richards.01  Eighteenth-Century_Fiction/richards.01  "
      ]
     },
     "execution_count": 23,
     "metadata": {},
     "output_type": "execute_result"
    }
   ],
   "source": [
    "source_text(t)"
   ]
  },
  {
   "cell_type": "code",
   "execution_count": null,
   "metadata": {},
   "outputs": [],
   "source": []
  },
  {
   "cell_type": "code",
   "execution_count": 7,
   "metadata": {},
   "outputs": [],
   "source": []
  },
  {
   "cell_type": "code",
   "execution_count": 8,
   "metadata": {},
   "outputs": [
    {
     "data": {
      "text/html": [
       "<div>\n",
       "<style scoped>\n",
       "    .dataframe tbody tr th:only-of-type {\n",
       "        vertical-align: middle;\n",
       "    }\n",
       "\n",
       "    .dataframe tbody tr th {\n",
       "        vertical-align: top;\n",
       "    }\n",
       "\n",
       "    .dataframe thead th {\n",
       "        text-align: right;\n",
       "    }\n",
       "</style>\n",
       "<table border=\"1\" class=\"dataframe\">\n",
       "  <thead>\n",
       "    <tr style=\"text-align: right;\">\n",
       "      <th></th>\n",
       "    </tr>\n",
       "  </thead>\n",
       "  <tbody>\n",
       "  </tbody>\n",
       "</table>\n",
       "</div>"
      ],
      "text/plain": [
       "Empty DataFrame\n",
       "Columns: []\n",
       "Index: []"
      ]
     },
     "execution_count": 8,
     "metadata": {},
     "output_type": "execute_result"
    }
   ],
   "source": [
    "Chad=load('Chadwyck')\n",
    "Chad.meta"
   ]
  },
  {
   "cell_type": "code",
   "execution_count": null,
   "metadata": {},
   "outputs": [],
   "source": []
  },
  {
   "cell_type": "code",
   "execution_count": 43,
   "metadata": {},
   "outputs": [
    {
     "data": {
      "text/html": [
       "<div>\n",
       "<style scoped>\n",
       "    .dataframe tbody tr th:only-of-type {\n",
       "        vertical-align: middle;\n",
       "    }\n",
       "\n",
       "    .dataframe tbody tr th {\n",
       "        vertical-align: top;\n",
       "    }\n",
       "\n",
       "    .dataframe thead th {\n",
       "        text-align: right;\n",
       "    }\n",
       "</style>\n",
       "<table border=\"1\" class=\"dataframe\">\n",
       "  <thead>\n",
       "    <tr style=\"text-align: right;\">\n",
       "      <th></th>\n",
       "      <th>id_text</th>\n",
       "      <th>final</th>\n",
       "      <th>id_corpus</th>\n",
       "      <th>id</th>\n",
       "    </tr>\n",
       "    <tr>\n",
       "      <th>_id</th>\n",
       "      <th></th>\n",
       "      <th></th>\n",
       "      <th></th>\n",
       "      <th></th>\n",
       "    </tr>\n",
       "  </thead>\n",
       "  <tbody>\n",
       "    <tr>\n",
       "      <th>chadwyck|Eighteenth-Century_Fiction/richards.01</th>\n",
       "      <td>Eighteenth-Century_Fiction/richards.01</td>\n",
       "      <td>!</td>\n",
       "      <td>chadwyck</td>\n",
       "      <td>chadwyck|Eighteenth-Century_Fiction/richards.01</td>\n",
       "    </tr>\n",
       "  </tbody>\n",
       "</table>\n",
       "</div>"
      ],
      "text/plain": [
       "                                                                                id_text  \\\n",
       "_id                                                                                       \n",
       "chadwyck|Eighteenth-Century_Fiction/richards.01  Eighteenth-Century_Fiction/richards.01   \n",
       "\n",
       "                                                final id_corpus  \\\n",
       "_id                                                               \n",
       "chadwyck|Eighteenth-Century_Fiction/richards.01     !  chadwyck   \n",
       "\n",
       "                                                                                              id  \n",
       "_id                                                                                               \n",
       "chadwyck|Eighteenth-Century_Fiction/richards.01  chadwyck|Eighteenth-Century_Fiction/richards.01  "
      ]
     },
     "execution_count": 43,
     "metadata": {},
     "output_type": "execute_result"
    }
   ],
   "source": [
    "# load_metadata_from_df_or_fn(meta, id_corpus_default='chad')\n",
    "meta_final=pd.DataFrame([\n",
    "    {'id_text':'Eighteenth-Century_Fiction/richards.01', 'final':'!', 'id_corpus':'chadwyck'},\n",
    "])\n",
    "load_metadata_from_df_or_fn(meta_final)\n",
    "# meta_final"
   ]
  },
  {
   "cell_type": "code",
   "execution_count": null,
   "metadata": {},
   "outputs": [],
   "source": []
  },
  {
   "cell_type": "code",
   "execution_count": 44,
   "metadata": {},
   "outputs": [
    {
     "data": {
      "text/html": [
       "<div>\n",
       "<style scoped>\n",
       "    .dataframe tbody tr th:only-of-type {\n",
       "        vertical-align: middle;\n",
       "    }\n",
       "\n",
       "    .dataframe tbody tr th {\n",
       "        vertical-align: top;\n",
       "    }\n",
       "\n",
       "    .dataframe thead th {\n",
       "        text-align: right;\n",
       "    }\n",
       "</style>\n",
       "<table border=\"1\" class=\"dataframe\">\n",
       "  <thead>\n",
       "    <tr style=\"text-align: right;\">\n",
       "      <th></th>\n",
       "      <th>id</th>\n",
       "      <th>testing</th>\n",
       "      <th>id_text</th>\n",
       "      <th>id_corpus</th>\n",
       "      <th>final</th>\n",
       "    </tr>\n",
       "    <tr>\n",
       "      <th>_id</th>\n",
       "      <th></th>\n",
       "      <th></th>\n",
       "      <th></th>\n",
       "      <th></th>\n",
       "      <th></th>\n",
       "    </tr>\n",
       "  </thead>\n",
       "  <tbody>\n",
       "    <tr>\n",
       "      <th>Eighteenth-Century_Fiction/richards.02</th>\n",
       "      <td>Eighteenth-Century_Fiction/richards.02</td>\n",
       "      <td>x</td>\n",
       "      <td>Eighteenth-Century_Fiction/richards.02</td>\n",
       "      <td></td>\n",
       "      <td></td>\n",
       "    </tr>\n",
       "    <tr>\n",
       "      <th>chadwyck|chadwyck|Eighteenth-Century_Fiction/richards.04</th>\n",
       "      <td>chadwyck|Eighteenth-Century_Fiction/richards.04</td>\n",
       "      <td>y</td>\n",
       "      <td>Eighteenth-Century_Fiction/richards.04</td>\n",
       "      <td>chadwyck</td>\n",
       "      <td></td>\n",
       "    </tr>\n",
       "    <tr>\n",
       "      <th>chadwyck|chadwyck|Eighteenth-Century_Fiction/burney.01</th>\n",
       "      <td>chadwyck|Eighteenth-Century_Fiction/burney.01</td>\n",
       "      <td></td>\n",
       "      <td>Eighteenth-Century_Fiction/burney.01</td>\n",
       "      <td>chadwyck</td>\n",
       "      <td></td>\n",
       "    </tr>\n",
       "  </tbody>\n",
       "</table>\n",
       "</div>"
      ],
      "text/plain": [
       "                                                                                                 id  \\\n",
       "_id                                                                                                   \n",
       "Eighteenth-Century_Fiction/richards.02                       Eighteenth-Century_Fiction/richards.02   \n",
       "chadwyck|chadwyck|Eighteenth-Century_Fiction/ri...  chadwyck|Eighteenth-Century_Fiction/richards.04   \n",
       "chadwyck|chadwyck|Eighteenth-Century_Fiction/bu...    chadwyck|Eighteenth-Century_Fiction/burney.01   \n",
       "\n",
       "                                                   testing  \\\n",
       "_id                                                          \n",
       "Eighteenth-Century_Fiction/richards.02                   x   \n",
       "chadwyck|chadwyck|Eighteenth-Century_Fiction/ri...       y   \n",
       "chadwyck|chadwyck|Eighteenth-Century_Fiction/bu...           \n",
       "\n",
       "                                                                                   id_text  \\\n",
       "_id                                                                                          \n",
       "Eighteenth-Century_Fiction/richards.02              Eighteenth-Century_Fiction/richards.02   \n",
       "chadwyck|chadwyck|Eighteenth-Century_Fiction/ri...  Eighteenth-Century_Fiction/richards.04   \n",
       "chadwyck|chadwyck|Eighteenth-Century_Fiction/bu...    Eighteenth-Century_Fiction/burney.01   \n",
       "\n",
       "                                                   id_corpus final  \n",
       "_id                                                                 \n",
       "Eighteenth-Century_Fiction/richards.02                              \n",
       "chadwyck|chadwyck|Eighteenth-Century_Fiction/ri...  chadwyck        \n",
       "chadwyck|chadwyck|Eighteenth-Century_Fiction/bu...  chadwyck        "
      ]
     },
     "execution_count": 44,
     "metadata": {},
     "output_type": "execute_result"
    }
   ],
   "source": [
    "C = Epistolary()\n"
   ]
  },
  {
   "cell_type": "code",
   "execution_count": 161,
   "metadata": {},
   "outputs": [],
   "source": [
    "# load_metadata_from_df_or_fn(meta)"
   ]
  },
  {
   "cell_type": "code",
   "execution_count": null,
   "metadata": {},
   "outputs": [],
   "source": []
  },
  {
   "cell_type": "code",
   "execution_count": 125,
   "metadata": {},
   "outputs": [
    {
     "data": {
      "text/html": [
       "<div>\n",
       "<style scoped>\n",
       "    .dataframe tbody tr th:only-of-type {\n",
       "        vertical-align: middle;\n",
       "    }\n",
       "\n",
       "    .dataframe tbody tr th {\n",
       "        vertical-align: top;\n",
       "    }\n",
       "\n",
       "    .dataframe thead th {\n",
       "        text-align: right;\n",
       "    }\n",
       "</style>\n",
       "<table border=\"1\" class=\"dataframe\">\n",
       "  <thead>\n",
       "    <tr style=\"text-align: right;\">\n",
       "      <th></th>\n",
       "      <th>id</th>\n",
       "      <th>x</th>\n",
       "    </tr>\n",
       "  </thead>\n",
       "  <tbody>\n",
       "    <tr>\n",
       "      <th>0</th>\n",
       "      <td>chadwyck|Eighteenth-Century_Fiction/richards.01</td>\n",
       "      <td>hello</td>\n",
       "    </tr>\n",
       "    <tr>\n",
       "      <th>1</th>\n",
       "      <td>NaN</td>\n",
       "      <td>goodbye</td>\n",
       "    </tr>\n",
       "  </tbody>\n",
       "</table>\n",
       "</div>"
      ],
      "text/plain": [
       "                                                id        x\n",
       "0  chadwyck|Eighteenth-Century_Fiction/richards.01    hello\n",
       "1                                              NaN  goodbye"
      ]
     },
     "execution_count": 125,
     "metadata": {},
     "output_type": "execute_result"
    }
   ],
   "source": [
    "meta"
   ]
  },
  {
   "cell_type": "code",
   "execution_count": 106,
   "metadata": {},
   "outputs": [],
   "source": [
    "# meta.update??"
   ]
  },
  {
   "cell_type": "code",
   "execution_count": 107,
   "metadata": {},
   "outputs": [
    {
     "data": {
      "text/plain": [
       "'2'"
      ]
     },
     "metadata": {},
     "output_type": "display_data"
    },
    {
     "data": {
      "text/html": [
       "<div>\n",
       "<style scoped>\n",
       "    .dataframe tbody tr th:only-of-type {\n",
       "        vertical-align: middle;\n",
       "    }\n",
       "\n",
       "    .dataframe tbody tr th {\n",
       "        vertical-align: top;\n",
       "    }\n",
       "\n",
       "    .dataframe thead th {\n",
       "        text-align: right;\n",
       "    }\n",
       "</style>\n",
       "<table border=\"1\" class=\"dataframe\">\n",
       "  <thead>\n",
       "    <tr style=\"text-align: right;\">\n",
       "      <th></th>\n",
       "    </tr>\n",
       "    <tr>\n",
       "      <th>id</th>\n",
       "    </tr>\n",
       "  </thead>\n",
       "  <tbody>\n",
       "    <tr>\n",
       "      <th>chadwyck|Eighteenth-Century_Fiction/richards.01</th>\n",
       "    </tr>\n",
       "    <tr>\n",
       "      <th>chadwyck|Eighteenth-Century_Fiction/richards.04</th>\n",
       "    </tr>\n",
       "    <tr>\n",
       "      <th>chadwyck|Eighteenth-Century_Fiction/burney.01</th>\n",
       "    </tr>\n",
       "  </tbody>\n",
       "</table>\n",
       "</div>"
      ],
      "text/plain": [
       "Empty DataFrame\n",
       "Columns: []\n",
       "Index: [chadwyck|Eighteenth-Century_Fiction/richards.01, chadwyck|Eighteenth-Century_Fiction/richards.04, chadwyck|Eighteenth-Century_Fiction/burney.01]"
      ]
     },
     "metadata": {},
     "output_type": "display_data"
    },
    {
     "data": {
      "text/plain": [
       "'2'"
      ]
     },
     "metadata": {},
     "output_type": "display_data"
    },
    {
     "data": {
      "text/html": [
       "<div>\n",
       "<style scoped>\n",
       "    .dataframe tbody tr th:only-of-type {\n",
       "        vertical-align: middle;\n",
       "    }\n",
       "\n",
       "    .dataframe tbody tr th {\n",
       "        vertical-align: top;\n",
       "    }\n",
       "\n",
       "    .dataframe thead th {\n",
       "        text-align: right;\n",
       "    }\n",
       "</style>\n",
       "<table border=\"1\" class=\"dataframe\">\n",
       "  <thead>\n",
       "    <tr style=\"text-align: right;\">\n",
       "      <th></th>\n",
       "      <th>x</th>\n",
       "    </tr>\n",
       "    <tr>\n",
       "      <th>id</th>\n",
       "      <th></th>\n",
       "    </tr>\n",
       "  </thead>\n",
       "  <tbody>\n",
       "    <tr>\n",
       "      <th>chadwyck|Eighteenth-Century_Fiction/richards.01</th>\n",
       "      <td>hello</td>\n",
       "    </tr>\n",
       "    <tr>\n",
       "      <th>X0002</th>\n",
       "      <td>goodbye</td>\n",
       "    </tr>\n",
       "  </tbody>\n",
       "</table>\n",
       "</div>"
      ],
      "text/plain": [
       "                                                       x\n",
       "id                                                      \n",
       "chadwyck|Eighteenth-Century_Fiction/richards.01    hello\n",
       "X0002                                            goodbye"
      ]
     },
     "metadata": {},
     "output_type": "display_data"
    },
    {
     "data": {
      "text/html": [
       "<div>\n",
       "<style scoped>\n",
       "    .dataframe tbody tr th:only-of-type {\n",
       "        vertical-align: middle;\n",
       "    }\n",
       "\n",
       "    .dataframe tbody tr th {\n",
       "        vertical-align: top;\n",
       "    }\n",
       "\n",
       "    .dataframe thead th {\n",
       "        text-align: right;\n",
       "    }\n",
       "</style>\n",
       "<table border=\"1\" class=\"dataframe\">\n",
       "  <thead>\n",
       "    <tr style=\"text-align: right;\">\n",
       "      <th></th>\n",
       "      <th>x</th>\n",
       "    </tr>\n",
       "    <tr>\n",
       "      <th>id</th>\n",
       "      <th></th>\n",
       "    </tr>\n",
       "  </thead>\n",
       "  <tbody>\n",
       "    <tr>\n",
       "      <th>chadwyck|Eighteenth-Century_Fiction/richards.01</th>\n",
       "      <td>hello</td>\n",
       "    </tr>\n",
       "    <tr>\n",
       "      <th>chadwyck|Eighteenth-Century_Fiction/richards.04</th>\n",
       "      <td></td>\n",
       "    </tr>\n",
       "    <tr>\n",
       "      <th>chadwyck|Eighteenth-Century_Fiction/burney.01</th>\n",
       "      <td></td>\n",
       "    </tr>\n",
       "  </tbody>\n",
       "</table>\n",
       "</div>"
      ],
      "text/plain": [
       "                                                     x\n",
       "id                                                    \n",
       "chadwyck|Eighteenth-Century_Fiction/richards.01  hello\n",
       "chadwyck|Eighteenth-Century_Fiction/richards.04       \n",
       "chadwyck|Eighteenth-Century_Fiction/burney.01         "
      ]
     },
     "execution_count": 107,
     "metadata": {},
     "output_type": "execute_result"
    }
   ],
   "source": [
    "init_metadata(Epistolary(),meta_init=meta,other_meta=[lltk.load('Chadwyck')])"
   ]
  },
  {
   "cell_type": "code",
   "execution_count": 24,
   "metadata": {},
   "outputs": [
    {
     "data": {
      "text/html": [
       "<div>\n",
       "<style scoped>\n",
       "    .dataframe tbody tr th:only-of-type {\n",
       "        vertical-align: middle;\n",
       "    }\n",
       "\n",
       "    .dataframe tbody tr th {\n",
       "        vertical-align: top;\n",
       "    }\n",
       "\n",
       "    .dataframe thead th {\n",
       "        text-align: right;\n",
       "    }\n",
       "</style>\n",
       "<table border=\"1\" class=\"dataframe\">\n",
       "  <thead>\n",
       "    <tr style=\"text-align: right;\">\n",
       "      <th></th>\n",
       "      <th>id</th>\n",
       "      <th>x</th>\n",
       "    </tr>\n",
       "  </thead>\n",
       "  <tbody>\n",
       "    <tr>\n",
       "      <th>0</th>\n",
       "      <td>X1</td>\n",
       "      <td>hello</td>\n",
       "    </tr>\n",
       "    <tr>\n",
       "      <th>1</th>\n",
       "      <td>NaN</td>\n",
       "      <td>goodbye</td>\n",
       "    </tr>\n",
       "  </tbody>\n",
       "</table>\n",
       "</div>"
      ],
      "text/plain": [
       "    id        x\n",
       "0   X1    hello\n",
       "1  NaN  goodbye"
      ]
     },
     "execution_count": 24,
     "metadata": {},
     "output_type": "execute_result"
    }
   ],
   "source": []
  },
  {
   "cell_type": "code",
   "execution_count": 23,
   "metadata": {},
   "outputs": [
    {
     "data": {
      "text/plain": [
       "'/Users/ryan/lltk_data/corpora/epistolary/metadata.csv'"
      ]
     },
     "execution_count": 23,
     "metadata": {},
     "output_type": "execute_result"
    }
   ],
   "source": []
  },
  {
   "cell_type": "code",
   "execution_count": 27,
   "metadata": {},
   "outputs": [
    {
     "data": {
      "text/plain": [
       "0       chadwyck|chadwyck|Eighteenth-Century_Fiction/p...\n",
       "1       chadwyck|chadwyck|Eighteenth-Century_Fiction/b...\n",
       "2       chadwyck|chadwyck|Eighteenth-Century_Fiction/m...\n",
       "3       chadwyck|chadwyck|Eighteenth-Century_Fiction/c...\n",
       "4       chadwyck|chadwyck|Eighteenth-Century_Fiction/h...\n",
       "                              ...                        \n",
       "1332    chadwyck|chadwyck|Early_English_Prose_Fiction/...\n",
       "1333    chadwyck|chadwyck|Early_English_Prose_Fiction/...\n",
       "1334    chadwyck|chadwyck|Early_English_Prose_Fiction/...\n",
       "1335    chadwyck|chadwyck|Early_English_Prose_Fiction/...\n",
       "1336    chadwyck|chadwyck|Early_English_Prose_Fiction/...\n",
       "Name: id, Length: 1337, dtype: object"
      ]
     },
     "metadata": {},
     "output_type": "display_data"
    },
    {
     "data": {
      "text/plain": [
       "0       chadwyck|chadwyck|Eighteenth-Century_Fiction/p...\n",
       "1       chadwyck|chadwyck|Eighteenth-Century_Fiction/b...\n",
       "2       chadwyck|chadwyck|Eighteenth-Century_Fiction/m...\n",
       "3       chadwyck|chadwyck|Eighteenth-Century_Fiction/c...\n",
       "4       chadwyck|chadwyck|Eighteenth-Century_Fiction/h...\n",
       "                              ...                        \n",
       "1332    chadwyck|chadwyck|Early_English_Prose_Fiction/...\n",
       "1333    chadwyck|chadwyck|Early_English_Prose_Fiction/...\n",
       "1334    chadwyck|chadwyck|Early_English_Prose_Fiction/...\n",
       "1335    chadwyck|chadwyck|Early_English_Prose_Fiction/...\n",
       "1336    chadwyck|chadwyck|Early_English_Prose_Fiction/...\n",
       "Name: id, Length: 1337, dtype: object"
      ]
     },
     "metadata": {},
     "output_type": "display_data"
    },
    {
     "ename": "NameError",
     "evalue": "name 'meta_chad' is not defined",
     "output_type": "error",
     "traceback": [
      "\u001b[0;31m---------------------------------------------------------------------------\u001b[0m",
      "\u001b[0;31mNameError\u001b[0m                                 Traceback (most recent call last)",
      "Input \u001b[0;32mIn [27]\u001b[0m, in \u001b[0;36m<module>\u001b[0;34m\u001b[0m\n\u001b[1;32m      1\u001b[0m C\u001b[39m=\u001b[39mEpistolary()\n\u001b[0;32m----> 2\u001b[0m C\u001b[39m.\u001b[39;49minit_metadata()\n",
      "\u001b[1;32m/Users/ryan/lltk_data/corpora/epistolary/test_classes.ipynb Cell 7'\u001b[0m in \u001b[0;36mEpistolary.init_metadata\u001b[0;34m(self, meta_init, set_index)\u001b[0m\n\u001b[1;32m     <a href='vscode-notebook-cell:/Users/ryan/lltk_data/corpora/epistolary/test_classes.ipynb#ch0000024?line=34'>35</a>\u001b[0m         display(meta2)\n\u001b[1;32m     <a href='vscode-notebook-cell:/Users/ryan/lltk_data/corpora/epistolary/test_classes.ipynb#ch0000024?line=35'>36</a>\u001b[0m         meta\u001b[39m.\u001b[39mupdate(meta2)\n\u001b[0;32m---> <a href='vscode-notebook-cell:/Users/ryan/lltk_data/corpora/epistolary/test_classes.ipynb#ch0000024?line=39'>40</a>\u001b[0m set_index\u001b[39m=\u001b[39m[si \u001b[39mfor\u001b[39;00m si \u001b[39min\u001b[39;00m set_index \u001b[39mif\u001b[39;00m si \u001b[39min\u001b[39;00m \u001b[39mset\u001b[39m(meta_chad)]\n",
      "\u001b[1;32m/Users/ryan/lltk_data/corpora/epistolary/test_classes.ipynb Cell 7'\u001b[0m in \u001b[0;36m<listcomp>\u001b[0;34m(.0)\u001b[0m\n\u001b[1;32m     <a href='vscode-notebook-cell:/Users/ryan/lltk_data/corpora/epistolary/test_classes.ipynb#ch0000024?line=34'>35</a>\u001b[0m         display(meta2)\n\u001b[1;32m     <a href='vscode-notebook-cell:/Users/ryan/lltk_data/corpora/epistolary/test_classes.ipynb#ch0000024?line=35'>36</a>\u001b[0m         meta\u001b[39m.\u001b[39mupdate(meta2)\n\u001b[0;32m---> <a href='vscode-notebook-cell:/Users/ryan/lltk_data/corpora/epistolary/test_classes.ipynb#ch0000024?line=39'>40</a>\u001b[0m set_index\u001b[39m=\u001b[39m[si \u001b[39mfor\u001b[39;00m si \u001b[39min\u001b[39;00m set_index \u001b[39mif\u001b[39;00m si \u001b[39min\u001b[39;00m \u001b[39mset\u001b[39m(meta_chad)]\n",
      "\u001b[0;31mNameError\u001b[0m: name 'meta_chad' is not defined"
     ]
    }
   ],
   "source": [
    "C=Epistolary()\n",
    "C.init_metadata()"
   ]
  },
  {
   "cell_type": "code",
   "execution_count": 26,
   "metadata": {},
   "outputs": [
    {
     "data": {
      "text/plain": [
       "'/Users/ryan/lltk_data/corpora/epistolary2/metadata_init.csv'"
      ]
     },
     "execution_count": 26,
     "metadata": {},
     "output_type": "execute_result"
    }
   ],
   "source": [
    "C.path_metadata_init"
   ]
  },
  {
   "cell_type": "code",
   "execution_count": 25,
   "metadata": {},
   "outputs": [
    {
     "data": {
      "text/html": [
       "<div>\n",
       "<style scoped>\n",
       "    .dataframe tbody tr th:only-of-type {\n",
       "        vertical-align: middle;\n",
       "    }\n",
       "\n",
       "    .dataframe tbody tr th {\n",
       "        vertical-align: top;\n",
       "    }\n",
       "\n",
       "    .dataframe thead th {\n",
       "        text-align: right;\n",
       "    }\n",
       "</style>\n",
       "<table border=\"1\" class=\"dataframe\">\n",
       "  <thead>\n",
       "    <tr style=\"text-align: right;\">\n",
       "      <th></th>\n",
       "    </tr>\n",
       "  </thead>\n",
       "  <tbody>\n",
       "  </tbody>\n",
       "</table>\n",
       "</div>"
      ],
      "text/plain": [
       "Empty DataFrame\n",
       "Columns: []\n",
       "Index: []"
      ]
     },
     "execution_count": 25,
     "metadata": {},
     "output_type": "execute_result"
    }
   ],
   "source": [
    "C.load_metadata()"
   ]
  },
  {
   "cell_type": "code",
   "execution_count": 19,
   "metadata": {},
   "outputs": [],
   "source": [
    "C=Epistolary()"
   ]
  },
  {
   "cell_type": "code",
   "execution_count": 20,
   "metadata": {},
   "outputs": [
    {
     "data": {
      "text/plain": [
       "[0, 1, 2, 3, 4, 5, 6, 7, 8, 9]"
      ]
     },
     "execution_count": 20,
     "metadata": {},
     "output_type": "execute_result"
    }
   ],
   "source": [
    "C.texts"
   ]
  },
  {
   "cell_type": "code",
   "execution_count": 22,
   "metadata": {},
   "outputs": [],
   "source": []
  },
  {
   "cell_type": "code",
   "execution_count": 25,
   "metadata": {},
   "outputs": [
    {
     "name": "stdout",
     "output_type": "stream",
     "text": [
      "x!?\n",
      "Cool! {'id': 'Eighteenth-Century_Fiction/richards.01', 'author': 'Richardson, Samuel, 1689-1761', 'title': 'Clarissa (1st ed.) (1748)', 'year': 1748.0, 'idref': 'Z200044053', 'pub': 'Printed for S. Richardson: [etc.]', 'type': 'BOOK', 'name': 'Vol. 1', 'nation': 'British', 'medium': 'Fiction', 'subcorpus': 'Eighteenth-Century_Fiction', 'fn_raw': 'Eighteenth-Century_Fiction/richards.01.new', 'path_freqs': '/Users/ryan/lltk_data/corpora/chadwyck/freqs/Eighteenth-Century_Fiction/richards.01.json', 'path_txt': '/Users/ryan/lltk_data/corpora/chadwyck/txt/Eighteenth-Century_Fiction/richards.01.txt', 'path_xml': '/Users/ryan/lltk_data/corpora/chadwyck/xml/Eighteenth-Century_Fiction/richards.01.new', '_year_orig': '1748'}\n"
     ]
    }
   ],
   "source": [
    "clary = get_clarissa()\n",
    "clary = SourceTextEpistolary(clary, hello='x!?')"
   ]
  },
  {
   "cell_type": "code",
   "execution_count": 19,
   "metadata": {},
   "outputs": [
    {
     "name": "stdout",
     "output_type": "stream",
     "text": [
      "x!?\n",
      "Cool! {'id': 'Eighteenth-Century_Fiction/richards.01', 'author': 'Richardson, Samuel, 1689-1761', 'title': 'Clarissa (1st ed.) (1748)', 'year': 1748.0, 'idref': 'Z200044053', 'pub': 'Printed for S. Richardson: [etc.]', 'type': 'BOOK', 'name': 'Vol. 1', 'nation': 'British', 'medium': 'Fiction', 'subcorpus': 'Eighteenth-Century_Fiction', 'fn_raw': 'Eighteenth-Century_Fiction/richards.01.new', 'path_freqs': '/Users/ryan/lltk_data/corpora/chadwyck/freqs/Eighteenth-Century_Fiction/richards.01.json', 'path_txt': '/Users/ryan/lltk_data/corpora/chadwyck/txt/Eighteenth-Century_Fiction/richards.01.txt', 'path_xml': '/Users/ryan/lltk_data/corpora/chadwyck/xml/Eighteenth-Century_Fiction/richards.01.new', '_year_orig': '1748'}\n"
     ]
    },
    {
     "data": {
      "text/plain": [
       "[__main__.SourceTextEpistolaryCls,\n",
       " Richardson, Samuel, 1689-1761, _Clarissa (1st ed.) (1748)_ (1748.0) [Chadwyck: Eighteenth-Century_Fiction/richards.01]]"
      ]
     },
     "metadata": {},
     "output_type": "display_data"
    },
    {
     "ename": "TypeError",
     "evalue": "'NoneType' object is not callable",
     "output_type": "error",
     "traceback": [
      "\u001b[0;31m---------------------------------------------------------------------------\u001b[0m",
      "\u001b[0;31mTypeError\u001b[0m                                 Traceback (most recent call last)",
      "\u001b[1;32m/Users/ryan/lltk_data/corpora/epistolary/test_classes.ipynb Cell 6'\u001b[0m in \u001b[0;36m<module>\u001b[0;34m\u001b[0m\n\u001b[1;32m      <a href='vscode-notebook-cell:/Users/ryan/lltk_data/corpora/epistolary/test_classes.ipynb#ch0000008?line=0'>1</a>\u001b[0m clary2 \u001b[39m=\u001b[39m SourceTextEpistolary(clary, hello\u001b[39m=\u001b[39m\u001b[39m'\u001b[39m\u001b[39mx!?\u001b[39m\u001b[39m'\u001b[39m)\n\u001b[1;32m      <a href='vscode-notebook-cell:/Users/ryan/lltk_data/corpora/epistolary/test_classes.ipynb#ch0000008?line=1'>2</a>\u001b[0m display([\u001b[39mtype\u001b[39m(clary2), clary2])\n\u001b[0;32m----> <a href='vscode-notebook-cell:/Users/ryan/lltk_data/corpora/epistolary/test_classes.ipynb#ch0000008?line=2'>3</a>\u001b[0m clary2\u001b[39m.\u001b[39;49mhello(\u001b[39m'\u001b[39;49m\u001b[39mx\u001b[39;49m\u001b[39m'\u001b[39;49m)\n",
      "\u001b[0;31mTypeError\u001b[0m: 'NoneType' object is not callable"
     ]
    }
   ],
   "source": []
  },
  {
   "cell_type": "code",
   "execution_count": null,
   "metadata": {},
   "outputs": [],
   "source": []
  },
  {
   "cell_type": "code",
   "execution_count": null,
   "metadata": {},
   "outputs": [],
   "source": []
  },
  {
   "cell_type": "code",
   "execution_count": null,
   "metadata": {},
   "outputs": [],
   "source": []
  },
  {
   "cell_type": "code",
   "execution_count": 3,
   "metadata": {},
   "outputs": [],
   "source": []
  },
  {
   "cell_type": "code",
   "execution_count": null,
   "metadata": {},
   "outputs": [],
   "source": []
  }
 ],
 "metadata": {
  "interpreter": {
   "hash": "b0fa6594d8f4cbf19f97940f81e996739fb7646882a419484c72d19e05852a7e"
  },
  "kernelspec": {
   "display_name": "Python 3.9.10 64-bit",
   "language": "python",
   "name": "python3"
  },
  "language_info": {
   "codemirror_mode": {
    "name": "ipython",
    "version": 3
   },
   "file_extension": ".py",
   "mimetype": "text/x-python",
   "name": "python",
   "nbconvert_exporter": "python",
   "pygments_lexer": "ipython3",
   "version": "3.9.7"
  },
  "orig_nbformat": 4
 },
 "nbformat": 4,
 "nbformat_minor": 2
}

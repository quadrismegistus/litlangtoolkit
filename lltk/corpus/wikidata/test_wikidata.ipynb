{
 "cells": [
  {
   "cell_type": "code",
   "execution_count": 1,
   "metadata": {},
   "outputs": [],
   "source": [
    "import sys; sys.path.insert(0,'../../..')\n",
    "from wikidata import *\n",
    "# !pip install wptools googlesearch-python"
   ]
  },
  {
   "cell_type": "code",
   "execution_count": 2,
   "metadata": {},
   "outputs": [],
   "source": [
    "def wikipedia_opensearch(qstr,lang=\"en\",**kwargs):\n",
    "    import requests\n",
    "    with requests.Session() as s:\n",
    "        url = f\"https://{lang}.wikipedia.org/w/api.php\"\n",
    "        params = {\n",
    "            \"action\": \"opensearch\",\n",
    "            \"namespace\": \"0\",\n",
    "            \"search\": qstr,\n",
    "            \"limit\": \"5\",\n",
    "            \"format\": \"json\"\n",
    "        }\n",
    "        r = s.get(url=url, params=params)\n",
    "        data = r.json()\n",
    "        titles = data[1]\n",
    "        if titles:\n",
    "            if len(titles)>1: return titles\n",
    "            if len(titles)==1: return titles[0]\n",
    "\n",
    "def wikipedia_search(qstr,lang=\"en\",qprefix='wikipedia ',topn=1,**kwargs):\n",
    "    from googlesearch import search as gsearch\n",
    "    import wptools\n",
    "    urlprefix = f'https://{lang}.wikipedia.org/wiki/'\n",
    "    for i,url in enumerate(gsearch(qprefix+qstr,lang=lang)):\n",
    "        if i>=topn: break\n",
    "        if url and type(url)==str and url.startswith(urlprefix):\n",
    "            return url\n",
    "        else:\n",
    "            print('!?',url)\n",
    "\n",
    "\n",
    "# def wikidata_search(qstr,lang=\"en\",**kwargs):\n",
    "#     page = wikipedia_search(qstr,lang=lang,**kwargs)\n",
    "#     if page is not None:\n",
    "#         o = page.get_wikidata(0)\n",
    "#         return o.data.get('wikibase')\n",
    "\n",
    "def wikidata_query_str(text):\n",
    "    # return clean_text(f'{text.shorttitle} by {text.shortauthor}')\n",
    "    return clean_text(f'{text.shorttitle} by {text.au}')\n",
    "\n",
    "def wikidata_gsearch(\n",
    "        qstr,\n",
    "        lang=\"en\",\n",
    "        qprefix='wikidata ',\n",
    "        topn=1,\n",
    "        what='work',\n",
    "        **kwargs):\n",
    "    from googlesearch import search as gsearch\n",
    "    import wptools\n",
    "    urlprefix = f'https://www.wikidata.org/wiki/'\n",
    "    for i,url in enumerate(gsearch(qprefix+qstr,lang=lang)):\n",
    "        if i>=topn: break\n",
    "        if url and type(url)==str and url.startswith(urlprefix):\n",
    "            qid=url.split('/')[-1]\n",
    "            page = wptools.page(wikibase=qid,silent=True)\n",
    "            o = page.get_wikidata()\n",
    "            if o is not None and hasattr(o,'data'):\n",
    "                data=o.data\n",
    "                whatres = data.get('what','')\n",
    "                if not whatres or not what or what in whatres:\n",
    "                    return (qid,data.get('wikidata'))\n",
    "        else:\n",
    "            print('!?',url)"
   ]
  },
  {
   "cell_type": "code",
   "execution_count": 3,
   "metadata": {},
   "outputs": [
    {
     "name": "stderr",
     "output_type": "stream",
     "text": [
      "\u001b[36m[04:15:15]\u001b[0m \u001b[34m\u001b[1mlltk.corpus.corpus.init()\u001b[0m\u001b[36m:263:\u001b[0m Initializing from metadata: [Chadwyck](chadwyck)\n"
     ]
    },
    {
     "data": {
      "text/plain": [
       "'The Unclad Horseman by Thompson'"
      ]
     },
     "execution_count": 3,
     "metadata": {},
     "output_type": "execute_result"
    }
   ],
   "source": [
    "C=Corpus('chadwyck')\n",
    "text = C.t\n",
    "qstr=wikidata_query_str(text)\n",
    "qstr"
   ]
  },
  {
   "cell_type": "code",
   "execution_count": 4,
   "metadata": {},
   "outputs": [],
   "source": [
    "# data = wikidata_gsearch(qstr)\n",
    "# data"
   ]
  },
  {
   "cell_type": "code",
   "execution_count": 11,
   "metadata": {},
   "outputs": [],
   "source": [
    "\n",
    "\n",
    "def wikidata_search(\n",
    "        qstr_or_text,\n",
    "        lang=\"en\",\n",
    "        what=[\"work\",\"manuscript\",\"text\"],\n",
    "        min_match_ratio_au=50,\n",
    "        min_match_ratio_ti=50,\n",
    "        **kwargs):\n",
    "    import requests,wptools,bs4\n",
    "    from fuzzywuzzy import fuzz\n",
    "\n",
    "    if issubclass(type(qstr_or_text), BaseText):\n",
    "        text = qstr_or_text\n",
    "        qstr=wikidata_query_str(qstr_or_text)\n",
    "    else:\n",
    "        text = None\n",
    "        qstr=qstr_or_text\n",
    "\n",
    "    print('Q',qstr)\n",
    "    \n",
    "    safe='+'.join(clean_text(qstr).split())\n",
    "    url=f'https://www.wikidata.org/w/index.php?search={safe}'\n",
    "    with requests.Session() as s: html = s.get(url).text\n",
    "    dom=bs4.BeautifulSoup(html,'html')\n",
    "\n",
    "    for item in dom.select('.wb-itemlink-id'):\n",
    "        itext=item.text\n",
    "        qid=itext.replace('(','').replace(')','')\n",
    "        \n",
    "        # check type\n",
    "        page = wptools.page(wikibase=qid, silent=True)\n",
    "        o = page.get_wikidata()\n",
    "        if o is not None and hasattr(o,'data'):\n",
    "            data=o.data\n",
    "            whatres = data.get('what','')\n",
    "            for whatx in what:\n",
    "                if not whatres or not whatx or whatx in whatres:\n",
    "                    odat=data.get('wikidata')\n",
    "                    od = format_wikidata_d(odat)\n",
    "                    wd_au,wd_ti = wikidata_get_author(od), wikidata_get_title(od)\n",
    "                    if not wd_ti: wd_ti=data.get('label')\n",
    "                    # pprint([wd_au,wd_ti,od])\n",
    "                    if not wd_au or not wd_ti: continue\n",
    "\n",
    "                    if text is not None:\n",
    "                        t_au,t_ti = text.shortauthor, text.shorttitle\n",
    "                        au_ratio=fuzz.token_set_ratio(wd_au, t_au)\n",
    "                        ti_ratio=fuzz.token_set_ratio(wd_ti, t_ti)\n",
    "                        if min_match_ratio_au and au_ratio < min_match_ratio_au: continue\n",
    "                        if min_match_ratio_ti and ti_ratio < min_match_ratio_ti: continue\n",
    "                    else:\n",
    "                        ti_ratio=np.nan\n",
    "                        au_ratio=np.nan\n",
    "\n",
    "                    return dict(\n",
    "                        id=qid,\n",
    "                        meta=od,\n",
    "                        meta_simple=format_wikidata_d_simple(od),\n",
    "                        title=wd_ti,\n",
    "                        author=wd_au,\n",
    "                        match_author=au_ratio,\n",
    "                        match_title=ti_ratio,\n",
    "                        query=qstr,\n",
    "                    )\n",
    "\n",
    "def format_wikidata_str(o,simple=False):\n",
    "    if type(o)==str:\n",
    "        if '(' in o and o.endswith(')'):\n",
    "            name,qid = o[:-1].split('(',1)\n",
    "            name,qid = name.strip(),qid.strip()\n",
    "            if qid and qid[0] in {'Q','P'}:\n",
    "                if simple: return f'{qid}|{name}'\n",
    "                return (qid,name) if not simple else name\n",
    "        return ('',o.strip()) if not simple else o.strip()\n",
    "    elif type(o)==list:\n",
    "        return [format_wikidata_str(x,simple=simple) for x in o]\n",
    "    elif type(o)==tuple:\n",
    "        if len(o)==2:\n",
    "            if simple:\n",
    "                qid,name = o\n",
    "                return name.replace(' ','_')\n",
    "            return o\n",
    "        return tuple([format_wikidata_str(x,simple=simple) for x in o])\n",
    "    elif type(o)==dict:\n",
    "        return format_wikidata_d(o,simple=simple)\n",
    "    return ('',o)\n",
    "\n",
    "def format_wikidata_d(d,simple=False):\n",
    "    od={}\n",
    "    for k,v in d.items():\n",
    "        od[format_wikidata_str(k,simple=simple)] = format_wikidata_str(v,simple=simple)\n",
    "    return od\n",
    "\n",
    "def wikidata_get_prop(d,prop='',propname=''):\n",
    "    if type(d)==tuple and len(d)==2 and type(d[1])==dict: d=d[1]\n",
    "    if type(d)==dict and 'meta' in d: d=d['meta']\n",
    "    if prop or propname:\n",
    "        for k in d:\n",
    "            if type(k)==tuple and len(k)==2 and k[0]==prop or k[1]==propname:\n",
    "                o=d[k]\n",
    "                if type(o)==list: o=o[0]\n",
    "                if type(o)==tuple and len(o)==2: return o[-1]\n",
    "                return o\n",
    "    return ''\n",
    "\n",
    "def wikidata_get_title(d): return wikidata_get_prop(d,'P1476','title')\n",
    "def wikidata_get_author(d): return wikidata_get_prop(d,'P50','author')\n",
    "\n",
    "def format_wikidata_d_simple(d):\n",
    "    od={}\n",
    "    for k,v in d.items():\n",
    "        od[format_wikidata_str(k,simple=True).replace(' ','_')] = format_wikidata_str(v,simple=True)\n",
    "    return od"
   ]
  },
  {
   "cell_type": "code",
   "execution_count": 17,
   "metadata": {},
   "outputs": [
    {
     "data": {
      "text/plain": [
       "'The Diary of a Nobody by Grossmith'"
      ]
     },
     "execution_count": 17,
     "metadata": {},
     "output_type": "execute_result"
    }
   ],
   "source": [
    "texts = [t for t in C.texts() if t.subcorpus in {'Eighteenth-Century_Fiction','Nineteenth-Century_Fiction'}]\n",
    "text = random.choice(texts)\n",
    "wikidata_query_str(text)"
   ]
  },
  {
   "cell_type": "code",
   "execution_count": 18,
   "metadata": {},
   "outputs": [
    {
     "name": "stdout",
     "output_type": "stream",
     "text": [
      "Q The Diary of a Nobody by Grossmith\n"
     ]
    },
    {
     "data": {
      "text/plain": [
       "{'id': 'Q864150',\n",
       " 'meta': {('P31', 'instance of'): ('Q47461344', 'written work'),\n",
       "  ('P50', 'author'): [('Q1564825', 'George Grossmith'),\n",
       "   ('Q7979350', 'Weedon Grossmith')],\n",
       "  ('P136', 'genre'): [('Q465821', 'epistolary novel'),\n",
       "   ('Q2561390', 'comic novel')],\n",
       "  ('P840', 'narrative location'): ('Q84', 'London'),\n",
       "  ('P123', 'publisher'): ('Q6107326', 'J. W. Arrowsmith'),\n",
       "  ('P646', 'Freebase ID'): ('', '/m/01k430'),\n",
       "  ('P18', 'image'): ('', 'Charles and Lupin Pooter.gif'),\n",
       "  ('P495', 'country of origin'): ('Q145', 'United Kingdom'),\n",
       "  ('P1242', 'Theatricalia play ID'): ('', '4x8'),\n",
       "  ('P407', 'language of work or name'): ('Q1860', 'English'),\n",
       "  ('P1417', 'Encyclopædia Britannica Online ID'): ('',\n",
       "   'topic/The-Diary-of-a-Nobody'),\n",
       "  ('P1476', 'title'): ('', 'The Diary of a Nobody'),\n",
       "  ('P747', 'has edition or translation'): ('Q98785962',\n",
       "   'The Diary of a Nobody')},\n",
       " 'meta_simple': {'instance_of': 'written_work',\n",
       "  'author': ['George_Grossmith', 'Weedon_Grossmith'],\n",
       "  'genre': ['epistolary_novel', 'comic_novel'],\n",
       "  'narrative_location': 'London',\n",
       "  'publisher': 'J._W._Arrowsmith',\n",
       "  'Freebase_ID': '/m/01k430',\n",
       "  'image': 'Charles_and_Lupin_Pooter.gif',\n",
       "  'country_of_origin': 'United_Kingdom',\n",
       "  'Theatricalia_play_ID': '4x8',\n",
       "  'language_of_work_or_name': 'English',\n",
       "  'Encyclopædia_Britannica_Online_ID': 'topic/The-Diary-of-a-Nobody',\n",
       "  'title': 'The_Diary_of_a_Nobody',\n",
       "  'has_edition_or_translation': 'The_Diary_of_a_Nobody'},\n",
       " 'title': 'The Diary of a Nobody',\n",
       " 'author': 'George Grossmith',\n",
       " 'match_author': 100,\n",
       " 'match_title': 100,\n",
       " 'query': 'The Diary of a Nobody by Grossmith'}"
      ]
     },
     "execution_count": 18,
     "metadata": {},
     "output_type": "execute_result"
    }
   ],
   "source": [
    "wikidata_search(text)"
   ]
  },
  {
   "cell_type": "code",
   "execution_count": 53,
   "metadata": {},
   "outputs": [
    {
     "name": "stdout",
     "output_type": "stream",
     "text": [
      "Q Tales by Poe\n"
     ]
    },
    {
     "data": {
      "text/plain": [
       "{'id': 'Q3928506',\n",
       " 'meta': {('P50', 'author'): ('Q16867', 'Edgar_Allan_Poe'),\n",
       "  ('P31', 'instance_of'): [('Q7725634', 'literary_work'),\n",
       "   ('Q1279564', 'short_story_collection')],\n",
       "  ('P18', 'image'): ('', 'Edgar Allan Poe 1848.jpg'),\n",
       "  ('P577', 'publication_date'): ('', '+1845-00-00T00:00:00Z'),\n",
       "  ('P6216', 'copyright_status'): [('Q19652', 'public_domain'),\n",
       "   ('Q19652', 'public_domain')],\n",
       "  ('P407', 'language_of_work_or_name'): ('Q1860', 'English'),\n",
       "  ('P747', 'has_edition_or_translation'): ('Q105269371', 'Racconti!')},\n",
       " 'meta_simple': {'author': 'Edgar_Allan_Poe',\n",
       "  'instance_of': ['literary_work', 'short_story_collection'],\n",
       "  'image': 'Edgar_Allan_Poe_1848.jpg',\n",
       "  'publication_date': '+1845-00-00T00:00:00Z',\n",
       "  'copyright_status': ['public_domain', 'public_domain'],\n",
       "  'language_of_work_or_name': 'English',\n",
       "  'has_edition_or_translation': 'Racconti!'},\n",
       " 'title': 'Tales',\n",
       " 'author': 'Edgar_Allan_Poe',\n",
       " 'match_author': 53,\n",
       " 'match_title': 100,\n",
       " 'query': 'Tales by Poe'}"
      ]
     },
     "execution_count": 53,
     "metadata": {},
     "output_type": "execute_result"
    }
   ],
   "source": [
    "text=C.textd['Early_American_Fiction/poeedgar.05']\n",
    "data = wikidata_search(text)\n",
    "data"
   ]
  },
  {
   "cell_type": "code",
   "execution_count": null,
   "metadata": {},
   "outputs": [],
   "source": []
  },
  {
   "cell_type": "code",
   "execution_count": null,
   "metadata": {},
   "outputs": [
    {
     "data": {
      "text/plain": [
       "'Edgar Allan Poe'"
      ]
     },
     "execution_count": 32,
     "metadata": {},
     "output_type": "execute_result"
    }
   ],
   "source": [
    "wikidata_get_author(data)"
   ]
  },
  {
   "cell_type": "code",
   "execution_count": null,
   "metadata": {},
   "outputs": [
    {
     "data": {
      "text/plain": [
       "<wptools.page.WPToolsPage at 0x172a556d0>"
      ]
     },
     "execution_count": 117,
     "metadata": {},
     "output_type": "execute_result"
    }
   ],
   "source": [
    "import wptools\n",
    "page = wptools.page(wikibase='Q64027719')\n",
    "page"
   ]
  },
  {
   "cell_type": "code",
   "execution_count": null,
   "metadata": {},
   "outputs": [
    {
     "name": "stderr",
     "output_type": "stream",
     "text": [
      "www.wikidata.org (wikidata) Q64027719\n",
      "www.wikidata.org (labels) Q19091875|P7937|P31|P1476|P50|Q7725634|...\n",
      "The Landscape Garden (en) data\n",
      "{\n",
      "  claims: <dict(8)> P31, P50, P5331, P646, P747, P1085, P1476, P7937\n",
      "  description: tale by Edgar Allan Poe\n",
      "  label: The Landscape Garden\n",
      "  labels: <dict(12)> Q19091875, P7937, P31, P1476, P50, Q7725634, ...\n",
      "  modified: <dict(1)> wikidata\n",
      "  requests: <list(2)> wikidata, labels\n",
      "  title: The_Landscape_Garden\n",
      "  what: literary work\n",
      "  wikibase: Q64027719\n",
      "  wikidata: <dict(8)> instance of (P31), author (P50), OCLC work I...\n",
      "  wikidata_pageid: 63730877\n",
      "  wikidata_url: https://www.wikidata.org/wiki/Q64027719\n",
      "}\n"
     ]
    },
    {
     "data": {
      "text/plain": [
       "{'requests': ['wikidata', 'labels'],\n",
       " 'labels': {'Q19091875': 'The Landscape Garden',\n",
       "  'P7937': 'form of creative work',\n",
       "  'P31': 'instance of',\n",
       "  'P1476': 'title',\n",
       "  'P50': 'author',\n",
       "  'Q7725634': 'literary work',\n",
       "  'P1085': 'LibraryThing work ID',\n",
       "  'P747': 'has edition or translation',\n",
       "  'Q49084': 'short story',\n",
       "  'P5331': 'OCLC work ID',\n",
       "  'P646': 'Freebase ID',\n",
       "  'Q16867': 'Edgar Allan Poe'},\n",
       " 'wikidata': {'instance of (P31)': 'literary work (Q7725634)',\n",
       "  'author (P50)': 'Edgar Allan Poe (Q16867)',\n",
       "  'OCLC work ID (P5331)': '5400911',\n",
       "  'Freebase ID (P646)': '/m/02gftq0',\n",
       "  'has edition or translation (P747)': 'The Landscape Garden (Q19091875)',\n",
       "  'LibraryThing work ID (P1085)': '20353480',\n",
       "  'title (P1476)': 'The Landscape Garden',\n",
       "  'form of creative work (P7937)': 'short story (Q49084)'},\n",
       " 'wikidata_pageid': 63730877,\n",
       " 'modified': {'wikidata': '2021-11-22T01:45:43Z'},\n",
       " 'wikibase': 'Q64027719',\n",
       " 'wikidata_url': 'https://www.wikidata.org/wiki/Q64027719',\n",
       " 'description': 'tale by Edgar Allan Poe',\n",
       " 'label': 'The Landscape Garden',\n",
       " 'claims': {'P31': ['Q7725634'],\n",
       "  'P50': ['Q16867'],\n",
       "  'P5331': ['5400911'],\n",
       "  'P646': ['/m/02gftq0'],\n",
       "  'P747': ['Q19091875'],\n",
       "  'P1085': ['20353480'],\n",
       "  'P1476': ['The Landscape Garden'],\n",
       "  'P7937': ['Q49084']},\n",
       " 'title': 'The_Landscape_Garden',\n",
       " 'what': 'literary work'}"
      ]
     },
     "execution_count": 118,
     "metadata": {},
     "output_type": "execute_result"
    }
   ],
   "source": [
    "o=page.get_wikidata()\n",
    "o.data"
   ]
  },
  {
   "cell_type": "code",
   "execution_count": null,
   "metadata": {},
   "outputs": [],
   "source": []
  }
 ],
 "metadata": {
  "interpreter": {
   "hash": "99c3488a746bccd77b7949f8f419451e1c962da56ebbaaae6e4d2e6c8c07eaa0"
  },
  "kernelspec": {
   "display_name": "Python 3.9.7 ('base')",
   "language": "python",
   "name": "python3"
  },
  "language_info": {
   "codemirror_mode": {
    "name": "ipython",
    "version": 3
   },
   "file_extension": ".py",
   "mimetype": "text/x-python",
   "name": "python",
   "nbconvert_exporter": "python",
   "pygments_lexer": "ipython3",
   "version": "3.9.7"
  },
  "orig_nbformat": 4
 },
 "nbformat": 4,
 "nbformat_minor": 2
}

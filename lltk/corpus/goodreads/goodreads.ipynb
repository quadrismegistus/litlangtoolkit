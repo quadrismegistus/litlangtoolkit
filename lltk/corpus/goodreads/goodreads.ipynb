{
 "cells": [
  {
   "cell_type": "code",
   "execution_count": null,
   "metadata": {},
   "outputs": [],
   "source": [
    "import sys; sys.path.insert(0,'/Users/ryan/github/yapmap')\n",
    "import os,sys; sys.path.insert(0,os.path.abspath('../../..'))\n",
    "from lltk import *\n",
    "# !open {log.fn}"
   ]
  },
  {
   "cell_type": "code",
   "execution_count": 2,
   "metadata": {},
   "outputs": [
    {
     "name": "stdout",
     "output_type": "stream",
     "text": [
      "['/book/show/23395733-emma']\n",
      "['/book/show/6969.Emma']\n",
      "['/book/show/17557952-the-highbury-murders']\n",
      "['/book/show/23006969-colecci-n-integral-de-jane-austen-emma-lady-susan-mansfield-park-org']\n",
      "['/book/show/36565625-jane-austen-s-emma-colouring-activity-book']\n",
      "['/book/show/8808246-complete-works-of-jane-austen---emma-lady-susan-mansfield-park-northa']\n",
      "['/book/show/22542149-the-matchmaker']\n",
      "['/book/show/14929.Jane_Austen_s_Emma']\n",
      "['/book/show/51949509-jane-austen-s-emma']\n",
      "['/book/show/25600486-the-poignant-sting']\n",
      "['/book/show/36267754-i-could-write-a-book']\n",
      "['/book/show/44580314-dear-jane']\n",
      "['/book/show/2003174.Lovers_Perjuries_Or_The_Clandestine_Courtship_Of_Jane_Fairfax_and_Frank_Churchill']\n",
      "['/book/show/38751489-amanda']\n",
      "['/book/show/3053657-the-making-of-jane-austen-s-emma']\n",
      "['/book/show/32325149-emma-s-match']\n",
      "['/book/show/6298475-emma-by-jane-austen']\n",
      "['/book/show/7772512-jane-austen']\n",
      "['/book/show/20581275-jane-austen-s-emma']\n",
      "['/book/show/814232.Jane_Austen_s_Emma']\n"
     ]
    }
   ],
   "source": [
    "C=Corpus('goodreads')\n",
    "d=C.query_meta_from_title(Text(title='Emma', author='Jane Austen'))\n",
    "d"
   ]
  },
  {
   "cell_type": "code",
   "execution_count": 1,
   "metadata": {},
   "outputs": [
    {
     "ename": "NameError",
     "evalue": "name 'stop' is not defined",
     "output_type": "error",
     "traceback": [
      "\u001b[0;31m---------------------------------------------------------------------------\u001b[0m",
      "\u001b[0;31mNameError\u001b[0m                                 Traceback (most recent call last)",
      "\u001b[1;32m/Users/ryan/github/lltk/lltk/corpus/goodreads/goodreads.ipynb Cell 3'\u001b[0m in \u001b[0;36m<cell line: 1>\u001b[0;34m()\u001b[0m\n\u001b[0;32m----> <a href='vscode-notebook-cell:/Users/ryan/github/lltk/lltk/corpus/goodreads/goodreads.ipynb#ch0000014?line=0'>1</a>\u001b[0m stop\n",
      "\u001b[0;31mNameError\u001b[0m: name 'stop' is not defined"
     ]
    }
   ],
   "source": [
    "stop"
   ]
  },
  {
   "cell_type": "code",
   "execution_count": null,
   "metadata": {},
   "outputs": [],
   "source": []
  },
  {
   "cell_type": "code",
   "execution_count": null,
   "metadata": {},
   "outputs": [],
   "source": []
  },
  {
   "cell_type": "code",
   "execution_count": null,
   "metadata": {},
   "outputs": [],
   "source": []
  },
  {
   "cell_type": "code",
   "execution_count": 3,
   "metadata": {},
   "outputs": [
    {
     "data": {
      "application/vnd.jupyter.widget-view+json": {
       "model_id": "3da4321bbc734525b96159e4459e5c16",
       "version_major": 2,
       "version_minor": 0
      },
      "text/plain": [
       "[MarkMark] Init texts from db:   0%|          | 0/384 [00:00<?, ?it/s]"
      ]
     },
     "metadata": {},
     "output_type": "display_data"
    },
    {
     "data": {
      "application/vnd.jupyter.widget-view+json": {
       "model_id": "136b0430c4f1428fa1a3deff49396b86",
       "version_major": 2,
       "version_minor": 0
      },
      "text/plain": [
       "[MarkMark] Iterating texts:   0%|          | 0/355 [00:00<?, ?it/s]"
      ]
     },
     "metadata": {},
     "output_type": "display_data"
    },
    {
     "data": {
      "application/vnd.jupyter.widget-view+json": {
       "model_id": "3e88233bdfd3449998832a21d6d619a5",
       "version_major": 2,
       "version_minor": 0
      },
      "text/plain": [
       "[Chicago] Init texts from db:   0%|          | 0/9089 [00:00<?, ?it/s]"
      ]
     },
     "metadata": {},
     "output_type": "display_data"
    },
    {
     "ename": "KeyboardInterrupt",
     "evalue": "",
     "output_type": "error",
     "traceback": [
      "\u001b[0;31m---------------------------------------------------------------------------\u001b[0m",
      "\u001b[0;31mKeyboardInterrupt\u001b[0m                         Traceback (most recent call last)",
      "Input \u001b[0;32mIn [3]\u001b[0m, in \u001b[0;36m<cell line: 1>\u001b[0;34m()\u001b[0m\n\u001b[1;32m      3\u001b[0m C2\u001b[39m=\u001b[39mCorpus(\u001b[39m'\u001b[39m\u001b[39mchicago\u001b[39m\u001b[39m'\u001b[39m)\n\u001b[1;32m      4\u001b[0m C3\u001b[39m=\u001b[39mCorpus(\u001b[39m'\u001b[39m\u001b[39mgildedage\u001b[39m\u001b[39m'\u001b[39m)\n\u001b[0;32m----> 5\u001b[0m texts \u001b[39m=\u001b[39m [t \u001b[39mfor\u001b[39;00m t \u001b[39min\u001b[39;00m \u001b[39mlist\u001b[39m(C1)\u001b[39m+\u001b[39m\u001b[39mlist\u001b[39;49m(C2)\u001b[39m+\u001b[39m\u001b[39mlist\u001b[39m(C3) \u001b[39mif\u001b[39;00m \u001b[39m'\u001b[39m\u001b[39mJames\u001b[39m\u001b[39m'\u001b[39m \u001b[39min\u001b[39;00m \u001b[39mstr\u001b[39m(t[\u001b[39m'\u001b[39m\u001b[39mauthor\u001b[39m\u001b[39m'\u001b[39m]) \u001b[39mand\u001b[39;00m \u001b[39m'\u001b[39m\u001b[39mHenry\u001b[39m\u001b[39m'\u001b[39m \u001b[39min\u001b[39;00m \u001b[39mstr\u001b[39m(t[\u001b[39m'\u001b[39m\u001b[39mauthor\u001b[39m\u001b[39m'\u001b[39m])]\n\u001b[1;32m      6\u001b[0m tl\u001b[39m=\u001b[39mtexts\n",
      "File \u001b[0;32m~/github/lltk/lltk/corpus/corpus.py:96\u001b[0m, in \u001b[0;36mBaseCorpus.__len__\u001b[0;34m(self)\u001b[0m\n\u001b[0;32m---> <a href='file:///Users/ryan/github/lltk/lltk/corpus/corpus.py?line=95'>96</a>\u001b[0m \u001b[39mdef\u001b[39;00m \u001b[39m__len__\u001b[39m(\u001b[39mself\u001b[39m): \u001b[39mreturn\u001b[39;00m \u001b[39mself\u001b[39;49m\u001b[39m.\u001b[39;49mnum_texts\n",
      "File \u001b[0;32m~/github/lltk/lltk/corpus/corpus.py:432\u001b[0m, in \u001b[0;36mBaseCorpus.num_texts\u001b[0;34m(self)\u001b[0m\n\u001b[1;32m    <a href='file:///Users/ryan/github/lltk/lltk/corpus/corpus.py?line=430'>431</a>\u001b[0m \u001b[39m@property\u001b[39m\n\u001b[0;32m--> <a href='file:///Users/ryan/github/lltk/lltk/corpus/corpus.py?line=431'>432</a>\u001b[0m \u001b[39mdef\u001b[39;00m \u001b[39mnum_texts\u001b[39m(\u001b[39mself\u001b[39m): \u001b[39mreturn\u001b[39;00m \u001b[39mlen\u001b[39m(\u001b[39mself\u001b[39;49m\u001b[39m.\u001b[39;49mtextd)\n",
      "File \u001b[0;32m~/github/lltk/lltk/corpus/corpus.py:407\u001b[0m, in \u001b[0;36mBaseCorpus.textd\u001b[0;34m(self)\u001b[0m\n\u001b[1;32m    <a href='file:///Users/ryan/github/lltk/lltk/corpus/corpus.py?line=403'>404</a>\u001b[0m \u001b[39m@property\u001b[39m\n\u001b[1;32m    <a href='file:///Users/ryan/github/lltk/lltk/corpus/corpus.py?line=404'>405</a>\u001b[0m \u001b[39mdef\u001b[39;00m \u001b[39mtextd\u001b[39m(\u001b[39mself\u001b[39m):\n\u001b[1;32m    <a href='file:///Users/ryan/github/lltk/lltk/corpus/corpus.py?line=405'>406</a>\u001b[0m     \u001b[39mif\u001b[39;00m log: log(\u001b[39m'\u001b[39m\u001b[39m...\u001b[39m\u001b[39m'\u001b[39m)\n\u001b[0;32m--> <a href='file:///Users/ryan/github/lltk/lltk/corpus/corpus.py?line=406'>407</a>\u001b[0m     \u001b[39mself\u001b[39;49m\u001b[39m.\u001b[39;49minit()\n\u001b[1;32m    <a href='file:///Users/ryan/github/lltk/lltk/corpus/corpus.py?line=407'>408</a>\u001b[0m     \u001b[39mreturn\u001b[39;00m \u001b[39mself\u001b[39m\u001b[39m.\u001b[39m_textd\n",
      "File \u001b[0;32m~/github/lltk/lltk/corpus/corpus.py:670\u001b[0m, in \u001b[0;36mBaseCorpus.init\u001b[0;34m(self, force, quiet, sync, progress, remote, cache, _init, lim, **kwargs)\u001b[0m\n\u001b[1;32m    <a href='file:///Users/ryan/github/lltk/lltk/corpus/corpus.py?line=666'>667</a>\u001b[0m     \u001b[39mif\u001b[39;00m \u001b[39mnot\u001b[39;00m quiet: \u001b[39mreturn\u001b[39;00m go()\n\u001b[1;32m    <a href='file:///Users/ryan/github/lltk/lltk/corpus/corpus.py?line=667'>668</a>\u001b[0m     \u001b[39mwith\u001b[39;00m log\u001b[39m.\u001b[39msilent: \u001b[39mreturn\u001b[39;00m go()\n\u001b[0;32m--> <a href='file:///Users/ryan/github/lltk/lltk/corpus/corpus.py?line=669'>670</a>\u001b[0m numdone\u001b[39m=\u001b[39mrun()\n\u001b[1;32m    <a href='file:///Users/ryan/github/lltk/lltk/corpus/corpus.py?line=671'>672</a>\u001b[0m \u001b[39mif\u001b[39;00m numdone:\n\u001b[1;32m    <a href='file:///Users/ryan/github/lltk/lltk/corpus/corpus.py?line=672'>673</a>\u001b[0m     \u001b[39mif\u001b[39;00m log: log(\u001b[39mf\u001b[39m\u001b[39m'\u001b[39m\u001b[39minitialized \u001b[39m\u001b[39m{\u001b[39;00mnumdone\u001b[39m}\u001b[39;00m\u001b[39m texts\u001b[39m\u001b[39m'\u001b[39m)\n",
      "File \u001b[0;32m~/github/lltk/lltk/corpus/corpus.py:667\u001b[0m, in \u001b[0;36mBaseCorpus.init.<locals>.run\u001b[0;34m()\u001b[0m\n\u001b[1;32m    <a href='file:///Users/ryan/github/lltk/lltk/corpus/corpus.py?line=665'>666</a>\u001b[0m \u001b[39mdef\u001b[39;00m \u001b[39mrun\u001b[39m():\n\u001b[0;32m--> <a href='file:///Users/ryan/github/lltk/lltk/corpus/corpus.py?line=666'>667</a>\u001b[0m     \u001b[39mif\u001b[39;00m \u001b[39mnot\u001b[39;00m quiet: \u001b[39mreturn\u001b[39;00m go()\n\u001b[1;32m    <a href='file:///Users/ryan/github/lltk/lltk/corpus/corpus.py?line=667'>668</a>\u001b[0m     \u001b[39mwith\u001b[39;00m log\u001b[39m.\u001b[39msilent: \u001b[39mreturn\u001b[39;00m go()\n",
      "File \u001b[0;32m~/github/lltk/lltk/corpus/corpus.py:661\u001b[0m, in \u001b[0;36mBaseCorpus.init.<locals>.go\u001b[0;34m()\u001b[0m\n\u001b[1;32m    <a href='file:///Users/ryan/github/lltk/lltk/corpus/corpus.py?line=658'>659</a>\u001b[0m \u001b[39mdef\u001b[39;00m \u001b[39mgo\u001b[39m():\n\u001b[1;32m    <a href='file:///Users/ryan/github/lltk/lltk/corpus/corpus.py?line=659'>660</a>\u001b[0m     numdone\u001b[39m=\u001b[39m\u001b[39m0\u001b[39m\n\u001b[0;32m--> <a href='file:///Users/ryan/github/lltk/lltk/corpus/corpus.py?line=660'>661</a>\u001b[0m     \u001b[39mfor\u001b[39;00m t \u001b[39min\u001b[39;00m \u001b[39mself\u001b[39m\u001b[39m.\u001b[39miter_init(_init\u001b[39m=\u001b[39m_init,progress\u001b[39m=\u001b[39mprogress,remote\u001b[39m=\u001b[39mremote,lim\u001b[39m=\u001b[39mlim,_cache\u001b[39m=\u001b[39mcache,\u001b[39m*\u001b[39m\u001b[39m*\u001b[39mkwargs):\n\u001b[1;32m    <a href='file:///Users/ryan/github/lltk/lltk/corpus/corpus.py?line=661'>662</a>\u001b[0m         \u001b[39mself\u001b[39m\u001b[39m.\u001b[39m_textd[t\u001b[39m.\u001b[39mid]\u001b[39m=\u001b[39mt\n\u001b[1;32m    <a href='file:///Users/ryan/github/lltk/lltk/corpus/corpus.py?line=662'>663</a>\u001b[0m         texts\u001b[39m.\u001b[39mappend(t)\n",
      "File \u001b[0;32m~/github/lltk/lltk/corpus/corpus.py:643\u001b[0m, in \u001b[0;36mBaseCorpus.iter_init\u001b[0;34m(self, progress, _init, _cache, remote, lim, shuffle, **kwargs)\u001b[0m\n\u001b[1;32m    <a href='file:///Users/ryan/github/lltk/lltk/corpus/corpus.py?line=632'>633</a>\u001b[0m meta\u001b[39m=\u001b[39mjust_meta_no_id(dx)\n\u001b[1;32m    <a href='file:///Users/ryan/github/lltk/lltk/corpus/corpus.py?line=633'>634</a>\u001b[0m t \u001b[39m=\u001b[39m \u001b[39mself\u001b[39m\u001b[39m.\u001b[39mtext(\n\u001b[1;32m    <a href='file:///Users/ryan/github/lltk/lltk/corpus/corpus.py?line=634'>635</a>\u001b[0m     \u001b[39mid\u001b[39m, \n\u001b[1;32m    <a href='file:///Users/ryan/github/lltk/lltk/corpus/corpus.py?line=635'>636</a>\u001b[0m     _source\u001b[39m=\u001b[39m\u001b[39mNone\u001b[39;00m,\n\u001b[0;32m   (...)\u001b[0m\n\u001b[1;32m    <a href='file:///Users/ryan/github/lltk/lltk/corpus/corpus.py?line=640'>641</a>\u001b[0m     _init \u001b[39m=\u001b[39m \u001b[39mFalse\u001b[39;00m,\n\u001b[1;32m    <a href='file:///Users/ryan/github/lltk/lltk/corpus/corpus.py?line=641'>642</a>\u001b[0m     \u001b[39m*\u001b[39m\u001b[39m*\u001b[39mmeta)\n\u001b[0;32m--> <a href='file:///Users/ryan/github/lltk/lltk/corpus/corpus.py?line=642'>643</a>\u001b[0m \u001b[39mif\u001b[39;00m _init: t\u001b[39m.\u001b[39;49minit(cache\u001b[39m=\u001b[39;49m_cache,remote\u001b[39m=\u001b[39;49mremote,\u001b[39m*\u001b[39;49m\u001b[39m*\u001b[39;49mkwargs)\n\u001b[1;32m    <a href='file:///Users/ryan/github/lltk/lltk/corpus/corpus.py?line=643'>644</a>\u001b[0m \u001b[39myield\u001b[39;00m t\n",
      "File \u001b[0;32m~/github/lltk/lltk/text/text.py:305\u001b[0m, in \u001b[0;36mBaseText.init\u001b[0;34m(self, meta, force, remote, cache, **kwargs)\u001b[0m\n\u001b[1;32m    <a href='file:///Users/ryan/github/lltk/lltk/text/text.py?line=302'>303</a>\u001b[0m \u001b[39mif\u001b[39;00m force \u001b[39mor\u001b[39;00m \u001b[39mnot\u001b[39;00m remote \u001b[39min\u001b[39;00m \u001b[39mself\u001b[39m\u001b[39m.\u001b[39m_init \u001b[39mor\u001b[39;00m \u001b[39mnot\u001b[39;00m \u001b[39mself\u001b[39m\u001b[39m.\u001b[39mmeta_is_valid():\n\u001b[1;32m    <a href='file:///Users/ryan/github/lltk/lltk/text/text.py?line=303'>304</a>\u001b[0m     \u001b[39mif\u001b[39;00m log: log(\u001b[39mf\u001b[39m\u001b[39m'\u001b[39m\u001b[39mInit metadata: \u001b[39m\u001b[39m{\u001b[39;00m\u001b[39mself\u001b[39m\u001b[39m}\u001b[39;00m\u001b[39m, kwargs = \u001b[39m\u001b[39m{\u001b[39;00mpf(kwargs)\u001b[39m}\u001b[39;00m\u001b[39m'\u001b[39m)\n\u001b[0;32m--> <a href='file:///Users/ryan/github/lltk/lltk/text/text.py?line=304'>305</a>\u001b[0m     \u001b[39mself\u001b[39;49m\u001b[39m.\u001b[39;49mmetadata(meta\u001b[39m=\u001b[39;49mmeta,remote\u001b[39m=\u001b[39;49mremote,cache\u001b[39m=\u001b[39;49mcache,\u001b[39m*\u001b[39;49m\u001b[39m*\u001b[39;49mkwargs)\n\u001b[1;32m    <a href='file:///Users/ryan/github/lltk/lltk/text/text.py?line=305'>306</a>\u001b[0m     \u001b[39mself\u001b[39m\u001b[39m.\u001b[39m_init\u001b[39m|\u001b[39m\u001b[39m=\u001b[39m{remote}\n\u001b[1;32m    <a href='file:///Users/ryan/github/lltk/lltk/text/text.py?line=306'>307</a>\u001b[0m \u001b[39mreturn\u001b[39;00m \u001b[39mself\u001b[39m\n",
      "File \u001b[0;32m~/github/lltk/lltk/text/text.py:435\u001b[0m, in \u001b[0;36mBaseText.metadata\u001b[0;34m(self, meta, from_initial, from_query, from_cache, from_sources, cache, remote, sep, to_numeric, **kwargs)\u001b[0m\n\u001b[1;32m    <a href='file:///Users/ryan/github/lltk/lltk/text/text.py?line=431'>432</a>\u001b[0m \u001b[39mif\u001b[39;00m from_initial: ometa \u001b[39m=\u001b[39m \u001b[39mself\u001b[39m\u001b[39m.\u001b[39mmetadata_initial(ometa)\n\u001b[1;32m    <a href='file:///Users/ryan/github/lltk/lltk/text/text.py?line=433'>434</a>\u001b[0m \u001b[39m# db caches\u001b[39;00m\n\u001b[0;32m--> <a href='file:///Users/ryan/github/lltk/lltk/text/text.py?line=434'>435</a>\u001b[0m \u001b[39mif\u001b[39;00m from_cache: ometa \u001b[39m=\u001b[39m \u001b[39mself\u001b[39;49m\u001b[39m.\u001b[39;49mmetadata_from_cache(ometa,\u001b[39m*\u001b[39;49m\u001b[39m*\u001b[39;49mkwargs)\n\u001b[1;32m    <a href='file:///Users/ryan/github/lltk/lltk/text/text.py?line=436'>437</a>\u001b[0m \u001b[39m# query for myself?\u001b[39;00m\n\u001b[1;32m    <a href='file:///Users/ryan/github/lltk/lltk/text/text.py?line=437'>438</a>\u001b[0m \u001b[39mif\u001b[39;00m remote \u001b[39mand\u001b[39;00m from_query: ometa \u001b[39m=\u001b[39m \u001b[39mself\u001b[39m\u001b[39m.\u001b[39mmetadata_remote(ometa,\u001b[39m*\u001b[39m\u001b[39m*\u001b[39mkwargs)\n",
      "File \u001b[0;32m~/github/lltk/lltk/text/text.py:381\u001b[0m, in \u001b[0;36mBaseText.metadata_from_cache\u001b[0;34m(self, meta, **kwargs)\u001b[0m\n\u001b[1;32m    <a href='file:///Users/ryan/github/lltk/lltk/text/text.py?line=378'>379</a>\u001b[0m \u001b[39mdef\u001b[39;00m \u001b[39mmetadata_from_cache\u001b[39m(\u001b[39mself\u001b[39m,meta\u001b[39m=\u001b[39m{},\u001b[39m*\u001b[39m\u001b[39m*\u001b[39mkwargs):\n\u001b[1;32m    <a href='file:///Users/ryan/github/lltk/lltk/text/text.py?line=379'>380</a>\u001b[0m     \u001b[39mif\u001b[39;00m log\u001b[39m>\u001b[39m\u001b[39m1\u001b[39m: log(\u001b[39mself\u001b[39m)\n\u001b[0;32m--> <a href='file:///Users/ryan/github/lltk/lltk/text/text.py?line=380'>381</a>\u001b[0m     \u001b[39mreturn\u001b[39;00m \u001b[39mself\u001b[39m\u001b[39m.\u001b[39mensure_id(merge_dict(meta, \u001b[39mself\u001b[39;49m\u001b[39m.\u001b[39;49minit_cache(\u001b[39m*\u001b[39;49m\u001b[39m*\u001b[39;49mkwargs)))\n",
      "File \u001b[0;32m~/github/lltk/lltk/text/text.py:319\u001b[0m, in \u001b[0;36mBaseText.init_cache\u001b[0;34m(self, *x, **y)\u001b[0m\n\u001b[1;32m    <a href='file:///Users/ryan/github/lltk/lltk/text/text.py?line=316'>317</a>\u001b[0m \u001b[39mdef\u001b[39;00m \u001b[39minit_cache\u001b[39m(\u001b[39mself\u001b[39m,\u001b[39m*\u001b[39mx,\u001b[39m*\u001b[39m\u001b[39m*\u001b[39my):\n\u001b[1;32m    <a href='file:///Users/ryan/github/lltk/lltk/text/text.py?line=317'>318</a>\u001b[0m     \u001b[39mif\u001b[39;00m log\u001b[39m>\u001b[39m\u001b[39m1\u001b[39m: log(\u001b[39mself\u001b[39m)\n\u001b[0;32m--> <a href='file:///Users/ryan/github/lltk/lltk/text/text.py?line=318'>319</a>\u001b[0m     \u001b[39mreturn\u001b[39;00m \u001b[39mself\u001b[39m\u001b[39m.\u001b[39mensure_id(\u001b[39mself\u001b[39;49m\u001b[39m.\u001b[39;49mgdb\u001b[39m.\u001b[39;49mget(\u001b[39mself\u001b[39;49m\u001b[39m.\u001b[39;49maddr,{}))\n",
      "File \u001b[0;32m~/github/lltk/lltk/tools/db.py:219\u001b[0m, in \u001b[0;36mLLDBGraph.get\u001b[0;34m(self, id, default, **kwargs)\u001b[0m\n\u001b[1;32m    <a href='file:///Users/ryan/github/lltk/lltk/tools/db.py?line=217'>218</a>\u001b[0m \u001b[39mdef\u001b[39;00m \u001b[39mget\u001b[39m(\u001b[39mself\u001b[39m,\u001b[39mid\u001b[39m,default\u001b[39m=\u001b[39m{},\u001b[39m*\u001b[39m\u001b[39m*\u001b[39mkwargs):\n\u001b[0;32m--> <a href='file:///Users/ryan/github/lltk/lltk/tools/db.py?line=218'>219</a>\u001b[0m     res\u001b[39m=\u001b[39m\u001b[39mself\u001b[39;49m\u001b[39m.\u001b[39;49mget_node(\u001b[39mid\u001b[39;49m,\u001b[39m*\u001b[39;49m\u001b[39m*\u001b[39;49mkwargs)\n\u001b[1;32m    <a href='file:///Users/ryan/github/lltk/lltk/tools/db.py?line=219'>220</a>\u001b[0m     \u001b[39mreturn\u001b[39;00m res \u001b[39mif\u001b[39;00m res \u001b[39mis\u001b[39;00m \u001b[39mnot\u001b[39;00m \u001b[39mNone\u001b[39;00m \u001b[39melse\u001b[39;00m default\n",
      "File \u001b[0;32m~/github/lltk/lltk/tools/db.py:243\u001b[0m, in \u001b[0;36mLLDBGraph.get_node\u001b[0;34m(self, id, **meta)\u001b[0m\n\u001b[1;32m    <a href='file:///Users/ryan/github/lltk/lltk/tools/db.py?line=241'>242</a>\u001b[0m \u001b[39mdef\u001b[39;00m \u001b[39mget_node\u001b[39m(\u001b[39mself\u001b[39m,\u001b[39mid\u001b[39m\u001b[39m=\u001b[39m\u001b[39mNone\u001b[39;00m,\u001b[39m*\u001b[39m\u001b[39m*\u001b[39mmeta):\n\u001b[0;32m--> <a href='file:///Users/ryan/github/lltk/lltk/tools/db.py?line=242'>243</a>\u001b[0m     \u001b[39mreturn\u001b[39;00m \u001b[39mself\u001b[39;49m\u001b[39m.\u001b[39;49mdb\u001b[39m.\u001b[39;49matomic(\n\u001b[1;32m    <a href='file:///Users/ryan/github/lltk/lltk/tools/db.py?line=243'>244</a>\u001b[0m         \u001b[39mself\u001b[39;49m\u001b[39m.\u001b[39;49mpath,\n\u001b[1;32m    <a href='file:///Users/ryan/github/lltk/lltk/tools/db.py?line=244'>245</a>\u001b[0m         \u001b[39mself\u001b[39;49m\u001b[39m.\u001b[39;49mdb\u001b[39m.\u001b[39;49mfind_node(\u001b[39mid\u001b[39;49m \u001b[39mif\u001b[39;49;00m \u001b[39mid\u001b[39;49m \u001b[39melse\u001b[39;49;00m safejson(meta))\n\u001b[1;32m    <a href='file:///Users/ryan/github/lltk/lltk/tools/db.py?line=245'>246</a>\u001b[0m     )\n",
      "File \u001b[0;32m~/miniforge3/lib/python3.9/site-packages/simple_graph_sqlite/database.py:26\u001b[0m, in \u001b[0;36matomic\u001b[0;34m(db_file, cursor_exec_fn)\u001b[0m\n\u001b[1;32m     <a href='file:///Users/ryan/miniforge3/lib/python3.9/site-packages/simple_graph_sqlite/database.py?line=24'>25</a>\u001b[0m \u001b[39mdef\u001b[39;00m \u001b[39matomic\u001b[39m(db_file, cursor_exec_fn):\n\u001b[0;32m---> <a href='file:///Users/ryan/miniforge3/lib/python3.9/site-packages/simple_graph_sqlite/database.py?line=25'>26</a>\u001b[0m     connection \u001b[39m=\u001b[39m sqlite3\u001b[39m.\u001b[39;49mconnect(db_file)\n\u001b[1;32m     <a href='file:///Users/ryan/miniforge3/lib/python3.9/site-packages/simple_graph_sqlite/database.py?line=26'>27</a>\u001b[0m     cursor \u001b[39m=\u001b[39m connection\u001b[39m.\u001b[39mcursor()\n\u001b[1;32m     <a href='file:///Users/ryan/miniforge3/lib/python3.9/site-packages/simple_graph_sqlite/database.py?line=27'>28</a>\u001b[0m     cursor\u001b[39m.\u001b[39mexecute(\u001b[39m\"\u001b[39m\u001b[39mPRAGMA foreign_keys = TRUE;\u001b[39m\u001b[39m\"\u001b[39m)\n",
      "\u001b[0;31mKeyboardInterrupt\u001b[0m: "
     ]
    }
   ],
   "source": [
    "with log.silent:\n",
    "    C1=Corpus('markmark')\n",
    "    C2=Corpus('chicago')\n",
    "    C3=Corpus('gildedage')\n",
    "    texts = [t for t in list(C1)+list(C2)+list(C3) if 'James' in str(t['author']) and 'Henry' in str(t['author'])]\n",
    "    tl=texts#[:10]"
   ]
  },
  {
   "cell_type": "code",
   "execution_count": null,
   "metadata": {},
   "outputs": [
    {
     "data": {
      "application/vnd.jupyter.widget-view+json": {
       "model_id": "f62b42e4232847e68c52cb34cffbeb12",
       "version_major": 2,
       "version_minor": 0
      },
      "text/plain": [
       "0it [00:00, ?it/s]"
      ]
     },
     "metadata": {},
     "output_type": "display_data"
    }
   ],
   "source": [
    "with log.silent:\n",
    "    for t in get_tqdm(C1.texts()):\n",
    "        t.init(remote=True,force=True)"
   ]
  },
  {
   "cell_type": "code",
   "execution_count": null,
   "metadata": {},
   "outputs": [],
   "source": []
  },
  {
   "cell_type": "code",
   "execution_count": null,
   "metadata": {},
   "outputs": [
    {
     "data": {
      "text/plain": [
       "False"
      ]
     },
     "execution_count": 4,
     "metadata": {},
     "output_type": "execute_result"
    }
   ],
   "source": [
    "texts[0] in texts[1].sources"
   ]
  },
  {
   "cell_type": "code",
   "execution_count": null,
   "metadata": {},
   "outputs": [
    {
     "data": {
      "text/plain": [
       "False"
      ]
     },
     "execution_count": 5,
     "metadata": {},
     "output_type": "execute_result"
    }
   ],
   "source": [
    "texts[1] in texts[0].sources"
   ]
  },
  {
   "cell_type": "code",
   "execution_count": null,
   "metadata": {},
   "outputs": [],
   "source": [
    "t1,t2=texts[:2]"
   ]
  },
  {
   "cell_type": "code",
   "execution_count": null,
   "metadata": {},
   "outputs": [
    {
     "data": {
      "text/plain": [
       "(False, False)"
      ]
     },
     "execution_count": 7,
     "metadata": {},
     "output_type": "execute_result"
    }
   ],
   "source": [
    "t1 in t2.sources,t2 in t1.sources"
   ]
  },
  {
   "cell_type": "code",
   "execution_count": null,
   "metadata": {},
   "outputs": [
    {
     "data": {
      "text/plain": [
       "{TextHathiRecord(_hathi/htrn/000145209),\n",
       " TextHathiRecord(_hathi/htrn/000481327),\n",
       " TextHathiRecord(_hathi/htrn/000481328),\n",
       " TextHathiRecord(_hathi/htrn/001947310),\n",
       " TextHathiRecord(_hathi/htrn/003302371),\n",
       " TextHathiRecord(_hathi/htrn/006155608),\n",
       " TextHathiRecord(_hathi/htrn/007049614),\n",
       " TextHathiRecord(_hathi/htrn/007117857),\n",
       " TextHathiRecord(_hathi/htrn/007684049),\n",
       " TextHathiRecord(_hathi/htrn/012274617),\n",
       " TextHathiVolume(_hathi/htid/mdp.39076000959523),\n",
       " TextISBN(_isbn/089966606X),\n",
       " TextISBN(_isbn/140034994),\n",
       " TextISBN(_isbn/678028214),\n",
       " TextWikidataClass(_wikidata/Q650571),\n",
       " TextWorldcat(_worldcat/1180923604),\n",
       " TextWorldcat(_worldcat/1180951599),\n",
       " TextWorldcat(_worldcat/1189641495),\n",
       " TextWorldcat(_worldcat/1191708088),\n",
       " TextWorldcat(_worldcat/28148961),\n",
       " TextWorldcat(_worldcat/313352727),\n",
       " TextWorldcat(_worldcat/313352738),\n",
       " TextWorldcat(_worldcat/46311841),\n",
       " TextWorldcat(_worldcat/671748177),\n",
       " TextWorldcat(_worldcat/957496693)}"
      ]
     },
     "execution_count": 8,
     "metadata": {},
     "output_type": "execute_result"
    }
   ],
   "source": [
    "set(t1.sources) - set(t2.sources)"
   ]
  },
  {
   "cell_type": "code",
   "execution_count": null,
   "metadata": {},
   "outputs": [
    {
     "data": {
      "text/plain": [
       "set()"
      ]
     },
     "execution_count": 9,
     "metadata": {},
     "output_type": "execute_result"
    }
   ],
   "source": [
    "set(t1.dsources) & set(t2.dsources)"
   ]
  },
  {
   "cell_type": "code",
   "execution_count": null,
   "metadata": {},
   "outputs": [
    {
     "data": {
      "text/plain": [
       "[TextHathiRecord(_hathi/htrn/000481340),\n",
       " TextHathiRecord(_hathi/htrn/000481347),\n",
       " TextHathiRecord(_hathi/htrn/002589619),\n",
       " TextHathiRecord(_hathi/htrn/004355853),\n",
       " TextHathiRecord(_hathi/htrn/007103554),\n",
       " TextHathiRecord(_hathi/htrn/007592319),\n",
       " TextHathiRecord(_hathi/htrn/009819368),\n",
       " TextHathiRecord(_hathi/htrn/009914044),\n",
       " TextHathiRecord(_hathi/htrn/011742556),\n",
       " TextHathiRecord(_hathi/htrn/101995498),\n",
       " TextISBN(_isbn/019281639X),\n",
       " TextISBN(_isbn/0394309596),\n",
       " TextISBN(_isbn/140024506),\n",
       " TextISBN(_isbn/6725190460672611821),\n",
       " TextISBN(_isbn/679733817),\n",
       " TextISBN(_isbn/812969960),\n",
       " TextISBN(_isbn/815203470),\n",
       " TextISBN(_isbn/9780394309590),\n",
       " TextWikidataClass(_wikidata/Q2338040),\n",
       " TextWorldcat(_worldcat/1000326610),\n",
       " TextWorldcat(_worldcat/1132335954),\n",
       " TextWorldcat(_worldcat/1196043330),\n",
       " TextWorldcat(_worldcat/1277055823),\n",
       " TextWorldcat(_worldcat/1303032711),\n",
       " TextWorldcat(_worldcat/311860357),\n",
       " TextWorldcat(_worldcat/311860769),\n",
       " TextWorldcat(_worldcat/37966432),\n",
       " TextWorldcat(_worldcat/901218604),\n",
       " TextWorldcat(_worldcat/901218651)]"
      ]
     },
     "execution_count": 10,
     "metadata": {},
     "output_type": "execute_result"
    }
   ],
   "source": [
    "t2.dsources"
   ]
  },
  {
   "cell_type": "code",
   "execution_count": null,
   "metadata": {},
   "outputs": [],
   "source": []
  },
  {
   "cell_type": "code",
   "execution_count": null,
   "metadata": {},
   "outputs": [],
   "source": []
  }
 ],
 "metadata": {
  "interpreter": {
   "hash": "99c3488a746bccd77b7949f8f419451e1c962da56ebbaaae6e4d2e6c8c07eaa0"
  },
  "kernelspec": {
   "display_name": "Python 3.9.7 ('base')",
   "language": "python",
   "name": "python3"
  },
  "language_info": {
   "codemirror_mode": {
    "name": "ipython",
    "version": 3
   },
   "file_extension": ".py",
   "mimetype": "text/x-python",
   "name": "python",
   "nbconvert_exporter": "python",
   "pygments_lexer": "ipython3",
   "version": "3.9.7"
  },
  "orig_nbformat": 4
 },
 "nbformat": 4,
 "nbformat_minor": 2
}

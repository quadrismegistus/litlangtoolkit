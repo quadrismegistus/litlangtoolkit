{
 "cells": [
  {
   "cell_type": "markdown",
   "metadata": {},
   "source": [
    "# Semantic Cohort"
   ]
  },
  {
   "cell_type": "code",
   "execution_count": 2,
   "metadata": {},
   "outputs": [],
   "source": [
    "import sys; sys.path.insert(0,'../../..')\n",
    "from semantic_cohort import *"
   ]
  },
  {
   "cell_type": "markdown",
   "metadata": {},
   "source": [
    "## Compile"
   ]
  },
  {
   "cell_type": "code",
   "execution_count": 12,
   "metadata": {},
   "outputs": [],
   "source": [
    "SC = SemanticCohort()\n",
    "# SC.url_metadata='https://www.dropbox.com/s/f6imhtfzgpf7tvz/semantic_cohort_metadata.zip?dl=1'\n",
    "# SC.compile()\n",
    "# SC.metadata()"
   ]
  },
  {
   "cell_type": "code",
   "execution_count": 13,
   "metadata": {},
   "outputs": [],
   "source": [
    "# t=SC.au.Braddon.LadyAudleySSecret\n",
    "t=SC.t"
   ]
  },
  {
   "cell_type": "code",
   "execution_count": 14,
   "metadata": {},
   "outputs": [
    {
     "data": {
      "text/plain": [
       "('In bad hands and other tales',\n",
       " 'In Bad Hands And Other Tales',\n",
       " 'Robinson, In Bad Hands And Other Tales')"
      ]
     },
     "execution_count": 14,
     "metadata": {},
     "output_type": "execute_result"
    }
   ],
   "source": [
    "# t=SC.t\n",
    "t.title, t.shorttitle, t.qstr"
   ]
  },
  {
   "cell_type": "code",
   "execution_count": 15,
   "metadata": {},
   "outputs": [
    {
     "name": "stderr",
     "output_type": "stream",
     "text": [
      "\u001b[36m[06:51:15]\u001b[0m \u001b[34m\u001b[1mquery_get_wikidata_id()\u001b[0m\u001b[36m:160:\u001b[0m Querying for ID: Robinson, In Bad Hands And Other Tales\n",
      "\u001b[36m[06:51:15]\u001b[0m \u001b[34m\u001b[1mquery_get_html()\u001b[0m\u001b[36m:183:\u001b[0m Querying: https://www.wikidata.org/w/index.php?search=Robinson%2C+In+Bad+Hands+And+Other+Tales&ns0=1&ns120=1\n",
      "\u001b[36m[06:51:16]\u001b[0m \u001b[34m\u001b[1mquery_get_html()\u001b[0m\u001b[36m:186:\u001b[0m Length of content received: 47641, <class 'str'>\n",
      "\u001b[36m[06:51:16]\u001b[0m \u001b[34m\u001b[1mquery_iter_qids_from_html()\u001b[0m\u001b[36m:196:\u001b[0m Found 0 items\n",
      "\u001b[36m[06:51:16]\u001b[0m \u001b[34m\u001b[1madd_edge_to_db()\u001b[0m\u001b[36m:96:\u001b[0m [semantic_cohort] Adding to DB: _semantic_cohort/SC2540 --> _wikidata/Q0\n"
     ]
    },
    {
     "data": {
      "text/plain": [
       "([TextWikidataClass](_wikidata/Q0), dict_keys(['id']))"
      ]
     },
     "execution_count": 15,
     "metadata": {},
     "output_type": "execute_result"
    }
   ],
   "source": [
    "t.wikidata(force=True), t.wiki.meta.keys()"
   ]
  },
  {
   "cell_type": "code",
   "execution_count": 19,
   "metadata": {},
   "outputs": [
    {
     "data": {
      "application/vnd.jupyter.widget-view+json": {
       "model_id": "9e68cbb5be47489bb5200b27ede36fe7",
       "version_major": 2,
       "version_minor": 0
      },
      "text/plain": [
       "[SemanticCohort] Iterating texts:   0%|          | 0/2958 [00:00<?, ?it/s]"
      ]
     },
     "metadata": {},
     "output_type": "display_data"
    },
    {
     "data": {
      "text/plain": [
       "(2958, 318)"
      ]
     },
     "execution_count": 19,
     "metadata": {},
     "output_type": "execute_result"
    }
   ],
   "source": [
    "twl = SC.wikidata(force=False)\n",
    "len(twl), len(set(twl))"
   ]
  },
  {
   "cell_type": "code",
   "execution_count": null,
   "metadata": {},
   "outputs": [],
   "source": []
  }
 ],
 "metadata": {
  "interpreter": {
   "hash": "99c3488a746bccd77b7949f8f419451e1c962da56ebbaaae6e4d2e6c8c07eaa0"
  },
  "kernelspec": {
   "display_name": "Python 3.9.7 ('base')",
   "language": "python",
   "name": "python3"
  },
  "language_info": {
   "codemirror_mode": {
    "name": "ipython",
    "version": 3
   },
   "file_extension": ".py",
   "mimetype": "text/x-python",
   "name": "python",
   "nbconvert_exporter": "python",
   "pygments_lexer": "ipython3",
   "version": "3.9.7"
  },
  "orig_nbformat": 4
 },
 "nbformat": 4,
 "nbformat_minor": 2
}

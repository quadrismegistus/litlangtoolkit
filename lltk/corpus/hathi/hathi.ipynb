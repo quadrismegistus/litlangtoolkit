{
 "cells": [
  {
   "cell_type": "code",
   "execution_count": 1,
   "metadata": {},
   "outputs": [],
   "source": [
    "import sys; sys.path.insert(0,'/Users/ryan/github/yapmap')\n",
    "import sys; sys.path.insert(0,os.path.abspath('../../..'))\n",
    "from hathi import *"
   ]
  },
  {
   "cell_type": "code",
   "execution_count": 2,
   "metadata": {},
   "outputs": [],
   "source": [
    "with log.quiet:\n",
    "    C=Corpus('hathi')\n",
    "    t=Text(title='Ulysses',author='Joyce')"
   ]
  },
  {
   "cell_type": "code",
   "execution_count": 3,
   "metadata": {},
   "outputs": [
    {
     "name": "stderr",
     "output_type": "stream",
     "text": [
      "[16:14:03] hathi.\u001b[34m\u001b[1mquery_for_ids\u001b[0m( \u001b[36mfound result on db (48 records)\u001b[0m )\n",
      "[16:14:04] hathi.\u001b[34m\u001b[1mquery_record_jsons\u001b[0m( \u001b[36m?\n",
      "records\n",
      "{ '000249715': { 'isbns': ['9780824043759', '9780824043759', '9780824043759'],\n",
      "                 'issns': [],\n",
      "                 'lccns': ['84004094'],\n",
      "                 'oclcs': ['10505634'],\n",
      "                 'publishDates': ['1900'],\n",
      "                 'recordURL': 'https://catalog.hathitrust.org/Record/000249715',\n",
      "                 'titles': ['Ulysses']}}\u001b[0m )\n",
      "[16:14:04] hathi.\u001b[34m\u001b[1mquery_record_jsons\u001b[0m( \u001b[36mrecords\n",
      "{ '000249715': { 'isbns': ['9780824043759', '9780824043759', '9780824043759'],\n",
      "                 'issns': [],\n",
      "                 'lccns': ['84004094'],\n",
      "                 'oclcs': ['10505634'],\n",
      "                 'publishDates': ['1900'],\n",
      "                 'recordURL': 'https://catalog.hathitrust.org/Record/000249715',\n",
      "                 'titles': ['Ulysses']}}\u001b[0m )\n"
     ]
    },
    {
     "ename": "ValueError",
     "evalue": "too many values to unpack (expected 2)",
     "output_type": "error",
     "traceback": [
      "\u001b[0;31m---------------------------------------------------------------------------\u001b[0m",
      "\u001b[0;31mValueError\u001b[0m                                Traceback (most recent call last)",
      "\u001b[1;32m/Users/ryan/github/lltk/lltk/corpus/hathi/hathi.ipynb Cell 3'\u001b[0m in \u001b[0;36m<cell line: 1>\u001b[0;34m()\u001b[0m\n\u001b[0;32m----> <a href='vscode-notebook-cell:/Users/ryan/github/lltk/lltk/corpus/hathi/hathi.ipynb#ch0000003?line=0'>1</a>\u001b[0m \u001b[39mwith\u001b[39;00m log: ht\u001b[39m=\u001b[39mC\u001b[39m.\u001b[39mtext_from(t)\n\u001b[1;32m      <a href='vscode-notebook-cell:/Users/ryan/github/lltk/lltk/corpus/hathi/hathi.ipynb#ch0000003?line=1'>2</a>\u001b[0m ht\n",
      "File \u001b[0;32m~/github/lltk/lltk/corpus/hathi/hathi.py:176\u001b[0m, in \u001b[0;36mHathi.text_from\u001b[0;34m(self, text, **kwargs)\u001b[0m\n\u001b[1;32m    <a href='file:///Users/ryan/github/lltk/lltk/corpus/hathi/hathi.py?line=173'>174</a>\u001b[0m \u001b[39mdef\u001b[39;00m \u001b[39mtext_from\u001b[39m(\u001b[39mself\u001b[39m,text,\u001b[39m*\u001b[39m\u001b[39m*\u001b[39mkwargs):\n\u001b[1;32m    <a href='file:///Users/ryan/github/lltk/lltk/corpus/hathi/hathi.py?line=174'>175</a>\u001b[0m     x\u001b[39m=\u001b[39m\u001b[39mNone\u001b[39;00m\n\u001b[0;32m--> <a href='file:///Users/ryan/github/lltk/lltk/corpus/hathi/hathi.py?line=175'>176</a>\u001b[0m     \u001b[39mfor\u001b[39;00m x \u001b[39min\u001b[39;00m \u001b[39mself\u001b[39m\u001b[39m.\u001b[39mtexts_from(text,\u001b[39m*\u001b[39m\u001b[39m*\u001b[39mkwargs): \u001b[39mbreak\u001b[39;00m\n\u001b[1;32m    <a href='file:///Users/ryan/github/lltk/lltk/corpus/hathi/hathi.py?line=176'>177</a>\u001b[0m     \u001b[39mreturn\u001b[39;00m x\n",
      "File \u001b[0;32m~/github/lltk/lltk/corpus/hathi/hathi.py:183\u001b[0m, in \u001b[0;36mHathi.texts_from\u001b[0;34m(self, text, add_source, **kwargs)\u001b[0m\n\u001b[1;32m    <a href='file:///Users/ryan/github/lltk/lltk/corpus/hathi/hathi.py?line=180'>181</a>\u001b[0m ids \u001b[39m=\u001b[39m \u001b[39mself\u001b[39m\u001b[39m.\u001b[39mquery_for_ids(text)\n\u001b[1;32m    <a href='file:///Users/ryan/github/lltk/lltk/corpus/hathi/hathi.py?line=181'>182</a>\u001b[0m \u001b[39mfor\u001b[39;00m htrn_i,htrn_d \u001b[39min\u001b[39;00m \u001b[39mself\u001b[39m\u001b[39m.\u001b[39mquery_record_jsons(ids):\n\u001b[0;32m--> <a href='file:///Users/ryan/github/lltk/lltk/corpus/hathi/hathi.py?line=182'>183</a>\u001b[0m     \u001b[39mfor\u001b[39;00m recd \u001b[39min\u001b[39;00m \u001b[39mself\u001b[39m\u001b[39m.\u001b[39mprocess_rec_json(htrn_d):\n\u001b[1;32m    <a href='file:///Users/ryan/github/lltk/lltk/corpus/hathi/hathi.py?line=183'>184</a>\u001b[0m         \u001b[39mif\u001b[39;00m add_source: recd[\u001b[39m'\u001b[39m\u001b[39m_source\u001b[39m\u001b[39m'\u001b[39m] \u001b[39m=\u001b[39m text\u001b[39m.\u001b[39maddr\n\u001b[1;32m    <a href='file:///Users/ryan/github/lltk/lltk/corpus/hathi/hathi.py?line=184'>185</a>\u001b[0m         t\u001b[39m=\u001b[39m\u001b[39mself\u001b[39m\u001b[39m.\u001b[39mtext(\u001b[39m*\u001b[39m\u001b[39m*\u001b[39mrecd)\n",
      "File \u001b[0;32m~/github/lltk/lltk/corpus/hathi/hathi.py:145\u001b[0m, in \u001b[0;36mHathi.process_rec_json\u001b[0;34m(self, d)\u001b[0m\n\u001b[1;32m    <a href='file:///Users/ryan/github/lltk/lltk/corpus/hathi/hathi.py?line=142'>143</a>\u001b[0m \u001b[39mdef\u001b[39;00m \u001b[39mprocess_rec_json\u001b[39m(\u001b[39mself\u001b[39m,d):\n\u001b[1;32m    <a href='file:///Users/ryan/github/lltk/lltk/corpus/hathi/hathi.py?line=143'>144</a>\u001b[0m     \u001b[39m#o=[]\u001b[39;00m\n\u001b[0;32m--> <a href='file:///Users/ryan/github/lltk/lltk/corpus/hathi/hathi.py?line=144'>145</a>\u001b[0m     \u001b[39mfor\u001b[39;00m recnum,recnumd \u001b[39min\u001b[39;00m d:\n\u001b[1;32m    <a href='file:///Users/ryan/github/lltk/lltk/corpus/hathi/hathi.py?line=145'>146</a>\u001b[0m         log(pf(recnumd))\n\u001b[1;32m    <a href='file:///Users/ryan/github/lltk/lltk/corpus/hathi/hathi.py?line=146'>147</a>\u001b[0m         rdd\u001b[39m=\u001b[39mrecnumd\u001b[39m.\u001b[39mget(\u001b[39m'\u001b[39m\u001b[39mrecords\u001b[39m\u001b[39m'\u001b[39m,{})\u001b[39m.\u001b[39mget(recnum,{})\n",
      "\u001b[0;31mValueError\u001b[0m: too many values to unpack (expected 2)"
     ]
    }
   ],
   "source": [
    "with log: ht=C.text_from(t)\n",
    "ht"
   ]
  },
  {
   "cell_type": "code",
   "execution_count": null,
   "metadata": {},
   "outputs": [
    {
     "data": {
      "text/plain": [
       "{'id': 'htrn.000249715',\n",
       " 'isbn': '9780824043759',\n",
       " 'isbns': ['9780824043759', '9780824043759', '9780824043759'],\n",
       " 'lccn': '84004094',\n",
       " 'oclc': '10505634',\n",
       " 'publishDate': '1900',\n",
       " 'recordURL': 'https://catalog.hathitrust.org/Record/000249715',\n",
       " 'title': 'Ulysses'}"
      ]
     },
     "execution_count": 5,
     "metadata": {},
     "output_type": "execute_result"
    }
   ],
   "source": [
    "ht.meta"
   ]
  },
  {
   "cell_type": "code",
   "execution_count": null,
   "metadata": {},
   "outputs": [],
   "source": [
    "# next(C.query_record_jsons(['000249715']))"
   ]
  },
  {
   "cell_type": "code",
   "execution_count": null,
   "metadata": {},
   "outputs": [],
   "source": []
  }
 ],
 "metadata": {
  "interpreter": {
   "hash": "99c3488a746bccd77b7949f8f419451e1c962da56ebbaaae6e4d2e6c8c07eaa0"
  },
  "kernelspec": {
   "display_name": "Python 3.9.7 ('base')",
   "language": "python",
   "name": "python3"
  },
  "language_info": {
   "codemirror_mode": {
    "name": "ipython",
    "version": 3
   },
   "file_extension": ".py",
   "mimetype": "text/x-python",
   "name": "python",
   "nbconvert_exporter": "python",
   "pygments_lexer": "ipython3",
   "version": "3.9.7"
  },
  "orig_nbformat": 4
 },
 "nbformat": 4,
 "nbformat_minor": 2
}

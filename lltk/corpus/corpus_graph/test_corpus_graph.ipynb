{
 "cells": [
  {
   "cell_type": "code",
   "execution_count": null,
   "metadata": {},
   "outputs": [],
   "source": [
    "import sys; sys.path.insert(0,'../../..')\n",
    "from corpus_graph import *\n"
   ]
  },
  {
   "cell_type": "code",
   "execution_count": 2,
   "metadata": {},
   "outputs": [
    {
     "data": {
      "application/vnd.jupyter.widget-view+json": {
       "model_id": "a32295e5f54a4825b6782501a1529ad4",
       "version_major": 2,
       "version_minor": 0
      },
      "text/plain": [
       "[MarkMark] Iterating texts:   0%|          | 0/355 [00:00<?, ?it/s]"
      ]
     },
     "metadata": {},
     "output_type": "display_data"
    },
    {
     "data": {
      "application/vnd.jupyter.widget-view+json": {
       "model_id": "5f3dd8ce14f54a3d9e0cb57d9bf5aa50",
       "version_major": 2,
       "version_minor": 0
      },
      "text/plain": [
       "[TxtLab] Iterating texts:   0%|          | 0/450 [00:00<?, ?it/s]"
      ]
     },
     "metadata": {},
     "output_type": "display_data"
    },
    {
     "data": {
      "application/vnd.jupyter.widget-view+json": {
       "model_id": "6aded8a7823c48a0aae3ab2fe7a74b5d",
       "version_major": 2,
       "version_minor": 0
      },
      "text/plain": [
       "[GildedAge] Iterating texts:   0%|          | 0/334 [00:00<?, ?it/s]"
      ]
     },
     "metadata": {},
     "output_type": "display_data"
    },
    {
     "data": {
      "application/vnd.jupyter.widget-view+json": {
       "model_id": "46643033d3df4ebdbdec2617ea344b37",
       "version_major": 2,
       "version_minor": 0
      },
      "text/plain": [
       "[Chadwyck] Iterating texts:   0%|          | 0/1337 [00:00<?, ?it/s]"
      ]
     },
     "metadata": {},
     "output_type": "display_data"
    }
   ],
   "source": [
    "setup_log(to_screen=False)\n",
    "CG = CorpusGraph('markmark,txtlab,gildedage,chadwyck')\n",
    "# g = CG.graph(force=True)"
   ]
  },
  {
   "cell_type": "code",
   "execution_count": 3,
   "metadata": {},
   "outputs": [
    {
     "data": {
      "application/vnd.jupyter.widget-view+json": {
       "model_id": "550e968f58e04d9b974d37ac8cf6e3d6",
       "version_major": 2,
       "version_minor": 0
      },
      "text/plain": [
       "[CorpusGraph] Iterating texts:   0%|          | 0/2476 [00:00<?, ?it/s]"
      ]
     },
     "metadata": {},
     "output_type": "display_data"
    }
   ],
   "source": [
    "setup_log(to_screen=False)\n",
    "g = CG.graph(only_identical=True)\n",
    "# g.nodes()"
   ]
  },
  {
   "cell_type": "code",
   "execution_count": 4,
   "metadata": {},
   "outputs": [],
   "source": [
    "# node = '_markmark/London_Jack.The_Call_of_the_Wild'\n",
    "# # node = 'Q0'\n",
    "# node = random.choice(list(g.nodes()))\n",
    "# setup_log(True)\n",
    "# # log.debug(node)\n",
    "# # log.debug(g.nodes[node])\n",
    "# # neighbors_d(CG, node)\n",
    "# print(node)\n",
    "# pprint(list(CG.neighbors(node, g=g,data=True)))"
   ]
  },
  {
   "cell_type": "code",
   "execution_count": 11,
   "metadata": {},
   "outputs": [],
   "source": [
    "def nodes_of_type(self,typename='text', g=None, **kwargs):\n",
    "    if not g: g=self.graph(**kwargs)\n",
    "    for node in g.nodes():\n",
    "        if g.nodes[node].get('node_type') == typename:\n",
    "            yield node\n",
    "\n",
    "def text_nodes(self,g=g,**kwargs):\n",
    "    yield from nodes_of_type(self,'text')\n",
    "\n",
    "def graph_identity(self,**kwargs):\n",
    "    return self.graph(only_identical=True,**kwargs)\n",
    "\n",
    "def graph_identity_matches(self,g=None,**kwargs):\n",
    "    if not g: g=graph_identity(self,**kwargs)\n",
    "    return g\n",
    "\n",
    "def components_identity(self,g=g,**kwargs):\n",
    "    if not g: g=graph_identity(self,**kwargs)\n",
    "    yield from nx.connected_components(g)\n",
    "\n",
    "def graph_identity_texts(self,g=g,**kwargs):\n",
    "    gnew=nx.Graph()\n",
    "    tnodes = set(text_nodes(self,g=g,**kwargs))\n",
    "    for connected_nodes in components_identity(self,g):\n",
    "        connected_nodes = set(connected_nodes) & tnodes\n",
    "        #print('????',connected_nodes)\n",
    "        for n1 in connected_nodes:\n",
    "            for n2 in connected_nodes:\n",
    "                if n1<n2:\n",
    "                    # add nodes\n",
    "                    for n in [n1,n2]:\n",
    "                        if not gnew.has_node(n):\n",
    "                            gnew.add_node(n,**g.nodes[n])\n",
    "                    # add edge\n",
    "                    gnew.add_edge(n1,n2,**g.edges[n1,n2])\n",
    "    return gnew"
   ]
  },
  {
   "cell_type": "code",
   "execution_count": 12,
   "metadata": {},
   "outputs": [
    {
     "data": {
      "application/vnd.jupyter.widget-view+json": {
       "model_id": "f2094c6c5d8c41eb854f43ddb2e91216",
       "version_major": 2,
       "version_minor": 0
      },
      "text/plain": [
       "[CorpusGraph] Iterating texts:   0%|          | 0/2476 [00:00<?, ?it/s]"
      ]
     },
     "metadata": {},
     "output_type": "display_data"
    },
    {
     "ename": "ValueError",
     "evalue": "not enough values to unpack (expected 3, got 2)",
     "output_type": "error",
     "traceback": [
      "\u001b[0;31m---------------------------------------------------------------------------\u001b[0m",
      "\u001b[0;31mValueError\u001b[0m                                Traceback (most recent call last)",
      "\u001b[1;32m/Users/ryan/github/lltk/lltk/corpus/corpus_graph/test_corpus_graph.ipynb Cell 6'\u001b[0m in \u001b[0;36m<cell line: 1>\u001b[0;34m()\u001b[0m\n\u001b[0;32m----> <a href='vscode-notebook-cell:/Users/ryan/github/lltk/lltk/corpus/corpus_graph/test_corpus_graph.ipynb#ch0000012?line=0'>1</a>\u001b[0m gnew \u001b[39m=\u001b[39m graph_identity_texts(CG)\n",
      "\u001b[1;32m/Users/ryan/github/lltk/lltk/corpus/corpus_graph/test_corpus_graph.ipynb Cell 5'\u001b[0m in \u001b[0;36mgraph_identity_texts\u001b[0;34m(self, g, **kwargs)\u001b[0m\n\u001b[1;32m     <a href='vscode-notebook-cell:/Users/ryan/github/lltk/lltk/corpus/corpus_graph/test_corpus_graph.ipynb#ch0000011?line=32'>33</a>\u001b[0m                         gnew\u001b[39m.\u001b[39madd_node(n,\u001b[39m*\u001b[39m\u001b[39m*\u001b[39mg\u001b[39m.\u001b[39mnodes[n])\n\u001b[1;32m     <a href='vscode-notebook-cell:/Users/ryan/github/lltk/lltk/corpus/corpus_graph/test_corpus_graph.ipynb#ch0000011?line=33'>34</a>\u001b[0m                 \u001b[39m# add edge\u001b[39;00m\n\u001b[0;32m---> <a href='vscode-notebook-cell:/Users/ryan/github/lltk/lltk/corpus/corpus_graph/test_corpus_graph.ipynb#ch0000011?line=34'>35</a>\u001b[0m                 gnew\u001b[39m.\u001b[39madd_edge(n1,n2,g\u001b[39m.\u001b[39;49medges[n1,n2])\n\u001b[1;32m     <a href='vscode-notebook-cell:/Users/ryan/github/lltk/lltk/corpus/corpus_graph/test_corpus_graph.ipynb#ch0000011?line=35'>36</a>\u001b[0m \u001b[39mreturn\u001b[39;00m gnew\n",
      "File \u001b[0;32m~/miniforge3/lib/python3.9/site-packages/networkx/classes/reportviews.py:1360\u001b[0m, in \u001b[0;36mOutMultiEdgeView.__getitem__\u001b[0;34m(self, e)\u001b[0m\n\u001b[1;32m   <a href='file:///Users/ryan/miniforge3/lib/python3.9/site-packages/networkx/classes/reportviews.py?line=1354'>1355</a>\u001b[0m \u001b[39mif\u001b[39;00m \u001b[39misinstance\u001b[39m(e, \u001b[39mslice\u001b[39m):\n\u001b[1;32m   <a href='file:///Users/ryan/miniforge3/lib/python3.9/site-packages/networkx/classes/reportviews.py?line=1355'>1356</a>\u001b[0m     \u001b[39mraise\u001b[39;00m nx\u001b[39m.\u001b[39mNetworkXError(\n\u001b[1;32m   <a href='file:///Users/ryan/miniforge3/lib/python3.9/site-packages/networkx/classes/reportviews.py?line=1356'>1357</a>\u001b[0m         \u001b[39mf\u001b[39m\u001b[39m\"\u001b[39m\u001b[39m{\u001b[39;00m\u001b[39mtype\u001b[39m(\u001b[39mself\u001b[39m)\u001b[39m.\u001b[39m\u001b[39m__name__\u001b[39m\u001b[39m}\u001b[39;00m\u001b[39m does not support slicing, \u001b[39m\u001b[39m\"\u001b[39m\n\u001b[1;32m   <a href='file:///Users/ryan/miniforge3/lib/python3.9/site-packages/networkx/classes/reportviews.py?line=1357'>1358</a>\u001b[0m         \u001b[39mf\u001b[39m\u001b[39m\"\u001b[39m\u001b[39mtry list(G.edges)[\u001b[39m\u001b[39m{\u001b[39;00me\u001b[39m.\u001b[39mstart\u001b[39m}\u001b[39;00m\u001b[39m:\u001b[39m\u001b[39m{\u001b[39;00me\u001b[39m.\u001b[39mstop\u001b[39m}\u001b[39;00m\u001b[39m:\u001b[39m\u001b[39m{\u001b[39;00me\u001b[39m.\u001b[39mstep\u001b[39m}\u001b[39;00m\u001b[39m]\u001b[39m\u001b[39m\"\u001b[39m\n\u001b[1;32m   <a href='file:///Users/ryan/miniforge3/lib/python3.9/site-packages/networkx/classes/reportviews.py?line=1358'>1359</a>\u001b[0m     )\n\u001b[0;32m-> <a href='file:///Users/ryan/miniforge3/lib/python3.9/site-packages/networkx/classes/reportviews.py?line=1359'>1360</a>\u001b[0m u, v, k \u001b[39m=\u001b[39m e\n\u001b[1;32m   <a href='file:///Users/ryan/miniforge3/lib/python3.9/site-packages/networkx/classes/reportviews.py?line=1360'>1361</a>\u001b[0m \u001b[39mreturn\u001b[39;00m \u001b[39mself\u001b[39m\u001b[39m.\u001b[39m_adjdict[u][v][k]\n",
      "\u001b[0;31mValueError\u001b[0m: not enough values to unpack (expected 3, got 2)"
     ]
    }
   ],
   "source": [
    "gnew = graph_identity_texts(CG)"
   ]
  },
  {
   "cell_type": "code",
   "execution_count": 17,
   "metadata": {},
   "outputs": [
    {
     "data": {
      "text/plain": [
       "Counter({3: 695, 2400: 1, 5: 55, 2: 452, 15: 2, 9: 1, 7: 1})"
      ]
     },
     "execution_count": 17,
     "metadata": {},
     "output_type": "execute_result"
    }
   ],
   "source": [
    "Counter(len(x) for x in list(nx.connected_components(g)))"
   ]
  },
  {
   "cell_type": "code",
   "execution_count": 7,
   "metadata": {},
   "outputs": [
    {
     "data": {
      "text/plain": [
       "0"
      ]
     },
     "execution_count": 7,
     "metadata": {},
     "output_type": "execute_result"
    }
   ],
   "source": [
    "g.add_edge(1,2,x=10,y=20)"
   ]
  },
  {
   "cell_type": "code",
   "execution_count": 10,
   "metadata": {},
   "outputs": [
    {
     "data": {
      "text/plain": [
       "{0: {'x': 10, 'y': 20}}"
      ]
     },
     "execution_count": 10,
     "metadata": {},
     "output_type": "execute_result"
    }
   ],
   "source": [
    "g.get_edge_data(1,2)"
   ]
  },
  {
   "cell_type": "code",
   "execution_count": null,
   "metadata": {},
   "outputs": [],
   "source": []
  }
 ],
 "metadata": {
  "interpreter": {
   "hash": "99c3488a746bccd77b7949f8f419451e1c962da56ebbaaae6e4d2e6c8c07eaa0"
  },
  "kernelspec": {
   "display_name": "Python 3.9.7 ('base')",
   "language": "python",
   "name": "python3"
  },
  "language_info": {
   "codemirror_mode": {
    "name": "ipython",
    "version": 3
   },
   "file_extension": ".py",
   "mimetype": "text/x-python",
   "name": "python",
   "nbconvert_exporter": "python",
   "pygments_lexer": "ipython3",
   "version": "3.9.7"
  },
  "orig_nbformat": 4
 },
 "nbformat": 4,
 "nbformat_minor": 2
}

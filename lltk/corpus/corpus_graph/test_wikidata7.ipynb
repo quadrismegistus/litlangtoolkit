{
 "cells": [
  {
   "cell_type": "code",
   "execution_count": 2,
   "metadata": {},
   "outputs": [],
   "source": [
    "import sys; sys.path.insert(0,'../../..')\n",
    "\n",
    "from lltk.imports import *\n",
    "from corpus_graph import *\n",
    "from lltk.corpus.wikidata import *\n",
    "# setup_log(to_screen=True)\n",
    "qid='Q110880441'"
   ]
  },
  {
   "cell_type": "code",
   "execution_count": 3,
   "metadata": {},
   "outputs": [
    {
     "ename": "UnboundLocalError",
     "evalue": "local variable 'odat' referenced before assignment",
     "output_type": "error",
     "traceback": [
      "\u001b[0;31m---------------------------------------------------------------------------\u001b[0m",
      "\u001b[0;31mUnboundLocalError\u001b[0m                         Traceback (most recent call last)",
      "\u001b[1;32m/Users/ryan/github/lltk/lltk/corpus/corpus_graph/test_wikidata7.ipynb Cell 2'\u001b[0m in \u001b[0;36m<cell line: 1>\u001b[0;34m()\u001b[0m\n\u001b[0;32m----> <a href='vscode-notebook-cell:/Users/ryan/github/lltk/lltk/corpus/corpus_graph/test_wikidata7.ipynb#ch0000077?line=0'>1</a>\u001b[0m query_get_wikidata(qid)\n",
      "File \u001b[0;32m~/github/lltk/lltk/corpus/corpus_graph/../../../lltk/corpus/wikidata/wikidata.py:89\u001b[0m, in \u001b[0;36mquery_get_wikidata\u001b[0;34m(qid, verbose, **kwargs)\u001b[0m\n\u001b[1;32m     <a href='file:///Users/ryan/github/lltk/lltk/corpus/corpus_graph/../../../lltk/corpus/wikidata/wikidata.py?line=86'>87</a>\u001b[0m page = wptools.page(wikibase=qid, silent=not verbose)\n\u001b[1;32m     <a href='file:///Users/ryan/github/lltk/lltk/corpus/corpus_graph/../../../lltk/corpus/wikidata/wikidata.py?line=87'>88</a>\u001b[0m odata = page.get_wikidata().data\n\u001b[0;32m---> <a href='file:///Users/ryan/github/lltk/lltk/corpus/corpus_graph/../../../lltk/corpus/wikidata/wikidata.py?line=88'>89</a>\u001b[0m odat = odat.get('wikidata')\n\u001b[1;32m     <a href='file:///Users/ryan/github/lltk/lltk/corpus/corpus_graph/../../../lltk/corpus/wikidata/wikidata.py?line=89'>90</a>\u001b[0m ods = format_wikidata_d_simple(odat)\n\u001b[1;32m     <a href='file:///Users/ryan/github/lltk/lltk/corpus/corpus_graph/../../../lltk/corpus/wikidata/wikidata.py?line=90'>91</a>\u001b[0m return dict(\n",
      "\u001b[0;31mUnboundLocalError\u001b[0m: local variable 'odat' referenced before assignment"
     ]
    }
   ],
   "source": [
    "query_get_wikidata(qid)"
   ]
  },
  {
   "cell_type": "code",
   "execution_count": 10,
   "metadata": {},
   "outputs": [],
   "source": [
    "W=Corpus('Wikidata')"
   ]
  },
  {
   "cell_type": "code",
   "execution_count": 13,
   "metadata": {},
   "outputs": [
    {
     "data": {
      "text/plain": [
       "{'id': 'Q110880441',\n",
       " '_addr': '_wikidata/Q110880441',\n",
       " 'country_for_sport|P1532': 'Brazil|Q155',\n",
       " 'family_name|P734': 'Barbieri|Q16531101',\n",
       " 'given_name|P735': 'Andre|Q16274896',\n",
       " 'instance_of|P31': 'human|Q5',\n",
       " 'occupation|P106': 'snowboarder|Q15709642',\n",
       " 'paralympic.org_athlete_id|P7550': 'andre-barbieri',\n",
       " 'sex_or_gender|P21': 'male|Q6581097',\n",
       " 'sport|P641': 'snowboarding|Q178131'}"
      ]
     },
     "execution_count": 13,
     "metadata": {},
     "output_type": "execute_result"
    }
   ],
   "source": [
    "W.text().meta"
   ]
  },
  {
   "cell_type": "code",
   "execution_count": 14,
   "metadata": {},
   "outputs": [],
   "source": [
    "# Text('Q54950357','wikidata').metadata()"
   ]
  },
  {
   "cell_type": "code",
   "execution_count": 25,
   "metadata": {},
   "outputs": [],
   "source": [
    "t=Text(author='Joyce', title='Portrait of the Artist', y=123231, corpus='tmpcorp')\n",
    "# t.init_meta_json()\n",
    "# t.meta"
   ]
  },
  {
   "cell_type": "code",
   "execution_count": null,
   "metadata": {},
   "outputs": [],
   "source": [
    "def get_wikidata_id(\n",
    "        text=None,\n",
    "        meta={},\n",
    "        idkey='_id_wikidata',\n",
    "        addrkey='_addr_wikidata',\n",
    "        prefix='_wikidata/',\n",
    "        corpus_id='wikidata',\n",
    "    ):\n",
    "    tmeta = text.metadata(from_sources=False) if not meta and text is not None else meta\n",
    "    Qid=''\n",
    "    Qaddr = tmeta.get(addrkey,'').split('/')[-1]\n",
    "    Qid = tmeta.get(idkey,Qid)\n",
    "    if not Qid: Qid = Qaddr\n",
    "    if not Qid: Qid = query_get_wikidata_id(text)\n",
    "    Qid=Qid.replace('(','').replace(')','')\n",
    "    return Qid\n"
   ]
  },
  {
   "cell_type": "code",
   "execution_count": 24,
   "metadata": {},
   "outputs": [
    {
     "data": {
      "text/plain": [
       "{'_addr': '_wikidata/Q4658974',\n",
       " 'TV Guide show ID (former scheme) (P3804)': 109470,\n",
       " '_addr_wikidata': '_wikidata/Q4658974',\n",
       " 'after_a_work_by|P1877': 'James Joyce|Q6882',\n",
       " 'allmovie_title_id|P1562': 'v65592',\n",
       " 'author': 'Joyce',\n",
       " 'based_on|P144': 'A Portrait of the Artist as a Young Man|Q465360',\n",
       " 'bfi_films,_tv_and_people_id|P4438': '4ce2b6b34d3c1',\n",
       " 'cast_member|P161': ['Bosco Hogan|Q4947170',\n",
       "  'T. P. McKenna|Q944296',\n",
       "  'John Gielgud|Q204685'],\n",
       " 'composer|P86': 'Stanley Myers|Q730252',\n",
       " 'country_of_origin|P495': 'Republic of Ireland|Q27',\n",
       " 'csfd_film_id|P2529': 44632,\n",
       " 'daum_movie_id|P4277': 57609,\n",
       " 'director|P57': 'Joseph Strick|Q40701',\n",
       " 'distributed_by|P750': 'United Artists Corporation|Q219400',\n",
       " 'douban_film_id|P4529': 3275123,\n",
       " 'elfilm_film_id|P3143': 79547,\n",
       " 'filmaffinity_id|P480': 217253,\n",
       " 'filmweb.pl_film_id|P5032': 139731,\n",
       " 'freebase_id|P646': '/m/0cs04cs',\n",
       " 'genre|P136': 'film based on literature|Q52162262',\n",
       " 'imdb_id|P345': 'tt0079740',\n",
       " 'instance_of|P31': 'film|Q11424',\n",
       " 'kinopoisk_film_id|P2603': 17067,\n",
       " 'letterboxd_film_id|P6127': 'a-portrait-of-the-artist-as-a-young-man',\n",
       " 'mediafilm_id|P9022': 'mf-tt-5688621816',\n",
       " 'movie_review_query_engine_id|P8033': 'a-portrait-of-the-artist-as-a-young-man-m100006976',\n",
       " 'moviemeter_film_id|P1970': 35533,\n",
       " 'narrative_location|P840': 'Dublin|Q1761',\n",
       " 'ofdb_film_id|P3138': 256641,\n",
       " 'original_language_of_film_or_tv_show|P364': 'English|Q1860',\n",
       " 'publication_date|P577': '+1977-01-01T00:00:00Z',\n",
       " 'rotten_tomatoes_id|P1258': 'm/james_joyce_portrait_of_the_artist_as_a_young_man',\n",
       " 'screenwriter|P58': 'James Joyce|Q6882',\n",
       " 'title': 'Portrait of the Artist',\n",
       " 'title|P1476': 'A Portrait of the Artist as a Young Man',\n",
       " 'tmdb_movie_id|P4947': 155710,\n",
       " 'y': 123231,\n",
       " 'id': 'Q4658974',\n",
       " '_addr_tmpcorp': '_tmpcorp/Joyce.Portrait_of_the_Artist',\n",
       " 'corpus': 'wikidata'}"
      ]
     },
     "execution_count": 24,
     "metadata": {},
     "output_type": "execute_result"
    }
   ],
   "source": [
    "t.wikidata.meta"
   ]
  },
  {
   "cell_type": "code",
   "execution_count": 20,
   "metadata": {},
   "outputs": [
    {
     "data": {
      "text/plain": [
       "{'author': 'Joyce',\n",
       " 'title': 'Portrait of the Artist',\n",
       " 'y': 123231,\n",
       " 'id': 'Joyce.Portrait_of_the_Artist',\n",
       " '_addr': '_tmpcorp/Joyce.Portrait_of_the_Artist',\n",
       " '_addr_wikidata': '_wikidata/Q4658974'}"
      ]
     },
     "execution_count": 20,
     "metadata": {},
     "output_type": "execute_result"
    }
   ],
   "source": [
    "t._meta"
   ]
  },
  {
   "cell_type": "code",
   "execution_count": 11,
   "metadata": {},
   "outputs": [
    {
     "data": {
      "text/plain": [
       "{'id': 'Q54950357',\n",
       " '_addr': '_wikidata/Q54950357',\n",
       " 'published_in|P1433': 'Iranian Journal of Public Health|Q15817212',\n",
       " 'publication_date|P577': '+2018-03-01T00:00:00Z',\n",
       " 'volume|P478': '47',\n",
       " 'author_name_string|P2093': ['Bagher Farhood',\n",
       "  'Ghazale Geraily',\n",
       "  'Ahad Alizadeh'],\n",
       " 'pmcid|P932': '5971166',\n",
       " 'issue|P433': '3',\n",
       " 'instance_of|P31': 'scholarly article|Q13442814',\n",
       " 'page(s) (P304)': '309-316',\n",
       " 'pubmed_id|P698': '29845017',\n",
       " 'title|P1476': 'Incidence and Mortality of Various Cancers in Iran and Compare to Other Countries: A Review Article.',\n",
       " 'cites_work|P2860': ['Etiology and Prevention of Esophageal Cancer|Q28077495',\n",
       "  'Estimating the Esophagus Cancer Incidence Rate in Ardabil, Iran: A Capture-Recapture Method|Q37067933',\n",
       "  'Melanoma in Iran: a Retrospective 10-Year Study.|Q39645221',\n",
       "  'The Trend in Histological Changes and the Incidence of Esophagus Cancer in Iran (2003-2008). (Q36606582)',\n",
       "  'Prostate Cancer in Iran: Trends in Incidence and Morphological and Epidemiological Characteristics.|Q39960641',\n",
       "  'The incidence and mortality of prostate cancer and its relationship with development in Asia.|Q36387818',\n",
       "  'Epidemiology and trend in skin cancer mortality in Iran.|Q36417282',\n",
       "  'Increased colorectal cancer incidence in Iran: a systematic review and meta-analysis|Q26783797',\n",
       "  'Burden of Breast Cancer in Iranian Women is Increasing.|Q40749035',\n",
       "  'Changing Trends of Types of Skin Cancer in Iran.|Q40749075',\n",
       "  'Epidemiology characteristics and trends of incidence and morphology of stomach cancer in Iran.|Q41100376',\n",
       "  'Epidemiology and trend of cancers in the province of Kerman: southeast of Iran.|Q41286434',\n",
       "  'Cancer incidence and mortality worldwide: sources, methods and major patterns in GLOBOCAN 2012|Q27861047',\n",
       "  'Correlation of cancer incidence with diet, smoking and socio- economic position across 22 districts of Tehran in 2008.|Q40111553',\n",
       "  'Area-to-Area Poisson Kriging analysis of mapping of county- level esophageal cancer incidence rates in Iran.|Q42269058',\n",
       "  'Increased trend of breast cancer mortality in Iran.|Q39629404',\n",
       "  'Gastric cancer in Ardabil, Iran--a review and update on cancer registry data.|Q33734865',\n",
       "  'Five common cancers in Iran.|Q37699334',\n",
       "  'Gastric cancer in Iran: epidemiology and risk factors.|Q37624726',\n",
       "  'Cancer epidemiology and control in the arab world - past, present and future.|Q37495916',\n",
       "  'Tea drinking habits and oesophageal cancer in a high risk area in northern Iran: population based case-control study|Q28396223',\n",
       "  'Cancer incidence in Tehran metropolis: the first report from the Tehran Population-based Cancer Registry, 1998-2001.|Q39867527',\n",
       "  'Cancer incidence and mortality in Iran.|Q40019262',\n",
       "  'Incidental prostatic adenocarcinoma in patients with PSA less than 4 ng/mL undergoing radical cystoprostatectomy for bladder cancer in Iranian men.|Q39796474',\n",
       "  'Esophageal cancer in Iran|Q34218171',\n",
       "  'Evaluation of the Trends of Stomach Cancer Incidence in Districts of Iran from 2000-2010: Application of a Random Effects Markov Model.|Q40881436',\n",
       "  'Epidemiology and trend of common cancers in Iran (2004-2008). (Q40061363)',\n",
       "  'Incidence Trend and Epidemiology of Common Cancers in the Center of Iran.|Q36718695',\n",
       "  'Esophageal cancer in Iran; a population-based study regarding adequacy of cancer surgery and overall survival.|Q38423591',\n",
       "  'Determinants of Skin Cancer Preventive Behaviors Among Rural Farmers in Iran: an Application of Protection Motivation Theory.|Q47446859',\n",
       "  'Cancer incidence in southwest of iran: first report from khuzestan population-based cancer registry, 2002-2009.|Q50132528',\n",
       "  'Trends of skin cancer incidence in 6 geographical regions of the Islamic Republic of Iran, 2000-2005.|Q43533045',\n",
       "  'Evaluation of human papilloma virus infection in patients with esophageal squamous cell carcinoma from the Caspian Sea area, north of Iran.|Q45356183',\n",
       "  'Cancer incidence in Golestan Province: report of an ongoing population-based cancer registry in Iran between 2004 and 2008.|Q43906983',\n",
       "  'Prostate cancer incidence and mortality trends in 37 European countries: an overview.|Q51154304',\n",
       "  'Twenty years of breast cancer in Iran: downstaging without a formal screening program.|Q45010516',\n",
       "  'Incidence of genitourinary cancers in the Islamic Republic of Iran: a survey in 2005.|Q51652945',\n",
       "  'The risk factors of prostate cancer: a multicentric case-control study in Iran.|Q46832879',\n",
       "  'Cancer occurrence in Iran in 2002, an international perspective.|Q53265301',\n",
       "  'Declining incidence of esophageal cancer in the Turkmen Plain, eastern part of the Caspian Littoral of Iran: A retrospective cancer surveillance|Q57157348',\n",
       "  'Cancer occurrence in Ardabil: Results of a population-based Cancer Registry from Iran|Q57157459',\n",
       "  'Cancer occurrence in Semnan Province, Iran: results of a population-based cancer registry|Q81062931',\n",
       "  'The incidence of prostate cancer in Iran: results of a population-based cancer registry|Q81369054',\n",
       "  'Cancer in East Azerbaijan, Iran: results of a population-based cancer registry|Q81801713',\n",
       "  'Risk factors for breast cancer among young women in southern Iran|Q61852576'],\n",
       " 'main_subject|P921': 'review article|Q7318358'}"
      ]
     },
     "execution_count": 11,
     "metadata": {},
     "output_type": "execute_result"
    }
   ],
   "source": []
  },
  {
   "cell_type": "code",
   "execution_count": 13,
   "metadata": {},
   "outputs": [
    {
     "data": {
      "text/plain": [
       "True"
      ]
     },
     "execution_count": 13,
     "metadata": {},
     "output_type": "execute_result"
    }
   ],
   "source": [
    "# is_valid_wikidata(metadata(tw))"
   ]
  },
  {
   "cell_type": "code",
   "execution_count": 36,
   "metadata": {},
   "outputs": [
    {
     "name": "stderr",
     "output_type": "stream",
     "text": [
      "\u001b[36m[18:36:42]\u001b[0m \u001b[34m\u001b[1mlltk.imports.plog()\u001b[0m\u001b[36m:67:\u001b[0m \n",
      "           Cached: /Users/ryan/lltk_data/corpora/wikidata/texts/Q4658974/meta.json\n",
      "           ({'_addr': '_wikidata/Q4658974', '_addr_tmpcorp': '_tmpcorp/Joyce.Portrait_of_the_Artist', '_addr_wikidata': '_wikidata/Q4658974', 'author': 'Joyce', 'corpus': 'wikidata', 'id': 'Q4658974', 'title': 'Portrait of the Artist', 'y': 123231, 'imdb_id|P345': 'tt0079740', 'instance_of|P31': 'film|Q11424', 'director|P57': 'Joseph Strick|Q40701', 'cast_member|P161': ['Bosco Hogan|Q4947170', 'T. P. McKenna|Q944296', 'John Gielgud|Q204685'], 'screenwriter|P58': 'James Joyce|Q6882', 'based_on|P144': 'A Portrait of the Artist as a Young Man|Q465360', 'narrative_location|P840': 'Dublin|Q1761', 'rotten_tomatoes_id|P1258': 'm/james_joyce_portrait_of_the_artist_as_a_young_man', 'publication_date|P577': '+1977-01-01T00:00:00Z', 'allmovie_title_id|P1562': 'v65592', 'original_language_of_film_or_tv_show|P364': 'English|Q1860', 'country_of_origin|P495': 'Republic of Ireland|Q27', 'title|P1476': 'A Portrait of the Artist as a Young Man', 'kinopoisk_film_id|P2603': '17067', 'after_a_work_by|P1877': 'James Joyce|Q6882', 'ofdb_film_id|P3138': '256641', 'elfilm_film_id|P3143': '79547', 'csfd_film_id|P2529': '44632', 'moviemeter_film_id|P1970': '35533', 'daum_movie_id|P4277': '57609', 'TV Guide show ID (former scheme) (P3804)': '109470', 'bfi_films,_tv_and_people_id|P4438': '4ce2b6b34d3c1', 'filmaffinity_id|P480': '217253', 'filmweb.pl_film_id|P5032': '139731', 'composer|P86': 'Stanley Myers|Q730252', 'distributed_by|P750': 'United Artists Corporation|Q219400', 'genre|P136': 'film based on literature|Q52162262', 'letterboxd_film_id|P6127': 'a-portrait-of-the-artist-as-a-young-man', 'movie_review_query_engine_id|P8033': 'a-portrait-of-the-artist-as-a-young-man-m100006976', 'freebase_id|P646': '/m/0cs04cs', 'douban_film_id|P4529': '3275123', 'tmdb_movie_id|P4947': '155710', 'mediafilm_id|P9022': 'mf-tt-5688621816'},)\n"
     ]
    },
    {
     "data": {
      "text/plain": [
       "{'id': 'Q4658974',\n",
       " '_addr': '_wikidata/Q4658974',\n",
       " '_addr_tmpcorp': '_tmpcorp/Joyce.Portrait_of_the_Artist',\n",
       " '_addr_wikidata': '_wikidata/Q4658974',\n",
       " 'author': 'Joyce',\n",
       " 'corpus': 'wikidata',\n",
       " 'title': 'Portrait of the Artist',\n",
       " 'y': 123231,\n",
       " 'imdb_id|P345': 'tt0079740',\n",
       " 'instance_of|P31': 'film|Q11424',\n",
       " 'director|P57': 'Joseph Strick|Q40701',\n",
       " 'cast_member|P161': ['Bosco Hogan|Q4947170',\n",
       "  'T. P. McKenna|Q944296',\n",
       "  'John Gielgud|Q204685'],\n",
       " 'screenwriter|P58': 'James Joyce|Q6882',\n",
       " 'based_on|P144': 'A Portrait of the Artist as a Young Man|Q465360',\n",
       " 'narrative_location|P840': 'Dublin|Q1761',\n",
       " 'rotten_tomatoes_id|P1258': 'm/james_joyce_portrait_of_the_artist_as_a_young_man',\n",
       " 'publication_date|P577': '+1977-01-01T00:00:00Z',\n",
       " 'allmovie_title_id|P1562': 'v65592',\n",
       " 'original_language_of_film_or_tv_show|P364': 'English|Q1860',\n",
       " 'country_of_origin|P495': 'Republic of Ireland|Q27',\n",
       " 'title|P1476': 'A Portrait of the Artist as a Young Man',\n",
       " 'kinopoisk_film_id|P2603': '17067',\n",
       " 'after_a_work_by|P1877': 'James Joyce|Q6882',\n",
       " 'ofdb_film_id|P3138': '256641',\n",
       " 'elfilm_film_id|P3143': '79547',\n",
       " 'csfd_film_id|P2529': '44632',\n",
       " 'moviemeter_film_id|P1970': '35533',\n",
       " 'daum_movie_id|P4277': '57609',\n",
       " 'TV Guide show ID (former scheme) (P3804)': '109470',\n",
       " 'bfi_films,_tv_and_people_id|P4438': '4ce2b6b34d3c1',\n",
       " 'filmaffinity_id|P480': '217253',\n",
       " 'filmweb.pl_film_id|P5032': '139731',\n",
       " 'composer|P86': 'Stanley Myers|Q730252',\n",
       " 'distributed_by|P750': 'United Artists Corporation|Q219400',\n",
       " 'genre|P136': 'film based on literature|Q52162262',\n",
       " 'letterboxd_film_id|P6127': 'a-portrait-of-the-artist-as-a-young-man',\n",
       " 'movie_review_query_engine_id|P8033': 'a-portrait-of-the-artist-as-a-young-man-m100006976',\n",
       " 'freebase_id|P646': '/m/0cs04cs',\n",
       " 'douban_film_id|P4529': '3275123',\n",
       " 'tmdb_movie_id|P4947': '155710',\n",
       " 'mediafilm_id|P9022': 'mf-tt-5688621816'}"
      ]
     },
     "execution_count": 36,
     "metadata": {},
     "output_type": "execute_result"
    }
   ],
   "source": [
    "metadata(tw,force=True)"
   ]
  },
  {
   "cell_type": "code",
   "execution_count": 21,
   "metadata": {},
   "outputs": [
    {
     "ename": "IndentationError",
     "evalue": "unexpected indent (2141792135.py, line 4)",
     "output_type": "error",
     "traceback": [
      "\u001b[0;36m  Input \u001b[0;32mIn [21]\u001b[0;36m\u001b[0m\n\u001b[0;31m    tmeta=t.metadata(from_sources=False,from_cache=True)\u001b[0m\n\u001b[0m    ^\u001b[0m\n\u001b[0;31mIndentationError\u001b[0m\u001b[0;31m:\u001b[0m unexpected indent\n"
     ]
    }
   ],
   "source": [
    "# def get_wikidata(qid,tmeta={},**kwargs):\n",
    "#     t=Text(qid,'wikidata')\n",
    "#     if not tmeta: tmeta=Text(qid).init\n",
    "#         tmeta=t.metadata(from_sources=False,from_cache=True)\n",
    "#     if not is_valid_wikidata(tmeta):\n",
    "#         tmeta=query_get_wikidata(qid,**kwargs)\n",
    "#     if is_valid_wikidata(tmeta):\n",
    "#         t.cache_meta_json(tmeta)\n",
    "#     return tmeta"
   ]
  },
  {
   "cell_type": "code",
   "execution_count": null,
   "metadata": {},
   "outputs": [],
   "source": []
  },
  {
   "cell_type": "code",
   "execution_count": 20,
   "metadata": {},
   "outputs": [
    {
     "data": {
      "text/plain": [
       "{'id': 'Joyce.Portrait_of_the_Artist',\n",
       " '_addr': '_tmpcorp/Joyce.Portrait_of_the_Artist',\n",
       " 'TV Guide show ID (former scheme) (P3804)': '109470',\n",
       " '_addr_wikidata': '_wikidata/Q4658974',\n",
       " 'after_a_work_by|P1877': 'James Joyce|Q6882',\n",
       " 'allmovie_title_id|P1562': 'v65592',\n",
       " 'author': 'Joyce',\n",
       " 'based_on|P144': 'A Portrait of the Artist as a Young Man|Q465360',\n",
       " 'bfi_films,_tv_and_people_id|P4438': '4ce2b6b34d3c1',\n",
       " 'cast_member|P161': ['Bosco Hogan|Q4947170',\n",
       "  'T. P. McKenna|Q944296',\n",
       "  'John Gielgud|Q204685'],\n",
       " 'composer|P86': 'Stanley Myers|Q730252',\n",
       " 'corpus': 'wikidata',\n",
       " 'country_of_origin|P495': 'Republic of Ireland|Q27',\n",
       " 'csfd_film_id|P2529': '44632',\n",
       " 'daum_movie_id|P4277': '57609',\n",
       " 'director|P57': 'Joseph Strick|Q40701',\n",
       " 'distributed_by|P750': 'United Artists Corporation|Q219400',\n",
       " 'douban_film_id|P4529': '3275123',\n",
       " 'elfilm_film_id|P3143': '79547',\n",
       " 'filmaffinity_id|P480': '217253',\n",
       " 'filmweb.pl_film_id|P5032': '139731',\n",
       " 'freebase_id|P646': '/m/0cs04cs',\n",
       " 'genre|P136': 'film based on literature|Q52162262',\n",
       " 'imdb_id|P345': 'tt0079740',\n",
       " 'instance_of|P31': 'film|Q11424',\n",
       " 'kinopoisk_film_id|P2603': '17067',\n",
       " 'letterboxd_film_id|P6127': 'a-portrait-of-the-artist-as-a-young-man',\n",
       " 'mediafilm_id|P9022': 'mf-tt-5688621816',\n",
       " 'movie_review_query_engine_id|P8033': 'a-portrait-of-the-artist-as-a-young-man-m100006976',\n",
       " 'moviemeter_film_id|P1970': '35533',\n",
       " 'narrative_location|P840': 'Dublin|Q1761',\n",
       " 'ofdb_film_id|P3138': '256641',\n",
       " 'original_language_of_film_or_tv_show|P364': 'English|Q1860',\n",
       " 'publication_date|P577': '+1977-01-01T00:00:00Z',\n",
       " 'rotten_tomatoes_id|P1258': 'm/james_joyce_portrait_of_the_artist_as_a_young_man',\n",
       " 'screenwriter|P58': 'James Joyce|Q6882',\n",
       " 'title': 'Portrait of the Artist',\n",
       " 'title|P1476': 'A Portrait of the Artist as a Young Man',\n",
       " 'tmdb_movie_id|P4947': '155710',\n",
       " 'y': 123231}"
      ]
     },
     "execution_count": 20,
     "metadata": {},
     "output_type": "execute_result"
    }
   ],
   "source": [
    "get_wikidata(qid)"
   ]
  },
  {
   "cell_type": "code",
   "execution_count": 17,
   "metadata": {},
   "outputs": [
    {
     "name": "stderr",
     "output_type": "stream",
     "text": [
      "\u001b[36m[15:49:12]\u001b[0m \u001b[34m\u001b[1mlltk.imports.plog()\u001b[0m\u001b[36m:67:\u001b[0m \n",
      "           Cached: /Users/ryan/lltk_data/corpora/tmpcorp/texts/Joyce.Portrait_of_the_Artist/meta.json\n",
      "           ({'TV Guide show ID (former scheme) (P3804)': '109470', '_addr': '_tmpcorp/Joyce.Portrait_of_the_Artist', '_addr_wikidata': '_wikidata/Q4658974', 'after_a_work_by|P1877': 'James Joyce|Q6882', 'allmovie_title_id|P1562': 'v65592', 'author': 'Joyce', 'based_on|P144': 'A Portrait of the Artist as a Young Man|Q465360', 'bfi_films,_tv_and_people_id|P4438': '4ce2b6b34d3c1', 'cast_member|P161': ['Bosco Hogan|Q4947170', 'T. P. McKenna|Q944296', 'John Gielgud|Q204685'], 'composer|P86': 'Stanley Myers|Q730252', 'corpus': 'wikidata', 'country_of_origin|P495': 'Republic of Ireland|Q27', 'csfd_film_id|P2529': '44632', 'daum_movie_id|P4277': '57609', 'director|P57': 'Joseph Strick|Q40701', 'distributed_by|P750': 'United Artists Corporation|Q219400', 'douban_film_id|P4529': '3275123', 'elfilm_film_id|P3143': '79547', 'filmaffinity_id|P480': '217253', 'filmweb.pl_film_id|P5032': '139731', 'freebase_id|P646': '/m/0cs04cs', 'genre|P136': 'film based on literature|Q52162262', 'id': 'Joyce.Portrait_of_the_Artist', 'imdb_id|P345': 'tt0079740', 'instance_of|P31': 'film|Q11424', 'kinopoisk_film_id|P2603': '17067', 'letterboxd_film_id|P6127': 'a-portrait-of-the-artist-as-a-young-man', 'mediafilm_id|P9022': 'mf-tt-5688621816', 'movie_review_query_engine_id|P8033': 'a-portrait-of-the-artist-as-a-young-man-m100006976', 'moviemeter_film_id|P1970': '35533', 'narrative_location|P840': 'Dublin|Q1761', 'ofdb_film_id|P3138': '256641', 'original_language_of_film_or_tv_show|P364': 'English|Q1860', 'publication_date|P577': '+1977-01-01T00:00:00Z', 'rotten_tomatoes_id|P1258': 'm/james_joyce_portrait_of_the_artist_as_a_young_man', 'screenwriter|P58': 'James Joyce|Q6882', 'title': 'Portrait of the Artist', 'title|P1476': 'A Portrait of the Artist as a Young Man', 'tmdb_movie_id|P4947': '155710', 'y': 123231},)\n"
     ]
    },
    {
     "data": {
      "text/plain": [
       "{'id': 'Joyce.Portrait_of_the_Artist',\n",
       " '_addr': '_tmpcorp/Joyce.Portrait_of_the_Artist',\n",
       " 'TV Guide show ID (former scheme) (P3804)': '109470',\n",
       " '_addr_wikidata': '_wikidata/Q4658974',\n",
       " 'after_a_work_by|P1877': 'James Joyce|Q6882',\n",
       " 'allmovie_title_id|P1562': 'v65592',\n",
       " 'author': 'Joyce',\n",
       " 'based_on|P144': 'A Portrait of the Artist as a Young Man|Q465360',\n",
       " 'bfi_films,_tv_and_people_id|P4438': '4ce2b6b34d3c1',\n",
       " 'cast_member|P161': ['Bosco Hogan|Q4947170',\n",
       "  'T. P. McKenna|Q944296',\n",
       "  'John Gielgud|Q204685'],\n",
       " 'composer|P86': 'Stanley Myers|Q730252',\n",
       " 'corpus': 'wikidata',\n",
       " 'country_of_origin|P495': 'Republic of Ireland|Q27',\n",
       " 'csfd_film_id|P2529': '44632',\n",
       " 'daum_movie_id|P4277': '57609',\n",
       " 'director|P57': 'Joseph Strick|Q40701',\n",
       " 'distributed_by|P750': 'United Artists Corporation|Q219400',\n",
       " 'douban_film_id|P4529': '3275123',\n",
       " 'elfilm_film_id|P3143': '79547',\n",
       " 'filmaffinity_id|P480': '217253',\n",
       " 'filmweb.pl_film_id|P5032': '139731',\n",
       " 'freebase_id|P646': '/m/0cs04cs',\n",
       " 'genre|P136': 'film based on literature|Q52162262',\n",
       " 'imdb_id|P345': 'tt0079740',\n",
       " 'instance_of|P31': 'film|Q11424',\n",
       " 'kinopoisk_film_id|P2603': '17067',\n",
       " 'letterboxd_film_id|P6127': 'a-portrait-of-the-artist-as-a-young-man',\n",
       " 'mediafilm_id|P9022': 'mf-tt-5688621816',\n",
       " 'movie_review_query_engine_id|P8033': 'a-portrait-of-the-artist-as-a-young-man-m100006976',\n",
       " 'moviemeter_film_id|P1970': '35533',\n",
       " 'narrative_location|P840': 'Dublin|Q1761',\n",
       " 'ofdb_film_id|P3138': '256641',\n",
       " 'original_language_of_film_or_tv_show|P364': 'English|Q1860',\n",
       " 'publication_date|P577': '+1977-01-01T00:00:00Z',\n",
       " 'rotten_tomatoes_id|P1258': 'm/james_joyce_portrait_of_the_artist_as_a_young_man',\n",
       " 'screenwriter|P58': 'James Joyce|Q6882',\n",
       " 'title': 'Portrait of the Artist',\n",
       " 'title|P1476': 'A Portrait of the Artist as a Young Man',\n",
       " 'tmdb_movie_id|P4947': '155710',\n",
       " 'y': 123231}"
      ]
     },
     "execution_count": 17,
     "metadata": {},
     "output_type": "execute_result"
    }
   ],
   "source": [
    "get_wikidata(qid)"
   ]
  },
  {
   "cell_type": "code",
   "execution_count": 10,
   "metadata": {},
   "outputs": [
    {
     "data": {
      "text/plain": [
       "('Joyce.Portrait_of_the_Artist', 'Q4658974')"
      ]
     },
     "execution_count": 10,
     "metadata": {},
     "output_type": "execute_result"
    }
   ],
   "source": [
    "t.id, tw.id"
   ]
  },
  {
   "cell_type": "code",
   "execution_count": 13,
   "metadata": {},
   "outputs": [],
   "source": [
    "def get_wikidata(qid,tmeta={},**kwargs):\n",
    "    if not tmeta:         \n",
    "        tmeta=t.metadata(from_sources=False,from_cache=True)\n",
    "    if not is_valid_wikidata(tmeta):\n",
    "        tmeta=query_get_wikidata(qid,**kwargs)\n",
    "    if is_valid_wikidata(tmeta):\n",
    "        t.cache_meta_json(tmeta)\n",
    "    return tmeta"
   ]
  },
  {
   "cell_type": "code",
   "execution_count": 12,
   "metadata": {},
   "outputs": [
    {
     "name": "stderr",
     "output_type": "stream",
     "text": [
      "\u001b[36m[15:45:49]\u001b[0m \u001b[34m\u001b[1mlltk.imports.plog()\u001b[0m\u001b[36m:67:\u001b[0m \n",
      "           Cached: /Users/ryan/lltk_data/corpora/tmpcorp/texts/Joyce.Portrait_of_the_Artist/meta.json\n",
      "           ({'_addr': '_tmpcorp/Joyce.Portrait_of_the_Artist', '_addr_wikidata': '_wikidata/Q4658974', 'author': 'Joyce', 'corpus': 'wikidata', 'id': 'Q4658974', 'title': 'Portrait of the Artist', 'y': 123231, 'imdb_id|P345': 'tt0079740', 'instance_of|P31': 'film|Q11424', 'director|P57': 'Joseph Strick|Q40701', 'cast_member|P161': ['Bosco Hogan|Q4947170', 'T. P. McKenna|Q944296', 'John Gielgud|Q204685'], 'screenwriter|P58': 'James Joyce|Q6882', 'based_on|P144': 'A Portrait of the Artist as a Young Man|Q465360', 'narrative_location|P840': 'Dublin|Q1761', 'rotten_tomatoes_id|P1258': 'm/james_joyce_portrait_of_the_artist_as_a_young_man', 'publication_date|P577': '+1977-01-01T00:00:00Z', 'allmovie_title_id|P1562': 'v65592', 'original_language_of_film_or_tv_show|P364': 'English|Q1860', 'country_of_origin|P495': 'Republic of Ireland|Q27', 'title|P1476': 'A Portrait of the Artist as a Young Man', 'kinopoisk_film_id|P2603': '17067', 'after_a_work_by|P1877': 'James Joyce|Q6882', 'ofdb_film_id|P3138': '256641', 'elfilm_film_id|P3143': '79547', 'csfd_film_id|P2529': '44632', 'moviemeter_film_id|P1970': '35533', 'daum_movie_id|P4277': '57609', 'TV Guide show ID (former scheme) (P3804)': '109470', 'bfi_films,_tv_and_people_id|P4438': '4ce2b6b34d3c1', 'filmaffinity_id|P480': '217253', 'filmweb.pl_film_id|P5032': '139731', 'composer|P86': 'Stanley Myers|Q730252', 'distributed_by|P750': 'United Artists Corporation|Q219400', 'genre|P136': 'film based on literature|Q52162262', 'letterboxd_film_id|P6127': 'a-portrait-of-the-artist-as-a-young-man', 'movie_review_query_engine_id|P8033': 'a-portrait-of-the-artist-as-a-young-man-m100006976', 'freebase_id|P646': '/m/0cs04cs', 'douban_film_id|P4529': '3275123', 'tmdb_movie_id|P4947': '155710', 'mediafilm_id|P9022': 'mf-tt-5688621816'},)\n"
     ]
    },
    {
     "data": {
      "text/plain": [
       "{'id': 'Q4658974',\n",
       " 'imdb_id|P345': 'tt0079740',\n",
       " 'instance_of|P31': 'film|Q11424',\n",
       " 'director|P57': 'Joseph Strick|Q40701',\n",
       " 'cast_member|P161': ['Bosco Hogan|Q4947170',\n",
       "  'T. P. McKenna|Q944296',\n",
       "  'John Gielgud|Q204685'],\n",
       " 'screenwriter|P58': 'James Joyce|Q6882',\n",
       " 'based_on|P144': 'A Portrait of the Artist as a Young Man|Q465360',\n",
       " 'narrative_location|P840': 'Dublin|Q1761',\n",
       " 'rotten_tomatoes_id|P1258': 'm/james_joyce_portrait_of_the_artist_as_a_young_man',\n",
       " 'publication_date|P577': '+1977-01-01T00:00:00Z',\n",
       " 'allmovie_title_id|P1562': 'v65592',\n",
       " 'original_language_of_film_or_tv_show|P364': 'English|Q1860',\n",
       " 'country_of_origin|P495': 'Republic of Ireland|Q27',\n",
       " 'title|P1476': 'A Portrait of the Artist as a Young Man',\n",
       " 'kinopoisk_film_id|P2603': '17067',\n",
       " 'after_a_work_by|P1877': 'James Joyce|Q6882',\n",
       " 'ofdb_film_id|P3138': '256641',\n",
       " 'elfilm_film_id|P3143': '79547',\n",
       " 'csfd_film_id|P2529': '44632',\n",
       " 'moviemeter_film_id|P1970': '35533',\n",
       " 'daum_movie_id|P4277': '57609',\n",
       " 'TV Guide show ID (former scheme) (P3804)': '109470',\n",
       " 'bfi_films,_tv_and_people_id|P4438': '4ce2b6b34d3c1',\n",
       " 'filmaffinity_id|P480': '217253',\n",
       " 'filmweb.pl_film_id|P5032': '139731',\n",
       " 'composer|P86': 'Stanley Myers|Q730252',\n",
       " 'distributed_by|P750': 'United Artists Corporation|Q219400',\n",
       " 'genre|P136': 'film based on literature|Q52162262',\n",
       " 'letterboxd_film_id|P6127': 'a-portrait-of-the-artist-as-a-young-man',\n",
       " 'movie_review_query_engine_id|P8033': 'a-portrait-of-the-artist-as-a-young-man-m100006976',\n",
       " 'freebase_id|P646': '/m/0cs04cs',\n",
       " 'douban_film_id|P4529': '3275123',\n",
       " 'tmdb_movie_id|P4947': '155710',\n",
       " 'mediafilm_id|P9022': 'mf-tt-5688621816'}"
      ]
     },
     "execution_count": 12,
     "metadata": {},
     "output_type": "execute_result"
    }
   ],
   "source": [
    "get_wikidata(tw.id)"
   ]
  },
  {
   "cell_type": "code",
   "execution_count": null,
   "metadata": {},
   "outputs": [],
   "source": [
    "t.wikidata.metadata(from_sources=False)"
   ]
  },
  {
   "cell_type": "code",
   "execution_count": null,
   "metadata": {},
   "outputs": [],
   "source": [
    "t.metadata"
   ]
  },
  {
   "cell_type": "code",
   "execution_count": null,
   "metadata": {},
   "outputs": [],
   "source": [
    "get_qid(t)"
   ]
  },
  {
   "cell_type": "code",
   "execution_count": null,
   "metadata": {},
   "outputs": [],
   "source": [
    "init_wikidata(t)"
   ]
  },
  {
   "cell_type": "code",
   "execution_count": null,
   "metadata": {},
   "outputs": [],
   "source": [
    "get_wikidata(get_qid(t))"
   ]
  },
  {
   "cell_type": "code",
   "execution_count": null,
   "metadata": {},
   "outputs": [],
   "source": []
  },
  {
   "cell_type": "code",
   "execution_count": null,
   "metadata": {},
   "outputs": [],
   "source": [
    "get_wikidata('Q971480')"
   ]
  },
  {
   "cell_type": "code",
   "execution_count": null,
   "metadata": {},
   "outputs": [],
   "source": [
    "ometa=get_wikidata(qid)\n",
    "ometa"
   ]
  },
  {
   "cell_type": "code",
   "execution_count": null,
   "metadata": {},
   "outputs": [],
   "source": [
    "is_valid_wikidata({**ometa, **{'a|P':100}})"
   ]
  },
  {
   "cell_type": "code",
   "execution_count": null,
   "metadata": {},
   "outputs": [],
   "source": [
    "tw = Text(qid,'wikidata')"
   ]
  },
  {
   "cell_type": "code",
   "execution_count": null,
   "metadata": {},
   "outputs": [],
   "source": [
    "tw.meta"
   ]
  },
  {
   "cell_type": "code",
   "execution_count": null,
   "metadata": {},
   "outputs": [],
   "source": [
    "query_get_wikidata(qid)"
   ]
  },
  {
   "cell_type": "code",
   "execution_count": null,
   "metadata": {},
   "outputs": [],
   "source": []
  },
  {
   "cell_type": "code",
   "execution_count": null,
   "metadata": {},
   "outputs": [],
   "source": [
    "verbose=False\n",
    "\n",
    "import wptools\n",
    "qid_page = wptools.page(wikibase=qid, silent=not verbose)\n",
    "qid_data = page.get_wikidata().data\n",
    "format_wikidata_d(qid_data)"
   ]
  },
  {
   "cell_type": "code",
   "execution_count": null,
   "metadata": {},
   "outputs": [],
   "source": [
    "format_wikidata_d_simple(page_o.get('wikidata'))"
   ]
  },
  {
   "cell_type": "code",
   "execution_count": null,
   "metadata": {},
   "outputs": [],
   "source": []
  },
  {
   "cell_type": "code",
   "execution_count": null,
   "metadata": {},
   "outputs": [],
   "source": [
    "\n",
    "get_wikidata(qid)"
   ]
  },
  {
   "cell_type": "code",
   "execution_count": null,
   "metadata": {},
   "outputs": [],
   "source": []
  },
  {
   "cell_type": "code",
   "execution_count": null,
   "metadata": {},
   "outputs": [],
   "source": [
    "t.wikidata"
   ]
  },
  {
   "cell_type": "code",
   "execution_count": null,
   "metadata": {},
   "outputs": [],
   "source": [
    "get_qid(t)"
   ]
  },
  {
   "cell_type": "code",
   "execution_count": null,
   "metadata": {},
   "outputs": [],
   "source": [
    "# get_qid(t)"
   ]
  },
  {
   "cell_type": "code",
   "execution_count": null,
   "metadata": {},
   "outputs": [],
   "source": [
    "init_wikidata(t)"
   ]
  },
  {
   "cell_type": "code",
   "execution_count": null,
   "metadata": {},
   "outputs": [],
   "source": [
    "t.init_meta_json()"
   ]
  },
  {
   "cell_type": "code",
   "execution_count": null,
   "metadata": {},
   "outputs": [],
   "source": []
  },
  {
   "cell_type": "code",
   "execution_count": null,
   "metadata": {},
   "outputs": [],
   "source": []
  },
  {
   "cell_type": "code",
   "execution_count": null,
   "metadata": {},
   "outputs": [],
   "source": [
    "t.wikidata"
   ]
  },
  {
   "cell_type": "code",
   "execution_count": null,
   "metadata": {},
   "outputs": [],
   "source": [
    "t.wikidata.meta"
   ]
  },
  {
   "cell_type": "code",
   "execution_count": null,
   "metadata": {},
   "outputs": [],
   "source": [
    "sources(tw)"
   ]
  },
  {
   "cell_type": "code",
   "execution_count": null,
   "metadata": {},
   "outputs": [],
   "source": [
    "t.sources"
   ]
  },
  {
   "cell_type": "code",
   "execution_count": null,
   "metadata": {},
   "outputs": [],
   "source": [
    "tw=t.wikidata\n",
    "tw.sources"
   ]
  },
  {
   "cell_type": "code",
   "execution_count": null,
   "metadata": {},
   "outputs": [],
   "source": [
    "tw.sources"
   ]
  },
  {
   "cell_type": "code",
   "execution_count": null,
   "metadata": {},
   "outputs": [],
   "source": [
    "x=tw.sources"
   ]
  },
  {
   "cell_type": "code",
   "execution_count": null,
   "metadata": {},
   "outputs": [],
   "source": [
    "[x]"
   ]
  },
  {
   "cell_type": "code",
   "execution_count": null,
   "metadata": {},
   "outputs": [],
   "source": [
    "# !cat /Users/ryan/lltk_data/corpora/wikidata/texts/Q465360/meta.json"
   ]
  },
  {
   "cell_type": "code",
   "execution_count": null,
   "metadata": {},
   "outputs": [],
   "source": [
    "tw.addr"
   ]
  },
  {
   "cell_type": "code",
   "execution_count": null,
   "metadata": {},
   "outputs": [],
   "source": [
    "t.metadata(force=True)"
   ]
  },
  {
   "cell_type": "code",
   "execution_count": null,
   "metadata": {},
   "outputs": [],
   "source": [
    "t.wikidata.meta"
   ]
  },
  {
   "cell_type": "code",
   "execution_count": null,
   "metadata": {},
   "outputs": [],
   "source": [
    "from lltk.corpus.wikidata import *\n",
    "# query_wikidata(t)"
   ]
  },
  {
   "cell_type": "code",
   "execution_count": null,
   "metadata": {},
   "outputs": [],
   "source": [
    "t.metadata(from_wikidata=True)"
   ]
  },
  {
   "cell_type": "code",
   "execution_count": null,
   "metadata": {},
   "outputs": [],
   "source": [
    "t.wikidata"
   ]
  },
  {
   "cell_type": "code",
   "execution_count": null,
   "metadata": {},
   "outputs": [],
   "source": []
  },
  {
   "cell_type": "code",
   "execution_count": null,
   "metadata": {},
   "outputs": [],
   "source": [
    "CG = CorpusGraph('markmark,txtlab')\n",
    "g = CG.graph(only_identical=True)"
   ]
  },
  {
   "cell_type": "code",
   "execution_count": null,
   "metadata": {},
   "outputs": [],
   "source": [
    "g.order(), g.size()"
   ]
  },
  {
   "cell_type": "code",
   "execution_count": null,
   "metadata": {},
   "outputs": [],
   "source": [
    "text_graph = CG.graph_identity_texts()\n",
    "text_graph.order(), text_graph.size()"
   ]
  },
  {
   "cell_type": "code",
   "execution_count": null,
   "metadata": {},
   "outputs": [],
   "source": [
    "edges = list(text_graph.edges(data=True))"
   ]
  },
  {
   "cell_type": "code",
   "execution_count": null,
   "metadata": {},
   "outputs": [],
   "source": [
    "Text(author=)"
   ]
  },
  {
   "cell_type": "code",
   "execution_count": null,
   "metadata": {},
   "outputs": [],
   "source": [
    "# u,v,d = random.choice(edges)\n",
    "# uT=Text(u)\n",
    "# vT=Text(v)\n",
    "# u,v,d,uT,vT,uT._is,vT._is"
   ]
  },
  {
   "cell_type": "code",
   "execution_count": null,
   "metadata": {},
   "outputs": [],
   "source": [
    "for nodegrp in CG.iter_identity_texts(): print(nodegrp)"
   ]
  },
  {
   "cell_type": "code",
   "execution_count": null,
   "metadata": {},
   "outputs": [],
   "source": [
    "goethe_sorrows = Text('DE_1774_Goethe,Johann_DieLeidendesjungenWerthers1_Novel', 'txtlab')\n",
    "goethe_sorrows.meta"
   ]
  },
  {
   "cell_type": "code",
   "execution_count": null,
   "metadata": {},
   "outputs": [],
   "source": [
    "g = graph_identity_texts(CG)\n",
    "list(g.neighbors('_wikidata/Q213019'))"
   ]
  },
  {
   "cell_type": "code",
   "execution_count": null,
   "metadata": {},
   "outputs": [],
   "source": [
    "Text('_wikidata/Q213019').meta"
   ]
  },
  {
   "cell_type": "code",
   "execution_count": null,
   "metadata": {},
   "outputs": [],
   "source": [
    "# for node in iter_identity_texts(CG):\n",
    "#     if len(node._is):\n",
    "#         print(node)\n",
    "#         for n in node._is:\n",
    "#             print(f' ...is also: {n}')\n",
    "#         print()\n"
   ]
  },
  {
   "cell_type": "code",
   "execution_count": null,
   "metadata": {},
   "outputs": [],
   "source": [
    "t=Text('_markmark/Faulkner_William.The_Sound_and_the_Fury')\n",
    "t.metadata(force=True)"
   ]
  },
  {
   "cell_type": "code",
   "execution_count": null,
   "metadata": {},
   "outputs": [],
   "source": [
    "t"
   ]
  },
  {
   "cell_type": "code",
   "execution_count": null,
   "metadata": {},
   "outputs": [],
   "source": [
    "g.add_edge(1,2,x=10,y=20)"
   ]
  },
  {
   "cell_type": "code",
   "execution_count": null,
   "metadata": {},
   "outputs": [],
   "source": [
    "g.get_edge_data(1,2)"
   ]
  },
  {
   "cell_type": "code",
   "execution_count": null,
   "metadata": {},
   "outputs": [],
   "source": []
  }
 ],
 "metadata": {
  "interpreter": {
   "hash": "99c3488a746bccd77b7949f8f419451e1c962da56ebbaaae6e4d2e6c8c07eaa0"
  },
  "kernelspec": {
   "display_name": "Python 3.9.7 ('base')",
   "language": "python",
   "name": "python3"
  },
  "language_info": {
   "codemirror_mode": {
    "name": "ipython",
    "version": 3
   },
   "file_extension": ".py",
   "mimetype": "text/x-python",
   "name": "python",
   "nbconvert_exporter": "python",
   "pygments_lexer": "ipython3",
   "version": "3.9.7"
  },
  "orig_nbformat": 4
 },
 "nbformat": 4,
 "nbformat_minor": 2
}

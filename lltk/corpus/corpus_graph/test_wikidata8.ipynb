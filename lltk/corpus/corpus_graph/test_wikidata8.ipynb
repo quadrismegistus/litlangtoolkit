{
 "cells": [
  {
   "cell_type": "code",
   "execution_count": 1,
   "metadata": {},
   "outputs": [],
   "source": [
    "import sys; sys.path.insert(0,'../../..')\n",
    "from lltk.imports import *\n",
    "from lltk.corpus.wikidata import *\n",
    "# qid='Q110880441'"
   ]
  },
  {
   "cell_type": "code",
   "execution_count": 5,
   "metadata": {},
   "outputs": [
    {
     "data": {
      "text/plain": [
       "[BaseText](_tmp_corpus/Joyce_James.Finnegans_Wake)"
      ]
     },
     "execution_count": 5,
     "metadata": {},
     "output_type": "execute_result"
    }
   ],
   "source": [
    "t=Text(title=\"Finnegans Wake\", author=\"Joyce, James\")\n",
    "t"
   ]
  },
  {
   "cell_type": "code",
   "execution_count": 7,
   "metadata": {},
   "outputs": [],
   "source": [
    "\n",
    "class TextWikidataClass(BaseText):\n",
    "    \n",
    "    def is_valid(self,meta=None):\n",
    "        if meta is None: meta=self._meta\n",
    "        metakeys=set(meta.keys()) - {self.corpus.addr, self.corpus.id}\n",
    "        return self.id and self.id[0] in {'P','Q'} and len(metakeys)\n",
    "    \n",
    "    @property\n",
    "    def query_str(self): return wikidata_query_str(self)\n",
    "\n",
    "    def query(self): return get_wikidata(self.id)\n",
    "\n",
    "    def cache_keys(self,meta=None,meta_sources={},**kwargs):\n",
    "        if meta is None: meta=self._meta\n",
    "        metakeys=set(meta.keys()) - self.meta_keys_sources(meta_sources,**kwargs)\n",
    "        return metakeys\n",
    "\n",
    "\n",
    "    def meta_keys_sources(self,meta_sources=None,**kwargs): \n",
    "        if meta_sources is None:\n",
    "            meta_sources=set(self.metadata_sources(**kwargs).keys())\n",
    "            return meta_sources\n",
    "        return set()\n",
    "\n",
    "\n",
    "    def metadata_sources(self,from_sources=True,**kwargs):\n",
    "        return super().metadata(\n",
    "            from_sources=False,\n",
    "            **kwargs\n",
    "        )\n",
    "\n",
    "    # Wiki\n",
    "    def metadata(self,meta={},from_cache=True,force=False,cache=True,**kwargs):\n",
    "        # get meta\n",
    "        if not meta: meta=self._meta\n",
    "        if from_cache: meta={**meta, **self.init_meta_json()}\n",
    "        if force or not is_valid_wikidata(meta):\n",
    "            self._meta=meta={**meta, **query_get_wikidata(self.id,**kwargs)}\n",
    "            if cache and is_valid_wikidata(meta): self.cache_meta_json(meta)\n",
    "        return meta\n",
    "\n",
    "\n",
    "\n",
    "def TextWikidata(text):\n",
    "    from lltk.corpus.wikidata import get_wikidata_id\n",
    "\n",
    "    text = Text(text)\n",
    "    qid = get_wikidata_id(text)\n",
    "    qtext = Corpus('wikidata').text(qid)\n",
    "    text.add_source(qtext)\n",
    "    qtext.add_source(text)\n",
    "\n",
    "    return qtext\n",
    "\n",
    "    "
   ]
  },
  {
   "cell_type": "code",
   "execution_count": 12,
   "metadata": {},
   "outputs": [
    {
     "data": {
      "text/plain": [
       "wikidata.TextWikidata"
      ]
     },
     "execution_count": 12,
     "metadata": {},
     "output_type": "execute_result"
    }
   ],
   "source": [
    "TextWikidata(t).__class__"
   ]
  },
  {
   "cell_type": "code",
   "execution_count": 3,
   "metadata": {},
   "outputs": [
    {
     "name": "stderr",
     "output_type": "stream",
     "text": [
      "\u001b[36m[16:30:53]\u001b[0m \u001b[34m\u001b[1mlltk.text.text.add_source()\u001b[0m\u001b[36m:280:\u001b[0m Adding source: [TextWikidata](_wikidata/Q6507)\n",
      "\u001b[36m[16:30:53]\u001b[0m \u001b[34m\u001b[1mlltk.text.text.add_source()\u001b[0m\u001b[36m:280:\u001b[0m Adding source: [BaseText](_tmp_corpus/Joyce_James.Finnegans_Wake)\n"
     ]
    },
    {
     "data": {
      "text/plain": [
       "[[TextWikidata](_wikidata/Q6507)]"
      ]
     },
     "execution_count": 3,
     "metadata": {},
     "output_type": "execute_result"
    }
   ],
   "source": [
    "t.get_sources(wikidata=True)"
   ]
  },
  {
   "cell_type": "code",
   "execution_count": 4,
   "metadata": {},
   "outputs": [],
   "source": [
    "# t.wikidata.meta"
   ]
  },
  {
   "cell_type": "code",
   "execution_count": 4,
   "metadata": {},
   "outputs": [
    {
     "name": "stderr",
     "output_type": "stream",
     "text": [
      "\u001b[36m[14:44:05]\u001b[0m \u001b[34m\u001b[1mlltk.text.text.add_source()\u001b[0m\u001b[36m:274:\u001b[0m Adding source: [TextWikidata](_wikidata/Q6507)\n",
      "\u001b[36m[14:44:05]\u001b[0m \u001b[34m\u001b[1mlltk.text.text.add_source()\u001b[0m\u001b[36m:274:\u001b[0m Adding source: [BaseText](_tmp_corpus/Joyce_James.Finnegans_Wake)\n"
     ]
    },
    {
     "data": {
      "text/plain": [
       "[TextWikidata](_wikidata/Q6507)"
      ]
     },
     "execution_count": 4,
     "metadata": {},
     "output_type": "execute_result"
    }
   ],
   "source": [
    "t.wikidata"
   ]
  },
  {
   "cell_type": "code",
   "execution_count": 5,
   "metadata": {},
   "outputs": [
    {
     "data": {
      "text/plain": [
       "{'id': 'Q6507',\n",
       " '_addr': '_wikidata/Q6507',\n",
       " '_addr_tmp_corpus': '_tmp_corpus/Joyce_James.Finnegans_Wake',\n",
       " 'author|P50': 'James Joyce|Q6882',\n",
       " 'babelio_work_id|P3631': '1596',\n",
       " 'biblioteca_nacional_de_espana_id|P950': 'XX2035470',\n",
       " 'bibliotheque_nationale_de_france_id|P268': '119447775',\n",
       " 'bookbrainz_work_id|P7823': '16802bf9-7b32-4645-891c-ef3e8349721d',\n",
       " 'canadiana_authorities_id_(former_scheme)|P1670': '1003J1644',\n",
       " 'ccab_id|P1890': '000384018',\n",
       " 'characters|P674': ['Fionn mac Cumhaill|Q382610',\n",
       "  'Eve|Q830183',\n",
       "  'Adam|Q70899',\n",
       "  'Tristan|Q954012',\n",
       "  'Iseult|Q572381',\n",
       "  'Jesus|Q302',\n",
       "  'Arthur Wellesley, 1st Duke of Wellington|Q131691',\n",
       "  'Saint Patrick|Q165479',\n",
       "  'Charles Stewart Parnell|Q317436',\n",
       "  'Jonathan Swift|Q41166',\n",
       "  'Jacob|Q289957',\n",
       "  'Esau|Q220822',\n",
       "  'Isaac|Q671872',\n",
       "  'Noah|Q81422'],\n",
       " 'commons_category|P373': 'Finnegans Wake',\n",
       " 'country_of_origin|P495': 'Republic of Ireland|Q27',\n",
       " 'encyclopaedia_britannica_online_id|P1417': 'topic/Finnegans-Wake',\n",
       " 'first_line|P1922': \"riverrun, past Eve and Adam's, from swerve of shore to bend of bay, brings us by a commodius vicus of recirculation back to Howth Castle and Environs.\",\n",
       " 'follows|P155': 'Ulysses|Q6511',\n",
       " 'form_of_creative_work|P7937': 'novel|Q8261',\n",
       " 'freebase_id|P646': '/m/0kp1s',\n",
       " 'genre|P136': ['sui generis|Q311290',\n",
       "  'experimental literature|Q1384425',\n",
       "  'Menippean satire|Q2994242'],\n",
       " 'gnd_id|P227': '4114086-2',\n",
       " 'goodreads_work_id|P8383': '322098',\n",
       " 'idref_id|P269': '027396495',\n",
       " 'image|P18': 'Joyce wake.jpg',\n",
       " 'inception|P571': '+1923-00-00T00:00:00Z',\n",
       " 'instance_of|P31': 'literary work|Q7725634',\n",
       " 'internet_archive_id|P724': 'finneganswake00joyc_0',\n",
       " 'label': 'Finnegans Wake',\n",
       " 'language_of_work_or_name|P407': 'English|Q1860',\n",
       " 'libraries_australia_id|P409': '35617169',\n",
       " 'library_of_congress_authority_id|P244': 'no98001593',\n",
       " 'librarything_work_id|P1085': '11916',\n",
       " 'modernist_commons_id|P9365': '752',\n",
       " 'musicbrainz_work_id|P435': '5c3a57fb-a5e5-4312-8528-bef532ddf794',\n",
       " 'narrative_location|P840': 'Republic of Ireland|Q27',\n",
       " 'national_library_of_chile_id|P7369': '000116283',\n",
       " 'national_library_of_israel_id_(old)|P949': '000072422',\n",
       " 'national_library_of_israel_j9u_id|P8189': '987007263495405171',\n",
       " 'national_library_of_lithuania_id|P7699': 'LNB:V*305032;=1A',\n",
       " 'native_label|P1705': 'Finnegans Wake',\n",
       " 'nsk_id|P1375': '000352233',\n",
       " 'oclc_work_id|P5331': '613184',\n",
       " 'open_library_id|P648': 'OL86319W',\n",
       " 'open_library_subject_id|P3847': ['joyce_james_1882-1941._finnegans_wake',\n",
       "  'finnegans_wake_(joyce_james)'],\n",
       " 'publication_date|P577': '+1939-05-04T00:00:00Z',\n",
       " 'publisher|P123': 'Faber & Faber|Q898097',\n",
       " 'quora_topic_id|P3417': 'Finnegans-Wake-1939-book',\n",
       " 'title|P1476': 'Finnegans Wake',\n",
       " 'topics_main_category|P910': 'Category:Finnegans Wake|Q8458693',\n",
       " 'viaf_id|P214': '176817405',\n",
       " 'what': 'literary work'}"
      ]
     },
     "execution_count": 5,
     "metadata": {},
     "output_type": "execute_result"
    }
   ],
   "source": [
    "t.wikidata.meta"
   ]
  },
  {
   "cell_type": "code",
   "execution_count": 6,
   "metadata": {},
   "outputs": [
    {
     "data": {
      "text/plain": [
       "[[TextWikidata](_wikidata/Q6507)]"
      ]
     },
     "execution_count": 6,
     "metadata": {},
     "output_type": "execute_result"
    }
   ],
   "source": [
    "t.sources"
   ]
  },
  {
   "cell_type": "code",
   "execution_count": 8,
   "metadata": {},
   "outputs": [
    {
     "data": {
      "text/plain": [
       "True"
      ]
     },
     "execution_count": 8,
     "metadata": {},
     "output_type": "execute_result"
    }
   ],
   "source": [
    "t.wikidata.id == t.wikidata_id"
   ]
  },
  {
   "cell_type": "code",
   "execution_count": 9,
   "metadata": {},
   "outputs": [
    {
     "data": {
      "text/plain": [
       "{'_addr': '_tmp_corpus/Joyce_James.Finnegans_Wake',\n",
       " '_id_wikidata': 'Q6507',\n",
       " 'author': 'Joyce, James',\n",
       " 'id': 'Joyce_James.Finnegans_Wake',\n",
       " 'title': 'Finnegans Wake'}"
      ]
     },
     "execution_count": 9,
     "metadata": {},
     "output_type": "execute_result"
    }
   ],
   "source": [
    "t.init_meta_json()"
   ]
  },
  {
   "cell_type": "code",
   "execution_count": 10,
   "metadata": {},
   "outputs": [
    {
     "data": {
      "text/plain": [
       "{'_addr': '_tmp_corpus/Joyce_James.Finnegans_Wake',\n",
       " '_id_wikidata': 'Q6507',\n",
       " 'author': 'Joyce, James',\n",
       " 'id': 'Joyce_James.Finnegans_Wake',\n",
       " 'title': 'Finnegans Wake'}"
      ]
     },
     "execution_count": 10,
     "metadata": {},
     "output_type": "execute_result"
    }
   ],
   "source": [
    "t.init_meta_json()"
   ]
  },
  {
   "cell_type": "code",
   "execution_count": null,
   "metadata": {},
   "outputs": [],
   "source": []
  },
  {
   "cell_type": "code",
   "execution_count": 4,
   "metadata": {},
   "outputs": [
    {
     "name": "stderr",
     "output_type": "stream",
     "text": [
      "\u001b[36m[14:10:53]\u001b[0m \u001b[34m\u001b[1mlltk.corpus.corpus.Corpus()\u001b[0m\u001b[36m:1408:\u001b[0m Returning C: [BaseCorpus](tmp_corpus)\n",
      "\u001b[36m[14:10:53]\u001b[0m \u001b[34m\u001b[1mlltk.corpus.wikidata.wikidata.get_wikidata_id()\u001b[0m\u001b[36m:394:\u001b[0m 1\n",
      "\u001b[36m[14:10:53]\u001b[0m \u001b[34m\u001b[1mlltk.corpus.wikidata.wikidata.get_wikidata_id()\u001b[0m\u001b[36m:396:\u001b[0m 2\n",
      "\u001b[36m[14:10:53]\u001b[0m \u001b[34m\u001b[1mlltk.corpus.wikidata.wikidata.query_get_wikidata_id()\u001b[0m\u001b[36m:429:\u001b[0m Querying wikidata: Joyce, Ulysses\n",
      "\u001b[36m[14:10:54]\u001b[0m \u001b[34m\u001b[1mlltk.corpus.wikidata.wikidata.query_iter_wikidata_id()\u001b[0m\u001b[36m:460:\u001b[0m Received HTML: 61377\n",
      "\u001b[36m[14:10:54]\u001b[0m \u001b[34m\u001b[1mlltk.corpus.wikidata.wikidata.query_iter_wikidata_id()\u001b[0m\u001b[36m:467:\u001b[0m QID: Q6511\n",
      "\u001b[36m[14:10:59]\u001b[0m \u001b[34m\u001b[1mlltk.imports.plog()\u001b[0m\u001b[36m:67:\u001b[0m \n",
      "           QID: Q6511 [literary work]\n",
      "\u001b[36m[14:10:59]\u001b[0m \u001b[34m\u001b[1mlltk.imports.plog()\u001b[0m\u001b[36m:67:\u001b[0m \n",
      "           QID returned: Q6511 [literary work]\n",
      "\u001b[36m[14:10:59]\u001b[0m \u001b[34m\u001b[1mlltk.corpus.wikidata.wikidata.get_wikidata_id()\u001b[0m\u001b[36m:398:\u001b[0m 3\n",
      "\u001b[36m[14:10:59]\u001b[0m \u001b[34m\u001b[1mlltk.corpus.corpus.Corpus()\u001b[0m\u001b[36m:1401:\u001b[0m Corpus loaded: [Wikidata](wikidata)\n",
      "\u001b[36m[14:10:59]\u001b[0m \u001b[34m\u001b[1mlltk.corpus.corpus.Corpus()\u001b[0m\u001b[36m:1408:\u001b[0m Returning C: [Wikidata](wikidata)\n",
      "\u001b[36m[14:10:59]\u001b[0m \u001b[34m\u001b[1mlltk.corpus.corpus.Corpus()\u001b[0m\u001b[36m:1408:\u001b[0m Returning C: [Wikidata](wikidata)\n",
      "\u001b[36m[14:10:59]\u001b[0m \u001b[34m\u001b[1mlltk.text.text.add_source()\u001b[0m\u001b[36m:274:\u001b[0m Adding source: [TextWikidata](_wikidata/Q6511)\n",
      "\u001b[36m[14:10:59]\u001b[0m \u001b[34m\u001b[1mlltk.text.text.add_source()\u001b[0m\u001b[36m:274:\u001b[0m Adding source: [BaseText](_tmp_corpus/Joyce_James.Ulysses)\n"
     ]
    },
    {
     "data": {
      "text/plain": [
       "[TextWikidata](_wikidata/Q6511)"
      ]
     },
     "execution_count": 4,
     "metadata": {},
     "output_type": "execute_result"
    }
   ],
   "source": [
    "tw = get_wikidata(t)\n",
    "tw"
   ]
  },
  {
   "cell_type": "code",
   "execution_count": 9,
   "metadata": {},
   "outputs": [
    {
     "data": {
      "text/plain": [
       "{'id': 'Q6511',\n",
       " '_addr': '_wikidata/Q6511',\n",
       " '_addr_tmp_corpus': '_tmp_corpus/Joyce_James.Ulysses',\n",
       " 'label': 'Ulysses',\n",
       " 'what': 'literary work',\n",
       " 'instance_of|P31': 'literary work|Q7725634',\n",
       " 'author|P50': 'James Joyce|Q6882',\n",
       " 'follows|P155': 'A Portrait of the Artist as a Young Man|Q465360',\n",
       " 'followed_by|P156': 'Finnegans Wake|Q6507',\n",
       " 'commons_category|P373': 'Ulysses (James Joyce)',\n",
       " 'genre|P136': ['modernist literature|Q971480',\n",
       "  'experimental literature|Q1384425',\n",
       "  'literary fiction|Q6647667',\n",
       "  'metafiction|Q531067',\n",
       "  'serialized fiction|Q1347298',\n",
       "  'autobiography|Q4184'],\n",
       " 'topics_main_category|P910': 'Category:Ulysses (novel)|Q8857597',\n",
       " 'freebase_id|P646': '/m/0f3dt',\n",
       " 'bibliotheque_nationale_de_france_id|P268': '11943692j',\n",
       " 'gnd_id|P227': '4099246-9',\n",
       " 'library_of_congress_authority_id|P244': 'n92029109',\n",
       " 'viaf_id|P214': '174999739',\n",
       " 'characters|P674': ['Leopold Bloom|Q573988',\n",
       "  'Molly Bloom|Q2296791',\n",
       "  'Stephen Dedalus|Q543671',\n",
       "  'May Goulding Dedalus|Q16910626',\n",
       "  'Simon Dedalus|Q7518595',\n",
       "  'Milly Bloom|Q6860161',\n",
       "  'Buck Mulligan|Q4982905',\n",
       "  'Michael Cusack|Q1927217',\n",
       "  'George William Russell|Q366070',\n",
       "  'William Magee|Q18880357',\n",
       "  'Thomas William Lyster|Q1416892',\n",
       "  'Joseph Patrick Nannetti|Q1707785',\n",
       "  'Richard Irvine Best|Q7326690',\n",
       "  'David Sheehy|Q5239704',\n",
       "  'John Hooper|Q6239779',\n",
       "  'Tisdall Farrell|Q28575591',\n",
       "  'Haines|Q28601692',\n",
       "  'Martha Clifford|Q28602262',\n",
       "  'Garrett Deasy|Q16739979',\n",
       "  \"C. P. M'Coy|Q28602472\",\n",
       "  'Corny Kelleher (Ulysses character)|Q16910929',\n",
       "  'Jack Power (Ulysses character)|Q16919411',\n",
       "  'Martin Cunningham|Q16739992'],\n",
       " 'image|P18': 'UlyssesCover.jpg',\n",
       " 'has_edition_or_translation|P747': ['Ulysses (2004 German translation)|Q15996608',\n",
       "  'Ulysses|Q19020726',\n",
       "  'Ulysses (1986)|Q28599480',\n",
       "  'Ulysses (1932)|Q28599496',\n",
       "  'Ulysses (1934)|Q28599520',\n",
       "  'Ulysses (1936)|Q28599521',\n",
       "  'Ulysses (1960)|Q28599523',\n",
       "  'Ulysses (1961)|Q28599525',\n",
       "  'Ulysses (1984)|Q28599531',\n",
       "  'Ulysses (2004)|Q28599849',\n",
       "  'Iliada|Q33182025',\n",
       "  'Ulysses (1935)|Q104191512'],\n",
       " 'publication_date|P577': '+1922-02-02T00:00:00Z',\n",
       " 'title|P1476': 'Ulysses',\n",
       " 'project_gutenberg_ebook_id|P2034': '4300',\n",
       " 'narrative_location|P840': ['Dublin|Q1761',\n",
       "  'James Joyce Tower and Museum|Q2062702',\n",
       "  'National Library of Ireland|Q1672830',\n",
       "  'Sandymount Strand|Q7417543',\n",
       "  'Glasnevin Cemetery|Q1263215',\n",
       "  \"Freeman's Journal|Q5500969\",\n",
       "  \"Davy Byrne's pub|Q5242183\",\n",
       "  'Dalkey|Q659895',\n",
       "  'Cabra (Dublin)|Q2088319',\n",
       "  'Grafton Street|Q135501',\n",
       "  \"O'Connell Bridge|Q1766409\",\n",
       "  \"Nelson's Pillar|Q2350741\",\n",
       "  'National Maternity Hospital, Dublin|Q13156901',\n",
       "  '#7 Eccles street|Q28601860'],\n",
       " 'inspired_by|P941': 'Odyssey|Q35160',\n",
       " 'significant_event|P793': ['Bloomsday|Q804551',\n",
       "  'Obscenity trial of Ulysses in The Little Review|Q16153541',\n",
       "  'United States v. One Book Called Ulysses|Q2895062'],\n",
       " 'first_line|P1922': 'Stately, plump Buck Mulligan came from the stairhead, bearing a bowl of lather on which a mirror and a razor lay crossed.',\n",
       " 'full_work_available_at_url|P953': 'https://archive.org/stream/ulysses04300gut/ulyss12.txt',\n",
       " 'set_in_period|P2408': 'June 1904|Q13066091',\n",
       " 'number_of_parts_of_this_work|P2635': {'amount': '+18',\n",
       "  'unit': 'http://www.wikidata.org/entity/Q1983062'},\n",
       " 'has_part_or_parts|P527': ['Telemachus|Q28601581',\n",
       "  'Nestor|Q28601624',\n",
       "  'Proteus|Q28601724',\n",
       "  'Calypso|Q28601800',\n",
       "  'Lotus-eaters|Q28602222',\n",
       "  'Hades|Q28602572',\n",
       "  'Aeolus|Q28602745',\n",
       "  'Lestrygonians|Q28647765',\n",
       "  'Scylla and Charybdis|Q28657069',\n",
       "  'Wandering Rocks|Q28709812',\n",
       "  'Sirens|Q56103204',\n",
       "  'Cyclops|Q56103151',\n",
       "  'Nausikaa|Q56103127',\n",
       "  'Oxen of the Sun|Q56103091',\n",
       "  'Circe|Q56103050',\n",
       "  'Eumaeus|Q56103019',\n",
       "  'Ithaca|Q56102932',\n",
       "  'Penelope|Q38138028'],\n",
       " 'inception|P571': '+1914-00-00T00:00:00Z',\n",
       " 'biblioteca_nacional_de_espana_id|P950': 'XX3383715',\n",
       " 'nnl_item_id|P3959': '001210300',\n",
       " 'last_line|P3132': 'I said yes I will Yes.',\n",
       " 'language_of_work_or_name|P407': 'English|Q1860',\n",
       " 'encyclopaedia_universalis_id|P3219': 'ulysse-james-joyce',\n",
       " 'librarything_work_id|P1085': ['21004298', '21004302'],\n",
       " 'based_on|P144': 'Odyssey|Q35160',\n",
       " 'national_library_of_israel_id_(old)|P949': '001787167',\n",
       " 'award_received|P166': \"Le Monde's 100 Books of the Century|Q40734\",\n",
       " 'nkcr_aut_id|P691': 'aun2006373019',\n",
       " 'idref_id|P269': '027383113',\n",
       " 'oclc_work_id|P5331': '395796',\n",
       " 'bitraga_work_id|P6175': ['5309', '4955'],\n",
       " 'country_of_origin|P495': ['France|Q142',\n",
       "  'United States of America|Q30',\n",
       "  'French Third Republic|Q70802',\n",
       "  'United Kingdom of Great Britain and Ireland|Q174193'],\n",
       " 'open_library_id|P648': 'OL86344W',\n",
       " 'musicbrainz_work_id|P435': '67e71930-7053-448a-8326-6917f683a4ea',\n",
       " 'copyright_status|P6216': ['public domain|Q19652', 'public domain|Q19652'],\n",
       " 'published_in|P1433': 'The Little Review|Q17113018',\n",
       " 'gran_enciclopedia_catalana_id|P1296': '0068263',\n",
       " 'bookogs_work_id|P8211': '405385',\n",
       " 'dewey_decimal_classification_(works_and_editions)|P8359': '823.912',\n",
       " 'derivative_work|P4969': ['Ulysses|Q820061', 'Bloom|Q4928147'],\n",
       " 'bookbrainz_work_id|P7823': 'fdcce91f-92e1-4e00-8045-e7187bd7ebe0',\n",
       " 'national_diet_library_id|P349': '00971887',\n",
       " 'ne.se_id|P3222': 'odysseus-(joyce)',\n",
       " 'publisher|P123': ['Shakespeare and Company|Q1503157',\n",
       "  'Sylvia Beach|Q265562'],\n",
       " 'svkkl_authority_id|P9322': '0377445-Joyce-James-18821941',\n",
       " 'modernist_commons_id|P9365': '15',\n",
       " 'form_of_creative_work|P7937': 'novel|Q8261',\n",
       " 'ausstage_work_id|P8294': '3970',\n",
       " 'national_library_of_israel_j9u_id|P8189': '987007590322605171',\n",
       " 'encyclopaedia_britannica_online_id|P1417': 'topic/Ulysses-novel-by-Joyce'}"
      ]
     },
     "execution_count": 9,
     "metadata": {},
     "output_type": "execute_result"
    }
   ],
   "source": [
    "tw.metadata()"
   ]
  },
  {
   "cell_type": "code",
   "execution_count": null,
   "metadata": {},
   "outputs": [],
   "source": []
  },
  {
   "cell_type": "code",
   "execution_count": 4,
   "metadata": {},
   "outputs": [],
   "source": []
  },
  {
   "cell_type": "code",
   "execution_count": 1,
   "metadata": {},
   "outputs": [
    {
     "ename": "NameError",
     "evalue": "name 'get_wikidata' is not defined",
     "output_type": "error",
     "traceback": [
      "\u001b[0;31m---------------------------------------------------------------------------\u001b[0m",
      "\u001b[0;31mNameError\u001b[0m                                 Traceback (most recent call last)",
      "\u001b[1;32m/Users/ryan/github/lltk/lltk/corpus/corpus_graph/test_wikidata8.ipynb Cell 4'\u001b[0m in \u001b[0;36m<cell line: 1>\u001b[0;34m()\u001b[0m\n\u001b[0;32m----> <a href='vscode-notebook-cell:/Users/ryan/github/lltk/lltk/corpus/corpus_graph/test_wikidata8.ipynb#ch0000109?line=0'>1</a>\u001b[0m tw\u001b[39m=\u001b[39mget_wikidata(t)\n\u001b[1;32m      <a href='vscode-notebook-cell:/Users/ryan/github/lltk/lltk/corpus/corpus_graph/test_wikidata8.ipynb#ch0000109?line=1'>2</a>\u001b[0m \u001b[39mtype\u001b[39m(tw)\n",
      "\u001b[0;31mNameError\u001b[0m: name 'get_wikidata' is not defined"
     ]
    }
   ],
   "source": [
    "tw=get_wikidata(t)\n",
    "type(tw)"
   ]
  },
  {
   "cell_type": "code",
   "execution_count": null,
   "metadata": {},
   "outputs": [],
   "source": []
  },
  {
   "cell_type": "code",
   "execution_count": 13,
   "metadata": {},
   "outputs": [],
   "source": []
  },
  {
   "cell_type": "code",
   "execution_count": 14,
   "metadata": {},
   "outputs": [],
   "source": [
    "# is_valid_wikidata(tw.metadata())"
   ]
  },
  {
   "cell_type": "code",
   "execution_count": 15,
   "metadata": {},
   "outputs": [
    {
     "data": {
      "text/plain": [
       "{'id': 'Q465360',\n",
       " '_addr': '_wikidata/Q465360',\n",
       " '_addr_tmp_corpus': '_tmp_corpus/Joyce_James.A_Portrait_of_the_Artist',\n",
       " 'author|P50': 'James Joyce|Q6882',\n",
       " 'biblioteca_nacional_de_espana_id|P950': 'XX2042950',\n",
       " 'bibliotheque_nationale_de_france_id|P268': '119503132',\n",
       " 'bitraga_work_id|P6175': '635',\n",
       " 'bookbrainz_work_id|P7823': '961d7ef2-2f90-4eaf-923f-7c518ffc5d3a',\n",
       " 'characters|P674': ['Stephen Dedalus|Q543671',\n",
       "  'Simon Dedalus|Q7518595',\n",
       "  'May Goulding Dedalus|Q16910626',\n",
       "  'Dante Riordan|Q28657003',\n",
       "  'Charles Stewart Parnell|Q317436',\n",
       "  'Eileen Vance|Q28719746',\n",
       "  'Roderick \"Rody\" Kickham|Q28719768',\n",
       "  'Nasty Roche|Q28719780',\n",
       "  'Cecil Thunder|Q28719786',\n",
       "  'Father John Conmee|Q28698122',\n",
       "  'John \"Jack\" Lawton|Q28719905',\n",
       "  'Archibald Hamilton Rowan|Q633169',\n",
       "  'Wells|Q28719969',\n",
       "  'Father Arnall|Q28720092',\n",
       "  'Fleming|Q28722385',\n",
       "  'John Casey|Q28722403',\n",
       "  'Brother Michael|Q28722605',\n",
       "  'Athy|Q28723527',\n",
       "  'Uncle Charles|Q28727274'],\n",
       " 'commons_category|P373': 'A Portrait of the Artist as a Young Man',\n",
       " 'copyright_status|P6216': ['public domain|Q19652', 'public domain|Q19652'],\n",
       " 'country_of_origin|P495': 'Republic of Ireland|Q27',\n",
       " 'derivative_work|P4969': 'A Portrait of the Artist as a Young Man|Q4658974',\n",
       " 'encyclopaedia_britannica_online_id|P1417': 'topic/A-Portrait-of-the-Artist-as-a-Young-Man',\n",
       " 'first_line|P1922': 'Once upon a time and a very good time it was there was a moocow coming down along the road and this moocow that was coming down along the road met a nicens little boy named baby tuckoo.',\n",
       " 'followed_by|P156': 'Ulysses|Q6511',\n",
       " 'follows|P155': ['Dubliners|Q459592', 'Stephen Hero|Q2070762'],\n",
       " 'freebase_id|P646': '/m/01vj5q',\n",
       " 'genre|P136': ['autobiographical novel|Q3056541',\n",
       "  'Künstlerroman|Q783459',\n",
       "  'Bildungsroman|Q223945'],\n",
       " 'gnd_id|P227': '4290389-0',\n",
       " 'goodreads_work_id|P8383': '3298883',\n",
       " 'idref_id|P269': '027469409',\n",
       " 'image|P18': 'A Portrait of the Artist as a Young Man.jpg',\n",
       " 'inception|P571': '+1907-00-00T00:00:00Z',\n",
       " 'instance_of|P31': 'literary work|Q7725634',\n",
       " 'internet_archive_id|P724': 'portraitofartist00joyc_4',\n",
       " 'isbn-10|P957': '0-14-243734-4',\n",
       " 'label': 'A Portrait of the Artist as a Young Man',\n",
       " 'language_of_work_or_name|P407': 'English|Q1860',\n",
       " 'last_line|P3132': 'Old father, old artificer, stand me now and ever in good stead.',\n",
       " 'libraries_australia_id|P409': '35255366',\n",
       " 'library_of_congress_authority_id|P244': 'n80161103',\n",
       " 'modernist_commons_id|P9365': '13',\n",
       " 'movement|P135': 'modernist literature|Q971480',\n",
       " 'musicbrainz_work_id|P435': 'd3d480ce-a5ae-43c5-acdf-b95f704922c5',\n",
       " 'narrative_location|P840': 'Dublin|Q1761',\n",
       " 'national_library_of_israel_id_(old)|P949': '001787166',\n",
       " 'national_library_of_israel_j9u_id|P8189': '987007590322805171',\n",
       " 'nnl_item_id|P3959': ['001319103', '003893742', '000979772'],\n",
       " 'oclc_work_id|P5331': '327253',\n",
       " 'open_library_id|P648': 'OL86343W',\n",
       " 'place_of_publication|P291': 'United States of America|Q30',\n",
       " 'project_gutenberg_ebook_id|P2034': '4217',\n",
       " 'publication_date|P577': '+1916-00-00T00:00:00Z',\n",
       " 'publisher|P123': ['The Egoist|Q2919056', 'B. W. Huebsch|Q4834254'],\n",
       " 'title|P1476': 'A Portrait of the Artist as a Young Man',\n",
       " 'viaf_id|P214': '182255878',\n",
       " 'what': 'literary work'}"
      ]
     },
     "execution_count": 15,
     "metadata": {},
     "output_type": "execute_result"
    }
   ],
   "source": [
    "metadata(tw)"
   ]
  },
  {
   "cell_type": "code",
   "execution_count": 14,
   "metadata": {},
   "outputs": [],
   "source": [
    "def init_wikidata(\n",
    "        id,\n",
    "        force=False,\n",
    "        keys_nec={'wd_title','wd_author'},\n",
    "        corpus_id='wikidata',\n",
    "        **kwargs):\n",
    "    text = Text(id)\n",
    "    \n",
    "    \n",
    "    # cache this\n",
    "    ometa['id']=qid\n",
    "    ometa['corpus']=corpus_id\n",
    "    otext = Text(**ometa)\n",
    "\n",
    "    otext.add_source(text)\n",
    "    text.add_source(otext)\n",
    "\n",
    "    text.cache_meta_json()\n",
    "    otext.cache_meta_json()\n",
    "    \n",
    "    return otext\n",
    "\n"
   ]
  },
  {
   "cell_type": "code",
   "execution_count": 11,
   "metadata": {},
   "outputs": [
    {
     "name": "stderr",
     "output_type": "stream",
     "text": [
      "\u001b[36m[11:34:42]\u001b[0m \u001b[34m\u001b[1m__main__.query_get_wikidata_id()\u001b[0m\u001b[36m:42:\u001b[0m Querying wikidata: Joyce, Portrait of the Artist\n"
     ]
    },
    {
     "data": {
      "text/plain": [
       "'Q465360'"
      ]
     },
     "execution_count": 11,
     "metadata": {},
     "output_type": "execute_result"
    }
   ],
   "source": [
    "t = Text(title='Portrait of the Artist', author='James Joyce')\n",
    "qid = get_wikidata_id(t)\n",
    "qid"
   ]
  },
  {
   "cell_type": "code",
   "execution_count": 12,
   "metadata": {},
   "outputs": [
    {
     "data": {
      "text/plain": [
       "{'id': 'Q465360',\n",
       " '_addr': '_wikidata/Q465360',\n",
       " 'author|P50': 'James Joyce|Q6882',\n",
       " 'biblioteca_nacional_de_espana_id|P950': 'XX2042950',\n",
       " 'bibliotheque_nationale_de_france_id|P268': '119503132',\n",
       " 'bitraga_work_id|P6175': '635',\n",
       " 'bookbrainz_work_id|P7823': '961d7ef2-2f90-4eaf-923f-7c518ffc5d3a',\n",
       " 'characters|P674': ['Stephen Dedalus|Q543671',\n",
       "  'Simon Dedalus|Q7518595',\n",
       "  'May Goulding Dedalus|Q16910626',\n",
       "  'Dante Riordan|Q28657003',\n",
       "  'Charles Stewart Parnell|Q317436',\n",
       "  'Eileen Vance|Q28719746',\n",
       "  'Roderick \"Rody\" Kickham|Q28719768',\n",
       "  'Nasty Roche|Q28719780',\n",
       "  'Cecil Thunder|Q28719786',\n",
       "  'Father John Conmee|Q28698122',\n",
       "  'John \"Jack\" Lawton|Q28719905',\n",
       "  'Archibald Hamilton Rowan|Q633169',\n",
       "  'Wells|Q28719969',\n",
       "  'Father Arnall|Q28720092',\n",
       "  'Fleming|Q28722385',\n",
       "  'John Casey|Q28722403',\n",
       "  'Brother Michael|Q28722605',\n",
       "  'Athy|Q28723527',\n",
       "  'Uncle Charles|Q28727274'],\n",
       " 'commons_category|P373': 'A Portrait of the Artist as a Young Man',\n",
       " 'copyright_status|P6216': ['public domain|Q19652', 'public domain|Q19652'],\n",
       " 'country_of_origin|P495': 'Republic of Ireland|Q27',\n",
       " 'derivative_work|P4969': 'A Portrait of the Artist as a Young Man|Q4658974',\n",
       " 'encyclopaedia_britannica_online_id|P1417': 'topic/A-Portrait-of-the-Artist-as-a-Young-Man',\n",
       " 'first_line|P1922': 'Once upon a time and a very good time it was there was a moocow coming down along the road and this moocow that was coming down along the road met a nicens little boy named baby tuckoo.',\n",
       " 'followed_by|P156': 'Ulysses|Q6511',\n",
       " 'follows|P155': ['Dubliners|Q459592', 'Stephen Hero|Q2070762'],\n",
       " 'freebase_id|P646': '/m/01vj5q',\n",
       " 'genre|P136': ['autobiographical novel|Q3056541',\n",
       "  'Künstlerroman|Q783459',\n",
       "  'Bildungsroman|Q223945'],\n",
       " 'gnd_id|P227': '4290389-0',\n",
       " 'goodreads_work_id|P8383': '3298883',\n",
       " 'idref_id|P269': '027469409',\n",
       " 'image|P18': 'A Portrait of the Artist as a Young Man.jpg',\n",
       " 'inception|P571': '+1907-00-00T00:00:00Z',\n",
       " 'instance_of|P31': 'literary work|Q7725634',\n",
       " 'internet_archive_id|P724': 'portraitofartist00joyc_4',\n",
       " 'isbn-10|P957': '0-14-243734-4',\n",
       " 'label': 'A Portrait of the Artist as a Young Man',\n",
       " 'language_of_work_or_name|P407': 'English|Q1860',\n",
       " 'last_line|P3132': 'Old father, old artificer, stand me now and ever in good stead.',\n",
       " 'libraries_australia_id|P409': '35255366',\n",
       " 'library_of_congress_authority_id|P244': 'n80161103',\n",
       " 'modernist_commons_id|P9365': '13',\n",
       " 'movement|P135': 'modernist literature|Q971480',\n",
       " 'musicbrainz_work_id|P435': 'd3d480ce-a5ae-43c5-acdf-b95f704922c5',\n",
       " 'narrative_location|P840': 'Dublin|Q1761',\n",
       " 'national_library_of_israel_id_(old)|P949': '001787166',\n",
       " 'national_library_of_israel_j9u_id|P8189': '987007590322805171',\n",
       " 'nnl_item_id|P3959': ['001319103', '003893742', '000979772'],\n",
       " 'oclc_work_id|P5331': '327253',\n",
       " 'open_library_id|P648': 'OL86343W',\n",
       " 'place_of_publication|P291': 'United States of America|Q30',\n",
       " 'project_gutenberg_ebook_id|P2034': '4217',\n",
       " 'publication_date|P577': '+1916-00-00T00:00:00Z',\n",
       " 'publisher|P123': ['The Egoist|Q2919056', 'B. W. Huebsch|Q4834254'],\n",
       " 'title|P1476': 'A Portrait of the Artist as a Young Man',\n",
       " 'viaf_id|P214': '182255878',\n",
       " 'what': 'literary work'}"
      ]
     },
     "execution_count": 12,
     "metadata": {},
     "output_type": "execute_result"
    }
   ],
   "source": [
    "def "
   ]
  },
  {
   "cell_type": "code",
   "execution_count": 67,
   "metadata": {},
   "outputs": [],
   "source": [
    "get_wikid"
   ]
  },
  {
   "cell_type": "code",
   "execution_count": 64,
   "metadata": {},
   "outputs": [],
   "source": [
    "# get_wikidata_from_qid(qid)"
   ]
  },
  {
   "cell_type": "code",
   "execution_count": 46,
   "metadata": {},
   "outputs": [],
   "source": []
  },
  {
   "cell_type": "code",
   "execution_count": 48,
   "metadata": {},
   "outputs": [
    {
     "data": {
      "text/plain": [
       "('A Portrait of the Artist as a Young Man', 'James Joyce')"
      ]
     },
     "execution_count": 48,
     "metadata": {},
     "output_type": "execute_result"
    }
   ],
   "source": [
    "wikidata_get_title(qmeta), wikidata_get_author(qmeta)"
   ]
  },
  {
   "cell_type": "code",
   "execution_count": null,
   "metadata": {},
   "outputs": [],
   "source": []
  },
  {
   "cell_type": "code",
   "execution_count": null,
   "metadata": {},
   "outputs": [],
   "source": []
  },
  {
   "cell_type": "code",
   "execution_count": null,
   "metadata": {},
   "outputs": [],
   "source": []
  },
  {
   "cell_type": "code",
   "execution_count": 4,
   "metadata": {},
   "outputs": [
    {
     "name": "stderr",
     "output_type": "stream",
     "text": [
      "\u001b[36m[10:46:10]\u001b[0m \u001b[34m\u001b[1mlltk.corpus.corpus.Corpus()\u001b[0m\u001b[36m:1401:\u001b[0m Corpus loaded: [Wikidata](wikidata)\n",
      "API error: {'code': 'no-such-entity', 'info': 'Could not find an entity with the ID \"_tmp_corpus/James_Joyce.Portrait_of_the_Artist\".', 'id': '_tmp_corpus/James_Joyce.Portrait_of_the_Artist', 'messages': [{'name': 'wikibase-api-no-such-entity', 'parameters': ['_tmp_corpus/James_Joyce.Portrait_of_the_Artist'], 'html': 'Could not find an entity with the ID \"_tmp_corpus/James_Joyce.Portrait_of_the_Artist\".'}], 'docref': 'See https://www.wikidata.org/w/api.php for API usage. Subscribe to the mediawiki-api-announce mailing list at &lt;https://lists.wikimedia.org/postorius/lists/mediawiki-api-announce.lists.wikimedia.org/&gt; for notice of API deprecations and breaking changes.'}\n"
     ]
    },
    {
     "ename": "LookupError",
     "evalue": "https://www.wikidata.org/w/api.php?action=wbgetentities&formatversion=2&languages=en&props=aliases|info|claims|descriptions|labels|sitelinks&redirects=yes&ids=_tmp_corpus/James_Joyce.Portrait_of_the_Artist",
     "output_type": "error",
     "traceback": [
      "\u001b[0;31m---------------------------------------------------------------------------\u001b[0m",
      "\u001b[0;31mLookupError\u001b[0m                               Traceback (most recent call last)",
      "\u001b[1;32m/Users/ryan/github/lltk/lltk/corpus/corpus_graph/test_wikidata8.ipynb Cell 4'\u001b[0m in \u001b[0;36m<cell line: 1>\u001b[0;34m()\u001b[0m\n\u001b[0;32m----> <a href='vscode-notebook-cell:/Users/ryan/github/lltk/lltk/corpus/corpus_graph/test_wikidata8.ipynb#ch0000088?line=0'>1</a>\u001b[0m get_wikidata(t)\n",
      "File \u001b[0;32m~/github/lltk/lltk/corpus/corpus_graph/../../../lltk/corpus/wikidata/wikidata.py:146\u001b[0m, in \u001b[0;36mget_wikidata\u001b[0;34m(qid, tmeta, cache, **kwargs)\u001b[0m\n\u001b[1;32m    <a href='file:///Users/ryan/github/lltk/lltk/corpus/corpus_graph/../../../lltk/corpus/wikidata/wikidata.py?line=143'>144</a>\u001b[0m \u001b[39mdef\u001b[39;00m \u001b[39mget_wikidata\u001b[39m(qid,tmeta\u001b[39m=\u001b[39m{},cache\u001b[39m=\u001b[39m\u001b[39mTrue\u001b[39;00m,\u001b[39m*\u001b[39m\u001b[39m*\u001b[39mkwargs):\n\u001b[1;32m    <a href='file:///Users/ryan/github/lltk/lltk/corpus/corpus_graph/../../../lltk/corpus/wikidata/wikidata.py?line=144'>145</a>\u001b[0m     t\u001b[39m=\u001b[39mText(qid,\u001b[39m'\u001b[39m\u001b[39mwikidata\u001b[39m\u001b[39m'\u001b[39m)\n\u001b[0;32m--> <a href='file:///Users/ryan/github/lltk/lltk/corpus/corpus_graph/../../../lltk/corpus/wikidata/wikidata.py?line=145'>146</a>\u001b[0m     \u001b[39mif\u001b[39;00m \u001b[39mnot\u001b[39;00m tmeta: tmeta\u001b[39m=\u001b[39mt\u001b[39m.\u001b[39;49mmetadata(from_sources\u001b[39m=\u001b[39;49m\u001b[39mFalse\u001b[39;49;00m,from_cache\u001b[39m=\u001b[39;49m\u001b[39mTrue\u001b[39;49;00m,cache\u001b[39m=\u001b[39;49m\u001b[39mFalse\u001b[39;49;00m)\n\u001b[1;32m    <a href='file:///Users/ryan/github/lltk/lltk/corpus/corpus_graph/../../../lltk/corpus/wikidata/wikidata.py?line=146'>147</a>\u001b[0m     \u001b[39mif\u001b[39;00m \u001b[39mnot\u001b[39;00m is_valid_wikidata(tmeta): tmeta\u001b[39m=\u001b[39mquery_get_wikidata(t,\u001b[39m*\u001b[39m\u001b[39m*\u001b[39mkwargs)\n\u001b[1;32m    <a href='file:///Users/ryan/github/lltk/lltk/corpus/corpus_graph/../../../lltk/corpus/wikidata/wikidata.py?line=147'>148</a>\u001b[0m     \u001b[39mif\u001b[39;00m is_valid_wikidata(tmeta): t\u001b[39m.\u001b[39mcache_meta_json(tmeta)\n",
      "File \u001b[0;32m~/github/lltk/lltk/corpus/wikidata/wikidata.py:209\u001b[0m, in \u001b[0;36mTextWikidata.metadata\u001b[0;34m(self, meta, from_cache, force, cache, **kwargs)\u001b[0m\n\u001b[1;32m    <a href='file:///Users/ryan/github/lltk/lltk/corpus/wikidata/wikidata.py?line=206'>207</a>\u001b[0m \u001b[39mif\u001b[39;00m from_cache: meta\u001b[39m=\u001b[39m{\u001b[39m*\u001b[39m\u001b[39m*\u001b[39mmeta, \u001b[39m*\u001b[39m\u001b[39m*\u001b[39m\u001b[39mself\u001b[39m\u001b[39m.\u001b[39minit_meta_json()}\n\u001b[1;32m    <a href='file:///Users/ryan/github/lltk/lltk/corpus/wikidata/wikidata.py?line=207'>208</a>\u001b[0m \u001b[39mif\u001b[39;00m force \u001b[39mor\u001b[39;00m \u001b[39mnot\u001b[39;00m is_valid_wikidata(meta):\n\u001b[0;32m--> <a href='file:///Users/ryan/github/lltk/lltk/corpus/wikidata/wikidata.py?line=208'>209</a>\u001b[0m     \u001b[39mself\u001b[39m\u001b[39m.\u001b[39m_meta\u001b[39m=\u001b[39mmeta\u001b[39m=\u001b[39m{\u001b[39m*\u001b[39m\u001b[39m*\u001b[39mmeta, \u001b[39m*\u001b[39m\u001b[39m*\u001b[39mquery_get_wikidata(\u001b[39mself\u001b[39;49m\u001b[39m.\u001b[39;49mid,\u001b[39m*\u001b[39;49m\u001b[39m*\u001b[39;49mkwargs)}\n\u001b[1;32m    <a href='file:///Users/ryan/github/lltk/lltk/corpus/wikidata/wikidata.py?line=209'>210</a>\u001b[0m     \u001b[39mif\u001b[39;00m cache \u001b[39mand\u001b[39;00m is_valid_wikidata(meta):\n\u001b[1;32m    <a href='file:///Users/ryan/github/lltk/lltk/corpus/wikidata/wikidata.py?line=210'>211</a>\u001b[0m         \u001b[39mself\u001b[39m\u001b[39m.\u001b[39mcache_meta_json(meta)\n",
      "File \u001b[0;32m~/github/lltk/lltk/corpus/wikidata/wikidata.py:100\u001b[0m, in \u001b[0;36mquery_get_wikidata\u001b[0;34m(qid, verbose, **kwargs)\u001b[0m\n\u001b[1;32m     <a href='file:///Users/ryan/github/lltk/lltk/corpus/wikidata/wikidata.py?line=97'>98</a>\u001b[0m \u001b[39mimport\u001b[39;00m \u001b[39mwptools\u001b[39;00m\n\u001b[1;32m     <a href='file:///Users/ryan/github/lltk/lltk/corpus/wikidata/wikidata.py?line=98'>99</a>\u001b[0m page \u001b[39m=\u001b[39m wptools\u001b[39m.\u001b[39mpage(wikibase\u001b[39m=\u001b[39mqid, silent\u001b[39m=\u001b[39m\u001b[39mnot\u001b[39;00m verbose)\n\u001b[0;32m--> <a href='file:///Users/ryan/github/lltk/lltk/corpus/wikidata/wikidata.py?line=99'>100</a>\u001b[0m wpage \u001b[39m=\u001b[39m page\u001b[39m.\u001b[39;49mget_wikidata()\n\u001b[1;32m    <a href='file:///Users/ryan/github/lltk/lltk/corpus/wikidata/wikidata.py?line=100'>101</a>\u001b[0m wdata \u001b[39m=\u001b[39m wpage\u001b[39m.\u001b[39mdata\n\u001b[1;32m    <a href='file:///Users/ryan/github/lltk/lltk/corpus/wikidata/wikidata.py?line=101'>102</a>\u001b[0m odat \u001b[39m=\u001b[39m wdata\u001b[39m.\u001b[39mget(\u001b[39m'\u001b[39m\u001b[39mwikidata\u001b[39m\u001b[39m'\u001b[39m)\n",
      "File \u001b[0;32m~/miniforge3/lib/python3.9/site-packages/wptools/wikidata.py:327\u001b[0m, in \u001b[0;36mWPToolsWikidata.get_wikidata\u001b[0;34m(self, show, proxy, timeout)\u001b[0m\n\u001b[1;32m    <a href='file:///Users/ryan/miniforge3/lib/python3.9/site-packages/wptools/wikidata.py?line=323'>324</a>\u001b[0m     err \u001b[39m=\u001b[39m \u001b[39m\"\u001b[39m\u001b[39mget_wikidata needs wikibase or title\u001b[39m\u001b[39m\"\u001b[39m\n\u001b[1;32m    <a href='file:///Users/ryan/miniforge3/lib/python3.9/site-packages/wptools/wikidata.py?line=324'>325</a>\u001b[0m     \u001b[39mraise\u001b[39;00m \u001b[39mLookupError\u001b[39;00m(err)\n\u001b[0;32m--> <a href='file:///Users/ryan/miniforge3/lib/python3.9/site-packages/wptools/wikidata.py?line=326'>327</a>\u001b[0m \u001b[39mself\u001b[39;49m\u001b[39m.\u001b[39;49m_get(\u001b[39m'\u001b[39;49m\u001b[39mwikidata\u001b[39;49m\u001b[39m'\u001b[39;49m, show, proxy, timeout)\n\u001b[1;32m    <a href='file:///Users/ryan/miniforge3/lib/python3.9/site-packages/wptools/wikidata.py?line=328'>329</a>\u001b[0m \u001b[39mreturn\u001b[39;00m \u001b[39mself\u001b[39m\n",
      "File \u001b[0;32m~/miniforge3/lib/python3.9/site-packages/wptools/core.py:183\u001b[0m, in \u001b[0;36mWPTools._get\u001b[0;34m(self, action, show, proxy, timeout)\u001b[0m\n\u001b[1;32m    <a href='file:///Users/ryan/miniforge3/lib/python3.9/site-packages/wptools/core.py?line=178'>179</a>\u001b[0m \u001b[39mself\u001b[39m\u001b[39m.\u001b[39mcache[action][\u001b[39m'\u001b[39m\u001b[39minfo\u001b[39m\u001b[39m'\u001b[39m] \u001b[39m=\u001b[39m req\u001b[39m.\u001b[39minfo\n\u001b[1;32m    <a href='file:///Users/ryan/miniforge3/lib/python3.9/site-packages/wptools/core.py?line=180'>181</a>\u001b[0m \u001b[39mself\u001b[39m\u001b[39m.\u001b[39mdata[\u001b[39m'\u001b[39m\u001b[39mrequests\u001b[39m\u001b[39m'\u001b[39m]\u001b[39m.\u001b[39mappend(action)\n\u001b[0;32m--> <a href='file:///Users/ryan/miniforge3/lib/python3.9/site-packages/wptools/core.py?line=182'>183</a>\u001b[0m \u001b[39mself\u001b[39;49m\u001b[39m.\u001b[39;49m_set_data(action)\n\u001b[1;32m    <a href='file:///Users/ryan/miniforge3/lib/python3.9/site-packages/wptools/core.py?line=184'>185</a>\u001b[0m \u001b[39mif\u001b[39;00m show \u001b[39mand\u001b[39;00m \u001b[39mnot\u001b[39;00m \u001b[39mself\u001b[39m\u001b[39m.\u001b[39mflags\u001b[39m.\u001b[39mget(\u001b[39m'\u001b[39m\u001b[39msilent\u001b[39m\u001b[39m'\u001b[39m):\n\u001b[1;32m    <a href='file:///Users/ryan/miniforge3/lib/python3.9/site-packages/wptools/core.py?line=185'>186</a>\u001b[0m     \u001b[39mself\u001b[39m\u001b[39m.\u001b[39mshow()\n",
      "File \u001b[0;32m~/miniforge3/lib/python3.9/site-packages/wptools/page.py:210\u001b[0m, in \u001b[0;36mWPToolsPage._set_data\u001b[0;34m(self, action)\u001b[0m\n\u001b[1;32m    <a href='file:///Users/ryan/miniforge3/lib/python3.9/site-packages/wptools/page.py?line=207'>208</a>\u001b[0m     \u001b[39mself\u001b[39m\u001b[39m.\u001b[39m_set_labels()\n\u001b[1;32m    <a href='file:///Users/ryan/miniforge3/lib/python3.9/site-packages/wptools/page.py?line=208'>209</a>\u001b[0m \u001b[39melif\u001b[39;00m action \u001b[39m==\u001b[39m \u001b[39m'\u001b[39m\u001b[39mwikidata\u001b[39m\u001b[39m'\u001b[39m:\n\u001b[0;32m--> <a href='file:///Users/ryan/miniforge3/lib/python3.9/site-packages/wptools/page.py?line=209'>210</a>\u001b[0m     \u001b[39mself\u001b[39;49m\u001b[39m.\u001b[39;49m_set_wikidata()\n\u001b[1;32m    <a href='file:///Users/ryan/miniforge3/lib/python3.9/site-packages/wptools/page.py?line=210'>211</a>\u001b[0m     \u001b[39mself\u001b[39m\u001b[39m.\u001b[39mget_labels()\n\u001b[1;32m    <a href='file:///Users/ryan/miniforge3/lib/python3.9/site-packages/wptools/page.py?line=211'>212</a>\u001b[0m \u001b[39melif\u001b[39;00m action \u001b[39m==\u001b[39m \u001b[39m'\u001b[39m\u001b[39mrestbase\u001b[39m\u001b[39m'\u001b[39m:\n",
      "File \u001b[0;32m~/miniforge3/lib/python3.9/site-packages/wptools/wikidata.py:162\u001b[0m, in \u001b[0;36mWPToolsWikidata._set_wikidata\u001b[0;34m(self)\u001b[0m\n\u001b[1;32m    <a href='file:///Users/ryan/miniforge3/lib/python3.9/site-packages/wptools/wikidata.py?line=158'>159</a>\u001b[0m \u001b[39mself\u001b[39m\u001b[39m.\u001b[39mdata[\u001b[39m'\u001b[39m\u001b[39mlabels\u001b[39m\u001b[39m'\u001b[39m] \u001b[39m=\u001b[39m {}\n\u001b[1;32m    <a href='file:///Users/ryan/miniforge3/lib/python3.9/site-packages/wptools/wikidata.py?line=159'>160</a>\u001b[0m \u001b[39mself\u001b[39m\u001b[39m.\u001b[39mdata[\u001b[39m'\u001b[39m\u001b[39mwikidata\u001b[39m\u001b[39m'\u001b[39m] \u001b[39m=\u001b[39m {}\n\u001b[0;32m--> <a href='file:///Users/ryan/miniforge3/lib/python3.9/site-packages/wptools/wikidata.py?line=161'>162</a>\u001b[0m data \u001b[39m=\u001b[39m \u001b[39mself\u001b[39;49m\u001b[39m.\u001b[39;49m_load_response(\u001b[39m'\u001b[39;49m\u001b[39mwikidata\u001b[39;49m\u001b[39m'\u001b[39;49m)\n\u001b[1;32m    <a href='file:///Users/ryan/miniforge3/lib/python3.9/site-packages/wptools/wikidata.py?line=162'>163</a>\u001b[0m entities \u001b[39m=\u001b[39m data\u001b[39m.\u001b[39mget(\u001b[39m'\u001b[39m\u001b[39mentities\u001b[39m\u001b[39m'\u001b[39m)\n\u001b[1;32m    <a href='file:///Users/ryan/miniforge3/lib/python3.9/site-packages/wptools/wikidata.py?line=163'>164</a>\u001b[0m item \u001b[39m=\u001b[39m entities\u001b[39m.\u001b[39mget(\u001b[39mnext\u001b[39m(\u001b[39miter\u001b[39m(entities)))\n",
      "File \u001b[0;32m~/miniforge3/lib/python3.9/site-packages/wptools/core.py:211\u001b[0m, in \u001b[0;36mWPTools._load_response\u001b[0;34m(self, action)\u001b[0m\n\u001b[1;32m    <a href='file:///Users/ryan/miniforge3/lib/python3.9/site-packages/wptools/core.py?line=208'>209</a>\u001b[0m \u001b[39mif\u001b[39;00m data\u001b[39m.\u001b[39mget(\u001b[39m'\u001b[39m\u001b[39merror\u001b[39m\u001b[39m'\u001b[39m):\n\u001b[1;32m    <a href='file:///Users/ryan/miniforge3/lib/python3.9/site-packages/wptools/core.py?line=209'>210</a>\u001b[0m     utils\u001b[39m.\u001b[39mstderr(\u001b[39m\"\u001b[39m\u001b[39mAPI error: \u001b[39m\u001b[39m%s\u001b[39;00m\u001b[39m\"\u001b[39m \u001b[39m%\u001b[39m data\u001b[39m.\u001b[39mget(\u001b[39m'\u001b[39m\u001b[39merror\u001b[39m\u001b[39m'\u001b[39m))\n\u001b[0;32m--> <a href='file:///Users/ryan/miniforge3/lib/python3.9/site-packages/wptools/core.py?line=210'>211</a>\u001b[0m     \u001b[39mraise\u001b[39;00m \u001b[39mLookupError\u001b[39;00m(_query)\n\u001b[1;32m    <a href='file:///Users/ryan/miniforge3/lib/python3.9/site-packages/wptools/core.py?line=212'>213</a>\u001b[0m \u001b[39mif\u001b[39;00m \u001b[39m'\u001b[39m\u001b[39mquery\u001b[39m\u001b[39m'\u001b[39m \u001b[39min\u001b[39;00m action \u001b[39mand\u001b[39;00m data\u001b[39m.\u001b[39mget(\u001b[39m'\u001b[39m\u001b[39mquery\u001b[39m\u001b[39m'\u001b[39m):\n\u001b[1;32m    <a href='file:///Users/ryan/miniforge3/lib/python3.9/site-packages/wptools/core.py?line=213'>214</a>\u001b[0m     \u001b[39mif\u001b[39;00m data[\u001b[39m'\u001b[39m\u001b[39mquery\u001b[39m\u001b[39m'\u001b[39m]\u001b[39m.\u001b[39mget(\u001b[39m'\u001b[39m\u001b[39mpages\u001b[39m\u001b[39m'\u001b[39m):\n",
      "\u001b[0;31mLookupError\u001b[0m: https://www.wikidata.org/w/api.php?action=wbgetentities&formatversion=2&languages=en&props=aliases|info|claims|descriptions|labels|sitelinks&redirects=yes&ids=_tmp_corpus/James_Joyce.Portrait_of_the_Artist"
     ]
    }
   ],
   "source": [
    "get_wikidata(t)"
   ]
  },
  {
   "cell_type": "code",
   "execution_count": 5,
   "metadata": {},
   "outputs": [
    {
     "data": {
      "text/plain": [
       "{'id': 'Q4658974',\n",
       " '_addr': '_wikidata/Q4658974',\n",
       " 'label': 'A Portrait of the Artist as a Young Man',\n",
       " 'what': 'film',\n",
       " 'imdb_id|P345': 'tt0079740',\n",
       " 'instance_of|P31': 'film|Q11424',\n",
       " 'director|P57': 'Joseph Strick|Q40701',\n",
       " 'cast_member|P161': ['Bosco Hogan|Q4947170',\n",
       "  'T. P. McKenna|Q944296',\n",
       "  'John Gielgud|Q204685'],\n",
       " 'screenwriter|P58': 'James Joyce|Q6882',\n",
       " 'based_on|P144': 'A Portrait of the Artist as a Young Man|Q465360',\n",
       " 'narrative_location|P840': 'Dublin|Q1761',\n",
       " 'rotten_tomatoes_id|P1258': 'm/james_joyce_portrait_of_the_artist_as_a_young_man',\n",
       " 'publication_date|P577': '+1977-01-01T00:00:00Z',\n",
       " 'allmovie_title_id|P1562': 'v65592',\n",
       " 'original_language_of_film_or_tv_show|P364': 'English|Q1860',\n",
       " 'country_of_origin|P495': 'Republic of Ireland|Q27',\n",
       " 'title|P1476': 'A Portrait of the Artist as a Young Man',\n",
       " 'kinopoisk_film_id|P2603': '17067',\n",
       " 'after_a_work_by|P1877': 'James Joyce|Q6882',\n",
       " 'ofdb_film_id|P3138': '256641',\n",
       " 'elfilm_film_id|P3143': '79547',\n",
       " 'csfd_film_id|P2529': '44632',\n",
       " 'moviemeter_film_id|P1970': '35533',\n",
       " 'daum_movie_id|P4277': '57609',\n",
       " 'TV Guide show ID (former scheme) (P3804)': '109470',\n",
       " 'bfi_films,_tv_and_people_id|P4438': '4ce2b6b34d3c1',\n",
       " 'filmaffinity_id|P480': '217253',\n",
       " 'filmweb.pl_film_id|P5032': '139731',\n",
       " 'composer|P86': 'Stanley Myers|Q730252',\n",
       " 'distributed_by|P750': 'United Artists Corporation|Q219400',\n",
       " 'genre|P136': 'film based on literature|Q52162262',\n",
       " 'letterboxd_film_id|P6127': 'a-portrait-of-the-artist-as-a-young-man',\n",
       " 'movie_review_query_engine_id|P8033': 'a-portrait-of-the-artist-as-a-young-man-m100006976',\n",
       " 'freebase_id|P646': '/m/0cs04cs',\n",
       " 'douban_film_id|P4529': '3275123',\n",
       " 'tmdb_movie_id|P4947': '155710',\n",
       " 'mediafilm_id|P9022': 'mf-tt-5688621816'}"
      ]
     },
     "execution_count": 5,
     "metadata": {},
     "output_type": "execute_result"
    }
   ],
   "source": [
    "qtext = Text(qid,'wikidata')\n",
    "qtext.meta"
   ]
  },
  {
   "cell_type": "code",
   "execution_count": 7,
   "metadata": {},
   "outputs": [
    {
     "data": {
      "text/plain": [
       "{'id': 'Q4658974',\n",
       " '_addr': '_wikidata/Q4658974',\n",
       " 'label': 'A Portrait of the Artist as a Young Man',\n",
       " 'what': 'film',\n",
       " 'imdb_id|P345': 'tt0079740',\n",
       " 'instance_of|P31': 'film|Q11424',\n",
       " 'director|P57': 'Joseph Strick|Q40701',\n",
       " 'cast_member|P161': ['Bosco Hogan|Q4947170',\n",
       "  'T. P. McKenna|Q944296',\n",
       "  'John Gielgud|Q204685'],\n",
       " 'screenwriter|P58': 'James Joyce|Q6882',\n",
       " 'based_on|P144': 'A Portrait of the Artist as a Young Man|Q465360',\n",
       " 'narrative_location|P840': 'Dublin|Q1761',\n",
       " 'rotten_tomatoes_id|P1258': 'm/james_joyce_portrait_of_the_artist_as_a_young_man',\n",
       " 'publication_date|P577': '+1977-01-01T00:00:00Z',\n",
       " 'allmovie_title_id|P1562': 'v65592',\n",
       " 'original_language_of_film_or_tv_show|P364': 'English|Q1860',\n",
       " 'country_of_origin|P495': 'Republic of Ireland|Q27',\n",
       " 'title|P1476': 'A Portrait of the Artist as a Young Man',\n",
       " 'kinopoisk_film_id|P2603': '17067',\n",
       " 'after_a_work_by|P1877': 'James Joyce|Q6882',\n",
       " 'ofdb_film_id|P3138': '256641',\n",
       " 'elfilm_film_id|P3143': '79547',\n",
       " 'csfd_film_id|P2529': '44632',\n",
       " 'moviemeter_film_id|P1970': '35533',\n",
       " 'daum_movie_id|P4277': '57609',\n",
       " 'TV Guide show ID (former scheme) (P3804)': '109470',\n",
       " 'bfi_films,_tv_and_people_id|P4438': '4ce2b6b34d3c1',\n",
       " 'filmaffinity_id|P480': '217253',\n",
       " 'filmweb.pl_film_id|P5032': '139731',\n",
       " 'composer|P86': 'Stanley Myers|Q730252',\n",
       " 'distributed_by|P750': 'United Artists Corporation|Q219400',\n",
       " 'genre|P136': 'film based on literature|Q52162262',\n",
       " 'letterboxd_film_id|P6127': 'a-portrait-of-the-artist-as-a-young-man',\n",
       " 'movie_review_query_engine_id|P8033': 'a-portrait-of-the-artist-as-a-young-man-m100006976',\n",
       " 'freebase_id|P646': '/m/0cs04cs',\n",
       " 'douban_film_id|P4529': '3275123',\n",
       " 'tmdb_movie_id|P4947': '155710',\n",
       " 'mediafilm_id|P9022': 'mf-tt-5688621816'}"
      ]
     },
     "execution_count": 7,
     "metadata": {},
     "output_type": "execute_result"
    }
   ],
   "source": [
    "get_wikidata(qid)"
   ]
  },
  {
   "cell_type": "code",
   "execution_count": null,
   "metadata": {},
   "outputs": [],
   "source": []
  }
 ],
 "metadata": {
  "interpreter": {
   "hash": "99c3488a746bccd77b7949f8f419451e1c962da56ebbaaae6e4d2e6c8c07eaa0"
  },
  "kernelspec": {
   "display_name": "Python 3.9.7 ('base')",
   "language": "python",
   "name": "python3"
  },
  "language_info": {
   "codemirror_mode": {
    "name": "ipython",
    "version": 3
   },
   "file_extension": ".py",
   "mimetype": "text/x-python",
   "name": "python",
   "nbconvert_exporter": "python",
   "pygments_lexer": "ipython3",
   "version": "3.9.7"
  },
  "orig_nbformat": 4
 },
 "nbformat": 4,
 "nbformat_minor": 2
}

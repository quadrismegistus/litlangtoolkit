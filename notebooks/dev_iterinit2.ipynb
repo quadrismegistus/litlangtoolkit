{
 "cells": [
  {
   "cell_type": "code",
   "execution_count": 1,
   "metadata": {},
   "outputs": [],
   "source": [
    "import sys; sys.path.insert(0,'../../yapmap')\n",
    "import sys; sys.path.insert(0,'..')\n",
    "from lltk import *\n"
   ]
  },
  {
   "cell_type": "code",
   "execution_count": 2,
   "metadata": {},
   "outputs": [
    {
     "data": {
      "application/vnd.jupyter.widget-view+json": {
       "model_id": "1dfaab572be941ad86d59fbda2651d91",
       "version_major": 2,
       "version_minor": 0
      },
      "text/plain": [
       "  0%|          | 0/9089 [00:00<?, ?it/s]"
      ]
     },
     "metadata": {},
     "output_type": "display_data"
    },
    {
     "data": {
      "text/plain": [
       "True"
      ]
     },
     "execution_count": 2,
     "metadata": {},
     "output_type": "execute_result"
    }
   ],
   "source": [
    "C=Corpus('chicago')\n",
    "C.sync()"
   ]
  },
  {
   "cell_type": "code",
   "execution_count": 3,
   "metadata": {},
   "outputs": [],
   "source": [
    "def iter_init_db(self,progress=True,**kwargs):\n",
    "    if log: log('...')\n",
    "\n",
    "    iterr=self.gdb.get_nodes(_corpus=self.id)\n",
    "    if progress: iterr=get_tqdm(iterr)\n",
    "\n",
    "    for dx in iterr:\n",
    "        id=to_corpus_and_id(dx['id'])[1]\n",
    "        meta=just_meta_no_id(dx)\n",
    "        t = self.text(\n",
    "            id, \n",
    "            _source=None,\n",
    "            _add = True,\n",
    "            _cache = False,\n",
    "            _force = True,\n",
    "            _new = False,\n",
    "            _init = False,\n",
    "            **meta)\n",
    "        \n",
    "        self._textd[t.id]=t\n",
    "\n",
    "        yield t\n",
    "    \n",
    "def init_db(self,**kwargs):\n",
    "    if log: log('...')\n",
    "    o=list(self.iter_init_db())\n",
    "    o.sort(key=lambda t: t.id)\n",
    "    return o"
   ]
  },
  {
   "cell_type": "code",
   "execution_count": 4,
   "metadata": {},
   "outputs": [],
   "source": [
    "BaseCorpus.iter_init_db = iter_init_db\n",
    "BaseCorpus.init_db = init_db"
   ]
  },
  {
   "cell_type": "code",
   "execution_count": 5,
   "metadata": {},
   "outputs": [
    {
     "data": {
      "application/vnd.jupyter.widget-view+json": {
       "model_id": "1665c4d704544a738494a733fc825744",
       "version_major": 2,
       "version_minor": 0
      },
      "text/plain": [
       "  0%|          | 0/9089 [00:00<?, ?it/s]"
      ]
     },
     "metadata": {},
     "output_type": "display_data"
    }
   ],
   "source": [
    "texts = C.init_db()"
   ]
  },
  {
   "cell_type": "code",
   "execution_count": 6,
   "metadata": {},
   "outputs": [
    {
     "data": {
      "text/plain": [
       "(9089, 9089)"
      ]
     },
     "execution_count": 6,
     "metadata": {},
     "output_type": "execute_result"
    }
   ],
   "source": [
    "len(texts), len(C._textd)"
   ]
  },
  {
   "cell_type": "code",
   "execution_count": 9,
   "metadata": {},
   "outputs": [
    {
     "data": {
      "application/vnd.jupyter.widget-view+json": {
       "model_id": "10541d6ae94647a7b87c95373a37c2db",
       "version_major": 2,
       "version_minor": 0
      },
      "text/plain": [
       "[Chicago] Iterating texts:   0%|          | 0/9089 [00:00<?, ?it/s]"
      ]
     },
     "metadata": {},
     "output_type": "display_data"
    },
    {
     "data": {
      "text/plain": [
       "9089"
      ]
     },
     "execution_count": 9,
     "metadata": {},
     "output_type": "execute_result"
    }
   ],
   "source": [
    "len(C)"
   ]
  },
  {
   "cell_type": "code",
   "execution_count": null,
   "metadata": {},
   "outputs": [],
   "source": []
  },
  {
   "cell_type": "code",
   "execution_count": 4,
   "metadata": {},
   "outputs": [
    {
     "ename": "NameError",
     "evalue": "name 'init_db' is not defined",
     "output_type": "error",
     "traceback": [
      "\u001b[0;31m---------------------------------------------------------------------------\u001b[0m",
      "\u001b[0;31mNameError\u001b[0m                                 Traceback (most recent call last)",
      "\u001b[1;32m/Users/ryan/github/lltk/notebooks/dev_iterinit2.ipynb Cell 4'\u001b[0m in \u001b[0;36m<cell line: 1>\u001b[0;34m()\u001b[0m\n\u001b[0;32m----> <a href='vscode-notebook-cell:/Users/ryan/github/lltk/notebooks/dev_iterinit2.ipynb#ch0000003?line=0'>1</a>\u001b[0m BaseCorpus\u001b[39m.\u001b[39minit_db \u001b[39m=\u001b[39m init_db\n\u001b[1;32m      <a href='vscode-notebook-cell:/Users/ryan/github/lltk/notebooks/dev_iterinit2.ipynb#ch0000003?line=1'>2</a>\u001b[0m C\u001b[39m.\u001b[39minit_db()\n",
      "\u001b[0;31mNameError\u001b[0m: name 'init_db' is not defined"
     ]
    }
   ],
   "source": []
  },
  {
   "cell_type": "code",
   "execution_count": null,
   "metadata": {},
   "outputs": [],
   "source": []
  },
  {
   "cell_type": "code",
   "execution_count": null,
   "metadata": {},
   "outputs": [],
   "source": []
  },
  {
   "cell_type": "code",
   "execution_count": 7,
   "metadata": {},
   "outputs": [
    {
     "data": {
      "text/plain": [
       "{'author': 'Adams, Henry',\n",
       " 'title': 'Democracy',\n",
       " 'year': '1880',\n",
       " 'alt_first': None,\n",
       " 'auth_first': 'Henry',\n",
       " 'auth_id': 'A_00017',\n",
       " 'auth_last': 'Adams',\n",
       " 'book_id': '1',\n",
       " 'canon': None,\n",
       " 'class': None,\n",
       " 'clean': 'c',\n",
       " 'coterie': None,\n",
       " 'date_b': '1838',\n",
       " 'date_d': '1918',\n",
       " 'education': 'Harvard',\n",
       " 'filename': '00000001.txt',\n",
       " 'gender': 'M',\n",
       " 'genre': None,\n",
       " 'geography': 'Boston, MA; Washington, DC',\n",
       " 'hyphenated_identity': None,\n",
       " 'immigrant': None,\n",
       " 'libraries': '152',\n",
       " 'mfa': None,\n",
       " 'nationality': 'American',\n",
       " 'pseud_first_1': None,\n",
       " 'pseud_first_2': None,\n",
       " 'pseud_first_3': None,\n",
       " 'pseud_last_1': None,\n",
       " 'pseud_last_2': None,\n",
       " 'pseud_last_3': None,\n",
       " 'publ_city': 'New York',\n",
       " 'publ_date': '1880',\n",
       " 'publisher': 'Henry Holt & Co.',\n",
       " 'race_ethnicity': 'Caucasian',\n",
       " 'religion': None,\n",
       " 'secondary_occupation': 'Historian',\n",
       " 'sexual_identity': None,\n",
       " 'source': 'g',\n",
       " 'written_as': None,\n",
       " '_corpus': 'chicago',\n",
       " 'id': '_chicago/00000001'}"
      ]
     },
     "execution_count": 7,
     "metadata": {},
     "output_type": "execute_result"
    }
   ],
   "source": [
    "# %%timeit\n",
    "C.gdb.get_nodes(_corpus='chicago')[0]"
   ]
  },
  {
   "cell_type": "code",
   "execution_count": 4,
   "metadata": {},
   "outputs": [
    {
     "name": "stdout",
     "output_type": "stream",
     "text": [
      "177 ns ± 0.608 ns per loop (mean ± std. dev. of 7 runs, 10,000,000 loops each)\n"
     ]
    }
   ],
   "source": [
    "%%timeit\n",
    "C.ids"
   ]
  },
  {
   "cell_type": "code",
   "execution_count": 5,
   "metadata": {},
   "outputs": [
    {
     "name": "stdout",
     "output_type": "stream",
     "text": [
      "162 µs ± 1.41 µs per loop (mean ± std. dev. of 7 runs, 10,000 loops each)\n"
     ]
    }
   ],
   "source": [
    "%%timeit\n",
    "C.ids_"
   ]
  },
  {
   "cell_type": "code",
   "execution_count": null,
   "metadata": {},
   "outputs": [],
   "source": []
  },
  {
   "cell_type": "code",
   "execution_count": 4,
   "metadata": {},
   "outputs": [
    {
     "data": {
      "application/vnd.jupyter.widget-view+json": {
       "model_id": "73c4e5a0d99348b493f06d62f6d95f8a",
       "version_major": 2,
       "version_minor": 0
      },
      "text/plain": [
       "  0%|          | 0/116599 [00:00<?, ?it/s]"
      ]
     },
     "metadata": {},
     "output_type": "display_data"
    }
   ],
   "source": [
    "# C.cache_db()"
   ]
  },
  {
   "cell_type": "code",
   "execution_count": 12,
   "metadata": {},
   "outputs": [],
   "source": []
  },
  {
   "cell_type": "code",
   "execution_count": 15,
   "metadata": {},
   "outputs": [],
   "source": [
    "# def get_ids(self,force=False):\n",
    "#     if force or self._ids is None:\n",
    "#         self._ids=\n",
    "    \n",
    "\n",
    "# C.ids=ids"
   ]
  },
  {
   "cell_type": "code",
   "execution_count": null,
   "metadata": {},
   "outputs": [],
   "source": []
  },
  {
   "cell_type": "code",
   "execution_count": 6,
   "metadata": {},
   "outputs": [],
   "source": [
    "# %%timeit\n",
    "# C.dbmeta"
   ]
  },
  {
   "cell_type": "code",
   "execution_count": 5,
   "metadata": {},
   "outputs": [],
   "source": [
    "# log.verbose=0\n",
    "# texts = list(iter_init_db(C))"
   ]
  },
  {
   "cell_type": "code",
   "execution_count": 8,
   "metadata": {},
   "outputs": [
    {
     "data": {
      "application/vnd.jupyter.widget-view+json": {
       "model_id": "ff84748b5d674144b0e501244996b95d",
       "version_major": 2,
       "version_minor": 0
      },
      "text/plain": [
       "[COHA] Iterating texts:   0%|          | 0/116599 [00:00<?, ?it/s]"
      ]
     },
     "metadata": {},
     "output_type": "display_data"
    },
    {
     "ename": "KeyboardInterrupt",
     "evalue": "",
     "output_type": "error",
     "traceback": [
      "\u001b[0;31m---------------------------------------------------------------------------\u001b[0m",
      "\u001b[0;31mKeyboardInterrupt\u001b[0m                         Traceback (most recent call last)",
      "\u001b[1;32m/Users/ryan/github/lltk/notebooks/dev_iterinit.ipynb Cell 7'\u001b[0m in \u001b[0;36m<cell line: 1>\u001b[0;34m()\u001b[0m\n\u001b[0;32m----> <a href='vscode-notebook-cell:/Users/ryan/github/lltk/notebooks/dev_iterinit.ipynb#ch0000013?line=0'>1</a>\u001b[0m C\u001b[39m.\u001b[39;49mmeta\n",
      "File \u001b[0;32m~/github/lltk/notebooks/../lltk/corpus/corpus.py:767\u001b[0m, in \u001b[0;36mBaseCorpus.meta\u001b[0;34m(self)\u001b[0m\n\u001b[1;32m    <a href='file:///Users/ryan/github/lltk/notebooks/../lltk/corpus/corpus.py?line=765'>766</a>\u001b[0m \u001b[39m@property\u001b[39m\n\u001b[0;32m--> <a href='file:///Users/ryan/github/lltk/notebooks/../lltk/corpus/corpus.py?line=766'>767</a>\u001b[0m \u001b[39mdef\u001b[39;00m \u001b[39mmeta\u001b[39m(\u001b[39mself\u001b[39m): \u001b[39mreturn\u001b[39;00m \u001b[39mself\u001b[39;49m\u001b[39m.\u001b[39;49mmetadata(force\u001b[39m=\u001b[39;49m\u001b[39mFalse\u001b[39;49;00m)\n",
      "File \u001b[0;32m~/github/lltk/notebooks/../lltk/corpus/corpus.py:727\u001b[0m, in \u001b[0;36mBaseCorpus.metadata\u001b[0;34m(self, force, progress, lim, fillna, from_cache, from_sources, cache, remote, sep, meta, **kwargs)\u001b[0m\n\u001b[1;32m    <a href='file:///Users/ryan/github/lltk/notebooks/../lltk/corpus/corpus.py?line=724'>725</a>\u001b[0m old_metadf\u001b[39m=\u001b[39m\u001b[39mself\u001b[39m\u001b[39m.\u001b[39m_metadfd\u001b[39m.\u001b[39mget(key)\n\u001b[1;32m    <a href='file:///Users/ryan/github/lltk/notebooks/../lltk/corpus/corpus.py?line=725'>726</a>\u001b[0m \u001b[39mif\u001b[39;00m force \u001b[39mor\u001b[39;00m old_metadf \u001b[39mis\u001b[39;00m \u001b[39mNone\u001b[39;00m:\n\u001b[0;32m--> <a href='file:///Users/ryan/github/lltk/notebooks/../lltk/corpus/corpus.py?line=726'>727</a>\u001b[0m     new_metadf\u001b[39m=\u001b[39mpd\u001b[39m.\u001b[39;49mDataFrame(\n\u001b[1;32m    <a href='file:///Users/ryan/github/lltk/notebooks/../lltk/corpus/corpus.py?line=727'>728</a>\u001b[0m         t\u001b[39m.\u001b[39;49mmetadata(\n\u001b[1;32m    <a href='file:///Users/ryan/github/lltk/notebooks/../lltk/corpus/corpus.py?line=728'>729</a>\u001b[0m             from_cache\u001b[39m=\u001b[39;49mfrom_cache,\n\u001b[1;32m    <a href='file:///Users/ryan/github/lltk/notebooks/../lltk/corpus/corpus.py?line=729'>730</a>\u001b[0m             from_sources\u001b[39m=\u001b[39;49mfrom_sources,\n\u001b[1;32m    <a href='file:///Users/ryan/github/lltk/notebooks/../lltk/corpus/corpus.py?line=730'>731</a>\u001b[0m             remote\u001b[39m=\u001b[39;49mremote,\n\u001b[1;32m    <a href='file:///Users/ryan/github/lltk/notebooks/../lltk/corpus/corpus.py?line=731'>732</a>\u001b[0m             cache\u001b[39m=\u001b[39;49mcache,\n\u001b[1;32m    <a href='file:///Users/ryan/github/lltk/notebooks/../lltk/corpus/corpus.py?line=732'>733</a>\u001b[0m             sep\u001b[39m=\u001b[39;49msep,\n\u001b[1;32m    <a href='file:///Users/ryan/github/lltk/notebooks/../lltk/corpus/corpus.py?line=733'>734</a>\u001b[0m             meta\u001b[39m=\u001b[39;49mmeta,\n\u001b[1;32m    <a href='file:///Users/ryan/github/lltk/notebooks/../lltk/corpus/corpus.py?line=734'>735</a>\u001b[0m             \u001b[39m*\u001b[39;49m\u001b[39m*\u001b[39;49mkwargs\n\u001b[1;32m    <a href='file:///Users/ryan/github/lltk/notebooks/../lltk/corpus/corpus.py?line=735'>736</a>\u001b[0m         )\n\u001b[1;32m    <a href='file:///Users/ryan/github/lltk/notebooks/../lltk/corpus/corpus.py?line=736'>737</a>\u001b[0m         \u001b[39mfor\u001b[39;49;00m ti,t \u001b[39min\u001b[39;49;00m \u001b[39menumerate\u001b[39;49m(\u001b[39mself\u001b[39;49m\u001b[39m.\u001b[39;49mtexts(progress\u001b[39m=\u001b[39;49mprogress))\n\u001b[1;32m    <a href='file:///Users/ryan/github/lltk/notebooks/../lltk/corpus/corpus.py?line=737'>738</a>\u001b[0m         \u001b[39mif\u001b[39;49;00m t \u001b[39mis\u001b[39;49;00m \u001b[39mnot\u001b[39;49;00m \u001b[39mNone\u001b[39;49;00m\n\u001b[1;32m    <a href='file:///Users/ryan/github/lltk/notebooks/../lltk/corpus/corpus.py?line=738'>739</a>\u001b[0m         \u001b[39mand\u001b[39;49;00m t\u001b[39m.\u001b[39;49mmetadata \u001b[39mis\u001b[39;49;00m \u001b[39mnot\u001b[39;49;00m \u001b[39mNone\u001b[39;49;00m\n\u001b[1;32m    <a href='file:///Users/ryan/github/lltk/notebooks/../lltk/corpus/corpus.py?line=739'>740</a>\u001b[0m         \u001b[39mand\u001b[39;49;00m \u001b[39mnot\u001b[39;49;00m lim \u001b[39mor\u001b[39;49;00m ti\u001b[39m<\u001b[39;49mlim\n\u001b[1;32m    <a href='file:///Users/ryan/github/lltk/notebooks/../lltk/corpus/corpus.py?line=740'>741</a>\u001b[0m     )\n\u001b[1;32m    <a href='file:///Users/ryan/github/lltk/notebooks/../lltk/corpus/corpus.py?line=741'>742</a>\u001b[0m     \u001b[39mif\u001b[39;00m fillna \u001b[39mis\u001b[39;00m \u001b[39mnot\u001b[39;00m \u001b[39mNone\u001b[39;00m:\n\u001b[1;32m    <a href='file:///Users/ryan/github/lltk/notebooks/../lltk/corpus/corpus.py?line=742'>743</a>\u001b[0m         new_metadf\u001b[39m=\u001b[39mnew_metadf\u001b[39m.\u001b[39mfillna(fillna)\n",
      "File \u001b[0;32m~/miniforge3/lib/python3.9/site-packages/pandas/core/frame.py:710\u001b[0m, in \u001b[0;36mDataFrame.__init__\u001b[0;34m(self, data, index, columns, dtype, copy)\u001b[0m\n\u001b[1;32m    <a href='file:///Users/ryan/miniforge3/lib/python3.9/site-packages/pandas/core/frame.py?line=707'>708</a>\u001b[0m         data \u001b[39m=\u001b[39m np\u001b[39m.\u001b[39masarray(data)\n\u001b[1;32m    <a href='file:///Users/ryan/miniforge3/lib/python3.9/site-packages/pandas/core/frame.py?line=708'>709</a>\u001b[0m     \u001b[39melse\u001b[39;00m:\n\u001b[0;32m--> <a href='file:///Users/ryan/miniforge3/lib/python3.9/site-packages/pandas/core/frame.py?line=709'>710</a>\u001b[0m         data \u001b[39m=\u001b[39m \u001b[39mlist\u001b[39;49m(data)\n\u001b[1;32m    <a href='file:///Users/ryan/miniforge3/lib/python3.9/site-packages/pandas/core/frame.py?line=710'>711</a>\u001b[0m \u001b[39mif\u001b[39;00m \u001b[39mlen\u001b[39m(data) \u001b[39m>\u001b[39m \u001b[39m0\u001b[39m:\n\u001b[1;32m    <a href='file:///Users/ryan/miniforge3/lib/python3.9/site-packages/pandas/core/frame.py?line=711'>712</a>\u001b[0m     \u001b[39mif\u001b[39;00m is_dataclass(data[\u001b[39m0\u001b[39m]):\n",
      "File \u001b[0;32m~/github/lltk/notebooks/../lltk/corpus/corpus.py:727\u001b[0m, in \u001b[0;36m<genexpr>\u001b[0;34m(.0)\u001b[0m\n\u001b[1;32m    <a href='file:///Users/ryan/github/lltk/notebooks/../lltk/corpus/corpus.py?line=724'>725</a>\u001b[0m old_metadf\u001b[39m=\u001b[39m\u001b[39mself\u001b[39m\u001b[39m.\u001b[39m_metadfd\u001b[39m.\u001b[39mget(key)\n\u001b[1;32m    <a href='file:///Users/ryan/github/lltk/notebooks/../lltk/corpus/corpus.py?line=725'>726</a>\u001b[0m \u001b[39mif\u001b[39;00m force \u001b[39mor\u001b[39;00m old_metadf \u001b[39mis\u001b[39;00m \u001b[39mNone\u001b[39;00m:\n\u001b[0;32m--> <a href='file:///Users/ryan/github/lltk/notebooks/../lltk/corpus/corpus.py?line=726'>727</a>\u001b[0m     new_metadf\u001b[39m=\u001b[39mpd\u001b[39m.\u001b[39mDataFrame(\n\u001b[1;32m    <a href='file:///Users/ryan/github/lltk/notebooks/../lltk/corpus/corpus.py?line=727'>728</a>\u001b[0m         t\u001b[39m.\u001b[39mmetadata(\n\u001b[1;32m    <a href='file:///Users/ryan/github/lltk/notebooks/../lltk/corpus/corpus.py?line=728'>729</a>\u001b[0m             from_cache\u001b[39m=\u001b[39mfrom_cache,\n\u001b[1;32m    <a href='file:///Users/ryan/github/lltk/notebooks/../lltk/corpus/corpus.py?line=729'>730</a>\u001b[0m             from_sources\u001b[39m=\u001b[39mfrom_sources,\n\u001b[1;32m    <a href='file:///Users/ryan/github/lltk/notebooks/../lltk/corpus/corpus.py?line=730'>731</a>\u001b[0m             remote\u001b[39m=\u001b[39mremote,\n\u001b[1;32m    <a href='file:///Users/ryan/github/lltk/notebooks/../lltk/corpus/corpus.py?line=731'>732</a>\u001b[0m             cache\u001b[39m=\u001b[39mcache,\n\u001b[1;32m    <a href='file:///Users/ryan/github/lltk/notebooks/../lltk/corpus/corpus.py?line=732'>733</a>\u001b[0m             sep\u001b[39m=\u001b[39msep,\n\u001b[1;32m    <a href='file:///Users/ryan/github/lltk/notebooks/../lltk/corpus/corpus.py?line=733'>734</a>\u001b[0m             meta\u001b[39m=\u001b[39mmeta,\n\u001b[1;32m    <a href='file:///Users/ryan/github/lltk/notebooks/../lltk/corpus/corpus.py?line=734'>735</a>\u001b[0m             \u001b[39m*\u001b[39m\u001b[39m*\u001b[39mkwargs\n\u001b[1;32m    <a href='file:///Users/ryan/github/lltk/notebooks/../lltk/corpus/corpus.py?line=735'>736</a>\u001b[0m         )\n\u001b[1;32m    <a href='file:///Users/ryan/github/lltk/notebooks/../lltk/corpus/corpus.py?line=736'>737</a>\u001b[0m         \u001b[39mfor\u001b[39;00m ti,t \u001b[39min\u001b[39;00m \u001b[39menumerate\u001b[39m(\u001b[39mself\u001b[39m\u001b[39m.\u001b[39mtexts(progress\u001b[39m=\u001b[39mprogress))\n\u001b[1;32m    <a href='file:///Users/ryan/github/lltk/notebooks/../lltk/corpus/corpus.py?line=737'>738</a>\u001b[0m         \u001b[39mif\u001b[39;00m t \u001b[39mis\u001b[39;00m \u001b[39mnot\u001b[39;00m \u001b[39mNone\u001b[39;00m\n\u001b[1;32m    <a href='file:///Users/ryan/github/lltk/notebooks/../lltk/corpus/corpus.py?line=738'>739</a>\u001b[0m         \u001b[39mand\u001b[39;00m t\u001b[39m.\u001b[39mmetadata \u001b[39mis\u001b[39;00m \u001b[39mnot\u001b[39;00m \u001b[39mNone\u001b[39;00m\n\u001b[1;32m    <a href='file:///Users/ryan/github/lltk/notebooks/../lltk/corpus/corpus.py?line=739'>740</a>\u001b[0m         \u001b[39mand\u001b[39;00m \u001b[39mnot\u001b[39;00m lim \u001b[39mor\u001b[39;00m ti\u001b[39m<\u001b[39mlim\n\u001b[1;32m    <a href='file:///Users/ryan/github/lltk/notebooks/../lltk/corpus/corpus.py?line=740'>741</a>\u001b[0m     )\n\u001b[1;32m    <a href='file:///Users/ryan/github/lltk/notebooks/../lltk/corpus/corpus.py?line=741'>742</a>\u001b[0m     \u001b[39mif\u001b[39;00m fillna \u001b[39mis\u001b[39;00m \u001b[39mnot\u001b[39;00m \u001b[39mNone\u001b[39;00m:\n\u001b[1;32m    <a href='file:///Users/ryan/github/lltk/notebooks/../lltk/corpus/corpus.py?line=742'>743</a>\u001b[0m         new_metadf\u001b[39m=\u001b[39mnew_metadf\u001b[39m.\u001b[39mfillna(fillna)\n",
      "File \u001b[0;32m~/github/lltk/notebooks/../lltk/corpus/corpus.py:565\u001b[0m, in \u001b[0;36mBaseCorpus.iter_texts\u001b[0;34m(self, texts, progress, shuffle, lim, verbose, **kwargs)\u001b[0m\n\u001b[1;32m    <a href='file:///Users/ryan/github/lltk/notebooks/../lltk/corpus/corpus.py?line=563'>564</a>\u001b[0m \u001b[39mdef\u001b[39;00m \u001b[39miter_texts\u001b[39m(\u001b[39mself\u001b[39m,texts\u001b[39m=\u001b[39m\u001b[39mNone\u001b[39;00m,progress\u001b[39m=\u001b[39m\u001b[39mFalse\u001b[39;00m,shuffle\u001b[39m=\u001b[39m\u001b[39mFalse\u001b[39;00m,lim\u001b[39m=\u001b[39m\u001b[39mNone\u001b[39;00m,verbose\u001b[39m=\u001b[39m\u001b[39mFalse\u001b[39;00m,\u001b[39m*\u001b[39m\u001b[39m*\u001b[39mkwargs):\n\u001b[0;32m--> <a href='file:///Users/ryan/github/lltk/notebooks/../lltk/corpus/corpus.py?line=564'>565</a>\u001b[0m     \u001b[39mif\u001b[39;00m \u001b[39mnot\u001b[39;00m texts: texts\u001b[39m=\u001b[39m\u001b[39mlist\u001b[39m(\u001b[39mself\u001b[39;49m\u001b[39m.\u001b[39;49mtextd\u001b[39m.\u001b[39mvalues())\n\u001b[1;32m    <a href='file:///Users/ryan/github/lltk/notebooks/../lltk/corpus/corpus.py?line=565'>566</a>\u001b[0m     \u001b[39mif\u001b[39;00m \u001b[39mnot\u001b[39;00m texts: \u001b[39mreturn\u001b[39;00m []\n\u001b[1;32m    <a href='file:///Users/ryan/github/lltk/notebooks/../lltk/corpus/corpus.py?line=566'>567</a>\u001b[0m     \u001b[39mif\u001b[39;00m texts: o\u001b[39m=\u001b[39m\u001b[39mlist\u001b[39m(\u001b[39mmap\u001b[39m(Text, texts))\n",
      "File \u001b[0;32m~/github/lltk/notebooks/../lltk/corpus/corpus.py:557\u001b[0m, in \u001b[0;36mBaseCorpus.textd\u001b[0;34m(self)\u001b[0m\n\u001b[1;32m    <a href='file:///Users/ryan/github/lltk/notebooks/../lltk/corpus/corpus.py?line=553'>554</a>\u001b[0m \u001b[39m@property\u001b[39m\n\u001b[1;32m    <a href='file:///Users/ryan/github/lltk/notebooks/../lltk/corpus/corpus.py?line=554'>555</a>\u001b[0m \u001b[39mdef\u001b[39;00m \u001b[39mtextd\u001b[39m(\u001b[39mself\u001b[39m):\n\u001b[1;32m    <a href='file:///Users/ryan/github/lltk/notebooks/../lltk/corpus/corpus.py?line=555'>556</a>\u001b[0m     \u001b[39mif\u001b[39;00m log: log(\u001b[39m'\u001b[39m\u001b[39m...\u001b[39m\u001b[39m'\u001b[39m)\n\u001b[0;32m--> <a href='file:///Users/ryan/github/lltk/notebooks/../lltk/corpus/corpus.py?line=556'>557</a>\u001b[0m     \u001b[39mself\u001b[39;49m\u001b[39m.\u001b[39;49minit()\n\u001b[1;32m    <a href='file:///Users/ryan/github/lltk/notebooks/../lltk/corpus/corpus.py?line=557'>558</a>\u001b[0m     \u001b[39mreturn\u001b[39;00m \u001b[39mself\u001b[39m\u001b[39m.\u001b[39m_textd\n",
      "File \u001b[0;32m~/github/lltk/notebooks/../lltk/corpus/corpus.py:693\u001b[0m, in \u001b[0;36mBaseCorpus.init\u001b[0;34m(self, force, quiet, **kwargs)\u001b[0m\n\u001b[1;32m    <a href='file:///Users/ryan/github/lltk/notebooks/../lltk/corpus/corpus.py?line=690'>691</a>\u001b[0m \u001b[39mif\u001b[39;00m quiet \u001b[39mis\u001b[39;00m \u001b[39mTrue\u001b[39;00m \u001b[39mor\u001b[39;00m \u001b[39mself\u001b[39m\u001b[39m.\u001b[39m_quiet \u001b[39mis\u001b[39;00m \u001b[39mTrue\u001b[39;00m:\n\u001b[1;32m    <a href='file:///Users/ryan/github/lltk/notebooks/../lltk/corpus/corpus.py?line=691'>692</a>\u001b[0m     \u001b[39mwith\u001b[39;00m log\u001b[39m.\u001b[39mquiet:\n\u001b[0;32m--> <a href='file:///Users/ryan/github/lltk/notebooks/../lltk/corpus/corpus.py?line=692'>693</a>\u001b[0m         numdone \u001b[39m=\u001b[39m do_it()\n\u001b[1;32m    <a href='file:///Users/ryan/github/lltk/notebooks/../lltk/corpus/corpus.py?line=693'>694</a>\u001b[0m \u001b[39melse\u001b[39;00m:\n\u001b[1;32m    <a href='file:///Users/ryan/github/lltk/notebooks/../lltk/corpus/corpus.py?line=694'>695</a>\u001b[0m     numdone \u001b[39m=\u001b[39m do_it()\n",
      "File \u001b[0;32m~/github/lltk/notebooks/../lltk/corpus/corpus.py:688\u001b[0m, in \u001b[0;36mBaseCorpus.init.<locals>.do_it\u001b[0;34m()\u001b[0m\n\u001b[1;32m    <a href='file:///Users/ryan/github/lltk/notebooks/../lltk/corpus/corpus.py?line=685'>686</a>\u001b[0m \u001b[39mdef\u001b[39;00m \u001b[39mdo_it\u001b[39m():\n\u001b[1;32m    <a href='file:///Users/ryan/github/lltk/notebooks/../lltk/corpus/corpus.py?line=686'>687</a>\u001b[0m     i\u001b[39m=\u001b[39m\u001b[39m0\u001b[39m\n\u001b[0;32m--> <a href='file:///Users/ryan/github/lltk/notebooks/../lltk/corpus/corpus.py?line=687'>688</a>\u001b[0m     \u001b[39mfor\u001b[39;00m x \u001b[39min\u001b[39;00m \u001b[39mself\u001b[39m\u001b[39m.\u001b[39miter_init(\u001b[39m*\u001b[39m\u001b[39m*\u001b[39mkwargs): i\u001b[39m+\u001b[39m\u001b[39m=\u001b[39m\u001b[39m1\u001b[39m\n\u001b[1;32m    <a href='file:///Users/ryan/github/lltk/notebooks/../lltk/corpus/corpus.py?line=688'>689</a>\u001b[0m     \u001b[39mreturn\u001b[39;00m i\n",
      "File \u001b[0;32m~/github/lltk/notebooks/../lltk/corpus/corpus.py:676\u001b[0m, in \u001b[0;36mBaseCorpus.iter_init\u001b[0;34m(self, progress, add, cache, force, **kwargs)\u001b[0m\n\u001b[1;32m    <a href='file:///Users/ryan/github/lltk/notebooks/../lltk/corpus/corpus.py?line=672'>673</a>\u001b[0m \u001b[39mfor\u001b[39;00m \u001b[39mid\u001b[39m,d \u001b[39min\u001b[39;00m iterr:\n\u001b[1;32m    <a href='file:///Users/ryan/github/lltk/notebooks/../lltk/corpus/corpus.py?line=673'>674</a>\u001b[0m     \u001b[39m# init text object from meta\u001b[39;00m\n\u001b[1;32m    <a href='file:///Users/ryan/github/lltk/notebooks/../lltk/corpus/corpus.py?line=674'>675</a>\u001b[0m     od\u001b[39m=\u001b[39m{k:v \u001b[39mfor\u001b[39;00m k,v \u001b[39min\u001b[39;00m d\u001b[39m.\u001b[39mitems() \u001b[39mif\u001b[39;00m k \u001b[39mnot\u001b[39;00m \u001b[39min\u001b[39;00m {\u001b[39m'\u001b[39m\u001b[39mid\u001b[39m\u001b[39m'\u001b[39m,\u001b[39m'\u001b[39m\u001b[39madd\u001b[39m\u001b[39m'\u001b[39m,\u001b[39m'\u001b[39m\u001b[39mcache\u001b[39m\u001b[39m'\u001b[39m}}\n\u001b[0;32m--> <a href='file:///Users/ryan/github/lltk/notebooks/../lltk/corpus/corpus.py?line=675'>676</a>\u001b[0m     t \u001b[39m=\u001b[39m \u001b[39mself\u001b[39;49m\u001b[39m.\u001b[39;49mtext(\u001b[39mid\u001b[39;49m\u001b[39m=\u001b[39;49m\u001b[39mid\u001b[39;49m,_add\u001b[39m=\u001b[39;49madd,_cache\u001b[39m=\u001b[39;49mcache,_force\u001b[39m=\u001b[39;49mforce,_init\u001b[39m=\u001b[39;49m\u001b[39mFalse\u001b[39;49;00m,\u001b[39m*\u001b[39;49m\u001b[39m*\u001b[39;49mod)\n\u001b[1;32m    <a href='file:///Users/ryan/github/lltk/notebooks/../lltk/corpus/corpus.py?line=676'>677</a>\u001b[0m     \u001b[39myield\u001b[39;00m t\n",
      "File \u001b[0;32m~/github/lltk/notebooks/../lltk/corpus/corpus.py:422\u001b[0m, in \u001b[0;36mBaseCorpus.text\u001b[0;34m(self, id, _source, _add, _cache, _force, _new, _init, _verbose, **kwargs)\u001b[0m\n\u001b[1;32m    <a href='file:///Users/ryan/github/lltk/notebooks/../lltk/corpus/corpus.py?line=419'>420</a>\u001b[0m \u001b[39m# Create?\u001b[39;00m\n\u001b[1;32m    <a href='file:///Users/ryan/github/lltk/notebooks/../lltk/corpus/corpus.py?line=420'>421</a>\u001b[0m \u001b[39mif\u001b[39;00m _force \u001b[39mor\u001b[39;00m t \u001b[39mis\u001b[39;00m \u001b[39mNone\u001b[39;00m: t \u001b[39m=\u001b[39m \u001b[39mself\u001b[39m\u001b[39m.\u001b[39minit_text(\u001b[39mid\u001b[39m,_source\u001b[39m=\u001b[39m_source,_cache\u001b[39m=\u001b[39m\u001b[39mFalse\u001b[39;00m,\u001b[39m*\u001b[39m\u001b[39m*\u001b[39mmeta)\n\u001b[0;32m--> <a href='file:///Users/ryan/github/lltk/notebooks/../lltk/corpus/corpus.py?line=421'>422</a>\u001b[0m \u001b[39melif\u001b[39;00m meta \u001b[39mand\u001b[39;00m is_text_obj(t): t\u001b[39m.\u001b[39;49mupdate(meta,_cache\u001b[39m=\u001b[39;49m\u001b[39mFalse\u001b[39;49;00m)\n\u001b[1;32m    <a href='file:///Users/ryan/github/lltk/notebooks/../lltk/corpus/corpus.py?line=423'>424</a>\u001b[0m \u001b[39m# Fail?\u001b[39;00m\n\u001b[1;32m    <a href='file:///Users/ryan/github/lltk/notebooks/../lltk/corpus/corpus.py?line=424'>425</a>\u001b[0m \u001b[39mif\u001b[39;00m t \u001b[39mis\u001b[39;00m \u001b[39mNone\u001b[39;00m: \u001b[39mraise\u001b[39;00m CorpusTextException(\u001b[39m'\u001b[39m\u001b[39mCould not get or create text\u001b[39m\u001b[39m'\u001b[39m)\n",
      "File \u001b[0;32m~/github/lltk/notebooks/../lltk/text/text.py:156\u001b[0m, in \u001b[0;36mBaseText.update\u001b[0;34m(self, _cache, *metal, **metad)\u001b[0m\n\u001b[1;32m    <a href='file:///Users/ryan/github/lltk/notebooks/../lltk/text/text.py?line=153'>154</a>\u001b[0m imeta \u001b[39m=\u001b[39m [\u001b[39mself\u001b[39m\u001b[39m.\u001b[39m_meta] \u001b[39m+\u001b[39m \u001b[39mlist\u001b[39m(metal) \u001b[39m+\u001b[39m [metad]\n\u001b[1;32m    <a href='file:///Users/ryan/github/lltk/notebooks/../lltk/text/text.py?line=154'>155</a>\u001b[0m newmeta \u001b[39m=\u001b[39m \u001b[39mself\u001b[39m\u001b[39m.\u001b[39mensure_id(merge_dict(\u001b[39m*\u001b[39mimeta))\n\u001b[0;32m--> <a href='file:///Users/ryan/github/lltk/notebooks/../lltk/text/text.py?line=155'>156</a>\u001b[0m ddiff\u001b[39m=\u001b[39mdiffdict(\u001b[39mself\u001b[39;49m\u001b[39m.\u001b[39;49m_meta, newmeta)\n\u001b[1;32m    <a href='file:///Users/ryan/github/lltk/notebooks/../lltk/text/text.py?line=156'>157</a>\u001b[0m \u001b[39mif\u001b[39;00m ddiff:\n\u001b[1;32m    <a href='file:///Users/ryan/github/lltk/notebooks/../lltk/text/text.py?line=157'>158</a>\u001b[0m     \u001b[39mif\u001b[39;00m log\u001b[39m>\u001b[39m\u001b[39m0\u001b[39m: log(pf(\u001b[39m'\u001b[39m\u001b[39mMetadata updated:\u001b[39m\u001b[39m'\u001b[39m,ddiff))\n",
      "File \u001b[0;32m~/github/lltk/notebooks/../lltk/tools/tools.py:75\u001b[0m, in \u001b[0;36mdiffdict\u001b[0;34m(d1, d2, verbose, type_changes)\u001b[0m\n\u001b[1;32m     <a href='file:///Users/ryan/github/lltk/notebooks/../lltk/tools/tools.py?line=72'>73</a>\u001b[0m \u001b[39mdef\u001b[39;00m \u001b[39mdiffdict\u001b[39m(d1,d2,verbose\u001b[39m=\u001b[39m\u001b[39m1\u001b[39m,type_changes\u001b[39m=\u001b[39m\u001b[39mFalse\u001b[39;00m):\n\u001b[1;32m     <a href='file:///Users/ryan/github/lltk/notebooks/../lltk/tools/tools.py?line=73'>74</a>\u001b[0m     \u001b[39mfrom\u001b[39;00m \u001b[39mdeepdiff\u001b[39;00m \u001b[39mimport\u001b[39;00m DeepDiff\n\u001b[0;32m---> <a href='file:///Users/ryan/github/lltk/notebooks/../lltk/tools/tools.py?line=74'>75</a>\u001b[0m     ddiff\u001b[39m=\u001b[39mDeepDiff(d1,d2,verbose_level\u001b[39m=\u001b[39;49mverbose)\u001b[39m.\u001b[39mto_dict()\n\u001b[1;32m     <a href='file:///Users/ryan/github/lltk/notebooks/../lltk/tools/tools.py?line=75'>76</a>\u001b[0m     \u001b[39mif\u001b[39;00m \u001b[39mnot\u001b[39;00m type_changes \u001b[39mand\u001b[39;00m \u001b[39m'\u001b[39m\u001b[39mtype_changes\u001b[39m\u001b[39m'\u001b[39m \u001b[39min\u001b[39;00m ddiff: \u001b[39mdel\u001b[39;00m ddiff[\u001b[39m'\u001b[39m\u001b[39mtype_changes\u001b[39m\u001b[39m'\u001b[39m]\n\u001b[1;32m     <a href='file:///Users/ryan/github/lltk/notebooks/../lltk/tools/tools.py?line=76'>77</a>\u001b[0m     \u001b[39mreturn\u001b[39;00m ddiff\n",
      "File \u001b[0;32m~/miniforge3/lib/python3.9/site-packages/deepdiff/diff.py:301\u001b[0m, in \u001b[0;36mDeepDiff.__init__\u001b[0;34m(self, t1, t2, cache_purge_level, cache_size, cache_tuning_sample_size, custom_operators, cutoff_distance_for_pairs, cutoff_intersection_for_pairs, encodings, exclude_obj_callback, exclude_paths, exclude_regex_paths, exclude_types, get_deep_distance, group_by, hasher, hashes, ignore_encoding_errors, ignore_nan_inequality, ignore_numeric_type_changes, ignore_order, ignore_order_func, ignore_private_variables, ignore_string_case, ignore_string_type_changes, ignore_type_in_groups, ignore_type_subclasses, iterable_compare_func, log_frequency_in_sec, math_epsilon, max_diffs, max_passes, number_format_notation, number_to_string_func, progress_logger, report_repetition, significant_digits, truncate_datetime, verbose_level, view, _original_type, _parameters, _shared_parameters, **kwargs)\u001b[0m\n\u001b[1;32m    <a href='file:///Users/ryan/miniforge3/lib/python3.9/site-packages/deepdiff/diff.py?line=297'>298</a>\u001b[0m         \u001b[39mself\u001b[39m\u001b[39m.\u001b[39mtree[\u001b[39m'\u001b[39m\u001b[39mdeep_distance\u001b[39m\u001b[39m'\u001b[39m] \u001b[39m=\u001b[39m \u001b[39mself\u001b[39m\u001b[39m.\u001b[39m_get_rough_distance()\n\u001b[1;32m    <a href='file:///Users/ryan/miniforge3/lib/python3.9/site-packages/deepdiff/diff.py?line=299'>300</a>\u001b[0m     \u001b[39mself\u001b[39m\u001b[39m.\u001b[39mtree\u001b[39m.\u001b[39mremove_empty_keys()\n\u001b[0;32m--> <a href='file:///Users/ryan/miniforge3/lib/python3.9/site-packages/deepdiff/diff.py?line=300'>301</a>\u001b[0m     view_results \u001b[39m=\u001b[39m \u001b[39mself\u001b[39;49m\u001b[39m.\u001b[39;49m_get_view_results(\u001b[39mself\u001b[39;49m\u001b[39m.\u001b[39;49mview)\n\u001b[1;32m    <a href='file:///Users/ryan/miniforge3/lib/python3.9/site-packages/deepdiff/diff.py?line=301'>302</a>\u001b[0m     \u001b[39mself\u001b[39m\u001b[39m.\u001b[39mupdate(view_results)\n\u001b[1;32m    <a href='file:///Users/ryan/miniforge3/lib/python3.9/site-packages/deepdiff/diff.py?line=302'>303</a>\u001b[0m \u001b[39mfinally\u001b[39;00m:\n",
      "File \u001b[0;32m~/miniforge3/lib/python3.9/site-packages/deepdiff/diff.py:1365\u001b[0m, in \u001b[0;36mDeepDiff._get_view_results\u001b[0;34m(self, view)\u001b[0m\n\u001b[1;32m   <a href='file:///Users/ryan/miniforge3/lib/python3.9/site-packages/deepdiff/diff.py?line=1362'>1363</a>\u001b[0m     \u001b[39mpass\u001b[39;00m\n\u001b[1;32m   <a href='file:///Users/ryan/miniforge3/lib/python3.9/site-packages/deepdiff/diff.py?line=1363'>1364</a>\u001b[0m \u001b[39melif\u001b[39;00m view \u001b[39m==\u001b[39m TEXT_VIEW:\n\u001b[0;32m-> <a href='file:///Users/ryan/miniforge3/lib/python3.9/site-packages/deepdiff/diff.py?line=1364'>1365</a>\u001b[0m     result \u001b[39m=\u001b[39m TextResult(tree_results\u001b[39m=\u001b[39;49m\u001b[39mself\u001b[39;49m\u001b[39m.\u001b[39;49mtree, verbose_level\u001b[39m=\u001b[39;49m\u001b[39mself\u001b[39;49m\u001b[39m.\u001b[39;49mverbose_level)\n\u001b[1;32m   <a href='file:///Users/ryan/miniforge3/lib/python3.9/site-packages/deepdiff/diff.py?line=1365'>1366</a>\u001b[0m     result\u001b[39m.\u001b[39mremove_empty_keys()\n\u001b[1;32m   <a href='file:///Users/ryan/miniforge3/lib/python3.9/site-packages/deepdiff/diff.py?line=1366'>1367</a>\u001b[0m \u001b[39melif\u001b[39;00m view \u001b[39m==\u001b[39m DELTA_VIEW:\n",
      "File \u001b[0;32m~/miniforge3/lib/python3.9/site-packages/deepdiff/model.py:123\u001b[0m, in \u001b[0;36mTextResult.__init__\u001b[0;34m(self, tree_results, verbose_level)\u001b[0m\n\u001b[1;32m    <a href='file:///Users/ryan/miniforge3/lib/python3.9/site-packages/deepdiff/model.py?line=105'>106</a>\u001b[0m \u001b[39mself\u001b[39m\u001b[39m.\u001b[39mupdate({\n\u001b[1;32m    <a href='file:///Users/ryan/miniforge3/lib/python3.9/site-packages/deepdiff/model.py?line=106'>107</a>\u001b[0m     \u001b[39m\"\u001b[39m\u001b[39mtype_changes\u001b[39m\u001b[39m\"\u001b[39m: dict_(),\n\u001b[1;32m    <a href='file:///Users/ryan/miniforge3/lib/python3.9/site-packages/deepdiff/model.py?line=107'>108</a>\u001b[0m     \u001b[39m\"\u001b[39m\u001b[39mdictionary_item_added\u001b[39m\u001b[39m\"\u001b[39m: \u001b[39mself\u001b[39m\u001b[39m.\u001b[39m__set_or_dict(),\n\u001b[0;32m   (...)\u001b[0m\n\u001b[1;32m    <a href='file:///Users/ryan/miniforge3/lib/python3.9/site-packages/deepdiff/model.py?line=118'>119</a>\u001b[0m     \u001b[39m\"\u001b[39m\u001b[39mrepetition_change\u001b[39m\u001b[39m\"\u001b[39m: dict_()\n\u001b[1;32m    <a href='file:///Users/ryan/miniforge3/lib/python3.9/site-packages/deepdiff/model.py?line=119'>120</a>\u001b[0m })\n\u001b[1;32m    <a href='file:///Users/ryan/miniforge3/lib/python3.9/site-packages/deepdiff/model.py?line=121'>122</a>\u001b[0m \u001b[39mif\u001b[39;00m tree_results:\n\u001b[0;32m--> <a href='file:///Users/ryan/miniforge3/lib/python3.9/site-packages/deepdiff/model.py?line=122'>123</a>\u001b[0m     \u001b[39mself\u001b[39;49m\u001b[39m.\u001b[39;49m_from_tree_results(tree_results)\n",
      "File \u001b[0;32m~/miniforge3/lib/python3.9/site-packages/deepdiff/model.py:135\u001b[0m, in \u001b[0;36mTextResult._from_tree_results\u001b[0;34m(self, tree)\u001b[0m\n\u001b[1;32m    <a href='file:///Users/ryan/miniforge3/lib/python3.9/site-packages/deepdiff/model.py?line=128'>129</a>\u001b[0m \u001b[39m\"\"\"\u001b[39;00m\n\u001b[1;32m    <a href='file:///Users/ryan/miniforge3/lib/python3.9/site-packages/deepdiff/model.py?line=129'>130</a>\u001b[0m \u001b[39mPopulate this object by parsing an existing reference-style result dictionary.\u001b[39;00m\n\u001b[1;32m    <a href='file:///Users/ryan/miniforge3/lib/python3.9/site-packages/deepdiff/model.py?line=130'>131</a>\u001b[0m \u001b[39m:param tree: A TreeResult\u001b[39;00m\n\u001b[1;32m    <a href='file:///Users/ryan/miniforge3/lib/python3.9/site-packages/deepdiff/model.py?line=131'>132</a>\u001b[0m \u001b[39m:return:\u001b[39;00m\n\u001b[1;32m    <a href='file:///Users/ryan/miniforge3/lib/python3.9/site-packages/deepdiff/model.py?line=132'>133</a>\u001b[0m \u001b[39m\"\"\"\u001b[39;00m\n\u001b[1;32m    <a href='file:///Users/ryan/miniforge3/lib/python3.9/site-packages/deepdiff/model.py?line=133'>134</a>\u001b[0m \u001b[39mself\u001b[39m\u001b[39m.\u001b[39m_from_tree_type_changes(tree)\n\u001b[0;32m--> <a href='file:///Users/ryan/miniforge3/lib/python3.9/site-packages/deepdiff/model.py?line=134'>135</a>\u001b[0m \u001b[39mself\u001b[39;49m\u001b[39m.\u001b[39;49m_from_tree_default(tree, \u001b[39m'\u001b[39;49m\u001b[39mdictionary_item_added\u001b[39;49m\u001b[39m'\u001b[39;49m)\n\u001b[1;32m    <a href='file:///Users/ryan/miniforge3/lib/python3.9/site-packages/deepdiff/model.py?line=135'>136</a>\u001b[0m \u001b[39mself\u001b[39m\u001b[39m.\u001b[39m_from_tree_default(tree, \u001b[39m'\u001b[39m\u001b[39mdictionary_item_removed\u001b[39m\u001b[39m'\u001b[39m)\n\u001b[1;32m    <a href='file:///Users/ryan/miniforge3/lib/python3.9/site-packages/deepdiff/model.py?line=136'>137</a>\u001b[0m \u001b[39mself\u001b[39m\u001b[39m.\u001b[39m_from_tree_value_changed(tree)\n",
      "File \u001b[0;32m~/miniforge3/lib/python3.9/site-packages/deepdiff/model.py:152\u001b[0m, in \u001b[0;36mTextResult._from_tree_default\u001b[0;34m(self, tree, report_type)\u001b[0m\n\u001b[1;32m    <a href='file:///Users/ryan/miniforge3/lib/python3.9/site-packages/deepdiff/model.py?line=149'>150</a>\u001b[0m \u001b[39mdef\u001b[39;00m \u001b[39m_from_tree_default\u001b[39m(\u001b[39mself\u001b[39m, tree, report_type):\n\u001b[1;32m    <a href='file:///Users/ryan/miniforge3/lib/python3.9/site-packages/deepdiff/model.py?line=150'>151</a>\u001b[0m     \u001b[39mif\u001b[39;00m report_type \u001b[39min\u001b[39;00m tree:\n\u001b[0;32m--> <a href='file:///Users/ryan/miniforge3/lib/python3.9/site-packages/deepdiff/model.py?line=151'>152</a>\u001b[0m         \u001b[39mfor\u001b[39;00m change \u001b[39min\u001b[39;00m tree[report_type]:  \u001b[39m# report each change\u001b[39;00m\n\u001b[1;32m    <a href='file:///Users/ryan/miniforge3/lib/python3.9/site-packages/deepdiff/model.py?line=152'>153</a>\u001b[0m             \u001b[39m# determine change direction (added or removed)\u001b[39;00m\n\u001b[1;32m    <a href='file:///Users/ryan/miniforge3/lib/python3.9/site-packages/deepdiff/model.py?line=153'>154</a>\u001b[0m             \u001b[39m# Report t2 (the new one) whenever possible.\u001b[39;00m\n\u001b[1;32m    <a href='file:///Users/ryan/miniforge3/lib/python3.9/site-packages/deepdiff/model.py?line=154'>155</a>\u001b[0m             \u001b[39m# In cases where t2 doesn't exist (i.e. stuff removed), report t1.\u001b[39;00m\n\u001b[1;32m    <a href='file:///Users/ryan/miniforge3/lib/python3.9/site-packages/deepdiff/model.py?line=155'>156</a>\u001b[0m             \u001b[39mif\u001b[39;00m change\u001b[39m.\u001b[39mt2 \u001b[39mis\u001b[39;00m \u001b[39mnot\u001b[39;00m notpresent:\n\u001b[1;32m    <a href='file:///Users/ryan/miniforge3/lib/python3.9/site-packages/deepdiff/model.py?line=156'>157</a>\u001b[0m                 item \u001b[39m=\u001b[39m change\u001b[39m.\u001b[39mt2\n",
      "File \u001b[0;32m~/miniforge3/lib/python3.9/site-packages/ordered_set/__init__.py:310\u001b[0m, in \u001b[0;36mOrderedSet.__iter__\u001b[0;34m(self)\u001b[0m\n\u001b[1;32m    <a href='file:///Users/ryan/miniforge3/lib/python3.9/site-packages/ordered_set/__init__.py?line=303'>304</a>\u001b[0m \u001b[39mdef\u001b[39;00m \u001b[39m__iter__\u001b[39m(\u001b[39mself\u001b[39m) \u001b[39m-\u001b[39m\u001b[39m>\u001b[39m Iterator[T]:\n\u001b[1;32m    <a href='file:///Users/ryan/miniforge3/lib/python3.9/site-packages/ordered_set/__init__.py?line=304'>305</a>\u001b[0m     \u001b[39m\"\"\"\u001b[39;00m\n\u001b[1;32m    <a href='file:///Users/ryan/miniforge3/lib/python3.9/site-packages/ordered_set/__init__.py?line=305'>306</a>\u001b[0m \u001b[39m    Example:\u001b[39;00m\n\u001b[1;32m    <a href='file:///Users/ryan/miniforge3/lib/python3.9/site-packages/ordered_set/__init__.py?line=306'>307</a>\u001b[0m \u001b[39m        >>> list(iter(OrderedSet([1, 2, 3])))\u001b[39;00m\n\u001b[1;32m    <a href='file:///Users/ryan/miniforge3/lib/python3.9/site-packages/ordered_set/__init__.py?line=307'>308</a>\u001b[0m \u001b[39m        [1, 2, 3]\u001b[39;00m\n\u001b[1;32m    <a href='file:///Users/ryan/miniforge3/lib/python3.9/site-packages/ordered_set/__init__.py?line=308'>309</a>\u001b[0m \u001b[39m    \"\"\"\u001b[39;00m\n\u001b[0;32m--> <a href='file:///Users/ryan/miniforge3/lib/python3.9/site-packages/ordered_set/__init__.py?line=309'>310</a>\u001b[0m     \u001b[39mreturn\u001b[39;00m \u001b[39miter\u001b[39m(\u001b[39mself\u001b[39;49m\u001b[39m.\u001b[39;49mitems)\n",
      "\u001b[0;31mKeyboardInterrupt\u001b[0m: "
     ]
    }
   ],
   "source": [
    "\n",
    "\n",
    "# def init_db(self,progress=True,add=True,cache=False,force=False,**kwargs):\n",
    "#     iterr=self.dbmeta.get('ids',[])\n",
    "#     if progress: iterr=get_tqdm(iterr, desc=f'[{self.id}] loading text objects')\n",
    "#     for id in iterr:\n",
    "#         if log>0: log(id)\n",
    "#         # init text object from meta\n",
    "#         t = self.text(id=id,_add=add,_cache=cache,_force=force,_init=False)\n",
    "#         yield t\n",
    "\n",
    "\n",
    "\n",
    "\n",
    "\n",
    "\n",
    "\n",
    "# # BaseCorpus.init_db = init_db"
   ]
  },
  {
   "cell_type": "code",
   "execution_count": null,
   "metadata": {},
   "outputs": [],
   "source": []
  }
 ],
 "metadata": {
  "interpreter": {
   "hash": "99c3488a746bccd77b7949f8f419451e1c962da56ebbaaae6e4d2e6c8c07eaa0"
  },
  "kernelspec": {
   "display_name": "Python 3.9.7 ('base')",
   "language": "python",
   "name": "python3"
  },
  "language_info": {
   "codemirror_mode": {
    "name": "ipython",
    "version": 3
   },
   "file_extension": ".py",
   "mimetype": "text/x-python",
   "name": "python",
   "nbconvert_exporter": "python",
   "pygments_lexer": "ipython3",
   "version": "3.9.7"
  },
  "orig_nbformat": 4
 },
 "nbformat": 4,
 "nbformat_minor": 2
}

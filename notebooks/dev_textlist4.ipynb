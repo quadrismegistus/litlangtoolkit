{
 "cells": [
  {
   "cell_type": "code",
   "execution_count": 1,
   "id": "b036aeaa-6e66-4db1-8d4a-ba659dca70eb",
   "metadata": {
    "tags": []
   },
   "outputs": [],
   "source": [
    "import sys; sys.path.insert(0,'..')\n",
    "import lltk"
   ]
  },
  {
   "cell_type": "code",
   "execution_count": 2,
   "id": "82e4f0c1",
   "metadata": {},
   "outputs": [],
   "source": [
    "# lltk.sync('markmark,chadwyck,chicago,gildedage,txtlab')"
   ]
  },
  {
   "cell_type": "code",
   "execution_count": 3,
   "id": "9dbb6dce",
   "metadata": {},
   "outputs": [],
   "source": [
    "with lltk.log:\n",
    "    texts = lltk.search(au=\"Austen\")\n",
    "    texts"
   ]
  },
  {
   "cell_type": "code",
   "execution_count": null,
   "id": "d9afbcfa",
   "metadata": {},
   "outputs": [],
   "source": []
  },
  {
   "cell_type": "code",
   "execution_count": null,
   "id": "b764971a",
   "metadata": {},
   "outputs": [],
   "source": []
  },
  {
   "cell_type": "code",
   "execution_count": null,
   "id": "75ac31f3",
   "metadata": {},
   "outputs": [],
   "source": []
  },
  {
   "cell_type": "code",
   "execution_count": 3,
   "id": "16340831-4114-49fa-8f78-67ea6f5f36cc",
   "metadata": {},
   "outputs": [
    {
     "data": {
      "text/plain": [
       "17359"
      ]
     },
     "execution_count": 3,
     "metadata": {},
     "output_type": "execute_result"
    }
   ],
   "source": [
    "len(addrs)"
   ]
  },
  {
   "cell_type": "code",
   "execution_count": 4,
   "id": "759b0d12-4fb1-486e-9f06-a746b65a64db",
   "metadata": {},
   "outputs": [],
   "source": [
    "def minhash(addr): \n",
    "    from lltk import Text\n",
    "    return Text(addr).minhash()"
   ]
  },
  {
   "cell_type": "code",
   "execution_count": 5,
   "id": "d4a981c8-b539-4e26-85ee-ae1816652096",
   "metadata": {},
   "outputs": [],
   "source": [
    "# from lltk import pmap\n",
    "# pmap(minhash, addrs, num_proc=4)\n",
    "from joblib import Parallel, delayed"
   ]
  },
  {
   "cell_type": "code",
   "execution_count": 6,
   "id": "8974a6da-13a1-41d2-a296-fa93c7f36849",
   "metadata": {},
   "outputs": [
    {
     "data": {
      "application/vnd.jupyter.widget-view+json": {
       "model_id": "427f3333d3a4454898fb22d695676568",
       "version_major": 2,
       "version_minor": 0
      },
      "text/plain": [
       "  0%|          | 0/17359 [00:00<?, ?it/s]"
      ]
     },
     "metadata": {},
     "output_type": "display_data"
    }
   ],
   "source": [
    "with tqdm_joblib(get_tqdm(addrs)):\n",
    "    Parallel(n_jobs=4)(delayed(minhash)(x) for x in addrs )"
   ]
  },
  {
   "cell_type": "code",
   "execution_count": 8,
   "id": "2b0f911e-7662-4a62-bbab-ff7746e85f5b",
   "metadata": {},
   "outputs": [],
   "source": [
    "# from joblib import Parallel, delayed\n",
    "# from lltk import get_tqdm\n",
    "\n",
    "\n",
    "# Parallel(n_jobs=8)(delayed(minhash)(x) for x in get_tqdm(addrs) )"
   ]
  },
  {
   "cell_type": "code",
   "execution_count": null,
   "id": "aad95585-e03b-4c4d-ae81-9777dc7fa678",
   "metadata": {},
   "outputs": [],
   "source": []
  },
  {
   "cell_type": "code",
   "execution_count": 9,
   "id": "ce67c587-f302-4d8c-81d8-0bb47a5999cb",
   "metadata": {},
   "outputs": [
    {
     "ename": "NameError",
     "evalue": "name 'tl' is not defined",
     "output_type": "error",
     "traceback": [
      "\u001b[0;31m---------------------------------------------------------------------------\u001b[0m",
      "\u001b[0;31mNameError\u001b[0m                                 Traceback (most recent call last)",
      "Input \u001b[0;32mIn [9]\u001b[0m, in \u001b[0;36m<cell line: 1>\u001b[0;34m()\u001b[0m\n\u001b[0;32m----> 1\u001b[0m \u001b[43mtl\u001b[49m\n",
      "\u001b[0;31mNameError\u001b[0m: name 'tl' is not defined"
     ]
    }
   ],
   "source": [
    "tl"
   ]
  },
  {
   "cell_type": "code",
   "execution_count": null,
   "id": "4927fc75-f557-4641-ad7c-3fee9fe7d6b3",
   "metadata": {},
   "outputs": [],
   "source": []
  },
  {
   "cell_type": "code",
   "execution_count": null,
   "id": "0d078e34-5994-47b4-a25a-2796eff18019",
   "metadata": {},
   "outputs": [],
   "source": []
  },
  {
   "cell_type": "code",
   "execution_count": null,
   "id": "924973e8-51ca-4c94-9cd9-5689e340e66b",
   "metadata": {},
   "outputs": [],
   "source": []
  }
 ],
 "metadata": {
  "interpreter": {
   "hash": "99c3488a746bccd77b7949f8f419451e1c962da56ebbaaae6e4d2e6c8c07eaa0"
  },
  "kernelspec": {
   "display_name": "Python 3.9.7 ('base')",
   "language": "python",
   "name": "python3"
  },
  "language_info": {
   "codemirror_mode": {
    "name": "ipython",
    "version": 3
   },
   "file_extension": ".py",
   "mimetype": "text/x-python",
   "name": "python",
   "nbconvert_exporter": "python",
   "pygments_lexer": "ipython3",
   "version": "3.9.7"
  }
 },
 "nbformat": 4,
 "nbformat_minor": 5
}

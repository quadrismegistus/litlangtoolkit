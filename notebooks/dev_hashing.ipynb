{
 "cells": [
  {
   "cell_type": "code",
   "execution_count": 1,
   "metadata": {},
   "outputs": [
    {
     "data": {
      "text/plain": [
       "False"
      ]
     },
     "execution_count": 1,
     "metadata": {},
     "output_type": "execute_result"
    }
   ],
   "source": [
    "import sys; sys.path.insert(0,'../../yapmap')\n",
    "import sys; sys.path.insert(0,'..')\n",
    "from lltk import *\n",
    "from lltk.tools.db import *\n",
    "is_logged_on()"
   ]
  },
  {
   "cell_type": "code",
   "execution_count": null,
   "metadata": {},
   "outputs": [],
   "source": []
  },
  {
   "cell_type": "code",
   "execution_count": 12,
   "metadata": {},
   "outputs": [
    {
     "data": {
      "application/vnd.jupyter.widget-view+json": {
       "model_id": "15aaaef3f8f64b119fa21a18543175f5",
       "version_major": 2,
       "version_minor": 0
      },
      "text/plain": [
       "[MarkMark] Loading corpus:   0%|          | 0/384 [00:00<?, ?it/s]"
      ]
     },
     "metadata": {},
     "output_type": "display_data"
    },
    {
     "data": {
      "application/vnd.jupyter.widget-view+json": {
       "model_id": "59943817c47f4becb208559f76cd7648",
       "version_major": 2,
       "version_minor": 0
      },
      "text/plain": [
       "[CanonFiction] Loading corpus:   0%|          | 0/1847 [00:00<?, ?it/s]"
      ]
     },
     "metadata": {},
     "output_type": "display_data"
    }
   ],
   "source": [
    "woolfs = Corpus('chicago').au.Woolf.ti + Corpus('markmark').au.Woolf.ti + Corpus('canon_fiction').au.Woolf.ti"
   ]
  },
  {
   "cell_type": "code",
   "execution_count": 13,
   "metadata": {},
   "outputs": [
    {
     "data": {
      "text/plain": [
       "[(_chicago/00004882),\n",
       " (_chicago/00011024),\n",
       " (_chicago/00011030),\n",
       " (_chicago/00011042),\n",
       " (_chicago/00011048),\n",
       " (_chicago/00011060),\n",
       " (_chicago/00011072),\n",
       " (_chicago/00011241),\n",
       " (_markmark/Woolf,_Virginia.Mrs._Dalloway),\n",
       " (_markmark/Woolf,_Virginia.Orlando),\n",
       " (_markmark/Woolf,_Virginia.To_The_Lighthouse),\n",
       " (_canon_fiction/Woolf.Waves),\n",
       " (_canon_fiction/markmark.Woolf.Mrs_Dalloway.1676),\n",
       " (_canon_fiction/markmark.Woolf.Orlando_A_Biography.1677),\n",
       " (_canon_fiction/markmark.Woolf.To_the_Lighthouse.1678)]"
      ]
     },
     "execution_count": 13,
     "metadata": {},
     "output_type": "execute_result"
    }
   ],
   "source": [
    "woolfs"
   ]
  },
  {
   "cell_type": "code",
   "execution_count": null,
   "metadata": {},
   "outputs": [],
   "source": []
  },
  {
   "cell_type": "code",
   "execution_count": null,
   "metadata": {},
   "outputs": [],
   "source": []
  },
  {
   "cell_type": "code",
   "execution_count": null,
   "metadata": {},
   "outputs": [],
   "source": []
  },
  {
   "cell_type": "code",
   "execution_count": null,
   "metadata": {},
   "outputs": [],
   "source": []
  },
  {
   "cell_type": "code",
   "execution_count": 7,
   "metadata": {},
   "outputs": [
    {
     "data": {
      "application/vnd.jupyter.widget-view+json": {
       "model_id": "6af3b60f64b54d34a3d9abe8e757de24",
       "version_major": 2,
       "version_minor": 0
      },
      "text/plain": [
       "[MarkMark] Loading corpus:   0%|          | 0/384 [00:00<?, ?it/s]"
      ]
     },
     "metadata": {},
     "output_type": "display_data"
    },
    {
     "data": {
      "text/plain": [
       "(_markmark/Clancy,_Tom.Clear_and_Present_Danger)"
      ]
     },
     "execution_count": 7,
     "metadata": {},
     "output_type": "execute_result"
    }
   ],
   "source": [
    "# log_on()\n",
    "\n",
    "t1=Text(title=\"Neuromancer\", author=\"Gibson\")\n",
    "t2=Text(\"_markmark/Gibson,_William.Neuromancer\")\n",
    "t3=Text(\"_canon_fiction/markmark.Gibson.Neuromancer.1462\")\n",
    "t4 = Corpus('markmark').t\n",
    "t4"
   ]
  },
  {
   "cell_type": "code",
   "execution_count": 8,
   "metadata": {},
   "outputs": [
    {
     "data": {
      "text/plain": [
       "(1.0, 1.0, 0.21875)"
      ]
     },
     "execution_count": 8,
     "metadata": {},
     "output_type": "execute_result"
    }
   ],
   "source": [
    "t2.hashdist(t3), t3.hashdist(t2), t2.hashdist(t4)"
   ]
  },
  {
   "cell_type": "code",
   "execution_count": null,
   "metadata": {},
   "outputs": [],
   "source": [
    "tX = "
   ]
  },
  {
   "cell_type": "code",
   "execution_count": 5,
   "metadata": {},
   "outputs": [],
   "source": [
    "# t1.matchgraph()"
   ]
  },
  {
   "cell_type": "code",
   "execution_count": null,
   "metadata": {},
   "outputs": [],
   "source": []
  },
  {
   "cell_type": "code",
   "execution_count": 6,
   "metadata": {},
   "outputs": [],
   "source": [
    "# # !pip install datasketch\n",
    "# from datasketch import MinHash,LeanMinHash\n",
    "\n",
    "# data1,data2 = t2.words, t3.words\n",
    "\n",
    "# m1, m2 = MinHash(), MinHash()\n",
    "# for d in get_tqdm(data1): m1.update(d.encode('utf8'))\n",
    "# for d in get_tqdm(data2): m2.update(d.encode('utf8'))\n",
    "# print(\"Estimated Jaccard for data1 and data2 is\", m1.jaccard(m2))\n",
    "\n",
    "# s1 = set(data1)\n",
    "# s2 = set(data2)\n",
    "# actual_jaccard = float(len(s1.intersection(s2)))/float(len(s1.union(s2)))\n",
    "# print(\"Actual Jaccard for data1 and data2 is\", actual_jaccard)\n",
    "\n",
    "# lm1=LeanMinHash(m1)\n",
    "# lm2=LeanMinHash(m2)"
   ]
  }
 ],
 "metadata": {
  "interpreter": {
   "hash": "99c3488a746bccd77b7949f8f419451e1c962da56ebbaaae6e4d2e6c8c07eaa0"
  },
  "kernelspec": {
   "display_name": "Python 3 (ipykernel)",
   "language": "python",
   "name": "python3"
  },
  "language_info": {
   "codemirror_mode": {
    "name": "ipython",
    "version": 3
   },
   "file_extension": ".py",
   "mimetype": "text/x-python",
   "name": "python",
   "nbconvert_exporter": "python",
   "pygments_lexer": "ipython3",
   "version": "3.9.7"
  }
 },
 "nbformat": 4,
 "nbformat_minor": 4
}

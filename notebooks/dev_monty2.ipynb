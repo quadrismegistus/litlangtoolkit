{
 "cells": [
  {
   "cell_type": "code",
   "execution_count": 4,
   "id": "30b9b927-ae33-41bc-a089-ef1cc701fa3d",
   "metadata": {},
   "outputs": [],
   "source": [
    "import sys; sys.path.insert(0,'..')\n",
    "from lltk import *\n"
   ]
  },
  {
   "cell_type": "code",
   "execution_count": 2,
   "id": "6ecb7426-3ff9-40cf-b9a7-2521a0f8bf61",
   "metadata": {},
   "outputs": [],
   "source": [
    "mdb=LLTK.mdb\n",
    "C=LLTK('chadwyck')"
   ]
  },
  {
   "cell_type": "code",
   "execution_count": 3,
   "id": "9effb93d-e9e6-47eb-a5ab-68ef9a02e424",
   "metadata": {},
   "outputs": [
    {
     "data": {
      "application/vnd.jupyter.widget-view+json": {
       "model_id": "dd41f2d614674d68bac00b27e8abb8ad",
       "version_major": 2,
       "version_minor": 0
      },
      "text/plain": [
       "[Chadwyck] Syncing texts to db:   0%|          | 0/1337 [00:00<?, ?it/s]"
      ]
     },
     "metadata": {},
     "output_type": "display_data"
    }
   ],
   "source": [
    "ld = C.sync()"
   ]
  },
  {
   "cell_type": "code",
   "execution_count": 10,
   "id": "45da6c69-24bf-488d-82ef-086101721946",
   "metadata": {},
   "outputs": [],
   "source": [
    "# C.sync()"
   ]
  },
  {
   "cell_type": "code",
   "execution_count": 14,
   "id": "0cc8a9bf-5f89-4162-b5ca-685acddc3912",
   "metadata": {},
   "outputs": [
    {
     "data": {
      "text/plain": [
       "<montydb.cursor.MontyCursor at 0x28c1e8610>"
      ]
     },
     "execution_count": 14,
     "metadata": {},
     "output_type": "execute_result"
    }
   ],
   "source": [
    "mdb.where(_corpus='chadwyck')"
   ]
  },
  {
   "cell_type": "code",
   "execution_count": null,
   "id": "f87e709e-c4ce-447b-b8a3-7f97beef12de",
   "metadata": {},
   "outputs": [],
   "source": []
  },
  {
   "cell_type": "code",
   "execution_count": null,
   "id": "5c7fb2a4-51fb-4c9a-9885-d04c1bad50bc",
   "metadata": {},
   "outputs": [],
   "source": []
  },
  {
   "cell_type": "code",
   "execution_count": null,
   "id": "93b47093-4e44-4884-9812-49832c30e694",
   "metadata": {},
   "outputs": [],
   "source": [
    "mdb.set('hello',{'a':1, 'c':5})"
   ]
  },
  {
   "cell_type": "code",
   "execution_count": null,
   "id": "dd95abd9-07d2-4bca-ab1c-93a1acf53da1",
   "metadata": {},
   "outputs": [],
   "source": [
    "mdb.get('hello')"
   ]
  },
  {
   "cell_type": "code",
   "execution_count": null,
   "id": "2c875b75-acf7-4373-9548-baaba5e50b1f",
   "metadata": {},
   "outputs": [],
   "source": [
    "list(mdb.get(a={'$gt':0}))"
   ]
  },
  {
   "cell_type": "code",
   "execution_count": null,
   "id": "1e56c87e-19ba-414d-9447-a82a8c304572",
   "metadata": {},
   "outputs": [],
   "source": [
    "list(mdb.get(_corpus='chadwyck'))"
   ]
  },
  {
   "cell_type": "code",
   "execution_count": null,
   "id": "994f373a-064a-4993-bb4b-1da84e849e99",
   "metadata": {},
   "outputs": [],
   "source": []
  },
  {
   "cell_type": "code",
   "execution_count": 11,
   "id": "ed7de761-801f-471b-a28b-b74c01afaec1",
   "metadata": {},
   "outputs": [
    {
     "data": {
      "text/plain": [
       "('Early_English_Prose_Fiction/ee12010.02',\n",
       " {'author': 'Belon, P. (Peter)',\n",
       "  'idref': 'Z200025432',\n",
       "  'medium': 'Fiction',\n",
       "  'name': 'Title Page',\n",
       "  'nation': 'British',\n",
       "  'pub': 'Printed for the Author, & are sold by A. Banks and C. Harper [etc.]',\n",
       "  'subcorpus': 'Early_English_Prose_Fiction',\n",
       "  'title': 'A Relation of the Country of Jansenia (1668)',\n",
       "  'type': 'BOOK',\n",
       "  'year': '1668'})"
      ]
     },
     "execution_count": 11,
     "metadata": {},
     "output_type": "execute_result"
    }
   ],
   "source": [
    "for d in Corpus('chadwyck').init_meta(): pass\n",
    "d"
   ]
  },
  {
   "cell_type": "code",
   "execution_count": null,
   "id": "563a4210-a21b-42cc-9323-654a8c8e5bd2",
   "metadata": {},
   "outputs": [],
   "source": [
    "ld"
   ]
  },
  {
   "cell_type": "code",
   "execution_count": null,
   "id": "9e4802b3-9d59-4c2f-84ec-959c2691716f",
   "metadata": {},
   "outputs": [],
   "source": []
  }
 ],
 "metadata": {
  "kernelspec": {
   "display_name": "Python 3 (ipykernel)",
   "language": "python",
   "name": "python3"
  },
  "language_info": {
   "codemirror_mode": {
    "name": "ipython",
    "version": 3
   },
   "file_extension": ".py",
   "mimetype": "text/x-python",
   "name": "python",
   "nbconvert_exporter": "python",
   "pygments_lexer": "ipython3",
   "version": "3.9.7"
  }
 },
 "nbformat": 4,
 "nbformat_minor": 5
}

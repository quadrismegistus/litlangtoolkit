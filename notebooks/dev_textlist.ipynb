{
 "cells": [
  {
   "cell_type": "code",
   "execution_count": 1,
   "id": "b036aeaa-6e66-4db1-8d4a-ba659dca70eb",
   "metadata": {},
   "outputs": [],
   "source": [
    "import sys; sys.path.insert(0,'../../yapmap')\n",
    "import sys; sys.path.insert(0,'..')\n",
    "from lltk import *\n",
    "\n",
    "\n",
    "# for c in ['chadwyck','chicago','markmark','gildedage','txtlab']: LLTK(C=c).sync()\n",
    "\n",
    "C=Corpus('chicago')"
   ]
  },
  {
   "cell_type": "code",
   "execution_count": 2,
   "id": "5c7f2a0c-aca1-4d6e-91bd-39a23f3f03b6",
   "metadata": {},
   "outputs": [],
   "source": [
    "# C.mdb.get(_corpus='chicago')"
   ]
  },
  {
   "cell_type": "code",
   "execution_count": 3,
   "id": "fcb0a5b3-22bb-4289-abfe-66a9d5cd13f4",
   "metadata": {},
   "outputs": [
    {
     "data": {
      "application/vnd.jupyter.widget-view+json": {
       "model_id": "8b4d52f54cd24deb8292da1a0b6fad10",
       "version_major": 2,
       "version_minor": 0
      },
      "text/plain": [
       "[chicago] init:   0%|          | 0/9089 [00:00<?, ?it/s]"
      ]
     },
     "metadata": {},
     "output_type": "display_data"
    }
   ],
   "source": [
    "texts = C.init()"
   ]
  },
  {
   "cell_type": "code",
   "execution_count": 5,
   "id": "83a8b4dd-3e9e-4ac0-91a1-d0932209e265",
   "metadata": {},
   "outputs": [
    {
     "data": {
      "application/vnd.jupyter.widget-view+json": {
       "model_id": "52e0c01f0de74f54aba79a554ab80f28",
       "version_major": 2,
       "version_minor": 0
      },
      "text/plain": [
       "[LLTK] loading:   0%|          | 0/51 [00:00<?, ?it/s]"
      ]
     },
     "metadata": {},
     "output_type": "display_data"
    },
    {
     "data": {
      "application/vnd.jupyter.widget-view+json": {
       "model_id": "2a8d952c28064b55bfe203a4e7cfe7be",
       "version_major": 2,
       "version_minor": 0
      },
      "text/plain": [
       "[LLTK] filtering texts:   0%|          | 0/32 [00:00<?, ?it/s]"
      ]
     },
     "metadata": {},
     "output_type": "display_data"
    },
    {
     "data": {
      "application/vnd.jupyter.widget-view+json": {
       "model_id": "d0d63f6a1c824f359beca03974e522b3",
       "version_major": 2,
       "version_minor": 0
      },
      "text/plain": [
       "[LLTK] preparing texts:   0%|          | 0/32 [00:00<?, ?it/s]"
      ]
     },
     "metadata": {},
     "output_type": "display_data"
    },
    {
     "data": {
      "application/vnd.jupyter.widget-view+json": {
       "model_id": "8e030b59c7de4204b7697dee2176d2e1",
       "version_major": 2,
       "version_minor": 0
      },
      "text/plain": [
       "Adding matches: 0it [00:00, ?it/s]"
      ]
     },
     "metadata": {},
     "output_type": "display_data"
    },
    {
     "data": {
      "application/vnd.jupyter.widget-view+json": {
       "model_id": "ecf49f001508497790d412a1997b0a1d",
       "version_major": 2,
       "version_minor": 0
      },
      "text/plain": [
       "[LLTK] preparing texts:   0%|          | 0/32 [00:00<?, ?it/s]"
      ]
     },
     "metadata": {},
     "output_type": "display_data"
    },
    {
     "data": {
      "application/vnd.jupyter.widget-view+json": {
       "model_id": "236559ed616a456ab14c4c0a3814d044",
       "version_major": 2,
       "version_minor": 0
      },
      "text/plain": [
       "Matching texts:   0%|          | 0/9 [00:00<?, ?it/s]"
      ]
     },
     "metadata": {},
     "output_type": "display_data"
    },
    {
     "data": {
      "application/vnd.jupyter.widget-view+json": {
       "model_id": "d1852d4b1e644c8596e7417bd67d3579",
       "version_major": 2,
       "version_minor": 0
      },
      "text/plain": [
       "[LLTK] filtering texts:   0%|          | 0/32 [00:00<?, ?it/s]"
      ]
     },
     "metadata": {},
     "output_type": "display_data"
    },
    {
     "name": "stderr",
     "output_type": "stream",
     "text": [
      "[22:25:10] lltk.text.text.\u001b[34m\u001b[1mText\u001b[0m( \u001b[36m<- addr = _chadwyck/Nineteenth-Century_Fiction/ncf0204.06\u001b[0m )\n",
      "[22:25:10] lltk.text.text.\u001b[34m\u001b[1mText\u001b[0m( \u001b[36m<- addr = _chadwyck/Nineteenth-Century_Fiction/ncf0204.01\u001b[0m )\n",
      "[22:25:10] lltk.text.text.\u001b[34m\u001b[1mText\u001b[0m( \u001b[36m<- addr = _chadwyck/Nineteenth-Century_Fiction/ncf0204.04\u001b[0m )\n",
      "[22:25:10] lltk.text.text.\u001b[34m\u001b[1mText\u001b[0m( \u001b[36m<- addr = _chadwyck/Nineteenth-Century_Fiction/ncf0204.02\u001b[0m )\n",
      "[22:25:10] lltk.text.text.\u001b[34m\u001b[1mText\u001b[0m( \u001b[36m<- addr = _chadwyck/Nineteenth-Century_Fiction/ncf0204.05\u001b[0m )\n",
      "[22:25:10] lltk.text.text.\u001b[34m\u001b[1mText\u001b[0m( \u001b[36m<- addr = _chadwyck/Nineteenth-Century_Fiction/ncf0204.07\u001b[0m )\n",
      "[22:25:10] lltk.text.text.\u001b[34m\u001b[1mText\u001b[0m( \u001b[36m<- addr = _chadwyck/Nineteenth-Century_Fiction/ncf0204.09\u001b[0m )\n",
      "[22:25:10] lltk.text.text.\u001b[34m\u001b[1mText\u001b[0m( \u001b[36m<- addr = _chadwyck/Nineteenth-Century_Fiction/ncf0204.08\u001b[0m )\n",
      "[22:25:10] lltk.text.text.\u001b[34m\u001b[1mText\u001b[0m( \u001b[36m<- addr = _chadwyck/Nineteenth-Century_Fiction/ncf0204.03\u001b[0m )\n",
      "[22:25:10] lltk.text.text.\u001b[34m\u001b[1mText\u001b[0m( \u001b[36m<- addr = _goodreads/23006969-colecci-n-integral-de-jane-austen-emma-lady-susan-mansfield-park-org\u001b[0m )\n",
      "[22:25:10] lltk.text.text.\u001b[34m\u001b[1mText\u001b[0m( \u001b[36m<- addr = _goodreads/8808246-complete-works-of-jane-austen---emma-lady-susan-mansfield-park-northa\u001b[0m )\n",
      "[22:25:10] lltk.text.text.\u001b[34m\u001b[1mText\u001b[0m( \u001b[36m<- addr = _goodreads/50396.Northanger_Abbey_Lady_Susan_The_Watsons_Sanditon\u001b[0m )\n",
      "[22:25:10] lltk.text.text.\u001b[34m\u001b[1mText\u001b[0m( \u001b[36m<- addr = _goodreads/35581430-the-complete-works-of-jane-austen-in-one-volume-sense-and-sensibility\u001b[0m )\n",
      "[22:25:10] lltk.text.text.\u001b[34m\u001b[1mText\u001b[0m( \u001b[36m<- addr = _goodreads/91918.The_Complete_Novels_of_Jane_Austen_Volume_II_\u001b[0m )\n",
      "[22:25:10] lltk.text.text.\u001b[34m\u001b[1mText\u001b[0m( \u001b[36m<- addr = _goodreads/22269967-mansfield-park-and-lady-susan\u001b[0m )\n",
      "[22:25:10] lltk.text.text.\u001b[34m\u001b[1mText\u001b[0m( \u001b[36m<- addr = _goodreads/22270208-northanger-abbey-and-lady-susan\u001b[0m )\n",
      "[22:25:10] lltk.text.text.\u001b[34m\u001b[1mText\u001b[0m( \u001b[36m<- addr = _goodreads/20982583-persuasion-lady-susan\u001b[0m )\n",
      "[22:25:10] lltk.text.text.\u001b[34m\u001b[1mText\u001b[0m( \u001b[36m<- addr = _goodreads/12830646-jane-austen-collection\u001b[0m )\n",
      "[22:25:10] lltk.text.text.\u001b[34m\u001b[1mText\u001b[0m( \u001b[36m<- addr = _goodreads/8604908-sanditon-lady-susan-the-history-of-england\u001b[0m )\n",
      "[22:25:10] lltk.text.text.\u001b[34m\u001b[1mText\u001b[0m( \u001b[36m<- addr = _goodreads/11977652-jane-austen-collection-1-persuasion-lady-susan-mansfield-park-north\u001b[0m )\n",
      "[22:25:10] lltk.text.text.\u001b[34m\u001b[1mText\u001b[0m( \u001b[36m<- addr = _goodreads/166176.Jane_Austen_Romans_Tome_2\u001b[0m )\n",
      "[22:25:10] lltk.text.text.\u001b[34m\u001b[1mText\u001b[0m( \u001b[36m<- addr = _goodreads/18002566-lady-susan-and-other-works\u001b[0m )\n",
      "[22:25:10] lltk.text.text.\u001b[34m\u001b[1mText\u001b[0m( \u001b[36m<- addr = _goodreads/45551870-lady-susan-the-watsons\u001b[0m )\n",
      "[22:25:10] lltk.text.text.\u001b[34m\u001b[1mText\u001b[0m( \u001b[36m<- addr = _goodreads/166180.Sanditon_and_The_Watsons\u001b[0m )\n",
      "[22:25:10] lltk.text.text.\u001b[34m\u001b[1mText\u001b[0m( \u001b[36m<- addr = _goodreads/10358081-sanditon-and-a-memoir-of-jane-austen\u001b[0m )\n",
      "[22:25:10] lltk.text.text.\u001b[34m\u001b[1mText\u001b[0m( \u001b[36m<- addr = _goodreads/1912487.Persuasi_n_Sanditon\u001b[0m )\n",
      "[22:25:10] lltk.text.text.\u001b[34m\u001b[1mText\u001b[0m( \u001b[36m<- addr = _goodreads/1880157.The_Watsons\u001b[0m )\n",
      "[22:25:10] lltk.text.text.\u001b[34m\u001b[1mText\u001b[0m( \u001b[36m<- addr = _goodreads/26100486-jane-austen-juvenilia-and-short-stories\u001b[0m )\n",
      "[22:25:10] lltk.text.text.\u001b[34m\u001b[1mText\u001b[0m( \u001b[36m<- addr = _goodreads/17377244-the-watsons-and-a-memoir-of-jane-austen\u001b[0m )\n",
      "[22:25:10] lltk.text.text.\u001b[34m\u001b[1mText\u001b[0m( \u001b[36m<- addr = _txtlab/EN_1811_Austen,Jane_SenseandSensibility_Novel\u001b[0m )\n",
      "[22:25:10] lltk.text.text.\u001b[34m\u001b[1mText\u001b[0m( \u001b[36m<- addr = _txtlab/EN_1813_Austen,Jane_PrideandPrejudice_Novel\u001b[0m )\n",
      "[22:25:10] lltk.text.text.\u001b[34m\u001b[1mText\u001b[0m( \u001b[36m<- addr = _txtlab/EN_1814_Austen,Jane_MansfieldPark_Novel\u001b[0m )\n"
     ]
    }
   ],
   "source": [
    "tl=LLTK(author=\"Jane Austen\")\n",
    "with LLTK:\n",
    "    tl.find_matches_by_title()\n",
    "    tl.find_matches_by_hash()\n",
    "    tl.filter_uniq()\n",
    "    tl.data"
   ]
  },
  {
   "cell_type": "code",
   "execution_count": 15,
   "id": "dc0c3a67-0620-4909-a3bc-fc2e6ea6b1a4",
   "metadata": {},
   "outputs": [
    {
     "data": {
      "application/vnd.jupyter.widget-view+json": {
       "model_id": "38e1cb72fd0c48eb972b2f063d77c9e3",
       "version_major": 2,
       "version_minor": 0
      },
      "text/plain": [
       "[LLTK] filtering texts:   0%|          | 0/97 [00:00<?, ?it/s]"
      ]
     },
     "metadata": {},
     "output_type": "display_data"
    },
    {
     "data": {
      "text/plain": [
       "TextList([James, CONFIDENCE (_chicago/00000037) [5 srcs],\n",
       "          James, A BUNDLE OF LETTERS (_chicago/00000038) [4 srcs],\n",
       "          James, THE DIARY OF A MAN OF FIFTY (_chicago/00000039) [3 srcs],\n",
       "          James, THE PORTRAIT OF A LADY (_markmark/James,_Henry.The_Portrait_of_a_Lady) [6 srcs],\n",
       "          James, RODERICK HUDSON (_chicago/00000130) [4 srcs],\n",
       "          James, THE BOSTONIANS (_markmark/James,_Henry.The_Bostonians) [7 srcs],\n",
       "          James, THE ASPERN PAPERS (_chicago/00000524) [5 srcs],\n",
       "          James, THE TRAGIC MUSE (_chicago/00000711) [7 srcs],\n",
       "          James, DAISY MILLER (_chicago/00000901) [6 srcs],\n",
       "          James, THE LESSON OF THE MASTER (_chicago/00000902) [7 srcs],\n",
       "          James, EMBARRASSMENTS (_chicago/00001312) [5 srcs],\n",
       "          James, WHAT MAISIE KNEW (_chicago/00001457) [4 srcs],\n",
       "          James, IN THE CAGE (_chicago/00001601) [4 srcs],\n",
       "          James, THE AWKWARD AGE (_chicago/00001757) [5 srcs],\n",
       "          James, THE SACRED FOUNT (_chicago/00002099) [5 srcs],\n",
       "          James, THE WINGS OF THE DOVE (_markmark/James,_Henry.The_Wings_of_the_Dove) [7 srcs],\n",
       "          James, THE GOLDEN BOWL (_markmark/James,_Henry.The_Golden_Bowl) [7 srcs],\n",
       "          McHenry, MEREDITH (_chadwyck/Early_American_Fiction/mchenryj.02) [3 srcs],\n",
       "          James, THE COXON FUND (_chicago/00003858) [5 srcs],\n",
       "          James, THE ALTAR OF THE DEAD (_chicago/00003859) [4 srcs],\n",
       "          James, THE JOLLY CORNER (_chicago/00004205) [5 srcs],\n",
       "          McHenry, THE WILDERNESS (_chadwyck/Early_American_Fiction/mchenryj.06) [11 srcs],\n",
       "          McHenry, THE BETROTHED OF WYOMING (_chadwyck/Early_American_Fiction/mchenryj.01),\n",
       "          James, A PASSIONATE PILGRIM (_chadwyck/Early_American_Fiction/jameshen.01) [6 srcs],\n",
       "          McHenry, OHALLORAN (_chadwyck/Early_American_Fiction/mchenryj.03),\n",
       "          McHenry, OHALLORAN (_chadwyck/Early_American_Fiction/mchenryj.04),\n",
       "          James, THE AMBASSADORS (_markmark/James,_Henry.The_Ambassadors) [6 srcs],\n",
       "          Pye, ADELAIDE (_hathi/htid/uc1.a0000007369) [3 srcs],\n",
       "          James, CONFIDENCE BY HENRY JAMES (_goodreads/13791685-confidence-by-henry-james-fiction-literary),\n",
       "          James, NOVELS 18711880 (_goodreads/203785.Novels_1871_1880),\n",
       "          McHenry, OHALLORAN (_canon_fiction/chadwyck.McHenry.OHalloran_or_The_Insurgen.0559),\n",
       "          McHenry, OHALLORAN (_canon_fiction/chadwyck.McHenry.OHalloran_or_The_Insurgen.0560),\n",
       "          McHenry, THE BETROTHED OF WYOMING (_canon_fiction/chadwyck.McHenry.The_Betrothed_of_Wyoming.0557),\n",
       "          James, PORTRAITOFA LADY (_txtlab/EN_1881_James,Henry_PortraitofaLady_Novel),\n",
       "          James, THE DIARY OF A MAN OF FIFTY (_goodreads/26610543-the-diary-of-a-man-of-fifty-and-a-bundle-of-letters),\n",
       "          James, THE DIARY OF A MAN OF FIFTY (_goodreads/6894321-the-diary-of-a-man-of-fifty-a-new-england-winter-the-path-of-duty-and),\n",
       "          James, THE MADONNA OF THE FUTURE (_goodreads/11023476-the-madonna-of-the-future),\n",
       "          James, THE BEAST IN THE JUNGLE (_goodreads/24468177-the-beast-in-the-jungle-washington-square-the-portrait-of-a-lady),\n",
       "          James, HENRY JAMES (_goodreads/33000917-henry-james),\n",
       "          James, THE PORTRAIT OF A LADY (_goodreads/17825854-the-portrait-of-a-lady-volume-1),\n",
       "          James, THE PORTRAIT OF A LADY (_goodreads/18310936-the-portrait-of-a-lady-volume-2),\n",
       "          James, HENRY JAMES (_goodreads/87730.Henry_James),\n",
       "          James, HENRY JAMES (_goodreads/22617715-henry-james),\n",
       "          James, HENRY JAMES (_goodreads/25910549-henry-james),\n",
       "          James, THE COMPLETE NOVELS OF HENRY JAMES (_goodreads/39680233-the-complete-novels-of-henry-james),\n",
       "          James, THE BOSTONIANS (_goodreads/19085420-the-bostonians-vol-i),\n",
       "          James, THE BOSTONIANS (_goodreads/18894529-the-bostonians-vol-ii),\n",
       "          James, THE COMPLETE WORKS (_goodreads/25939784-the-complete-works),\n",
       "          James, BEST OF HENRY JAMES (_goodreads/3360890-best-of-henry-james),\n",
       "          James, THE ASPERN PAPERS (_goodreads/214528.The_Aspern_Papers),\n",
       "          James, THE TURN OF THE SCREW THE ASPERN PAPERS AND TWO ST (_goodreads/137275.The_Turn_of_the_Screw_The_Aspern_Papers_and_Two_Stories),\n",
       "          James, THE ASPERN PAPERS AND OTHER STORIES (_goodreads/124266.The_Aspern_Papers_and_Other_Stories),\n",
       "          James, GREAT SHORT NOVELS OF HENRY JAMES (_goodreads/24380656-great-short-novels-of-henry-james),\n",
       "          James, THE NEW YORK EDITION OF HENRY JAMES (_goodreads/1350016.The_New_York_Edition_of_Henry_James),\n",
       "          James, THE ASPERN PAPERS (_goodreads/22466797-the-aspern-papers-the-american-the-turn-of-the-screw),\n",
       "          James, THE SPOILS OF POYNTON THE ASPERN PAPERS (_goodreads/193774.The_Spoils_of_Poynton_the_Aspern_Papers),\n",
       "          James, DAISY MILLER (_goodreads/25796320-daisy-miller-the-aspern-papers-the-turn-of-the-screw-the-beast-in-the),\n",
       "          James, THE TURN OF THE SCREW (_goodreads/25816024-the-turn-of-the-screw),\n",
       "          James, NOVELS 18861890 (_goodreads/84124.Novels_1886_1890),\n",
       "          James, THE TURN OF THE SCREWDAISY MILLER (_goodreads/16208.The_Turn_of_the_Screw_Daisy_Miller),\n",
       "          James, DAISY MILLER AND OTHER STORIES (_goodreads/16205.Daisy_Miller_and_Other_Stories),\n",
       "          James, FOUR SELECTED NOVELS OF HENRY JAMES (_goodreads/2035192.Four_Selected_Novels_of_Henry_James),\n",
       "          James, DAISY MILLER AND AN INTERNATIONAL EPISODE (_goodreads/17070378-daisy-miller-and-an-international-episode),\n",
       "          James, HENRY JAMES COLLECTION (_goodreads/17064212-henry-james-collection),\n",
       "          James, THE COLLECTED SUPERNATURAL AND WEIRD FICTION OF HE (_goodreads/8105024-the-collected-supernatural-and-weird-fiction-of-henry-james),\n",
       "          James, THE TURN OF THE SCREW THE LESSON OF THE MASTER (_goodreads/2494597.The_Turn_of_the_Screw_The_Lesson_of_the_Master),\n",
       "          James, THE LESSON OF THE MASTER THE MARRIAGES (_goodreads/7692734-the-lesson-of-the-master---the-marriages-the-pupil-brooksmith-the-sol),\n",
       "          James, EMBARRASSMENTS (_goodreads/14332655-embarrassments),\n",
       "          James, WHAT MAISIE KNEW AND THE PUPIL (_goodreads/1192184.What_Maisie_Knew_and_The_Pupil),\n",
       "          James, NOVELS 18961899 (_goodreads/2687.Novels_1896_1899),\n",
       "          James, HENRY JAMES TRILOGY (_goodreads/21210047-henry-james-trilogy),\n",
       "          James, THE COMPLETE NOVELS OF HENRY JAMES ALL 24 BOOKS IN (_goodreads/36609274-the-complete-novels-of-henry-james---all-24-books-in-one-edition),\n",
       "          James, VINTAGE LIES (_goodreads/1192183.Vintage_Lies),\n",
       "          James, WHAT MAISIE KNEW AND THE SPOILS OF POYNTON (_goodreads/1340510.What_Maisie_Knew_And_The_Spoils_Of_Poynton),\n",
       "          James, THE COMPLETE WORKS OF HENRY JAMES (_goodreads/38525122-the-complete-works-of-henry-james),\n",
       "          James, THE TURN OF THE SCREW IN THE CAGE (_goodreads/90340.The_Turn_of_the_Screw_In_the_Cage),\n",
       "          James, EIGHT TALES FROM THE MAJOR PHASE (_goodreads/293298.Eight_Tales_from_the_Major_Phase),\n",
       "          James, WHAT MAISIE KNEW (_goodreads/8121645-what-maisie-knew),\n",
       "          James, IN THE CAGE AND THE BEAST IN THE JUNGLE (_goodreads/4148694-in-the-cage-and-the-beast-in-the-jungle),\n",
       "          James, THE GREAT GOOD PLACE AND IN THE CAGE (_goodreads/400597.The_Great_Good_Place_and_In_the_Cage),\n",
       "          James, NOVELS 19011902 (_goodreads/2688.Novels_1901_1902),\n",
       "          James, THE COMPLETE NOVELS OF HENRY JAMES (_goodreads/25288852-the-complete-novels-of-henry-james),\n",
       "          James, THE WINGS OF THE DOVE (_goodreads/11065209-the-wings-of-the-dove-volume-ii),\n",
       "          James, THE WINGS OF THE DOVE (_goodreads/11065208-the-wings-of-the-dove-volume-1-of-2),\n",
       "          James, COMPLETE WORKS OF HENRY JAMES (_goodreads/38343804-complete-works-of-henry-james),\n",
       "          James, THE THIRD HENRY JAMESS COLLECTED WORKS (_goodreads/25411681-the-third-henry-james-s-collected-works),\n",
       "          James, NOVELS 19031911 (_goodreads/8550465-novels-1903-1911),\n",
       "          James, THE GOLDEN BOWL VOLUME 1 (_goodreads/644515.The_Golden_Bowl_Volume_1),\n",
       "          James, THE GOLDEN BOWL VOLUME 2 (_goodreads/19272296-the-golden-bowl---volume-2),\n",
       "          James, TERMINATIONS (_goodreads/672171.Terminations),\n",
       "          James, THE ALTAR OF THE DEAD (_goodreads/7053838-the-altar-of-the-dead-the-beast-in-the-jungle-the-birthplace-other-s),\n",
       "          HenryJames, THE JOLLY CORNER AND OTHER TALES (_goodreads/1573836.The_Jolly_Corner_and_Other_Tales),\n",
       "          McHenry, MEREDITH (_goodreads/26048014-meredith-or-the-mystery-of-the-meschianza),\n",
       "          James, THE REVERBERATORMADAME DE MAUVESA PASSIONATE PILGR (_goodreads/1349997.The_Reverberator_Madame_De_Mauves_A_Passionate_Pilgrim_And_Other_Tales),\n",
       "          James, A PASSIONATE PILGRIM (_goodreads/11345787-a-passionate-pilgrim-and-other-tales),\n",
       "          James, HENRY JAMES TRILOGY (_goodreads/21300023-henry-james-trilogy),\n",
       "          James, HENRY JAMES TRILOGY (_goodreads/21232712-henry-james-trilogy)])"
      ]
     },
     "execution_count": 15,
     "metadata": {},
     "output_type": "execute_result"
    }
   ],
   "source": []
  },
  {
   "cell_type": "code",
   "execution_count": 18,
   "id": "ad5baa11-97c2-40a7-9e3c-394c46055db8",
   "metadata": {},
   "outputs": [
    {
     "data": {
      "application/vnd.jupyter.widget-view+json": {
       "model_id": "060522d0db9b4b68b003a4683f665807",
       "version_major": 2,
       "version_minor": 0
      },
      "text/plain": [
       "[LLTK] yielding:   0%|          | 0/12 [00:00<?, ?it/s]"
      ]
     },
     "metadata": {},
     "output_type": "display_data"
    },
    {
     "ename": "NetworkXError",
     "evalue": "Graph has no nodes or edges",
     "output_type": "error",
     "traceback": [
      "\u001b[0;31m---------------------------------------------------------------------------\u001b[0m",
      "\u001b[0;31mNetworkXError\u001b[0m                             Traceback (most recent call last)",
      "Input \u001b[0;32mIn [18]\u001b[0m, in \u001b[0;36m<cell line: 1>\u001b[0;34m()\u001b[0m\n\u001b[0;32m----> 1\u001b[0m \u001b[43mtl\u001b[49m\u001b[38;5;241;43m.\u001b[39;49m\u001b[43mmatchgraph\u001b[49m\u001b[43m(\u001b[49m\u001b[43m)\u001b[49m\n",
      "File \u001b[0;32m~/github/lltk/notebooks/../lltk/text/textlist.py:110\u001b[0m, in \u001b[0;36mTextList.matchgraph\u001b[0;34m(self, draw, **kwargs)\u001b[0m\n\u001b[1;32m    103\u001b[0m \u001b[38;5;66;03m# g = nx.Graph()\u001b[39;00m\n\u001b[1;32m    104\u001b[0m \u001b[38;5;66;03m# for t in text_iter:\u001b[39;00m\n\u001b[1;32m    105\u001b[0m \u001b[38;5;66;03m#     for t2 in t.sources:\u001b[39;00m\n\u001b[1;32m    106\u001b[0m \u001b[38;5;66;03m#         g.add_edge(t.addr,t2.addr)\u001b[39;00m\n\u001b[1;32m    108\u001b[0m \u001b[38;5;28;01mif\u001b[39;00m log: log(\u001b[38;5;124mf\u001b[39m\u001b[38;5;124m'\u001b[39m\u001b[38;5;124mnumber of nodes = \u001b[39m\u001b[38;5;132;01m{\u001b[39;00mg\u001b[38;5;241m.\u001b[39morder()\u001b[38;5;132;01m}\u001b[39;00m\u001b[38;5;124m, number of edges = \u001b[39m\u001b[38;5;132;01m{\u001b[39;00mg\u001b[38;5;241m.\u001b[39msize()\u001b[38;5;132;01m}\u001b[39;00m\u001b[38;5;124m'\u001b[39m)\n\u001b[0;32m--> 110\u001b[0m \u001b[38;5;28;01mreturn\u001b[39;00m g \u001b[38;5;28;01mif\u001b[39;00m \u001b[38;5;129;01mnot\u001b[39;00m draw \u001b[38;5;28;01melse\u001b[39;00m \u001b[43mdraw_nx\u001b[49m\u001b[43m(\u001b[49m\u001b[43mg\u001b[49m\u001b[43m)\u001b[49m\n",
      "File \u001b[0;32m~/github/lltk/notebooks/../lltk/model/networks.py:60\u001b[0m, in \u001b[0;36mdraw_nx\u001b[0;34m(g, pos, final_g, size_by, weight_by, color_by, color_default, min_weight_size, max_weight_size, max_weight, plot_width, plot_height, save_to, show, **layout_opts)\u001b[0m\n\u001b[1;32m     40\u001b[0m \u001b[38;5;28;01mdef\u001b[39;00m \u001b[38;5;21mdraw_nx\u001b[39m(\n\u001b[1;32m     41\u001b[0m         g,\n\u001b[1;32m     42\u001b[0m         pos\u001b[38;5;241m=\u001b[39m\u001b[38;5;28;01mNone\u001b[39;00m,\n\u001b[0;32m   (...)\u001b[0m\n\u001b[1;32m     58\u001b[0m         \u001b[38;5;241m*\u001b[39m\u001b[38;5;241m*\u001b[39mlayout_opts,\n\u001b[1;32m     59\u001b[0m         ):\n\u001b[0;32m---> 60\u001b[0m     \u001b[38;5;28;01mif\u001b[39;00m \u001b[38;5;129;01mnot\u001b[39;00m pos: pos \u001b[38;5;241m=\u001b[39m \u001b[43mlayout_graph_force\u001b[49m\u001b[43m(\u001b[49m\u001b[43mg\u001b[49m\u001b[43m \u001b[49m\u001b[38;5;28;43;01mif\u001b[39;49;00m\u001b[43m \u001b[49m\u001b[38;5;129;43;01mnot\u001b[39;49;00m\u001b[43m \u001b[49m\u001b[43mfinal_g\u001b[49m\u001b[43m \u001b[49m\u001b[38;5;28;43;01melse\u001b[39;49;00m\u001b[43m \u001b[49m\u001b[43mfinal_g\u001b[49m\u001b[43m,\u001b[49m\u001b[43m \u001b[49m\u001b[38;5;241;43m*\u001b[39;49m\u001b[38;5;241;43m*\u001b[39;49m\u001b[43mlayout_opts\u001b[49m\u001b[43m)\u001b[49m\n\u001b[1;32m     62\u001b[0m     \u001b[38;5;28;01mimport\u001b[39;00m \u001b[38;5;21;01mmatplotlib\u001b[39;00m\n\u001b[1;32m     63\u001b[0m     \u001b[38;5;28;01mimport\u001b[39;00m \u001b[38;5;21;01mmatplotlib\u001b[39;00m\u001b[38;5;21;01m.\u001b[39;00m\u001b[38;5;21;01mpyplot\u001b[39;00m \u001b[38;5;28;01mas\u001b[39;00m \u001b[38;5;21;01mplt\u001b[39;00m\n",
      "File \u001b[0;32m~/github/lltk/notebooks/../lltk/model/networks.py:284\u001b[0m, in \u001b[0;36mlayout_graph_force\u001b[0;34m(g, pos, iterations, **attrs)\u001b[0m\n\u001b[1;32m    280\u001b[0m forceatlas2\u001b[38;5;241m=\u001b[39mForceAtlas2(\u001b[38;5;241m*\u001b[39m\u001b[38;5;241m*\u001b[39mnewattrs)\n\u001b[1;32m    281\u001b[0m \u001b[38;5;66;03m# print('inp',pos,'?!?!?')\u001b[39;00m\n\u001b[1;32m    282\u001b[0m \u001b[38;5;66;03m#print(type(pos), pos.get('ClarisasHarlowe') if type(pos)==dict else None)\u001b[39;00m\n\u001b[1;32m    283\u001b[0m pos\u001b[38;5;241m=\u001b[39m\u001b[38;5;28mdict\u001b[39m(\n\u001b[0;32m--> 284\u001b[0m     \u001b[43mforceatlas2\u001b[49m\u001b[38;5;241;43m.\u001b[39;49m\u001b[43mforceatlas2_networkx_layout\u001b[49m\u001b[43m(\u001b[49m\n\u001b[1;32m    285\u001b[0m \u001b[43m        \u001b[49m\u001b[43mg\u001b[49m\u001b[43m,\u001b[49m\n\u001b[1;32m    286\u001b[0m \u001b[43m        \u001b[49m\u001b[43mpos\u001b[49m\u001b[38;5;241;43m=\u001b[39;49m\u001b[43mpos\u001b[49m\u001b[43m,\u001b[49m\n\u001b[1;32m    287\u001b[0m \u001b[43m        \u001b[49m\u001b[43miterations\u001b[49m\u001b[38;5;241;43m=\u001b[39;49m\u001b[43miterations\u001b[49m\n\u001b[1;32m    288\u001b[0m \u001b[43m    \u001b[49m\u001b[43m)\u001b[49m\u001b[38;5;241m.\u001b[39mitems()\n\u001b[1;32m    289\u001b[0m )\n\u001b[1;32m    290\u001b[0m \u001b[38;5;66;03m# print('\\nres',pos,'\\n')\u001b[39;00m\n\u001b[1;32m    291\u001b[0m \u001b[38;5;28;01mreturn\u001b[39;00m pos\n",
      "File \u001b[0;32m~/miniforge3/lib/python3.9/site-packages/fa2-0.3.5-py3.9-macosx-11.0-arm64.egg/fa2/forceatlas2.py:248\u001b[0m, in \u001b[0;36mForceAtlas2.forceatlas2_networkx_layout\u001b[0;34m(self, G, pos, iterations, weight_attr)\u001b[0m\n\u001b[1;32m    243\u001b[0m \u001b[38;5;28;01massert\u001b[39;00m (\n\u001b[1;32m    244\u001b[0m     \u001b[38;5;28misinstance\u001b[39m(G, networkx\u001b[38;5;241m.\u001b[39mclasses\u001b[38;5;241m.\u001b[39mgraph\u001b[38;5;241m.\u001b[39mGraph)\n\u001b[1;32m    245\u001b[0m     \u001b[38;5;129;01mor\u001b[39;00m (cynetworkx \u001b[38;5;129;01mand\u001b[39;00m \u001b[38;5;28misinstance\u001b[39m(G, cynetworkx\u001b[38;5;241m.\u001b[39mclasses\u001b[38;5;241m.\u001b[39mgraph\u001b[38;5;241m.\u001b[39mGraph))\n\u001b[1;32m    246\u001b[0m ), \u001b[38;5;124m\"\u001b[39m\u001b[38;5;124mNot a networkx graph\u001b[39m\u001b[38;5;124m\"\u001b[39m\n\u001b[1;32m    247\u001b[0m \u001b[38;5;28;01massert\u001b[39;00m \u001b[38;5;28misinstance\u001b[39m(pos, \u001b[38;5;28mdict\u001b[39m) \u001b[38;5;129;01mor\u001b[39;00m (pos \u001b[38;5;129;01mis\u001b[39;00m \u001b[38;5;28;01mNone\u001b[39;00m), \u001b[38;5;124m\"\u001b[39m\u001b[38;5;124mpos must be specified as a dictionary, as in networkx\u001b[39m\u001b[38;5;124m\"\u001b[39m\n\u001b[0;32m--> 248\u001b[0m M \u001b[38;5;241m=\u001b[39m \u001b[43mnetworkx\u001b[49m\u001b[38;5;241;43m.\u001b[39;49m\u001b[43mto_scipy_sparse_matrix\u001b[49m\u001b[43m(\u001b[49m\u001b[43mG\u001b[49m\u001b[43m,\u001b[49m\u001b[43m \u001b[49m\u001b[43mdtype\u001b[49m\u001b[38;5;241;43m=\u001b[39;49m\u001b[38;5;124;43m'\u001b[39;49m\u001b[38;5;124;43mf\u001b[39;49m\u001b[38;5;124;43m'\u001b[39;49m\u001b[43m,\u001b[49m\u001b[43m \u001b[49m\u001b[38;5;28;43mformat\u001b[39;49m\u001b[38;5;241;43m=\u001b[39;49m\u001b[38;5;124;43m'\u001b[39;49m\u001b[38;5;124;43mlil\u001b[39;49m\u001b[38;5;124;43m'\u001b[39;49m\u001b[43m,\u001b[49m\u001b[43m \u001b[49m\u001b[43mweight\u001b[49m\u001b[38;5;241;43m=\u001b[39;49m\u001b[43mweight_attr\u001b[49m\u001b[43m)\u001b[49m\n\u001b[1;32m    249\u001b[0m \u001b[38;5;28;01mif\u001b[39;00m pos \u001b[38;5;129;01mis\u001b[39;00m \u001b[38;5;28;01mNone\u001b[39;00m:\n\u001b[1;32m    250\u001b[0m     l \u001b[38;5;241m=\u001b[39m \u001b[38;5;28mself\u001b[39m\u001b[38;5;241m.\u001b[39mforceatlas2(M, pos\u001b[38;5;241m=\u001b[39m\u001b[38;5;28;01mNone\u001b[39;00m, iterations\u001b[38;5;241m=\u001b[39miterations)\n",
      "File \u001b[0;32m~/miniforge3/lib/python3.9/site-packages/networkx/convert_matrix.py:1019\u001b[0m, in \u001b[0;36mto_scipy_sparse_matrix\u001b[0;34m(G, nodelist, dtype, weight, format)\u001b[0m\n\u001b[1;32m   1009\u001b[0m \u001b[38;5;28;01mimport\u001b[39;00m \u001b[38;5;21;01mscipy\u001b[39;00m\u001b[38;5;21;01m.\u001b[39;00m\u001b[38;5;21;01msparse\u001b[39;00m\n\u001b[1;32m   1011\u001b[0m warnings\u001b[38;5;241m.\u001b[39mwarn(\n\u001b[1;32m   1012\u001b[0m     (\n\u001b[1;32m   1013\u001b[0m         \u001b[38;5;124m\"\u001b[39m\u001b[38;5;130;01m\\n\u001b[39;00m\u001b[38;5;130;01m\\n\u001b[39;00m\u001b[38;5;124mThe scipy.sparse array containers will be used instead of matrices\u001b[39m\u001b[38;5;130;01m\\n\u001b[39;00m\u001b[38;5;124m\"\u001b[39m\n\u001b[0;32m   (...)\u001b[0m\n\u001b[1;32m   1017\u001b[0m     stacklevel\u001b[38;5;241m=\u001b[39m\u001b[38;5;241m2\u001b[39m,\n\u001b[1;32m   1018\u001b[0m )\n\u001b[0;32m-> 1019\u001b[0m A \u001b[38;5;241m=\u001b[39m \u001b[43mto_scipy_sparse_array\u001b[49m\u001b[43m(\u001b[49m\n\u001b[1;32m   1020\u001b[0m \u001b[43m    \u001b[49m\u001b[43mG\u001b[49m\u001b[43m,\u001b[49m\u001b[43m \u001b[49m\u001b[43mnodelist\u001b[49m\u001b[38;5;241;43m=\u001b[39;49m\u001b[43mnodelist\u001b[49m\u001b[43m,\u001b[49m\u001b[43m \u001b[49m\u001b[43mdtype\u001b[49m\u001b[38;5;241;43m=\u001b[39;49m\u001b[43mdtype\u001b[49m\u001b[43m,\u001b[49m\u001b[43m \u001b[49m\u001b[43mweight\u001b[49m\u001b[38;5;241;43m=\u001b[39;49m\u001b[43mweight\u001b[49m\u001b[43m,\u001b[49m\u001b[43m \u001b[49m\u001b[38;5;28;43mformat\u001b[39;49m\u001b[38;5;241;43m=\u001b[39;49m\u001b[38;5;28;43mformat\u001b[39;49m\n\u001b[1;32m   1021\u001b[0m \u001b[43m\u001b[49m\u001b[43m)\u001b[49m\n\u001b[1;32m   1022\u001b[0m \u001b[38;5;28;01mreturn\u001b[39;00m sp\u001b[38;5;241m.\u001b[39msparse\u001b[38;5;241m.\u001b[39mcsr_matrix(A)\u001b[38;5;241m.\u001b[39masformat(\u001b[38;5;28mformat\u001b[39m)\n",
      "File \u001b[0;32m~/miniforge3/lib/python3.9/site-packages/networkx/convert_matrix.py:878\u001b[0m, in \u001b[0;36mto_scipy_sparse_array\u001b[0;34m(G, nodelist, dtype, weight, format)\u001b[0m\n\u001b[1;32m    875\u001b[0m \u001b[38;5;28;01mimport\u001b[39;00m \u001b[38;5;21;01mscipy\u001b[39;00m\u001b[38;5;21;01m.\u001b[39;00m\u001b[38;5;21;01msparse\u001b[39;00m  \u001b[38;5;66;03m# call as sp.sparse\u001b[39;00m\n\u001b[1;32m    877\u001b[0m \u001b[38;5;28;01mif\u001b[39;00m \u001b[38;5;28mlen\u001b[39m(G) \u001b[38;5;241m==\u001b[39m \u001b[38;5;241m0\u001b[39m:\n\u001b[0;32m--> 878\u001b[0m     \u001b[38;5;28;01mraise\u001b[39;00m nx\u001b[38;5;241m.\u001b[39mNetworkXError(\u001b[38;5;124m\"\u001b[39m\u001b[38;5;124mGraph has no nodes or edges\u001b[39m\u001b[38;5;124m\"\u001b[39m)\n\u001b[1;32m    880\u001b[0m \u001b[38;5;28;01mif\u001b[39;00m nodelist \u001b[38;5;129;01mis\u001b[39;00m \u001b[38;5;28;01mNone\u001b[39;00m:\n\u001b[1;32m    881\u001b[0m     nodelist \u001b[38;5;241m=\u001b[39m \u001b[38;5;28mlist\u001b[39m(G)\n",
      "\u001b[0;31mNetworkXError\u001b[0m: Graph has no nodes or edges"
     ]
    }
   ],
   "source": []
  },
  {
   "cell_type": "code",
   "execution_count": 9,
   "id": "6eed57ac-e0dd-45b6-b496-3629fa49f283",
   "metadata": {},
   "outputs": [
    {
     "data": {
      "application/vnd.jupyter.widget-view+json": {
       "model_id": "ed17af52a7cb4b96a5a41eebeecf573b",
       "version_major": 2,
       "version_minor": 0
      },
      "text/plain": [
       "[LLTK] preparing texts:   0%|          | 0/97 [00:00<?, ?it/s]"
      ]
     },
     "metadata": {},
     "output_type": "display_data"
    },
    {
     "name": "stderr",
     "output_type": "stream",
     "text": [
      "ERROR:root:HTTP Error accessing http://data.analytics.hathitrust.org/features-2020.03/nyp/33660/nyp.33433067168405.json.bz2\n",
      "Traceback (most recent call last):\n",
      "  File \"/Users/ryan/miniforge3/lib/python3.9/site-packages/htrc_features/caching.py\", line 73, in open\n",
      "    fout = super().open(id, **kwargs)\n",
      "  File \"/Users/ryan/miniforge3/lib/python3.9/site-packages/htrc_features/resolvers.py\", line 121, in open\n",
      "    uncompressed = self._open(id = id, suffix = suffix, mode = mode, format = format,\n",
      "  File \"/Users/ryan/miniforge3/lib/python3.9/site-packages/htrc_features/resolvers.py\", line 203, in _open\n",
      "    return Path(dir, filename).open(mode = mode)\n",
      "  File \"/Users/ryan/miniforge3/lib/python3.9/pathlib.py\", line 1252, in open\n",
      "    return io.open(self, mode, buffering, encoding, errors, newline,\n",
      "  File \"/Users/ryan/miniforge3/lib/python3.9/pathlib.py\", line 1120, in _opener\n",
      "    return self._accessor.open(self, flags, mode)\n",
      "FileNotFoundError: [Errno 2] No such file or directory: '/var/folders/py/jyzw5nyj1fnf0c_1czgsg2fc0000gn/T/nyp.33433067168405.json.bz2'\n",
      "\n",
      "During handling of the above exception, another exception occurred:\n",
      "\n",
      "Traceback (most recent call last):\n",
      "  File \"/Users/ryan/miniforge3/lib/python3.9/site-packages/htrc_features/resolvers.py\", line 182, in _open\n",
      "    byt = _urlopen(path_or_url).read()\n",
      "  File \"/Users/ryan/miniforge3/lib/python3.9/urllib/request.py\", line 214, in urlopen\n",
      "    return opener.open(url, data, timeout)\n",
      "  File \"/Users/ryan/miniforge3/lib/python3.9/urllib/request.py\", line 523, in open\n",
      "    response = meth(req, response)\n",
      "  File \"/Users/ryan/miniforge3/lib/python3.9/urllib/request.py\", line 632, in http_response\n",
      "    response = self.parent.error(\n",
      "  File \"/Users/ryan/miniforge3/lib/python3.9/urllib/request.py\", line 561, in error\n",
      "    return self._call_chain(*args)\n",
      "  File \"/Users/ryan/miniforge3/lib/python3.9/urllib/request.py\", line 494, in _call_chain\n",
      "    result = func(*args)\n",
      "  File \"/Users/ryan/miniforge3/lib/python3.9/urllib/request.py\", line 641, in http_error_default\n",
      "    raise HTTPError(req.full_url, code, msg, hdrs, fp)\n",
      "urllib.error.HTTPError: HTTP Error 404: Not Found\n"
     ]
    }
   ],
   "source": [
    "with LLTK.net: tl.init()"
   ]
  },
  {
   "cell_type": "code",
   "execution_count": 10,
   "id": "4ace40c0-a15c-42db-9dc8-74ec4b5117c4",
   "metadata": {},
   "outputs": [
    {
     "data": {
      "text/plain": [
       "TextList([James, CONFIDENCE (_chicago/00000037) [5 srcs],\n",
       "          James, A BUNDLE OF LETTERS (_chicago/00000038) [4 srcs],\n",
       "          James, THE DIARY OF A MAN OF FIFTY (_chicago/00000039) [3 srcs],\n",
       "          James, THE PORTRAIT OF A LADY (_markmark/James,_Henry.The_Portrait_of_a_Lady) [6 srcs],\n",
       "          James, RODERICK HUDSON (_chicago/00000130) [4 srcs],\n",
       "          James, THE BOSTONIANS (_markmark/James,_Henry.The_Bostonians) [7 srcs],\n",
       "          James, THE ASPERN PAPERS (_chicago/00000524) [5 srcs],\n",
       "          James, THE TRAGIC MUSE (_chicago/00000711) [7 srcs],\n",
       "          James, DAISY MILLER (_chicago/00000901) [6 srcs],\n",
       "          James, THE LESSON OF THE MASTER (_chicago/00000902) [7 srcs],\n",
       "          James, EMBARRASSMENTS (_chicago/00001312) [5 srcs],\n",
       "          James, WHAT MAISIE KNEW (_chicago/00001457) [4 srcs],\n",
       "          James, IN THE CAGE (_chicago/00001601) [4 srcs],\n",
       "          James, THE AWKWARD AGE (_chicago/00001757) [5 srcs],\n",
       "          James, THE SACRED FOUNT (_chicago/00002099) [5 srcs],\n",
       "          James, THE WINGS OF THE DOVE (_markmark/James,_Henry.The_Wings_of_the_Dove) [7 srcs],\n",
       "          James, THE GOLDEN BOWL (_markmark/James,_Henry.The_Golden_Bowl) [7 srcs],\n",
       "          McHenry, MEREDITH (_chadwyck/Early_American_Fiction/mchenryj.02) [3 srcs],\n",
       "          James, THE COXON FUND (_chicago/00003858) [5 srcs],\n",
       "          James, THE ALTAR OF THE DEAD (_chicago/00003859) [4 srcs],\n",
       "          James, THE JOLLY CORNER (_chicago/00004205) [5 srcs],\n",
       "          McHenry, THE WILDERNESS (_chadwyck/Early_American_Fiction/mchenryj.06) [11 srcs],\n",
       "          McHenry, THE BETROTHED OF WYOMING (_chadwyck/Early_American_Fiction/mchenryj.01),\n",
       "          James, A PASSIONATE PILGRIM (_chadwyck/Early_American_Fiction/jameshen.01) [6 srcs],\n",
       "          McHenry, OHALLORAN (_chadwyck/Early_American_Fiction/mchenryj.03),\n",
       "          McHenry, OHALLORAN (_chadwyck/Early_American_Fiction/mchenryj.04),\n",
       "          James, THE AMBASSADORS (_markmark/James,_Henry.The_Ambassadors) [6 srcs],\n",
       "          Pye, ADELAIDE (_hathi/htid/uc2.ark:/13960/t85h7dd6m) [3 srcs],\n",
       "          James, CONFIDENCE BY HENRY JAMES (_goodreads/13791685-confidence-by-henry-james-fiction-literary),\n",
       "          James, NOVELS 18711880 (_goodreads/203785.Novels_1871_1880),\n",
       "          McHenry, OHALLORAN (_canon_fiction/chadwyck.McHenry.OHalloran_or_The_Insurgen.0559),\n",
       "          McHenry, OHALLORAN (_canon_fiction/chadwyck.McHenry.OHalloran_or_The_Insurgen.0560),\n",
       "          McHenry, THE BETROTHED OF WYOMING (_canon_fiction/chadwyck.McHenry.The_Betrothed_of_Wyoming.0557),\n",
       "          James, PORTRAITOFA LADY (_txtlab/EN_1881_James,Henry_PortraitofaLady_Novel),\n",
       "          James, THE DIARY OF A MAN OF FIFTY (_goodreads/26610543-the-diary-of-a-man-of-fifty-and-a-bundle-of-letters),\n",
       "          James, THE DIARY OF A MAN OF FIFTY (_goodreads/6894321-the-diary-of-a-man-of-fifty-a-new-england-winter-the-path-of-duty-and),\n",
       "          James, THE MADONNA OF THE FUTURE (_goodreads/11023476-the-madonna-of-the-future),\n",
       "          James, THE BEAST IN THE JUNGLE (_goodreads/24468177-the-beast-in-the-jungle-washington-square-the-portrait-of-a-lady),\n",
       "          James, HENRY JAMES (_goodreads/33000917-henry-james),\n",
       "          James, THE PORTRAIT OF A LADY (_goodreads/17825854-the-portrait-of-a-lady-volume-1),\n",
       "          James, THE PORTRAIT OF A LADY (_goodreads/18310936-the-portrait-of-a-lady-volume-2),\n",
       "          James, HENRY JAMES (_goodreads/87730.Henry_James),\n",
       "          James, HENRY JAMES (_goodreads/22617715-henry-james),\n",
       "          James, HENRY JAMES (_goodreads/25910549-henry-james),\n",
       "          James, THE COMPLETE NOVELS OF HENRY JAMES (_goodreads/39680233-the-complete-novels-of-henry-james),\n",
       "          James, THE BOSTONIANS (_goodreads/19085420-the-bostonians-vol-i),\n",
       "          James, THE BOSTONIANS (_goodreads/18894529-the-bostonians-vol-ii),\n",
       "          James, THE COMPLETE WORKS (_goodreads/25939784-the-complete-works),\n",
       "          James, BEST OF HENRY JAMES (_goodreads/3360890-best-of-henry-james),\n",
       "          James, THE ASPERN PAPERS (_goodreads/214528.The_Aspern_Papers),\n",
       "          James, THE TURN OF THE SCREW THE ASPERN PAPERS AND TWO ST (_goodreads/137275.The_Turn_of_the_Screw_The_Aspern_Papers_and_Two_Stories),\n",
       "          James, THE ASPERN PAPERS AND OTHER STORIES (_goodreads/124266.The_Aspern_Papers_and_Other_Stories),\n",
       "          James, GREAT SHORT NOVELS OF HENRY JAMES (_goodreads/24380656-great-short-novels-of-henry-james),\n",
       "          James, THE NEW YORK EDITION OF HENRY JAMES (_goodreads/1350016.The_New_York_Edition_of_Henry_James),\n",
       "          James, THE ASPERN PAPERS (_goodreads/22466797-the-aspern-papers-the-american-the-turn-of-the-screw),\n",
       "          James, THE SPOILS OF POYNTON THE ASPERN PAPERS (_goodreads/193774.The_Spoils_of_Poynton_the_Aspern_Papers),\n",
       "          James, DAISY MILLER (_goodreads/25796320-daisy-miller-the-aspern-papers-the-turn-of-the-screw-the-beast-in-the),\n",
       "          James, THE TURN OF THE SCREW (_goodreads/25816024-the-turn-of-the-screw),\n",
       "          James, NOVELS 18861890 (_goodreads/84124.Novels_1886_1890),\n",
       "          James, THE TURN OF THE SCREWDAISY MILLER (_goodreads/16208.The_Turn_of_the_Screw_Daisy_Miller),\n",
       "          James, DAISY MILLER AND OTHER STORIES (_goodreads/16205.Daisy_Miller_and_Other_Stories),\n",
       "          James, FOUR SELECTED NOVELS OF HENRY JAMES (_goodreads/2035192.Four_Selected_Novels_of_Henry_James),\n",
       "          James, DAISY MILLER AND AN INTERNATIONAL EPISODE (_goodreads/17070378-daisy-miller-and-an-international-episode),\n",
       "          James, HENRY JAMES COLLECTION (_goodreads/17064212-henry-james-collection),\n",
       "          James, THE COLLECTED SUPERNATURAL AND WEIRD FICTION OF HE (_goodreads/8105024-the-collected-supernatural-and-weird-fiction-of-henry-james),\n",
       "          James, THE TURN OF THE SCREW THE LESSON OF THE MASTER (_goodreads/2494597.The_Turn_of_the_Screw_The_Lesson_of_the_Master),\n",
       "          James, THE LESSON OF THE MASTER THE MARRIAGES (_goodreads/7692734-the-lesson-of-the-master---the-marriages-the-pupil-brooksmith-the-sol),\n",
       "          James, EMBARRASSMENTS (_goodreads/14332655-embarrassments),\n",
       "          James, WHAT MAISIE KNEW AND THE PUPIL (_goodreads/1192184.What_Maisie_Knew_and_The_Pupil),\n",
       "          James, NOVELS 18961899 (_goodreads/2687.Novels_1896_1899),\n",
       "          James, HENRY JAMES TRILOGY (_goodreads/21210047-henry-james-trilogy),\n",
       "          James, THE COMPLETE NOVELS OF HENRY JAMES ALL 24 BOOKS IN (_goodreads/36609274-the-complete-novels-of-henry-james---all-24-books-in-one-edition),\n",
       "          James, VINTAGE LIES (_goodreads/1192183.Vintage_Lies),\n",
       "          James, WHAT MAISIE KNEW AND THE SPOILS OF POYNTON (_goodreads/1340510.What_Maisie_Knew_And_The_Spoils_Of_Poynton),\n",
       "          James, THE COMPLETE WORKS OF HENRY JAMES (_goodreads/38525122-the-complete-works-of-henry-james),\n",
       "          James, THE TURN OF THE SCREW IN THE CAGE (_goodreads/90340.The_Turn_of_the_Screw_In_the_Cage),\n",
       "          James, EIGHT TALES FROM THE MAJOR PHASE (_goodreads/293298.Eight_Tales_from_the_Major_Phase),\n",
       "          James, WHAT MAISIE KNEW (_goodreads/8121645-what-maisie-knew),\n",
       "          James, IN THE CAGE AND THE BEAST IN THE JUNGLE (_goodreads/4148694-in-the-cage-and-the-beast-in-the-jungle),\n",
       "          James, THE GREAT GOOD PLACE AND IN THE CAGE (_goodreads/400597.The_Great_Good_Place_and_In_the_Cage),\n",
       "          James, NOVELS 19011902 (_goodreads/2688.Novels_1901_1902),\n",
       "          James, THE COMPLETE NOVELS OF HENRY JAMES (_goodreads/25288852-the-complete-novels-of-henry-james),\n",
       "          James, THE WINGS OF THE DOVE (_goodreads/11065209-the-wings-of-the-dove-volume-ii),\n",
       "          James, THE WINGS OF THE DOVE (_goodreads/11065208-the-wings-of-the-dove-volume-1-of-2),\n",
       "          James, COMPLETE WORKS OF HENRY JAMES (_goodreads/38343804-complete-works-of-henry-james),\n",
       "          James, THE THIRD HENRY JAMESS COLLECTED WORKS (_goodreads/25411681-the-third-henry-james-s-collected-works),\n",
       "          James, NOVELS 19031911 (_goodreads/8550465-novels-1903-1911),\n",
       "          James, THE GOLDEN BOWL VOLUME 1 (_goodreads/644515.The_Golden_Bowl_Volume_1),\n",
       "          James, THE GOLDEN BOWL VOLUME 2 (_goodreads/19272296-the-golden-bowl---volume-2),\n",
       "          James, TERMINATIONS (_goodreads/672171.Terminations),\n",
       "          James, THE ALTAR OF THE DEAD (_goodreads/7053838-the-altar-of-the-dead-the-beast-in-the-jungle-the-birthplace-other-s),\n",
       "          HenryJames, THE JOLLY CORNER AND OTHER TALES (_goodreads/1573836.The_Jolly_Corner_and_Other_Tales),\n",
       "          McHenry, MEREDITH (_goodreads/26048014-meredith-or-the-mystery-of-the-meschianza),\n",
       "          James, THE REVERBERATORMADAME DE MAUVESA PASSIONATE PILGR (_goodreads/1349997.The_Reverberator_Madame_De_Mauves_A_Passionate_Pilgrim_And_Other_Tales),\n",
       "          James, A PASSIONATE PILGRIM (_goodreads/11345787-a-passionate-pilgrim-and-other-tales),\n",
       "          James, HENRY JAMES TRILOGY (_goodreads/21300023-henry-james-trilogy),\n",
       "          James, HENRY JAMES TRILOGY (_goodreads/21232712-henry-james-trilogy)])"
      ]
     },
     "execution_count": 10,
     "metadata": {},
     "output_type": "execute_result"
    }
   ],
   "source": [
    "tl"
   ]
  },
  {
   "cell_type": "code",
   "execution_count": null,
   "id": "e74b5420-0c38-4fd3-a28c-616ec79794b4",
   "metadata": {},
   "outputs": [],
   "source": []
  },
  {
   "cell_type": "code",
   "execution_count": null,
   "id": "6606cbad-322a-4e7b-bac9-ace99a25a406",
   "metadata": {},
   "outputs": [],
   "source": []
  },
  {
   "cell_type": "code",
   "execution_count": null,
   "id": "37f5fab1-9159-4ecf-ac03-f649954210e0",
   "metadata": {},
   "outputs": [],
   "source": []
  },
  {
   "cell_type": "code",
   "execution_count": null,
   "id": "5ec2a116-b154-4fca-920e-3afa94684367",
   "metadata": {},
   "outputs": [],
   "source": []
  },
  {
   "cell_type": "code",
   "execution_count": null,
   "id": "f2995ac6-e838-4ccc-b382-08a3feeef7af",
   "metadata": {},
   "outputs": [],
   "source": []
  },
  {
   "cell_type": "code",
   "execution_count": null,
   "id": "679f07f0-99f4-414b-adf6-35668afcf83c",
   "metadata": {},
   "outputs": [],
   "source": []
  },
  {
   "cell_type": "code",
   "execution_count": null,
   "id": "ebdad13b-b9da-476f-a889-e9b5488ac926",
   "metadata": {},
   "outputs": [],
   "source": []
  },
  {
   "cell_type": "code",
   "execution_count": null,
   "id": "3e5f4019-29d3-43f2-9664-4e85dd1dd5e4",
   "metadata": {},
   "outputs": [],
   "source": [
    "for t in tl: print(t.sources)"
   ]
  },
  {
   "cell_type": "code",
   "execution_count": null,
   "id": "a948ef94-3607-4738-a10b-cc579bd84603",
   "metadata": {},
   "outputs": [],
   "source": [
    "with LLTK.web: tl.init()"
   ]
  },
  {
   "cell_type": "code",
   "execution_count": null,
   "id": "0fb8de1d-c43e-437b-bd07-c3da566841d7",
   "metadata": {},
   "outputs": [],
   "source": [
    "tl.matchgraph()"
   ]
  },
  {
   "cell_type": "code",
   "execution_count": null,
   "id": "fdf9fd8d-6657-4e05-8a93-2c12f0d9da75",
   "metadata": {},
   "outputs": [],
   "source": [
    "tl"
   ]
  },
  {
   "cell_type": "code",
   "execution_count": null,
   "id": "36ee4dde-6d15-4267-bfea-03d83da3cfff",
   "metadata": {},
   "outputs": [],
   "source": []
  },
  {
   "cell_type": "code",
   "execution_count": null,
   "id": "dc24174c-dacc-45ac-b291-1b1ae738e89c",
   "metadata": {},
   "outputs": [],
   "source": [
    "with LLTK: tl.find_matches_by_hash()"
   ]
  },
  {
   "cell_type": "code",
   "execution_count": null,
   "id": "68716dbf-bf10-419c-abb1-be05d5646db7",
   "metadata": {},
   "outputs": [],
   "source": [
    "tl.matchhgraph()"
   ]
  },
  {
   "cell_type": "code",
   "execution_count": null,
   "id": "910b48dc-b881-455d-ba0b-f9ead5cc6318",
   "metadata": {},
   "outputs": [],
   "source": [
    "# with LLTK:\n",
    "#     for t in tl: print(t.minhash())"
   ]
  },
  {
   "cell_type": "code",
   "execution_count": null,
   "id": "0e25896e-2f6d-49a7-94cf-bd4d94c5898d",
   "metadata": {},
   "outputs": [],
   "source": [
    "# !lltk install chadwyck -parts txt\n",
    "# !lltk install tedjdh -parts txt"
   ]
  },
  {
   "cell_type": "code",
   "execution_count": null,
   "id": "98fbd769-0bec-4f0d-943d-361249408e33",
   "metadata": {},
   "outputs": [],
   "source": [
    "# %%timeit\n",
    "# t.get_cache()\n"
   ]
  },
  {
   "cell_type": "code",
   "execution_count": null,
   "id": "e6e6d1f4-12fd-4ecd-a9d1-c6a3e521ed73",
   "metadata": {},
   "outputs": [],
   "source": [
    "# %%timeit\n",
    "# t.cache()\n"
   ]
  },
  {
   "cell_type": "code",
   "execution_count": null,
   "id": "1c64d1bb-3788-4364-ab1e-ee8b0df05cd0",
   "metadata": {},
   "outputs": [],
   "source": [
    "# %%timeit\n",
    "# res = LLTK(author='Henry James')\n",
    "# t = res[0]\n",
    "# t\n"
   ]
  },
  {
   "cell_type": "code",
   "execution_count": null,
   "id": "ba3aba36-e8d9-476e-9df7-6adba9386f28",
   "metadata": {},
   "outputs": [],
   "source": [
    "LLTK.online()\n",
    "\n",
    "t1.init(remote=True,force=True)\n",
    "t2.init(remote=True,force=True)\n",
    "\n",
    "LLTK.offline()"
   ]
  },
  {
   "cell_type": "code",
   "execution_count": null,
   "id": "95d3901b-4240-453c-89d0-0bd22393602c",
   "metadata": {},
   "outputs": [],
   "source": [
    "TextList([t1,t2]).matchgraph()\n",
    "t2.sources"
   ]
  },
  {
   "cell_type": "code",
   "execution_count": null,
   "id": "ed10dfe6-9916-45c0-aba5-2510ea6635c8",
   "metadata": {},
   "outputs": [],
   "source": [
    "with LLTK:\n",
    "    res=LLTK(author=\"Henry James\")\n",
    "    t=Text(res[0])\n",
    "t\n"
   ]
  },
  {
   "cell_type": "code",
   "execution_count": null,
   "id": "88ebd58f-9a63-482d-83d2-fc9ec8132422",
   "metadata": {},
   "outputs": [],
   "source": [
    "t.meta"
   ]
  },
  {
   "cell_type": "code",
   "execution_count": null,
   "id": "950b37a4-a3be-4841-951b-c0c63bab52fb",
   "metadata": {},
   "outputs": [],
   "source": [
    "# C = LLTK(corpus='chicago')\n",
    "# for \n",
    "# with LLTK: C.sync()\n",
    "# # mdb=C.mdb"
   ]
  },
  {
   "cell_type": "code",
   "execution_count": null,
   "id": "eb7e4510-8470-4876-9a58-969fe9b7a9ce",
   "metadata": {},
   "outputs": [],
   "source": [
    "with LLTK:\n",
    "    for c in ['chicago','chadwyck','markmark','gildedage','tedjdh']:\n",
    "        LLTK(C=c).sync()"
   ]
  },
  {
   "cell_type": "code",
   "execution_count": null,
   "id": "20a77621-4b7c-4b59-b724-b1c50987d7c6",
   "metadata": {},
   "outputs": [],
   "source": [
    "# C.mdb.db.all()"
   ]
  },
  {
   "cell_type": "code",
   "execution_count": null,
   "id": "c4a4c18a-8789-40f9-bba4-65d506f9970b",
   "metadata": {},
   "outputs": [],
   "source": [
    "C.mdb.search(author='Henry James')"
   ]
  },
  {
   "cell_type": "code",
   "execution_count": null,
   "id": "0343ec3d-69fc-4eb3-8bf5-857bf582c928",
   "metadata": {},
   "outputs": [],
   "source": [
    "mdb.open()"
   ]
  },
  {
   "cell_type": "code",
   "execution_count": null,
   "id": "09f84c01-7519-47ea-8a9e-eff0a585c780",
   "metadata": {},
   "outputs": [],
   "source": [
    "mdb.insert(\n",
    "    ('id1',{'hello':'xxxxx'}),\n",
    "    ('id2',{'gdbye':'yyyyy'}),\n",
    ")\n",
    "    "
   ]
  },
  {
   "cell_type": "code",
   "execution_count": null,
   "id": "e8919fc5-f050-4898-82bd-514ce8aea3d7",
   "metadata": {},
   "outputs": [],
   "source": []
  },
  {
   "cell_type": "code",
   "execution_count": null,
   "id": "6f50969f-7f7f-4cf4-b193-75d7dcf7fc70",
   "metadata": {},
   "outputs": [],
   "source": [
    "# %%timeit\n",
    "now=time.time()\n",
    "res1=mdb.where(_corpus='markmark')\n",
    "took1=time.time()-now\n",
    "took1,len(res1)"
   ]
  },
  {
   "cell_type": "code",
   "execution_count": null,
   "id": "cbec1482-2e06-4bbe-a74b-f21143f55e7c",
   "metadata": {},
   "outputs": [],
   "source": []
  },
  {
   "cell_type": "code",
   "execution_count": null,
   "id": "e269bfa3-b8eb-4e12-bc89-f3c718800197",
   "metadata": {},
   "outputs": [],
   "source": [
    "# %%timeit\n",
    "now=time.time()\n",
    "res2=mdb.search(_corpus='markmark')\n",
    "took2=time.time()-now\n",
    "took2,len(res2)"
   ]
  },
  {
   "cell_type": "code",
   "execution_count": null,
   "id": "ddf5d225-83f3-4a0e-b621-dee33193dd38",
   "metadata": {},
   "outputs": [],
   "source": [
    "# mdb.search(author=\"Jane Austen\")"
   ]
  },
  {
   "cell_type": "code",
   "execution_count": null,
   "id": "ffab7c73-e280-435a-acd0-99e8b303dd93",
   "metadata": {},
   "outputs": [],
   "source": [
    "# %%timeit\n",
    "# mdb.where(_corpus='markmark') == mdb.get(_corpus='markmark')"
   ]
  },
  {
   "cell_type": "code",
   "execution_count": null,
   "id": "0626dac9-180a-4a94-beea-49008aea5ec0",
   "metadata": {},
   "outputs": [],
   "source": [
    "%%timeit\n",
    "mdb.search(_corpus='markmark')"
   ]
  },
  {
   "cell_type": "code",
   "execution_count": null,
   "id": "ec34e2fa-f23c-44c0-a3f8-c2fdc7859b6f",
   "metadata": {},
   "outputs": [],
   "source": [
    "%%timeit\n",
    "gdb.get_nodes(_corpus=\"markmark\")"
   ]
  },
  {
   "cell_type": "code",
   "execution_count": null,
   "id": "0f42633d-2989-4cf3-8587-08c9ec25374a",
   "metadata": {},
   "outputs": [],
   "source": []
  },
  {
   "cell_type": "code",
   "execution_count": null,
   "id": "3cb23962-412e-4c47-b723-ba9bbb2a9d9f",
   "metadata": {},
   "outputs": [],
   "source": [
    "# def search(self,**meta):\n",
    "#     from tinydb import where,Query\n",
    "#     # conds = list(meta.items())\n",
    "#     conds = []\n",
    "#     for k,v in safejson(meta).items():\n",
    "#         k=str(k)\n",
    "#         v=str(v)\n",
    "#         for vx in v.split():\n",
    "#             conds.append((k,vx))\n",
    "    \n",
    "#     test_contains = lambda value, search: search.lower() in value.lower()\n",
    "    \n",
    "#     if len(conds)==0:\n",
    "#         return self.db.all()\n",
    "#     if len(conds)==1:\n",
    "#         return self.db.search(where(conds[0][0]).test(test_contains, conds[0][1]))\n",
    "#     if len(conds)==2:\n",
    "#         return self.db.search(where(conds[0][0]).test(test_contains, conds[0][1]) &  where(conds[1][0]).test(test_contains, conds[1][1]))\n",
    "#     if len(conds)==3:\n",
    "#         return self.db.search((where(conds[0][0])==conds[0][1]) & (where(conds[1][0])==conds[1][1]) & (where(conds[2][0])==conds[2][1]))\n",
    "#     if len(conds)==4:\n",
    "#         return self.db.search((where(conds[0][0])==conds[0][1]) & (where(conds[1][0])==conds[1][1]) & (where(conds[2][0])==conds[2][1]) & (where(conds[3][0])==conds[3][1]))\n",
    "#     if len(conds)==5:\n",
    "#         return self.db.search((where(conds[0][0])==conds[0][1]) & (where(conds[1][0])==conds[1][1]) & (where(conds[2][0])==conds[2][1]) & (where(conds[3][0])==conds[3][1]) & (where(conds[4][0])==conds[4][1]))\n",
    "    \n",
    "#     raise Exception('Limited to 5 queries now')\n",
    "    "
   ]
  },
  {
   "cell_type": "code",
   "execution_count": null,
   "id": "7aeec2d4-531b-447e-a504-b345a088058b",
   "metadata": {},
   "outputs": [],
   "source": [
    "# LLDBTinydb.search = search"
   ]
  },
  {
   "cell_type": "code",
   "execution_count": null,
   "id": "28ab5f70-9251-4057-8a41-1e1c95306a16",
   "metadata": {},
   "outputs": [],
   "source": []
  },
  {
   "cell_type": "code",
   "execution_count": null,
   "id": "e9230020-f707-44f2-a7cf-c014599de7c6",
   "metadata": {},
   "outputs": [],
   "source": [
    "db_search_matching_all(mdb, _corpus=\"markmark\")"
   ]
  },
  {
   "cell_type": "code",
   "execution_count": null,
   "id": "e7faa012-b2ac-400e-a83e-7873a311c76d",
   "metadata": {},
   "outputs": [],
   "source": []
  },
  {
   "cell_type": "code",
   "execution_count": null,
   "id": "82ba1d0a-981d-4d67-9d1d-6c1263c62ab7",
   "metadata": {},
   "outputs": [],
   "source": [
    "gdb=GDB()\n",
    "db = C.db('meta')\n",
    "db.path"
   ]
  },
  {
   "cell_type": "code",
   "execution_count": null,
   "id": "33deb9c1-547b-4dbe-91e8-05f0ba45330a",
   "metadata": {},
   "outputs": [],
   "source": []
  },
  {
   "cell_type": "code",
   "execution_count": null,
   "id": "c75a3102-9ca6-4881-9169-782ed32f6a5e",
   "metadata": {},
   "outputs": [],
   "source": []
  },
  {
   "cell_type": "code",
   "execution_count": null,
   "id": "ccf250e7-1739-46ba-bbc5-4a04d4760339",
   "metadata": {},
   "outputs": [],
   "source": []
  },
  {
   "cell_type": "code",
   "execution_count": null,
   "id": "dd4c7b6d-5f2e-40ae-89aa-b2279420afd2",
   "metadata": {},
   "outputs": [],
   "source": []
  },
  {
   "cell_type": "code",
   "execution_count": null,
   "id": "a8195aa3-9931-4ebb-8320-d4f12afc91e2",
   "metadata": {},
   "outputs": [],
   "source": []
  },
  {
   "cell_type": "code",
   "execution_count": null,
   "id": "7dfd4f3b-db0b-4151-861f-5c3cb7707356",
   "metadata": {},
   "outputs": [],
   "source": [
    "db = C.db('meta',engine='tinydb')"
   ]
  },
  {
   "cell_type": "code",
   "execution_count": null,
   "id": "5111e388-2645-4e4e-8cc9-2147ca1fefa7",
   "metadata": {},
   "outputs": [],
   "source": [
    "%%timeit\n",
    "db.search('_corpus','markmark')"
   ]
  },
  {
   "cell_type": "code",
   "execution_count": null,
   "id": "4b7dd39c-1058-4b72-8b19-e3ecc5b51194",
   "metadata": {},
   "outputs": [],
   "source": []
  },
  {
   "cell_type": "code",
   "execution_count": null,
   "id": "37e8cb4b-7b5a-42c9-8ec6-ce28df09453a",
   "metadata": {},
   "outputs": [],
   "source": []
  },
  {
   "cell_type": "code",
   "execution_count": null,
   "id": "201eb298-dfe0-4b78-895d-e8b0352a24c9",
   "metadata": {},
   "outputs": [],
   "source": []
  },
  {
   "cell_type": "code",
   "execution_count": null,
   "id": "7bc7cb13-747c-496c-85ff-aa351f8f1815",
   "metadata": {},
   "outputs": [],
   "source": []
  },
  {
   "cell_type": "code",
   "execution_count": null,
   "id": "987fa7fe-2346-4960-8c07-566d19fd5944",
   "metadata": {},
   "outputs": [],
   "source": []
  },
  {
   "cell_type": "code",
   "execution_count": null,
   "id": "130d891a-0602-4d6a-a052-75fd7a8a3713",
   "metadata": {},
   "outputs": [],
   "source": []
  },
  {
   "cell_type": "code",
   "execution_count": null,
   "id": "fcab83e5-5996-40ce-9835-c2cc815c2015",
   "metadata": {},
   "outputs": [],
   "source": []
  },
  {
   "cell_type": "code",
   "execution_count": null,
   "id": "8e18ff66-fc8c-42af-81b9-aac02a251387",
   "metadata": {},
   "outputs": [],
   "source": [
    "db1 = C.db('meta',engine='tinydb')\n",
    "db2 = C.db('meta')"
   ]
  },
  {
   "cell_type": "code",
   "execution_count": null,
   "id": "3e94b398-8909-46a2-a998-ce5bf79fa518",
   "metadata": {},
   "outputs": [],
   "source": [
    "%%timeit\n",
    "db1.get('_markmark/Caldwell,_Erskine.Tobacco_Road')"
   ]
  },
  {
   "cell_type": "code",
   "execution_count": null,
   "id": "d2f48c4f-a5d6-458a-9e07-f55dba45bd81",
   "metadata": {},
   "outputs": [],
   "source": [
    "%%timeit\n",
    "db2.get('_markmark/Caldwell,_Erskine.Tobacco_Road')"
   ]
  },
  {
   "cell_type": "code",
   "execution_count": null,
   "id": "2c0b737e-8d3b-4c14-984b-c2cdc897c746",
   "metadata": {},
   "outputs": [],
   "source": []
  },
  {
   "cell_type": "code",
   "execution_count": null,
   "id": "e3fe1433-bab5-4e0c-97df-6f36696dc4e2",
   "metadata": {},
   "outputs": [],
   "source": []
  },
  {
   "cell_type": "code",
   "execution_count": null,
   "id": "978dcd87-c62c-4547-bfa3-f783cd1f5e0b",
   "metadata": {},
   "outputs": [],
   "source": []
  },
  {
   "cell_type": "code",
   "execution_count": null,
   "id": "32c4957d-5ecd-43ef-9181-debc82f0eee3",
   "metadata": {},
   "outputs": [],
   "source": [
    "from tinydb import Query"
   ]
  },
  {
   "cell_type": "code",
   "execution_count": null,
   "id": "046dde03-4977-4f1f-953c-34f979d647c4",
   "metadata": {},
   "outputs": [],
   "source": [
    "db1.db.all()"
   ]
  },
  {
   "cell_type": "code",
   "execution_count": null,
   "id": "10a087af-f6bb-4d62-a0b4-913a61d2a74c",
   "metadata": {},
   "outputs": [],
   "source": []
  }
 ],
 "metadata": {
  "kernelspec": {
   "display_name": "Python 3 (ipykernel)",
   "language": "python",
   "name": "python3"
  },
  "language_info": {
   "codemirror_mode": {
    "name": "ipython",
    "version": 3
   },
   "file_extension": ".py",
   "mimetype": "text/x-python",
   "name": "python",
   "nbconvert_exporter": "python",
   "pygments_lexer": "ipython3",
   "version": "3.9.7"
  }
 },
 "nbformat": 4,
 "nbformat_minor": 5
}

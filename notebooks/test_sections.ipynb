{
 "cells": [
  {
   "cell_type": "markdown",
   "metadata": {},
   "source": [
    "# Text sections"
   ]
  },
  {
   "cell_type": "code",
   "execution_count": 1,
   "metadata": {},
   "outputs": [],
   "source": [
    "import sys; sys.path.insert(0,'..')\n",
    "import sys; sys.path.insert(0,'../lltk/corpus/epistolary')\n",
    "from lltk.imports import *\n",
    "from epistolary import *"
   ]
  },
  {
   "cell_type": "code",
   "execution_count": 2,
   "metadata": {},
   "outputs": [
    {
     "name": "stderr",
     "output_type": "stream",
     "text": [
      "\u001b[36m[10:48:09]\u001b[0m \u001b[34m\u001b[1mlltk.corpus.corpus.Corpus()\u001b[0m\u001b[36m:1309:\u001b[0m Generating corpus object with id=\"epistolary\"\n",
      "\u001b[36m[10:48:09]\u001b[0m \u001b[34m\u001b[1mlltk.corpus.corpus.Corpus()\u001b[0m\u001b[36m:1324:\u001b[0m Returning corpus: [Epistolary](epistolary)\n",
      "\u001b[36m[10:48:09]\u001b[0m \u001b[34m\u001b[1mlltk.corpus.corpus.init()\u001b[0m\u001b[36m:234:\u001b[0m Initializing [Epistolary](epistolary)\n",
      "\u001b[36m[10:48:09]\u001b[0m \u001b[34m\u001b[1mlltk.corpus.corpus.Corpus()\u001b[0m\u001b[36m:1309:\u001b[0m Generating corpus object with id=\"chadwyck\"\n",
      "\u001b[36m[10:48:09]\u001b[0m \u001b[34m\u001b[1mlltk.corpus.corpus.Corpus()\u001b[0m\u001b[36m:1324:\u001b[0m Returning corpus: [Chadwyck](chadwyck)\n",
      "\u001b[36m[10:48:09]\u001b[0m \u001b[34m\u001b[1mlltk.corpus.corpus.init()\u001b[0m\u001b[36m:234:\u001b[0m Initializing [Chadwyck](chadwyck)\n",
      "\u001b[36m[10:48:09]\u001b[0m \u001b[34m\u001b[1mlltk.corpus.corpus.Corpus()\u001b[0m\u001b[36m:1309:\u001b[0m Generating corpus object with id=\"chadwyck\"\n",
      "\u001b[36m[10:48:09]\u001b[0m \u001b[34m\u001b[1mlltk.corpus.corpus.Corpus()\u001b[0m\u001b[36m:1324:\u001b[0m Returning corpus: [Chadwyck](chadwyck)\n"
     ]
    },
    {
     "data": {
      "text/plain": [
       "[TextEpistolaryChadwyck](_epistolary/_chadwyck/Eighteenth-Century_Fiction/burney.01)"
      ]
     },
     "execution_count": 2,
     "metadata": {},
     "output_type": "execute_result"
    }
   ],
   "source": [
    "C=Corpus('epistolary')\n",
    "C.init()\n",
    "t=C.texts()[2]\n",
    "t"
   ]
  },
  {
   "cell_type": "code",
   "execution_count": 3,
   "metadata": {},
   "outputs": [
    {
     "data": {
      "text/plain": [
       "[TextSectionLetterChadwyck](_epistolary/_chadwyck/Eighteenth-Century_Fiction/burney.01/L002)"
      ]
     },
     "execution_count": 3,
     "metadata": {},
     "output_type": "execute_result"
    }
   ],
   "source": [
    "letters=t.letters\n",
    "tsec=letters[1]\n",
    "tsec"
   ]
  },
  {
   "cell_type": "code",
   "execution_count": 4,
   "metadata": {},
   "outputs": [
    {
     "data": {
      "text/plain": [
       "{'letter_i': 2,\n",
       " 'id': 'L002',\n",
       " 'id_letter': 'Z300000837',\n",
       " 'txt_front': 'Mr. Villars to Lady Howard.',\n",
       " 'txt_head': 'LETTER II.',\n",
       " 'sender_tok': 'Mr. Villars',\n",
       " 'recip_tok': 'Lady Howard'}"
      ]
     },
     "execution_count": 4,
     "metadata": {},
     "output_type": "execute_result"
    }
   ],
   "source": [
    "tsec.meta"
   ]
  },
  {
   "cell_type": "code",
   "execution_count": 8,
   "metadata": {},
   "outputs": [],
   "source": [
    "class SectionCorpus(BaseCorpus):\n",
    "    def __init__(self,_source,_id=SECTION_NAME):\n",
    "        self._source=_source\n",
    "        self._id=_id\n",
    "        for k,v in MANIFEST_DEFAULTS.items(): setattr(self,k,v)\n",
    "        self._metadf=None\n",
    "        self._texts=None\n",
    "        self._textd=defaultdict(lambda: None)\n",
    "    \n",
    "    @property\n",
    "    def source(self): return self._source\n",
    "    @property\n",
    "    def id(self): return os.path.join(self.source.id, self._id)\n",
    "    @property\n",
    "    def path(self): return os.path.join(self.source.corpus.path, self.id)\n",
    "    @property\n",
    "    def addr(self): return f'{IDSEP_START}{self.source.corpus.id}{IDSEP}{self.id}'\n",
    "\n",
    "    def get_section_class(self,*x,**y): return self.source.get_section_class(*x,**y)\n",
    "\n",
    "    def init_text(self,id=None,section_class=None,**meta):\n",
    "        # make id\n",
    "        if id is None: id=get_idx(i=len(self._sections), prefstr='S', numposs=1000)\n",
    "        id=os.path.join(self.id,id)\n",
    "        # check not duplicate\n",
    "        assert id not in set(self._textd.keys())\n",
    "        # gen obj\n",
    "        section_class=self.get_section_class(section_class)\n",
    "        sec = section_class(id, _source=self.source, _section_corpus=self, **meta)\n",
    "        self._textd[id]=sec\n",
    "        return sec"
   ]
  },
  {
   "cell_type": "code",
   "execution_count": 11,
   "metadata": {},
   "outputs": [
    {
     "name": "stderr",
     "output_type": "stream",
     "text": [
      "\u001b[36m[10:48:55]\u001b[0m \u001b[34m\u001b[1m__main__.<module>()\u001b[0m\u001b[36m:2:\u001b[0m \n",
      "* sc: [SectionCorpus](_chadwyck/Eighteenth-Century_Fiction/burney.01/sections)\n",
      "* id: _chadwyck/Eighteenth-Century_Fiction/burney.01/sections\n",
      "* path: /Users/ryan/lltk_data/corpora/epistolary/_chadwyck/Eighteenth-Century_Fiction/burney.01/sections\n",
      "* addr: _epistolary/_chadwyck/Eighteenth-Century_Fiction/burney.01/sections\n",
      "\n"
     ]
    }
   ],
   "source": [
    "SC=SectionCorpus(t)\n",
    "log.debug(f'''\n",
    "* sc: {SC}\n",
    "* id: {SC.id}\n",
    "* path: {SC.path}\n",
    "* addr: {SC.addr}\n",
    "''')"
   ]
  },
  {
   "cell_type": "code",
   "execution_count": 15,
   "metadata": {},
   "outputs": [
    {
     "name": "stderr",
     "output_type": "stream",
     "text": [
      "\u001b[36m[10:56:39]\u001b[0m \u001b[34m\u001b[1m__main__.<module>()\u001b[0m\u001b[36m:3:\u001b[0m \n",
      "* t: [TextSectionLetterChadwyck](_epistolary/_chadwyck/Eighteenth-Century_Fiction/burney.01/sections/L002)\n",
      "* id: _chadwyck/Eighteenth-Century_Fiction/burney.01/sections/L002\n",
      "* path: /Users/ryan/lltk_data/corpora/epistolary/texts/_chadwyck/Eighteenth-Century_Fiction/burney.01/sections/L002\n",
      "* addr: _epistolary/_chadwyck/Eighteenth-Century_Fiction/burney.01/sections/L002\n",
      "\n"
     ]
    }
   ],
   "source": [
    "SC=SectionCorpus(t)\n",
    "ot=SC.init_text(section_class=TextSectionLetterChadwyck, **tsec.meta)\n",
    "log.debug(f'''\n",
    "* t: {ot}\n",
    "* id: {ot.id}\n",
    "* path: {ot.path}\n",
    "* addr: {ot.addr}\n",
    "''')"
   ]
  },
  {
   "cell_type": "code",
   "execution_count": null,
   "metadata": {},
   "outputs": [],
   "source": []
  }
 ],
 "metadata": {
  "interpreter": {
   "hash": "99c3488a746bccd77b7949f8f419451e1c962da56ebbaaae6e4d2e6c8c07eaa0"
  },
  "kernelspec": {
   "display_name": "Python 3.9.7 ('base')",
   "language": "python",
   "name": "python3"
  },
  "language_info": {
   "codemirror_mode": {
    "name": "ipython",
    "version": 3
   },
   "file_extension": ".py",
   "mimetype": "text/x-python",
   "name": "python",
   "nbconvert_exporter": "python",
   "pygments_lexer": "ipython3",
   "version": "3.9.7"
  },
  "orig_nbformat": 4
 },
 "nbformat": 4,
 "nbformat_minor": 2
}

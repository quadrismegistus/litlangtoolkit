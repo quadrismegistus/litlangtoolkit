{
 "cells": [
  {
   "cell_type": "code",
   "execution_count": 1,
   "metadata": {},
   "outputs": [
    {
     "name": "stderr",
     "output_type": "stream",
     "text": [
      "(05:25:25.793) [LLTK] \u001b[36mconnecting to cassandra db\u001b[0m\n",
      "(05:25:26.980) [LLTK] \u001b[36mconnected\u001b[0m\n",
      "(05:25:26.984) [LLTK] \u001b[36mready\u001b[0m\n"
     ]
    }
   ],
   "source": [
    "import sys; sys.path.insert(0,'..')\n",
    "from lltk.imports import *\n",
    "\n",
    "\n",
    "\n",
    "def llcode(code,callback=None,import_from=None,**kwargs):\n",
    "    if not code: return\n",
    "\n",
    "    # imports\n",
    "    if not import_from:\n",
    "        from lltk.imports import PATH_LLTK_CODE_HOME as import_from\n",
    "    \n",
    "    code_pref=f'''\n",
    "import os,sys; sys.path.insert(0,'{import_from}')\n",
    "import lltk\n",
    "from lltk import *\n",
    "\n",
    "'''\n",
    "    \n",
    "    code = code_pref + code\n",
    "\n",
    "    with tempfile.TemporaryFile() as of:\n",
    "        of.write(code)\n",
    "        print(code)\n",
    "        print('-->')\n",
    "        print(of.name)\n",
    "\n",
    "        def callback(x): print('DONE ?E?E?E?E')\n",
    "        popen_and_call(callback=callback)"
   ]
  },
  {
   "cell_type": "code",
   "execution_count": 1,
   "metadata": {},
   "outputs": [],
   "source": [
    "\n",
    "\n",
    "\n",
    "# async def get_remote_sources(self,corpora=None,cache=True,lim=1,progress=False,*args,**kwargs):\n",
    "#     from lltk.corpus.corpus import Corpus\n",
    "#     if corpora is None: corpora = self.corpus.REMOTE_SOURCES\n",
    "#     o=[]\n",
    "#     # other corpora?\n",
    "#     if corpora:\n",
    "#         if log: log(f'corpora = {corpora}')\n",
    "#         desc=f'[{self.addr}] '\n",
    "#         iterr=corpora\n",
    "#         if progress: iterr=get_tqdm(iterr,desc=desc,position=0)\n",
    "#         for i,c in enumerate(iterr):\n",
    "#             C=Corpus(c)\n",
    "#             if progress: iterr.set_description(f'{desc}: Querying {C.name}')\n",
    "\n",
    "#             if log: log(f'Remote corpus: {C} ({self.addr})')\n",
    "#             cl=[]\n",
    "#             for tsrc in C.texts_from(self,**kwargs):\n",
    "#                 if tsrc is not None:\n",
    "#                     cl.append(tsrc)\n",
    "#                     if progress: iterr.set_description(f'{desc}: Found {tsrc})')\n",
    "#                     if len(cl)>=lim: break\n",
    "#             o+=cl\n",
    "\n",
    "#     return o\n",
    "\n",
    "# BaseText.get_remote_sources=get_remote_sources"
   ]
  },
  {
   "cell_type": "code",
   "execution_count": null,
   "metadata": {},
   "outputs": [],
   "source": []
  },
  {
   "cell_type": "code",
   "execution_count": 2,
   "metadata": {},
   "outputs": [],
   "source": [
    "# import lltk\n",
    "\n",
    "# with lltk.log,lltk.online:\n",
    "#     t = lltk.Text(author=\"Gibson\",title=\"Neuromancer\")\n",
    "#     x=t.get_remote_sources()\n",
    "# x"
   ]
  },
  {
   "cell_type": "code",
   "execution_count": null,
   "metadata": {},
   "outputs": [],
   "source": []
  },
  {
   "cell_type": "code",
   "execution_count": null,
   "metadata": {},
   "outputs": [],
   "source": []
  }
 ],
 "metadata": {
  "interpreter": {
   "hash": "99c3488a746bccd77b7949f8f419451e1c962da56ebbaaae6e4d2e6c8c07eaa0"
  },
  "kernelspec": {
   "display_name": "Python 3.9.7 ('base')",
   "language": "python",
   "name": "python3"
  },
  "language_info": {
   "codemirror_mode": {
    "name": "ipython",
    "version": 3
   },
   "file_extension": ".py",
   "mimetype": "text/x-python",
   "name": "python",
   "nbconvert_exporter": "python",
   "pygments_lexer": "ipython3",
   "version": "3.9.7"
  }
 },
 "nbformat": 4,
 "nbformat_minor": 4
}

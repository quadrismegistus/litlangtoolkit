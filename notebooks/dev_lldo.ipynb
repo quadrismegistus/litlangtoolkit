{
 "cells": [
  {
   "cell_type": "code",
   "execution_count": 1,
   "metadata": {},
   "outputs": [
    {
     "name": "stderr",
     "output_type": "stream",
     "text": [
      "(10:25:54.209) [LLTK] \u001b[36mconnecting to cassandra db\u001b[0m\n",
      "(10:25:54.482) [LLTK] \u001b[36mconnected\u001b[0m\n",
      "(10:25:54.482) [LLTK] \u001b[36mready\u001b[0m\n"
     ]
    }
   ],
   "source": [
    "import sys; sys.path.insert(0,'..')\n",
    "from lltk.imports import *\n",
    "log.off()"
   ]
  },
  {
   "cell_type": "code",
   "execution_count": 2,
   "metadata": {},
   "outputs": [
    {
     "data": {
      "text/plain": [
       "(James, Portrait Of A Lady [_tmp/author=James/title=Portrait_of_a_Lady],\n",
       " {'_tmp/T30029': {'yn': '', 'rel': 'rdf:type', 'rel_type': ''},\n",
       "  '_hathi/htrn/001020753': {'yn': '', 'rel': 'rdf:type', 'rel_type': ''},\n",
       "  '_wikidata/Q861017': {'yn': '', 'rel': 'rdf:type', 'rel_type': ''},\n",
       "  '_goodreads/264.The_Portrait_of_a_Lady': {'yn': '',\n",
       "   'rel': 'rdf:type',\n",
       "   'rel_type': ''},\n",
       "  '_tmp/T12627': {'yn': '', 'rel': 'rdf:type', 'rel_type': ''},\n",
       "  '_tmp/T19197': {'yn': '', 'rel': 'rdf:type', 'rel_type': ''},\n",
       "  '_tmp/T56498': {'yn': '', 'rel': 'rdf:type', 'rel_type': ''}},\n",
       " (_tmp/T56498),\n",
       " (<ResponseFuture: query='<BoundStatement query=\"INSERT INTO textrels (id, rels) VALUES (?, ?)\", values=['_tmp/author=James/title=Portrait_of_a_Lady', {'_tmp/T30029': '{\"yn\":\"\",\"rel\":\"rdf:type\",\"rel_type\":\"\"}', '_hathi/htrn/001020753': '{\"yn\":\"\",\"rel\":\"rdf:type\",\"rel_type\":\"\"}', '_wikidata/Q861017': '{\"yn\":\"\",\"rel\":\"rdf:type\",\"rel_type\":\"\"}', '_goodreads/264.The_Portrait_of_a_Lady': '{\"yn\":\"\",\"rel\":\"rdf:type\",\"rel_type\":\"\"}', '_tmp/T12627': '{\"yn\":\"\",\"rel\":\"rdf:type\",\"rel_type\":\"\"}', '_tmp/T19197': '{\"yn\":\"\",\"rel\":\"rdf:type\",\"rel_type\":\"\"}', '_tmp/T56498': '{\"yn\":\"\",\"rel\":\"rdf:type\",\"rel_type\":\"\"}'}], consistency=Not Set>' request_id=10 result=(no result yet) exception=None coordinator_host=None>,\n",
       "  <ResponseFuture: query='<BoundStatement query=\"INSERT INTO textrels (id, rels) VALUES (?, ?)\", values=['_tmp/T56498', {'_tmp/author=James/title=Portrait_of_a_Lady': '{\"yn\":\"\",\"rel\":\"rdf:type\",\"rel_type\":\"\"}'}], consistency=Not Set>' request_id=6 result=(no result yet) exception=None coordinator_host=None>))"
      ]
     },
     "execution_count": 2,
     "metadata": {},
     "output_type": "execute_result"
    }
   ],
   "source": [
    "# %%timeit\n",
    "t = Text(title=\"Portrait of a Lady\", author=\"James\")\n",
    "t2 = Text()\n",
    "t, t.rels, t2, t.match(t2)"
   ]
  },
  {
   "cell_type": "code",
   "execution_count": 3,
   "metadata": {},
   "outputs": [
    {
     "data": {
      "text/plain": [
       "({'_tmp/T30029': {'yn': '', 'rel': 'rdf:type', 'rel_type': ''},\n",
       "  '_hathi/htrn/001020753': {'yn': '', 'rel': 'rdf:type', 'rel_type': ''},\n",
       "  '_wikidata/Q861017': {'yn': '', 'rel': 'rdf:type', 'rel_type': ''},\n",
       "  '_goodreads/264.The_Portrait_of_a_Lady': {'yn': '',\n",
       "   'rel': 'rdf:type',\n",
       "   'rel_type': ''},\n",
       "  '_tmp/T12627': {'yn': '', 'rel': 'rdf:type', 'rel_type': ''},\n",
       "  '_tmp/T19197': {'yn': '', 'rel': 'rdf:type', 'rel_type': ''},\n",
       "  '_tmp/T56498': {'yn': '', 'rel': 'rdf:type', 'rel_type': ''}},\n",
       " {'_tmp/author=James/title=Portrait_of_a_Lady': {'yn': '',\n",
       "   'rel': 'rdf:type',\n",
       "   'rel_type': ''}})"
      ]
     },
     "execution_count": 3,
     "metadata": {},
     "output_type": "execute_result"
    }
   ],
   "source": [
    "t.rels, t2.rels"
   ]
  },
  {
   "cell_type": "code",
   "execution_count": 4,
   "metadata": {},
   "outputs": [
    {
     "data": {
      "text/plain": [
       "(<networkx.classes.graph.Graph at 0x29cd6c670>, 8, 7)"
      ]
     },
     "execution_count": 4,
     "metadata": {},
     "output_type": "execute_result"
    }
   ],
   "source": [
    "g=t.get_matchgraph()\n",
    "g, g.order(), g.size()"
   ]
  },
  {
   "cell_type": "code",
   "execution_count": 5,
   "metadata": {},
   "outputs": [
    {
     "data": {
      "text/plain": [
       "{'_goodreads/264.The_Portrait_of_a_Lady',\n",
       " '_hathi/htrn/001020753',\n",
       " '_tmp/T12627',\n",
       " '_tmp/T19197',\n",
       " '_tmp/T30029',\n",
       " '_tmp/T56498',\n",
       " '_wikidata/Q861017'}"
      ]
     },
     "execution_count": 5,
     "metadata": {},
     "output_type": "execute_result"
    }
   ],
   "source": [
    "t.matches"
   ]
  },
  {
   "cell_type": "code",
   "execution_count": 6,
   "metadata": {},
   "outputs": [
    {
     "name": "stderr",
     "output_type": "stream",
     "text": [
      "(10:25:59.629) [LLTK] \u001b[36mprocessing in background\u001b[0m\n",
      "(10:25:59.631) [LLTK] \u001b[36mopening subprocess\u001b[0m\n"
     ]
    },
    {
     "name": "stdout",
     "output_type": "stream",
     "text": [
      "hello\n"
     ]
    }
   ],
   "source": [
    "t.queue_remote_sources()\n",
    "print('hello')"
   ]
  },
  {
   "cell_type": "code",
   "execution_count": 7,
   "metadata": {},
   "outputs": [
    {
     "data": {
      "text/plain": [
       "{'_tmp/T30029': {'yn': '', 'rel': 'rdf:type', 'rel_type': ''},\n",
       " '_hathi/htrn/001020753': {'yn': '', 'rel': 'rdf:type', 'rel_type': ''},\n",
       " '_wikidata/Q861017': {'yn': '', 'rel': 'rdf:type', 'rel_type': ''},\n",
       " '_goodreads/264.The_Portrait_of_a_Lady': {'yn': '',\n",
       "  'rel': 'rdf:type',\n",
       "  'rel_type': ''},\n",
       " '_tmp/T12627': {'yn': '', 'rel': 'rdf:type', 'rel_type': ''},\n",
       " '_tmp/T19197': {'yn': '', 'rel': 'rdf:type', 'rel_type': ''},\n",
       " '_tmp/T56498': {'yn': '', 'rel': 'rdf:type', 'rel_type': ''}}"
      ]
     },
     "execution_count": 7,
     "metadata": {},
     "output_type": "execute_result"
    }
   ],
   "source": [
    "t.rels"
   ]
  },
  {
   "cell_type": "code",
   "execution_count": 8,
   "metadata": {},
   "outputs": [
    {
     "data": {
      "text/plain": [
       "{'_tmp/T30029': {'yn': '', 'rel': 'rdf:type', 'rel_type': ''},\n",
       " '_hathi/htrn/001020753': {'yn': '', 'rel': 'rdf:type', 'rel_type': ''},\n",
       " '_wikidata/Q861017': {'yn': '', 'rel': 'rdf:type', 'rel_type': ''},\n",
       " '_goodreads/264.The_Portrait_of_a_Lady': {'yn': '',\n",
       "  'rel': 'rdf:type',\n",
       "  'rel_type': ''},\n",
       " '_tmp/T12627': {'yn': '', 'rel': 'rdf:type', 'rel_type': ''},\n",
       " '_tmp/T19197': {'yn': '', 'rel': 'rdf:type', 'rel_type': ''},\n",
       " '_tmp/T56498': {'yn': '', 'rel': 'rdf:type', 'rel_type': ''}}"
      ]
     },
     "execution_count": 8,
     "metadata": {},
     "output_type": "execute_result"
    }
   ],
   "source": [
    "t.rels"
   ]
  },
  {
   "cell_type": "code",
   "execution_count": 12,
   "metadata": {},
   "outputs": [
    {
     "data": {
      "text/plain": [
       "'_tmp/author=James/title=Portrait_of_a_Lady'"
      ]
     },
     "execution_count": 12,
     "metadata": {},
     "output_type": "execute_result"
    }
   ],
   "source": [
    "t.addr"
   ]
  },
  {
   "cell_type": "code",
   "execution_count": 13,
   "metadata": {},
   "outputs": [],
   "source": [
    "# t.matchgraph()"
   ]
  },
  {
   "cell_type": "code",
   "execution_count": 14,
   "metadata": {},
   "outputs": [
    {
     "name": "stdout",
     "output_type": "stream",
     "text": [
      "{'_tmp/T30029': {'yn': '', 'rel': 'rdf:type', 'rel_type': ''}, '_hathi/htrn/001020753': {'yn': '', 'rel': 'rdf:type', 'rel_type': ''}, '_wikidata/Q861017': {'yn': '', 'rel': 'rdf:type', 'rel_type': ''}, '_goodreads/264.The_Portrait_of_a_Lady': {'yn': '', 'rel': 'rdf:type', 'rel_type': ''}, '_tmp/T12627': {'yn': '', 'rel': 'rdf:type', 'rel_type': ''}, '_tmp/T19197': {'yn': '', 'rel': 'rdf:type', 'rel_type': ''}, '_tmp/T56498': {'yn': '', 'rel': 'rdf:type', 'rel_type': ''}}\n"
     ]
    }
   ],
   "source": [
    "with t.cachedb('match') as db: print(db.get(t.addr))"
   ]
  },
  {
   "cell_type": "code",
   "execution_count": null,
   "metadata": {},
   "outputs": [],
   "source": []
  }
 ],
 "metadata": {
  "interpreter": {
   "hash": "99c3488a746bccd77b7949f8f419451e1c962da56ebbaaae6e4d2e6c8c07eaa0"
  },
  "kernelspec": {
   "display_name": "Python 3.9.7 ('base')",
   "language": "python",
   "name": "python3"
  },
  "language_info": {
   "codemirror_mode": {
    "name": "ipython",
    "version": 3
   },
   "file_extension": ".py",
   "mimetype": "text/x-python",
   "name": "python",
   "nbconvert_exporter": "python",
   "pygments_lexer": "ipython3",
   "version": "3.9.7"
  },
  "orig_nbformat": 4
 },
 "nbformat": 4,
 "nbformat_minor": 2
}

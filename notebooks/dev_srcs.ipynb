{
 "cells": [
  {
   "cell_type": "code",
   "execution_count": 1,
   "metadata": {},
   "outputs": [],
   "source": [
    "import sys; sys.path.insert(0,'../../yapmap')\n",
    "import sys; sys.path.insert(0,'..')\n",
    "from lltk import *\n",
    "C=Corpus('hathi')"
   ]
  },
  {
   "cell_type": "code",
   "execution_count": 2,
   "metadata": {},
   "outputs": [],
   "source": [
    "def init_from_text(self,text,_id=None,**kwargs):\n",
    "    if log>0:  log(f'<- {get_imsg(text,**kwargs)}')\n",
    "    text = Text(text)\n",
    "    kwargs['id']=text.addr if _id is None else _id\n",
    "    kwargs['_corpus']=self\n",
    "    kwargs['_source']=text\n",
    "    t = self.TEXT_CLASS(**kwargs)\n",
    "    if log>0: log(f'-> {t}' if is_text_obj(t) else \"-> ?\")\n",
    "    return t\n",
    "\n",
    "BaseCorpus.init_from_text = init_from_text"
   ]
  },
  {
   "cell_type": "code",
   "execution_count": 3,
   "metadata": {},
   "outputs": [],
   "source": [
    "def get_text_id(self, text: Union[str,BaseText], _id=None, **meta):\n",
    "    if log: log(f'<- {get_imsg(text,**meta)}')\n",
    "    if type(_id)==str and _id: return get_idx(_id)\n",
    "    if is_addr_str(text): return text\n",
    "    if is_text_obj(text): return text.addr\n",
    "    if log>0: log.error(f'id for text = {text} ?')\n",
    "    res=get_idx(text)\n",
    "    log(f'-> {res}')\n",
    "    return res\n",
    "    \n",
    "BaseCorpus.get_text_id = get_text_id"
   ]
  },
  {
   "cell_type": "code",
   "execution_count": null,
   "metadata": {},
   "outputs": [],
   "source": []
  },
  {
   "cell_type": "code",
   "execution_count": 4,
   "metadata": {},
   "outputs": [
    {
     "name": "stderr",
     "output_type": "stream",
     "text": [
      "[19:57:18] __main__.\u001b[34m\u001b[1mget_text_id\u001b[0m( \u001b[36m<- id = _chadwyck/Eighteenth-Century_Fiction/richards.01\u001b[0m )\n"
     ]
    },
    {
     "data": {
      "text/plain": [
       "'_chadwyck/Eighteenth-Century_Fiction/richards.01'"
      ]
     },
     "execution_count": 4,
     "metadata": {},
     "output_type": "execute_result"
    }
   ],
   "source": [
    "with log: idx=C.get_text_id('_chadwyck/Eighteenth-Century_Fiction/richards.01')\n",
    "idx"
   ]
  },
  {
   "cell_type": "code",
   "execution_count": 6,
   "metadata": {},
   "outputs": [],
   "source": [
    "def init_text(self,id=None,_source=None,_cache=False,_use_db=True,**kwargs):\n",
    "    # log('...')\n",
    "    meta = just_metadata(kwargs)\n",
    "    if log: log(f'<- {get_imsg(id,self,_source,**meta)}')\n",
    "    \n",
    "    if is_textish(_source):\n",
    "        return self.init_from_text(_source, id=id, **meta)\n",
    "    if is_textish(id):\n",
    "        return self.init_from_text(id, **meta)\n",
    "    \n",
    "    id = get_idx(id=id, i=len(self._textd), **meta)\n",
    "    if log: log(f'id auto set to {id}')\n",
    "\n",
    "    kwargs['id']=id\n",
    "    kwargs['_corpus']=self\n",
    "    kwargs['_source']=_source\n",
    "\n",
    "    # gen text in my image        \n",
    "    t = self.TEXT_CLASS(**kwargs)\n",
    "\n",
    "    if log>0: log(f'-> {t}' if is_text_obj(t) else \"-> ?\")\n",
    "    return t\n",
    "\n",
    "BaseCorpus.init_text = init_text"
   ]
  },
  {
   "cell_type": "code",
   "execution_count": 7,
   "metadata": {},
   "outputs": [
    {
     "name": "stderr",
     "output_type": "stream",
     "text": [
      "[19:57:38] lltk.text.text.\u001b[34m\u001b[1mText\u001b[0m( \u001b[36m<- id = _epistolary/_chadwyck/Eighteenth-Century_Fiction/richards.01\u001b[0m )\n",
      "[19:57:38] lltk.text.text.\u001b[34m\u001b[1mText\u001b[0m( \u001b[36m<- addr = _epistolary/_chadwyck/Eighteenth-Century_Fiction/richards.01\u001b[0m )\n",
      "[19:57:38] lltk.corpus.corpus.\u001b[34m\u001b[1mCorpus\u001b[0m( \u001b[36m<- id = epistolary\u001b[0m )\n",
      "[19:57:38] lltk.corpus.utils.\u001b[34m\u001b[1mload_corpus\u001b[0m( \u001b[36m<- id = epistolary\u001b[0m )\n",
      "[19:57:38] lltk.corpus.utils.\u001b[34m\u001b[1mload_corpus\u001b[0m( \u001b[36mImporting corpus class \"Epistolary\" from /Users/ryan/github/lltk/lltk/corpus/epistolary/epistolary.py\u001b[0m )\n",
      "[19:57:38] lltk.corpus.corpus.\u001b[34m\u001b[1m__init__\u001b[0m( \u001b[36mEpistolary(epistolary)\u001b[0m )\n",
      "[19:57:38] lltk.corpus.utils.\u001b[34m\u001b[1mload_corpus\u001b[0m( \u001b[36m-> EpistolaryCorpus(epistolary)\u001b[0m )\n",
      "[19:57:38] lltk.corpus.corpus.\u001b[34m\u001b[1mCorpus\u001b[0m( \u001b[36m-> EpistolaryCorpus(epistolary)\u001b[0m )\n",
      "[19:57:38] lltk.corpus.corpus.\u001b[34m\u001b[1mtext\u001b[0m( \u001b[36m<- id = _chadwyck/Eighteenth-Century_Fiction/richards.01, corpus = EpistolaryCorpus(epistolary)\u001b[0m )\n",
      "[19:57:38] __main__.\u001b[34m\u001b[1minit_text\u001b[0m( \u001b[36m<- id = _chadwyck/Eighteenth-Century_Fiction/richards.01, corpus = EpistolaryCorpus(epistolary)\u001b[0m )\n",
      "[19:57:38] __main__.\u001b[34m\u001b[1minit_from_text\u001b[0m( \u001b[36m<- id = _chadwyck/Eighteenth-Century_Fiction/richards.01\u001b[0m )\n",
      "[19:57:38] lltk.text.text.\u001b[34m\u001b[1mText\u001b[0m( \u001b[36m<- id = _chadwyck/Eighteenth-Century_Fiction/richards.01\u001b[0m )\n",
      "[19:57:38] lltk.text.text.\u001b[34m\u001b[1mText\u001b[0m( \u001b[36m<- addr = _chadwyck/Eighteenth-Century_Fiction/richards.01\u001b[0m )\n",
      "[19:57:38] lltk.corpus.corpus.\u001b[34m\u001b[1mCorpus\u001b[0m( \u001b[36m<- id = chadwyck\u001b[0m )\n",
      "[19:57:38] lltk.corpus.utils.\u001b[34m\u001b[1mload_corpus\u001b[0m( \u001b[36m<- id = chadwyck\u001b[0m )\n",
      "[19:57:38] lltk.corpus.utils.\u001b[34m\u001b[1mload_corpus\u001b[0m( \u001b[36mImporting corpus class \"Chadwyck\" from /Users/ryan/github/lltk/lltk/corpus/chadwyck/chadwyck.py\u001b[0m )\n",
      "[19:57:38] lltk.corpus.corpus.\u001b[34m\u001b[1m__init__\u001b[0m( \u001b[36mChadwyck(chadwyck)\u001b[0m )\n",
      "[19:57:38] lltk.corpus.utils.\u001b[34m\u001b[1mload_corpus\u001b[0m( \u001b[36m-> ChadwyckCorpus(chadwyck)\u001b[0m )\n",
      "[19:57:38] lltk.corpus.corpus.\u001b[34m\u001b[1mCorpus\u001b[0m( \u001b[36m-> ChadwyckCorpus(chadwyck)\u001b[0m )\n",
      "[19:57:38] lltk.corpus.corpus.\u001b[34m\u001b[1mtext\u001b[0m( \u001b[36m<- id = Eighteenth-Century_Fiction/richards.01, corpus = ChadwyckCorpus(chadwyck)\u001b[0m )\n",
      "[19:57:38] __main__.\u001b[34m\u001b[1minit_text\u001b[0m( \u001b[36m<- id = Eighteenth-Century_Fiction/richards.01, corpus = ChadwyckCorpus(chadwyck)\u001b[0m )\n",
      "[19:57:38] __main__.\u001b[34m\u001b[1minit_text\u001b[0m( \u001b[36mid auto set to Eighteenth-Century_Fiction/richards.01\u001b[0m )\n",
      "[19:57:38] lltk.text.text.\u001b[34m\u001b[1m__init__\u001b[0m( \u001b[36m<- id = Eighteenth-Century_Fiction/richards.01, corpus = ChadwyckCorpus(chadwyck)\u001b[0m )\n",
      "[19:57:38] lltk.text.text.\u001b[34m\u001b[1m__init__\u001b[0m( \u001b[36mTextChadwyck(id = Eighteenth-Century_Fiction/richards.01, corpus = ChadwyckCorpus(chadwyck))\u001b[0m )\n",
      "[19:57:38] __main__.\u001b[34m\u001b[1minit_text\u001b[0m( \u001b[36m-> TextChadwyck(_chadwyck/Eighteenth-Century_Fiction/richards.01)\u001b[0m )\n",
      "[19:57:38] lltk.corpus.corpus.\u001b[34m\u001b[1mtext\u001b[0m( \u001b[36m-> TextChadwyck(_chadwyck/Eighteenth-Century_Fiction/richards.01)\u001b[0m )\n",
      "[19:57:38] lltk.text.text.\u001b[34m\u001b[1mText\u001b[0m( \u001b[36m-> TextChadwyck(_chadwyck/Eighteenth-Century_Fiction/richards.01)\u001b[0m )\n",
      "[19:57:38] lltk.text.text.\u001b[34m\u001b[1m__init__\u001b[0m( \u001b[36m<- id = _chadwyck/Eighteenth-Century_Fiction/richards.01, corpus = EpistolaryCorpus(epistolary), source = TextChadwyck(_chadwyck/Eighteenth-Century_Fiction/richards.01)\u001b[0m )\n",
      "[19:57:38] lltk.text.text.\u001b[34m\u001b[1m__init__\u001b[0m( \u001b[36mTextEpistolary(id = _chadwyck/Eighteenth-Century_Fiction/richards.01, corpus = EpistolaryCorpus(epistolary), source = TextChadwyck(_chadwyck/Eighteenth-Century_Fiction/richards.01))\u001b[0m )\n",
      "[19:57:38] lltk.text.text.\u001b[34m\u001b[1m__init__\u001b[0m( \u001b[36mLoaded source! TextChadwyck(_chadwyck/Eighteenth-Century_Fiction/richards.01)\u001b[0m )\n",
      "[19:57:38] lltk.model.matcher.\u001b[34m\u001b[1mMatcher\u001b[0m( \u001b[36m<- epistolary\u001b[0m )\n",
      "[19:57:38] lltk.model.matcher.\u001b[34m\u001b[1minit_g_triples\u001b[0m( \u001b[36mread graph from /Users/ryan/lltk_data/corpora/epistolary/data/rels/triples.txt\u001b[0m )\n",
      "[19:57:38] lltk.model.matcher.\u001b[34m\u001b[1mMatcher\u001b[0m( \u001b[36m-> <lltk.model.matcher.MatcherModel object at 0x283c13c10>\u001b[0m )\n",
      "[19:57:38] lltk.text.text.\u001b[34m\u001b[1madd_source\u001b[0m( \u001b[36madding source vice versa\u001b[0m )\n",
      "[19:57:38] lltk.model.matcher.\u001b[34m\u001b[1mMatcher\u001b[0m( \u001b[36m<- chadwyck\u001b[0m )\n",
      "[19:57:38] lltk.model.matcher.\u001b[34m\u001b[1minit_g_triples\u001b[0m( \u001b[36mread graph from /Users/ryan/lltk_data/corpora/chadwyck/data/rels/triples.txt\u001b[0m )\n",
      "[19:57:38] lltk.model.matcher.\u001b[34m\u001b[1mMatcher\u001b[0m( \u001b[36m-> <lltk.model.matcher.MatcherModel object at 0x283c13d00>\u001b[0m )\n",
      "[19:57:38] __main__.\u001b[34m\u001b[1minit_from_text\u001b[0m( \u001b[36m-> TextEpistolary(_epistolary/_chadwyck/Eighteenth-Century_Fiction/richards.01)\u001b[0m )\n",
      "[19:57:38] lltk.corpus.corpus.\u001b[34m\u001b[1mtext\u001b[0m( \u001b[36m-> TextEpistolaryChadwyck(_epistolary/_chadwyck/Eighteenth-Century_Fiction/richards.01)\u001b[0m )\n",
      "[19:57:38] lltk.text.text.\u001b[34m\u001b[1mText\u001b[0m( \u001b[36m-> TextEpistolaryChadwyck(_epistolary/_chadwyck/Eighteenth-Century_Fiction/richards.01)\u001b[0m )\n"
     ]
    }
   ],
   "source": [
    "with log: tclary=Text(CLAR_ID)"
   ]
  },
  {
   "cell_type": "code",
   "execution_count": 10,
   "metadata": {},
   "outputs": [
    {
     "data": {
      "text/plain": [
       "TextEpistolaryChadwyck(_epistolary/_chadwyck/Eighteenth-Century_Fiction/richards.01)"
      ]
     },
     "execution_count": 10,
     "metadata": {},
     "output_type": "execute_result"
    }
   ],
   "source": [
    "tclary"
   ]
  },
  {
   "cell_type": "code",
   "execution_count": 6,
   "metadata": {},
   "outputs": [
    {
     "ename": "NameError",
     "evalue": "name 'stop' is not defined",
     "output_type": "error",
     "traceback": [
      "\u001b[0;31m---------------------------------------------------------------------------\u001b[0m",
      "\u001b[0;31mNameError\u001b[0m                                 Traceback (most recent call last)",
      "\u001b[1;32m/Users/ryan/github/lltk/notebooks/dev_srcs.ipynb Cell 6'\u001b[0m in \u001b[0;36m<cell line: 1>\u001b[0;34m()\u001b[0m\n\u001b[0;32m----> <a href='vscode-notebook-cell:/Users/ryan/github/lltk/notebooks/dev_srcs.ipynb#ch0000016?line=0'>1</a>\u001b[0m stop\n",
      "\u001b[0;31mNameError\u001b[0m: name 'stop' is not defined"
     ]
    }
   ],
   "source": [
    "stop"
   ]
  },
  {
   "cell_type": "code",
   "execution_count": 7,
   "metadata": {},
   "outputs": [],
   "source": [
    "log.show()"
   ]
  },
  {
   "cell_type": "code",
   "execution_count": null,
   "metadata": {},
   "outputs": [],
   "source": []
  },
  {
   "cell_type": "code",
   "execution_count": null,
   "metadata": {},
   "outputs": [
    {
     "data": {
      "text/plain": [
       "'T00002'"
      ]
     },
     "execution_count": 14,
     "metadata": {},
     "output_type": "execute_result"
    }
   ],
   "source": [
    "def get_idx()"
   ]
  },
  {
   "cell_type": "code",
   "execution_count": null,
   "metadata": {},
   "outputs": [],
   "source": [
    "C1=Corpus('tmp1')\n",
    "C2=Corpus('tmp2')"
   ]
  },
  {
   "cell_type": "code",
   "execution_count": null,
   "metadata": {},
   "outputs": [
    {
     "data": {
      "text/plain": [
       "BaseText(_tmp2/author:Joyce/title:Ulysses)"
      ]
     },
     "execution_count": 8,
     "metadata": {},
     "output_type": "execute_result"
    }
   ],
   "source": [
    "t2=C2.text(title='Ulysses',author='Joyce')\n",
    "t2"
   ]
  },
  {
   "cell_type": "code",
   "execution_count": null,
   "metadata": {},
   "outputs": [
    {
     "name": "stderr",
     "output_type": "stream",
     "text": [
      "[19:31:12] lltk.corpus.corpus.\u001b[34m\u001b[1mtext\u001b[0m( \u001b[36m<- id = BaseText(_tmp2/author:Joyce/title:Ulysses), corpus = BaseCorpus(tmp1)\u001b[0m )\n",
      "[19:31:12] lltk.text.utils.\u001b[31m\u001b[1msafebool\u001b[0m( \u001b[36m'method' object cannot be interpreted as an integer\u001b[0m )\n",
      "[19:31:12] lltk.text.utils.\u001b[31m\u001b[1msafebool\u001b[0m( \u001b[36minvalid __array_struct__\u001b[0m )\n",
      "[19:31:12] __main__.\u001b[34m\u001b[1minit_text\u001b[0m( \u001b[36m<- id = author:Joyce/title:Ulysses, corpus = BaseCorpus(tmp1)\u001b[0m )\n",
      "[19:31:12] lltk.text.text.\u001b[34m\u001b[1m__init__\u001b[0m( \u001b[36m<- id = T48308, corpus = BaseCorpus(tmp1)\u001b[0m )\n",
      "[19:31:12] lltk.text.text.\u001b[34m\u001b[1m__init__\u001b[0m( \u001b[36mBaseText(id = T48308, corpus = BaseCorpus(tmp1))\u001b[0m )\n",
      "[19:31:12] __main__.\u001b[34m\u001b[1minit_text\u001b[0m( \u001b[36m-> BaseText(_tmp1/T48308)\u001b[0m )\n",
      "[19:31:12] lltk.text.text.\u001b[34m\u001b[1mcache\u001b[0m( \u001b[36mBaseText(_tmp1/T48308)\u001b[0m )\n",
      "[19:31:12] lltk.text.text.\u001b[34m\u001b[1mcache_json\u001b[0m( \u001b[36mcached text meta in json: /Users/ryan/lltk_data/corpora/tmp1/texts/T48308/meta.json\u001b[0m )\n",
      "[19:31:12] lltk.corpus.corpus.\u001b[34m\u001b[1mtext\u001b[0m( \u001b[36m-> BaseText(_tmp1/T48308)\u001b[0m )\n"
     ]
    }
   ],
   "source": [
    "with log: t1=C1.text(t2)"
   ]
  },
  {
   "cell_type": "code",
   "execution_count": null,
   "metadata": {},
   "outputs": [],
   "source": []
  },
  {
   "cell_type": "code",
   "execution_count": null,
   "metadata": {},
   "outputs": [
    {
     "name": "stdout",
     "output_type": "stream",
     "text": [
      "\u001b[0;31mSignature:\u001b[0m \u001b[0mid_is_addr\u001b[0m\u001b[0;34m(\u001b[0m\u001b[0midx\u001b[0m\u001b[0;34m)\u001b[0m\u001b[0;34m\u001b[0m\u001b[0;34m\u001b[0m\u001b[0m\n",
      "\u001b[0;31mDocstring:\u001b[0m <no docstring>\n",
      "\u001b[0;31mSource:\u001b[0m   \n",
      "\u001b[0;32mdef\u001b[0m \u001b[0mid_is_addr\u001b[0m\u001b[0;34m(\u001b[0m\u001b[0midx\u001b[0m\u001b[0;34m)\u001b[0m\u001b[0;34m:\u001b[0m\u001b[0;34m\u001b[0m\n",
      "\u001b[0;34m\u001b[0m    \u001b[0;32mreturn\u001b[0m \u001b[0mtype\u001b[0m\u001b[0;34m(\u001b[0m\u001b[0midx\u001b[0m\u001b[0;34m)\u001b[0m\u001b[0;34m==\u001b[0m\u001b[0mstr\u001b[0m \u001b[0;32mand\u001b[0m \u001b[0midx\u001b[0m \u001b[0;32mand\u001b[0m \u001b[0midx\u001b[0m\u001b[0;34m.\u001b[0m\u001b[0mstartswith\u001b[0m\u001b[0;34m(\u001b[0m\u001b[0mIDSEP_START\u001b[0m\u001b[0;34m)\u001b[0m \u001b[0;32mand\u001b[0m \u001b[0mIDSEP\u001b[0m \u001b[0;32min\u001b[0m \u001b[0midx\u001b[0m\u001b[0;34m\u001b[0m\u001b[0;34m\u001b[0m\u001b[0m\n",
      "\u001b[0;31mFile:\u001b[0m      ~/github/lltk/lltk/text/utils.py\n",
      "\u001b[0;31mType:\u001b[0m      function\n"
     ]
    }
   ],
   "source": [
    "id_is_addr??"
   ]
  },
  {
   "cell_type": "code",
   "execution_count": null,
   "metadata": {},
   "outputs": [
    {
     "name": "stdout",
     "output_type": "stream",
     "text": [
      "\u001b[0;31mSignature:\u001b[0m \u001b[0mto_corpus_and_id\u001b[0m\u001b[0;34m(\u001b[0m\u001b[0midx\u001b[0m\u001b[0;34m)\u001b[0m\u001b[0;34m\u001b[0m\u001b[0;34m\u001b[0m\u001b[0m\n",
      "\u001b[0;31mDocstring:\u001b[0m <no docstring>\n",
      "\u001b[0;31mSource:\u001b[0m   \n",
      "\u001b[0;32mdef\u001b[0m \u001b[0mto_corpus_and_id\u001b[0m\u001b[0;34m(\u001b[0m\u001b[0midx\u001b[0m\u001b[0;34m)\u001b[0m\u001b[0;34m:\u001b[0m\u001b[0;34m\u001b[0m\n",
      "\u001b[0;34m\u001b[0m    \u001b[0;32mif\u001b[0m \u001b[0mid_is_addr\u001b[0m\u001b[0;34m(\u001b[0m\u001b[0midx\u001b[0m\u001b[0;34m)\u001b[0m\u001b[0;34m:\u001b[0m\u001b[0;34m\u001b[0m\n",
      "\u001b[0;34m\u001b[0m        \u001b[0;32mreturn\u001b[0m \u001b[0mtuple\u001b[0m\u001b[0;34m(\u001b[0m\u001b[0midx\u001b[0m\u001b[0;34m[\u001b[0m\u001b[0mlen\u001b[0m\u001b[0;34m(\u001b[0m\u001b[0mIDSEP_START\u001b[0m\u001b[0;34m)\u001b[0m\u001b[0;34m:\u001b[0m\u001b[0;34m]\u001b[0m\u001b[0;34m.\u001b[0m\u001b[0msplit\u001b[0m\u001b[0;34m(\u001b[0m\u001b[0mIDSEP\u001b[0m\u001b[0;34m,\u001b[0m\u001b[0;36m1\u001b[0m\u001b[0;34m)\u001b[0m\u001b[0;34m)\u001b[0m\u001b[0;34m\u001b[0m\n",
      "\u001b[0;34m\u001b[0m    \u001b[0;32mreturn\u001b[0m \u001b[0;34m(\u001b[0m\u001b[0;34m''\u001b[0m\u001b[0;34m,\u001b[0m\u001b[0midx\u001b[0m\u001b[0;34m)\u001b[0m\u001b[0;34m\u001b[0m\u001b[0;34m\u001b[0m\u001b[0m\n",
      "\u001b[0;31mFile:\u001b[0m      ~/github/lltk/lltk/text/utils.py\n",
      "\u001b[0;31mType:\u001b[0m      function\n"
     ]
    }
   ],
   "source": [
    "to_corpus_and_id??"
   ]
  },
  {
   "cell_type": "code",
   "execution_count": null,
   "metadata": {},
   "outputs": [],
   "source": []
  }
 ],
 "metadata": {
  "interpreter": {
   "hash": "99c3488a746bccd77b7949f8f419451e1c962da56ebbaaae6e4d2e6c8c07eaa0"
  },
  "kernelspec": {
   "display_name": "Python 3.9.7 ('base')",
   "language": "python",
   "name": "python3"
  },
  "language_info": {
   "codemirror_mode": {
    "name": "ipython",
    "version": 3
   },
   "file_extension": ".py",
   "mimetype": "text/x-python",
   "name": "python",
   "nbconvert_exporter": "python",
   "pygments_lexer": "ipython3",
   "version": "3.9.7"
  },
  "orig_nbformat": 4
 },
 "nbformat": 4,
 "nbformat_minor": 2
}

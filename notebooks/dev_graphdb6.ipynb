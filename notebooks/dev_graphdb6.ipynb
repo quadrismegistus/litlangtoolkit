{
 "cells": [
  {
   "cell_type": "code",
   "execution_count": 1,
   "metadata": {},
   "outputs": [],
   "source": [
    "import sys; sys.path.insert(0,'../../yapmap')\n",
    "import sys; sys.path.insert(0,'..')\n",
    "from lltk import *"
   ]
  },
  {
   "cell_type": "code",
   "execution_count": 2,
   "metadata": {},
   "outputs": [],
   "source": [
    "t1=Text(id=1)\n",
    "t2=Text(id=2)\n",
    "t3=Text(id=3)"
   ]
  },
  {
   "cell_type": "code",
   "execution_count": 3,
   "metadata": {},
   "outputs": [],
   "source": [
    "t1.match(t2)\n",
    "t2.match(t3)\n",
    "t2.match(t3)"
   ]
  },
  {
   "cell_type": "code",
   "execution_count": 7,
   "metadata": {},
   "outputs": [
    {
     "data": {
      "text/plain": [
       "{BaseText(_tmp/T00001),\n",
       " BaseText(_tmp/T00002),\n",
       " BaseText(_tmp/T00003),\n",
       " BaseText(_tmp/T06241),\n",
       " BaseText(_tmp/T11736),\n",
       " BaseText(_tmp/T70700),\n",
       " BaseText(_tmp/T87053)}"
      ]
     },
     "execution_count": 7,
     "metadata": {},
     "output_type": "execute_result"
    }
   ],
   "source": [
    "t4=Text()\n",
    "t4.match(t1)\n",
    "t4.get_matches()"
   ]
  },
  {
   "cell_type": "code",
   "execution_count": null,
   "metadata": {},
   "outputs": [],
   "source": []
  },
  {
   "cell_type": "code",
   "execution_count": 5,
   "metadata": {},
   "outputs": [
    {
     "data": {
      "text/plain": [
       "['_tmp/T00001', '_tmp/T00002', '_tmp/T00003']"
      ]
     },
     "execution_count": 5,
     "metadata": {},
     "output_type": "execute_result"
    }
   ],
   "source": [
    "gdb.get_neighbs(t1.addr)"
   ]
  },
  {
   "cell_type": "code",
   "execution_count": 17,
   "metadata": {},
   "outputs": [
    {
     "data": {
      "text/plain": [
       "[('_tmp/T00002', 'is'),\n",
       " ('_tmp/T00002', 'rdf:type'),\n",
       " ('_tmp/T00003', 'is'),\n",
       " ('_tmp/T00003', 'rdf:type'),\n",
       " ('_tmp/T00003', 'somethingelse'),\n",
       " ('_tmp/T00002', 'somethingelse'),\n",
       " ('_tmp/T00002', 'is'),\n",
       " ('_tmp/T00002', 'rdf:type')]"
      ]
     },
     "execution_count": 17,
     "metadata": {},
     "output_type": "execute_result"
    }
   ],
   "source": [
    "gdb.get_rels(t1.addr)"
   ]
  },
  {
   "cell_type": "code",
   "execution_count": 11,
   "metadata": {},
   "outputs": [
    {
     "ename": "NameError",
     "evalue": "name 't' is not defined",
     "output_type": "error",
     "traceback": [
      "\u001b[0;31m---------------------------------------------------------------------------\u001b[0m",
      "\u001b[0;31mNameError\u001b[0m                                 Traceback (most recent call last)",
      "\u001b[1;32m/Users/ryan/github/lltk/notebooks/dev_graphdb6.ipynb Cell 7'\u001b[0m in \u001b[0;36m<cell line: 1>\u001b[0;34m()\u001b[0m\n\u001b[0;32m----> <a href='vscode-notebook-cell:/Users/ryan/github/lltk/notebooks/dev_graphdb6.ipynb#ch0000031?line=0'>1</a>\u001b[0m t\u001b[39m.\u001b[39mgdb\u001b[39m.\u001b[39mget_neighbs(t\u001b[39m.\u001b[39maddr)\n",
      "\u001b[0;31mNameError\u001b[0m: name 't' is not defined"
     ]
    }
   ],
   "source": [
    "t.gdb.get_neighbs(t.addr)"
   ]
  },
  {
   "cell_type": "code",
   "execution_count": 12,
   "metadata": {},
   "outputs": [
    {
     "data": {
      "text/plain": [
       "'_tmp1/_tmp2/XXXXX'"
      ]
     },
     "execution_count": 12,
     "metadata": {},
     "output_type": "execute_result"
    }
   ],
   "source": []
  },
  {
   "cell_type": "code",
   "execution_count": null,
   "metadata": {},
   "outputs": [],
   "source": []
  },
  {
   "cell_type": "code",
   "execution_count": 4,
   "metadata": {},
   "outputs": [
    {
     "name": "stderr",
     "output_type": "stream",
     "text": [
      "[18:20:11] lltk.corpus.corpus.\u001b[34m\u001b[1mCorpus\u001b[0m( \u001b[36m<- id = chadwyck\u001b[0m )\n",
      "[18:20:11] lltk.corpus.utils.\u001b[34m\u001b[1mload_corpus\u001b[0m( \u001b[36m<- id = chadwyck\u001b[0m )\n",
      "[18:20:11] lltk.corpus.utils.\u001b[34m\u001b[1mload_corpus\u001b[0m( \u001b[36mImporting corpus class \"Chadwyck\" from /Users/ryan/github/lltk/lltk/corpus/chadwyck/chadwyck.py\u001b[0m )\n",
      "[18:20:11] lltk.corpus.corpus.\u001b[34m\u001b[1m__init__\u001b[0m( \u001b[36mChadwyck(chadwyck)\u001b[0m )\n",
      "[18:20:11] lltk.corpus.utils.\u001b[34m\u001b[1mload_corpus\u001b[0m( \u001b[36m-> ChadwyckCorpus(chadwyck)\u001b[0m )\n",
      "[18:20:11] lltk.corpus.corpus.\u001b[34m\u001b[1mCorpus\u001b[0m( \u001b[36m-> ChadwyckCorpus(chadwyck)\u001b[0m )\n",
      "[18:20:11] lltk.corpus.corpus.\u001b[34m\u001b[1minit\u001b[0m( \u001b[36mChadwyckCorpus(chadwyck)\u001b[0m )\n",
      "[18:20:13] lltk.corpus.corpus.\u001b[34m\u001b[1minit\u001b[0m( \u001b[36minitialized 1337 texts\u001b[0m )\n"
     ]
    },
    {
     "name": "stdout",
     "output_type": "stream",
     "text": [
      "<lltk.tools.db.LLDBGraph object at 0x29584f160>\n"
     ]
    }
   ],
   "source": [
    "with log:\n",
    "    C=Corpus('chadwyck')\n",
    "    C.init()\n",
    "    print(C.gdb)"
   ]
  },
  {
   "cell_type": "code",
   "execution_count": 5,
   "metadata": {},
   "outputs": [
    {
     "name": "stderr",
     "output_type": "stream",
     "text": [
      "[18:20:13] lltk.text.text.\u001b[34m\u001b[1mget_local_sources\u001b[0m( \u001b[36m-> set()\u001b[0m )\n",
      "[18:20:13] lltk.model.matcher.\u001b[34m\u001b[1mMatcher\u001b[0m( \u001b[36m<- chadwyck\u001b[0m )\n",
      "[18:20:13] lltk.model.matcher.\u001b[34m\u001b[1minit_g_triples\u001b[0m( \u001b[36mread graph from /Users/ryan/lltk_data/corpora/chadwyck/data/rels/triples.txt\u001b[0m )\n",
      "[18:20:13] lltk.model.matcher.\u001b[34m\u001b[1mMatcher\u001b[0m( \u001b[36m-> <lltk.model.matcher.MatcherModel object at 0x121c2f310>\u001b[0m )\n",
      "[18:20:13] lltk.model.matcher.\u001b[34m\u001b[1mcache_g_triples\u001b[0m( \u001b[36mcached graph to /Users/ryan/lltk_data/corpora/chadwyck/data/rels/triples.txt\u001b[0m )\n"
     ]
    },
    {
     "data": {
      "text/plain": [
       "[]"
      ]
     },
     "execution_count": 5,
     "metadata": {},
     "output_type": "execute_result"
    }
   ],
   "source": [
    "C.t.sources"
   ]
  },
  {
   "cell_type": "code",
   "execution_count": 6,
   "metadata": {},
   "outputs": [],
   "source": [
    "t=C.au.Austen.Pride_And_Prejudice"
   ]
  },
  {
   "cell_type": "code",
   "execution_count": 7,
   "metadata": {},
   "outputs": [
    {
     "name": "stderr",
     "output_type": "stream",
     "text": [
      "[18:20:13] lltk.corpus.corpus.\u001b[34m\u001b[1mCorpus\u001b[0m( \u001b[36m<- id = wikidata\u001b[0m )\n",
      "[18:20:13] lltk.corpus.utils.\u001b[34m\u001b[1mload_corpus\u001b[0m( \u001b[36m<- id = wikidata\u001b[0m )\n",
      "[18:20:13] lltk.corpus.utils.\u001b[34m\u001b[1mload_corpus\u001b[0m( \u001b[36mImporting corpus class \"Wikidata\" from /Users/ryan/github/lltk/lltk/corpus/wikidata/wikidata.py\u001b[0m )\n",
      "[18:20:13] lltk.corpus.corpus.\u001b[34m\u001b[1m__init__\u001b[0m( \u001b[36mWikidata(wikidata)\u001b[0m )\n",
      "[18:20:13] lltk.corpus.utils.\u001b[34m\u001b[1mload_corpus\u001b[0m( \u001b[36m-> WikidataCorpus(wikidata)\u001b[0m )\n",
      "[18:20:13] lltk.corpus.corpus.\u001b[34m\u001b[1mCorpus\u001b[0m( \u001b[36m-> WikidataCorpus(wikidata)\u001b[0m )\n",
      "[18:20:13] lltk.corpus.corpus.\u001b[34m\u001b[1mCorpus\u001b[0m( \u001b[36m<- id = wikidata\u001b[0m )\n",
      "[18:20:13] lltk.corpus.corpus.\u001b[34m\u001b[1mCorpus\u001b[0m( \u001b[36m-> WikidataCorpus(wikidata)\u001b[0m )\n",
      "[18:20:13] lltk.corpus.corpus.\u001b[34m\u001b[1mtext\u001b[0m( \u001b[36m<- id = Q0, corpus = WikidataCorpus(wikidata)\u001b[0m )\n",
      "[18:20:13] lltk.corpus.corpus.\u001b[34m\u001b[1mget_text_id\u001b[0m( \u001b[36m<- id = Q0, corpus = WikidataCorpus(wikidata)\u001b[0m )\n",
      "[18:20:13] lltk.corpus.corpus.\u001b[34m\u001b[1mget_text_id\u001b[0m( \u001b[36m-> Q0\u001b[0m )\n",
      "[18:20:13] lltk.corpus.corpus.\u001b[34m\u001b[1minit_text\u001b[0m( \u001b[36m<- id = Q0, corpus = WikidataCorpus(wikidata)\u001b[0m )\n",
      "[18:20:13] lltk.text.text.\u001b[34m\u001b[1m__init__\u001b[0m( \u001b[36m<- id = Q0, corpus = WikidataCorpus(wikidata)\u001b[0m )\n",
      "[18:20:13] lltk.text.text.\u001b[34m\u001b[1m__init__\u001b[0m( \u001b[36mTextWikidataClass(id = Q0, corpus = WikidataCorpus(wikidata))\u001b[0m )\n",
      "[18:20:13] lltk.corpus.corpus.\u001b[34m\u001b[1minit_text\u001b[0m( \u001b[36m-> TextWikidataClass(_wikidata/Q0)\u001b[0m )\n",
      "[18:20:13] lltk.text.text.\u001b[34m\u001b[1mcache\u001b[0m( \u001b[36mTextWikidataClass(_wikidata/Q0)\u001b[0m )\n",
      "[18:20:13] lltk.tools.tools.\u001b[34m\u001b[1mis_cacheworthy\u001b[0m( \u001b[36mcache updated\n",
      "{'dictionary_item_added': [root['id']]}\u001b[0m )\n",
      "[18:20:13] lltk.text.text.\u001b[34m\u001b[1mcache_db\u001b[0m( \u001b[36mcached text meta to graph db: /Users/ryan/lltk_data/data/db/database.graphdb\u001b[0m )\n",
      "[18:20:13] lltk.corpus.corpus.\u001b[34m\u001b[1mtext\u001b[0m( \u001b[36m-> TextWikidataClass(_wikidata/Q0)\u001b[0m )\n",
      "[18:20:13] wikidata.\u001b[34m\u001b[1mquery_get_wikidata_id\u001b[0m( \u001b[36mQuerying for ID: Pride And Prejudice Austen\u001b[0m )\n",
      "[18:20:13] lltk.corpus.corpus.\u001b[34m\u001b[1mCorpus\u001b[0m( \u001b[36m<- id = wikidata\u001b[0m )\n",
      "[18:20:13] lltk.corpus.corpus.\u001b[34m\u001b[1mCorpus\u001b[0m( \u001b[36m-> WikidataCorpus(wikidata)\u001b[0m )\n",
      "[18:20:13] wikidata.\u001b[34m\u001b[1mquery_get_db\u001b[0m( \u001b[36mfound result in db for \"Pride And Prejudice Austen\": ['Q170583', 'Q22924649', 'Q57405775', 'Q63296184', 'Q63992194', 'Q6470022', 'Q63992252', 'Q83697272', 'Q2484090', 'Q63953241', 'Q64019667', 'Q7450988', 'Q25218086', 'Q4390263', 'Q2198673', 'Q64019286', 'Q2289525', 'Q2337271', 'Q64019255', 'Q64019256']\u001b[0m )\n",
      "[18:20:13] lltk.corpus.corpus.\u001b[34m\u001b[1mCorpus\u001b[0m( \u001b[36m<- id = wikidata\u001b[0m )\n",
      "[18:20:13] lltk.corpus.corpus.\u001b[34m\u001b[1mCorpus\u001b[0m( \u001b[36m-> WikidataCorpus(wikidata)\u001b[0m )\n",
      "[18:20:13] wikidata.\u001b[34m\u001b[1mquery_get_wikidata_id\u001b[0m( \u001b[36mqid_meta from db: 73 keys\u001b[0m )\n",
      "[18:20:13] lltk.corpus.corpus.\u001b[34m\u001b[1mCorpus\u001b[0m( \u001b[36m<- id = wikidata\u001b[0m )\n",
      "[18:20:13] lltk.corpus.corpus.\u001b[34m\u001b[1mCorpus\u001b[0m( \u001b[36m-> WikidataCorpus(wikidata)\u001b[0m )\n",
      "[18:20:13] lltk.corpus.corpus.\u001b[34m\u001b[1mtext\u001b[0m( \u001b[36m<- id = Q170583, corpus = WikidataCorpus(wikidata), kwargs = {'apple_books_book_id_(american_version)|P6395': '395534643', 'archive_of_our_own_tag|P8419': ['Prid)\u001b[0m )\n",
      "[18:20:13] lltk.corpus.corpus.\u001b[34m\u001b[1mget_text_id\u001b[0m( \u001b[36m<- id = Q170583, corpus = WikidataCorpus(wikidata), kwargs = {'apple_books_book_id_(american_version)|P6395': '395534643', 'archive_of_our_own_tag|P8419': ['Prid)\u001b[0m )\n",
      "[18:20:13] lltk.corpus.corpus.\u001b[34m\u001b[1mget_text_id\u001b[0m( \u001b[36m-> Q170583\u001b[0m )\n",
      "[18:20:13] lltk.corpus.corpus.\u001b[34m\u001b[1minit_text\u001b[0m( \u001b[36m<- id = Q170583, corpus = WikidataCorpus(wikidata), kwargs = {'apple_books_book_id_(american_version)|P6395': '395534643', 'archive_of_our_own_tag|P8419': ['Prid)\u001b[0m )\n",
      "[18:20:13] lltk.text.text.\u001b[34m\u001b[1m__init__\u001b[0m( \u001b[36m<- id = Q170583, corpus = WikidataCorpus(wikidata), kwargs = {'apple_books_book_id_(american_version)|P6395': '395534643', 'archive_of_our_own_tag|P8419': ['Prid)\u001b[0m )\n",
      "[18:20:13] lltk.text.text.\u001b[34m\u001b[1m__init__\u001b[0m( \u001b[36mTextWikidataClass(id = Q170583, corpus = WikidataCorpus(wikidata), kwargs = {'apple_books_book_id_(american_version)|P6395': '395534643', 'archive_of_our_own_tag|P8419': ['Prid))\u001b[0m )\n",
      "[18:20:13] lltk.corpus.corpus.\u001b[34m\u001b[1minit_text\u001b[0m( \u001b[36m-> TextWikidataClass(_wikidata/Q170583)\u001b[0m )\n",
      "[18:20:13] lltk.text.text.\u001b[34m\u001b[1mcache\u001b[0m( \u001b[36mTextWikidataClass(_wikidata/Q170583)\u001b[0m )\n",
      "[18:20:13] lltk.tools.tools.\u001b[34m\u001b[1mis_cacheworthy\u001b[0m( \u001b[36mcache updated\n",
      "{ 'dictionary_item_added': [root['id'], root['apple_books_book_id_(american_version)|P6395'], root['archive_of_our_own_tag|P8419'], root['author|P50'], root['bibliotheque_nationale_de_france_id|P268'], root['bitraga_work_id|P6175'], root['canadiana_name_authority_id|P8179'], root['characters|P674'], root['commons_category|P373'], root['copyright_status|P6216'], root['country_of_origin|P495'], root['derivative_work|P4969'], root['dewey_decimal_classification_(works_and_editions)|P8359'], root['different_from|P1889'], root['distribution_format|P437'], root['encyclopaedia_britannica_online_id|P1417'], root['encyclopaedia_universalis_id|P3219'], root['fandom_article_id|P6262'], root['first_line|P1922'], root['followed_by|P156'], root['follows|P155'], root['form_of_creative_work|P7937'], root['freebase_id|P646'], root['full_work_available_at_url|P953'], root['genre|P136'], root['gnd_id|P227'], root['goodreads_version/edition_id|P2969'], root['goodreads_work_id|P8383'], root['google_knowledge_graph_id|P2671'], root['has_edition_or_translation|P747'], root['idref_id|P269'], root['image|P18'], root['inception|P571'], root['influenced_by|P737'], root['inspired_by|P941'], root['instance_of|P31'], root['label'], root['language_of_work_or_name|P407'], root['last_line|P3132'], root['libraries_australia_id|P409'], root['library_of_congress_authority_id|P244'], root['library_of_congress_classification|P1149'], root['librarything_work_id|P1085'], root['libris-uri|P5587'], root['main_subject|P921'], root['musicbrainz_release_group_id|P436'], root['musicbrainz_work_id|P435'], root['namuwiki_id|P8885'], root['narrative_location|P840'], root['narrator|P2438'], root['national_library_of_brazil_id|P4619'], root['national_library_of_israel_id_(old)|P949'], root['national_library_of_israel_j9u_id|P8189'], root['ne.se_id|P3222'], root['nkcr_aut_id|P691'], root['nnl_item_id|P3959'], root['oclc_control_number|P243'], root['oclc_work_id|P5331'], root['plwabn_id|P7293'], root['publication_date|P577'], root['quora_topic_id|P3417'], root['references_work,_tradition_or_theory|P8371'], root['schematic|P5555'], root['selibr_id|P906'], root['senscritique_work_id|P10100'], root['set_in_period|P2408'], root['theatricalia_play_id|P1242'], root['title|P1476'], root['topics_main_category|P910'], root['uses|P2283'], root['viaf_id|P214'], root['what'], root['wolfram_language_entity_code|P4839'], root['working_title|P1638']]}\u001b[0m )\n",
      "[18:20:13] lltk.text.text.\u001b[34m\u001b[1mcache_db\u001b[0m( \u001b[36mcached text meta to graph db: /Users/ryan/lltk_data/data/db/database.graphdb\u001b[0m )\n",
      "[18:20:13] lltk.corpus.corpus.\u001b[34m\u001b[1mtext\u001b[0m( \u001b[36m-> TextWikidataClass(_wikidata/Q170583)\u001b[0m )\n",
      "[18:20:13] lltk.text.text.\u001b[34m\u001b[1mText\u001b[0m( \u001b[36m<- id = Q170583, corpus = wikidata, kwargs = {'apple_books_book_id_(american_version)|P6395': '395534643', 'archive_of_our_own_tag|P8419': ['Prid)\u001b[0m )\n",
      "[18:20:13] lltk.text.text.\u001b[34m\u001b[1mText\u001b[0m( \u001b[36m<- addr = _wikidata/Q170583\u001b[0m )\n",
      "[18:20:13] lltk.corpus.corpus.\u001b[34m\u001b[1mCorpus\u001b[0m( \u001b[36m<- id = wikidata\u001b[0m )\n",
      "[18:20:13] lltk.corpus.corpus.\u001b[34m\u001b[1mCorpus\u001b[0m( \u001b[36m-> WikidataCorpus(wikidata)\u001b[0m )\n",
      "[18:20:13] lltk.corpus.corpus.\u001b[34m\u001b[1mtext\u001b[0m( \u001b[36m<- id = Q170583, corpus = WikidataCorpus(wikidata), kwargs = {'apple_books_book_id_(american_version)|P6395': '395534643', 'archive_of_our_own_tag|P8419': ['Prid)\u001b[0m )\n",
      "[18:20:13] lltk.corpus.corpus.\u001b[34m\u001b[1mget_text_id\u001b[0m( \u001b[36m<- id = Q170583, corpus = WikidataCorpus(wikidata), kwargs = {'apple_books_book_id_(american_version)|P6395': '395534643', 'archive_of_our_own_tag|P8419': ['Prid)\u001b[0m )\n",
      "[18:20:13] lltk.corpus.corpus.\u001b[34m\u001b[1mget_text_id\u001b[0m( \u001b[36m-> Q170583\u001b[0m )\n",
      "[18:20:13] lltk.text.text.\u001b[34m\u001b[1mupdate\u001b[0m( \u001b[36m<- \u001b[0m )\n",
      "[18:20:13] lltk.corpus.corpus.\u001b[34m\u001b[1mtext\u001b[0m( \u001b[36m-> TextWikidataClass(_wikidata/Q170583)\u001b[0m )\n",
      "[18:20:13] lltk.text.text.\u001b[34m\u001b[1mText\u001b[0m( \u001b[36m-> TextWikidataClass(_wikidata/Q170583)\u001b[0m )\n",
      "[18:20:13] wikidata.\u001b[34m\u001b[1mTextWikidata\u001b[0m( \u001b[36mGenerated wiki text: TextWikidataClass(_wikidata/Q170583)\u001b[0m )\n",
      "[18:20:13] lltk.text.text.\u001b[34m\u001b[1mmatch\u001b[0m( \u001b[36m_chadwyck/Nineteenth-Century_Fiction/ncf0204.06 --> _wikidata/Q170583 ?\u001b[0m )\n",
      "[18:20:13] lltk.tools.tools.\u001b[34m\u001b[1mis_cacheworthy\u001b[0m( \u001b[36mcache unchanged\u001b[0m )\n",
      "[18:20:13] lltk.tools.tools.\u001b[34m\u001b[1mis_cacheworthy\u001b[0m( \u001b[36mcache unchanged\u001b[0m )\n",
      "[18:20:13] lltk.text.text.\u001b[34m\u001b[1mget_local_sources\u001b[0m( \u001b[36m-> set()\u001b[0m )\n"
     ]
    }
   ],
   "source": [
    "with log: Corpus('wikidata').text_from(t)"
   ]
  },
  {
   "cell_type": "code",
   "execution_count": null,
   "metadata": {},
   "outputs": [],
   "source": []
  }
 ],
 "metadata": {
  "interpreter": {
   "hash": "99c3488a746bccd77b7949f8f419451e1c962da56ebbaaae6e4d2e6c8c07eaa0"
  },
  "kernelspec": {
   "display_name": "Python 3.9.7 ('base')",
   "language": "python",
   "name": "python3"
  },
  "language_info": {
   "codemirror_mode": {
    "name": "ipython",
    "version": 3
   },
   "file_extension": ".py",
   "mimetype": "text/x-python",
   "name": "python",
   "nbconvert_exporter": "python",
   "pygments_lexer": "ipython3",
   "version": "3.9.7"
  },
  "orig_nbformat": 4
 },
 "nbformat": 4,
 "nbformat_minor": 2
}

{
 "cells": [
  {
   "cell_type": "code",
   "execution_count": 1,
   "metadata": {},
   "outputs": [],
   "source": [
    "import sys; sys.path.insert(0,'../../yapmap')\n",
    "import sys; sys.path.insert(0,'..')\n",
    "from lltk import *\n",
    "# log.show()"
   ]
  },
  {
   "cell_type": "code",
   "execution_count": 2,
   "metadata": {},
   "outputs": [
    {
     "data": {
      "text/plain": [
       "(TextHathiRecord(_hathi/htrn/008663767), TextWikidataClass(_wikidata/Q223880))"
      ]
     },
     "execution_count": 2,
     "metadata": {},
     "output_type": "execute_result"
    }
   ],
   "source": [
    "C=Corpus('chadwyck')\n",
    "t=C.au.Austen.Emma\n",
    "th=Corpus('hathi').text_from(t)\n",
    "tw=Corpus('wikidata').text_from(t)\n",
    "th,tw"
   ]
  },
  {
   "cell_type": "code",
   "execution_count": 4,
   "metadata": {},
   "outputs": [
    {
     "name": "stderr",
     "output_type": "stream",
     "text": [
      "[21:06:59] lltk.text.text.\u001b[34m\u001b[1mget_sources\u001b[0m( \u001b[36m...\u001b[0m )\n",
      "[21:06:59] lltk.text.text.\u001b[34m\u001b[1mget_matches\u001b[0m( \u001b[36m...\u001b[0m )\n",
      "[21:06:59] lltk.text.text.\u001b[34m\u001b[1mText\u001b[0m( \u001b[36m<- id = _hathi/htrn/008663767\u001b[0m )\n",
      "[21:06:59] lltk.text.text.\u001b[34m\u001b[1mText\u001b[0m( \u001b[36m<- addr = _hathi/htrn/008663767\u001b[0m )\n",
      "[21:06:59] lltk.text.text.\u001b[34m\u001b[1mText\u001b[0m( \u001b[36m-> TextHathiRecord(_hathi/htrn/008663767)\u001b[0m )\n",
      "[21:06:59] lltk.text.text.\u001b[34m\u001b[1mText\u001b[0m( \u001b[36m<- id = _wikidata/Q223880\u001b[0m )\n",
      "[21:06:59] lltk.text.text.\u001b[34m\u001b[1mText\u001b[0m( \u001b[36m<- addr = _wikidata/Q223880\u001b[0m )\n",
      "[21:06:59] lltk.text.text.\u001b[34m\u001b[1mText\u001b[0m( \u001b[36m-> TextWikidataClass(_wikidata/Q223880)\u001b[0m )\n",
      "[21:06:59] lltk.text.text.\u001b[34m\u001b[1mText\u001b[0m( \u001b[36m<- id = _hathi/htrn/008663767\u001b[0m )\n",
      "[21:06:59] lltk.text.text.\u001b[34m\u001b[1mText\u001b[0m( \u001b[36m<- addr = _hathi/htrn/008663767\u001b[0m )\n",
      "[21:06:59] lltk.text.text.\u001b[34m\u001b[1mText\u001b[0m( \u001b[36m-> TextHathiRecord(_hathi/htrn/008663767)\u001b[0m )\n",
      "[21:06:59] lltk.text.text.\u001b[34m\u001b[1mText\u001b[0m( \u001b[36m<- id = _wikidata/Q223880\u001b[0m )\n",
      "[21:06:59] lltk.text.text.\u001b[34m\u001b[1mText\u001b[0m( \u001b[36m<- addr = _wikidata/Q223880\u001b[0m )\n",
      "[21:06:59] lltk.text.text.\u001b[34m\u001b[1mText\u001b[0m( \u001b[36m-> TextWikidataClass(_wikidata/Q223880)\u001b[0m )\n",
      "[21:06:59] lltk.text.text.\u001b[34m\u001b[1mText\u001b[0m( \u001b[36m<- id = _hathi/htid/hvd.hwiwgd\u001b[0m )\n",
      "[21:06:59] lltk.text.text.\u001b[34m\u001b[1mText\u001b[0m( \u001b[36m<- addr = _hathi/htid/hvd.hwiwgd\u001b[0m )\n",
      "[21:06:59] lltk.text.text.\u001b[34m\u001b[1mText\u001b[0m( \u001b[36m-> TextHathiVolume(_hathi/htid/hvd.hwiwgd)\u001b[0m )\n",
      "[21:06:59] lltk.text.text.\u001b[34m\u001b[1mText\u001b[0m( \u001b[36m<- id = _hathi/htid/nyp.33433074943576\u001b[0m )\n",
      "[21:06:59] lltk.text.text.\u001b[34m\u001b[1mText\u001b[0m( \u001b[36m<- addr = _hathi/htid/nyp.33433074943576\u001b[0m )\n",
      "[21:06:59] lltk.text.text.\u001b[34m\u001b[1mText\u001b[0m( \u001b[36m-> TextHathiVolume(_hathi/htid/nyp.33433074943576)\u001b[0m )\n",
      "[21:06:59] lltk.text.text.\u001b[34m\u001b[1mText\u001b[0m( \u001b[36m<- id = _hathi/htid/nyp.33433074943568\u001b[0m )\n",
      "[21:06:59] lltk.text.text.\u001b[34m\u001b[1mText\u001b[0m( \u001b[36m<- addr = _hathi/htid/nyp.33433074943568\u001b[0m )\n",
      "[21:06:59] lltk.text.text.\u001b[34m\u001b[1mText\u001b[0m( \u001b[36m-> TextHathiVolume(_hathi/htid/nyp.33433074943568)\u001b[0m )\n",
      "[21:06:59] lltk.text.text.\u001b[34m\u001b[1mText\u001b[0m( \u001b[36m<- id = _hathi/htid/hvd.hwiwgd\u001b[0m )\n",
      "[21:06:59] lltk.text.text.\u001b[34m\u001b[1mText\u001b[0m( \u001b[36m<- addr = _hathi/htid/hvd.hwiwgd\u001b[0m )\n",
      "[21:06:59] lltk.text.text.\u001b[34m\u001b[1mText\u001b[0m( \u001b[36m-> TextHathiVolume(_hathi/htid/hvd.hwiwgd)\u001b[0m )\n",
      "[21:06:59] lltk.text.text.\u001b[34m\u001b[1mText\u001b[0m( \u001b[36m<- id = _hathi/htid/nyp.33433074943568\u001b[0m )\n",
      "[21:06:59] lltk.text.text.\u001b[34m\u001b[1mText\u001b[0m( \u001b[36m<- addr = _hathi/htid/nyp.33433074943568\u001b[0m )\n",
      "[21:06:59] lltk.text.text.\u001b[34m\u001b[1mText\u001b[0m( \u001b[36m-> TextHathiVolume(_hathi/htid/nyp.33433074943568)\u001b[0m )\n",
      "[21:06:59] lltk.text.text.\u001b[34m\u001b[1mText\u001b[0m( \u001b[36m<- id = _hathi/htid/nyp.33433074943576\u001b[0m )\n",
      "[21:06:59] lltk.text.text.\u001b[34m\u001b[1mText\u001b[0m( \u001b[36m<- addr = _hathi/htid/nyp.33433074943576\u001b[0m )\n",
      "[21:06:59] lltk.text.text.\u001b[34m\u001b[1mText\u001b[0m( \u001b[36m-> TextHathiVolume(_hathi/htid/nyp.33433074943576)\u001b[0m )\n"
     ]
    },
    {
     "data": {
      "text/plain": [
       "{'id__wikidata': 'Q223880',\n",
       " 'archive_of_our_own_tag|P8419__wikidata': 'Emma - Jane Austen',\n",
       " 'author|P50__wikidata': 'Jane Austen|Q36322',\n",
       " 'bbc_things_id|P1617__wikidata': 'e6c49a74-eb85-4bbe-bd32-d71fd942e1a0',\n",
       " 'bibliotheque_nationale_de_france_id|P268__wikidata': '119430968',\n",
       " 'commons_category|P373__wikidata': 'Emma by Jane Austen',\n",
       " 'copyright_status|P6216__wikidata': ['public domain|Q19652',\n",
       "  'public domain|Q19652'],\n",
       " 'country_of_origin|P495__wikidata': 'United Kingdom|Q145',\n",
       " 'depicts|P180__wikidata': 'Jane Austen|Q36322',\n",
       " 'derivative_work|P4969__wikidata': ['Emma|Q1338008',\n",
       "  'Aisha|Q2089221',\n",
       "  'Emma|Q2565731',\n",
       "  'Emma.|Q65091224',\n",
       "  'Emma|Q4531677',\n",
       "  'Emma|Q388601',\n",
       "  'Emma|Q1337993',\n",
       "  'Emma|Q4531678'],\n",
       " 'different_from|P1889__wikidata': 'Emma|Q226248',\n",
       " 'encyclopaedia_britannica_online_id|P1417__wikidata': 'topic/Emma-novel-by-Austen',\n",
       " 'first_line|P1922__wikidata': 'Emma Woodhouse, handsome, clever, and rich, with a comfortable home and happy disposition, seemed to unite some of the best blessings of existence; and had lived nearly twenty-one years in the world with very little to distress or vex her.',\n",
       " 'followed_by|P156__wikidata': 'Northanger Abbey|Q477508',\n",
       " 'follows|P155__wikidata': 'Mansfield Park|Q469690',\n",
       " 'form_of_creative_work|P7937__wikidata': 'novel|Q8261',\n",
       " 'freebase_id|P646__wikidata': '/m/0frym',\n",
       " 'genre|P136__wikidata': 'romantic fiction|Q19765983',\n",
       " 'has_edition_or_translation|P747__wikidata': [['', None], 'Emma|Q83699540'],\n",
       " 'image|P18__wikidata': 'EmmaTitlePage.jpg',\n",
       " 'instance_of|P31__wikidata': 'literary work|Q7725634',\n",
       " 'label__wikidata': 'Emma',\n",
       " 'language_of_work_or_name|P407__wikidata': 'English|Q1860',\n",
       " 'last_line|P3132__wikidata': 'But, in spite of these deficiencies, the wishes, the hopes, the confidence, the predictions of the small band of true friends who witnessed the ceremony, were fully answered in the perfect happiness of the union.',\n",
       " 'library_of_congress_authority_id|P244__wikidata': 'no2005107571',\n",
       " 'library_of_congress_classification|P1149__wikidata': 'PR4034.E5',\n",
       " 'librarything_work_id|P1085__wikidata': '364',\n",
       " 'musicbrainz_release_group_id|P436__wikidata': '6e2e9bc9-b267-4625-b03b-dc0200da8597',\n",
       " 'narrative_location|P840__wikidata': 'England|Q21',\n",
       " 'narrator|P2438__wikidata': 'third-person narrator|Q63532437',\n",
       " 'national_library_of_israel_j9u_id|P8189__wikidata': '987007583568805171',\n",
       " 'nnl_item_id|P3959__wikidata': ['001252838', '003452001', '003864018'],\n",
       " 'open_library_id|P648__wikidata': 'OL66513W',\n",
       " 'project_gutenberg_ebook_id|P2034__wikidata': '158',\n",
       " 'publication_date|P577__wikidata': '+1815-12-23T00:00:00Z',\n",
       " 'publisher|P123__wikidata': 'John Murray|Q1232629',\n",
       " 'title|P1476__wikidata': 'Emma',\n",
       " 'topics_main_category|P910__wikidata': 'Category:Emma by Jane Austen|Q10016634',\n",
       " 'tv_tropes_identifier|P6839__wikidata': 'Literature/Emma',\n",
       " 'viaf_id|P214__wikidata': '178480306',\n",
       " 'what__wikidata': 'literary work',\n",
       " 'id__hathi': 'htrn/008663767',\n",
       " 'htid__hathi': 'hvd.hwiwgd',\n",
       " 'htids__hathi': ['hvd.hwiwgd', 'nyp.33433074943576', 'nyp.33433074943568'],\n",
       " 'num_vols__hathi': 3,\n",
       " 'oclc__hathi': '15194809',\n",
       " 'publishDate__hathi': '1901',\n",
       " 'recordURL__hathi': 'https://catalog.hathitrust.org/Record/008663767',\n",
       " 'title__hathi': 'Emma',\n",
       " 'year__hathi': 1901}"
      ]
     },
     "execution_count": 4,
     "metadata": {},
     "output_type": "execute_result"
    }
   ],
   "source": [
    "with log: x=t.metadata_from_sources()\n",
    "x"
   ]
  },
  {
   "cell_type": "code",
   "execution_count": null,
   "metadata": {},
   "outputs": [],
   "source": []
  },
  {
   "cell_type": "code",
   "execution_count": 6,
   "metadata": {},
   "outputs": [
    {
     "name": "stderr",
     "output_type": "stream",
     "text": [
      "[21:01:42] lltk.text.text.\u001b[34m\u001b[1mget_sources\u001b[0m( \u001b[36m...\u001b[0m )\n",
      "[21:01:42] lltk.text.text.\u001b[34m\u001b[1mget_matches\u001b[0m( \u001b[36m...\u001b[0m )\n",
      "[21:01:42] lltk.text.text.\u001b[34m\u001b[1mText\u001b[0m( \u001b[36m<- id = _hathi/htrn/008663767\u001b[0m )\n",
      "[21:01:42] lltk.text.text.\u001b[34m\u001b[1mText\u001b[0m( \u001b[36m<- addr = _hathi/htrn/008663767\u001b[0m )\n",
      "[21:01:42] lltk.text.text.\u001b[34m\u001b[1mText\u001b[0m( \u001b[36m-> TextHathiRecord(_hathi/htrn/008663767)\u001b[0m )\n",
      "[21:01:42] lltk.text.text.\u001b[34m\u001b[1mText\u001b[0m( \u001b[36m<- id = _wikidata/Q223880\u001b[0m )\n",
      "[21:01:42] lltk.text.text.\u001b[34m\u001b[1mText\u001b[0m( \u001b[36m<- addr = _wikidata/Q223880\u001b[0m )\n",
      "[21:01:42] lltk.text.text.\u001b[34m\u001b[1mText\u001b[0m( \u001b[36m-> TextWikidataClass(_wikidata/Q223880)\u001b[0m )\n",
      "[21:01:42] lltk.text.text.\u001b[34m\u001b[1mText\u001b[0m( \u001b[36m<- id = _hathi/htrn/008663767\u001b[0m )\n",
      "[21:01:42] lltk.text.text.\u001b[34m\u001b[1mText\u001b[0m( \u001b[36m<- addr = _hathi/htrn/008663767\u001b[0m )\n",
      "[21:01:42] lltk.text.text.\u001b[34m\u001b[1mText\u001b[0m( \u001b[36m-> TextHathiRecord(_hathi/htrn/008663767)\u001b[0m )\n",
      "[21:01:42] lltk.text.text.\u001b[34m\u001b[1mText\u001b[0m( \u001b[36m<- id = _wikidata/Q223880\u001b[0m )\n",
      "[21:01:42] lltk.text.text.\u001b[34m\u001b[1mText\u001b[0m( \u001b[36m<- addr = _wikidata/Q223880\u001b[0m )\n",
      "[21:01:42] lltk.text.text.\u001b[34m\u001b[1mText\u001b[0m( \u001b[36m-> TextWikidataClass(_wikidata/Q223880)\u001b[0m )\n",
      "[21:01:42] lltk.text.text.\u001b[34m\u001b[1mText\u001b[0m( \u001b[36m<- id = _hathi/htid/hvd.hwiwgd\u001b[0m )\n",
      "[21:01:42] lltk.text.text.\u001b[34m\u001b[1mText\u001b[0m( \u001b[36m<- addr = _hathi/htid/hvd.hwiwgd\u001b[0m )\n",
      "[21:01:42] lltk.text.text.\u001b[34m\u001b[1mText\u001b[0m( \u001b[36m-> TextHathiVolume(_hathi/htid/hvd.hwiwgd)\u001b[0m )\n",
      "[21:01:42] lltk.text.text.\u001b[34m\u001b[1mText\u001b[0m( \u001b[36m<- id = _hathi/htid/nyp.33433074943576\u001b[0m )\n",
      "[21:01:42] lltk.text.text.\u001b[34m\u001b[1mText\u001b[0m( \u001b[36m<- addr = _hathi/htid/nyp.33433074943576\u001b[0m )\n",
      "[21:01:42] lltk.text.text.\u001b[34m\u001b[1mText\u001b[0m( \u001b[36m-> TextHathiVolume(_hathi/htid/nyp.33433074943576)\u001b[0m )\n",
      "[21:01:42] lltk.text.text.\u001b[34m\u001b[1mText\u001b[0m( \u001b[36m<- id = _hathi/htid/nyp.33433074943568\u001b[0m )\n",
      "[21:01:42] lltk.text.text.\u001b[34m\u001b[1mText\u001b[0m( \u001b[36m<- addr = _hathi/htid/nyp.33433074943568\u001b[0m )\n",
      "[21:01:42] lltk.text.text.\u001b[34m\u001b[1mText\u001b[0m( \u001b[36m-> TextHathiVolume(_hathi/htid/nyp.33433074943568)\u001b[0m )\n",
      "[21:01:42] lltk.text.text.\u001b[34m\u001b[1mText\u001b[0m( \u001b[36m<- id = _hathi/htid/hvd.hwiwgd\u001b[0m )\n",
      "[21:01:42] lltk.text.text.\u001b[34m\u001b[1mText\u001b[0m( \u001b[36m<- addr = _hathi/htid/hvd.hwiwgd\u001b[0m )\n",
      "[21:01:42] lltk.text.text.\u001b[34m\u001b[1mText\u001b[0m( \u001b[36m-> TextHathiVolume(_hathi/htid/hvd.hwiwgd)\u001b[0m )\n",
      "[21:01:42] lltk.text.text.\u001b[34m\u001b[1mText\u001b[0m( \u001b[36m<- id = _hathi/htid/nyp.33433074943568\u001b[0m )\n",
      "[21:01:42] lltk.text.text.\u001b[34m\u001b[1mText\u001b[0m( \u001b[36m<- addr = _hathi/htid/nyp.33433074943568\u001b[0m )\n",
      "[21:01:42] lltk.text.text.\u001b[34m\u001b[1mText\u001b[0m( \u001b[36m-> TextHathiVolume(_hathi/htid/nyp.33433074943568)\u001b[0m )\n",
      "[21:01:42] lltk.text.text.\u001b[34m\u001b[1mText\u001b[0m( \u001b[36m<- id = _hathi/htid/nyp.33433074943576\u001b[0m )\n",
      "[21:01:42] lltk.text.text.\u001b[34m\u001b[1mText\u001b[0m( \u001b[36m<- addr = _hathi/htid/nyp.33433074943576\u001b[0m )\n",
      "[21:01:42] lltk.text.text.\u001b[34m\u001b[1mText\u001b[0m( \u001b[36m-> TextHathiVolume(_hathi/htid/nyp.33433074943576)\u001b[0m )\n"
     ]
    },
    {
     "data": {
      "text/plain": [
       "{TextHathiRecord(_hathi/htrn/008663767),\n",
       " TextHathiVolume(_hathi/htid/hvd.hwiwgd),\n",
       " TextHathiVolume(_hathi/htid/nyp.33433074943568),\n",
       " TextHathiVolume(_hathi/htid/nyp.33433074943576),\n",
       " TextWikidataClass(_wikidata/Q223880)}"
      ]
     },
     "execution_count": 6,
     "metadata": {},
     "output_type": "execute_result"
    }
   ],
   "source": [
    "t.get_sources()"
   ]
  },
  {
   "cell_type": "code",
   "execution_count": 7,
   "metadata": {},
   "outputs": [
    {
     "name": "stderr",
     "output_type": "stream",
     "text": [
      "[21:01:43] lltk.text.text.\u001b[34m\u001b[1mget_sources\u001b[0m( \u001b[36m...\u001b[0m )\n",
      "[21:01:43] lltk.text.text.\u001b[34m\u001b[1mget_matches\u001b[0m( \u001b[36m...\u001b[0m )\n",
      "[21:01:43] lltk.text.text.\u001b[34m\u001b[1mText\u001b[0m( \u001b[36m<- id = _hathi/htid/hvd.hwiwgd\u001b[0m )\n",
      "[21:01:43] lltk.text.text.\u001b[34m\u001b[1mText\u001b[0m( \u001b[36m<- addr = _hathi/htid/hvd.hwiwgd\u001b[0m )\n",
      "[21:01:43] lltk.text.text.\u001b[34m\u001b[1mText\u001b[0m( \u001b[36m-> TextHathiVolume(_hathi/htid/hvd.hwiwgd)\u001b[0m )\n",
      "[21:01:43] lltk.text.text.\u001b[34m\u001b[1mText\u001b[0m( \u001b[36m<- id = _hathi/htid/nyp.33433074943576\u001b[0m )\n",
      "[21:01:43] lltk.text.text.\u001b[34m\u001b[1mText\u001b[0m( \u001b[36m<- addr = _hathi/htid/nyp.33433074943576\u001b[0m )\n",
      "[21:01:43] lltk.text.text.\u001b[34m\u001b[1mText\u001b[0m( \u001b[36m-> TextHathiVolume(_hathi/htid/nyp.33433074943576)\u001b[0m )\n",
      "[21:01:43] lltk.text.text.\u001b[34m\u001b[1mText\u001b[0m( \u001b[36m<- id = _hathi/htid/nyp.33433074943568\u001b[0m )\n",
      "[21:01:43] lltk.text.text.\u001b[34m\u001b[1mText\u001b[0m( \u001b[36m<- addr = _hathi/htid/nyp.33433074943568\u001b[0m )\n",
      "[21:01:43] lltk.text.text.\u001b[34m\u001b[1mText\u001b[0m( \u001b[36m-> TextHathiVolume(_hathi/htid/nyp.33433074943568)\u001b[0m )\n",
      "[21:01:43] lltk.text.text.\u001b[34m\u001b[1mText\u001b[0m( \u001b[36m<- id = _chadwyck/Nineteenth-Century_Fiction/ncf0204.01\u001b[0m )\n",
      "[21:01:43] lltk.text.text.\u001b[34m\u001b[1mText\u001b[0m( \u001b[36m<- addr = _chadwyck/Nineteenth-Century_Fiction/ncf0204.01\u001b[0m )\n",
      "[21:01:43] lltk.text.text.\u001b[34m\u001b[1mText\u001b[0m( \u001b[36m-> TextChadwyck(_chadwyck/Nineteenth-Century_Fiction/ncf0204.01)\u001b[0m )\n",
      "[21:01:43] lltk.text.text.\u001b[34m\u001b[1mText\u001b[0m( \u001b[36m<- id = _chadwyck/Nineteenth-Century_Fiction/ncf0204.01\u001b[0m )\n",
      "[21:01:43] lltk.text.text.\u001b[34m\u001b[1mText\u001b[0m( \u001b[36m<- addr = _chadwyck/Nineteenth-Century_Fiction/ncf0204.01\u001b[0m )\n",
      "[21:01:43] lltk.text.text.\u001b[34m\u001b[1mText\u001b[0m( \u001b[36m-> TextChadwyck(_chadwyck/Nineteenth-Century_Fiction/ncf0204.01)\u001b[0m )\n",
      "[21:01:43] lltk.text.text.\u001b[34m\u001b[1mText\u001b[0m( \u001b[36m<- id = _hathi/htid/hvd.hwiwgd\u001b[0m )\n",
      "[21:01:43] lltk.text.text.\u001b[34m\u001b[1mText\u001b[0m( \u001b[36m<- addr = _hathi/htid/hvd.hwiwgd\u001b[0m )\n",
      "[21:01:43] lltk.text.text.\u001b[34m\u001b[1mText\u001b[0m( \u001b[36m-> TextHathiVolume(_hathi/htid/hvd.hwiwgd)\u001b[0m )\n",
      "[21:01:43] lltk.text.text.\u001b[34m\u001b[1mText\u001b[0m( \u001b[36m<- id = _hathi/htid/nyp.33433074943568\u001b[0m )\n",
      "[21:01:43] lltk.text.text.\u001b[34m\u001b[1mText\u001b[0m( \u001b[36m<- addr = _hathi/htid/nyp.33433074943568\u001b[0m )\n",
      "[21:01:43] lltk.text.text.\u001b[34m\u001b[1mText\u001b[0m( \u001b[36m-> TextHathiVolume(_hathi/htid/nyp.33433074943568)\u001b[0m )\n",
      "[21:01:43] lltk.text.text.\u001b[34m\u001b[1mText\u001b[0m( \u001b[36m<- id = _hathi/htid/nyp.33433074943576\u001b[0m )\n",
      "[21:01:43] lltk.text.text.\u001b[34m\u001b[1mText\u001b[0m( \u001b[36m<- addr = _hathi/htid/nyp.33433074943576\u001b[0m )\n",
      "[21:01:43] lltk.text.text.\u001b[34m\u001b[1mText\u001b[0m( \u001b[36m-> TextHathiVolume(_hathi/htid/nyp.33433074943576)\u001b[0m )\n",
      "[21:01:43] lltk.text.text.\u001b[34m\u001b[1mText\u001b[0m( \u001b[36m<- id = _wikidata/Q223880\u001b[0m )\n",
      "[21:01:43] lltk.text.text.\u001b[34m\u001b[1mText\u001b[0m( \u001b[36m<- addr = _wikidata/Q223880\u001b[0m )\n",
      "[21:01:43] lltk.text.text.\u001b[34m\u001b[1mText\u001b[0m( \u001b[36m-> TextWikidataClass(_wikidata/Q223880)\u001b[0m )\n",
      "[21:01:43] lltk.text.text.\u001b[34m\u001b[1mText\u001b[0m( \u001b[36m<- id = _wikidata/Q223880\u001b[0m )\n",
      "[21:01:43] lltk.text.text.\u001b[34m\u001b[1mText\u001b[0m( \u001b[36m<- addr = _wikidata/Q223880\u001b[0m )\n",
      "[21:01:43] lltk.text.text.\u001b[34m\u001b[1mText\u001b[0m( \u001b[36m-> TextWikidataClass(_wikidata/Q223880)\u001b[0m )\n"
     ]
    },
    {
     "data": {
      "text/plain": [
       "{'id': 'htrn/008663767',\n",
       " 'id__chadwyck': 'Nineteenth-Century_Fiction/ncf0204.01',\n",
       " 'id__chadwyck__wikidata': 'Nineteenth-Century_Fiction/ncf0204.01',\n",
       " 'id__hathi': 'htid/hvd.hwiwgd',\n",
       " 'id__hathi__wikidata': 'htid/hvd.hwiwgd',\n",
       " 'id__wikidata': 'Q223880',\n",
       " 'archive_of_our_own_tag|P8419__wikidata': 'Emma - Jane Austen',\n",
       " 'author__chadwyck': 'Austen, Jane, 1775&ndash;1817',\n",
       " 'author__chadwyck__wikidata': 'Austen, Jane, 1775&ndash;1817',\n",
       " 'author|P50__wikidata': 'Jane Austen|Q36322',\n",
       " 'bbc_things_id|P1617__wikidata': 'e6c49a74-eb85-4bbe-bd32-d71fd942e1a0',\n",
       " 'bibliotheque_nationale_de_france_id|P268__wikidata': '119430968',\n",
       " 'commons_category|P373__wikidata': 'Emma by Jane Austen',\n",
       " 'copyright_status|P6216__wikidata': ['public domain|Q19652',\n",
       "  'public domain|Q19652'],\n",
       " 'country_of_origin|P495__wikidata': 'United Kingdom|Q145',\n",
       " 'depicts|P180__wikidata': 'Jane Austen|Q36322',\n",
       " 'derivative_work|P4969__wikidata': ['Emma|Q1338008',\n",
       "  'Aisha|Q2089221',\n",
       "  'Emma|Q2565731',\n",
       "  'Emma.|Q65091224',\n",
       "  'Emma|Q4531677',\n",
       "  'Emma|Q388601',\n",
       "  'Emma|Q1337993',\n",
       "  'Emma|Q4531678'],\n",
       " 'different_from|P1889__wikidata': 'Emma|Q226248',\n",
       " 'encyclopaedia_britannica_online_id|P1417__wikidata': 'topic/Emma-novel-by-Austen',\n",
       " 'first_line|P1922__wikidata': 'Emma Woodhouse, handsome, clever, and rich, with a comfortable home and happy disposition, seemed to unite some of the best blessings of existence; and had lived nearly twenty-one years in the world with very little to distress or vex her.',\n",
       " 'fn_raw__chadwyck': 'Nineteenth-Century_Fiction/ncf0204.01.new',\n",
       " 'fn_raw__chadwyck__wikidata': 'Nineteenth-Century_Fiction/ncf0204.01.new',\n",
       " 'followed_by|P156__wikidata': 'Northanger Abbey|Q477508',\n",
       " 'follows|P155__wikidata': 'Mansfield Park|Q469690',\n",
       " 'form_of_creative_work|P7937__wikidata': 'novel|Q8261',\n",
       " 'freebase_id|P646__wikidata': '/m/0frym',\n",
       " 'genre|P136__wikidata': 'romantic fiction|Q19765983',\n",
       " 'has_edition_or_translation|P747__wikidata': [['', None], 'Emma|Q83699540'],\n",
       " 'htid': 'hvd.hwiwgd',\n",
       " 'htid__hathi__wikidata': 'hvd.hwiwgd',\n",
       " 'htids': ['hvd.hwiwgd', 'nyp.33433074943576', 'nyp.33433074943568'],\n",
       " 'htids__hathi__wikidata': ['hvd.hwiwgd',\n",
       "  'nyp.33433074943576',\n",
       "  'nyp.33433074943568'],\n",
       " 'idref__chadwyck': 'Z200030685',\n",
       " 'idref__chadwyck__wikidata': 'Z200030685',\n",
       " 'image|P18__wikidata': 'EmmaTitlePage.jpg',\n",
       " 'instance_of|P31__wikidata': 'literary work|Q7725634',\n",
       " 'label__wikidata': 'Emma',\n",
       " 'language_of_work_or_name|P407__wikidata': 'English|Q1860',\n",
       " 'last_line|P3132__wikidata': 'But, in spite of these deficiencies, the wishes, the hopes, the confidence, the predictions of the small band of true friends who witnessed the ceremony, were fully answered in the perfect happiness of the union.',\n",
       " 'library_of_congress_authority_id|P244__wikidata': 'no2005107571',\n",
       " 'library_of_congress_classification|P1149__wikidata': 'PR4034.E5',\n",
       " 'librarything_work_id|P1085__wikidata': '364',\n",
       " 'medium__chadwyck': 'Fiction',\n",
       " 'medium__chadwyck__wikidata': 'Fiction',\n",
       " 'musicbrainz_release_group_id|P436__wikidata': '6e2e9bc9-b267-4625-b03b-dc0200da8597',\n",
       " 'name__chadwyck': 'TO HIS ROYAL HIGHNESS',\n",
       " 'name__chadwyck__wikidata': 'TO HIS ROYAL HIGHNESS',\n",
       " 'narrative_location|P840__wikidata': 'England|Q21',\n",
       " 'narrator|P2438__wikidata': 'third-person narrator|Q63532437',\n",
       " 'nation__chadwyck': 'British',\n",
       " 'nation__chadwyck__wikidata': 'British',\n",
       " 'national_library_of_israel_j9u_id|P8189__wikidata': '987007583568805171',\n",
       " 'nnl_item_id|P3959__wikidata': ['001252838', '003452001', '003864018'],\n",
       " 'num_vols': 3,\n",
       " 'num_vols__hathi__wikidata': 3,\n",
       " 'oclc': '15194809',\n",
       " 'oclc__hathi__wikidata': '15194809',\n",
       " 'open_library_id|P648__wikidata': 'OL66513W',\n",
       " 'project_gutenberg_ebook_id|P2034__wikidata': '158',\n",
       " 'pub__chadwyck': 'Printed for John Murray',\n",
       " 'pub__chadwyck__wikidata': 'Printed for John Murray',\n",
       " 'publication_date|P577__wikidata': '+1815-12-23T00:00:00Z',\n",
       " 'publishDate': '1901',\n",
       " 'publishDate__hathi__wikidata': '1901',\n",
       " 'publisher|P123__wikidata': 'John Murray|Q1232629',\n",
       " 'recordURL': 'https://catalog.hathitrust.org/Record/008663767',\n",
       " 'recordURL__hathi__wikidata': 'https://catalog.hathitrust.org/Record/008663767',\n",
       " 'subcorpus__chadwyck': 'Nineteenth-Century_Fiction',\n",
       " 'subcorpus__chadwyck__wikidata': 'Nineteenth-Century_Fiction',\n",
       " 'title': 'Emma',\n",
       " 'title__chadwyck': 'Emma: A Novel. In Three Volumes.',\n",
       " 'title__chadwyck__wikidata': 'Emma: A Novel. In Three Volumes.',\n",
       " 'title__hathi__wikidata': 'Emma',\n",
       " 'title|P1476__wikidata': 'Emma',\n",
       " 'topics_main_category|P910__wikidata': 'Category:Emma by Jane Austen|Q10016634',\n",
       " 'tv_tropes_identifier|P6839__wikidata': 'Literature/Emma',\n",
       " 'type__chadwyck': 'BOOK',\n",
       " 'type__chadwyck__wikidata': 'BOOK',\n",
       " 'viaf_id|P214__wikidata': '178480306',\n",
       " 'what__wikidata': 'literary work',\n",
       " 'year': 1901,\n",
       " 'year__chadwyck': '1816',\n",
       " 'year__chadwyck__wikidata': '1816',\n",
       " 'year__hathi__wikidata': 1901}"
      ]
     },
     "execution_count": 7,
     "metadata": {},
     "output_type": "execute_result"
    }
   ],
   "source": [
    "th.metadata(remote=True)"
   ]
  },
  {
   "cell_type": "code",
   "execution_count": 8,
   "metadata": {},
   "outputs": [
    {
     "name": "stderr",
     "output_type": "stream",
     "text": [
      "[21:01:43] lltk.text.text.\u001b[34m\u001b[1mText\u001b[0m( \u001b[36m<- kwargs = {'title': 'Ulysses', 'author': 'Joyce'})\u001b[0m )\n",
      "[21:01:43] lltk.text.text.\u001b[34m\u001b[1mText\u001b[0m( \u001b[36m<- addr = _tmp/author=Joyce/title=Ulysses\u001b[0m )\n",
      "[21:01:43] lltk.corpus.corpus.\u001b[34m\u001b[1mCorpus\u001b[0m( \u001b[36m<- id = tmp\u001b[0m )\n",
      "[21:01:43] lltk.corpus.utils.\u001b[34m\u001b[1mload_corpus\u001b[0m( \u001b[36m<- id = tmp\u001b[0m )\n",
      "[21:01:43] lltk.corpus.utils.\u001b[34m\u001b[1mload_corpus\u001b[0m( \u001b[36m-> ?\u001b[0m )\n",
      "[21:01:43] lltk.corpus.corpus.\u001b[34m\u001b[1m__init__\u001b[0m( \u001b[36mBaseCorpus(tmp)\u001b[0m )\n",
      "[21:01:43] lltk.corpus.corpus.\u001b[34m\u001b[1mCorpus\u001b[0m( \u001b[36m-> BaseCorpus(tmp)\u001b[0m )\n",
      "[21:01:43] lltk.corpus.corpus.\u001b[34m\u001b[1mtext\u001b[0m( \u001b[36m<- id = author=Joyce/title=Ulysses, corpus = BaseCorpus(tmp), kwargs = {'title': 'Ulysses', 'author': 'Joyce'})\u001b[0m )\n",
      "[21:01:43] lltk.corpus.corpus.\u001b[34m\u001b[1mget_text_id\u001b[0m( \u001b[36m<- id = author=Joyce/title=Ulysses, corpus = BaseCorpus(tmp), kwargs = {'title': 'Ulysses', 'author': 'Joyce'})\u001b[0m )\n",
      "[21:01:43] lltk.corpus.corpus.\u001b[34m\u001b[1minit\u001b[0m( \u001b[36mBaseCorpus(tmp)\u001b[0m )\n",
      "[21:01:43] lltk.corpus.corpus.\u001b[34m\u001b[1mget_text_id\u001b[0m( \u001b[36m-> author=Joyce/title=Ulysses\u001b[0m )\n",
      "[21:01:43] lltk.corpus.corpus.\u001b[34m\u001b[1minit_text\u001b[0m( \u001b[36m<- id = author=Joyce/title=Ulysses, corpus = BaseCorpus(tmp), kwargs = {'title': 'Ulysses', 'author': 'Joyce'})\u001b[0m )\n",
      "[21:01:43] lltk.text.text.\u001b[34m\u001b[1m__init__\u001b[0m( \u001b[36m<- id = author=Joyce/title=Ulysses, corpus = BaseCorpus(tmp), kwargs = {'title': 'Ulysses', 'author': 'Joyce'})\u001b[0m )\n",
      "[21:01:43] lltk.text.text.\u001b[34m\u001b[1m__init__\u001b[0m( \u001b[36mBaseText(id = author=Joyce/title=Ulysses, corpus = BaseCorpus(tmp), kwargs = {'title': 'Ulysses', 'author': 'Joyce'}))\u001b[0m )\n",
      "[21:01:43] lltk.corpus.corpus.\u001b[34m\u001b[1minit_text\u001b[0m( \u001b[36m-> BaseText(_tmp/author=Joyce/title=Ulysses)\u001b[0m )\n",
      "[21:01:43] lltk.corpus.corpus.\u001b[34m\u001b[1mtext\u001b[0m( \u001b[36m-> BaseText(_tmp/author=Joyce/title=Ulysses)\u001b[0m )\n",
      "[21:01:43] lltk.text.text.\u001b[34m\u001b[1mText\u001b[0m( \u001b[36m-> BaseText(_tmp/author=Joyce/title=Ulysses)\u001b[0m )\n",
      "[21:01:43] lltk.text.text.\u001b[34m\u001b[1mget_sources\u001b[0m( \u001b[36m...\u001b[0m )\n",
      "[21:01:43] lltk.text.text.\u001b[34m\u001b[1mget_matches\u001b[0m( \u001b[36m...\u001b[0m )\n"
     ]
    }
   ],
   "source": [
    "t=Text(title=\"Ulysses\",author=\"Joyce\")\n",
    "with log: t.metadata(remote=True)"
   ]
  },
  {
   "cell_type": "code",
   "execution_count": 9,
   "metadata": {},
   "outputs": [
    {
     "name": "stderr",
     "output_type": "stream",
     "text": [
      "[21:01:43] lltk.corpus.corpus.\u001b[34m\u001b[1mCorpus\u001b[0m( \u001b[36m<- id = wikidata\u001b[0m )\n",
      "[21:01:43] lltk.corpus.corpus.\u001b[34m\u001b[1mCorpus\u001b[0m( \u001b[36m-> WikidataCorpus(wikidata)\u001b[0m )\n",
      "[21:01:43] lltk.corpus.corpus.\u001b[34m\u001b[1mCorpus\u001b[0m( \u001b[36m<- id = wikidata\u001b[0m )\n",
      "[21:01:43] lltk.corpus.corpus.\u001b[34m\u001b[1mCorpus\u001b[0m( \u001b[36m-> WikidataCorpus(wikidata)\u001b[0m )\n",
      "[21:01:43] lltk.corpus.corpus.\u001b[34m\u001b[1mtext\u001b[0m( \u001b[36m<- id = Q0, corpus = WikidataCorpus(wikidata)\u001b[0m )\n",
      "[21:01:43] lltk.corpus.corpus.\u001b[34m\u001b[1mget_text_id\u001b[0m( \u001b[36m<- id = Q0, corpus = WikidataCorpus(wikidata)\u001b[0m )\n",
      "[21:01:43] lltk.corpus.corpus.\u001b[34m\u001b[1mget_text_id\u001b[0m( \u001b[36m-> Q0\u001b[0m )\n",
      "[21:01:43] lltk.corpus.corpus.\u001b[34m\u001b[1mtext\u001b[0m( \u001b[36m-> TextWikidataClass(_wikidata/Q0)\u001b[0m )\n",
      "[21:01:43] wikidata.\u001b[34m\u001b[1mquery_get_wikidata_id\u001b[0m( \u001b[36mQuerying for ID: Ulysses Joyce\u001b[0m )\n",
      "[21:01:43] wikidata.\u001b[34m\u001b[1mquery_get_db\u001b[0m( \u001b[36mfound result in db for \"Ulysses Joyce\": ['Q6511', 'Q59573666', 'Q59580626', 'Q19020726', 'Q16739965', 'Q19078182', 'Q56103050', 'Q56103091', 'Q56103127', 'Q56103204', 'Q56102932', 'Q56103019', 'Q7880903', 'Q104634599', 'Q56103151', 'Q573988', 'Q16919411', 'Q16845460', 'Q28648398', 'Q28647151']\u001b[0m )\n",
      "[21:01:43] lltk.corpus.corpus.\u001b[34m\u001b[1mCorpus\u001b[0m( \u001b[36m<- id = wikidata\u001b[0m )\n",
      "[21:01:43] lltk.corpus.corpus.\u001b[34m\u001b[1mCorpus\u001b[0m( \u001b[36m-> WikidataCorpus(wikidata)\u001b[0m )\n",
      "[21:01:43] wikidata.\u001b[34m\u001b[1mquery_get_wikidata_id\u001b[0m( \u001b[36mqid_meta from db: 61 keys\u001b[0m )\n",
      "[21:01:43] lltk.corpus.corpus.\u001b[34m\u001b[1mCorpus\u001b[0m( \u001b[36m<- id = wikidata\u001b[0m )\n",
      "[21:01:43] lltk.corpus.corpus.\u001b[34m\u001b[1mCorpus\u001b[0m( \u001b[36m-> WikidataCorpus(wikidata)\u001b[0m )\n",
      "[21:01:43] lltk.corpus.corpus.\u001b[34m\u001b[1mtext\u001b[0m( \u001b[36m<- id = Q6511, corpus = WikidataCorpus(wikidata), kwargs = {'ausstage_work_id|P8294': '3970', 'author|P50': 'James Joyce|Q6882', 'award_received|P166': \"Le Mon)\u001b[0m )\n",
      "[21:01:43] lltk.corpus.corpus.\u001b[34m\u001b[1mget_text_id\u001b[0m( \u001b[36m<- id = Q6511, corpus = WikidataCorpus(wikidata), kwargs = {'ausstage_work_id|P8294': '3970', 'author|P50': 'James Joyce|Q6882', 'award_received|P166': \"Le Mon)\u001b[0m )\n",
      "[21:01:43] lltk.corpus.corpus.\u001b[34m\u001b[1mget_text_id\u001b[0m( \u001b[36m-> Q6511\u001b[0m )\n",
      "[21:01:43] lltk.corpus.corpus.\u001b[34m\u001b[1minit_text\u001b[0m( \u001b[36m<- id = Q6511, corpus = WikidataCorpus(wikidata), kwargs = {'ausstage_work_id|P8294': '3970', 'author|P50': 'James Joyce|Q6882', 'award_received|P166': \"Le Mon)\u001b[0m )\n",
      "[21:01:43] lltk.text.text.\u001b[34m\u001b[1m__init__\u001b[0m( \u001b[36m<- id = Q6511, corpus = WikidataCorpus(wikidata), kwargs = {'ausstage_work_id|P8294': '3970', 'author|P50': 'James Joyce|Q6882', 'award_received|P166': \"Le Mon)\u001b[0m )\n",
      "[21:01:43] lltk.text.text.\u001b[34m\u001b[1m__init__\u001b[0m( \u001b[36mTextWikidataClass(id = Q6511, corpus = WikidataCorpus(wikidata), kwargs = {'ausstage_work_id|P8294': '3970', 'author|P50': 'James Joyce|Q6882', 'award_received|P166': \"Le Mon))\u001b[0m )\n",
      "[21:01:43] lltk.corpus.corpus.\u001b[34m\u001b[1minit_text\u001b[0m( \u001b[36m-> TextWikidataClass(_wikidata/Q6511)\u001b[0m )\n",
      "[21:01:43] lltk.text.text.\u001b[34m\u001b[1mcache\u001b[0m( \u001b[36mTextWikidataClass(_wikidata/Q6511)\u001b[0m )\n",
      "[21:01:43] lltk.tools.tools.\u001b[34m\u001b[1mis_cacheworthy\u001b[0m( \u001b[36mcache updated\n",
      "{ 'dictionary_item_added': [root['id'], root['ausstage_work_id|P8294'], root['author|P50'], root['award_received|P166'], root['based_on|P144'], root['biblioteca_nacional_de_espana_id|P950'], root['bibliotheque_nationale_de_france_id|P268'], root['bitraga_work_id|P6175'], root['bookbrainz_work_id|P7823'], root['bookogs_work_id|P8211'], root['characters|P674'], root['commons_category|P373'], root['copyright_status|P6216'], root['country_of_origin|P495'], root['derivative_work|P4969'], root['dewey_decimal_classification_(works_and_editions)|P8359'], root['encyclopaedia_britannica_online_id|P1417'], root['encyclopaedia_universalis_id|P3219'], root['first_line|P1922'], root['followed_by|P156'], root['follows|P155'], root['form_of_creative_work|P7937'], root['freebase_id|P646'], root['full_work_available_at_url|P953'], root['genre|P136'], root['gnd_id|P227'], root['gran_enciclopedia_catalana_id|P1296'], root['has_edition_or_translation|P747'], root['has_part_or_parts|P527'], root['idref_id|P269'], root['image|P18'], root['inception|P571'], root['inspired_by|P941'], root['instance_of|P31'], root['label'], root['language_of_work_or_name|P407'], root['last_line|P3132'], root['library_of_congress_authority_id|P244'], root['librarything_work_id|P1085'], root['modernist_commons_id|P9365'], root['musicbrainz_work_id|P435'], root['narrative_location|P840'], root['national_diet_library_id|P349'], root['national_library_of_israel_id_(old)|P949'], root['national_library_of_israel_j9u_id|P8189'], root['ne.se_id|P3222'], root['nkcr_aut_id|P691'], root['nnl_item_id|P3959'], root['number_of_parts_of_this_work|P2635'], root['oclc_work_id|P5331'], root['open_library_id|P648'], root['project_gutenberg_ebook_id|P2034'], root['publication_date|P577'], root['published_in|P1433'], root['publisher|P123'], root['set_in_period|P2408'], root['significant_event|P793'], root['svkkl_authority_id|P9322'], root['title|P1476'], root['topics_main_category|P910'], root['viaf_id|P214'], root['what']]}\u001b[0m )\n",
      "[21:01:43] lltk.text.text.\u001b[34m\u001b[1mcache_db\u001b[0m( \u001b[36mcached text meta to graph db: /Users/ryan/lltk_data/data/db/database.graphdb\u001b[0m )\n",
      "[21:01:43] lltk.corpus.corpus.\u001b[34m\u001b[1mtext\u001b[0m( \u001b[36m-> TextWikidataClass(_wikidata/Q6511)\u001b[0m )\n",
      "[21:01:43] lltk.text.text.\u001b[34m\u001b[1mText\u001b[0m( \u001b[36m<- id = Q6511, corpus = wikidata, kwargs = {'ausstage_work_id|P8294': '3970', 'author|P50': 'James Joyce|Q6882', 'award_received|P166': \"Le Mon)\u001b[0m )\n",
      "[21:01:43] lltk.text.text.\u001b[34m\u001b[1mText\u001b[0m( \u001b[36m<- addr = _wikidata/Q6511\u001b[0m )\n",
      "[21:01:43] lltk.corpus.corpus.\u001b[34m\u001b[1mCorpus\u001b[0m( \u001b[36m<- id = wikidata\u001b[0m )\n",
      "[21:01:43] lltk.corpus.corpus.\u001b[34m\u001b[1mCorpus\u001b[0m( \u001b[36m-> WikidataCorpus(wikidata)\u001b[0m )\n",
      "[21:01:43] lltk.corpus.corpus.\u001b[34m\u001b[1mtext\u001b[0m( \u001b[36m<- id = Q6511, corpus = WikidataCorpus(wikidata), kwargs = {'ausstage_work_id|P8294': '3970', 'author|P50': 'James Joyce|Q6882', 'award_received|P166': \"Le Mon)\u001b[0m )\n",
      "[21:01:43] lltk.corpus.corpus.\u001b[34m\u001b[1mget_text_id\u001b[0m( \u001b[36m<- id = Q6511, corpus = WikidataCorpus(wikidata), kwargs = {'ausstage_work_id|P8294': '3970', 'author|P50': 'James Joyce|Q6882', 'award_received|P166': \"Le Mon)\u001b[0m )\n",
      "[21:01:43] lltk.corpus.corpus.\u001b[34m\u001b[1mget_text_id\u001b[0m( \u001b[36m-> Q6511\u001b[0m )\n",
      "[21:01:43] lltk.text.text.\u001b[34m\u001b[1mupdate\u001b[0m( \u001b[36m<- \u001b[0m )\n",
      "[21:01:43] lltk.corpus.corpus.\u001b[34m\u001b[1mtext\u001b[0m( \u001b[36m-> TextWikidataClass(_wikidata/Q6511)\u001b[0m )\n",
      "[21:01:43] lltk.text.text.\u001b[34m\u001b[1mText\u001b[0m( \u001b[36m-> TextWikidataClass(_wikidata/Q6511)\u001b[0m )\n",
      "[21:01:43] wikidata.\u001b[34m\u001b[1mTextWikidata\u001b[0m( \u001b[36mGenerated wiki text: TextWikidataClass(_wikidata/Q6511)\u001b[0m )\n",
      "[21:01:43] lltk.text.text.\u001b[34m\u001b[1madd_source\u001b[0m( \u001b[36mBaseText(_tmp/author=Joyce/title=Ulysses) -> TextWikidataClass(_wikidata/Q6511)\u001b[0m )\n",
      "[21:01:43] lltk.text.text.\u001b[34m\u001b[1mmatch\u001b[0m( \u001b[36m...\u001b[0m )\n",
      "[21:01:43] lltk.text.text.\u001b[34m\u001b[1mmatch\u001b[0m( \u001b[36m_tmp/author=Joyce/title=Ulysses --> _wikidata/Q6511 ?\u001b[0m )\n",
      "[21:01:43] lltk.tools.tools.\u001b[34m\u001b[1mis_cacheworthy\u001b[0m( \u001b[36mcache updated\n",
      "{'dictionary_item_added': [root['id'], root['author'], root['title']]}\u001b[0m )\n",
      "[21:01:43] lltk.text.text.\u001b[34m\u001b[1mcache_db\u001b[0m( \u001b[36mcached text meta to graph db: /Users/ryan/lltk_data/data/db/database.graphdb\u001b[0m )\n",
      "[21:01:43] lltk.tools.tools.\u001b[34m\u001b[1mis_cacheworthy\u001b[0m( \u001b[36mcache unchanged\u001b[0m )\n",
      "[21:01:43] lltk.text.text.\u001b[34m\u001b[1madd_source\u001b[0m( \u001b[36mTextWikidataClass(_wikidata/Q6511) -> BaseText(_tmp/author=Joyce/title=Ulysses)\u001b[0m )\n",
      "[21:01:43] lltk.text.text.\u001b[34m\u001b[1mmatch\u001b[0m( \u001b[36m...\u001b[0m )\n",
      "[21:01:43] lltk.text.text.\u001b[34m\u001b[1mmatch\u001b[0m( \u001b[36m_wikidata/Q6511 --> _tmp/author=Joyce/title=Ulysses ?\u001b[0m )\n",
      "[21:01:43] lltk.tools.tools.\u001b[34m\u001b[1mis_cacheworthy\u001b[0m( \u001b[36mcache unchanged\u001b[0m )\n",
      "[21:01:43] lltk.tools.tools.\u001b[34m\u001b[1mis_cacheworthy\u001b[0m( \u001b[36mcache unchanged\u001b[0m )\n",
      "[21:01:43] lltk.text.text.\u001b[34m\u001b[1mget_sources\u001b[0m( \u001b[36m...\u001b[0m )\n",
      "[21:01:43] lltk.text.text.\u001b[34m\u001b[1mget_matches\u001b[0m( \u001b[36m...\u001b[0m )\n",
      "[21:01:43] lltk.text.text.\u001b[34m\u001b[1mText\u001b[0m( \u001b[36m<- id = _tmp/author=Joyce/title=Ulysses\u001b[0m )\n",
      "[21:01:43] lltk.text.text.\u001b[34m\u001b[1mText\u001b[0m( \u001b[36m<- addr = _tmp/author=Joyce/title=Ulysses\u001b[0m )\n",
      "[21:01:43] lltk.text.text.\u001b[34m\u001b[1mText\u001b[0m( \u001b[36m-> BaseText(_tmp/author=Joyce/title=Ulysses)\u001b[0m )\n",
      "[21:01:43] lltk.text.text.\u001b[34m\u001b[1mText\u001b[0m( \u001b[36m<- id = _tmp/author=Joyce/title=Ulysses\u001b[0m )\n",
      "[21:01:43] lltk.text.text.\u001b[34m\u001b[1mText\u001b[0m( \u001b[36m<- addr = _tmp/author=Joyce/title=Ulysses\u001b[0m )\n",
      "[21:01:43] lltk.text.text.\u001b[34m\u001b[1mText\u001b[0m( \u001b[36m-> BaseText(_tmp/author=Joyce/title=Ulysses)\u001b[0m )\n"
     ]
    },
    {
     "data": {
      "text/plain": [
       "TextWikidataClass(_wikidata/Q6511)"
      ]
     },
     "execution_count": 9,
     "metadata": {},
     "output_type": "execute_result"
    }
   ],
   "source": [
    "with log: tw = Corpus('wikidata').text_from(t)\n",
    "tw"
   ]
  },
  {
   "cell_type": "code",
   "execution_count": null,
   "metadata": {},
   "outputs": [],
   "source": []
  },
  {
   "cell_type": "code",
   "execution_count": 10,
   "metadata": {},
   "outputs": [
    {
     "name": "stderr",
     "output_type": "stream",
     "text": [
      "[21:01:43] lltk.text.text.\u001b[34m\u001b[1mText\u001b[0m( \u001b[36m<- kwargs = {'id': 1})\u001b[0m )\n",
      "[21:01:43] lltk.text.text.\u001b[34m\u001b[1mText\u001b[0m( \u001b[36m<- addr = _tmp/T00001\u001b[0m )\n",
      "[21:01:43] lltk.corpus.corpus.\u001b[34m\u001b[1mCorpus\u001b[0m( \u001b[36m<- id = tmp\u001b[0m )\n",
      "[21:01:43] lltk.corpus.corpus.\u001b[34m\u001b[1mCorpus\u001b[0m( \u001b[36m-> BaseCorpus(tmp)\u001b[0m )\n",
      "[21:01:43] lltk.corpus.corpus.\u001b[34m\u001b[1mtext\u001b[0m( \u001b[36m<- id = T00001, corpus = BaseCorpus(tmp)\u001b[0m )\n",
      "[21:01:43] lltk.corpus.corpus.\u001b[34m\u001b[1mget_text_id\u001b[0m( \u001b[36m<- id = T00001, corpus = BaseCorpus(tmp)\u001b[0m )\n",
      "[21:01:43] lltk.corpus.corpus.\u001b[34m\u001b[1mget_text_id\u001b[0m( \u001b[36m-> T00001\u001b[0m )\n",
      "[21:01:43] lltk.corpus.corpus.\u001b[34m\u001b[1minit_text\u001b[0m( \u001b[36m<- id = T00001, corpus = BaseCorpus(tmp)\u001b[0m )\n",
      "[21:01:43] lltk.text.text.\u001b[34m\u001b[1m__init__\u001b[0m( \u001b[36m<- id = T00001, corpus = BaseCorpus(tmp)\u001b[0m )\n",
      "[21:01:43] lltk.text.text.\u001b[34m\u001b[1m__init__\u001b[0m( \u001b[36mBaseText(id = T00001, corpus = BaseCorpus(tmp))\u001b[0m )\n",
      "[21:01:43] lltk.corpus.corpus.\u001b[34m\u001b[1minit_text\u001b[0m( \u001b[36m-> BaseText(_tmp/T00001)\u001b[0m )\n",
      "[21:01:43] lltk.corpus.corpus.\u001b[34m\u001b[1mtext\u001b[0m( \u001b[36m-> BaseText(_tmp/T00001)\u001b[0m )\n",
      "[21:01:43] lltk.text.text.\u001b[34m\u001b[1mText\u001b[0m( \u001b[36m-> BaseText(_tmp/T00001)\u001b[0m )\n",
      "[21:01:43] lltk.text.text.\u001b[34m\u001b[1mText\u001b[0m( \u001b[36m<- kwargs = {'id': 2})\u001b[0m )\n",
      "[21:01:43] lltk.text.text.\u001b[34m\u001b[1mText\u001b[0m( \u001b[36m<- addr = _tmp/T00002\u001b[0m )\n",
      "[21:01:43] lltk.corpus.corpus.\u001b[34m\u001b[1mCorpus\u001b[0m( \u001b[36m<- id = tmp\u001b[0m )\n",
      "[21:01:43] lltk.corpus.corpus.\u001b[34m\u001b[1mCorpus\u001b[0m( \u001b[36m-> BaseCorpus(tmp)\u001b[0m )\n",
      "[21:01:43] lltk.corpus.corpus.\u001b[34m\u001b[1mtext\u001b[0m( \u001b[36m<- id = T00002, corpus = BaseCorpus(tmp)\u001b[0m )\n",
      "[21:01:43] lltk.corpus.corpus.\u001b[34m\u001b[1mget_text_id\u001b[0m( \u001b[36m<- id = T00002, corpus = BaseCorpus(tmp)\u001b[0m )\n",
      "[21:01:43] lltk.corpus.corpus.\u001b[34m\u001b[1mget_text_id\u001b[0m( \u001b[36m-> T00002\u001b[0m )\n",
      "[21:01:43] lltk.corpus.corpus.\u001b[34m\u001b[1minit_text\u001b[0m( \u001b[36m<- id = T00002, corpus = BaseCorpus(tmp)\u001b[0m )\n",
      "[21:01:43] lltk.text.text.\u001b[34m\u001b[1m__init__\u001b[0m( \u001b[36m<- id = T00002, corpus = BaseCorpus(tmp)\u001b[0m )\n",
      "[21:01:43] lltk.text.text.\u001b[34m\u001b[1m__init__\u001b[0m( \u001b[36mBaseText(id = T00002, corpus = BaseCorpus(tmp))\u001b[0m )\n",
      "[21:01:43] lltk.corpus.corpus.\u001b[34m\u001b[1minit_text\u001b[0m( \u001b[36m-> BaseText(_tmp/T00002)\u001b[0m )\n",
      "[21:01:43] lltk.corpus.corpus.\u001b[34m\u001b[1mtext\u001b[0m( \u001b[36m-> BaseText(_tmp/T00002)\u001b[0m )\n",
      "[21:01:43] lltk.text.text.\u001b[34m\u001b[1mText\u001b[0m( \u001b[36m-> BaseText(_tmp/T00002)\u001b[0m )\n",
      "[21:01:43] lltk.text.text.\u001b[34m\u001b[1mText\u001b[0m( \u001b[36m<- kwargs = {'id': 3})\u001b[0m )\n",
      "[21:01:43] lltk.text.text.\u001b[34m\u001b[1mText\u001b[0m( \u001b[36m<- addr = _tmp/T00003\u001b[0m )\n",
      "[21:01:43] lltk.corpus.corpus.\u001b[34m\u001b[1mCorpus\u001b[0m( \u001b[36m<- id = tmp\u001b[0m )\n",
      "[21:01:43] lltk.corpus.corpus.\u001b[34m\u001b[1mCorpus\u001b[0m( \u001b[36m-> BaseCorpus(tmp)\u001b[0m )\n",
      "[21:01:43] lltk.corpus.corpus.\u001b[34m\u001b[1mtext\u001b[0m( \u001b[36m<- id = T00003, corpus = BaseCorpus(tmp)\u001b[0m )\n",
      "[21:01:43] lltk.corpus.corpus.\u001b[34m\u001b[1mget_text_id\u001b[0m( \u001b[36m<- id = T00003, corpus = BaseCorpus(tmp)\u001b[0m )\n",
      "[21:01:43] lltk.corpus.corpus.\u001b[34m\u001b[1mget_text_id\u001b[0m( \u001b[36m-> T00003\u001b[0m )\n",
      "[21:01:43] lltk.corpus.corpus.\u001b[34m\u001b[1minit_text\u001b[0m( \u001b[36m<- id = T00003, corpus = BaseCorpus(tmp)\u001b[0m )\n",
      "[21:01:43] lltk.text.text.\u001b[34m\u001b[1m__init__\u001b[0m( \u001b[36m<- id = T00003, corpus = BaseCorpus(tmp)\u001b[0m )\n",
      "[21:01:43] lltk.text.text.\u001b[34m\u001b[1m__init__\u001b[0m( \u001b[36mBaseText(id = T00003, corpus = BaseCorpus(tmp))\u001b[0m )\n",
      "[21:01:43] lltk.corpus.corpus.\u001b[34m\u001b[1minit_text\u001b[0m( \u001b[36m-> BaseText(_tmp/T00003)\u001b[0m )\n",
      "[21:01:43] lltk.corpus.corpus.\u001b[34m\u001b[1mtext\u001b[0m( \u001b[36m-> BaseText(_tmp/T00003)\u001b[0m )\n",
      "[21:01:43] lltk.text.text.\u001b[34m\u001b[1mText\u001b[0m( \u001b[36m-> BaseText(_tmp/T00003)\u001b[0m )\n"
     ]
    }
   ],
   "source": [
    "t1=Text(id=1)\n",
    "t2=Text(id=2)\n",
    "t3=Text(id=3)"
   ]
  },
  {
   "cell_type": "code",
   "execution_count": 11,
   "metadata": {},
   "outputs": [
    {
     "name": "stderr",
     "output_type": "stream",
     "text": [
      "[21:01:43] lltk.text.text.\u001b[34m\u001b[1mmatch\u001b[0m( \u001b[36m...\u001b[0m )\n",
      "[21:01:43] lltk.text.text.\u001b[34m\u001b[1mmatch\u001b[0m( \u001b[36m_tmp/T00001 --> _tmp/T00002 ?\u001b[0m )\n",
      "[21:01:43] lltk.tools.tools.\u001b[34m\u001b[1mis_cacheworthy\u001b[0m( \u001b[36mcache updated\n",
      "{'dictionary_item_added': [root['id']]}\u001b[0m )\n",
      "[21:01:43] lltk.text.text.\u001b[34m\u001b[1mcache_db\u001b[0m( \u001b[36mcached text meta to graph db: /Users/ryan/lltk_data/data/db/database.graphdb\u001b[0m )\n",
      "[21:01:43] lltk.tools.tools.\u001b[34m\u001b[1mis_cacheworthy\u001b[0m( \u001b[36mcache updated\n",
      "{'dictionary_item_added': [root['id']]}\u001b[0m )\n",
      "[21:01:43] lltk.text.text.\u001b[34m\u001b[1mcache_db\u001b[0m( \u001b[36mcached text meta to graph db: /Users/ryan/lltk_data/data/db/database.graphdb\u001b[0m )\n",
      "[21:01:43] lltk.text.text.\u001b[34m\u001b[1mmatch\u001b[0m( \u001b[36m...\u001b[0m )\n",
      "[21:01:43] lltk.text.text.\u001b[34m\u001b[1mmatch\u001b[0m( \u001b[36m_tmp/T00002 --> _tmp/T00003 ?\u001b[0m )\n",
      "[21:01:43] lltk.tools.tools.\u001b[34m\u001b[1mis_cacheworthy\u001b[0m( \u001b[36mcache unchanged\u001b[0m )\n",
      "[21:01:43] lltk.tools.tools.\u001b[34m\u001b[1mis_cacheworthy\u001b[0m( \u001b[36mcache updated\n",
      "{'dictionary_item_added': [root['id']]}\u001b[0m )\n",
      "[21:01:43] lltk.text.text.\u001b[34m\u001b[1mcache_db\u001b[0m( \u001b[36mcached text meta to graph db: /Users/ryan/lltk_data/data/db/database.graphdb\u001b[0m )\n",
      "[21:01:43] lltk.text.text.\u001b[34m\u001b[1mmatch\u001b[0m( \u001b[36m...\u001b[0m )\n",
      "[21:01:43] lltk.text.text.\u001b[34m\u001b[1mmatch\u001b[0m( \u001b[36m_tmp/T00002 --> _tmp/T00003 ?\u001b[0m )\n",
      "[21:01:43] lltk.tools.tools.\u001b[34m\u001b[1mis_cacheworthy\u001b[0m( \u001b[36mcache unchanged\u001b[0m )\n",
      "[21:01:43] lltk.tools.tools.\u001b[34m\u001b[1mis_cacheworthy\u001b[0m( \u001b[36mcache unchanged\u001b[0m )\n"
     ]
    }
   ],
   "source": [
    "t1.match(t2)\n",
    "t2.match(t3)\n",
    "t2.match(t3)"
   ]
  },
  {
   "cell_type": "code",
   "execution_count": 12,
   "metadata": {},
   "outputs": [
    {
     "name": "stderr",
     "output_type": "stream",
     "text": [
      "[21:01:43] lltk.text.text.\u001b[34m\u001b[1mText\u001b[0m( \u001b[36m<- \u001b[0m )\n",
      "[21:01:43] lltk.text.text.\u001b[34m\u001b[1mText\u001b[0m( \u001b[36m<- addr = _tmp/T54151\u001b[0m )\n",
      "[21:01:43] lltk.corpus.corpus.\u001b[34m\u001b[1mCorpus\u001b[0m( \u001b[36m<- id = tmp\u001b[0m )\n",
      "[21:01:43] lltk.corpus.corpus.\u001b[34m\u001b[1mCorpus\u001b[0m( \u001b[36m-> BaseCorpus(tmp)\u001b[0m )\n",
      "[21:01:43] lltk.corpus.corpus.\u001b[34m\u001b[1mtext\u001b[0m( \u001b[36m<- id = T54151, corpus = BaseCorpus(tmp)\u001b[0m )\n",
      "[21:01:43] lltk.corpus.corpus.\u001b[34m\u001b[1mget_text_id\u001b[0m( \u001b[36m<- id = T54151, corpus = BaseCorpus(tmp)\u001b[0m )\n",
      "[21:01:43] lltk.corpus.corpus.\u001b[34m\u001b[1mget_text_id\u001b[0m( \u001b[36m-> T54151\u001b[0m )\n",
      "[21:01:43] lltk.corpus.corpus.\u001b[34m\u001b[1minit_text\u001b[0m( \u001b[36m<- id = T54151, corpus = BaseCorpus(tmp)\u001b[0m )\n",
      "[21:01:43] lltk.text.text.\u001b[34m\u001b[1m__init__\u001b[0m( \u001b[36m<- id = T54151, corpus = BaseCorpus(tmp)\u001b[0m )\n",
      "[21:01:43] lltk.text.text.\u001b[34m\u001b[1m__init__\u001b[0m( \u001b[36mBaseText(id = T54151, corpus = BaseCorpus(tmp))\u001b[0m )\n",
      "[21:01:43] lltk.corpus.corpus.\u001b[34m\u001b[1minit_text\u001b[0m( \u001b[36m-> BaseText(_tmp/T54151)\u001b[0m )\n",
      "[21:01:43] lltk.corpus.corpus.\u001b[34m\u001b[1mtext\u001b[0m( \u001b[36m-> BaseText(_tmp/T54151)\u001b[0m )\n",
      "[21:01:43] lltk.text.text.\u001b[34m\u001b[1mText\u001b[0m( \u001b[36m-> BaseText(_tmp/T54151)\u001b[0m )\n",
      "[21:01:43] lltk.text.text.\u001b[34m\u001b[1mmatch\u001b[0m( \u001b[36m...\u001b[0m )\n",
      "[21:01:43] lltk.text.text.\u001b[34m\u001b[1mmatch\u001b[0m( \u001b[36m_tmp/T54151 --> _tmp/T00001 ?\u001b[0m )\n",
      "[21:01:43] lltk.tools.tools.\u001b[34m\u001b[1mis_cacheworthy\u001b[0m( \u001b[36mcache updated\n",
      "{'dictionary_item_added': [root['id']]}\u001b[0m )\n",
      "[21:01:43] lltk.text.text.\u001b[34m\u001b[1mcache_db\u001b[0m( \u001b[36mcached text meta to graph db: /Users/ryan/lltk_data/data/db/database.graphdb\u001b[0m )\n",
      "[21:01:43] lltk.tools.tools.\u001b[34m\u001b[1mis_cacheworthy\u001b[0m( \u001b[36mcache unchanged\u001b[0m )\n",
      "[21:01:43] lltk.text.text.\u001b[34m\u001b[1mget_matches\u001b[0m( \u001b[36m...\u001b[0m )\n",
      "[21:01:43] lltk.text.text.\u001b[34m\u001b[1mText\u001b[0m( \u001b[36m<- id = _tmp/T00001\u001b[0m )\n",
      "[21:01:43] lltk.text.text.\u001b[34m\u001b[1mText\u001b[0m( \u001b[36m<- addr = _tmp/T00001\u001b[0m )\n",
      "[21:01:43] lltk.text.text.\u001b[34m\u001b[1mText\u001b[0m( \u001b[36m-> BaseText(_tmp/T00001)\u001b[0m )\n",
      "[21:01:43] lltk.text.text.\u001b[34m\u001b[1mText\u001b[0m( \u001b[36m<- id = _tmp/T00002\u001b[0m )\n",
      "[21:01:43] lltk.text.text.\u001b[34m\u001b[1mText\u001b[0m( \u001b[36m<- addr = _tmp/T00002\u001b[0m )\n",
      "[21:01:43] lltk.text.text.\u001b[34m\u001b[1mText\u001b[0m( \u001b[36m-> BaseText(_tmp/T00002)\u001b[0m )\n",
      "[21:01:43] lltk.text.text.\u001b[34m\u001b[1mText\u001b[0m( \u001b[36m<- id = _tmp/T00001\u001b[0m )\n",
      "[21:01:43] lltk.text.text.\u001b[34m\u001b[1mText\u001b[0m( \u001b[36m<- addr = _tmp/T00001\u001b[0m )\n",
      "[21:01:43] lltk.text.text.\u001b[34m\u001b[1mText\u001b[0m( \u001b[36m-> BaseText(_tmp/T00001)\u001b[0m )\n",
      "[21:01:43] lltk.text.text.\u001b[34m\u001b[1mText\u001b[0m( \u001b[36m<- id = _tmp/T00003\u001b[0m )\n",
      "[21:01:43] lltk.text.text.\u001b[34m\u001b[1mText\u001b[0m( \u001b[36m<- addr = _tmp/T00003\u001b[0m )\n",
      "[21:01:43] lltk.text.text.\u001b[34m\u001b[1mText\u001b[0m( \u001b[36m-> BaseText(_tmp/T00003)\u001b[0m )\n",
      "[21:01:43] lltk.text.text.\u001b[34m\u001b[1mText\u001b[0m( \u001b[36m<- id = _tmp/T00002\u001b[0m )\n",
      "[21:01:43] lltk.text.text.\u001b[34m\u001b[1mText\u001b[0m( \u001b[36m<- addr = _tmp/T00002\u001b[0m )\n",
      "[21:01:43] lltk.text.text.\u001b[34m\u001b[1mText\u001b[0m( \u001b[36m-> BaseText(_tmp/T00002)\u001b[0m )\n"
     ]
    },
    {
     "data": {
      "text/plain": [
       "{BaseText(_tmp/T00001), BaseText(_tmp/T00002), BaseText(_tmp/T00003)}"
      ]
     },
     "execution_count": 12,
     "metadata": {},
     "output_type": "execute_result"
    }
   ],
   "source": [
    "t4=Text()\n",
    "t4.match(t1)\n",
    "t4.get_matches()"
   ]
  },
  {
   "cell_type": "code",
   "execution_count": null,
   "metadata": {},
   "outputs": [],
   "source": []
  },
  {
   "cell_type": "code",
   "execution_count": 13,
   "metadata": {},
   "outputs": [
    {
     "ename": "NameError",
     "evalue": "name 'gdb' is not defined",
     "output_type": "error",
     "traceback": [
      "\u001b[0;31m---------------------------------------------------------------------------\u001b[0m",
      "\u001b[0;31mNameError\u001b[0m                                 Traceback (most recent call last)",
      "\u001b[1;32m/Users/ryan/github/lltk/notebooks/dev_graphdb6.ipynb Cell 15'\u001b[0m in \u001b[0;36m<cell line: 1>\u001b[0;34m()\u001b[0m\n\u001b[0;32m----> <a href='vscode-notebook-cell:/Users/ryan/github/lltk/notebooks/dev_graphdb6.ipynb#ch0000013?line=0'>1</a>\u001b[0m gdb\u001b[39m.\u001b[39mget_neighbs(t1\u001b[39m.\u001b[39maddr)\n",
      "\u001b[0;31mNameError\u001b[0m: name 'gdb' is not defined"
     ]
    }
   ],
   "source": [
    "gdb.get_neighbs(t1.addr)"
   ]
  },
  {
   "cell_type": "code",
   "execution_count": null,
   "metadata": {},
   "outputs": [
    {
     "data": {
      "text/plain": [
       "[('_tmp/T00002', 'is'),\n",
       " ('_tmp/T00002', 'rdf:type'),\n",
       " ('_tmp/T00003', 'is'),\n",
       " ('_tmp/T00003', 'rdf:type'),\n",
       " ('_tmp/T00003', 'somethingelse'),\n",
       " ('_tmp/T00002', 'somethingelse'),\n",
       " ('_tmp/T00002', 'is'),\n",
       " ('_tmp/T00002', 'rdf:type')]"
      ]
     },
     "execution_count": 17,
     "metadata": {},
     "output_type": "execute_result"
    }
   ],
   "source": [
    "gdb.get_rels(t1.addr)"
   ]
  },
  {
   "cell_type": "code",
   "execution_count": null,
   "metadata": {},
   "outputs": [
    {
     "ename": "NameError",
     "evalue": "name 't' is not defined",
     "output_type": "error",
     "traceback": [
      "\u001b[0;31m---------------------------------------------------------------------------\u001b[0m",
      "\u001b[0;31mNameError\u001b[0m                                 Traceback (most recent call last)",
      "\u001b[1;32m/Users/ryan/github/lltk/notebooks/dev_graphdb6.ipynb Cell 7'\u001b[0m in \u001b[0;36m<cell line: 1>\u001b[0;34m()\u001b[0m\n\u001b[0;32m----> <a href='vscode-notebook-cell:/Users/ryan/github/lltk/notebooks/dev_graphdb6.ipynb#ch0000031?line=0'>1</a>\u001b[0m t\u001b[39m.\u001b[39mgdb\u001b[39m.\u001b[39mget_neighbs(t\u001b[39m.\u001b[39maddr)\n",
      "\u001b[0;31mNameError\u001b[0m: name 't' is not defined"
     ]
    }
   ],
   "source": [
    "t.gdb.get_neighbs(t.addr)"
   ]
  },
  {
   "cell_type": "code",
   "execution_count": null,
   "metadata": {},
   "outputs": [
    {
     "data": {
      "text/plain": [
       "'_tmp1/_tmp2/XXXXX'"
      ]
     },
     "execution_count": 12,
     "metadata": {},
     "output_type": "execute_result"
    }
   ],
   "source": []
  },
  {
   "cell_type": "code",
   "execution_count": null,
   "metadata": {},
   "outputs": [],
   "source": []
  },
  {
   "cell_type": "code",
   "execution_count": null,
   "metadata": {},
   "outputs": [
    {
     "name": "stderr",
     "output_type": "stream",
     "text": [
      "[18:20:11] lltk.corpus.corpus.\u001b[34m\u001b[1mCorpus\u001b[0m( \u001b[36m<- id = chadwyck\u001b[0m )\n",
      "[18:20:11] lltk.corpus.utils.\u001b[34m\u001b[1mload_corpus\u001b[0m( \u001b[36m<- id = chadwyck\u001b[0m )\n",
      "[18:20:11] lltk.corpus.utils.\u001b[34m\u001b[1mload_corpus\u001b[0m( \u001b[36mImporting corpus class \"Chadwyck\" from /Users/ryan/github/lltk/lltk/corpus/chadwyck/chadwyck.py\u001b[0m )\n",
      "[18:20:11] lltk.corpus.corpus.\u001b[34m\u001b[1m__init__\u001b[0m( \u001b[36mChadwyck(chadwyck)\u001b[0m )\n",
      "[18:20:11] lltk.corpus.utils.\u001b[34m\u001b[1mload_corpus\u001b[0m( \u001b[36m-> ChadwyckCorpus(chadwyck)\u001b[0m )\n",
      "[18:20:11] lltk.corpus.corpus.\u001b[34m\u001b[1mCorpus\u001b[0m( \u001b[36m-> ChadwyckCorpus(chadwyck)\u001b[0m )\n",
      "[18:20:11] lltk.corpus.corpus.\u001b[34m\u001b[1minit\u001b[0m( \u001b[36mChadwyckCorpus(chadwyck)\u001b[0m )\n",
      "[18:20:13] lltk.corpus.corpus.\u001b[34m\u001b[1minit\u001b[0m( \u001b[36minitialized 1337 texts\u001b[0m )\n"
     ]
    },
    {
     "name": "stdout",
     "output_type": "stream",
     "text": [
      "<lltk.tools.db.LLDBGraph object at 0x29584f160>\n"
     ]
    }
   ],
   "source": [
    "with log:\n",
    "    C=Corpus('chadwyck')\n",
    "    C.init()\n",
    "    print(C.gdb)"
   ]
  },
  {
   "cell_type": "code",
   "execution_count": null,
   "metadata": {},
   "outputs": [
    {
     "name": "stderr",
     "output_type": "stream",
     "text": [
      "[18:20:13] lltk.text.text.\u001b[34m\u001b[1mget_local_sources\u001b[0m( \u001b[36m-> set()\u001b[0m )\n",
      "[18:20:13] lltk.model.matcher.\u001b[34m\u001b[1mMatcher\u001b[0m( \u001b[36m<- chadwyck\u001b[0m )\n",
      "[18:20:13] lltk.model.matcher.\u001b[34m\u001b[1minit_g_triples\u001b[0m( \u001b[36mread graph from /Users/ryan/lltk_data/corpora/chadwyck/data/rels/triples.txt\u001b[0m )\n",
      "[18:20:13] lltk.model.matcher.\u001b[34m\u001b[1mMatcher\u001b[0m( \u001b[36m-> <lltk.model.matcher.MatcherModel object at 0x121c2f310>\u001b[0m )\n",
      "[18:20:13] lltk.model.matcher.\u001b[34m\u001b[1mcache_g_triples\u001b[0m( \u001b[36mcached graph to /Users/ryan/lltk_data/corpora/chadwyck/data/rels/triples.txt\u001b[0m )\n"
     ]
    },
    {
     "data": {
      "text/plain": [
       "[]"
      ]
     },
     "execution_count": 5,
     "metadata": {},
     "output_type": "execute_result"
    }
   ],
   "source": [
    "C.t.sources"
   ]
  },
  {
   "cell_type": "code",
   "execution_count": null,
   "metadata": {},
   "outputs": [],
   "source": [
    "t=C.au.Austen.Pride_And_Prejudice"
   ]
  },
  {
   "cell_type": "code",
   "execution_count": null,
   "metadata": {},
   "outputs": [
    {
     "name": "stderr",
     "output_type": "stream",
     "text": [
      "[18:20:13] lltk.corpus.corpus.\u001b[34m\u001b[1mCorpus\u001b[0m( \u001b[36m<- id = wikidata\u001b[0m )\n",
      "[18:20:13] lltk.corpus.utils.\u001b[34m\u001b[1mload_corpus\u001b[0m( \u001b[36m<- id = wikidata\u001b[0m )\n",
      "[18:20:13] lltk.corpus.utils.\u001b[34m\u001b[1mload_corpus\u001b[0m( \u001b[36mImporting corpus class \"Wikidata\" from /Users/ryan/github/lltk/lltk/corpus/wikidata/wikidata.py\u001b[0m )\n",
      "[18:20:13] lltk.corpus.corpus.\u001b[34m\u001b[1m__init__\u001b[0m( \u001b[36mWikidata(wikidata)\u001b[0m )\n",
      "[18:20:13] lltk.corpus.utils.\u001b[34m\u001b[1mload_corpus\u001b[0m( \u001b[36m-> WikidataCorpus(wikidata)\u001b[0m )\n",
      "[18:20:13] lltk.corpus.corpus.\u001b[34m\u001b[1mCorpus\u001b[0m( \u001b[36m-> WikidataCorpus(wikidata)\u001b[0m )\n",
      "[18:20:13] lltk.corpus.corpus.\u001b[34m\u001b[1mCorpus\u001b[0m( \u001b[36m<- id = wikidata\u001b[0m )\n",
      "[18:20:13] lltk.corpus.corpus.\u001b[34m\u001b[1mCorpus\u001b[0m( \u001b[36m-> WikidataCorpus(wikidata)\u001b[0m )\n",
      "[18:20:13] lltk.corpus.corpus.\u001b[34m\u001b[1mtext\u001b[0m( \u001b[36m<- id = Q0, corpus = WikidataCorpus(wikidata)\u001b[0m )\n",
      "[18:20:13] lltk.corpus.corpus.\u001b[34m\u001b[1mget_text_id\u001b[0m( \u001b[36m<- id = Q0, corpus = WikidataCorpus(wikidata)\u001b[0m )\n",
      "[18:20:13] lltk.corpus.corpus.\u001b[34m\u001b[1mget_text_id\u001b[0m( \u001b[36m-> Q0\u001b[0m )\n",
      "[18:20:13] lltk.corpus.corpus.\u001b[34m\u001b[1minit_text\u001b[0m( \u001b[36m<- id = Q0, corpus = WikidataCorpus(wikidata)\u001b[0m )\n",
      "[18:20:13] lltk.text.text.\u001b[34m\u001b[1m__init__\u001b[0m( \u001b[36m<- id = Q0, corpus = WikidataCorpus(wikidata)\u001b[0m )\n",
      "[18:20:13] lltk.text.text.\u001b[34m\u001b[1m__init__\u001b[0m( \u001b[36mTextWikidataClass(id = Q0, corpus = WikidataCorpus(wikidata))\u001b[0m )\n",
      "[18:20:13] lltk.corpus.corpus.\u001b[34m\u001b[1minit_text\u001b[0m( \u001b[36m-> TextWikidataClass(_wikidata/Q0)\u001b[0m )\n",
      "[18:20:13] lltk.text.text.\u001b[34m\u001b[1mcache\u001b[0m( \u001b[36mTextWikidataClass(_wikidata/Q0)\u001b[0m )\n",
      "[18:20:13] lltk.tools.tools.\u001b[34m\u001b[1mis_cacheworthy\u001b[0m( \u001b[36mcache updated\n",
      "{'dictionary_item_added': [root['id']]}\u001b[0m )\n",
      "[18:20:13] lltk.text.text.\u001b[34m\u001b[1mcache_db\u001b[0m( \u001b[36mcached text meta to graph db: /Users/ryan/lltk_data/data/db/database.graphdb\u001b[0m )\n",
      "[18:20:13] lltk.corpus.corpus.\u001b[34m\u001b[1mtext\u001b[0m( \u001b[36m-> TextWikidataClass(_wikidata/Q0)\u001b[0m )\n",
      "[18:20:13] wikidata.\u001b[34m\u001b[1mquery_get_wikidata_id\u001b[0m( \u001b[36mQuerying for ID: Pride And Prejudice Austen\u001b[0m )\n",
      "[18:20:13] lltk.corpus.corpus.\u001b[34m\u001b[1mCorpus\u001b[0m( \u001b[36m<- id = wikidata\u001b[0m )\n",
      "[18:20:13] lltk.corpus.corpus.\u001b[34m\u001b[1mCorpus\u001b[0m( \u001b[36m-> WikidataCorpus(wikidata)\u001b[0m )\n",
      "[18:20:13] wikidata.\u001b[34m\u001b[1mquery_get_db\u001b[0m( \u001b[36mfound result in db for \"Pride And Prejudice Austen\": ['Q170583', 'Q22924649', 'Q57405775', 'Q63296184', 'Q63992194', 'Q6470022', 'Q63992252', 'Q83697272', 'Q2484090', 'Q63953241', 'Q64019667', 'Q7450988', 'Q25218086', 'Q4390263', 'Q2198673', 'Q64019286', 'Q2289525', 'Q2337271', 'Q64019255', 'Q64019256']\u001b[0m )\n",
      "[18:20:13] lltk.corpus.corpus.\u001b[34m\u001b[1mCorpus\u001b[0m( \u001b[36m<- id = wikidata\u001b[0m )\n",
      "[18:20:13] lltk.corpus.corpus.\u001b[34m\u001b[1mCorpus\u001b[0m( \u001b[36m-> WikidataCorpus(wikidata)\u001b[0m )\n",
      "[18:20:13] wikidata.\u001b[34m\u001b[1mquery_get_wikidata_id\u001b[0m( \u001b[36mqid_meta from db: 73 keys\u001b[0m )\n",
      "[18:20:13] lltk.corpus.corpus.\u001b[34m\u001b[1mCorpus\u001b[0m( \u001b[36m<- id = wikidata\u001b[0m )\n",
      "[18:20:13] lltk.corpus.corpus.\u001b[34m\u001b[1mCorpus\u001b[0m( \u001b[36m-> WikidataCorpus(wikidata)\u001b[0m )\n",
      "[18:20:13] lltk.corpus.corpus.\u001b[34m\u001b[1mtext\u001b[0m( \u001b[36m<- id = Q170583, corpus = WikidataCorpus(wikidata), kwargs = {'apple_books_book_id_(american_version)|P6395': '395534643', 'archive_of_our_own_tag|P8419': ['Prid)\u001b[0m )\n",
      "[18:20:13] lltk.corpus.corpus.\u001b[34m\u001b[1mget_text_id\u001b[0m( \u001b[36m<- id = Q170583, corpus = WikidataCorpus(wikidata), kwargs = {'apple_books_book_id_(american_version)|P6395': '395534643', 'archive_of_our_own_tag|P8419': ['Prid)\u001b[0m )\n",
      "[18:20:13] lltk.corpus.corpus.\u001b[34m\u001b[1mget_text_id\u001b[0m( \u001b[36m-> Q170583\u001b[0m )\n",
      "[18:20:13] lltk.corpus.corpus.\u001b[34m\u001b[1minit_text\u001b[0m( \u001b[36m<- id = Q170583, corpus = WikidataCorpus(wikidata), kwargs = {'apple_books_book_id_(american_version)|P6395': '395534643', 'archive_of_our_own_tag|P8419': ['Prid)\u001b[0m )\n",
      "[18:20:13] lltk.text.text.\u001b[34m\u001b[1m__init__\u001b[0m( \u001b[36m<- id = Q170583, corpus = WikidataCorpus(wikidata), kwargs = {'apple_books_book_id_(american_version)|P6395': '395534643', 'archive_of_our_own_tag|P8419': ['Prid)\u001b[0m )\n",
      "[18:20:13] lltk.text.text.\u001b[34m\u001b[1m__init__\u001b[0m( \u001b[36mTextWikidataClass(id = Q170583, corpus = WikidataCorpus(wikidata), kwargs = {'apple_books_book_id_(american_version)|P6395': '395534643', 'archive_of_our_own_tag|P8419': ['Prid))\u001b[0m )\n",
      "[18:20:13] lltk.corpus.corpus.\u001b[34m\u001b[1minit_text\u001b[0m( \u001b[36m-> TextWikidataClass(_wikidata/Q170583)\u001b[0m )\n",
      "[18:20:13] lltk.text.text.\u001b[34m\u001b[1mcache\u001b[0m( \u001b[36mTextWikidataClass(_wikidata/Q170583)\u001b[0m )\n",
      "[18:20:13] lltk.tools.tools.\u001b[34m\u001b[1mis_cacheworthy\u001b[0m( \u001b[36mcache updated\n",
      "{ 'dictionary_item_added': [root['id'], root['apple_books_book_id_(american_version)|P6395'], root['archive_of_our_own_tag|P8419'], root['author|P50'], root['bibliotheque_nationale_de_france_id|P268'], root['bitraga_work_id|P6175'], root['canadiana_name_authority_id|P8179'], root['characters|P674'], root['commons_category|P373'], root['copyright_status|P6216'], root['country_of_origin|P495'], root['derivative_work|P4969'], root['dewey_decimal_classification_(works_and_editions)|P8359'], root['different_from|P1889'], root['distribution_format|P437'], root['encyclopaedia_britannica_online_id|P1417'], root['encyclopaedia_universalis_id|P3219'], root['fandom_article_id|P6262'], root['first_line|P1922'], root['followed_by|P156'], root['follows|P155'], root['form_of_creative_work|P7937'], root['freebase_id|P646'], root['full_work_available_at_url|P953'], root['genre|P136'], root['gnd_id|P227'], root['goodreads_version/edition_id|P2969'], root['goodreads_work_id|P8383'], root['google_knowledge_graph_id|P2671'], root['has_edition_or_translation|P747'], root['idref_id|P269'], root['image|P18'], root['inception|P571'], root['influenced_by|P737'], root['inspired_by|P941'], root['instance_of|P31'], root['label'], root['language_of_work_or_name|P407'], root['last_line|P3132'], root['libraries_australia_id|P409'], root['library_of_congress_authority_id|P244'], root['library_of_congress_classification|P1149'], root['librarything_work_id|P1085'], root['libris-uri|P5587'], root['main_subject|P921'], root['musicbrainz_release_group_id|P436'], root['musicbrainz_work_id|P435'], root['namuwiki_id|P8885'], root['narrative_location|P840'], root['narrator|P2438'], root['national_library_of_brazil_id|P4619'], root['national_library_of_israel_id_(old)|P949'], root['national_library_of_israel_j9u_id|P8189'], root['ne.se_id|P3222'], root['nkcr_aut_id|P691'], root['nnl_item_id|P3959'], root['oclc_control_number|P243'], root['oclc_work_id|P5331'], root['plwabn_id|P7293'], root['publication_date|P577'], root['quora_topic_id|P3417'], root['references_work,_tradition_or_theory|P8371'], root['schematic|P5555'], root['selibr_id|P906'], root['senscritique_work_id|P10100'], root['set_in_period|P2408'], root['theatricalia_play_id|P1242'], root['title|P1476'], root['topics_main_category|P910'], root['uses|P2283'], root['viaf_id|P214'], root['what'], root['wolfram_language_entity_code|P4839'], root['working_title|P1638']]}\u001b[0m )\n",
      "[18:20:13] lltk.text.text.\u001b[34m\u001b[1mcache_db\u001b[0m( \u001b[36mcached text meta to graph db: /Users/ryan/lltk_data/data/db/database.graphdb\u001b[0m )\n",
      "[18:20:13] lltk.corpus.corpus.\u001b[34m\u001b[1mtext\u001b[0m( \u001b[36m-> TextWikidataClass(_wikidata/Q170583)\u001b[0m )\n",
      "[18:20:13] lltk.text.text.\u001b[34m\u001b[1mText\u001b[0m( \u001b[36m<- id = Q170583, corpus = wikidata, kwargs = {'apple_books_book_id_(american_version)|P6395': '395534643', 'archive_of_our_own_tag|P8419': ['Prid)\u001b[0m )\n",
      "[18:20:13] lltk.text.text.\u001b[34m\u001b[1mText\u001b[0m( \u001b[36m<- addr = _wikidata/Q170583\u001b[0m )\n",
      "[18:20:13] lltk.corpus.corpus.\u001b[34m\u001b[1mCorpus\u001b[0m( \u001b[36m<- id = wikidata\u001b[0m )\n",
      "[18:20:13] lltk.corpus.corpus.\u001b[34m\u001b[1mCorpus\u001b[0m( \u001b[36m-> WikidataCorpus(wikidata)\u001b[0m )\n",
      "[18:20:13] lltk.corpus.corpus.\u001b[34m\u001b[1mtext\u001b[0m( \u001b[36m<- id = Q170583, corpus = WikidataCorpus(wikidata), kwargs = {'apple_books_book_id_(american_version)|P6395': '395534643', 'archive_of_our_own_tag|P8419': ['Prid)\u001b[0m )\n",
      "[18:20:13] lltk.corpus.corpus.\u001b[34m\u001b[1mget_text_id\u001b[0m( \u001b[36m<- id = Q170583, corpus = WikidataCorpus(wikidata), kwargs = {'apple_books_book_id_(american_version)|P6395': '395534643', 'archive_of_our_own_tag|P8419': ['Prid)\u001b[0m )\n",
      "[18:20:13] lltk.corpus.corpus.\u001b[34m\u001b[1mget_text_id\u001b[0m( \u001b[36m-> Q170583\u001b[0m )\n",
      "[18:20:13] lltk.text.text.\u001b[34m\u001b[1mupdate\u001b[0m( \u001b[36m<- \u001b[0m )\n",
      "[18:20:13] lltk.corpus.corpus.\u001b[34m\u001b[1mtext\u001b[0m( \u001b[36m-> TextWikidataClass(_wikidata/Q170583)\u001b[0m )\n",
      "[18:20:13] lltk.text.text.\u001b[34m\u001b[1mText\u001b[0m( \u001b[36m-> TextWikidataClass(_wikidata/Q170583)\u001b[0m )\n",
      "[18:20:13] wikidata.\u001b[34m\u001b[1mTextWikidata\u001b[0m( \u001b[36mGenerated wiki text: TextWikidataClass(_wikidata/Q170583)\u001b[0m )\n",
      "[18:20:13] lltk.text.text.\u001b[34m\u001b[1mmatch\u001b[0m( \u001b[36m_chadwyck/Nineteenth-Century_Fiction/ncf0204.06 --> _wikidata/Q170583 ?\u001b[0m )\n",
      "[18:20:13] lltk.tools.tools.\u001b[34m\u001b[1mis_cacheworthy\u001b[0m( \u001b[36mcache unchanged\u001b[0m )\n",
      "[18:20:13] lltk.tools.tools.\u001b[34m\u001b[1mis_cacheworthy\u001b[0m( \u001b[36mcache unchanged\u001b[0m )\n",
      "[18:20:13] lltk.text.text.\u001b[34m\u001b[1mget_local_sources\u001b[0m( \u001b[36m-> set()\u001b[0m )\n"
     ]
    }
   ],
   "source": [
    "with log: Corpus('wikidata').text_from(t)"
   ]
  },
  {
   "cell_type": "code",
   "execution_count": null,
   "metadata": {},
   "outputs": [],
   "source": []
  }
 ],
 "metadata": {
  "interpreter": {
   "hash": "99c3488a746bccd77b7949f8f419451e1c962da56ebbaaae6e4d2e6c8c07eaa0"
  },
  "kernelspec": {
   "display_name": "Python 3.9.7 ('base')",
   "language": "python",
   "name": "python3"
  },
  "language_info": {
   "codemirror_mode": {
    "name": "ipython",
    "version": 3
   },
   "file_extension": ".py",
   "mimetype": "text/x-python",
   "name": "python",
   "nbconvert_exporter": "python",
   "pygments_lexer": "ipython3",
   "version": "3.9.7"
  },
  "orig_nbformat": 4
 },
 "nbformat": 4,
 "nbformat_minor": 2
}

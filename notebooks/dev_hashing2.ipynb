{
 "cells": [
  {
   "cell_type": "code",
   "execution_count": 1,
   "metadata": {},
   "outputs": [
    {
     "data": {
      "text/plain": [
       "False"
      ]
     },
     "execution_count": 1,
     "metadata": {},
     "output_type": "execute_result"
    }
   ],
   "source": [
    "import sys; sys.path.insert(0,'../../yapmap')\n",
    "import sys; sys.path.insert(0,'..')\n",
    "from lltk import *\n",
    "from lltk.tools.db import *\n",
    "is_logged_on()"
   ]
  },
  {
   "cell_type": "code",
   "execution_count": 2,
   "metadata": {},
   "outputs": [
    {
     "data": {
      "application/vnd.jupyter.widget-view+json": {
       "model_id": "d4eec1a5d1ce451ab8e325064fa4eed1",
       "version_major": 2,
       "version_minor": 0
      },
      "text/plain": [
       "[Chicago] Loading corpus:   0%|          | 0/9089 [00:00<?, ?it/s]"
      ]
     },
     "metadata": {},
     "output_type": "display_data"
    },
    {
     "data": {
      "application/vnd.jupyter.widget-view+json": {
       "model_id": "e682bb5cb520474aafaf2ed4be81f7cd",
       "version_major": 2,
       "version_minor": 0
      },
      "text/plain": [
       "[MarkMark] Loading corpus:   0%|          | 0/384 [00:00<?, ?it/s]"
      ]
     },
     "metadata": {},
     "output_type": "display_data"
    },
    {
     "data": {
      "application/vnd.jupyter.widget-view+json": {
       "model_id": "d19eb47f5bcc4dc19c0653f49df37555",
       "version_major": 2,
       "version_minor": 0
      },
      "text/plain": [
       "[CanonFiction] Loading corpus:   0%|          | 0/1847 [00:00<?, ?it/s]"
      ]
     },
     "metadata": {},
     "output_type": "display_data"
    }
   ],
   "source": [
    "woolfs = Corpus('chicago').au.Woolf.ti + Corpus('markmark').au.Woolf.ti + Corpus('canon_fiction').au.Woolf.ti"
   ]
  },
  {
   "cell_type": "code",
   "execution_count": 14,
   "metadata": {},
   "outputs": [
    {
     "data": {
      "text/plain": [
       "[(_chicago/00004882),\n",
       " (_chicago/00011024),\n",
       " (_chicago/00011030),\n",
       " (_chicago/00011042),\n",
       " (_chicago/00011048),\n",
       " (_chicago/00011060),\n",
       " (_chicago/00011072),\n",
       " (_chicago/00011241),\n",
       " (_markmark/Woolf,_Virginia.Mrs._Dalloway),\n",
       " (_markmark/Woolf,_Virginia.Orlando),\n",
       " (_markmark/Woolf,_Virginia.To_The_Lighthouse),\n",
       " (_canon_fiction/Woolf.Waves),\n",
       " (_canon_fiction/markmark.Woolf.Mrs_Dalloway.1676),\n",
       " (_canon_fiction/markmark.Woolf.Orlando_A_Biography.1677),\n",
       " (_canon_fiction/markmark.Woolf.To_the_Lighthouse.1678)]"
      ]
     },
     "execution_count": 14,
     "metadata": {},
     "output_type": "execute_result"
    }
   ],
   "source": [
    "woolfs"
   ]
  },
  {
   "cell_type": "code",
   "execution_count": 17,
   "metadata": {},
   "outputs": [
    {
     "name": "stdout",
     "output_type": "stream",
     "text": [
      "Approximate neighbours with Jaccard similarity > 0.5 ['_canon_fiction/markmark.Woolf.To_the_Lighthouse.1678', '_markmark/Woolf,_Virginia.To_The_Lighthouse']\n"
     ]
    }
   ],
   "source": [
    "# Approximate\n",
    "from datasketch import MinHashLSH\n",
    "lsh = MinHashLSH(threshold=0.5, num_perm=128)\n",
    "for w in woolfs: lsh.insert(w.addr, w.minhash())\n",
    "result = lsh.query(woolfs[-1].minhash())\n",
    "print(\"Approximate neighbours with Jaccard similarity > 0.5\", result)"
   ]
  },
  {
   "cell_type": "code",
   "execution_count": null,
   "metadata": {},
   "outputs": [],
   "source": []
  },
  {
   "cell_type": "code",
   "execution_count": 18,
   "metadata": {},
   "outputs": [
    {
     "data": {
      "application/vnd.jupyter.widget-view+json": {
       "model_id": "fa6b445afd8647eaa7f8b5ea5e38ca19",
       "version_major": 2,
       "version_minor": 0
      },
      "text/plain": [
       "[MarkMark] Iterating texts:   0%|          | 0/355 [00:00<?, ?it/s]"
      ]
     },
     "metadata": {},
     "output_type": "display_data"
    }
   ],
   "source": [
    "for t in Corpus('markmark'): t.minhash()"
   ]
  },
  {
   "cell_type": "code",
   "execution_count": null,
   "metadata": {},
   "outputs": [],
   "source": []
  },
  {
   "cell_type": "code",
   "execution_count": 19,
   "metadata": {},
   "outputs": [],
   "source": [
    "def proc_minhash(taddr): Text(taddr).minhash()"
   ]
  },
  {
   "cell_type": "code",
   "execution_count": 20,
   "metadata": {},
   "outputs": [
    {
     "data": {
      "text/plain": [
       "[]"
      ]
     },
     "execution_count": 20,
     "metadata": {},
     "output_type": "execute_result"
    }
   ],
   "source": [
    "addrs = Corpus('gildedage').addrs\n",
    "addrs"
   ]
  },
  {
   "cell_type": "code",
   "execution_count": null,
   "metadata": {},
   "outputs": [],
   "source": []
  },
  {
   "cell_type": "code",
   "execution_count": null,
   "metadata": {},
   "outputs": [],
   "source": []
  },
  {
   "cell_type": "code",
   "execution_count": 13,
   "metadata": {},
   "outputs": [
    {
     "data": {
      "application/vnd.jupyter.widget-view+json": {
       "model_id": "81aeed62fb164799ac398db4e70d4153",
       "version_major": 2,
       "version_minor": 0
      },
      "text/plain": [
       "  0%|          | 0/15 [00:00<?, ?it/s]"
      ]
     },
     "metadata": {},
     "output_type": "display_data"
    },
    {
     "data": {
      "text/html": [
       "<div>\n",
       "<style scoped>\n",
       "    .dataframe tbody tr th:only-of-type {\n",
       "        vertical-align: middle;\n",
       "    }\n",
       "\n",
       "    .dataframe tbody tr th {\n",
       "        vertical-align: top;\n",
       "    }\n",
       "\n",
       "    .dataframe thead th {\n",
       "        text-align: right;\n",
       "    }\n",
       "</style>\n",
       "<table border=\"1\" class=\"dataframe\">\n",
       "  <thead>\n",
       "    <tr style=\"text-align: right;\">\n",
       "      <th></th>\n",
       "      <th>u</th>\n",
       "      <th>v</th>\n",
       "      <th>dist</th>\n",
       "    </tr>\n",
       "  </thead>\n",
       "  <tbody>\n",
       "    <tr>\n",
       "      <th>20</th>\n",
       "      <td>To The Lighthouse (_canon_fiction/markmark.Woo...</td>\n",
       "      <td>To The Lighthouse (_markmark/Woolf,_Virginia.T...</td>\n",
       "      <td>0.000000</td>\n",
       "    </tr>\n",
       "    <tr>\n",
       "      <th>15</th>\n",
       "      <td>Orlando (_canon_fiction/markmark.Woolf.Orlando...</td>\n",
       "      <td>Orlando (_markmark/Woolf,_Virginia.Orlando)</td>\n",
       "      <td>0.000000</td>\n",
       "    </tr>\n",
       "    <tr>\n",
       "      <th>9</th>\n",
       "      <td>Mrs Dalloway (_canon_fiction/markmark.Woolf.Mr...</td>\n",
       "      <td>Mrs Dalloway (_markmark/Woolf,_Virginia.Mrs._D...</td>\n",
       "      <td>0.000000</td>\n",
       "    </tr>\n",
       "    <tr>\n",
       "      <th>1</th>\n",
       "      <td>Mrs Dalloway (_markmark/Woolf,_Virginia.Mrs._D...</td>\n",
       "      <td>To The Lighthouse (_markmark/Woolf,_Virginia.T...</td>\n",
       "      <td>0.687500</td>\n",
       "    </tr>\n",
       "    <tr>\n",
       "      <th>18</th>\n",
       "      <td>To The Lighthouse (_canon_fiction/markmark.Woo...</td>\n",
       "      <td>Mrs Dalloway (_markmark/Woolf,_Virginia.Mrs._D...</td>\n",
       "      <td>0.687500</td>\n",
       "    </tr>\n",
       "    <tr>\n",
       "      <th>13</th>\n",
       "      <td>Mrs Dalloway (_canon_fiction/markmark.Woolf.Mr...</td>\n",
       "      <td>To The Lighthouse (_canon_fiction/markmark.Woo...</td>\n",
       "      <td>0.687500</td>\n",
       "    </tr>\n",
       "    <tr>\n",
       "      <th>11</th>\n",
       "      <td>Mrs Dalloway (_canon_fiction/markmark.Woolf.Mr...</td>\n",
       "      <td>To The Lighthouse (_markmark/Woolf,_Virginia.T...</td>\n",
       "      <td>0.687500</td>\n",
       "    </tr>\n",
       "    <tr>\n",
       "      <th>4</th>\n",
       "      <td>The Waves (_canon_fiction/Woolf.Waves)</td>\n",
       "      <td>Orlando (_markmark/Woolf,_Virginia.Orlando)</td>\n",
       "      <td>0.703125</td>\n",
       "    </tr>\n",
       "    <tr>\n",
       "      <th>7</th>\n",
       "      <td>The Waves (_canon_fiction/Woolf.Waves)</td>\n",
       "      <td>Orlando (_canon_fiction/markmark.Woolf.Orlando...</td>\n",
       "      <td>0.703125</td>\n",
       "    </tr>\n",
       "    <tr>\n",
       "      <th>17</th>\n",
       "      <td>Orlando (_canon_fiction/markmark.Woolf.Orlando...</td>\n",
       "      <td>To The Lighthouse (_canon_fiction/markmark.Woo...</td>\n",
       "      <td>0.726562</td>\n",
       "    </tr>\n",
       "    <tr>\n",
       "      <th>16</th>\n",
       "      <td>Orlando (_canon_fiction/markmark.Woolf.Orlando...</td>\n",
       "      <td>To The Lighthouse (_markmark/Woolf,_Virginia.T...</td>\n",
       "      <td>0.726562</td>\n",
       "    </tr>\n",
       "    <tr>\n",
       "      <th>14</th>\n",
       "      <td>Orlando (_canon_fiction/markmark.Woolf.Orlando...</td>\n",
       "      <td>Mrs Dalloway (_markmark/Woolf,_Virginia.Mrs._D...</td>\n",
       "      <td>0.726562</td>\n",
       "    </tr>\n",
       "    <tr>\n",
       "      <th>0</th>\n",
       "      <td>Mrs Dalloway (_markmark/Woolf,_Virginia.Mrs._D...</td>\n",
       "      <td>Orlando (_markmark/Woolf,_Virginia.Orlando)</td>\n",
       "      <td>0.726562</td>\n",
       "    </tr>\n",
       "    <tr>\n",
       "      <th>19</th>\n",
       "      <td>To The Lighthouse (_canon_fiction/markmark.Woo...</td>\n",
       "      <td>Orlando (_markmark/Woolf,_Virginia.Orlando)</td>\n",
       "      <td>0.726562</td>\n",
       "    </tr>\n",
       "    <tr>\n",
       "      <th>2</th>\n",
       "      <td>Orlando (_markmark/Woolf,_Virginia.Orlando)</td>\n",
       "      <td>To The Lighthouse (_markmark/Woolf,_Virginia.T...</td>\n",
       "      <td>0.726562</td>\n",
       "    </tr>\n",
       "    <tr>\n",
       "      <th>12</th>\n",
       "      <td>Mrs Dalloway (_canon_fiction/markmark.Woolf.Mr...</td>\n",
       "      <td>Orlando (_canon_fiction/markmark.Woolf.Orlando...</td>\n",
       "      <td>0.726562</td>\n",
       "    </tr>\n",
       "    <tr>\n",
       "      <th>10</th>\n",
       "      <td>Mrs Dalloway (_canon_fiction/markmark.Woolf.Mr...</td>\n",
       "      <td>Orlando (_markmark/Woolf,_Virginia.Orlando)</td>\n",
       "      <td>0.726562</td>\n",
       "    </tr>\n",
       "    <tr>\n",
       "      <th>8</th>\n",
       "      <td>The Waves (_canon_fiction/Woolf.Waves)</td>\n",
       "      <td>To The Lighthouse (_canon_fiction/markmark.Woo...</td>\n",
       "      <td>0.750000</td>\n",
       "    </tr>\n",
       "    <tr>\n",
       "      <th>5</th>\n",
       "      <td>The Waves (_canon_fiction/Woolf.Waves)</td>\n",
       "      <td>To The Lighthouse (_markmark/Woolf,_Virginia.T...</td>\n",
       "      <td>0.750000</td>\n",
       "    </tr>\n",
       "    <tr>\n",
       "      <th>6</th>\n",
       "      <td>The Waves (_canon_fiction/Woolf.Waves)</td>\n",
       "      <td>Mrs Dalloway (_canon_fiction/markmark.Woolf.Mr...</td>\n",
       "      <td>0.781250</td>\n",
       "    </tr>\n",
       "    <tr>\n",
       "      <th>3</th>\n",
       "      <td>The Waves (_canon_fiction/Woolf.Waves)</td>\n",
       "      <td>Mrs Dalloway (_markmark/Woolf,_Virginia.Mrs._D...</td>\n",
       "      <td>0.781250</td>\n",
       "    </tr>\n",
       "  </tbody>\n",
       "</table>\n",
       "</div>"
      ],
      "text/plain": [
       "                                                    u  \\\n",
       "20  To The Lighthouse (_canon_fiction/markmark.Woo...   \n",
       "15  Orlando (_canon_fiction/markmark.Woolf.Orlando...   \n",
       "9   Mrs Dalloway (_canon_fiction/markmark.Woolf.Mr...   \n",
       "1   Mrs Dalloway (_markmark/Woolf,_Virginia.Mrs._D...   \n",
       "18  To The Lighthouse (_canon_fiction/markmark.Woo...   \n",
       "13  Mrs Dalloway (_canon_fiction/markmark.Woolf.Mr...   \n",
       "11  Mrs Dalloway (_canon_fiction/markmark.Woolf.Mr...   \n",
       "4              The Waves (_canon_fiction/Woolf.Waves)   \n",
       "7              The Waves (_canon_fiction/Woolf.Waves)   \n",
       "17  Orlando (_canon_fiction/markmark.Woolf.Orlando...   \n",
       "16  Orlando (_canon_fiction/markmark.Woolf.Orlando...   \n",
       "14  Orlando (_canon_fiction/markmark.Woolf.Orlando...   \n",
       "0   Mrs Dalloway (_markmark/Woolf,_Virginia.Mrs._D...   \n",
       "19  To The Lighthouse (_canon_fiction/markmark.Woo...   \n",
       "2         Orlando (_markmark/Woolf,_Virginia.Orlando)   \n",
       "12  Mrs Dalloway (_canon_fiction/markmark.Woolf.Mr...   \n",
       "10  Mrs Dalloway (_canon_fiction/markmark.Woolf.Mr...   \n",
       "8              The Waves (_canon_fiction/Woolf.Waves)   \n",
       "5              The Waves (_canon_fiction/Woolf.Waves)   \n",
       "6              The Waves (_canon_fiction/Woolf.Waves)   \n",
       "3              The Waves (_canon_fiction/Woolf.Waves)   \n",
       "\n",
       "                                                    v      dist  \n",
       "20  To The Lighthouse (_markmark/Woolf,_Virginia.T...  0.000000  \n",
       "15        Orlando (_markmark/Woolf,_Virginia.Orlando)  0.000000  \n",
       "9   Mrs Dalloway (_markmark/Woolf,_Virginia.Mrs._D...  0.000000  \n",
       "1   To The Lighthouse (_markmark/Woolf,_Virginia.T...  0.687500  \n",
       "18  Mrs Dalloway (_markmark/Woolf,_Virginia.Mrs._D...  0.687500  \n",
       "13  To The Lighthouse (_canon_fiction/markmark.Woo...  0.687500  \n",
       "11  To The Lighthouse (_markmark/Woolf,_Virginia.T...  0.687500  \n",
       "4         Orlando (_markmark/Woolf,_Virginia.Orlando)  0.703125  \n",
       "7   Orlando (_canon_fiction/markmark.Woolf.Orlando...  0.703125  \n",
       "17  To The Lighthouse (_canon_fiction/markmark.Woo...  0.726562  \n",
       "16  To The Lighthouse (_markmark/Woolf,_Virginia.T...  0.726562  \n",
       "14  Mrs Dalloway (_markmark/Woolf,_Virginia.Mrs._D...  0.726562  \n",
       "0         Orlando (_markmark/Woolf,_Virginia.Orlando)  0.726562  \n",
       "19        Orlando (_markmark/Woolf,_Virginia.Orlando)  0.726562  \n",
       "2   To The Lighthouse (_markmark/Woolf,_Virginia.T...  0.726562  \n",
       "12  Orlando (_canon_fiction/markmark.Woolf.Orlando...  0.726562  \n",
       "10        Orlando (_markmark/Woolf,_Virginia.Orlando)  0.726562  \n",
       "8   To The Lighthouse (_canon_fiction/markmark.Woo...  0.750000  \n",
       "5   To The Lighthouse (_markmark/Woolf,_Virginia.T...  0.750000  \n",
       "6   Mrs Dalloway (_canon_fiction/markmark.Woolf.Mr...  0.781250  \n",
       "3   Mrs Dalloway (_markmark/Woolf,_Virginia.Mrs._D...  0.781250  "
      ]
     },
     "execution_count": 13,
     "metadata": {},
     "output_type": "execute_result"
    }
   ],
   "source": [
    "o=[]\n",
    "for w1 in get_tqdm(woolfs):\n",
    "    for w2 in woolfs:\n",
    "        if w1.addr>=w2.addr: continue\n",
    "        if w1.txt and w2.txt:\n",
    "            odx={'u':w1.node, 'v':w2.node, 'dist':w1.hashdist(w2)}\n",
    "            o.append(odx)\n",
    "odf=pd.DataFrame(o).sort_values('dist')\n",
    "odf"
   ]
  },
  {
   "cell_type": "code",
   "execution_count": null,
   "metadata": {},
   "outputs": [],
   "source": []
  }
 ],
 "metadata": {
  "interpreter": {
   "hash": "99c3488a746bccd77b7949f8f419451e1c962da56ebbaaae6e4d2e6c8c07eaa0"
  },
  "kernelspec": {
   "display_name": "Python 3 (ipykernel)",
   "language": "python",
   "name": "python3"
  },
  "language_info": {
   "codemirror_mode": {
    "name": "ipython",
    "version": 3
   },
   "file_extension": ".py",
   "mimetype": "text/x-python",
   "name": "python",
   "nbconvert_exporter": "python",
   "pygments_lexer": "ipython3",
   "version": "3.9.7"
  }
 },
 "nbformat": 4,
 "nbformat_minor": 4
}

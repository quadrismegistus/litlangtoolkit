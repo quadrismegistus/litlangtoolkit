{
 "cells": [
  {
   "cell_type": "code",
   "execution_count": 1,
   "metadata": {},
   "outputs": [],
   "source": [
    "import sys; sys.path.insert(0,'../../yapmap')\n",
    "import sys; sys.path.insert(0,'..')\n",
    "from lltk import *\n",
    "log.start_screen()"
   ]
  },
  {
   "cell_type": "code",
   "execution_count": 6,
   "metadata": {},
   "outputs": [],
   "source": [
    "%%timeit\n",
    "Matcher().pathd"
   ]
  },
  {
   "cell_type": "code",
   "execution_count": null,
   "metadata": {},
   "outputs": [
    {
     "name": "stderr",
     "output_type": "stream",
     "text": [
      "[07:42:23] lltk.corpus.corpus.\u001b[34m\u001b[1mCorpus\u001b[0m( \u001b[36m<- id = None\u001b[0m )\n",
      "[07:42:23] lltk.corpus.corpus.\u001b[34m\u001b[1m__init__\u001b[0m( \u001b[36mBaseCorpus(...)\u001b[0m )\n",
      "[07:42:23] lltk.corpus.corpus.\u001b[34m\u001b[1minit\u001b[0m( \u001b[36mBaseCorpus(tmp)\u001b[0m )\n",
      "[07:42:23] lltk.corpus.corpus.\u001b[34m\u001b[1mCorpus\u001b[0m( \u001b[36m-> BaseCorpus(tmp)\u001b[0m )\n"
     ]
    },
    {
     "data": {
      "text/plain": [
       "{'_G': <networkx.classes.multigraph.MultiGraph at 0x105722490>,\n",
       " 'id': 'tmp',\n",
       " 'path': '/Users/ryan/lltk_data/corpora/tmp/data/rels'}"
      ]
     },
     "execution_count": 3,
     "metadata": {},
     "output_type": "execute_result"
    }
   ],
   "source": [
    "%%timeit\n",
    "Matcher(Corpus()).pathd"
   ]
  },
  {
   "cell_type": "code",
   "execution_count": 16,
   "metadata": {},
   "outputs": [
    {
     "name": "stderr",
     "output_type": "stream",
     "text": [
      "[06:50:19] lltk.corpus.corpus.\u001b[34m\u001b[1mCorpus\u001b[0m( \u001b[36m<- id = wikidata\u001b[0m )\n",
      "[06:50:19] lltk.corpus.corpus.\u001b[34m\u001b[1mCorpus\u001b[0m( \u001b[36m-> WikidataCorpus(wikidata)\u001b[0m )\n"
     ]
    },
    {
     "data": {
      "text/plain": [
       "{'id': 'Q50377310',\n",
       " 'author__tmp': 'Cusk',\n",
       " 'author|P50': 'Rachel Cusk|Q3416087',\n",
       " 'award_received|P166': 'The New Vanguard|Q50376726',\n",
       " 'instance_of|P31': 'literary work|Q7725634',\n",
       " 'label': 'Outline',\n",
       " 'publication_date|P577': '+2014-00-00T00:00:00Z',\n",
       " 'title__tmp': 'Outline',\n",
       " 'what': 'literary work'}"
      ]
     },
     "execution_count": 16,
     "metadata": {},
     "output_type": "execute_result"
    }
   ],
   "source": [
    "# %%timeit\n",
    "qidx='Q50377310'\n",
    "Corpus('wikidata').get_text_cache_json(qidx)"
   ]
  },
  {
   "cell_type": "code",
   "execution_count": 14,
   "metadata": {},
   "outputs": [
    {
     "name": "stderr",
     "output_type": "stream",
     "text": [
      "[06:43:29] lltk.text.text.\u001b[34m\u001b[1mText\u001b[0m( \u001b[36m<- kwargs = dict({'author': 'Cusk', 'title': 'Outline'})\u001b[0m )\n",
      "[06:43:29] lltk.text.text.\u001b[34m\u001b[1mText\u001b[0m( \u001b[36m<- addr = _tmp/title=Outline/author=Cusk\u001b[0m )\n",
      "[06:43:29] lltk.corpus.corpus.\u001b[34m\u001b[1mCorpus\u001b[0m( \u001b[36m<- id = tmp\u001b[0m )\n",
      "[06:43:29] lltk.corpus.corpus.\u001b[34m\u001b[1mCorpus\u001b[0m( \u001b[36m-> BaseCorpus(tmp)\u001b[0m )\n",
      "[06:43:29] lltk.corpus.corpus.\u001b[34m\u001b[1mtext\u001b[0m( \u001b[36m<- id = title=Outline/author=Cusk, kwargs = dict({'author': 'Cusk', 'title': 'Outline'})\u001b[0m )\n",
      "[06:43:29] lltk.corpus.corpus.\u001b[34m\u001b[1mtext\u001b[0m( \u001b[36mtitle=Outline/author=Cusk already in tmp._textd and True set\u001b[0m )\n",
      "[06:43:29] lltk.corpus.corpus.\u001b[34m\u001b[1mtext\u001b[0m( \u001b[36mnew id set: title=Outline/author=Cusk_2\u001b[0m )\n",
      "[06:43:29] lltk.corpus.corpus.\u001b[34m\u001b[1mtext\u001b[0m( \u001b[36mtitle=Outline/author=Cusk_2 already in tmp._textd and True set\u001b[0m )\n",
      "[06:43:29] lltk.corpus.corpus.\u001b[34m\u001b[1mtext\u001b[0m( \u001b[36mnew id set: title=Outline/author=Cusk_3\u001b[0m )\n",
      "[06:43:29] lltk.corpus.corpus.\u001b[34m\u001b[1minit_text\u001b[0m( \u001b[36m<- id = title=Outline/author=Cusk_3, kwargs = dict({'author': 'Cusk', 'title': 'Outline'})\u001b[0m )\n",
      "[06:43:29] lltk.text.text.\u001b[34m\u001b[1m__init__\u001b[0m( \u001b[36mBaseText(id = title=Outline/author=Cusk_3, corpus = BaseCorpus(tmp), kwargs = dict({'author': 'Cusk', 'title': 'Outline'}))\u001b[0m )\n",
      "[06:43:29] lltk.corpus.corpus.\u001b[34m\u001b[1minit_text\u001b[0m( \u001b[36m-> BaseText(_tmp/title=Outline/author=Cusk_3)\u001b[0m )\n",
      "[06:43:29] lltk.corpus.corpus.\u001b[34m\u001b[1mtext\u001b[0m( \u001b[36m-> BaseText(_tmp/title=Outline/author=Cusk_3)\u001b[0m )\n",
      "[06:43:29] lltk.text.text.\u001b[34m\u001b[1mText\u001b[0m( \u001b[36m-> BaseText(_tmp/title=Outline/author=Cusk_3)\u001b[0m )\n"
     ]
    }
   ],
   "source": [
    "t=Text(title='Outline',author='Cusk', _new=True)"
   ]
  },
  {
   "cell_type": "code",
   "execution_count": 15,
   "metadata": {},
   "outputs": [
    {
     "name": "stderr",
     "output_type": "stream",
     "text": [
      "[06:43:30] lltk.model.wikidata.\u001b[34m\u001b[1mwikidata\u001b[0m( \u001b[36m...\u001b[0m )\n",
      "[06:43:30] lltk.corpus.corpus.\u001b[34m\u001b[1mCorpus\u001b[0m( \u001b[36m<- id = wikidata\u001b[0m )\n",
      "[06:43:30] lltk.corpus.corpus.\u001b[34m\u001b[1mCorpus\u001b[0m( \u001b[36m-> WikidataCorpus(wikidata)\u001b[0m )\n",
      "[06:43:30] lltk.corpus.corpus.\u001b[34m\u001b[1mtext\u001b[0m( \u001b[36m<- id = Q0\u001b[0m )\n",
      "[06:43:30] lltk.corpus.corpus.\u001b[34m\u001b[1mtext\u001b[0m( \u001b[36m-> TextWikidataClass(_wikidata/Q0)\u001b[0m )\n",
      "[06:43:30] lltk.model.wikidata.\u001b[34m\u001b[1mquery_get_wikidata_id\u001b[0m( \u001b[36mQuerying for ID: Outline Cusk\u001b[0m )\n",
      "[06:43:31] lltk.corpus.corpus.\u001b[34m\u001b[1mCorpus\u001b[0m( \u001b[36m<- id = wikidata\u001b[0m )\n",
      "[06:43:31] lltk.corpus.corpus.\u001b[34m\u001b[1mCorpus\u001b[0m( \u001b[36m-> WikidataCorpus(wikidata)\u001b[0m )\n",
      "[06:43:31] lltk.corpus.corpus.\u001b[34m\u001b[1mtext\u001b[0m( \u001b[36m<- id = Q50377310\u001b[0m )\n",
      "[06:43:31] lltk.corpus.corpus.\u001b[34m\u001b[1mtext\u001b[0m( \u001b[36m-> TextWikidataClass(_wikidata/Q50377310)\u001b[0m )\n",
      "[06:43:31] lltk.model.wikidata.\u001b[34m\u001b[1mquery_get_wikidata_id\u001b[0m( \u001b[36mqid_meta from db: 6 keys\u001b[0m )\n",
      "[06:43:31] lltk.corpus.corpus.\u001b[34m\u001b[1mCorpus\u001b[0m( \u001b[36m<- id = wikidata\u001b[0m )\n",
      "[06:43:31] lltk.corpus.corpus.\u001b[34m\u001b[1mCorpus\u001b[0m( \u001b[36m-> WikidataCorpus(wikidata)\u001b[0m )\n",
      "[06:43:31] lltk.corpus.corpus.\u001b[34m\u001b[1mtext\u001b[0m( \u001b[36m<- id = Q50377310, kwargs = dict({ 'author|P50': 'Rachel Cusk|Q3416087',\n",
      "  'award_received|P166': 'The New Vanguard|Q50376726',\n",
      "  'instance_of|P31': 'literary work|Q7725634',\n",
      "  'label': 'Outline',\n",
      "  'publication_date|P577': '+2014-00-00T00:00:00Z',\n",
      "  'what': 'literary work'})\u001b[0m )\n",
      "[06:43:31] lltk.corpus.corpus.\u001b[34m\u001b[1mtext\u001b[0m( \u001b[36mUpdating text metadata:\n",
      "{ 'author|P50': 'Rachel Cusk|Q3416087',\n",
      "  'award_received|P166': 'The New Vanguard|Q50376726',\n",
      "  'instance_of|P31': 'literary work|Q7725634',\n",
      "  'label': 'Outline',\n",
      "  'publication_date|P577': '+2014-00-00T00:00:00Z',\n",
      "  'what': 'literary work'}\u001b[0m )\n",
      "[06:43:31] lltk.text.text.\u001b[34m\u001b[1mcache\u001b[0m( \u001b[36mTextWikidataClass(_wikidata/Q50377310)\u001b[0m )\n",
      "[06:43:31] lltk.text.text.\u001b[34m\u001b[1mcache_json\u001b[0m( \u001b[36mcached text meta in json: /Users/ryan/lltk_data/corpora/wikidata/texts/Q50377310/meta.json\u001b[0m )\n",
      "[06:43:31] lltk.corpus.corpus.\u001b[34m\u001b[1mtext\u001b[0m( \u001b[36m-> TextWikidataClass(_wikidata/Q50377310)\u001b[0m )\n",
      "[06:43:31] lltk.text.text.\u001b[34m\u001b[1mText\u001b[0m( \u001b[36m<- id = Q50377310, corpus = wikidata, kwargs = dict({ 'author|P50': 'Rachel Cusk|Q3416087',\n",
      "  'award_received|P166': 'The New Vanguard|Q50376726',\n",
      "  'id': 'Q50377310',\n",
      "  'instance_of|P31': 'literary work|Q7725634',\n",
      "  'label': 'Outline',\n",
      "  'publication_date|P577': '+2014-00-00T00:00:00Z',\n",
      "  'what': 'literary work'})\u001b[0m )\n",
      "[06:43:31] lltk.text.text.\u001b[34m\u001b[1mText\u001b[0m( \u001b[36m<- addr = _wikidata/Q50377310\u001b[0m )\n",
      "[06:43:31] lltk.text.text.\u001b[34m\u001b[1mText\u001b[0m( \u001b[36m-> TextWikidataClass(_wikidata/Q50377310)\u001b[0m )\n",
      "[06:43:31] lltk.corpus.wikidata.wikidata.\u001b[34m\u001b[1mTextWikidata\u001b[0m( \u001b[36mGenerated wiki text: TextWikidataClass(_wikidata/Q50377310)\u001b[0m )\n",
      "[06:43:31] lltk.model.matcher.\u001b[34m\u001b[1madd_edge_to_graph\u001b[0m( \u001b[36m_tmp/title=Outline/author=Cusk_3 --rdf:type--> _wikidata/Q50377310\u001b[0m )\n",
      "[06:43:31] lltk.model.matcher.\u001b[34m\u001b[1mmatch\u001b[0m( \u001b[36mMatching: BaseText(_tmp/title=Outline/author=Cusk_3) --> TextWikidataClass(_wikidata/Q50377310)\u001b[0m )\n",
      "[06:43:31] lltk.text.text.\u001b[34m\u001b[1mText\u001b[0m( \u001b[36m<- id = _tmp/title=Outline/author=Cusk\u001b[0m )\n",
      "[06:43:31] lltk.text.text.\u001b[34m\u001b[1mText\u001b[0m( \u001b[36m<- addr = _tmp/title=Outline/author=Cusk\u001b[0m )\n",
      "[06:43:31] lltk.text.text.\u001b[34m\u001b[1mText\u001b[0m( \u001b[36m-> BaseText(_tmp/title=Outline/author=Cusk)\u001b[0m )\n",
      "[06:43:31] lltk.text.text.\u001b[34m\u001b[1mText\u001b[0m( \u001b[36m<- id = _tmp/title=Outline/author=Cusk_3\u001b[0m )\n",
      "[06:43:31] lltk.text.text.\u001b[34m\u001b[1mText\u001b[0m( \u001b[36m<- addr = _tmp/title=Outline/author=Cusk_3\u001b[0m )\n",
      "[06:43:31] lltk.text.text.\u001b[34m\u001b[1mText\u001b[0m( \u001b[36m-> BaseText(_tmp/title=Outline/author=Cusk_3)\u001b[0m )\n",
      "[06:43:31] lltk.text.text.\u001b[34m\u001b[1mText\u001b[0m( \u001b[36m<- id = _tmp/title=Outline/author=Cusk_2\u001b[0m )\n",
      "[06:43:31] lltk.text.text.\u001b[34m\u001b[1mText\u001b[0m( \u001b[36m<- addr = _tmp/title=Outline/author=Cusk_2\u001b[0m )\n",
      "[06:43:31] lltk.text.text.\u001b[34m\u001b[1mText\u001b[0m( \u001b[36m-> BaseText(_tmp/title=Outline/author=Cusk_2)\u001b[0m )\n",
      "[06:43:31] lltk.text.text.\u001b[34m\u001b[1mget_local_sources\u001b[0m( \u001b[36mfound source: BaseText(_tmp/title=Outline/author=Cusk)\u001b[0m )\n",
      "[06:43:31] lltk.text.text.\u001b[34m\u001b[1mget_local_sources\u001b[0m( \u001b[36mfound source: BaseText(_tmp/title=Outline/author=Cusk_3)\u001b[0m )\n",
      "[06:43:31] lltk.text.text.\u001b[34m\u001b[1mget_local_sources\u001b[0m( \u001b[36mfound source: BaseText(_tmp/title=Outline/author=Cusk_2)\u001b[0m )\n",
      "[06:43:31] lltk.text.text.\u001b[34m\u001b[1mmetadata\u001b[0m( \u001b[36madding metadata from source: BaseText(_tmp/title=Outline/author=Cusk)\u001b[0m )\n",
      "[06:43:31] lltk.text.text.\u001b[34m\u001b[1mcache\u001b[0m( \u001b[36mBaseText(_tmp/title=Outline/author=Cusk)\u001b[0m )\n",
      "[06:43:31] lltk.text.text.\u001b[34m\u001b[1mcache_json\u001b[0m( \u001b[36mcached text meta in json: /Users/ryan/lltk_data/corpora/tmp/texts/title=Outline/author=Cusk/meta.json\u001b[0m )\n",
      "[06:43:31] lltk.text.text.\u001b[34m\u001b[1mmetadata\u001b[0m( \u001b[36madding metadata from source: BaseText(_tmp/title=Outline/author=Cusk_3)\u001b[0m )\n",
      "[06:43:31] lltk.text.text.\u001b[34m\u001b[1mcache\u001b[0m( \u001b[36mBaseText(_tmp/title=Outline/author=Cusk_3)\u001b[0m )\n",
      "[06:43:31] lltk.text.text.\u001b[34m\u001b[1mcache_json\u001b[0m( \u001b[36mcached text meta in json: /Users/ryan/lltk_data/corpora/tmp/texts/title=Outline/author=Cusk_3/meta.json\u001b[0m )\n",
      "[06:43:31] lltk.text.text.\u001b[34m\u001b[1mmetadata\u001b[0m( \u001b[36madding metadata from source: BaseText(_tmp/title=Outline/author=Cusk_2)\u001b[0m )\n",
      "[06:43:31] lltk.text.text.\u001b[34m\u001b[1mcache\u001b[0m( \u001b[36mBaseText(_tmp/title=Outline/author=Cusk_2)\u001b[0m )\n",
      "[06:43:31] lltk.text.text.\u001b[34m\u001b[1mcache_json\u001b[0m( \u001b[36mcached text meta in json: /Users/ryan/lltk_data/corpora/tmp/texts/title=Outline/author=Cusk_2/meta.json\u001b[0m )\n",
      "[06:43:31] lltk.text.text.\u001b[34m\u001b[1mcache\u001b[0m( \u001b[36mTextWikidataClass(_wikidata/Q50377310)\u001b[0m )\n",
      "[06:43:31] lltk.text.text.\u001b[34m\u001b[1mcache_json\u001b[0m( \u001b[36mcached text meta in json: /Users/ryan/lltk_data/corpora/wikidata/texts/Q50377310/meta.json\u001b[0m )\n",
      "[06:43:31] lltk.text.text.\u001b[34m\u001b[1mText\u001b[0m( \u001b[36m<- id = _wikidata/Q50377310\u001b[0m )\n",
      "[06:43:31] lltk.text.text.\u001b[34m\u001b[1mText\u001b[0m( \u001b[36m<- addr = _wikidata/Q50377310\u001b[0m )\n",
      "[06:43:31] lltk.text.text.\u001b[34m\u001b[1mText\u001b[0m( \u001b[36m-> TextWikidataClass(_wikidata/Q50377310)\u001b[0m )\n",
      "[06:43:31] lltk.text.text.\u001b[34m\u001b[1mText\u001b[0m( \u001b[36m<- id = _tmp/title=Outline/author=Cusk\u001b[0m )\n",
      "[06:43:31] lltk.text.text.\u001b[34m\u001b[1mText\u001b[0m( \u001b[36m<- addr = _tmp/title=Outline/author=Cusk\u001b[0m )\n",
      "[06:43:31] lltk.text.text.\u001b[34m\u001b[1mText\u001b[0m( \u001b[36m-> BaseText(_tmp/title=Outline/author=Cusk)\u001b[0m )\n",
      "[06:43:31] lltk.text.text.\u001b[34m\u001b[1mText\u001b[0m( \u001b[36m<- id = _tmp/title=Outline/author=Cusk_2\u001b[0m )\n",
      "[06:43:31] lltk.text.text.\u001b[34m\u001b[1mText\u001b[0m( \u001b[36m<- addr = _tmp/title=Outline/author=Cusk_2\u001b[0m )\n",
      "[06:43:31] lltk.text.text.\u001b[34m\u001b[1mText\u001b[0m( \u001b[36m-> BaseText(_tmp/title=Outline/author=Cusk_2)\u001b[0m )\n",
      "[06:43:31] lltk.text.text.\u001b[34m\u001b[1mget_local_sources\u001b[0m( \u001b[36mfound source: TextWikidataClass(_wikidata/Q50377310)\u001b[0m )\n",
      "[06:43:31] lltk.text.text.\u001b[34m\u001b[1mget_local_sources\u001b[0m( \u001b[36mfound source: BaseText(_tmp/title=Outline/author=Cusk)\u001b[0m )\n",
      "[06:43:31] lltk.text.text.\u001b[34m\u001b[1mget_local_sources\u001b[0m( \u001b[36mfound source: BaseText(_tmp/title=Outline/author=Cusk_2)\u001b[0m )\n",
      "[06:43:31] lltk.text.text.\u001b[34m\u001b[1mmetadata\u001b[0m( \u001b[36madding metadata from source: TextWikidataClass(_wikidata/Q50377310)\u001b[0m )\n",
      "[06:43:31] lltk.text.text.\u001b[34m\u001b[1mcache\u001b[0m( \u001b[36mTextWikidataClass(_wikidata/Q50377310)\u001b[0m )\n",
      "[06:43:31] lltk.text.text.\u001b[34m\u001b[1mcache_json\u001b[0m( \u001b[36mcached text meta in json: /Users/ryan/lltk_data/corpora/wikidata/texts/Q50377310/meta.json\u001b[0m )\n",
      "[06:43:31] lltk.text.text.\u001b[34m\u001b[1mmetadata\u001b[0m( \u001b[36madding metadata from source: BaseText(_tmp/title=Outline/author=Cusk)\u001b[0m )\n",
      "[06:43:31] lltk.text.text.\u001b[34m\u001b[1mcache\u001b[0m( \u001b[36mBaseText(_tmp/title=Outline/author=Cusk)\u001b[0m )\n",
      "[06:43:31] lltk.text.text.\u001b[34m\u001b[1mcache_json\u001b[0m( \u001b[36mcached text meta in json: /Users/ryan/lltk_data/corpora/tmp/texts/title=Outline/author=Cusk/meta.json\u001b[0m )\n",
      "[06:43:31] lltk.text.text.\u001b[34m\u001b[1mmetadata\u001b[0m( \u001b[36madding metadata from source: BaseText(_tmp/title=Outline/author=Cusk_2)\u001b[0m )\n",
      "[06:43:31] lltk.text.text.\u001b[34m\u001b[1mcache\u001b[0m( \u001b[36mBaseText(_tmp/title=Outline/author=Cusk_2)\u001b[0m )\n",
      "[06:43:31] lltk.text.text.\u001b[34m\u001b[1mcache_json\u001b[0m( \u001b[36mcached text meta in json: /Users/ryan/lltk_data/corpora/tmp/texts/title=Outline/author=Cusk_2/meta.json\u001b[0m )\n",
      "[06:43:31] lltk.text.text.\u001b[34m\u001b[1mcache\u001b[0m( \u001b[36mBaseText(_tmp/title=Outline/author=Cusk_3)\u001b[0m )\n",
      "[06:43:31] lltk.text.text.\u001b[34m\u001b[1mcache_json\u001b[0m( \u001b[36mcached text meta in json: /Users/ryan/lltk_data/corpora/tmp/texts/title=Outline/author=Cusk_3/meta.json\u001b[0m )\n",
      "[06:43:31] lltk.model.matcher.\u001b[34m\u001b[1mcache_g_triples\u001b[0m( \u001b[36mcached graph to /Users/ryan/lltk_data/data/matches/semantic_web.triples.txt\u001b[0m )\n"
     ]
    },
    {
     "data": {
      "text/plain": [
       "TextWikidataClass(_wikidata/Q50377310)"
      ]
     },
     "execution_count": 15,
     "metadata": {},
     "output_type": "execute_result"
    }
   ],
   "source": [
    "t.wiki"
   ]
  },
  {
   "cell_type": "code",
   "execution_count": null,
   "metadata": {},
   "outputs": [],
   "source": []
  }
 ],
 "metadata": {
  "interpreter": {
   "hash": "99c3488a746bccd77b7949f8f419451e1c962da56ebbaaae6e4d2e6c8c07eaa0"
  },
  "kernelspec": {
   "display_name": "Python 3.9.7 ('base')",
   "language": "python",
   "name": "python3"
  },
  "language_info": {
   "codemirror_mode": {
    "name": "ipython",
    "version": 3
   },
   "file_extension": ".py",
   "mimetype": "text/x-python",
   "name": "python",
   "nbconvert_exporter": "python",
   "pygments_lexer": "ipython3",
   "version": "3.9.7"
  },
  "orig_nbformat": 4
 },
 "nbformat": 4,
 "nbformat_minor": 2
}

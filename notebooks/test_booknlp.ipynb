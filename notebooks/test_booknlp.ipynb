{
 "cells": [
  {
   "cell_type": "markdown",
   "id": "05e73a0b-f6c3-4d57-b843-eb33daa43f3c",
   "metadata": {},
   "source": [
    "# new python BookNLP testing"
   ]
  },
  {
   "cell_type": "code",
   "execution_count": 1,
   "id": "a6ac33b3-1753-4e18-873e-a1469bb62268",
   "metadata": {},
   "outputs": [],
   "source": [
    "import sys; sys.path.insert(0,'..')\n",
    "from lltk.imports import *\n",
    "from lltk.model.booknlp import *"
   ]
  },
  {
   "cell_type": "code",
   "execution_count": 2,
   "id": "42c5343a-b4f1-4fa7-8446-73949360f152",
   "metadata": {},
   "outputs": [
    {
     "name": "stderr",
     "output_type": "stream",
     "text": [
      "\u001b[36m[07:16:45]\u001b[0m \u001b[34m\u001b[1mlltk.corpus.corpus.init()\u001b[0m\u001b[36m:263:\u001b[0m Initializing from metadata: [Epistolary](epistolary)\n",
      "\u001b[36m[07:16:46]\u001b[0m \u001b[34m\u001b[1mlltk.corpus.corpus.init()\u001b[0m\u001b[36m:263:\u001b[0m Initializing from metadata: [Chadwyck](chadwyck)\n"
     ]
    }
   ],
   "source": [
    "# t=Text('_epistolary/_chadwyck/Eighteenth-Century_Fiction/burney.01') # Evelina\n",
    "# t=Text('_epistolary/_chadwyck/Eighteenth-Century_Fiction/richards.01') # Clarissa\n",
    "t=Text('_epistolary/_chadwyck/Eighteenth-Century_Fiction/richards.04') # Pamela\n",
    "# t.letters.meta"
   ]
  },
  {
   "cell_type": "code",
   "execution_count": 3,
   "id": "fc3fb47e-1fae-441e-93bd-b1a30c51a753",
   "metadata": {},
   "outputs": [
    {
     "name": "stderr",
     "output_type": "stream",
     "text": [
      "\u001b[36m[07:16:50]\u001b[0m \u001b[34m\u001b[1mlltk.corpus.corpus.init()\u001b[0m\u001b[36m:263:\u001b[0m Initializing from metadata: [SectionCorpusLetterChadwyck](letters)\n"
     ]
    },
    {
     "data": {
      "text/plain": [
       "(196,\n",
       " ['/Users/ryan/lltk_data/corpora/epistolary/texts/_chadwyck/Eighteenth-Century_Fiction/richards.04/letters/texts/L001a/text.txt',\n",
       "  '/Users/ryan/lltk_data/corpora/epistolary/texts/_chadwyck/Eighteenth-Century_Fiction/richards.04/letters/texts/L002a/text.txt',\n",
       "  '/Users/ryan/lltk_data/corpora/epistolary/texts/_chadwyck/Eighteenth-Century_Fiction/richards.04/letters/texts/L003a/text.txt'])"
      ]
     },
     "execution_count": 3,
     "metadata": {},
     "output_type": "execute_result"
    }
   ],
   "source": [
    "t_booknlp = ModelBookNLP(t)\n",
    "t_booknlp.parse()"
   ]
  },
  {
   "cell_type": "code",
   "execution_count": 4,
   "id": "21af5822-562b-4037-bec0-c84980c67c48",
   "metadata": {},
   "outputs": [
    {
     "name": "stderr",
     "output_type": "stream",
     "text": [
      "Parsing texts via BookNLP [x1]: 100%|████████████████████████████████████████████████████████████████████████████████████████████████████████████████████████████████████████████████████████████████████████████████████████| 196/196 [16:32<00:00,  5.06s/it]\n"
     ]
    }
   ],
   "source": []
  },
  {
   "cell_type": "code",
   "execution_count": null,
   "id": "e6c51d1f-aaf5-4b72-901c-6c44fa003d52",
   "metadata": {},
   "outputs": [],
   "source": []
  }
 ],
 "metadata": {
  "kernelspec": {
   "display_name": "booknlp",
   "language": "python",
   "name": "booknlp"
  },
  "language_info": {
   "codemirror_mode": {
    "name": "ipython",
    "version": 3
   },
   "file_extension": ".py",
   "mimetype": "text/x-python",
   "name": "python",
   "nbconvert_exporter": "python",
   "pygments_lexer": "ipython3",
   "version": "3.10.4"
  }
 },
 "nbformat": 4,
 "nbformat_minor": 5
}

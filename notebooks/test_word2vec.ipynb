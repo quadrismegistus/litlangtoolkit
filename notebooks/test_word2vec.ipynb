{
 "cells": [
  {
   "cell_type": "code",
   "execution_count": 1,
   "metadata": {},
   "outputs": [],
   "source": [
    "import sys; sys.path.insert(0,'..')\n",
    "from lltk.imports import *"
   ]
  },
  {
   "cell_type": "code",
   "execution_count": 2,
   "metadata": {},
   "outputs": [
    {
     "name": "stderr",
     "output_type": "stream",
     "text": [
      "\u001b[36m[06:07:26]\u001b[0m \u001b[34m\u001b[1mlltk.corpus.corpus.Corpus()\u001b[0m\u001b[36m:1430:\u001b[0m Corpus loaded: [Epistolary](epistolary)\n",
      "\u001b[36m[06:07:26]\u001b[0m \u001b[34m\u001b[1mlltk.corpus.corpus.Corpus()\u001b[0m\u001b[36m:1430:\u001b[0m Corpus loaded: [Chadwyck](chadwyck)\n"
     ]
    },
    {
     "data": {
      "text/plain": [
       "{'_addr': '_epistolary/_chadwyck/Eighteenth-Century_Fiction/richards.01',\n",
       " '_addr_source': '_chadwyck/Eighteenth-Century_Fiction/richards.01',\n",
       " 'author': 'Richardson, Samuel, 1689-1761',\n",
       " 'idref': 'Z200044053',\n",
       " 'medium': 'Fiction',\n",
       " 'name': 'Vol. 1',\n",
       " 'nation': 'British',\n",
       " 'pub': 'Printed for S. Richardson: [etc.]',\n",
       " 'subcorpus': 'Eighteenth-Century_Fiction',\n",
       " 'title': 'Clarissa (1st ed.) (1748)',\n",
       " 'type': 'BOOK',\n",
       " 'year': 1748,\n",
       " 'id': '_chadwyck/Eighteenth-Century_Fiction/richards.01'}"
      ]
     },
     "execution_count": 2,
     "metadata": {},
     "output_type": "execute_result"
    }
   ],
   "source": [
    "Text(CLAR_ID).meta"
   ]
  },
  {
   "cell_type": "code",
   "execution_count": 3,
   "metadata": {},
   "outputs": [
    {
     "name": "stderr",
     "output_type": "stream",
     "text": [
      "\u001b[36m[06:07:28]\u001b[0m \u001b[34m\u001b[1mlltk.corpus.corpus.Corpus()\u001b[0m\u001b[36m:1430:\u001b[0m Corpus loaded: [Wikidata](wikidata)\n"
     ]
    }
   ],
   "source": [
    "C=Corpus('epistolary')\n",
    "W=Corpus('wikidata')"
   ]
  },
  {
   "cell_type": "code",
   "execution_count": 15,
   "metadata": {},
   "outputs": [],
   "source": [
    "def is_text_obj(obj): return issubclass(type(obj), BaseText)\n",
    "def is_corpus_obj(obj): return issubclass(type(obj), BaseCorpus)\n",
    "\n",
    "\n",
    "def get_addr(text_ref,corpus_ref=None,**kwargs):\n",
    "    if is_text_obj(text_ref): text_ref = text_ref.addr\n",
    "    if is_corpus_obj(corpus_ref): corpus_ref = corpus_ref.id    \n",
    "    addr = text_ref\n",
    "    if corpus_ref: addr = f'_{corpus_ref}/{addr}'\n",
    "\treturn addr\n"
   ]
  },
  {
   "cell_type": "code",
   "execution_count": 18,
   "metadata": {},
   "outputs": [
    {
     "data": {
      "text/plain": [
       "'_chadwyck/Eighteenth-Century_Fiction/burney.01'"
      ]
     },
     "execution_count": 18,
     "metadata": {},
     "output_type": "execute_result"
    }
   ],
   "source": [
    "get_addr(C.t.id)"
   ]
  },
  {
   "cell_type": "code",
   "execution_count": null,
   "metadata": {},
   "outputs": [],
   "source": []
  },
  {
   "cell_type": "code",
   "execution_count": null,
   "metadata": {},
   "outputs": [],
   "source": [
    "Corpus('wikidata').text"
   ]
  },
  {
   "cell_type": "code",
   "execution_count": 4,
   "metadata": {},
   "outputs": [],
   "source": [
    "x = (\n",
    "    1,\n",
    "    2,\n",
    "    3\n",
    ")"
   ]
  },
  {
   "cell_type": "code",
   "execution_count": 5,
   "metadata": {},
   "outputs": [
    {
     "data": {
      "text/plain": [
       "tuple"
      ]
     },
     "execution_count": 5,
     "metadata": {},
     "output_type": "execute_result"
    }
   ],
   "source": [
    "type(x)"
   ]
  },
  {
   "cell_type": "code",
   "execution_count": null,
   "metadata": {},
   "outputs": [],
   "source": []
  },
  {
   "cell_type": "code",
   "execution_count": 3,
   "metadata": {},
   "outputs": [
    {
     "name": "stderr",
     "output_type": "stream",
     "text": [
      "\u001b[36m[00:40:45]\u001b[0m \u001b[34m\u001b[1mlltk.corpus.corpus.Corpus()\u001b[0m\u001b[36m:1430:\u001b[0m Corpus loaded: [Wikidata](wikidata)\n",
      "\u001b[36m[00:40:45]\u001b[0m \u001b[34m\u001b[1mwikidata.text()\u001b[0m\u001b[36m:91:\u001b[0m !?!?!?!!?\n",
      "\u001b[36m[00:40:45]\u001b[0m \u001b[34m\u001b[1mlltk.corpus.corpus.init_meta_files()\u001b[0m\u001b[36m:317:\u001b[0m Initializing from files: [Wikidata](wikidata)\n",
      "\u001b[36m[00:40:45]\u001b[0m \u001b[34m\u001b[1mwikidata.wikidata_search()\u001b[0m\u001b[36m:134:\u001b[0m Querying wikidata: Richardson, Clarissa\n"
     ]
    },
    {
     "data": {
      "text/plain": [
       "([TextEpistolaryChadwyck](_epistolary/_chadwyck/Eighteenth-Century_Fiction/richards.01),\n",
       " [TextWikidata](_wikidata/Q0))"
      ]
     },
     "execution_count": 3,
     "metadata": {},
     "output_type": "execute_result"
    }
   ],
   "source": [
    "t=Text(CLAR_ID)\n",
    "tw=t.wikidata\n",
    "t, tw"
   ]
  },
  {
   "cell_type": "code",
   "execution_count": 5,
   "metadata": {},
   "outputs": [],
   "source": [
    "t.title"
   ]
  },
  {
   "cell_type": "code",
   "execution_count": 19,
   "metadata": {},
   "outputs": [
    {
     "data": {
      "text/plain": [
       "wikidata.TextWikidata"
      ]
     },
     "execution_count": 19,
     "metadata": {},
     "output_type": "execute_result"
    }
   ],
   "source": [
    "Text(f'_wikidata/{CLAR_ID}') == Text(CLAR_ID).wikidata\n",
    "tw = Text(CLAR_ID).wikidata\n",
    "type(tw)"
   ]
  },
  {
   "cell_type": "code",
   "execution_count": 21,
   "metadata": {},
   "outputs": [
    {
     "ename": "NameError",
     "evalue": "name 't' is not defined",
     "output_type": "error",
     "traceback": [
      "\u001b[0;31m---------------------------------------------------------------------------\u001b[0m",
      "\u001b[0;31mNameError\u001b[0m                                 Traceback (most recent call last)",
      "\u001b[1;32m/Users/ryan/github/lltk/notebooks/test_word2vec.ipynb Cell 5'\u001b[0m in \u001b[0;36m<cell line: 1>\u001b[0;34m()\u001b[0m\n\u001b[0;32m----> <a href='vscode-notebook-cell:/Users/ryan/github/lltk/notebooks/test_word2vec.ipynb#ch0000037?line=0'>1</a>\u001b[0m t\n",
      "\u001b[0;31mNameError\u001b[0m: name 't' is not defined"
     ]
    }
   ],
   "source": [
    "t"
   ]
  },
  {
   "cell_type": "code",
   "execution_count": 15,
   "metadata": {},
   "outputs": [
    {
     "data": {
      "text/plain": [
       "{'id': 'Q0', '_addr': '_wikidata/Q0'}"
      ]
     },
     "execution_count": 15,
     "metadata": {},
     "output_type": "execute_result"
    }
   ],
   "source": []
  },
  {
   "cell_type": "code",
   "execution_count": 14,
   "metadata": {},
   "outputs": [],
   "source": [
    "tw.meta"
   ]
  },
  {
   "cell_type": "code",
   "execution_count": 34,
   "metadata": {},
   "outputs": [
    {
     "data": {
      "text/plain": [
       "{'id': 'Q0', '_addr': '_wikidata/Q0'}"
      ]
     },
     "execution_count": 34,
     "metadata": {},
     "output_type": "execute_result"
    }
   ],
   "source": [
    "tw.meta"
   ]
  },
  {
   "cell_type": "code",
   "execution_count": 28,
   "metadata": {},
   "outputs": [
    {
     "data": {
      "text/plain": [
       "[TextWikidata](_wikidata/Q0)"
      ]
     },
     "execution_count": 28,
     "metadata": {},
     "output_type": "execute_result"
    }
   ],
   "source": [
    "tw."
   ]
  },
  {
   "cell_type": "code",
   "execution_count": null,
   "metadata": {},
   "outputs": [],
   "source": []
  },
  {
   "cell_type": "code",
   "execution_count": 64,
   "metadata": {},
   "outputs": [
    {
     "name": "stderr",
     "output_type": "stream",
     "text": [
      "\u001b[36m[23:52:01]\u001b[0m \u001b[34m\u001b[1mlltk.corpus.corpus.Corpus()\u001b[0m\u001b[36m:1435:\u001b[0m Corpus begun: [BaseCorpus](tmp_corpus)\n"
     ]
    },
    {
     "data": {
      "text/plain": [
       "{'_addr': '_markmark/Hemingway_Ernest.The_Old_Man_and_the_Sea',\n",
       " 'author': 'Hemingway, Ernest Miller',\n",
       " 'corpus': 'MarkMark',\n",
       " 'dob': 1899,\n",
       " 'dod': 1961,\n",
       " 'gender': 'M',\n",
       " 'name_first': 'Ernest',\n",
       " 'name_last': 'Hemingway',\n",
       " 'nation': 'American',\n",
       " 'num_words': 29412,\n",
       " 'ocr_accuracy': 0,\n",
       " 'title': 'The Old Man and the Sea',\n",
       " 'year': 1951,\n",
       " '_addr_wikidata': '_wikidata/Q26505',\n",
       " 'from_text_func': 1,\n",
       " 'name_middle': 'Miller',\n",
       " 'id': 'Hemingway_Ernest.The_Old_Man_and_the_Sea'}"
      ]
     },
     "execution_count": 64,
     "metadata": {},
     "output_type": "execute_result"
    }
   ],
   "source": [
    "C = Corpus('markmark')\n",
    "C2 = Corpus()\n",
    "Wiki=Corpus('wikidata',force=False)\n",
    "t=C.text('Hemingway_Ernest.The_Old_Man_and_the_Sea')\n",
    "# t=C.t\n",
    "# t\n",
    "t.meta"
   ]
  },
  {
   "cell_type": "code",
   "execution_count": 6,
   "metadata": {},
   "outputs": [],
   "source": [
    "from lltk.corpus.wikidata import *"
   ]
  },
  {
   "cell_type": "code",
   "execution_count": 8,
   "metadata": {},
   "outputs": [],
   "source": [
    "# # t.wikidata??\n",
    "# C2.text(t)\n",
    "# C2.text(C.t)\n",
    "# C2.meta"
   ]
  },
  {
   "cell_type": "code",
   "execution_count": 14,
   "metadata": {},
   "outputs": [
    {
     "name": "stdout",
     "output_type": "stream",
     "text": [
      "\u001b[0;31mType:\u001b[0m        property\n",
      "\u001b[0;31mString form:\u001b[0m <property object at 0x17c979180>\n",
      "\u001b[0;31mSource:\u001b[0m     \n",
      "\u001b[0;31m# t.wikidata.fget\u001b[0m\u001b[0;34m\u001b[0m\n",
      "\u001b[0;34m\u001b[0m\u001b[0;34m@\u001b[0m\u001b[0mproperty\u001b[0m\u001b[0;34m\u001b[0m\n",
      "\u001b[0;34m\u001b[0m\u001b[0;32mdef\u001b[0m \u001b[0mwikidata\u001b[0m\u001b[0;34m(\u001b[0m\u001b[0mself\u001b[0m\u001b[0;34m)\u001b[0m\u001b[0;34m:\u001b[0m \u001b[0;32mreturn\u001b[0m \u001b[0mText\u001b[0m\u001b[0;34m(\u001b[0m\u001b[0mself\u001b[0m\u001b[0;34m.\u001b[0m\u001b[0maddr\u001b[0m\u001b[0;34m,\u001b[0m \u001b[0mcorpus\u001b[0m\u001b[0;34m=\u001b[0m\u001b[0;34m'wikidata'\u001b[0m\u001b[0;34m)\u001b[0m\u001b[0;34m\u001b[0m\u001b[0;34m\u001b[0m\u001b[0m\n"
     ]
    }
   ],
   "source": [
    "t.wikidata??"
   ]
  },
  {
   "cell_type": "code",
   "execution_count": 10,
   "metadata": {},
   "outputs": [],
   "source": [
    "t.wikidata.cache_meta_json()"
   ]
  },
  {
   "cell_type": "code",
   "execution_count": 11,
   "metadata": {},
   "outputs": [
    {
     "data": {
      "text/plain": [
       "[TextWikidata](_wikidata/Q0)"
      ]
     },
     "execution_count": 11,
     "metadata": {},
     "output_type": "execute_result"
    }
   ],
   "source": [
    "Wiki.text(C.t)"
   ]
  },
  {
   "cell_type": "code",
   "execution_count": 25,
   "metadata": {},
   "outputs": [
    {
     "ename": "AttributeError",
     "evalue": "'NoneType' object has no attribute 'meta'",
     "output_type": "error",
     "traceback": [
      "\u001b[0;31m---------------------------------------------------------------------------\u001b[0m",
      "\u001b[0;31mAttributeError\u001b[0m                            Traceback (most recent call last)",
      "\u001b[1;32m/Users/ryan/github/lltk/notebooks/test_word2vec.ipynb Cell 3'\u001b[0m in \u001b[0;36m<cell line: 1>\u001b[0;34m()\u001b[0m\n\u001b[0;32m----> <a href='vscode-notebook-cell:/Users/ryan/github/lltk/notebooks/test_word2vec.ipynb#ch0000013?line=0'>1</a>\u001b[0m C2\u001b[39m.\u001b[39;49mget_text(C\u001b[39m.\u001b[39;49mt)\u001b[39m.\u001b[39;49mmeta\n",
      "\u001b[0;31mAttributeError\u001b[0m: 'NoneType' object has no attribute 'meta'"
     ]
    }
   ],
   "source": [
    "C2.get_text(C.t).meta"
   ]
  },
  {
   "cell_type": "code",
   "execution_count": 7,
   "metadata": {},
   "outputs": [
    {
     "data": {
      "text/plain": [
       "defaultdict(<function lltk.corpus.corpus.BaseCorpus.__init__.<locals>.<lambda>()>,\n",
       "            {})"
      ]
     },
     "execution_count": 7,
     "metadata": {},
     "output_type": "execute_result"
    }
   ],
   "source": [
    "Wiki._textd"
   ]
  },
  {
   "cell_type": "code",
   "execution_count": 3,
   "metadata": {},
   "outputs": [
    {
     "data": {
      "text/plain": [
       "'Hemingway_Ernest.The_Old_Man_and_the_Sea'"
      ]
     },
     "execution_count": 3,
     "metadata": {},
     "output_type": "execute_result"
    }
   ],
   "source": [
    "t=C.text('Hemingway_Ernest.The_Old_Man_and_the_Sea')\n",
    "t.id"
   ]
  },
  {
   "cell_type": "code",
   "execution_count": 6,
   "metadata": {},
   "outputs": [
    {
     "data": {
      "text/plain": [
       "([TextWikidata](_wikidata/_markmark/Hemingway_Ernest.The_Old_Man_and_the_Sea),\n",
       " False)"
      ]
     },
     "execution_count": 6,
     "metadata": {},
     "output_type": "execute_result"
    }
   ],
   "source": [
    "tw = Wiki.text(t)\n",
    "tw, tw.is_valid()"
   ]
  },
  {
   "cell_type": "code",
   "execution_count": 7,
   "metadata": {},
   "outputs": [
    {
     "data": {
      "text/plain": [
       "[TextWikidata](_wikidata/Q5051626)"
      ]
     },
     "execution_count": 7,
     "metadata": {},
     "output_type": "execute_result"
    }
   ],
   "source": [
    "Wiki.text(C.t)"
   ]
  },
  {
   "cell_type": "code",
   "execution_count": 8,
   "metadata": {},
   "outputs": [
    {
     "name": "stderr",
     "output_type": "stream",
     "text": [
      "\u001b[36m[22:10:55]\u001b[0m \u001b[34m\u001b[1mlltk.corpus.corpus.Corpus()\u001b[0m\u001b[36m:1392:\u001b[0m Corpus loaded: [TxtLab](txtlab)\n",
      "\u001b[36m[22:10:55]\u001b[0m \u001b[34m\u001b[1mlltk.corpus.corpus.Corpus()\u001b[0m\u001b[36m:1392:\u001b[0m Corpus loaded: [Wikidata](wikidata)\n",
      "\u001b[36m[22:10:55]\u001b[0m \u001b[34m\u001b[1mlltk.corpus.corpus.init_meta_files()\u001b[0m\u001b[36m:279:\u001b[0m Initializing from files: [Wikidata](wikidata)\n"
     ]
    },
    {
     "data": {
      "application/vnd.jupyter.widget-view+json": {
       "model_id": "bf89b1367df94786b1763b6081e9e014",
       "version_major": 2,
       "version_minor": 0
      },
      "text/plain": [
       "Finding metadata:   0%|          | 0/517 [00:00<?, ?it/s]"
      ]
     },
     "metadata": {},
     "output_type": "display_data"
    },
    {
     "data": {
      "text/plain": [
       "441"
      ]
     },
     "execution_count": 8,
     "metadata": {},
     "output_type": "execute_result"
    }
   ],
   "source": [
    "C=Corpus('txtlab')\n",
    "len(C.wikidata.meta)"
   ]
  },
  {
   "cell_type": "code",
   "execution_count": 6,
   "metadata": {},
   "outputs": [
    {
     "name": "stderr",
     "output_type": "stream",
     "text": [
      "\u001b[36m[21:34:40]\u001b[0m \u001b[34m\u001b[1mlltk.corpus.corpus.init_meta_files()\u001b[0m\u001b[36m:279:\u001b[0m Initializing from files: [Wikidata](wikidata)\n"
     ]
    },
    {
     "data": {
      "application/vnd.jupyter.widget-view+json": {
       "model_id": "e50788dce2af43a5bd902dc8cbabdecd",
       "version_major": 2,
       "version_minor": 0
      },
      "text/plain": [
       "Finding metadata:   0%|          | 0/744 [00:00<?, ?it/s]"
      ]
     },
     "metadata": {},
     "output_type": "display_data"
    }
   ],
   "source": [
    "C.wikidata.meta"
   ]
  },
  {
   "cell_type": "code",
   "execution_count": null,
   "metadata": {},
   "outputs": [],
   "source": []
  },
  {
   "cell_type": "code",
   "execution_count": null,
   "metadata": {},
   "outputs": [],
   "source": []
  },
  {
   "cell_type": "code",
   "execution_count": 6,
   "metadata": {},
   "outputs": [
    {
     "data": {
      "application/vnd.jupyter.widget-view+json": {
       "model_id": "3cc6c229468b40a6879963fe127a6064",
       "version_major": 2,
       "version_minor": 0
      },
      "text/plain": [
       "Finding metadata:   0%|          | 0/293 [00:00<?, ?it/s]"
      ]
     },
     "metadata": {},
     "output_type": "display_data"
    },
    {
     "data": {
      "text/html": [
       "<div>\n",
       "<style scoped>\n",
       "    .dataframe tbody tr th:only-of-type {\n",
       "        vertical-align: middle;\n",
       "    }\n",
       "\n",
       "    .dataframe tbody tr th {\n",
       "        vertical-align: top;\n",
       "    }\n",
       "\n",
       "    .dataframe thead th {\n",
       "        text-align: right;\n",
       "    }\n",
       "</style>\n",
       "<table border=\"1\" class=\"dataframe\">\n",
       "  <thead>\n",
       "    <tr style=\"text-align: right;\">\n",
       "      <th></th>\n",
       "      <th>instance_of|P31</th>\n",
       "      <th>author|P50</th>\n",
       "      <th>narrative_location|P840</th>\n",
       "      <th>genre|P136</th>\n",
       "      <th>freebase_id|P646</th>\n",
       "      <th>image|P18</th>\n",
       "      <th>award_received|P166</th>\n",
       "      <th>language_of_work_or_name|P407</th>\n",
       "      <th>encyclopaedia_britannica_online_id|P1417</th>\n",
       "      <th>title|P1476</th>\n",
       "      <th>...</th>\n",
       "      <th>uses|P2283</th>\n",
       "      <th>library_of_congress_classification_(works_and_editions)_(p8360)</th>\n",
       "      <th>mubi_film_id|P7299</th>\n",
       "      <th>creator|P170</th>\n",
       "      <th>chinese_moegirlpedia_id|P5737</th>\n",
       "      <th>cast_member|P161</th>\n",
       "      <th>giphy_username|P4013</th>\n",
       "      <th>number_of_parts_of_this_work|P2635</th>\n",
       "      <th>gran_enciclopedia_catalana_id|P1296</th>\n",
       "      <th>bookogs_work_id|P8211</th>\n",
       "    </tr>\n",
       "    <tr>\n",
       "      <th>id</th>\n",
       "      <th></th>\n",
       "      <th></th>\n",
       "      <th></th>\n",
       "      <th></th>\n",
       "      <th></th>\n",
       "      <th></th>\n",
       "      <th></th>\n",
       "      <th></th>\n",
       "      <th></th>\n",
       "      <th></th>\n",
       "      <th></th>\n",
       "      <th></th>\n",
       "      <th></th>\n",
       "      <th></th>\n",
       "      <th></th>\n",
       "      <th></th>\n",
       "      <th></th>\n",
       "      <th></th>\n",
       "      <th></th>\n",
       "      <th></th>\n",
       "      <th></th>\n",
       "    </tr>\n",
       "  </thead>\n",
       "  <tbody>\n",
       "    <tr>\n",
       "      <th>Q1045464</th>\n",
       "      <td>literary work|Q7725634</td>\n",
       "      <td>Edith Wharton|Q276032</td>\n",
       "      <td>[New York City|Q60, Newport|Q54264, Boston|Q100]</td>\n",
       "      <td>romance novel|Q858330</td>\n",
       "      <td>/m/02lz73</td>\n",
       "      <td>Age.Of.Innocence.1920.Cover.jpg</td>\n",
       "      <td>Pulitzer Prize for Fiction|Q833633</td>\n",
       "      <td>English|Q1860</td>\n",
       "      <td>topic/The-Age-of-Innocence</td>\n",
       "      <td>The Age of Innocence</td>\n",
       "      <td>...</td>\n",
       "      <td></td>\n",
       "      <td></td>\n",
       "      <td></td>\n",
       "      <td></td>\n",
       "      <td></td>\n",
       "      <td></td>\n",
       "      <td></td>\n",
       "      <td></td>\n",
       "      <td></td>\n",
       "      <td></td>\n",
       "    </tr>\n",
       "    <tr>\n",
       "      <th>Q1195793</th>\n",
       "      <td>literary work|Q7725634</td>\n",
       "      <td>William Somerset Maugham|Q134942</td>\n",
       "      <td>[Paris|Q90, London|Q84, Kent|Q23298]</td>\n",
       "      <td>autobiography|Q4184</td>\n",
       "      <td>/m/03hdqt</td>\n",
       "      <td></td>\n",
       "      <td></td>\n",
       "      <td>English|Q1860</td>\n",
       "      <td>topic/Of-Human-Bondage-novel-by-Maugham</td>\n",
       "      <td>Of Human Bondage</td>\n",
       "      <td>...</td>\n",
       "      <td></td>\n",
       "      <td></td>\n",
       "      <td></td>\n",
       "      <td></td>\n",
       "      <td></td>\n",
       "      <td></td>\n",
       "      <td></td>\n",
       "      <td></td>\n",
       "      <td></td>\n",
       "      <td></td>\n",
       "    </tr>\n",
       "    <tr>\n",
       "      <th>Q4086674</th>\n",
       "      <td>written work|Q47461344</td>\n",
       "      <td>William S. Burroughs|Q188176</td>\n",
       "      <td></td>\n",
       "      <td>novel|Q8261</td>\n",
       "      <td>/m/07kj2n</td>\n",
       "      <td></td>\n",
       "      <td></td>\n",
       "      <td>English|Q1860</td>\n",
       "      <td></td>\n",
       "      <td>The Ticket That Exploded</td>\n",
       "      <td>...</td>\n",
       "      <td></td>\n",
       "      <td></td>\n",
       "      <td></td>\n",
       "      <td></td>\n",
       "      <td></td>\n",
       "      <td></td>\n",
       "      <td></td>\n",
       "      <td></td>\n",
       "      <td></td>\n",
       "      <td></td>\n",
       "    </tr>\n",
       "    <tr>\n",
       "      <th>Q4763360</th>\n",
       "      <td>written work|Q47461344</td>\n",
       "      <td>Wallace Stegner|Q203460</td>\n",
       "      <td>California|Q99</td>\n",
       "      <td>Western novel|Q12197074</td>\n",
       "      <td>/m/03l3rs</td>\n",
       "      <td></td>\n",
       "      <td>Pulitzer Prize for Fiction|Q833633</td>\n",
       "      <td>English|Q1860</td>\n",
       "      <td>topic/Angle-of-Repose-novel-by-Stegner</td>\n",
       "      <td>Angle of Repose</td>\n",
       "      <td>...</td>\n",
       "      <td></td>\n",
       "      <td></td>\n",
       "      <td></td>\n",
       "      <td></td>\n",
       "      <td></td>\n",
       "      <td></td>\n",
       "      <td></td>\n",
       "      <td></td>\n",
       "      <td></td>\n",
       "      <td></td>\n",
       "    </tr>\n",
       "    <tr>\n",
       "      <th>Q265954</th>\n",
       "      <td>literary work|Q7725634</td>\n",
       "      <td>Kurt Vonnegut|Q49074</td>\n",
       "      <td>Dresden|Q1731</td>\n",
       "      <td>[time-travel fiction|Q104767031, satirical nov...</td>\n",
       "      <td>/m/019dg_</td>\n",
       "      <td>Slaughterhouse-Five (first edition) - Kurt Von...</td>\n",
       "      <td>NPR Top 100 Science Fiction and Fantasy Books|...</td>\n",
       "      <td>English|Q1860</td>\n",
       "      <td>topic/Slaughterhouse-Five</td>\n",
       "      <td>Slaughterhouse-Five</td>\n",
       "      <td>...</td>\n",
       "      <td></td>\n",
       "      <td></td>\n",
       "      <td></td>\n",
       "      <td></td>\n",
       "      <td></td>\n",
       "      <td></td>\n",
       "      <td></td>\n",
       "      <td></td>\n",
       "      <td></td>\n",
       "      <td></td>\n",
       "    </tr>\n",
       "    <tr>\n",
       "      <th>...</th>\n",
       "      <td>...</td>\n",
       "      <td>...</td>\n",
       "      <td>...</td>\n",
       "      <td>...</td>\n",
       "      <td>...</td>\n",
       "      <td>...</td>\n",
       "      <td>...</td>\n",
       "      <td>...</td>\n",
       "      <td>...</td>\n",
       "      <td>...</td>\n",
       "      <td>...</td>\n",
       "      <td>...</td>\n",
       "      <td>...</td>\n",
       "      <td>...</td>\n",
       "      <td>...</td>\n",
       "      <td>...</td>\n",
       "      <td>...</td>\n",
       "      <td>...</td>\n",
       "      <td>...</td>\n",
       "      <td>...</td>\n",
       "      <td>...</td>\n",
       "    </tr>\n",
       "    <tr>\n",
       "      <th>Q7752560</th>\n",
       "      <td>literary work|Q7725634</td>\n",
       "      <td>Walker Percy|Q176909</td>\n",
       "      <td></td>\n",
       "      <td></td>\n",
       "      <td>/m/03hdp2</td>\n",
       "      <td></td>\n",
       "      <td></td>\n",
       "      <td>English|Q1860</td>\n",
       "      <td>topic/The-Moviegoer</td>\n",
       "      <td>The Moviegoer</td>\n",
       "      <td>...</td>\n",
       "      <td></td>\n",
       "      <td></td>\n",
       "      <td></td>\n",
       "      <td></td>\n",
       "      <td></td>\n",
       "      <td></td>\n",
       "      <td></td>\n",
       "      <td></td>\n",
       "      <td></td>\n",
       "      <td></td>\n",
       "    </tr>\n",
       "    <tr>\n",
       "      <th>Q5877236</th>\n",
       "      <td>written work|Q47461344</td>\n",
       "      <td>Samuel R. Delany|Q438164</td>\n",
       "      <td></td>\n",
       "      <td></td>\n",
       "      <td></td>\n",
       "      <td></td>\n",
       "      <td></td>\n",
       "      <td>English|Q1860</td>\n",
       "      <td></td>\n",
       "      <td>Hogg</td>\n",
       "      <td>...</td>\n",
       "      <td></td>\n",
       "      <td></td>\n",
       "      <td></td>\n",
       "      <td></td>\n",
       "      <td></td>\n",
       "      <td></td>\n",
       "      <td></td>\n",
       "      <td></td>\n",
       "      <td></td>\n",
       "      <td></td>\n",
       "    </tr>\n",
       "    <tr>\n",
       "      <th>Q2384854</th>\n",
       "      <td>written work|Q47461344</td>\n",
       "      <td>William Gibson|Q188987</td>\n",
       "      <td></td>\n",
       "      <td>[cyberpunk novel|Q26228231, science fiction no...</td>\n",
       "      <td>/m/01z439</td>\n",
       "      <td></td>\n",
       "      <td></td>\n",
       "      <td>American English|Q7976</td>\n",
       "      <td>topic/Count-Zero</td>\n",
       "      <td></td>\n",
       "      <td>...</td>\n",
       "      <td></td>\n",
       "      <td></td>\n",
       "      <td></td>\n",
       "      <td></td>\n",
       "      <td></td>\n",
       "      <td></td>\n",
       "      <td></td>\n",
       "      <td></td>\n",
       "      <td></td>\n",
       "      <td></td>\n",
       "    </tr>\n",
       "    <tr>\n",
       "      <th>Q929821</th>\n",
       "      <td>written work|Q47461344</td>\n",
       "      <td>Robert A. Heinlein|Q123078</td>\n",
       "      <td></td>\n",
       "      <td>science fiction novel|Q12132683</td>\n",
       "      <td>/m/0f17y</td>\n",
       "      <td></td>\n",
       "      <td>[Hugo Award for Best Novel|Q255032, NPR Top 10...</td>\n",
       "      <td>English|Q1860</td>\n",
       "      <td>topic/Stranger-in-a-Strange-Land</td>\n",
       "      <td>Stranger in a Strange Land</td>\n",
       "      <td>...</td>\n",
       "      <td></td>\n",
       "      <td></td>\n",
       "      <td></td>\n",
       "      <td></td>\n",
       "      <td></td>\n",
       "      <td></td>\n",
       "      <td></td>\n",
       "      <td></td>\n",
       "      <td></td>\n",
       "      <td></td>\n",
       "    </tr>\n",
       "    <tr>\n",
       "      <th>Q7775717</th>\n",
       "      <td>literary work|Q7725634</td>\n",
       "      <td>Terri Windling|Q3518754</td>\n",
       "      <td></td>\n",
       "      <td></td>\n",
       "      <td>/m/0cwcd1</td>\n",
       "      <td></td>\n",
       "      <td></td>\n",
       "      <td>English|Q1860</td>\n",
       "      <td></td>\n",
       "      <td>The Wood Wife</td>\n",
       "      <td>...</td>\n",
       "      <td></td>\n",
       "      <td></td>\n",
       "      <td></td>\n",
       "      <td></td>\n",
       "      <td></td>\n",
       "      <td></td>\n",
       "      <td></td>\n",
       "      <td></td>\n",
       "      <td></td>\n",
       "      <td></td>\n",
       "    </tr>\n",
       "  </tbody>\n",
       "</table>\n",
       "<p>293 rows × 207 columns</p>\n",
       "</div>"
      ],
      "text/plain": [
       "                 instance_of|P31                        author|P50  \\\n",
       "id                                                                   \n",
       "Q1045464  literary work|Q7725634             Edith Wharton|Q276032   \n",
       "Q1195793  literary work|Q7725634  William Somerset Maugham|Q134942   \n",
       "Q4086674  written work|Q47461344      William S. Burroughs|Q188176   \n",
       "Q4763360  written work|Q47461344           Wallace Stegner|Q203460   \n",
       "Q265954   literary work|Q7725634              Kurt Vonnegut|Q49074   \n",
       "...                          ...                               ...   \n",
       "Q7752560  literary work|Q7725634              Walker Percy|Q176909   \n",
       "Q5877236  written work|Q47461344          Samuel R. Delany|Q438164   \n",
       "Q2384854  written work|Q47461344            William Gibson|Q188987   \n",
       "Q929821   written work|Q47461344        Robert A. Heinlein|Q123078   \n",
       "Q7775717  literary work|Q7725634           Terri Windling|Q3518754   \n",
       "\n",
       "                                   narrative_location|P840  \\\n",
       "id                                                           \n",
       "Q1045464  [New York City|Q60, Newport|Q54264, Boston|Q100]   \n",
       "Q1195793              [Paris|Q90, London|Q84, Kent|Q23298]   \n",
       "Q4086674                                                     \n",
       "Q4763360                                    California|Q99   \n",
       "Q265954                                      Dresden|Q1731   \n",
       "...                                                    ...   \n",
       "Q7752560                                                     \n",
       "Q5877236                                                     \n",
       "Q2384854                                                     \n",
       "Q929821                                                      \n",
       "Q7775717                                                     \n",
       "\n",
       "                                                 genre|P136 freebase_id|P646  \\\n",
       "id                                                                             \n",
       "Q1045464                              romance novel|Q858330        /m/02lz73   \n",
       "Q1195793                                autobiography|Q4184        /m/03hdqt   \n",
       "Q4086674                                        novel|Q8261        /m/07kj2n   \n",
       "Q4763360                            Western novel|Q12197074        /m/03l3rs   \n",
       "Q265954   [time-travel fiction|Q104767031, satirical nov...        /m/019dg_   \n",
       "...                                                     ...              ...   \n",
       "Q7752560                                                           /m/03hdp2   \n",
       "Q5877236                                                                       \n",
       "Q2384854  [cyberpunk novel|Q26228231, science fiction no...        /m/01z439   \n",
       "Q929821                     science fiction novel|Q12132683         /m/0f17y   \n",
       "Q7775717                                                           /m/0cwcd1   \n",
       "\n",
       "                                                  image|P18  \\\n",
       "id                                                            \n",
       "Q1045464                    Age.Of.Innocence.1920.Cover.jpg   \n",
       "Q1195793                                                      \n",
       "Q4086674                                                      \n",
       "Q4763360                                                      \n",
       "Q265954   Slaughterhouse-Five (first edition) - Kurt Von...   \n",
       "...                                                     ...   \n",
       "Q7752560                                                      \n",
       "Q5877236                                                      \n",
       "Q2384854                                                      \n",
       "Q929821                                                       \n",
       "Q7775717                                                      \n",
       "\n",
       "                                        award_received|P166  \\\n",
       "id                                                            \n",
       "Q1045464                 Pulitzer Prize for Fiction|Q833633   \n",
       "Q1195793                                                      \n",
       "Q4086674                                                      \n",
       "Q4763360                 Pulitzer Prize for Fiction|Q833633   \n",
       "Q265954   NPR Top 100 Science Fiction and Fantasy Books|...   \n",
       "...                                                     ...   \n",
       "Q7752560                                                      \n",
       "Q5877236                                                      \n",
       "Q2384854                                                      \n",
       "Q929821   [Hugo Award for Best Novel|Q255032, NPR Top 10...   \n",
       "Q7775717                                                      \n",
       "\n",
       "         language_of_work_or_name|P407  \\\n",
       "id                                       \n",
       "Q1045464                 English|Q1860   \n",
       "Q1195793                 English|Q1860   \n",
       "Q4086674                 English|Q1860   \n",
       "Q4763360                 English|Q1860   \n",
       "Q265954                  English|Q1860   \n",
       "...                                ...   \n",
       "Q7752560                 English|Q1860   \n",
       "Q5877236                 English|Q1860   \n",
       "Q2384854        American English|Q7976   \n",
       "Q929821                  English|Q1860   \n",
       "Q7775717                 English|Q1860   \n",
       "\n",
       "         encyclopaedia_britannica_online_id|P1417                 title|P1476  \\\n",
       "id                                                                              \n",
       "Q1045464               topic/The-Age-of-Innocence        The Age of Innocence   \n",
       "Q1195793  topic/Of-Human-Bondage-novel-by-Maugham            Of Human Bondage   \n",
       "Q4086674                                             The Ticket That Exploded   \n",
       "Q4763360   topic/Angle-of-Repose-novel-by-Stegner             Angle of Repose   \n",
       "Q265954                 topic/Slaughterhouse-Five         Slaughterhouse-Five   \n",
       "...                                           ...                         ...   \n",
       "Q7752560                      topic/The-Moviegoer               The Moviegoer   \n",
       "Q5877236                                                                 Hogg   \n",
       "Q2384854                         topic/Count-Zero                               \n",
       "Q929821          topic/Stranger-in-a-Strange-Land  Stranger in a Strange Land   \n",
       "Q7775717                                                        The Wood Wife   \n",
       "\n",
       "          ... uses|P2283  \\\n",
       "id        ...              \n",
       "Q1045464  ...              \n",
       "Q1195793  ...              \n",
       "Q4086674  ...              \n",
       "Q4763360  ...              \n",
       "Q265954   ...              \n",
       "...       ...        ...   \n",
       "Q7752560  ...              \n",
       "Q5877236  ...              \n",
       "Q2384854  ...              \n",
       "Q929821   ...              \n",
       "Q7775717  ...              \n",
       "\n",
       "         library_of_congress_classification_(works_and_editions)_(p8360)  \\\n",
       "id                                                                         \n",
       "Q1045464                                                                   \n",
       "Q1195793                                                                   \n",
       "Q4086674                                                                   \n",
       "Q4763360                                                                   \n",
       "Q265954                                                                    \n",
       "...                                                     ...                \n",
       "Q7752560                                                                   \n",
       "Q5877236                                                                   \n",
       "Q2384854                                                                   \n",
       "Q929821                                                                    \n",
       "Q7775717                                                                   \n",
       "\n",
       "         mubi_film_id|P7299 creator|P170 chinese_moegirlpedia_id|P5737  \\\n",
       "id                                                                       \n",
       "Q1045464                                                                 \n",
       "Q1195793                                                                 \n",
       "Q4086674                                                                 \n",
       "Q4763360                                                                 \n",
       "Q265954                                                                  \n",
       "...                     ...          ...                           ...   \n",
       "Q7752560                                                                 \n",
       "Q5877236                                                                 \n",
       "Q2384854                                                                 \n",
       "Q929821                                                                  \n",
       "Q7775717                                                                 \n",
       "\n",
       "         cast_member|P161 giphy_username|P4013  \\\n",
       "id                                               \n",
       "Q1045464                                         \n",
       "Q1195793                                         \n",
       "Q4086674                                         \n",
       "Q4763360                                         \n",
       "Q265954                                          \n",
       "...                   ...                  ...   \n",
       "Q7752560                                         \n",
       "Q5877236                                         \n",
       "Q2384854                                         \n",
       "Q929821                                          \n",
       "Q7775717                                         \n",
       "\n",
       "         number_of_parts_of_this_work|P2635  \\\n",
       "id                                            \n",
       "Q1045464                                      \n",
       "Q1195793                                      \n",
       "Q4086674                                      \n",
       "Q4763360                                      \n",
       "Q265954                                       \n",
       "...                                     ...   \n",
       "Q7752560                                      \n",
       "Q5877236                                      \n",
       "Q2384854                                      \n",
       "Q929821                                       \n",
       "Q7775717                                      \n",
       "\n",
       "         gran_enciclopedia_catalana_id|P1296 bookogs_work_id|P8211  \n",
       "id                                                                  \n",
       "Q1045464                                                            \n",
       "Q1195793                                                            \n",
       "Q4086674                                                            \n",
       "Q4763360                                                            \n",
       "Q265954                                                             \n",
       "...                                      ...                   ...  \n",
       "Q7752560                                                            \n",
       "Q5877236                                                            \n",
       "Q2384854                                                            \n",
       "Q929821                                                             \n",
       "Q7775717                                                            \n",
       "\n",
       "[293 rows x 207 columns]"
      ]
     },
     "execution_count": 6,
     "metadata": {},
     "output_type": "execute_result"
    }
   ],
   "source": [
    "C.wikidata.meta"
   ]
  },
  {
   "cell_type": "code",
   "execution_count": 8,
   "metadata": {},
   "outputs": [
    {
     "data": {
      "text/html": [
       "<div>\n",
       "<style scoped>\n",
       "    .dataframe tbody tr th:only-of-type {\n",
       "        vertical-align: middle;\n",
       "    }\n",
       "\n",
       "    .dataframe tbody tr th {\n",
       "        vertical-align: top;\n",
       "    }\n",
       "\n",
       "    .dataframe thead th {\n",
       "        text-align: right;\n",
       "    }\n",
       "</style>\n",
       "<table border=\"1\" class=\"dataframe\">\n",
       "  <thead>\n",
       "    <tr style=\"text-align: right;\">\n",
       "      <th></th>\n",
       "      <th>_addr</th>\n",
       "      <th>_id_wikidata</th>\n",
       "      <th>author</th>\n",
       "      <th>date</th>\n",
       "      <th>gender</th>\n",
       "      <th>id_orig</th>\n",
       "      <th>language</th>\n",
       "      <th>length</th>\n",
       "      <th>person</th>\n",
       "      <th>title</th>\n",
       "      <th>...</th>\n",
       "      <th>encyclopaedia_universalis_id</th>\n",
       "      <th>form_of_creative_work</th>\n",
       "      <th>has_edition_or_translation</th>\n",
       "      <th>instance_of</th>\n",
       "      <th>language_of_work_or_name</th>\n",
       "      <th>narrative_location</th>\n",
       "      <th>open_library_id</th>\n",
       "      <th>qid</th>\n",
       "      <th>wd_author</th>\n",
       "      <th>wd_title</th>\n",
       "    </tr>\n",
       "    <tr>\n",
       "      <th>id</th>\n",
       "      <th></th>\n",
       "      <th></th>\n",
       "      <th></th>\n",
       "      <th></th>\n",
       "      <th></th>\n",
       "      <th></th>\n",
       "      <th></th>\n",
       "      <th></th>\n",
       "      <th></th>\n",
       "      <th></th>\n",
       "      <th></th>\n",
       "      <th></th>\n",
       "      <th></th>\n",
       "      <th></th>\n",
       "      <th></th>\n",
       "      <th></th>\n",
       "      <th></th>\n",
       "      <th></th>\n",
       "      <th></th>\n",
       "      <th></th>\n",
       "      <th></th>\n",
       "    </tr>\n",
       "  </thead>\n",
       "  <tbody>\n",
       "    <tr>\n",
       "      <th>DE_1771_La Roche,Sophievon_GeschichtedesFräuleinsvonSternheim_Novel</th>\n",
       "      <td>_txtlab/DE_1771_La_RocheSophievon_Geschichtede...</td>\n",
       "      <td>Q0</td>\n",
       "      <td>La Roche,Sophievon</td>\n",
       "      <td>1771</td>\n",
       "      <td>female</td>\n",
       "      <td>1</td>\n",
       "      <td>German</td>\n",
       "      <td>99070</td>\n",
       "      <td>first</td>\n",
       "      <td>Geschichtedes Fräuleinsvon Sternheim</td>\n",
       "      <td>...</td>\n",
       "      <td></td>\n",
       "      <td></td>\n",
       "      <td></td>\n",
       "      <td></td>\n",
       "      <td></td>\n",
       "      <td></td>\n",
       "      <td></td>\n",
       "      <td></td>\n",
       "      <td></td>\n",
       "      <td></td>\n",
       "    </tr>\n",
       "    <tr>\n",
       "      <th>DE_1774_Goethe,Johann_DieLeidendesjungenWerthers1_Novel</th>\n",
       "      <td>_txtlab/DE_1774_GoetheJohann_DieLeidendesjunge...</td>\n",
       "      <td>Q0</td>\n",
       "      <td>Goethe,Johann</td>\n",
       "      <td>1774</td>\n",
       "      <td>male</td>\n",
       "      <td>2</td>\n",
       "      <td>German</td>\n",
       "      <td>34976</td>\n",
       "      <td>first</td>\n",
       "      <td>Die Leidendesjungen Werthers1</td>\n",
       "      <td>...</td>\n",
       "      <td></td>\n",
       "      <td></td>\n",
       "      <td></td>\n",
       "      <td></td>\n",
       "      <td></td>\n",
       "      <td></td>\n",
       "      <td></td>\n",
       "      <td></td>\n",
       "      <td></td>\n",
       "      <td></td>\n",
       "    </tr>\n",
       "    <tr>\n",
       "      <th>DE_1774_Wieland,ChristophMartin_GeschichtederAbderiten_Novel</th>\n",
       "      <td>_txtlab/DE_1774_WielandChristophMartin_Geschic...</td>\n",
       "      <td>Q0</td>\n",
       "      <td>Wieland,ChristophMartin</td>\n",
       "      <td>1774</td>\n",
       "      <td>male</td>\n",
       "      <td>3</td>\n",
       "      <td>German</td>\n",
       "      <td>107398</td>\n",
       "      <td>first</td>\n",
       "      <td>Geschichteder Abderiten</td>\n",
       "      <td>...</td>\n",
       "      <td></td>\n",
       "      <td></td>\n",
       "      <td></td>\n",
       "      <td></td>\n",
       "      <td></td>\n",
       "      <td></td>\n",
       "      <td></td>\n",
       "      <td></td>\n",
       "      <td></td>\n",
       "      <td></td>\n",
       "    </tr>\n",
       "    <tr>\n",
       "      <th>DE_1776_Nicolai,Friedrich_SebaldusNothanker_Novel</th>\n",
       "      <td>_txtlab/DE_1776_NicolaiFriedrich_SebaldusNotha...</td>\n",
       "      <td>Q0</td>\n",
       "      <td>Nicolai,Friedrich</td>\n",
       "      <td>1776</td>\n",
       "      <td>male</td>\n",
       "      <td>4</td>\n",
       "      <td>German</td>\n",
       "      <td>122673</td>\n",
       "      <td>third</td>\n",
       "      <td>Sebaldus Nothanker</td>\n",
       "      <td>...</td>\n",
       "      <td></td>\n",
       "      <td></td>\n",
       "      <td></td>\n",
       "      <td></td>\n",
       "      <td></td>\n",
       "      <td></td>\n",
       "      <td></td>\n",
       "      <td></td>\n",
       "      <td></td>\n",
       "      <td></td>\n",
       "    </tr>\n",
       "    <tr>\n",
       "      <th>DE_1779_Campe,Joachim_Robinson_Novel</th>\n",
       "      <td>_txtlab/DE_1779_CampeJoachim_Robinson_Novel</td>\n",
       "      <td>Q42195141</td>\n",
       "      <td>Campe,Joachim</td>\n",
       "      <td>1779</td>\n",
       "      <td>male</td>\n",
       "      <td>5</td>\n",
       "      <td>German</td>\n",
       "      <td>99439</td>\n",
       "      <td>third</td>\n",
       "      <td>Robinson</td>\n",
       "      <td>...</td>\n",
       "      <td></td>\n",
       "      <td></td>\n",
       "      <td></td>\n",
       "      <td></td>\n",
       "      <td></td>\n",
       "      <td></td>\n",
       "      <td></td>\n",
       "      <td></td>\n",
       "      <td></td>\n",
       "      <td></td>\n",
       "    </tr>\n",
       "    <tr>\n",
       "      <th>...</th>\n",
       "      <td>...</td>\n",
       "      <td>...</td>\n",
       "      <td>...</td>\n",
       "      <td>...</td>\n",
       "      <td>...</td>\n",
       "      <td>...</td>\n",
       "      <td>...</td>\n",
       "      <td>...</td>\n",
       "      <td>...</td>\n",
       "      <td>...</td>\n",
       "      <td>...</td>\n",
       "      <td>...</td>\n",
       "      <td>...</td>\n",
       "      <td>...</td>\n",
       "      <td>...</td>\n",
       "      <td>...</td>\n",
       "      <td>...</td>\n",
       "      <td>...</td>\n",
       "      <td>...</td>\n",
       "      <td>...</td>\n",
       "      <td>...</td>\n",
       "    </tr>\n",
       "    <tr>\n",
       "      <th>FR_1926_Giraudoux,Jean_Bella_Novel</th>\n",
       "      <td>_txtlab/FR_1926_GiraudouxJean_Bella_Novel</td>\n",
       "      <td>Q2894604</td>\n",
       "      <td>Giraudoux,Jean</td>\n",
       "      <td>1926</td>\n",
       "      <td>male</td>\n",
       "      <td>446</td>\n",
       "      <td>French</td>\n",
       "      <td>47928</td>\n",
       "      <td>first</td>\n",
       "      <td>Bella</td>\n",
       "      <td>...</td>\n",
       "      <td></td>\n",
       "      <td></td>\n",
       "      <td></td>\n",
       "      <td></td>\n",
       "      <td></td>\n",
       "      <td></td>\n",
       "      <td></td>\n",
       "      <td></td>\n",
       "      <td></td>\n",
       "      <td></td>\n",
       "    </tr>\n",
       "    <tr>\n",
       "      <th>FR_1926_Ramuz,CharlesFerdinand_GrandePeurDanslaMontagne_Novel</th>\n",
       "      <td>_txtlab/FR_1926_RamuzCharlesFerdinand_GrandePe...</td>\n",
       "      <td>Q0</td>\n",
       "      <td>Ramuz,CharlesFerdinand</td>\n",
       "      <td>1926</td>\n",
       "      <td>male</td>\n",
       "      <td>447</td>\n",
       "      <td>French</td>\n",
       "      <td>49205</td>\n",
       "      <td>first</td>\n",
       "      <td>Grande Peur Dansla Montagne</td>\n",
       "      <td>...</td>\n",
       "      <td></td>\n",
       "      <td></td>\n",
       "      <td></td>\n",
       "      <td></td>\n",
       "      <td></td>\n",
       "      <td></td>\n",
       "      <td></td>\n",
       "      <td></td>\n",
       "      <td></td>\n",
       "      <td></td>\n",
       "    </tr>\n",
       "    <tr>\n",
       "      <th>FR_1927_Bernanos,Georges_Limposture_Novel</th>\n",
       "      <td>_txtlab/FR_1927_BernanosGeorges_Limposture_Novel</td>\n",
       "      <td>Q0</td>\n",
       "      <td>Bernanos,Georges</td>\n",
       "      <td>1927</td>\n",
       "      <td>male</td>\n",
       "      <td>448</td>\n",
       "      <td>French</td>\n",
       "      <td>79206</td>\n",
       "      <td>third</td>\n",
       "      <td>Limposture</td>\n",
       "      <td>...</td>\n",
       "      <td></td>\n",
       "      <td></td>\n",
       "      <td></td>\n",
       "      <td></td>\n",
       "      <td></td>\n",
       "      <td></td>\n",
       "      <td></td>\n",
       "      <td></td>\n",
       "      <td></td>\n",
       "      <td></td>\n",
       "    </tr>\n",
       "    <tr>\n",
       "      <th>FR_1927_Duhamel,Georges_JournaldeSalavin_Novel</th>\n",
       "      <td>_txtlab/FR_1927_DuhamelGeorges_JournaldeSalavi...</td>\n",
       "      <td>Q0</td>\n",
       "      <td>Duhamel,Georges</td>\n",
       "      <td>1927</td>\n",
       "      <td>male</td>\n",
       "      <td>449</td>\n",
       "      <td>French</td>\n",
       "      <td>41694</td>\n",
       "      <td>first</td>\n",
       "      <td>Journalde Salavin</td>\n",
       "      <td>...</td>\n",
       "      <td></td>\n",
       "      <td></td>\n",
       "      <td></td>\n",
       "      <td></td>\n",
       "      <td></td>\n",
       "      <td></td>\n",
       "      <td></td>\n",
       "      <td></td>\n",
       "      <td></td>\n",
       "      <td></td>\n",
       "    </tr>\n",
       "    <tr>\n",
       "      <th>FR_1929_Dabit,Eugene_LhotelduNord_Novel</th>\n",
       "      <td>_txtlab/FR_1929_DabitEugene_LhotelduNord_Novel</td>\n",
       "      <td>Q0</td>\n",
       "      <td>Dabit,Eugene</td>\n",
       "      <td>1929</td>\n",
       "      <td>male</td>\n",
       "      <td>450</td>\n",
       "      <td>French</td>\n",
       "      <td>35214</td>\n",
       "      <td>third</td>\n",
       "      <td>Lhoteldu Nord</td>\n",
       "      <td>...</td>\n",
       "      <td></td>\n",
       "      <td></td>\n",
       "      <td></td>\n",
       "      <td></td>\n",
       "      <td></td>\n",
       "      <td></td>\n",
       "      <td></td>\n",
       "      <td></td>\n",
       "      <td></td>\n",
       "      <td></td>\n",
       "    </tr>\n",
       "  </tbody>\n",
       "</table>\n",
       "<p>450 rows × 27 columns</p>\n",
       "</div>"
      ],
      "text/plain": [
       "                                                                                                _addr  \\\n",
       "id                                                                                                      \n",
       "DE_1771_La Roche,Sophievon_GeschichtedesFräule...  _txtlab/DE_1771_La_RocheSophievon_Geschichtede...   \n",
       "DE_1774_Goethe,Johann_DieLeidendesjungenWerther...  _txtlab/DE_1774_GoetheJohann_DieLeidendesjunge...   \n",
       "DE_1774_Wieland,ChristophMartin_GeschichtederAb...  _txtlab/DE_1774_WielandChristophMartin_Geschic...   \n",
       "DE_1776_Nicolai,Friedrich_SebaldusNothanker_Novel   _txtlab/DE_1776_NicolaiFriedrich_SebaldusNotha...   \n",
       "DE_1779_Campe,Joachim_Robinson_Novel                      _txtlab/DE_1779_CampeJoachim_Robinson_Novel   \n",
       "...                                                                                               ...   \n",
       "FR_1926_Giraudoux,Jean_Bella_Novel                          _txtlab/FR_1926_GiraudouxJean_Bella_Novel   \n",
       "FR_1926_Ramuz,CharlesFerdinand_GrandePeurDansla...  _txtlab/FR_1926_RamuzCharlesFerdinand_GrandePe...   \n",
       "FR_1927_Bernanos,Georges_Limposture_Novel            _txtlab/FR_1927_BernanosGeorges_Limposture_Novel   \n",
       "FR_1927_Duhamel,Georges_JournaldeSalavin_Novel      _txtlab/FR_1927_DuhamelGeorges_JournaldeSalavi...   \n",
       "FR_1929_Dabit,Eugene_LhotelduNord_Novel                _txtlab/FR_1929_DabitEugene_LhotelduNord_Novel   \n",
       "\n",
       "                                                   _id_wikidata  \\\n",
       "id                                                                \n",
       "DE_1771_La Roche,Sophievon_GeschichtedesFräule...           Q0   \n",
       "DE_1774_Goethe,Johann_DieLeidendesjungenWerther...           Q0   \n",
       "DE_1774_Wieland,ChristophMartin_GeschichtederAb...           Q0   \n",
       "DE_1776_Nicolai,Friedrich_SebaldusNothanker_Novel            Q0   \n",
       "DE_1779_Campe,Joachim_Robinson_Novel                  Q42195141   \n",
       "...                                                         ...   \n",
       "FR_1926_Giraudoux,Jean_Bella_Novel                     Q2894604   \n",
       "FR_1926_Ramuz,CharlesFerdinand_GrandePeurDansla...           Q0   \n",
       "FR_1927_Bernanos,Georges_Limposture_Novel                    Q0   \n",
       "FR_1927_Duhamel,Georges_JournaldeSalavin_Novel               Q0   \n",
       "FR_1929_Dabit,Eugene_LhotelduNord_Novel                      Q0   \n",
       "\n",
       "                                                                     author  \\\n",
       "id                                                                            \n",
       "DE_1771_La Roche,Sophievon_GeschichtedesFräule...       La Roche,Sophievon   \n",
       "DE_1774_Goethe,Johann_DieLeidendesjungenWerther...            Goethe,Johann   \n",
       "DE_1774_Wieland,ChristophMartin_GeschichtederAb...  Wieland,ChristophMartin   \n",
       "DE_1776_Nicolai,Friedrich_SebaldusNothanker_Novel         Nicolai,Friedrich   \n",
       "DE_1779_Campe,Joachim_Robinson_Novel                          Campe,Joachim   \n",
       "...                                                                     ...   \n",
       "FR_1926_Giraudoux,Jean_Bella_Novel                           Giraudoux,Jean   \n",
       "FR_1926_Ramuz,CharlesFerdinand_GrandePeurDansla...   Ramuz,CharlesFerdinand   \n",
       "FR_1927_Bernanos,Georges_Limposture_Novel                  Bernanos,Georges   \n",
       "FR_1927_Duhamel,Georges_JournaldeSalavin_Novel              Duhamel,Georges   \n",
       "FR_1929_Dabit,Eugene_LhotelduNord_Novel                        Dabit,Eugene   \n",
       "\n",
       "                                                    date  gender  id_orig  \\\n",
       "id                                                                          \n",
       "DE_1771_La Roche,Sophievon_GeschichtedesFräule...  1771  female        1   \n",
       "DE_1774_Goethe,Johann_DieLeidendesjungenWerther...  1774    male        2   \n",
       "DE_1774_Wieland,ChristophMartin_GeschichtederAb...  1774    male        3   \n",
       "DE_1776_Nicolai,Friedrich_SebaldusNothanker_Novel   1776    male        4   \n",
       "DE_1779_Campe,Joachim_Robinson_Novel                1779    male        5   \n",
       "...                                                  ...     ...      ...   \n",
       "FR_1926_Giraudoux,Jean_Bella_Novel                  1926    male      446   \n",
       "FR_1926_Ramuz,CharlesFerdinand_GrandePeurDansla...  1926    male      447   \n",
       "FR_1927_Bernanos,Georges_Limposture_Novel           1927    male      448   \n",
       "FR_1927_Duhamel,Georges_JournaldeSalavin_Novel      1927    male      449   \n",
       "FR_1929_Dabit,Eugene_LhotelduNord_Novel             1929    male      450   \n",
       "\n",
       "                                                   language  length person  \\\n",
       "id                                                                           \n",
       "DE_1771_La Roche,Sophievon_GeschichtedesFräule...   German   99070  first   \n",
       "DE_1774_Goethe,Johann_DieLeidendesjungenWerther...   German   34976  first   \n",
       "DE_1774_Wieland,ChristophMartin_GeschichtederAb...   German  107398  first   \n",
       "DE_1776_Nicolai,Friedrich_SebaldusNothanker_Novel    German  122673  third   \n",
       "DE_1779_Campe,Joachim_Robinson_Novel                 German   99439  third   \n",
       "...                                                     ...     ...    ...   \n",
       "FR_1926_Giraudoux,Jean_Bella_Novel                   French   47928  first   \n",
       "FR_1926_Ramuz,CharlesFerdinand_GrandePeurDansla...   French   49205  first   \n",
       "FR_1927_Bernanos,Georges_Limposture_Novel            French   79206  third   \n",
       "FR_1927_Duhamel,Georges_JournaldeSalavin_Novel       French   41694  first   \n",
       "FR_1929_Dabit,Eugene_LhotelduNord_Novel              French   35214  third   \n",
       "\n",
       "                                                                                   title  \\\n",
       "id                                                                                         \n",
       "DE_1771_La Roche,Sophievon_GeschichtedesFräule...  Geschichtedes Fräuleinsvon Sternheim   \n",
       "DE_1774_Goethe,Johann_DieLeidendesjungenWerther...         Die Leidendesjungen Werthers1   \n",
       "DE_1774_Wieland,ChristophMartin_GeschichtederAb...               Geschichteder Abderiten   \n",
       "DE_1776_Nicolai,Friedrich_SebaldusNothanker_Novel                     Sebaldus Nothanker   \n",
       "DE_1779_Campe,Joachim_Robinson_Novel                                            Robinson   \n",
       "...                                                                                  ...   \n",
       "FR_1926_Giraudoux,Jean_Bella_Novel                                                 Bella   \n",
       "FR_1926_Ramuz,CharlesFerdinand_GrandePeurDansla...           Grande Peur Dansla Montagne   \n",
       "FR_1927_Bernanos,Georges_Limposture_Novel                                     Limposture   \n",
       "FR_1927_Duhamel,Georges_JournaldeSalavin_Novel                         Journalde Salavin   \n",
       "FR_1929_Dabit,Eugene_LhotelduNord_Novel                                    Lhoteldu Nord   \n",
       "\n",
       "                                                    ...  \\\n",
       "id                                                  ...   \n",
       "DE_1771_La Roche,Sophievon_GeschichtedesFräule...  ...   \n",
       "DE_1774_Goethe,Johann_DieLeidendesjungenWerther...  ...   \n",
       "DE_1774_Wieland,ChristophMartin_GeschichtederAb...  ...   \n",
       "DE_1776_Nicolai,Friedrich_SebaldusNothanker_Novel   ...   \n",
       "DE_1779_Campe,Joachim_Robinson_Novel                ...   \n",
       "...                                                 ...   \n",
       "FR_1926_Giraudoux,Jean_Bella_Novel                  ...   \n",
       "FR_1926_Ramuz,CharlesFerdinand_GrandePeurDansla...  ...   \n",
       "FR_1927_Bernanos,Georges_Limposture_Novel           ...   \n",
       "FR_1927_Duhamel,Georges_JournaldeSalavin_Novel      ...   \n",
       "FR_1929_Dabit,Eugene_LhotelduNord_Novel             ...   \n",
       "\n",
       "                                                    encyclopaedia_universalis_id  \\\n",
       "id                                                                                 \n",
       "DE_1771_La Roche,Sophievon_GeschichtedesFräule...                                 \n",
       "DE_1774_Goethe,Johann_DieLeidendesjungenWerther...                                 \n",
       "DE_1774_Wieland,ChristophMartin_GeschichtederAb...                                 \n",
       "DE_1776_Nicolai,Friedrich_SebaldusNothanker_Novel                                  \n",
       "DE_1779_Campe,Joachim_Robinson_Novel                                               \n",
       "...                                                                          ...   \n",
       "FR_1926_Giraudoux,Jean_Bella_Novel                                                 \n",
       "FR_1926_Ramuz,CharlesFerdinand_GrandePeurDansla...                                 \n",
       "FR_1927_Bernanos,Georges_Limposture_Novel                                          \n",
       "FR_1927_Duhamel,Georges_JournaldeSalavin_Novel                                     \n",
       "FR_1929_Dabit,Eugene_LhotelduNord_Novel                                            \n",
       "\n",
       "                                                   form_of_creative_work  \\\n",
       "id                                                                         \n",
       "DE_1771_La Roche,Sophievon_GeschichtedesFräule...                         \n",
       "DE_1774_Goethe,Johann_DieLeidendesjungenWerther...                         \n",
       "DE_1774_Wieland,ChristophMartin_GeschichtederAb...                         \n",
       "DE_1776_Nicolai,Friedrich_SebaldusNothanker_Novel                          \n",
       "DE_1779_Campe,Joachim_Robinson_Novel                                       \n",
       "...                                                                  ...   \n",
       "FR_1926_Giraudoux,Jean_Bella_Novel                                         \n",
       "FR_1926_Ramuz,CharlesFerdinand_GrandePeurDansla...                         \n",
       "FR_1927_Bernanos,Georges_Limposture_Novel                                  \n",
       "FR_1927_Duhamel,Georges_JournaldeSalavin_Novel                             \n",
       "FR_1929_Dabit,Eugene_LhotelduNord_Novel                                    \n",
       "\n",
       "                                                   has_edition_or_translation  \\\n",
       "id                                                                              \n",
       "DE_1771_La Roche,Sophievon_GeschichtedesFräule...                              \n",
       "DE_1774_Goethe,Johann_DieLeidendesjungenWerther...                              \n",
       "DE_1774_Wieland,ChristophMartin_GeschichtederAb...                              \n",
       "DE_1776_Nicolai,Friedrich_SebaldusNothanker_Novel                               \n",
       "DE_1779_Campe,Joachim_Robinson_Novel                                            \n",
       "...                                                                       ...   \n",
       "FR_1926_Giraudoux,Jean_Bella_Novel                                              \n",
       "FR_1926_Ramuz,CharlesFerdinand_GrandePeurDansla...                              \n",
       "FR_1927_Bernanos,Georges_Limposture_Novel                                       \n",
       "FR_1927_Duhamel,Georges_JournaldeSalavin_Novel                                  \n",
       "FR_1929_Dabit,Eugene_LhotelduNord_Novel                                         \n",
       "\n",
       "                                                   instance_of  \\\n",
       "id                                                               \n",
       "DE_1771_La Roche,Sophievon_GeschichtedesFräule...               \n",
       "DE_1774_Goethe,Johann_DieLeidendesjungenWerther...               \n",
       "DE_1774_Wieland,ChristophMartin_GeschichtederAb...               \n",
       "DE_1776_Nicolai,Friedrich_SebaldusNothanker_Novel                \n",
       "DE_1779_Campe,Joachim_Robinson_Novel                             \n",
       "...                                                        ...   \n",
       "FR_1926_Giraudoux,Jean_Bella_Novel                               \n",
       "FR_1926_Ramuz,CharlesFerdinand_GrandePeurDansla...               \n",
       "FR_1927_Bernanos,Georges_Limposture_Novel                        \n",
       "FR_1927_Duhamel,Georges_JournaldeSalavin_Novel                   \n",
       "FR_1929_Dabit,Eugene_LhotelduNord_Novel                          \n",
       "\n",
       "                                                   language_of_work_or_name  \\\n",
       "id                                                                            \n",
       "DE_1771_La Roche,Sophievon_GeschichtedesFräule...                            \n",
       "DE_1774_Goethe,Johann_DieLeidendesjungenWerther...                            \n",
       "DE_1774_Wieland,ChristophMartin_GeschichtederAb...                            \n",
       "DE_1776_Nicolai,Friedrich_SebaldusNothanker_Novel                             \n",
       "DE_1779_Campe,Joachim_Robinson_Novel                                          \n",
       "...                                                                     ...   \n",
       "FR_1926_Giraudoux,Jean_Bella_Novel                                            \n",
       "FR_1926_Ramuz,CharlesFerdinand_GrandePeurDansla...                            \n",
       "FR_1927_Bernanos,Georges_Limposture_Novel                                     \n",
       "FR_1927_Duhamel,Georges_JournaldeSalavin_Novel                                \n",
       "FR_1929_Dabit,Eugene_LhotelduNord_Novel                                       \n",
       "\n",
       "                                                   narrative_location  \\\n",
       "id                                                                      \n",
       "DE_1771_La Roche,Sophievon_GeschichtedesFräule...                      \n",
       "DE_1774_Goethe,Johann_DieLeidendesjungenWerther...                      \n",
       "DE_1774_Wieland,ChristophMartin_GeschichtederAb...                      \n",
       "DE_1776_Nicolai,Friedrich_SebaldusNothanker_Novel                       \n",
       "DE_1779_Campe,Joachim_Robinson_Novel                                    \n",
       "...                                                               ...   \n",
       "FR_1926_Giraudoux,Jean_Bella_Novel                                      \n",
       "FR_1926_Ramuz,CharlesFerdinand_GrandePeurDansla...                      \n",
       "FR_1927_Bernanos,Georges_Limposture_Novel                               \n",
       "FR_1927_Duhamel,Georges_JournaldeSalavin_Novel                          \n",
       "FR_1929_Dabit,Eugene_LhotelduNord_Novel                                 \n",
       "\n",
       "                                                   open_library_id qid  \\\n",
       "id                                                                       \n",
       "DE_1771_La Roche,Sophievon_GeschichtedesFräule...                       \n",
       "DE_1774_Goethe,Johann_DieLeidendesjungenWerther...                       \n",
       "DE_1774_Wieland,ChristophMartin_GeschichtederAb...                       \n",
       "DE_1776_Nicolai,Friedrich_SebaldusNothanker_Novel                        \n",
       "DE_1779_Campe,Joachim_Robinson_Novel                                     \n",
       "...                                                            ...  ..   \n",
       "FR_1926_Giraudoux,Jean_Bella_Novel                                       \n",
       "FR_1926_Ramuz,CharlesFerdinand_GrandePeurDansla...                       \n",
       "FR_1927_Bernanos,Georges_Limposture_Novel                                \n",
       "FR_1927_Duhamel,Georges_JournaldeSalavin_Novel                           \n",
       "FR_1929_Dabit,Eugene_LhotelduNord_Novel                                  \n",
       "\n",
       "                                                   wd_author wd_title  \n",
       "id                                                                     \n",
       "DE_1771_La Roche,Sophievon_GeschichtedesFräule...                     \n",
       "DE_1774_Goethe,Johann_DieLeidendesjungenWerther...                     \n",
       "DE_1774_Wieland,ChristophMartin_GeschichtederAb...                     \n",
       "DE_1776_Nicolai,Friedrich_SebaldusNothanker_Novel                      \n",
       "DE_1779_Campe,Joachim_Robinson_Novel                                   \n",
       "...                                                      ...      ...  \n",
       "FR_1926_Giraudoux,Jean_Bella_Novel                                     \n",
       "FR_1926_Ramuz,CharlesFerdinand_GrandePeurDansla...                     \n",
       "FR_1927_Bernanos,Georges_Limposture_Novel                              \n",
       "FR_1927_Duhamel,Georges_JournaldeSalavin_Novel                         \n",
       "FR_1929_Dabit,Eugene_LhotelduNord_Novel                                \n",
       "\n",
       "[450 rows x 27 columns]"
      ]
     },
     "execution_count": 8,
     "metadata": {},
     "output_type": "execute_result"
    }
   ],
   "source": [
    "C.metadata(progress=True)"
   ]
  },
  {
   "cell_type": "code",
   "execution_count": null,
   "metadata": {},
   "outputs": [],
   "source": []
  }
 ],
 "metadata": {
  "interpreter": {
   "hash": "99c3488a746bccd77b7949f8f419451e1c962da56ebbaaae6e4d2e6c8c07eaa0"
  },
  "kernelspec": {
   "display_name": "Python 3.9.7 ('base')",
   "language": "python",
   "name": "python3"
  },
  "language_info": {
   "codemirror_mode": {
    "name": "ipython",
    "version": 3
   },
   "file_extension": ".py",
   "mimetype": "text/x-python",
   "name": "python",
   "nbconvert_exporter": "python",
   "pygments_lexer": "ipython3",
   "version": "3.9.7"
  },
  "orig_nbformat": 4
 },
 "nbformat": 4,
 "nbformat_minor": 2
}

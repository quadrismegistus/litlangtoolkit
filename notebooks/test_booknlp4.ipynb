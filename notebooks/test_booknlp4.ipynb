{
 "cells": [
  {
   "cell_type": "code",
   "execution_count": 1,
   "id": "9505ab29-8184-4f22-8383-9814531506f7",
   "metadata": {},
   "outputs": [],
   "source": [
    "import sys; sys.path.insert(0,'..')\n",
    "from lltk.imports import *\n",
    "from lltk.model.booknlp import *\n",
    "setup_log(to_screen=False)"
   ]
  },
  {
   "cell_type": "code",
   "execution_count": 2,
   "id": "5dc321ab-b39b-4295-957c-54f1a4acfe56",
   "metadata": {},
   "outputs": [],
   "source": [
    "novel=Text(CLAR_ID)\n",
    "letter=novel.letters.texts()[0]\n",
    "letter2=novel.letters.t"
   ]
  },
  {
   "cell_type": "code",
   "execution_count": 3,
   "id": "6efb2b14-3957-4732-8616-8fe340aedad8",
   "metadata": {},
   "outputs": [],
   "source": [
    "# novel.letters.meta"
   ]
  },
  {
   "cell_type": "code",
   "execution_count": 4,
   "id": "ae9aa92c-70f3-434d-bdb0-fb7d0ec2a826",
   "metadata": {},
   "outputs": [],
   "source": [
    "# odf=novel.booknlp.interactions()\n",
    "# odf"
   ]
  },
  {
   "cell_type": "code",
   "execution_count": 5,
   "id": "12965b8f-cc92-4d76-95c1-c08372c6fc6a",
   "metadata": {},
   "outputs": [],
   "source": [
    "Cs=novel.characters()"
   ]
  },
  {
   "cell_type": "code",
   "execution_count": 6,
   "id": "b7840c1e-e557-41e6-8e67-587068d3ebe7",
   "metadata": {},
   "outputs": [
    {
     "data": {
      "text/plain": [
       "'ClarissaHarlowe'"
      ]
     },
     "execution_count": 6,
     "metadata": {},
     "output_type": "execute_result"
    }
   ],
   "source": [
    "Cs.get_character_id('Clary')"
   ]
  },
  {
   "cell_type": "code",
   "execution_count": null,
   "id": "01ade372-c20a-474d-8088-94d00c1cbddb",
   "metadata": {},
   "outputs": [],
   "source": [
    "# epist\n",
    "def iter_interactions(self,\n",
    "            df,\n",
    "            col_sender='sender_tok',\n",
    "            col_recip='recip_tok',\n",
    "            other_cols=['mention_diff','token_i','para_i','sent_i','sent_token_i']):\n",
    "        df=self.letters.meta\n",
    "        if col_sender not in set(df.columns): return\n",
    "        if col_recip not in set(df.columns): return\n",
    "\n",
    "        def format_row_dict(row):\n",
    "            return {\n",
    "                k:fillna(pd.to_numeric(v,errors='ignore'), '')\n",
    "                for k,v in row.items()\n",
    "            }\n",
    "        \n",
    "        for i,row in df.iterrows():\n",
    "            \n",
    "            \n",
    "\n",
    "        cols=set(df.columns)\n",
    "        if not col_sender or col_sender not in cols: return\n",
    "        if not col_recip or col_recip not in cols: return        \n",
    "        \n",
    "        xdf=pd.DataFrame()\n",
    "        xdf['u'] = df[col_sender]\n",
    "        xdf['v'] = df[col_recip]\n",
    "        xdf['t'] = df[col_t] if col_t and col_t in cols else pd.Series(range(len(df)))+1\n",
    "        xdf['d'] = df.to_dict(orient='records')\n",
    "        self._events[event_type]=xdf\n",
    "    "
   ]
  },
  {
   "cell_type": "code",
   "execution_count": null,
   "id": "76fb69b3-7f04-4dcd-9c46-22b29d9323af",
   "metadata": {},
   "outputs": [],
   "source": [
    "def characters():\n",
    "    from lltk.model.characters import CharacterSystem\n",
    "    CS=CharacterSystem(t,id='letters')\n",
    "    "
   ]
  },
  {
   "cell_type": "code",
   "execution_count": null,
   "id": "ab631d99-b73c-4a3c-92eb-1dc2c4c3ed48",
   "metadata": {},
   "outputs": [],
   "source": []
  },
  {
   "cell_type": "code",
   "execution_count": null,
   "id": "c78ebecb-d5ea-43b7-8b14-7256d5bb704c",
   "metadata": {},
   "outputs": [],
   "source": [
    "init_names_sections_meta(t)"
   ]
  },
  {
   "cell_type": "code",
   "execution_count": null,
   "id": "e28c61c9-5a0b-4390-b439-7bacae397b70",
   "metadata": {},
   "outputs": [],
   "source": [
    "def "
   ]
  },
  {
   "cell_type": "code",
   "execution_count": null,
   "id": "868c245e-3a8e-4199-bc41-806ef5972022",
   "metadata": {},
   "outputs": [],
   "source": [
    "# mt.get_character_token_counts()"
   ]
  },
  {
   "cell_type": "code",
   "execution_count": null,
   "id": "e389a3ac-bb03-46de-9bbb-b2b0182d39ed",
   "metadata": {},
   "outputs": [],
   "source": [
    "dict(init_names_sections_meta(t))"
   ]
  },
  {
   "cell_type": "code",
   "execution_count": null,
   "id": "1485156f-24eb-49ab-bf0f-04e2f7369efd",
   "metadata": {},
   "outputs": [],
   "source": []
  },
  {
   "cell_type": "code",
   "execution_count": null,
   "id": "5bc96a02-2f44-42ff-b374-d6368583ca53",
   "metadata": {},
   "outputs": [],
   "source": []
  },
  {
   "cell_type": "code",
   "execution_count": null,
   "id": "c5a21b96-0598-49a7-be93-dc0ed26de24f",
   "metadata": {},
   "outputs": [],
   "source": []
  },
  {
   "cell_type": "code",
   "execution_count": null,
   "id": "2f32c040-35db-4ca8-b71a-7b516762a9a5",
   "metadata": {},
   "outputs": [],
   "source": []
  },
  {
   "cell_type": "code",
   "execution_count": null,
   "id": "65833a63-9074-4eec-9585-24f939baeca2",
   "metadata": {},
   "outputs": [],
   "source": [
    "# t.booknlp.get_character_id('Mr. Lovelace')"
   ]
  },
  {
   "cell_type": "code",
   "execution_count": null,
   "id": "0d8ce48c-ad60-4ed6-9066-f52f11d24413",
   "metadata": {},
   "outputs": [],
   "source": [
    "# odf=init_names(mt,force=True)\n",
    "# odf[odf.char_tok.str.contains('Lovelace')]"
   ]
  },
  {
   "cell_type": "code",
   "execution_count": null,
   "id": "e1b0720d-efa8-4225-bbbb-6f01fb5cf1cc",
   "metadata": {},
   "outputs": [],
   "source": [
    "names(mtx,force=True)"
   ]
  },
  {
   "cell_type": "code",
   "execution_count": null,
   "id": "314c3714-9a21-4d1f-8f8e-7b2bc17e8e34",
   "metadata": {},
   "outputs": [],
   "source": [
    "mt.path_names"
   ]
  },
  {
   "cell_type": "code",
   "execution_count": null,
   "id": "644e6a15-de3d-4f65-a8cf-b9bd90cd424f",
   "metadata": {},
   "outputs": [],
   "source": []
  },
  {
   "cell_type": "code",
   "execution_count": null,
   "id": "92c4bbe3-c2da-46a2-8a70-de79ec2d2624",
   "metadata": {},
   "outputs": [],
   "source": [
    "mtx.text_root.path"
   ]
  },
  {
   "cell_type": "code",
   "execution_count": null,
   "id": "a22e3147-57f0-4043-a229-5aa638cd169c",
   "metadata": {},
   "outputs": [],
   "source": [
    "# mt.tokens(force=False)\n",
    "# mt.chardata()"
   ]
  },
  {
   "cell_type": "code",
   "execution_count": null,
   "id": "6f3b1eeb-f480-4714-bf2b-03aedf037f60",
   "metadata": {},
   "outputs": [],
   "source": [
    "def characters(self):\n",
    "    from lltk.model.characters import CharacterSystem\n",
    "    self._character_system=CharacterSystem(self.text_root,id='booknlp')\n",
    "    return self._character_system"
   ]
  },
  {
   "cell_type": "code",
   "execution_count": null,
   "id": "b02ab4e6-794c-4b0f-8bcc-9d08ffb0af34",
   "metadata": {},
   "outputs": [],
   "source": [
    "Cs = characters(mt)\n",
    "Cs"
   ]
  },
  {
   "cell_type": "code",
   "execution_count": null,
   "id": "51dfc310-92f5-4e36-88bf-9b5c06d00d12",
   "metadata": {},
   "outputs": [],
   "source": [
    "Cs.path_names"
   ]
  },
  {
   "cell_type": "code",
   "execution_count": null,
   "id": "3d098062-ffc7-4280-8d39-7332942c5c06",
   "metadata": {},
   "outputs": [],
   "source": [
    "Cs.get_character_token_counts()"
   ]
  },
  {
   "cell_type": "code",
   "execution_count": null,
   "id": "c6fd0ebc-7cae-45f8-a8b8-47f51dbd7378",
   "metadata": {},
   "outputs": [],
   "source": [
    "Cs.get_df_names()"
   ]
  },
  {
   "cell_type": "code",
   "execution_count": null,
   "id": "62d1c5be-d0e5-48d3-a90e-66761ce7f1fe",
   "metadata": {},
   "outputs": [],
   "source": []
  },
  {
   "cell_type": "code",
   "execution_count": null,
   "id": "b5553b1a-df3c-4229-a135-453e9ce87daa",
   "metadata": {},
   "outputs": [],
   "source": []
  },
  {
   "cell_type": "code",
   "execution_count": null,
   "id": "ede6da3e-41f2-4eda-84fd-9d34fa8ef904",
   "metadata": {},
   "outputs": [],
   "source": []
  },
  {
   "cell_type": "code",
   "execution_count": null,
   "id": "b5db4ebc-c057-4697-868e-b5f9ccaf2b81",
   "metadata": {},
   "outputs": [],
   "source": [
    "CS=mtx.characters()"
   ]
  },
  {
   "cell_type": "code",
   "execution_count": null,
   "id": "1d8a01d1-712c-4426-a419-1a470a47b7d6",
   "metadata": {},
   "outputs": [],
   "source": [
    "CS.path"
   ]
  },
  {
   "cell_type": "code",
   "execution_count": null,
   "id": "572cde31-aa87-4222-b5ca-c14f9ab3e7a0",
   "metadata": {},
   "outputs": [],
   "source": []
  },
  {
   "cell_type": "markdown",
   "id": "913baf19-7e62-486d-92be-6ae9f6ae7f9c",
   "metadata": {},
   "source": [
    "## Character IDs"
   ]
  },
  {
   "cell_type": "code",
   "execution_count": null,
   "id": "f779dab9-d71a-4176-a8fa-ee7a4cab9554",
   "metadata": {},
   "outputs": [],
   "source": []
  },
  {
   "cell_type": "code",
   "execution_count": null,
   "id": "54de60ac-0613-4d7e-a4eb-39fa8c7d6cbf",
   "metadata": {
    "tags": []
   },
   "outputs": [],
   "source": [
    "get_df_names(mtx,force=True)"
   ]
  },
  {
   "cell_type": "code",
   "execution_count": null,
   "id": "b2f16b68-cd21-4e77-a81b-8384903dfdce",
   "metadata": {},
   "outputs": [],
   "source": [
    "!ls {mtx.text.character_system.path}"
   ]
  },
  {
   "cell_type": "code",
   "execution_count": null,
   "id": "362b8ce4-d6ec-46dd-a8ac-c98e174a71b7",
   "metadata": {},
   "outputs": [],
   "source": []
  },
  {
   "cell_type": "code",
   "execution_count": null,
   "id": "ee97a0c2-3c9f-4a38-9ec2-d60d49e969c4",
   "metadata": {},
   "outputs": [],
   "source": []
  },
  {
   "cell_type": "markdown",
   "id": "8dfbf4dd-f79d-4463-a62a-b979600b7908",
   "metadata": {},
   "source": [
    "## Interactions"
   ]
  },
  {
   "cell_type": "code",
   "execution_count": null,
   "id": "04b7fb50-1ea8-48b8-8011-70150dbc52b7",
   "metadata": {},
   "outputs": [],
   "source": [
    "def interactions(self):\n",
    "    pass"
   ]
  },
  {
   "cell_type": "code",
   "execution_count": null,
   "id": "f6758083-df3a-496a-92e4-faded5e0a5cb",
   "metadata": {},
   "outputs": [],
   "source": []
  }
 ],
 "metadata": {
  "interpreter": {
   "hash": "3f2baa5d52db36c39831a17f5c6bf9ec57e9f40167f00a13f8d8fb5d2f5cd24f"
  },
  "kernelspec": {
   "display_name": "booknlp",
   "language": "python",
   "name": "booknlp"
  },
  "language_info": {
   "codemirror_mode": {
    "name": "ipython",
    "version": 3
   },
   "file_extension": ".py",
   "mimetype": "text/x-python",
   "name": "python",
   "nbconvert_exporter": "python",
   "pygments_lexer": "ipython3",
   "version": "3.10.4"
  }
 },
 "nbformat": 4,
 "nbformat_minor": 5
}

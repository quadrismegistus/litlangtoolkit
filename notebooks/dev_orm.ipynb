{
 "cells": [
  {
   "cell_type": "code",
   "execution_count": 9,
   "metadata": {},
   "outputs": [],
   "source": [
    "import sys; sys.path.insert(0,'..')\n",
    "from lltk import *\n",
    "# LLTK.cdb.clear()"
   ]
  },
  {
   "cell_type": "code",
   "execution_count": 35,
   "metadata": {},
   "outputs": [
    {
     "data": {
      "text/plain": [
       "{'author': 'Kesey, Ken',\n",
       " 'corpus': 'MarkMark',\n",
       " 'dob': '1935.0',\n",
       " 'dod': '2001.0',\n",
       " 'gender': 'M',\n",
       " 'name_first': 'Ken',\n",
       " 'name_last': 'Kesey',\n",
       " 'name_middle': 'Elton',\n",
       " 'nation': 'American',\n",
       " 'num_words': '320492',\n",
       " 'ocr_accuracy': '0.7789336395290001',\n",
       " 'title': 'Sometimes a Great Notion',\n",
       " 'year': '1964'}"
      ]
     },
     "execution_count": 35,
     "metadata": {},
     "output_type": "execute_result"
    }
   ],
   "source": [
    "from cryptography.fernet import Fernet\n",
    "key = Fernet.generate_key()\n",
    "f=Fernet(key)\n",
    "obj = serialize(Corpus('markmark').t._meta)\n",
    "deserialize(f.decrypt(f.encrypt(obj)))\n"
   ]
  },
  {
   "cell_type": "code",
   "execution_count": 54,
   "metadata": {},
   "outputs": [],
   "source": [
    "@property\n",
    "def path_key(self): return os.path.join(self.path,'.key')\n",
    "def generate_key(self,force=False):\n",
    "    if force or not os.path.exists(self.path_key):\n",
    "        from cryptography.fernet import Fernet\n",
    "        key = Fernet.generate_key()\n",
    "        with open(self.path_key,'wb') as of: of.write(key)\n",
    "\n",
    "@property\n",
    "def key(self):\n",
    "    if not self._key:\n",
    "        if not os.path.exists(self.path_key): self.generate_key()\n",
    "        with open(self.path_key,'rb') as f: self._key = f.read()\n",
    "    return self._key\n",
    "\n",
    "def encrypt(self,obj):\n",
    "    from cryptography.fernet import Fernet\n",
    "    f=Fernet(self.key)\n",
    "    return f.encrypt(obj)\n",
    "\n",
    "def decrypt(self,obj):\n",
    "    from cryptography.fernet import Fernet\n",
    "    f=Fernet(self.key)\n",
    "    return f.decrypt(obj)\n",
    "\n",
    "BaseCorpus.path_key = path_key\n",
    "BaseCorpus.generate_key = generate_key\n",
    "BaseCorpus.key = key\n",
    "BaseCorpus.encrypt = encrypt\n",
    "BaseCorpus.decrypt = decrypt"
   ]
  },
  {
   "cell_type": "code",
   "execution_count": 59,
   "metadata": {},
   "outputs": [
    {
     "data": {
      "text/plain": [
       "b'AgEzCCABAAAgAQAAMAEAAIAElRUBAAAAAAAAfZQojAZhdXRob3KUjApLZXNleSwgS2VulIwGY29ycHVzlIwITWFya01hcmuUjANkb2KUjAYxOTM1LjCUjANkb2SUjAYyMDAxLjCUjAZnZW5kZXKUjAFNlIwKbmFtZV9maXJzdJSMA0tlbpSMCW5hbWVfbGFzdJSMBUtlc2V5lIwLbmFtZV9taWRkbGWUjAVFbHRvbpSMBm5hdGlvbpSMCEFtZXJpY2FulIwJbnVtX3dvcmRzlIwGMzIwNDkylIwMb2NyX2FjY3VyYWN5lIwSMC43Nzg5MzM2Mzk1MjkwMDAxlIwFdGl0bGWUjBhTb21ldGltZXMgYSBHcmVhdCBOb3Rpb26UjAR5ZWFylIwEMTk2NJR1Lg=='"
      ]
     },
     "execution_count": 59,
     "metadata": {},
     "output_type": "execute_result"
    }
   ],
   "source": []
  },
  {
   "cell_type": "code",
   "execution_count": 43,
   "metadata": {},
   "outputs": [],
   "source": [
    "C=Corpus('markmark')"
   ]
  },
  {
   "cell_type": "code",
   "execution_count": 47,
   "metadata": {},
   "outputs": [
    {
     "data": {
      "text/plain": [
       "b'73x9dEAVebfAcT-56qyGYHWEZQlI1AhzHuwUuap1VBY='"
      ]
     },
     "execution_count": 47,
     "metadata": {},
     "output_type": "execute_result"
    }
   ],
   "source": [
    "C.key"
   ]
  },
  {
   "cell_type": "code",
   "execution_count": 39,
   "metadata": {},
   "outputs": [],
   "source": [
    "C.generate_key()"
   ]
  },
  {
   "cell_type": "code",
   "execution_count": 41,
   "metadata": {},
   "outputs": [],
   "source": [
    "# !cat {C.path}/.key"
   ]
  },
  {
   "cell_type": "code",
   "execution_count": 34,
   "metadata": {},
   "outputs": [
    {
     "name": "stdout",
     "output_type": "stream",
     "text": [
      "BPOCorpus(bpo)\n",
      "BigHistCorpus(tmp)\n",
      "CLMETCorpus(clmet)\n",
      "COCACorpus(coca)\n",
      "COHACorpus(coha)\n",
      "CanonFictionCorpus(canon_fiction)\n",
      "ChadwyckCorpus(chadwyck)\n",
      "ChadwyckDramaCorpus(chadwyck_drama)\n",
      "ChadwyckPoetryCorpus(chadwyck_poetry)\n",
      "ChicagoCorpus(chicago)\n",
      "DTACorpus(dta)\n",
      "DialNarrCorpus(dialnarr)\n",
      "ECCOCorpus(ecco)\n",
      "ECCO_TCPCorpus(ecco_tcp)\n",
      "EEBO_TCPCorpus(eebo_tcp)\n",
      "ESTCCorpus(estc)\n",
      "EnglishDialoguesCorpus(dialogues)\n",
      "EpistolaryCorpus(epistolary)\n",
      "EvansTCPCorpus(evans_tcp)\n",
      "FanFicCorpus(fanfic)\n",
      "GaleAmericanFictionCorpus(gale_amfic)\n",
      "GildedAgeCorpus(gildedage)\n",
      "HathiCorpus(hathi)\n",
      "HathiAlmanacsCorpus(hathi_almanacs)\n",
      "HathiBioCorpus(hathi_bio)\n",
      "HathiEngLitCorpus(hathi_englit)\n",
      "HathiEssaysCorpus(hathi_essays)\n",
      "HathiLettersCorpus(hathi_letters)\n",
      "HathiNovelsCorpus(hathi_novels)\n",
      "HathiProclamationsCorpus(hathi_proclamations)\n",
      "HathiRomancesCorpus(hathi_romances)\n",
      "HathiSermonsCorpus(hathi_sermons)\n",
      "HathiStoriesCorpus(hathi_stories)\n",
      "HathiTalesCorpus(hathi_tales)\n",
      "HathiTreatisesCorpus(hathi_treatises)\n",
      "InternetArchiveCorpus(internet_archive)\n",
      "LitLabCorpus(litlab)\n",
      "LongArcPrestigeCorpus(long_arc_prestige)\n",
      "MarkMarkCorpus(markmark)\n",
      "NewYorkerCorpus(new_yorker)\n",
      "OldBaileyCorpus(oldbailey)\n",
      "PMLACorpus(pmla)\n",
      "RavenGarsideCorpus(ravengarside)\n",
      "SOTUCorpus(sotu)\n",
      "SellersCorpus(sellers)\n",
      "SemanticCohortCorpus(semantic_cohort)\n",
      "SpectatorCorpus(spectator)\n",
      "TedJDHCorpus(tedjdh)\n",
      "TxtLabCorpus(txtlab)\n"
     ]
    }
   ],
   "source": [
    "for c,C in corpora():\n",
    "    "
   ]
  },
  {
   "cell_type": "code",
   "execution_count": 24,
   "metadata": {},
   "outputs": [],
   "source": []
  },
  {
   "cell_type": "code",
   "execution_count": 25,
   "metadata": {},
   "outputs": [
    {
     "data": {
      "text/plain": [
       "b'MAi_J7uY6O5J4qogJJknLc8NUr0fZRzYaKN8bVd-AtQ='"
      ]
     },
     "execution_count": 25,
     "metadata": {},
     "output_type": "execute_result"
    }
   ],
   "source": [
    "key"
   ]
  },
  {
   "cell_type": "code",
   "execution_count": 15,
   "metadata": {},
   "outputs": [],
   "source": []
  },
  {
   "cell_type": "code",
   "execution_count": 17,
   "metadata": {},
   "outputs": [],
   "source": []
  },
  {
   "cell_type": "code",
   "execution_count": 19,
   "metadata": {},
   "outputs": [
    {
     "data": {
      "text/plain": [
       "b'gAAAAABieRTcn11TJxo-TxaXL9PAd8EqsQ4Jq-DeDwiRl_rCmlklLZ29qrFvDSrWNKZgJhIXmt7gmmgv7B-LqMLglnkE9sP5873sPRGvLdg3KiJP0zVcXfU5ZQvOXXhzjyqvcVB_kKO18XNTY_17AHdekdFsfcGGG1ZrWunXIEAzcNN_3WNiz80uiCFHpDp9s8rMzVEfnauA3PzJlXr4Q_Ws_N2b8ynovT5gDSC04C0oqTDBIzkKT69pvAznSD9iy05f0aAenYSGeTXJCBEW9-znxWojE6rP3mr7IElC_1UuJEaly_F_BBLLpIwspfrCF5cMi6kgDQ7_bGJzZuhh7rh_K9gx8eyHTv71EkzOgQNAqxaPvxOMP9-DoRS1RCexTRY4vJDjRtpVi5G1kqlpE3kigces6eMQN8qhRqNLAyYQL4VxAgcq0mOe_s7HG3Y1qEKkbfQBSi8IrqunHZmJcQ6W_YO9miO-tCf8UTr5IN7SMWjK6sPkSw7n70jNHETHSG2ket2YMLNNa_PhJhKgTleNAKpU_bzbgLe-5PvkeH4CKRSRsIKfrbz0Aujov2IUcbKv3xoVpEhv'"
      ]
     },
     "execution_count": 19,
     "metadata": {},
     "output_type": "execute_result"
    }
   ],
   "source": []
  },
  {
   "cell_type": "code",
   "execution_count": 3,
   "metadata": {},
   "outputs": [],
   "source": [
    "cdb = CDB()"
   ]
  },
  {
   "cell_type": "code",
   "execution_count": 5,
   "metadata": {},
   "outputs": [],
   "source": [
    "C=Corpus('markmark')"
   ]
  },
  {
   "cell_type": "code",
   "execution_count": 6,
   "metadata": {},
   "outputs": [
    {
     "data": {
      "application/vnd.jupyter.widget-view+json": {
       "model_id": "d03a85b0c7804b208150414dfcac91ed",
       "version_major": 2,
       "version_minor": 0
      },
      "text/plain": [
       "[MarkMark] Syncing texts to db:   0%|          | 0/355 [00:00<?, ?it/s]"
      ]
     },
     "metadata": {},
     "output_type": "display_data"
    },
    {
     "data": {
      "application/vnd.jupyter.widget-view+json": {
       "model_id": "b6ab2e0e7a2d442688c7cbb3a7d7bc73",
       "version_major": 2,
       "version_minor": 0
      },
      "text/plain": [
       "[LLTK] syncing database:   0%|          | 0/355 [00:00<?, ?it/s]"
      ]
     },
     "metadata": {},
     "output_type": "display_data"
    }
   ],
   "source": [
    "C.sync()"
   ]
  },
  {
   "cell_type": "code",
   "execution_count": 3,
   "metadata": {},
   "outputs": [
    {
     "name": "stderr",
     "output_type": "stream",
     "text": [
      "[12:26:25] lltk.text.textlist.\u001b[34m\u001b[1mfind_matches\u001b[0m( \u001b[36mfinding by title...\u001b[0m )\n"
     ]
    },
    {
     "data": {
      "application/vnd.jupyter.widget-view+json": {
       "model_id": "7c9ddb2cc46549999b3001f07614a57b",
       "version_major": 2,
       "version_minor": 0
      },
      "text/plain": [
       "[LLTK] iterating all texts: 0it [00:00, ?it/s]"
      ]
     },
     "metadata": {},
     "output_type": "display_data"
    },
    {
     "name": "stderr",
     "output_type": "stream",
     "text": [
      "[12:26:25] lltk.text.textlist.\u001b[34m\u001b[1mfind_matches\u001b[0m( \u001b[36mfound 0 matches by title\u001b[0m )\n",
      "[12:26:25] lltk.text.textlist.\u001b[34m\u001b[1mfind_matches\u001b[0m( \u001b[36mfinding by hash...\u001b[0m )\n"
     ]
    },
    {
     "data": {
      "application/vnd.jupyter.widget-view+json": {
       "model_id": "b70cac8200fc4d9389b51d667f669927",
       "version_major": 2,
       "version_minor": 0
      },
      "text/plain": [
       "[LLTK] iterating all texts: 0it [00:00, ?it/s]"
      ]
     },
     "metadata": {},
     "output_type": "display_data"
    },
    {
     "name": "stderr",
     "output_type": "stream",
     "text": [
      "[12:26:25] lltk.text.textlist.\u001b[34m\u001b[1mfind_matches\u001b[0m( \u001b[36mfound 0 matches by hash\u001b[0m )\n"
     ]
    },
    {
     "data": {
      "application/vnd.jupyter.widget-view+json": {
       "model_id": "3d14a496dfbf4b60891d769523ce00be",
       "version_major": 2,
       "version_minor": 0
      },
      "text/plain": [
       "[LLTK] filtering texts: 0it [00:00, ?it/s]"
      ]
     },
     "metadata": {},
     "output_type": "display_data"
    },
    {
     "data": {
      "application/vnd.jupyter.widget-view+json": {
       "model_id": "c27fad08467e4f298a5162367265aa81",
       "version_major": 2,
       "version_minor": 0
      },
      "text/plain": [
       "[LLTK] filtering texts: 0it [00:00, ?it/s]"
      ]
     },
     "metadata": {},
     "output_type": "display_data"
    },
    {
     "data": {
      "text/plain": [
       "TextList([])"
      ]
     },
     "execution_count": 3,
     "metadata": {},
     "output_type": "execute_result"
    }
   ],
   "source": [
    "with LLTK: texts = LLTK(au=\"Richardson\")\n",
    "texts"
   ]
  },
  {
   "cell_type": "code",
   "execution_count": 4,
   "metadata": {},
   "outputs": [
    {
     "data": {
      "text/plain": [
       "TextList([Austen, Lady Susan In The Works Of Jane Austen Volume Vi M (1794) [_semantic_cohort/SC0112],\n",
       "          Austen, Letters To Her Sister (1796) [_clmet/CLMET3_1_2_135],\n",
       "          Austen, The Watsons In The Works Of Jane Austen Volume Vi (1805) [_semantic_cohort/SC0272],\n",
       "          Austen, Sense And Sensibility (1811) [_chadwyck/Nineteenth-Century_Fiction/ncf0204.08] (5),\n",
       "          Austen, Pride And Prejudice (1813) [_chadwyck/Nineteenth-Century_Fiction/ncf0204.06] (3),\n",
       "          Austen, Prideand Prejudice (1813) [_txtlab/EN_1813_AustenJane_PrideandPrejudice_Novel],\n",
       "          Austen, Mansfield Park (1814) [_chadwyck/Nineteenth-Century_Fiction/ncf0204.03] (4),\n",
       "          Austen, Emma (1816) [_chadwyck/Nineteenth-Century_Fiction/ncf0204.01] (3),\n",
       "          Austen, Sanditon In The Works Of Jane Austen Volume Vi Min (1817) [_semantic_cohort/SC0448],\n",
       "          Austen, Northanger Abbey (1818) [_chadwyck/Nineteenth-Century_Fiction/ncf0204.04] (2),\n",
       "          Austen, Northanger Abbey And Persuasion (1818) [_semantic_cohort/SC0459],\n",
       "          Austen, Persuasion (1818) [_chadwyck/Nineteenth-Century_Fiction/ncf0204.05] (2),\n",
       "          Austen, Lady Susan (1954) [_chadwyck/Nineteenth-Century_Fiction/ncf0204.02],\n",
       "          Austen, Sanditon (1954) [_chadwyck/Nineteenth-Century_Fiction/ncf0204.07],\n",
       "          Austen, The Watsons (1954) [_chadwyck/Nineteenth-Century_Fiction/ncf0204.09]])"
      ]
     },
     "execution_count": 4,
     "metadata": {},
     "output_type": "execute_result"
    }
   ],
   "source": []
  },
  {
   "cell_type": "code",
   "execution_count": null,
   "metadata": {},
   "outputs": [],
   "source": []
  },
  {
   "cell_type": "code",
   "execution_count": 5,
   "metadata": {},
   "outputs": [
    {
     "data": {
      "text/plain": [
       "TextList([Austen, Lady Susan In The Works Of Jane Austen Volume Vi M (1794) [_semantic_cohort/SC0112],\n",
       "          Austen, Letters To Her Sister (1796) [_clmet/CLMET3_1_2_135],\n",
       "          Austen, The Watsons In The Works Of Jane Austen Volume Vi (1805) [_semantic_cohort/SC0272],\n",
       "          Austen, Sense And Sensibility (1811) [_chadwyck/Nineteenth-Century_Fiction/ncf0204.08] (5),\n",
       "          Austen, Pride And Prejudice (1813) [_chadwyck/Nineteenth-Century_Fiction/ncf0204.06] (3),\n",
       "          Austen, Prideand Prejudice (1813) [_txtlab/EN_1813_AustenJane_PrideandPrejudice_Novel],\n",
       "          Austen, Mansfield Park (1814) [_chadwyck/Nineteenth-Century_Fiction/ncf0204.03] (4),\n",
       "          Austen, Emma (1816) [_chadwyck/Nineteenth-Century_Fiction/ncf0204.01] (3),\n",
       "          Austen, Sanditon In The Works Of Jane Austen Volume Vi Min (1817) [_semantic_cohort/SC0448],\n",
       "          Austen, Northanger Abbey (1818) [_chadwyck/Nineteenth-Century_Fiction/ncf0204.04] (2),\n",
       "          Austen, Northanger Abbey And Persuasion (1818) [_semantic_cohort/SC0459],\n",
       "          Austen, Persuasion (1818) [_chadwyck/Nineteenth-Century_Fiction/ncf0204.05] (2),\n",
       "          Austen, Lady Susan (1954) [_chadwyck/Nineteenth-Century_Fiction/ncf0204.02],\n",
       "          Austen, Sanditon (1954) [_chadwyck/Nineteenth-Century_Fiction/ncf0204.07],\n",
       "          Austen, The Watsons (1954) [_chadwyck/Nineteenth-Century_Fiction/ncf0204.09]])"
      ]
     },
     "execution_count": 5,
     "metadata": {},
     "output_type": "execute_result"
    }
   ],
   "source": [
    "texts"
   ]
  },
  {
   "cell_type": "code",
   "execution_count": 3,
   "metadata": {},
   "outputs": [
    {
     "name": "stdout",
     "output_type": "stream",
     "text": [
      "{'author__like': '%Gibson%'}\n"
     ]
    },
    {
     "data": {
      "application/vnd.jupyter.widget-view+json": {
       "model_id": "5b411afa01f94a0380762e5003a84514",
       "version_major": 2,
       "version_minor": 0
      },
      "text/plain": [
       "[LLTK] init texts:   0%|          | 0/13 [00:00<?, ?it/s]"
      ]
     },
     "metadata": {},
     "output_type": "display_data"
    }
   ],
   "source": [
    "tl = LLTK(au='Gibson')"
   ]
  },
  {
   "cell_type": "code",
   "execution_count": 4,
   "metadata": {},
   "outputs": [
    {
     "name": "stdout",
     "output_type": "stream",
     "text": [
      "finding by title...\n",
      "found 6 matches by title\n",
      "finding by hash...\n",
      "? [Gibson, Idoru (1948) [_chicago/00024323], Gibson, Count Zero (1948) [_markmark/Gibson,_William.Count_Zero] (2), Gibson, Count Zero (1948) [_chicago/00022504] (2), Gibson, Neuromancer (1948) [_markmark/Gibson,_William.Neuromancer] (2), Gibson, Neuromancer (1948) [_chicago/00022193] (2), Gibson, Mona Lisa Overdrive (1948) [_chicago/00022888] (2), Gibson, Mona Lisa Overdrive (1948) [_markmark/Gibson,_William.Mona_Lisa_Overdrive] (2), Gibson, Virtual Light (1948) [_chicago/00023921], Lockhart, Life Of Robert Burns (1828) [_tedjdh/LockJLR], Gibson, The Difference Engine (1948) [_chicago/00023664]]\n"
     ]
    },
    {
     "data": {
      "application/vnd.jupyter.widget-view+json": {
       "model_id": "5f0bccaed17d492a88327f40a754268e",
       "version_major": 2,
       "version_minor": 0
      },
      "text/plain": [
       "[LLTK] Matching texts:   0%|          | 0/10 [00:00<?, ?it/s]"
      ]
     },
     "metadata": {},
     "output_type": "display_data"
    },
    {
     "name": "stdout",
     "output_type": "stream",
     "text": [
      "found 6 matches by hash\n"
     ]
    },
    {
     "data": {
      "application/vnd.jupyter.widget-view+json": {
       "model_id": "725f49cf09104f88ba5a64aa5fb6a77e",
       "version_major": 2,
       "version_minor": 0
      },
      "text/plain": [
       "[LLTK] filtering texts:   0%|          | 0/10 [00:00<?, ?it/s]"
      ]
     },
     "metadata": {},
     "output_type": "display_data"
    }
   ],
   "source": [
    "tl.find_matches()"
   ]
  },
  {
   "cell_type": "code",
   "execution_count": 5,
   "metadata": {},
   "outputs": [
    {
     "data": {
      "text/plain": [
       "TextList([1854, Valerius A Roman Story (1821) [_semantic_cohort/SC0510],\n",
       "          1854, Reginald Dalton (1823) [_semantic_cohort/SC0554],\n",
       "          Lockhart, Life Of Robert Burns (1828) [_tedjdh/LockJLR],\n",
       "          1885, The Last Earl Of Desmond A Historical Romance Of 1 (1854) [_semantic_cohort/SC1264],\n",
       "          Gibson, Idoru (1948) [_chicago/00024323],\n",
       "          Gibson, Count Zero (1948) [_markmark/Gibson,_William.Count_Zero] (2),\n",
       "          Gibson, Neuromancer (1948) [_markmark/Gibson,_William.Neuromancer] (2),\n",
       "          Gibson, Mona Lisa Overdrive (1948) [_markmark/Gibson,_William.Mona_Lisa_Overdrive] (2),\n",
       "          Gibson, Virtual Light (1948) [_chicago/00023921],\n",
       "          Gibson, The Difference Engine (1948) [_chicago/00023664]])"
      ]
     },
     "execution_count": 5,
     "metadata": {},
     "output_type": "execute_result"
    }
   ],
   "source": [
    "tl"
   ]
  },
  {
   "cell_type": "code",
   "execution_count": null,
   "metadata": {},
   "outputs": [],
   "source": []
  }
 ],
 "metadata": {
  "interpreter": {
   "hash": "99c3488a746bccd77b7949f8f419451e1c962da56ebbaaae6e4d2e6c8c07eaa0"
  },
  "kernelspec": {
   "display_name": "Python 3.9.7 ('base')",
   "language": "python",
   "name": "python3"
  },
  "language_info": {
   "codemirror_mode": {
    "name": "ipython",
    "version": 3
   },
   "file_extension": ".py",
   "mimetype": "text/x-python",
   "name": "python",
   "nbconvert_exporter": "python",
   "pygments_lexer": "ipython3",
   "version": "3.9.7"
  }
 },
 "nbformat": 4,
 "nbformat_minor": 4
}

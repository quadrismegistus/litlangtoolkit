{
 "cells": [
  {
   "cell_type": "code",
   "execution_count": 1,
   "id": "b036aeaa-6e66-4db1-8d4a-ba659dca70eb",
   "metadata": {
    "tags": []
   },
   "outputs": [],
   "source": [
    "import sys; sys.path.insert(0,'..')\n",
    "from lltk import LLTK, tqdm_joblib, get_tqdm\n",
    "# !rm /Users/ryan/lltk_data/logs/debug.log"
   ]
  },
  {
   "cell_type": "code",
   "execution_count": 2,
   "id": "ba629624-a9e8-4f23-9479-3f3929915ee9",
   "metadata": {},
   "outputs": [],
   "source": [
    "# LLTK.sync()#corpus_list=['chadwyck'])"
   ]
  },
  {
   "cell_type": "code",
   "execution_count": 17,
   "id": "70fb4f00-ef3f-484c-bc18-1c60ad2af0a3",
   "metadata": {},
   "outputs": [
    {
     "name": "stdout",
     "output_type": "stream",
     "text": [
      "8.02 s ± 948 ms per loop (mean ± std. dev. of 7 runs, 1 loop each)\n"
     ]
    }
   ],
   "source": [
    "%%timeit\n",
    "LLTK.gdb.where(_corpus='chadwyck')"
   ]
  },
  {
   "cell_type": "code",
   "execution_count": 16,
   "id": "7ac7653b-6f24-42e7-ada3-7a86657f1f44",
   "metadata": {},
   "outputs": [],
   "source": [
    "id='_chadwyck/Eighteenth-Century_Fiction/paltock.01'\n",
    "t=LLTK(id)\n"
   ]
  },
  {
   "cell_type": "code",
   "execution_count": 15,
   "id": "9f9a2f5e-0570-4e23-a60f-5844dc6f72ca",
   "metadata": {},
   "outputs": [
    {
     "name": "stdout",
     "output_type": "stream",
     "text": [
      "83.3 µs ± 279 ns per loop (mean ± std. dev. of 7 runs, 10,000 loops each)\n"
     ]
    }
   ],
   "source": [
    "%%timeit\n",
    "t.get_cache(force=True)"
   ]
  },
  {
   "cell_type": "code",
   "execution_count": null,
   "id": "882bd087-c3f8-42a5-a0a2-61b40cf80fde",
   "metadata": {},
   "outputs": [],
   "source": []
  },
  {
   "cell_type": "code",
   "execution_count": 5,
   "id": "59b834fa-4a44-476e-92bc-a7541290d510",
   "metadata": {},
   "outputs": [],
   "source": [
    "import lltk"
   ]
  },
  {
   "cell_type": "code",
   "execution_count": 9,
   "id": "2d76f34a-ec94-4bc0-a981-984250bec2b5",
   "metadata": {},
   "outputs": [],
   "source": [
    "Cl=list(lltk.corpora())"
   ]
  },
  {
   "cell_type": "code",
   "execution_count": 13,
   "id": "0d6e0c2a-07a7-439c-86f3-34be8fd4e60b",
   "metadata": {},
   "outputs": [],
   "source": [
    "C = Cl[0][1]"
   ]
  },
  {
   "cell_type": "code",
   "execution_count": 14,
   "id": "f4db0ab3-5f1a-45de-b3f9-211f44dac8ad",
   "metadata": {},
   "outputs": [
    {
     "data": {
      "application/vnd.jupyter.widget-view+json": {
       "model_id": "5d801eb48d424b168dd847279ae6bd0b",
       "version_major": 2,
       "version_minor": 0
      },
      "text/plain": [
       "[BPO] Downloading bpo_metadata.zip to ~/lltk_data/corpora/lltk_corpora/bpo_metadata.zip:   0%|          | 0/10…"
      ]
     },
     "metadata": {},
     "output_type": "display_data"
    },
    {
     "data": {
      "application/vnd.jupyter.widget-view+json": {
       "model_id": "534a3374ed124bc7819c6fe9ab301703",
       "version_major": 2,
       "version_minor": 0
      },
      "text/plain": [
       "[BPO] Unzipping bpo_metadata.zip to ~/lltk_data/corpora/bpo:   0%|          | 0/1 [00:00<?, ?it/s]"
      ]
     },
     "metadata": {},
     "output_type": "display_data"
    },
    {
     "data": {
      "application/vnd.jupyter.widget-view+json": {
       "model_id": "59824472cebe4c92a5785d6b33175de5",
       "version_major": 2,
       "version_minor": 0
      },
      "text/plain": [
       "[BPO] Syncing texts to db:   0%|          | 0/2052045 [00:00<?, ?it/s]"
      ]
     },
     "metadata": {},
     "output_type": "display_data"
    }
   ],
   "source": [
    "C.sync()"
   ]
  },
  {
   "cell_type": "code",
   "execution_count": null,
   "id": "b312e574-3970-40aa-a0bf-f703d2072e7a",
   "metadata": {},
   "outputs": [],
   "source": []
  },
  {
   "cell_type": "code",
   "execution_count": null,
   "id": "fc8992d2-715e-4818-82e7-c179c5807357",
   "metadata": {},
   "outputs": [],
   "source": []
  },
  {
   "cell_type": "code",
   "execution_count": 5,
   "id": "91fd8a11-08f3-4024-b90a-a93a620f28f1",
   "metadata": {},
   "outputs": [],
   "source": [
    "texts = LLTK#(au=\"Dickens\")\n"
   ]
  },
  {
   "cell_type": "code",
   "execution_count": 6,
   "id": "f8aeb380-1655-4d0b-8321-fce83329e31a",
   "metadata": {},
   "outputs": [
    {
     "data": {
      "application/vnd.jupyter.widget-view+json": {
       "model_id": "8aa9b3ac29264e74b55354de5b481b48",
       "version_major": 2,
       "version_minor": 0
      },
      "text/plain": [
       "[LLTK] Iterating over all texts:   0%|          | 0/17360 [00:00<?, ?it/s]"
      ]
     },
     "metadata": {},
     "output_type": "display_data"
    }
   ],
   "source": [
    "addrs = texts.addrs\n",
    "\n",
    "\n"
   ]
  },
  {
   "cell_type": "code",
   "execution_count": 7,
   "id": "f49a563f-4c13-4f74-aef1-aea7c09d2b7f",
   "metadata": {},
   "outputs": [
    {
     "data": {
      "application/vnd.jupyter.widget-view+json": {
       "model_id": "a59682534d6a47b49f711fe035bda944",
       "version_major": 2,
       "version_minor": 0
      },
      "text/plain": [
       "[LLTK] Mapping minhash across 17344 texts:   0%|          | 0/17344 [00:00<?, ?it/s]"
      ]
     },
     "metadata": {},
     "output_type": "display_data"
    }
   ],
   "source": [
    "res = texts.run('minhash')"
   ]
  },
  {
   "cell_type": "code",
   "execution_count": 8,
   "id": "8a4d28d5-b274-4173-b1f8-a14ef80bb0d6",
   "metadata": {},
   "outputs": [],
   "source": [
    "from lltk import corpora\n"
   ]
  },
  {
   "cell_type": "code",
   "execution_count": 10,
   "id": "ec62e617-2a06-4932-bce0-6e6f87376378",
   "metadata": {},
   "outputs": [
    {
     "ename": "ImportError",
     "evalue": "cannot import name 'MetaCorpus' from 'lltk.corpus.corpus' (/Users/ryan/github/lltk/notebooks/../lltk/corpus/corpus.py)",
     "output_type": "error",
     "traceback": [
      "\u001b[0;31m---------------------------------------------------------------------------\u001b[0m",
      "\u001b[0;31mImportError\u001b[0m                               Traceback (most recent call last)",
      "Input \u001b[0;32mIn [10]\u001b[0m, in \u001b[0;36m<cell line: 1>\u001b[0;34m()\u001b[0m\n\u001b[0;32m----> 1\u001b[0m \u001b[38;5;28;43mlist\u001b[39;49m\u001b[43m(\u001b[49m\u001b[43mcorpora\u001b[49m\u001b[43m(\u001b[49m\u001b[43m)\u001b[49m\u001b[43m)\u001b[49m\n",
      "File \u001b[0;32m~/github/lltk/notebooks/../lltk/corpus/utils.py:77\u001b[0m, in \u001b[0;36mcorpora\u001b[0;34m(load, load_meta, incl_meta_corpora)\u001b[0m\n\u001b[1;32m     75\u001b[0m \u001b[38;5;66;03m# print(corpus_name, corpus_obj)\u001b[39;00m\n\u001b[1;32m     76\u001b[0m \u001b[38;5;28;01mif\u001b[39;00m corpus_obj \u001b[38;5;129;01mis\u001b[39;00m \u001b[38;5;28;01mNone\u001b[39;00m: \u001b[38;5;28;01mcontinue\u001b[39;00m\n\u001b[0;32m---> 77\u001b[0m \u001b[38;5;28;01mfrom\u001b[39;00m \u001b[38;5;21;01mlltk\u001b[39;00m\u001b[38;5;21;01m.\u001b[39;00m\u001b[38;5;21;01mcorpus\u001b[39;00m\u001b[38;5;21;01m.\u001b[39;00m\u001b[38;5;21;01mcorpus\u001b[39;00m \u001b[38;5;28;01mimport\u001b[39;00m MetaCorpus\n\u001b[1;32m     78\u001b[0m \u001b[38;5;28;01mif\u001b[39;00m \u001b[38;5;129;01mnot\u001b[39;00m incl_meta_corpora \u001b[38;5;129;01mand\u001b[39;00m \u001b[38;5;28missubclass\u001b[39m(corpus_obj\u001b[38;5;241m.\u001b[39m\u001b[38;5;18m__class__\u001b[39m, MetaCorpus): \u001b[38;5;28;01mcontinue\u001b[39;00m\n\u001b[1;32m     79\u001b[0m \u001b[38;5;28;01myield\u001b[39;00m (corpus_name, corpus_obj)\n",
      "\u001b[0;31mImportError\u001b[0m: cannot import name 'MetaCorpus' from 'lltk.corpus.corpus' (/Users/ryan/github/lltk/notebooks/../lltk/corpus/corpus.py)"
     ]
    }
   ],
   "source": []
  },
  {
   "cell_type": "code",
   "execution_count": null,
   "id": "b927533b-a89d-44a7-9e8d-a1d381925e45",
   "metadata": {},
   "outputs": [],
   "source": []
  }
 ],
 "metadata": {
  "kernelspec": {
   "display_name": "Python 3 (ipykernel)",
   "language": "python",
   "name": "python3"
  },
  "language_info": {
   "codemirror_mode": {
    "name": "ipython",
    "version": 3
   },
   "file_extension": ".py",
   "mimetype": "text/x-python",
   "name": "python",
   "nbconvert_exporter": "python",
   "pygments_lexer": "ipython3",
   "version": "3.9.7"
  }
 },
 "nbformat": 4,
 "nbformat_minor": 5
}

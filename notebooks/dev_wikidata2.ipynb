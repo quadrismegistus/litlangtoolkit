{
 "cells": [
  {
   "cell_type": "code",
   "execution_count": 1,
   "metadata": {},
   "outputs": [
    {
     "name": "stderr",
     "output_type": "stream",
     "text": [
      "[08:35:42] lltk.lltk.\u001b[34m\u001b[1m<module>\u001b[0m( \u001b[36mready\u001b[0m )\n"
     ]
    }
   ],
   "source": [
    "import sys; sys.path.insert(0,'../../yapmap')\n",
    "import sys; sys.path.insert(0,'..')\n",
    "from lltk import *"
   ]
  },
  {
   "cell_type": "code",
   "execution_count": 2,
   "metadata": {},
   "outputs": [
    {
     "name": "stderr",
     "output_type": "stream",
     "text": [
      "[08:35:43] lltk.text.text.\u001b[34m\u001b[1mText\u001b[0m( \u001b[36m<- id = _epistolary/_chadwyck/Eighteenth-Century_Fiction/richards.01\u001b[0m )\n",
      "[08:35:43] lltk.text.text.\u001b[34m\u001b[1mText\u001b[0m( \u001b[36m<- addr = _epistolary/_chadwyck/Eighteenth-Century_Fiction/richards.01\u001b[0m )\n",
      "[08:35:43] lltk.corpus.corpus.\u001b[34m\u001b[1mCorpus\u001b[0m( \u001b[36m<- id = epistolary\u001b[0m )\n",
      "[08:35:43] lltk.corpus.utils.\u001b[34m\u001b[1mload_corpus\u001b[0m( \u001b[36m<- id = epistolary\u001b[0m )\n",
      "[08:35:43] lltk.corpus.utils.\u001b[34m\u001b[1mload_corpus\u001b[0m( \u001b[36mImporting corpus class \"Epistolary\" from /Users/ryan/github/lltk/lltk/corpus/epistolary/epistolary.py\u001b[0m )\n",
      "[08:35:43] lltk.corpus.corpus.\u001b[34m\u001b[1m__init__\u001b[0m( \u001b[36mEpistolary(...)\u001b[0m )\n",
      "[08:35:43] lltk.corpus.corpus.\u001b[34m\u001b[1minit\u001b[0m( \u001b[36mEpistolaryCorpus(epistolary)\u001b[0m )\n",
      "[08:35:43] lltk.corpus.utils.\u001b[34m\u001b[1mload_corpus\u001b[0m( \u001b[36m-> EpistolaryCorpus(epistolary)\u001b[0m )\n",
      "[08:35:43] lltk.corpus.corpus.\u001b[34m\u001b[1mCorpus\u001b[0m( \u001b[36m-> EpistolaryCorpus(epistolary)\u001b[0m )\n",
      "[08:35:43] lltk.corpus.corpus.\u001b[34m\u001b[1mtext\u001b[0m( \u001b[36m<- id = _chadwyck/Eighteenth-Century_Fiction/richards.01\u001b[0m )\n",
      "[08:35:43] lltk.corpus.corpus.\u001b[34m\u001b[1minit_text\u001b[0m( \u001b[36m<- id = _chadwyck/Eighteenth-Century_Fiction/richards.01\u001b[0m )\n",
      "[08:35:43] lltk.corpus.corpus.\u001b[34m\u001b[1minit_text\u001b[0m( \u001b[36mhidden source -> _chadwyck/Eighteenth-Century_Fiction/richards.01\u001b[0m )\n",
      "[08:35:43] lltk.corpus.corpus.\u001b[34m\u001b[1mCorpus\u001b[0m( \u001b[36m<- id = chadwyck\u001b[0m )\n",
      "[08:35:43] lltk.corpus.utils.\u001b[34m\u001b[1mload_corpus\u001b[0m( \u001b[36m<- id = chadwyck\u001b[0m )\n",
      "[08:35:43] lltk.corpus.utils.\u001b[34m\u001b[1mload_corpus\u001b[0m( \u001b[36mImporting corpus class \"Chadwyck\" from /Users/ryan/github/lltk/lltk/corpus/chadwyck/chadwyck.py\u001b[0m )\n",
      "[08:35:43] lltk.corpus.corpus.\u001b[34m\u001b[1m__init__\u001b[0m( \u001b[36mChadwyck(...)\u001b[0m )\n",
      "[08:35:43] lltk.corpus.corpus.\u001b[34m\u001b[1minit\u001b[0m( \u001b[36mChadwyckCorpus(chadwyck)\u001b[0m )\n",
      "[08:35:44] lltk.corpus.corpus.\u001b[34m\u001b[1minit\u001b[0m( \u001b[36minitialized 1338 texts\u001b[0m )\n",
      "[08:35:44] lltk.corpus.utils.\u001b[34m\u001b[1mload_corpus\u001b[0m( \u001b[36m-> ChadwyckCorpus(chadwyck)\u001b[0m )\n",
      "[08:35:44] lltk.corpus.corpus.\u001b[34m\u001b[1mCorpus\u001b[0m( \u001b[36m-> ChadwyckCorpus(chadwyck)\u001b[0m )\n",
      "[08:35:44] lltk.corpus.corpus.\u001b[34m\u001b[1mtext\u001b[0m( \u001b[36m<- id = Eighteenth-Century_Fiction/richards.01\u001b[0m )\n",
      "[08:35:44] lltk.corpus.corpus.\u001b[34m\u001b[1mtext\u001b[0m( \u001b[36m-> TextChadwyck(_chadwyck/Eighteenth-Century_Fiction/richards.01)\u001b[0m )\n",
      "[08:35:44] lltk.corpus.corpus.\u001b[34m\u001b[1minit_text\u001b[0m( \u001b[36mhidden source <- TextChadwyck(_chadwyck/Eighteenth-Century_Fiction/richards.01)\u001b[0m )\n",
      "[08:35:44] lltk.text.text.\u001b[34m\u001b[1m__init__\u001b[0m( \u001b[36mTextEpistolary(id = _chadwyck/Eighteenth-Century_Fiction/richards.01, corpus = EpistolaryCorpus(epistolary), source = TextChadwyck(_chadwyck/Eighteenth-Century_Fiction/richards.01))\u001b[0m )\n",
      "[08:35:44] lltk.model.matcher.\u001b[34m\u001b[1mMatcher\u001b[0m( \u001b[36m<- epistolary\u001b[0m )\n",
      "[08:35:44] lltk.model.matcher.\u001b[34m\u001b[1madd_edge_to_graph\u001b[0m( \u001b[36m_epistolary/_chadwyck/Eighteenth-Century_Fiction/richards.01 --rdf:type--> _chadwyck/Eighteenth-Century_Fiction/richards.01\u001b[0m )\n",
      "[08:35:44] lltk.model.matcher.\u001b[34m\u001b[1minit_g_triples\u001b[0m( \u001b[36mlltk:_epistolary/_chadwyck/Eighteenth-Century_Fiction/richards.01 --rdf:type--> lltk:_chadwyck/Eighteenth-Century_Fiction/richards.01\u001b[0m )\n",
      "[08:35:44] lltk.model.matcher.\u001b[34m\u001b[1madd_edge_to_graph\u001b[0m( \u001b[36m_epistolary/_chadwyck/Eighteenth-Century_Fiction/richards.01 --other_rel--> _chadwyck/Eighteenth-Century_Fiction/richards.01\u001b[0m )\n",
      "[08:35:44] lltk.model.matcher.\u001b[34m\u001b[1minit_g_triples\u001b[0m( \u001b[36mlltk:_epistolary/_chadwyck/Eighteenth-Century_Fiction/richards.01 --other_rel--> lltk:_chadwyck/Eighteenth-Century_Fiction/richards.01\u001b[0m )\n",
      "[08:35:44] lltk.model.matcher.\u001b[34m\u001b[1minit_g_triples\u001b[0m( \u001b[36mread graph from /Users/ryan/lltk_data/corpora/epistolary/data/rels/triples.txt\u001b[0m )\n",
      "[08:35:44] lltk.model.matcher.\u001b[34m\u001b[1mMatcher\u001b[0m( \u001b[36m-> <lltk.model.matcher.MatcherModel object at 0x1779d0eb0>\u001b[0m )\n",
      "[08:35:44] lltk.text.text.\u001b[34m\u001b[1madd_source\u001b[0m( \u001b[36mfound match: (None, None)\u001b[0m )\n",
      "[08:35:44] lltk.text.text.\u001b[34m\u001b[1madd_source\u001b[0m( \u001b[36madding source vice versa\u001b[0m )\n",
      "[08:35:44] lltk.model.matcher.\u001b[34m\u001b[1mMatcher\u001b[0m( \u001b[36m<- chadwyck\u001b[0m )\n",
      "[08:35:44] lltk.model.matcher.\u001b[34m\u001b[1madd_edge_to_graph\u001b[0m( \u001b[36m_chadwyck/Eighteenth-Century_Fiction/richards.01 --rdf:type--> _epistolary/_chadwyck/Eighteenth-Century_Fiction/richards.01\u001b[0m )\n",
      "[08:35:44] lltk.model.matcher.\u001b[34m\u001b[1minit_g_triples\u001b[0m( \u001b[36mlltk:_chadwyck/Eighteenth-Century_Fiction/richards.01 --rdf:type--> lltk:_epistolary/_chadwyck/Eighteenth-Century_Fiction/richards.01\u001b[0m )\n",
      "[08:35:44] lltk.model.matcher.\u001b[34m\u001b[1minit_g_triples\u001b[0m( \u001b[36mread graph from /Users/ryan/lltk_data/corpora/chadwyck/data/rels/triples.txt\u001b[0m )\n",
      "[08:35:44] lltk.model.matcher.\u001b[34m\u001b[1mMatcher\u001b[0m( \u001b[36m-> <lltk.model.matcher.MatcherModel object at 0x1779d0d00>\u001b[0m )\n",
      "[08:35:44] lltk.text.text.\u001b[34m\u001b[1madd_source\u001b[0m( \u001b[36mfound match: (None, None)\u001b[0m )\n",
      "[08:35:44] lltk.corpus.corpus.\u001b[34m\u001b[1minit_text\u001b[0m( \u001b[36m-> TextEpistolary(_epistolary/_chadwyck/Eighteenth-Century_Fiction/richards.01)\u001b[0m )\n",
      "[08:35:44] lltk.corpus.corpus.\u001b[34m\u001b[1mtext\u001b[0m( \u001b[36m-> TextEpistolaryChadwyck(_epistolary/_chadwyck/Eighteenth-Century_Fiction/richards.01)\u001b[0m )\n",
      "[08:35:44] lltk.text.text.\u001b[34m\u001b[1mText\u001b[0m( \u001b[36m-> TextEpistolaryChadwyck(_epistolary/_chadwyck/Eighteenth-Century_Fiction/richards.01)\u001b[0m )\n"
     ]
    }
   ],
   "source": [
    "t=Text(CLAR_ID)"
   ]
  },
  {
   "cell_type": "code",
   "execution_count": 3,
   "metadata": {},
   "outputs": [],
   "source": [
    "# stopx"
   ]
  },
  {
   "cell_type": "code",
   "execution_count": 4,
   "metadata": {},
   "outputs": [
    {
     "data": {
      "text/plain": [
       "MultiEdgeDataView([('_epistolary/_chadwyck/Eighteenth-Century_Fiction/richards.01', '_chadwyck/Eighteenth-Century_Fiction/richards.01', {'rel': 'rdf:type'}), ('_epistolary/_chadwyck/Eighteenth-Century_Fiction/richards.01', '_chadwyck/Eighteenth-Century_Fiction/richards.01', {'rel': 'other_rel'})])"
      ]
     },
     "execution_count": 4,
     "metadata": {},
     "output_type": "execute_result"
    }
   ],
   "source": [
    "t.matcher_global.g.edges(data=True)"
   ]
  },
  {
   "cell_type": "code",
   "execution_count": 5,
   "metadata": {},
   "outputs": [
    {
     "name": "stderr",
     "output_type": "stream",
     "text": [
      "[08:23:00] lltk.model.matcher.\u001b[34m\u001b[1madd_edge_to_graph\u001b[0m( \u001b[36m_epistolary/_chadwyck/Eighteenth-Century_Fiction/richards.01 --other_rel--> _chadwyck/Eighteenth-Century_Fiction/richards.01\u001b[0m )\n",
      "[08:23:00] lltk.model.matcher.\u001b[34m\u001b[1mmatch\u001b[0m( \u001b[36mMatching: TextEpistolaryChadwyck(_epistolary/_chadwyck/Eighteenth-Century_Fiction/richards.01) --> TextChadwyck(_chadwyck/Eighteenth-Century_Fiction/richards.01)\u001b[0m )\n",
      "[08:23:00] lltk.model.matcher.\u001b[34m\u001b[1mcache_g_triples\u001b[0m( \u001b[36mcached graph to /Users/ryan/lltk_data/corpora/epistolary/data/rels/triples.txt\u001b[0m )\n",
      "[08:23:00] lltk.model.matcher.\u001b[34m\u001b[1madd_edge_to_graph\u001b[0m( \u001b[36m_epistolary/_chadwyck/Eighteenth-Century_Fiction/richards.01 --other_rel--> _chadwyck/Eighteenth-Century_Fiction/richards.01\u001b[0m )\n",
      "[08:23:00] lltk.model.matcher.\u001b[34m\u001b[1mmatch\u001b[0m( \u001b[36mMatching: TextEpistolaryChadwyck(_epistolary/_chadwyck/Eighteenth-Century_Fiction/richards.01) --> TextChadwyck(_chadwyck/Eighteenth-Century_Fiction/richards.01)\u001b[0m )\n",
      "[08:23:00] lltk.model.matcher.\u001b[34m\u001b[1mcache_g_triples\u001b[0m( \u001b[36mcached graph to /Users/ryan/lltk_data/data/rels/triples.txt\u001b[0m )\n"
     ]
    },
    {
     "data": {
      "text/plain": [
       "(None, None)"
      ]
     },
     "execution_count": 5,
     "metadata": {},
     "output_type": "execute_result"
    }
   ],
   "source": [
    "t.match(t.source, rel='other_rel')"
   ]
  },
  {
   "cell_type": "code",
   "execution_count": null,
   "metadata": {},
   "outputs": [],
   "source": []
  },
  {
   "cell_type": "code",
   "execution_count": 6,
   "metadata": {},
   "outputs": [
    {
     "name": "stderr",
     "output_type": "stream",
     "text": [
      "[08:23:00] lltk.corpus.corpus.\u001b[34m\u001b[1mCorpus\u001b[0m( \u001b[36m<- id = wikidata\u001b[0m )\n",
      "[08:23:00] lltk.corpus.utils.\u001b[34m\u001b[1mload_corpus\u001b[0m( \u001b[36m<- id = wikidata\u001b[0m )\n",
      "[08:23:00] lltk.corpus.utils.\u001b[34m\u001b[1mload_corpus\u001b[0m( \u001b[36mImporting corpus class \"Wikidata\" from /Users/ryan/github/lltk/lltk/corpus/wikidata/wikidata.py\u001b[0m )\n",
      "[08:23:00] lltk.corpus.corpus.\u001b[34m\u001b[1m__init__\u001b[0m( \u001b[36mWikidata(...)\u001b[0m )\n",
      "[08:23:00] lltk.corpus.utils.\u001b[34m\u001b[1mload_corpus\u001b[0m( \u001b[36m-> WikidataCorpus(wikidata)\u001b[0m )\n",
      "[08:23:00] lltk.corpus.corpus.\u001b[34m\u001b[1mCorpus\u001b[0m( \u001b[36m-> WikidataCorpus(wikidata)\u001b[0m )\n"
     ]
    },
    {
     "data": {
      "text/plain": [
       "{'id': 'Q50377310',\n",
       " 'author|P50': 'Rachel Cusk|Q3416087',\n",
       " 'award_received|P166': 'The New Vanguard|Q50376726',\n",
       " 'instance_of|P31': 'literary work|Q7725634',\n",
       " 'label': 'Outline',\n",
       " 'publication_date|P577': '+2014-00-00T00:00:00Z',\n",
       " 'what': 'literary work'}"
      ]
     },
     "execution_count": 6,
     "metadata": {},
     "output_type": "execute_result"
    }
   ],
   "source": [
    "# %%timeit\n",
    "qidx='Q50377310'\n",
    "Corpus('wikidata').get_text_cache_json(qidx)"
   ]
  },
  {
   "cell_type": "code",
   "execution_count": 7,
   "metadata": {},
   "outputs": [
    {
     "name": "stderr",
     "output_type": "stream",
     "text": [
      "[08:23:00] lltk.text.text.\u001b[34m\u001b[1mText\u001b[0m( \u001b[36m<- kwargs = dict({'author': 'Cusk', 'title': 'Outline'})\u001b[0m )\n",
      "[08:23:00] lltk.text.text.\u001b[34m\u001b[1mText\u001b[0m( \u001b[36m<- addr = _tmp/author=Cusk/title=Outline\u001b[0m )\n",
      "[08:23:00] lltk.corpus.corpus.\u001b[34m\u001b[1mCorpus\u001b[0m( \u001b[36m<- id = tmp\u001b[0m )\n",
      "[08:23:00] lltk.corpus.utils.\u001b[34m\u001b[1mload_corpus\u001b[0m( \u001b[36m<- id = tmp\u001b[0m )\n",
      "[08:23:00] lltk.corpus.utils.\u001b[34m\u001b[1mload_corpus\u001b[0m( \u001b[36m-> ?\u001b[0m )\n",
      "[08:23:00] lltk.corpus.corpus.\u001b[34m\u001b[1m__init__\u001b[0m( \u001b[36mBaseCorpus(...)\u001b[0m )\n",
      "[08:23:00] lltk.corpus.corpus.\u001b[34m\u001b[1minit\u001b[0m( \u001b[36mBaseCorpus(tmp)\u001b[0m )\n",
      "[08:23:00] lltk.corpus.corpus.\u001b[34m\u001b[1mCorpus\u001b[0m( \u001b[36m-> BaseCorpus(tmp)\u001b[0m )\n",
      "[08:23:00] lltk.corpus.corpus.\u001b[34m\u001b[1mtext\u001b[0m( \u001b[36m<- id = author=Cusk/title=Outline, kwargs = dict({'author': 'Cusk', 'title': 'Outline'})\u001b[0m )\n",
      "[08:23:00] lltk.corpus.corpus.\u001b[34m\u001b[1minit_text\u001b[0m( \u001b[36m<- id = author=Cusk/title=Outline, kwargs = dict({'author': 'Cusk', 'title': 'Outline'})\u001b[0m )\n",
      "[08:23:00] lltk.text.text.\u001b[34m\u001b[1m__init__\u001b[0m( \u001b[36mBaseText(id = author=Cusk/title=Outline, corpus = BaseCorpus(tmp), kwargs = dict({'author': 'Cusk', 'title': 'Outline'}))\u001b[0m )\n",
      "[08:23:00] lltk.corpus.corpus.\u001b[34m\u001b[1minit_text\u001b[0m( \u001b[36m-> BaseText(_tmp/author=Cusk/title=Outline)\u001b[0m )\n",
      "[08:23:00] lltk.corpus.corpus.\u001b[34m\u001b[1mtext\u001b[0m( \u001b[36m-> BaseText(_tmp/author=Cusk/title=Outline)\u001b[0m )\n",
      "[08:23:00] lltk.text.text.\u001b[34m\u001b[1mText\u001b[0m( \u001b[36m-> BaseText(_tmp/author=Cusk/title=Outline)\u001b[0m )\n"
     ]
    }
   ],
   "source": [
    "t=Text(title='Outline',author='Cusk', _new=True)"
   ]
  },
  {
   "cell_type": "code",
   "execution_count": 8,
   "metadata": {},
   "outputs": [
    {
     "name": "stderr",
     "output_type": "stream",
     "text": [
      "[08:23:00] lltk.model.wikidata.\u001b[34m\u001b[1mwikidata\u001b[0m( \u001b[36m...\u001b[0m )\n",
      "[08:23:00] lltk.corpus.corpus.\u001b[34m\u001b[1mCorpus\u001b[0m( \u001b[36m<- id = wikidata\u001b[0m )\n",
      "[08:23:00] lltk.corpus.corpus.\u001b[34m\u001b[1mCorpus\u001b[0m( \u001b[36m-> WikidataCorpus(wikidata)\u001b[0m )\n",
      "[08:23:00] lltk.corpus.corpus.\u001b[34m\u001b[1mtext\u001b[0m( \u001b[36m<- id = Q0\u001b[0m )\n",
      "[08:23:00] lltk.corpus.corpus.\u001b[34m\u001b[1minit_text\u001b[0m( \u001b[36m<- id = Q0\u001b[0m )\n",
      "[08:23:00] lltk.text.text.\u001b[34m\u001b[1m__init__\u001b[0m( \u001b[36mTextWikidataClass(id = Q0, corpus = WikidataCorpus(wikidata))\u001b[0m )\n",
      "[08:23:00] lltk.corpus.corpus.\u001b[34m\u001b[1minit_text\u001b[0m( \u001b[36m-> TextWikidataClass(_wikidata/Q0)\u001b[0m )\n",
      "[08:23:00] lltk.text.text.\u001b[34m\u001b[1mcache\u001b[0m( \u001b[36mTextWikidataClass(_wikidata/Q0)\u001b[0m )\n",
      "[08:23:00] lltk.text.text.\u001b[34m\u001b[1mcache_json\u001b[0m( \u001b[36mcached text meta in json: /Users/ryan/lltk_data/corpora/wikidata/texts/Q0/meta.json\u001b[0m )\n",
      "[08:23:00] lltk.corpus.corpus.\u001b[34m\u001b[1mtext\u001b[0m( \u001b[36m-> TextWikidataClass(_wikidata/Q0)\u001b[0m )\n",
      "[08:23:01] lltk.model.wikidata.\u001b[34m\u001b[1mquery_get_wikidata_id\u001b[0m( \u001b[36mQuerying for ID: Outline Cusk\u001b[0m )\n",
      "[08:23:01] lltk.corpus.corpus.\u001b[34m\u001b[1mCorpus\u001b[0m( \u001b[36m<- id = wikidata\u001b[0m )\n",
      "[08:23:01] lltk.corpus.corpus.\u001b[34m\u001b[1mCorpus\u001b[0m( \u001b[36m-> WikidataCorpus(wikidata)\u001b[0m )\n",
      "[08:23:01] lltk.model.wikidata.\u001b[34m\u001b[1mquery_get_wikidata_id\u001b[0m( \u001b[36mqid_meta from db: 6 keys\u001b[0m )\n",
      "[08:23:01] lltk.corpus.corpus.\u001b[34m\u001b[1mCorpus\u001b[0m( \u001b[36m<- id = wikidata\u001b[0m )\n",
      "[08:23:01] lltk.corpus.corpus.\u001b[34m\u001b[1mCorpus\u001b[0m( \u001b[36m-> WikidataCorpus(wikidata)\u001b[0m )\n",
      "[08:23:01] lltk.corpus.corpus.\u001b[34m\u001b[1mtext\u001b[0m( \u001b[36m<- id = Q50377310, kwargs = dict({ 'author|P50': 'Rachel Cusk|Q3416087',\n",
      "  'award_received|P166': 'The New Vanguard|Q50376726',\n",
      "  'instance_of|P31': 'literary work|Q7725634',\n",
      "  'label': 'Outline',\n",
      "  'publication_date|P577': '+2014-00-00T00:00:00Z',\n",
      "  'what': 'literary work'})\u001b[0m )\n",
      "[08:23:01] lltk.corpus.corpus.\u001b[34m\u001b[1minit_text\u001b[0m( \u001b[36m<- id = Q50377310, kwargs = dict({ 'author|P50': 'Rachel Cusk|Q3416087',\n",
      "  'award_received|P166': 'The New Vanguard|Q50376726',\n",
      "  'instance_of|P31': 'literary work|Q7725634',\n",
      "  'label': 'Outline',\n",
      "  'publication_date|P577': '+2014-00-00T00:00:00Z',\n",
      "  'what': 'literary work'})\u001b[0m )\n",
      "[08:23:01] lltk.text.text.\u001b[34m\u001b[1m__init__\u001b[0m( \u001b[36mTextWikidataClass(id = Q50377310, corpus = WikidataCorpus(wikidata), kwargs = dict({ 'author|P50': 'Rachel Cusk|Q3416087',\n",
      "  'award_received|P166': 'The New Vanguard|Q50376726',\n",
      "  'instance_of|P31': 'literary work|Q7725634',\n",
      "  'label': 'Outline',\n",
      "  'publication_date|P577': '+2014-00-00T00:00:00Z',\n",
      "  'what': 'literary work'}))\u001b[0m )\n",
      "[08:23:01] lltk.corpus.corpus.\u001b[34m\u001b[1minit_text\u001b[0m( \u001b[36m-> TextWikidataClass(_wikidata/Q50377310)\u001b[0m )\n",
      "[08:23:01] lltk.text.text.\u001b[34m\u001b[1mcache\u001b[0m( \u001b[36mTextWikidataClass(_wikidata/Q50377310)\u001b[0m )\n",
      "[08:23:01] lltk.text.text.\u001b[34m\u001b[1mcache_json\u001b[0m( \u001b[36mcached text meta in json: /Users/ryan/lltk_data/corpora/wikidata/texts/Q50377310/meta.json\u001b[0m )\n",
      "[08:23:01] lltk.corpus.corpus.\u001b[34m\u001b[1mtext\u001b[0m( \u001b[36m-> TextWikidataClass(_wikidata/Q50377310)\u001b[0m )\n",
      "[08:23:01] lltk.text.text.\u001b[34m\u001b[1mText\u001b[0m( \u001b[36m<- id = Q50377310, corpus = wikidata, kwargs = dict({ 'author|P50': 'Rachel Cusk|Q3416087',\n",
      "  'award_received|P166': 'The New Vanguard|Q50376726',\n",
      "  'id': 'Q50377310',\n",
      "  'instance_of|P31': 'literary work|Q7725634',\n",
      "  'label': 'Outline',\n",
      "  'publication_date|P577': '+2014-00-00T00:00:00Z',\n",
      "  'what': 'literary work'})\u001b[0m )\n",
      "[08:23:01] lltk.text.text.\u001b[34m\u001b[1mText\u001b[0m( \u001b[36m<- addr = _wikidata/Q50377310\u001b[0m )\n",
      "[08:23:01] lltk.corpus.corpus.\u001b[34m\u001b[1mCorpus\u001b[0m( \u001b[36m<- id = wikidata\u001b[0m )\n",
      "[08:23:01] lltk.corpus.corpus.\u001b[34m\u001b[1mCorpus\u001b[0m( \u001b[36m-> WikidataCorpus(wikidata)\u001b[0m )\n",
      "[08:23:01] lltk.corpus.corpus.\u001b[34m\u001b[1mtext\u001b[0m( \u001b[36m<- id = Q50377310, kwargs = dict({ 'author|P50': 'Rachel Cusk|Q3416087',\n",
      "  'award_received|P166': 'The New Vanguard|Q50376726',\n",
      "  'instance_of|P31': 'literary work|Q7725634',\n",
      "  'label': 'Outline',\n",
      "  'publication_date|P577': '+2014-00-00T00:00:00Z',\n",
      "  'what': 'literary work'})\u001b[0m )\n",
      "[08:23:01] lltk.corpus.corpus.\u001b[34m\u001b[1mtext\u001b[0m( \u001b[36mUpdating text metadata:\n",
      "{ 'author|P50': 'Rachel Cusk|Q3416087',\n",
      "  'award_received|P166': 'The New Vanguard|Q50376726',\n",
      "  'instance_of|P31': 'literary work|Q7725634',\n",
      "  'label': 'Outline',\n",
      "  'publication_date|P577': '+2014-00-00T00:00:00Z',\n",
      "  'what': 'literary work'}\u001b[0m )\n",
      "[08:23:01] lltk.corpus.corpus.\u001b[34m\u001b[1mtext\u001b[0m( \u001b[36m-> TextWikidataClass(_wikidata/Q50377310)\u001b[0m )\n",
      "[08:23:01] lltk.text.text.\u001b[34m\u001b[1mText\u001b[0m( \u001b[36m-> TextWikidataClass(_wikidata/Q50377310)\u001b[0m )\n",
      "[08:23:01] lltk.corpus.wikidata.wikidata.\u001b[34m\u001b[1mTextWikidata\u001b[0m( \u001b[36mGenerated wiki text: TextWikidataClass(_wikidata/Q50377310)\u001b[0m )\n",
      "[08:23:01] lltk.model.matcher.\u001b[34m\u001b[1mMatcher\u001b[0m( \u001b[36m<- tmp\u001b[0m )\n",
      "[08:23:01] lltk.model.matcher.\u001b[34m\u001b[1mMatcher\u001b[0m( \u001b[36m-> <lltk.model.matcher.MatcherModel object at 0x28db55040>\u001b[0m )\n",
      "[08:23:01] lltk.model.matcher.\u001b[34m\u001b[1madd_edge_to_graph\u001b[0m( \u001b[36m_tmp/author=Cusk/title=Outline --rdf:type--> _wikidata/Q50377310\u001b[0m )\n",
      "[08:23:01] lltk.model.matcher.\u001b[34m\u001b[1mmatch\u001b[0m( \u001b[36mMatching: BaseText(_tmp/author=Cusk/title=Outline) --> TextWikidataClass(_wikidata/Q50377310)\u001b[0m )\n",
      "[08:23:01] lltk.model.matcher.\u001b[34m\u001b[1madd_edge_to_graph\u001b[0m( \u001b[36m_tmp/author=Cusk/title=Outline --rdf:type--> _wikidata/Q50377310\u001b[0m )\n",
      "[08:23:01] lltk.model.matcher.\u001b[34m\u001b[1mmatch\u001b[0m( \u001b[36mMatching: BaseText(_tmp/author=Cusk/title=Outline) --> TextWikidataClass(_wikidata/Q50377310)\u001b[0m )\n",
      "[08:23:01] lltk.text.text.\u001b[34m\u001b[1madd_source\u001b[0m( \u001b[36mfound match: (None, None)\u001b[0m )\n",
      "[08:23:01] lltk.text.text.\u001b[34m\u001b[1madd_source\u001b[0m( \u001b[36madding source vice versa\u001b[0m )\n",
      "[08:23:01] lltk.model.matcher.\u001b[34m\u001b[1mMatcher\u001b[0m( \u001b[36m<- wikidata\u001b[0m )\n",
      "[08:23:01] lltk.model.matcher.\u001b[34m\u001b[1mMatcher\u001b[0m( \u001b[36m-> <lltk.model.matcher.MatcherModel object at 0x28dd07160>\u001b[0m )\n",
      "[08:23:01] lltk.model.matcher.\u001b[34m\u001b[1madd_edge_to_graph\u001b[0m( \u001b[36m_wikidata/Q50377310 --rdf:type--> _tmp/author=Cusk/title=Outline\u001b[0m )\n",
      "[08:23:01] lltk.model.matcher.\u001b[34m\u001b[1mmatch\u001b[0m( \u001b[36mMatching: TextWikidataClass(_wikidata/Q50377310) --> BaseText(_tmp/author=Cusk/title=Outline)\u001b[0m )\n",
      "[08:23:01] lltk.text.text.\u001b[34m\u001b[1madd_source\u001b[0m( \u001b[36mfound match: (None, None)\u001b[0m )\n",
      "[08:23:01] lltk.text.text.\u001b[34m\u001b[1madd_source\u001b[0m( \u001b[36mfound match: (None, None)\u001b[0m )\n",
      "[08:23:01] lltk.text.text.\u001b[34m\u001b[1madd_source\u001b[0m( \u001b[36madding source vice versa\u001b[0m )\n",
      "[08:23:01] lltk.text.text.\u001b[34m\u001b[1madd_source\u001b[0m( \u001b[36mfound match: (None, None)\u001b[0m )\n",
      "[08:23:01] lltk.text.text.\u001b[34m\u001b[1mText\u001b[0m( \u001b[36m<- id = _tmp/author=Cusk/title=Outline\u001b[0m )\n",
      "[08:23:01] lltk.text.text.\u001b[34m\u001b[1mText\u001b[0m( \u001b[36m<- addr = _tmp/author=Cusk/title=Outline\u001b[0m )\n",
      "[08:23:01] lltk.text.text.\u001b[34m\u001b[1mText\u001b[0m( \u001b[36m-> BaseText(_tmp/author=Cusk/title=Outline)\u001b[0m )\n",
      "[08:23:01] lltk.text.text.\u001b[34m\u001b[1mget_local_sources\u001b[0m( \u001b[36mfound source: BaseText(_tmp/author=Cusk/title=Outline)\u001b[0m )\n",
      "[08:23:01] lltk.text.text.\u001b[34m\u001b[1mmetadata\u001b[0m( \u001b[36madding metadata from source: BaseText(_tmp/author=Cusk/title=Outline)\u001b[0m )\n",
      "[08:23:01] lltk.text.text.\u001b[34m\u001b[1mcache\u001b[0m( \u001b[36mBaseText(_tmp/author=Cusk/title=Outline)\u001b[0m )\n",
      "[08:23:01] lltk.text.text.\u001b[34m\u001b[1mcache_json\u001b[0m( \u001b[36mcached text meta in json: /Users/ryan/lltk_data/corpora/tmp/texts/author=Cusk/title=Outline/meta.json\u001b[0m )\n",
      "[08:23:01] lltk.text.text.\u001b[34m\u001b[1mcache\u001b[0m( \u001b[36mTextWikidataClass(_wikidata/Q50377310)\u001b[0m )\n",
      "[08:23:01] lltk.text.text.\u001b[34m\u001b[1mcache_json\u001b[0m( \u001b[36mcached text meta in json: /Users/ryan/lltk_data/corpora/wikidata/texts/Q50377310/meta.json\u001b[0m )\n",
      "[08:23:01] lltk.text.text.\u001b[34m\u001b[1mText\u001b[0m( \u001b[36m<- id = _wikidata/Q50377310\u001b[0m )\n",
      "[08:23:01] lltk.text.text.\u001b[34m\u001b[1mText\u001b[0m( \u001b[36m<- addr = _wikidata/Q50377310\u001b[0m )\n",
      "[08:23:01] lltk.text.text.\u001b[34m\u001b[1mText\u001b[0m( \u001b[36m-> TextWikidataClass(_wikidata/Q50377310)\u001b[0m )\n",
      "[08:23:01] lltk.text.text.\u001b[34m\u001b[1mget_local_sources\u001b[0m( \u001b[36mfound source: TextWikidataClass(_wikidata/Q50377310)\u001b[0m )\n",
      "[08:23:01] lltk.text.text.\u001b[34m\u001b[1mmetadata\u001b[0m( \u001b[36madding metadata from source: TextWikidataClass(_wikidata/Q50377310)\u001b[0m )\n",
      "[08:23:01] lltk.text.text.\u001b[34m\u001b[1mcache\u001b[0m( \u001b[36mTextWikidataClass(_wikidata/Q50377310)\u001b[0m )\n",
      "[08:23:01] lltk.text.text.\u001b[34m\u001b[1mcache_json\u001b[0m( \u001b[36mcached text meta in json: /Users/ryan/lltk_data/corpora/wikidata/texts/Q50377310/meta.json\u001b[0m )\n",
      "[08:23:01] lltk.text.text.\u001b[34m\u001b[1mcache\u001b[0m( \u001b[36mBaseText(_tmp/author=Cusk/title=Outline)\u001b[0m )\n",
      "[08:23:01] lltk.text.text.\u001b[34m\u001b[1mcache_json\u001b[0m( \u001b[36mcached text meta in json: /Users/ryan/lltk_data/corpora/tmp/texts/author=Cusk/title=Outline/meta.json\u001b[0m )\n",
      "[08:23:01] lltk.model.matcher.\u001b[34m\u001b[1mcache_g_triples\u001b[0m( \u001b[36mcached graph to /Users/ryan/lltk_data/corpora/tmp/data/rels/triples.txt\u001b[0m )\n"
     ]
    },
    {
     "data": {
      "text/plain": [
       "TextWikidataClass(_wikidata/Q50377310)"
      ]
     },
     "execution_count": 8,
     "metadata": {},
     "output_type": "execute_result"
    }
   ],
   "source": [
    "t.wiki"
   ]
  },
  {
   "cell_type": "code",
   "execution_count": null,
   "metadata": {},
   "outputs": [],
   "source": []
  }
 ],
 "metadata": {
  "interpreter": {
   "hash": "99c3488a746bccd77b7949f8f419451e1c962da56ebbaaae6e4d2e6c8c07eaa0"
  },
  "kernelspec": {
   "display_name": "Python 3.9.7 ('base')",
   "language": "python",
   "name": "python3"
  },
  "language_info": {
   "codemirror_mode": {
    "name": "ipython",
    "version": 3
   },
   "file_extension": ".py",
   "mimetype": "text/x-python",
   "name": "python",
   "nbconvert_exporter": "python",
   "pygments_lexer": "ipython3",
   "version": "3.9.7"
  },
  "orig_nbformat": 4
 },
 "nbformat": 4,
 "nbformat_minor": 2
}

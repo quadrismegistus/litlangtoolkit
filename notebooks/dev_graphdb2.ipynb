{
 "cells": [
  {
   "cell_type": "code",
   "execution_count": 1,
   "metadata": {},
   "outputs": [],
   "source": [
    "import sys; sys.path.insert(0,'../../yapmap')\n",
    "import sys; sys.path.insert(0,'..')\n",
    "from lltk import *\n",
    "# log.verbose=2"
   ]
  },
  {
   "cell_type": "code",
   "execution_count": 2,
   "metadata": {},
   "outputs": [
    {
     "data": {
      "text/plain": [
       "[BaseText(_tmp/author=Joyce/title=Ulysses/v3),\n",
       " BaseText(_tmp/author=Joyce/title=Ulysses/v5),\n",
       " BaseText(_tmp/author=Joyce/title=Ulysses/v4),\n",
       " BaseText(_tmp/author=Joyce/title=Ulysses/v6),\n",
       " TextWikidataClass(_wikidata/Q6511),\n",
       " BaseText(_tmp/author=Joyce/title=Ulysses/v2)]"
      ]
     },
     "execution_count": 2,
     "metadata": {},
     "output_type": "execute_result"
    }
   ],
   "source": [
    "t=Text(title='Ulysses',author='Joyce')#,_new=True)\n",
    "t.qstr, t.au, t.shorttitle\n",
    "t.get_matches()"
   ]
  },
  {
   "cell_type": "code",
   "execution_count": 3,
   "metadata": {},
   "outputs": [
    {
     "name": "stderr",
     "output_type": "stream",
     "text": [
      "[16:27:23] lltk.text.text.\u001b[34m\u001b[1mget_local_sources\u001b[0m( \u001b[36mget_sources(sofar = None, recursive = False, **kwargs\u001b[0m )\n",
      "[16:27:23] lltk.text.text.\u001b[34m\u001b[1mText\u001b[0m( \u001b[36m<- id = _tmp/author=Joyce/title=Ulysses/v3\u001b[0m )\n",
      "[16:27:23] lltk.text.text.\u001b[34m\u001b[1mText\u001b[0m( \u001b[36m<- addr = _tmp/author=Joyce/title=Ulysses/v3\u001b[0m )\n",
      "[16:27:23] lltk.text.text.\u001b[34m\u001b[1mText\u001b[0m( \u001b[36mfound in `TEXT_CACHE`\u001b[0m )\n",
      "[16:27:23] lltk.text.text.\u001b[34m\u001b[1mText\u001b[0m( \u001b[36m-> BaseText(_tmp/author=Joyce/title=Ulysses/v3)\u001b[0m )\n",
      "[16:27:23] lltk.text.text.\u001b[34m\u001b[1mText\u001b[0m( \u001b[36m<- id = _tmp/author=Joyce/title=Ulysses/v5\u001b[0m )\n",
      "[16:27:23] lltk.text.text.\u001b[34m\u001b[1mText\u001b[0m( \u001b[36m<- addr = _tmp/author=Joyce/title=Ulysses/v5\u001b[0m )\n",
      "[16:27:23] lltk.text.text.\u001b[34m\u001b[1mText\u001b[0m( \u001b[36mfound in `TEXT_CACHE`\u001b[0m )\n",
      "[16:27:23] lltk.text.text.\u001b[34m\u001b[1mText\u001b[0m( \u001b[36m-> BaseText(_tmp/author=Joyce/title=Ulysses/v5)\u001b[0m )\n",
      "[16:27:23] lltk.text.text.\u001b[34m\u001b[1mText\u001b[0m( \u001b[36m<- id = _tmp/author=Joyce/title=Ulysses/v4\u001b[0m )\n",
      "[16:27:23] lltk.text.text.\u001b[34m\u001b[1mText\u001b[0m( \u001b[36m<- addr = _tmp/author=Joyce/title=Ulysses/v4\u001b[0m )\n",
      "[16:27:23] lltk.text.text.\u001b[34m\u001b[1mText\u001b[0m( \u001b[36mfound in `TEXT_CACHE`\u001b[0m )\n",
      "[16:27:23] lltk.text.text.\u001b[34m\u001b[1mText\u001b[0m( \u001b[36m-> BaseText(_tmp/author=Joyce/title=Ulysses/v4)\u001b[0m )\n",
      "[16:27:23] lltk.text.text.\u001b[34m\u001b[1mText\u001b[0m( \u001b[36m<- id = _tmp/author=Joyce/title=Ulysses/v6\u001b[0m )\n",
      "[16:27:23] lltk.text.text.\u001b[34m\u001b[1mText\u001b[0m( \u001b[36m<- addr = _tmp/author=Joyce/title=Ulysses/v6\u001b[0m )\n",
      "[16:27:23] lltk.text.text.\u001b[34m\u001b[1mText\u001b[0m( \u001b[36mfound in `TEXT_CACHE`\u001b[0m )\n",
      "[16:27:23] lltk.text.text.\u001b[34m\u001b[1mText\u001b[0m( \u001b[36m-> BaseText(_tmp/author=Joyce/title=Ulysses/v6)\u001b[0m )\n",
      "[16:27:23] lltk.text.text.\u001b[34m\u001b[1mText\u001b[0m( \u001b[36m<- id = _wikidata/Q6511\u001b[0m )\n",
      "[16:27:23] lltk.text.text.\u001b[34m\u001b[1mText\u001b[0m( \u001b[36m<- addr = _wikidata/Q6511\u001b[0m )\n",
      "[16:27:23] lltk.text.text.\u001b[34m\u001b[1mText\u001b[0m( \u001b[36mCorpus( wikidata ).text( Q6511 ) ->\u001b[0m )\n",
      "[16:27:23] lltk.corpus.corpus.\u001b[34m\u001b[1mCorpus\u001b[0m( \u001b[36m<- id = wikidata\u001b[0m )\n",
      "[16:27:23] lltk.corpus.corpus.\u001b[34m\u001b[1mCorpus\u001b[0m( \u001b[36m-> WikidataCorpus(wikidata)\u001b[0m )\n",
      "[16:27:23] lltk.corpus.corpus.\u001b[34m\u001b[1mtext\u001b[0m( \u001b[36m<- id = Q6511, corpus = WikidataCorpus(wikidata)\u001b[0m )\n",
      "[16:27:23] lltk.corpus.corpus.\u001b[34m\u001b[1mget_text_id\u001b[0m( \u001b[36m<- id = Q6511, corpus = WikidataCorpus(wikidata)\u001b[0m )\n",
      "[16:27:23] lltk.corpus.corpus.\u001b[34m\u001b[1mget_text_id\u001b[0m( \u001b[36m-> Q6511\u001b[0m )\n",
      "[16:27:23] lltk.corpus.corpus.\u001b[34m\u001b[1mget_text\u001b[0m( \u001b[36m<- id = Q6511\u001b[0m )\n",
      "[16:27:23] lltk.corpus.corpus.\u001b[34m\u001b[1mget_text\u001b[0m( \u001b[36m-> TextWikidataClass(_wikidata/Q6511)\u001b[0m )\n",
      "[16:27:23] lltk.corpus.corpus.\u001b[34m\u001b[1mtext\u001b[0m( \u001b[36m-> TextWikidataClass(_wikidata/Q6511)\u001b[0m )\n",
      "[16:27:23] lltk.text.text.\u001b[34m\u001b[1mText\u001b[0m( \u001b[36m-> TextWikidataClass(_wikidata/Q6511)\u001b[0m )\n",
      "[16:27:23] lltk.text.text.\u001b[34m\u001b[1mText\u001b[0m( \u001b[36m<- id = _tmp/author=Joyce/title=Ulysses/v2\u001b[0m )\n",
      "[16:27:23] lltk.text.text.\u001b[34m\u001b[1mText\u001b[0m( \u001b[36m<- addr = _tmp/author=Joyce/title=Ulysses/v2\u001b[0m )\n",
      "[16:27:23] lltk.text.text.\u001b[34m\u001b[1mText\u001b[0m( \u001b[36mfound in `TEXT_CACHE`\u001b[0m )\n",
      "[16:27:23] lltk.text.text.\u001b[34m\u001b[1mText\u001b[0m( \u001b[36m-> BaseText(_tmp/author=Joyce/title=Ulysses/v2)\u001b[0m )\n",
      "[16:27:23] lltk.text.text.\u001b[34m\u001b[1mget_local_sources\u001b[0m( \u001b[36mmatches = {BaseText(_tmp/author=Joyce/title=Ulysses/v3), BaseText(_tmp/author=Joyce/title=Ulysses/v5), BaseText(_tmp/author=Joyce/title=Ulysses/v4), BaseText(_tmp/author=Joyce/title=Ulysses/v6), TextWikidataClass(_wikidata/Q6511), BaseText(_tmp/author=Joyce/title=Ulysses/v2)}\u001b[0m )\n",
      "[16:27:23] lltk.text.text.\u001b[34m\u001b[1mget_local_sources\u001b[0m( \u001b[36mmissing symlink: BaseText(_tmp/author=Joyce/title=Ulysses/v3)\u001b[0m )\n",
      "[16:27:23] lltk.text.text.\u001b[31m\u001b[1msymlink\u001b[0m( \u001b[36mnot exist 1: /Users/ryan/lltk_data/corpora/tmp/texts/author=Joyce/title=Ulysses/_sources/../v3\u001b[0m )\n",
      "[16:27:23] lltk.text.text.\u001b[34m\u001b[1mget_local_sources\u001b[0m( \u001b[36mmissing symlink: BaseText(_tmp/author=Joyce/title=Ulysses/v4)\u001b[0m )\n",
      "[16:27:23] lltk.text.text.\u001b[31m\u001b[1msymlink\u001b[0m( \u001b[36mnot exist 1: /Users/ryan/lltk_data/corpora/tmp/texts/author=Joyce/title=Ulysses/_sources/../v4\u001b[0m )\n",
      "[16:27:23] lltk.text.text.\u001b[34m\u001b[1mget_local_sources\u001b[0m( \u001b[36mmissing symlink: BaseText(_tmp/author=Joyce/title=Ulysses/v6)\u001b[0m )\n",
      "[16:27:23] lltk.text.text.\u001b[31m\u001b[1msymlink\u001b[0m( \u001b[36mnot exist 1: /Users/ryan/lltk_data/corpora/tmp/texts/author=Joyce/title=Ulysses/_sources/../v6\u001b[0m )\n",
      "[16:27:23] lltk.text.text.\u001b[34m\u001b[1mget_local_sources\u001b[0m( \u001b[36mmissing symlink: BaseText(_tmp/author=Joyce/title=Ulysses/v5)\u001b[0m )\n",
      "[16:27:23] lltk.text.text.\u001b[31m\u001b[1msymlink\u001b[0m( \u001b[36mnot exist 1: /Users/ryan/lltk_data/corpora/tmp/texts/author=Joyce/title=Ulysses/_sources/../v5\u001b[0m )\n",
      "[16:27:23] lltk.text.text.\u001b[34m\u001b[1mget_local_sources\u001b[0m( \u001b[36mmissing symlink: TextWikidataClass(_wikidata/Q6511)\u001b[0m )\n",
      "[16:27:23] lltk.text.text.\u001b[34m\u001b[1msymlink\u001b[0m( \u001b[36m/Users/ryan/lltk_data/corpora/tmp/texts/author=Joyce/title=Ulysses/_sources/_wikidata__Q6511 --> ../../../../../wikidata/texts/Q6511\u001b[0m )\n",
      "[16:27:23] lltk.text.text.\u001b[34m\u001b[1mget_local_sources\u001b[0m( \u001b[36mmissing symlink: BaseText(_tmp/author=Joyce/title=Ulysses/v2)\u001b[0m )\n",
      "[16:27:23] lltk.text.text.\u001b[31m\u001b[1msymlink\u001b[0m( \u001b[36mnot exist 1: /Users/ryan/lltk_data/corpora/tmp/texts/author=Joyce/title=Ulysses/_sources/../v2\u001b[0m )\n",
      "[16:27:23] lltk.text.text.\u001b[34m\u001b[1mget_local_sources\u001b[0m( \u001b[36m-> {BaseText(_tmp/author=Joyce/title=Ulysses/v3), BaseText(_tmp/author=Joyce/title=Ulysses/v4), BaseText(_tmp/author=Joyce/title=Ulysses/v6), BaseText(_tmp/author=Joyce/title=Ulysses/v5), TextWikidataClass(_wikidata/Q6511), BaseText(_tmp/author=Joyce/title=Ulysses/v2)}\u001b[0m )\n"
     ]
    }
   ],
   "source": [
    "with log.v: t.get_local_sources()"
   ]
  },
  {
   "cell_type": "code",
   "execution_count": 4,
   "metadata": {},
   "outputs": [],
   "source": [
    "# %%timeit\n",
    "# t.get_sources_symlinked()"
   ]
  },
  {
   "cell_type": "code",
   "execution_count": 5,
   "metadata": {},
   "outputs": [],
   "source": [
    "# with log: x=C.text_from(t,force=True)\n",
    "# x"
   ]
  },
  {
   "cell_type": "code",
   "execution_count": 6,
   "metadata": {},
   "outputs": [],
   "source": [
    "# t.sources"
   ]
  },
  {
   "cell_type": "code",
   "execution_count": null,
   "metadata": {},
   "outputs": [],
   "source": []
  },
  {
   "cell_type": "code",
   "execution_count": null,
   "metadata": {},
   "outputs": [],
   "source": []
  },
  {
   "cell_type": "code",
   "execution_count": 7,
   "metadata": {},
   "outputs": [
    {
     "ename": "NameError",
     "evalue": "name 'get_sources_symlinked' is not defined",
     "output_type": "error",
     "traceback": [
      "\u001b[0;31m---------------------------------------------------------------------------\u001b[0m",
      "\u001b[0;31mNameError\u001b[0m                                 Traceback (most recent call last)",
      "\u001b[1;32m/Users/ryan/github/lltk/notebooks/dev_graphdb2.ipynb Cell 9'\u001b[0m in \u001b[0;36m<cell line: 1>\u001b[0;34m()\u001b[0m\n\u001b[0;32m----> <a href='vscode-notebook-cell:/Users/ryan/github/lltk/notebooks/dev_graphdb2.ipynb#ch0000024?line=0'>1</a>\u001b[0m get_sources_symlinked(t)\n",
      "\u001b[0;31mNameError\u001b[0m: name 'get_sources_symlinked' is not defined"
     ]
    }
   ],
   "source": [
    "get_sources_symlinked(t)"
   ]
  },
  {
   "cell_type": "code",
   "execution_count": null,
   "metadata": {},
   "outputs": [
    {
     "ename": "IndentationError",
     "evalue": "expected an indented block (3421427734.py, line 1)",
     "output_type": "error",
     "traceback": [
      "\u001b[0;36m  Input \u001b[0;32mIn [41]\u001b[0;36m\u001b[0m\n\u001b[0;31m    def get_sources(self,remote=False,cache=True,**kwargs):\u001b[0m\n\u001b[0m                                                           ^\u001b[0m\n\u001b[0;31mIndentationError\u001b[0m\u001b[0;31m:\u001b[0m expected an indented block\n"
     ]
    }
   ],
   "source": []
  },
  {
   "cell_type": "code",
   "execution_count": null,
   "metadata": {},
   "outputs": [
    {
     "name": "stderr",
     "output_type": "stream",
     "text": [
      "[15:31:59] lltk.model.matcher.\u001b[34m\u001b[1mMatcher\u001b[0m( \u001b[36m<- tmp\u001b[0m )\n",
      "[15:31:59] lltk.model.matcher.\u001b[34m\u001b[1minit_g_triples\u001b[0m( \u001b[36mread graph from /Users/ryan/lltk_data/corpora/tmp/data/rels/triples.txt\u001b[0m )\n",
      "[15:31:59] lltk.model.matcher.\u001b[34m\u001b[1mMatcher\u001b[0m( \u001b[36m-> <lltk.model.matcher.MatcherModel object at 0x16a23b910>\u001b[0m )\n",
      "[15:31:59] lltk.text.text.\u001b[34m\u001b[1mText\u001b[0m( \u001b[36m<- id = _tmp/author=Joyce/title=Ulysses/v4\u001b[0m )\n",
      "[15:31:59] lltk.text.text.\u001b[34m\u001b[1mText\u001b[0m( \u001b[36m<- addr = _tmp/author=Joyce/title=Ulysses/v4\u001b[0m )\n",
      "[15:31:59] lltk.corpus.corpus.\u001b[34m\u001b[1mCorpus\u001b[0m( \u001b[36m<- id = tmp\u001b[0m )\n",
      "[15:31:59] lltk.corpus.corpus.\u001b[34m\u001b[1mCorpus\u001b[0m( \u001b[36m-> BaseCorpus(tmp)\u001b[0m )\n",
      "[15:31:59] lltk.corpus.corpus.\u001b[34m\u001b[1mtext\u001b[0m( \u001b[36m<- id = author=Joyce/title=Ulysses/v4, corpus = BaseCorpus(tmp)\u001b[0m )\n",
      "[15:31:59] lltk.corpus.corpus.\u001b[34m\u001b[1mget_text_id\u001b[0m( \u001b[36m<- id = author=Joyce/title=Ulysses/v4, corpus = BaseCorpus(tmp)\u001b[0m )\n",
      "[15:31:59] lltk.corpus.corpus.\u001b[34m\u001b[1mget_text_id\u001b[0m( \u001b[36m-> author=Joyce/title=Ulysses/v4\u001b[0m )\n",
      "[15:31:59] lltk.corpus.corpus.\u001b[34m\u001b[1minit_text\u001b[0m( \u001b[36m<- id = author=Joyce/title=Ulysses/v4, corpus = BaseCorpus(tmp)\u001b[0m )\n",
      "[15:31:59] lltk.text.text.\u001b[34m\u001b[1m__init__\u001b[0m( \u001b[36m<- id = author=Joyce/title=Ulysses/v4, corpus = BaseCorpus(tmp)\u001b[0m )\n",
      "[15:31:59] lltk.text.text.\u001b[34m\u001b[1m__init__\u001b[0m( \u001b[36mBaseText(id = author=Joyce/title=Ulysses/v4, corpus = BaseCorpus(tmp))\u001b[0m )\n",
      "[15:31:59] lltk.corpus.corpus.\u001b[34m\u001b[1minit_text\u001b[0m( \u001b[36m-> BaseText(_tmp/author=Joyce/title=Ulysses/v4)\u001b[0m )\n",
      "[15:31:59] lltk.corpus.corpus.\u001b[34m\u001b[1mtext\u001b[0m( \u001b[36m-> BaseText(_tmp/author=Joyce/title=Ulysses/v4)\u001b[0m )\n",
      "[15:31:59] lltk.text.text.\u001b[34m\u001b[1mText\u001b[0m( \u001b[36m-> BaseText(_tmp/author=Joyce/title=Ulysses/v4)\u001b[0m )\n",
      "[15:31:59] lltk.text.text.\u001b[34m\u001b[1mText\u001b[0m( \u001b[36m<- id = _tmp/author=Joyce/title=Ulysses/v3\u001b[0m )\n",
      "[15:31:59] lltk.text.text.\u001b[34m\u001b[1mText\u001b[0m( \u001b[36m<- addr = _tmp/author=Joyce/title=Ulysses/v3\u001b[0m )\n",
      "[15:31:59] lltk.corpus.corpus.\u001b[34m\u001b[1mCorpus\u001b[0m( \u001b[36m<- id = tmp\u001b[0m )\n",
      "[15:31:59] lltk.corpus.corpus.\u001b[34m\u001b[1mCorpus\u001b[0m( \u001b[36m-> BaseCorpus(tmp)\u001b[0m )\n",
      "[15:31:59] lltk.corpus.corpus.\u001b[34m\u001b[1mtext\u001b[0m( \u001b[36m<- id = author=Joyce/title=Ulysses/v3, corpus = BaseCorpus(tmp)\u001b[0m )\n",
      "[15:31:59] lltk.corpus.corpus.\u001b[34m\u001b[1mget_text_id\u001b[0m( \u001b[36m<- id = author=Joyce/title=Ulysses/v3, corpus = BaseCorpus(tmp)\u001b[0m )\n",
      "[15:31:59] lltk.corpus.corpus.\u001b[34m\u001b[1mget_text_id\u001b[0m( \u001b[36m-> author=Joyce/title=Ulysses/v3\u001b[0m )\n",
      "[15:31:59] lltk.corpus.corpus.\u001b[34m\u001b[1minit_text\u001b[0m( \u001b[36m<- id = author=Joyce/title=Ulysses/v3, corpus = BaseCorpus(tmp)\u001b[0m )\n",
      "[15:31:59] lltk.text.text.\u001b[34m\u001b[1m__init__\u001b[0m( \u001b[36m<- id = author=Joyce/title=Ulysses/v3, corpus = BaseCorpus(tmp)\u001b[0m )\n",
      "[15:31:59] lltk.text.text.\u001b[34m\u001b[1m__init__\u001b[0m( \u001b[36mBaseText(id = author=Joyce/title=Ulysses/v3, corpus = BaseCorpus(tmp))\u001b[0m )\n",
      "[15:31:59] lltk.corpus.corpus.\u001b[34m\u001b[1minit_text\u001b[0m( \u001b[36m-> BaseText(_tmp/author=Joyce/title=Ulysses/v3)\u001b[0m )\n",
      "[15:31:59] lltk.corpus.corpus.\u001b[34m\u001b[1mtext\u001b[0m( \u001b[36m-> BaseText(_tmp/author=Joyce/title=Ulysses/v3)\u001b[0m )\n",
      "[15:31:59] lltk.text.text.\u001b[34m\u001b[1mText\u001b[0m( \u001b[36m-> BaseText(_tmp/author=Joyce/title=Ulysses/v3)\u001b[0m )\n",
      "[15:31:59] lltk.text.text.\u001b[34m\u001b[1mText\u001b[0m( \u001b[36m<- id = _tmp/author=Joyce/title=Ulysses\u001b[0m )\n",
      "[15:31:59] lltk.text.text.\u001b[34m\u001b[1mText\u001b[0m( \u001b[36m<- addr = _tmp/author=Joyce/title=Ulysses\u001b[0m )\n",
      "[15:31:59] lltk.corpus.corpus.\u001b[34m\u001b[1mCorpus\u001b[0m( \u001b[36m<- id = tmp\u001b[0m )\n",
      "[15:31:59] lltk.corpus.corpus.\u001b[34m\u001b[1mCorpus\u001b[0m( \u001b[36m-> BaseCorpus(tmp)\u001b[0m )\n",
      "[15:31:59] lltk.corpus.corpus.\u001b[34m\u001b[1mtext\u001b[0m( \u001b[36m<- id = author=Joyce/title=Ulysses, corpus = BaseCorpus(tmp)\u001b[0m )\n",
      "[15:31:59] lltk.corpus.corpus.\u001b[34m\u001b[1mget_text_id\u001b[0m( \u001b[36m<- id = author=Joyce/title=Ulysses, corpus = BaseCorpus(tmp)\u001b[0m )\n",
      "[15:31:59] lltk.corpus.corpus.\u001b[34m\u001b[1mget_text_id\u001b[0m( \u001b[36m-> author=Joyce/title=Ulysses\u001b[0m )\n",
      "[15:31:59] lltk.corpus.corpus.\u001b[34m\u001b[1minit_text\u001b[0m( \u001b[36m<- id = author=Joyce/title=Ulysses, corpus = BaseCorpus(tmp)\u001b[0m )\n",
      "[15:31:59] lltk.text.text.\u001b[34m\u001b[1m__init__\u001b[0m( \u001b[36m<- id = author=Joyce/title=Ulysses, corpus = BaseCorpus(tmp)\u001b[0m )\n",
      "[15:31:59] lltk.text.text.\u001b[34m\u001b[1m__init__\u001b[0m( \u001b[36mBaseText(id = author=Joyce/title=Ulysses, corpus = BaseCorpus(tmp))\u001b[0m )\n",
      "[15:31:59] lltk.corpus.corpus.\u001b[34m\u001b[1minit_text\u001b[0m( \u001b[36m-> BaseText(_tmp/author=Joyce/title=Ulysses)\u001b[0m )\n",
      "[15:31:59] lltk.corpus.corpus.\u001b[34m\u001b[1mtext\u001b[0m( \u001b[36m-> BaseText(_tmp/author=Joyce/title=Ulysses)\u001b[0m )\n",
      "[15:31:59] lltk.text.text.\u001b[34m\u001b[1mText\u001b[0m( \u001b[36m-> BaseText(_tmp/author=Joyce/title=Ulysses)\u001b[0m )\n",
      "[15:31:59] lltk.text.text.\u001b[34m\u001b[1mText\u001b[0m( \u001b[36m<- id = _wikidata/Q6511\u001b[0m )\n",
      "[15:31:59] lltk.text.text.\u001b[34m\u001b[1mText\u001b[0m( \u001b[36m<- addr = _wikidata/Q6511\u001b[0m )\n",
      "[15:31:59] lltk.corpus.corpus.\u001b[34m\u001b[1mCorpus\u001b[0m( \u001b[36m<- id = wikidata\u001b[0m )\n",
      "[15:31:59] lltk.corpus.utils.\u001b[34m\u001b[1mload_corpus\u001b[0m( \u001b[36m<- id = wikidata\u001b[0m )\n",
      "[15:31:59] lltk.corpus.utils.\u001b[34m\u001b[1mload_corpus\u001b[0m( \u001b[36mImporting corpus class \"Wikidata\" from /Users/ryan/github/lltk/lltk/corpus/wikidata/wikidata.py\u001b[0m )\n",
      "[15:31:59] lltk.corpus.corpus.\u001b[34m\u001b[1m__init__\u001b[0m( \u001b[36mWikidata(wikidata)\u001b[0m )\n",
      "[15:31:59] lltk.corpus.utils.\u001b[34m\u001b[1mload_corpus\u001b[0m( \u001b[36m-> WikidataCorpus(wikidata)\u001b[0m )\n",
      "[15:31:59] lltk.corpus.corpus.\u001b[34m\u001b[1mCorpus\u001b[0m( \u001b[36m-> WikidataCorpus(wikidata)\u001b[0m )\n",
      "[15:31:59] lltk.corpus.corpus.\u001b[34m\u001b[1mtext\u001b[0m( \u001b[36m<- id = Q6511, corpus = WikidataCorpus(wikidata)\u001b[0m )\n",
      "[15:31:59] lltk.corpus.corpus.\u001b[34m\u001b[1mget_text_id\u001b[0m( \u001b[36m<- id = Q6511, corpus = WikidataCorpus(wikidata)\u001b[0m )\n",
      "[15:31:59] lltk.corpus.corpus.\u001b[34m\u001b[1mget_text_id\u001b[0m( \u001b[36m-> Q6511\u001b[0m )\n",
      "[15:31:59] lltk.corpus.corpus.\u001b[34m\u001b[1minit_text\u001b[0m( \u001b[36m<- id = Q6511, corpus = WikidataCorpus(wikidata)\u001b[0m )\n",
      "[15:31:59] lltk.text.text.\u001b[34m\u001b[1m__init__\u001b[0m( \u001b[36m<- id = Q6511, corpus = WikidataCorpus(wikidata)\u001b[0m )\n",
      "[15:31:59] lltk.text.text.\u001b[34m\u001b[1m__init__\u001b[0m( \u001b[36mTextWikidataClass(id = Q6511, corpus = WikidataCorpus(wikidata))\u001b[0m )\n",
      "[15:31:59] lltk.corpus.corpus.\u001b[34m\u001b[1minit_text\u001b[0m( \u001b[36m-> TextWikidataClass(_wikidata/Q6511)\u001b[0m )\n",
      "[15:31:59] lltk.corpus.corpus.\u001b[34m\u001b[1mtext\u001b[0m( \u001b[36m-> TextWikidataClass(_wikidata/Q6511)\u001b[0m )\n",
      "[15:31:59] lltk.text.text.\u001b[34m\u001b[1mText\u001b[0m( \u001b[36m-> TextWikidataClass(_wikidata/Q6511)\u001b[0m )\n",
      "[15:31:59] lltk.text.text.\u001b[34m\u001b[1mget_local_sources\u001b[0m( \u001b[36mfound source: BaseText(_tmp/author=Joyce/title=Ulysses)\u001b[0m )\n",
      "[15:31:59] lltk.text.text.\u001b[34m\u001b[1mget_local_sources\u001b[0m( \u001b[36mfound source: BaseText(_tmp/author=Joyce/title=Ulysses/v4)\u001b[0m )\n",
      "[15:31:59] lltk.text.text.\u001b[34m\u001b[1mget_local_sources\u001b[0m( \u001b[36mfound source: BaseText(_tmp/author=Joyce/title=Ulysses/v3)\u001b[0m )\n",
      "[15:31:59] lltk.text.text.\u001b[34m\u001b[1mget_local_sources\u001b[0m( \u001b[36mfound source: TextWikidataClass(_wikidata/Q6511)\u001b[0m )\n",
      "[15:31:59] lltk.model.wikidata.\u001b[34m\u001b[1mget_remote_sources\u001b[0m( \u001b[36m...\u001b[0m )\n",
      "[15:31:59] lltk.model.wikidata.\u001b[34m\u001b[1mwikidata\u001b[0m( \u001b[36m...\u001b[0m )\n",
      "[15:31:59] lltk.text.text.\u001b[34m\u001b[1mText\u001b[0m( \u001b[36m<- id = _tmp/author=Joyce/title=Ulysses/v4\u001b[0m )\n",
      "[15:31:59] lltk.text.text.\u001b[34m\u001b[1mText\u001b[0m( \u001b[36m<- addr = _tmp/author=Joyce/title=Ulysses/v4\u001b[0m )\n",
      "[15:31:59] lltk.text.text.\u001b[34m\u001b[1mText\u001b[0m( \u001b[36m-> BaseText(_tmp/author=Joyce/title=Ulysses/v4)\u001b[0m )\n",
      "[15:31:59] lltk.text.text.\u001b[34m\u001b[1mText\u001b[0m( \u001b[36m<- id = _tmp/author=Joyce/title=Ulysses/v3\u001b[0m )\n",
      "[15:31:59] lltk.text.text.\u001b[34m\u001b[1mText\u001b[0m( \u001b[36m<- addr = _tmp/author=Joyce/title=Ulysses/v3\u001b[0m )\n",
      "[15:31:59] lltk.text.text.\u001b[34m\u001b[1mText\u001b[0m( \u001b[36m-> BaseText(_tmp/author=Joyce/title=Ulysses/v3)\u001b[0m )\n",
      "[15:31:59] lltk.text.text.\u001b[34m\u001b[1mText\u001b[0m( \u001b[36m<- id = _tmp/author=Joyce/title=Ulysses\u001b[0m )\n",
      "[15:31:59] lltk.text.text.\u001b[34m\u001b[1mText\u001b[0m( \u001b[36m<- addr = _tmp/author=Joyce/title=Ulysses\u001b[0m )\n",
      "[15:31:59] lltk.text.text.\u001b[34m\u001b[1mText\u001b[0m( \u001b[36m-> BaseText(_tmp/author=Joyce/title=Ulysses)\u001b[0m )\n",
      "[15:31:59] lltk.text.text.\u001b[34m\u001b[1mText\u001b[0m( \u001b[36m<- id = _wikidata/Q6511\u001b[0m )\n",
      "[15:31:59] lltk.text.text.\u001b[34m\u001b[1mText\u001b[0m( \u001b[36m<- addr = _wikidata/Q6511\u001b[0m )\n",
      "[15:31:59] lltk.corpus.corpus.\u001b[34m\u001b[1mCorpus\u001b[0m( \u001b[36m<- id = wikidata\u001b[0m )\n",
      "[15:31:59] lltk.corpus.corpus.\u001b[34m\u001b[1mCorpus\u001b[0m( \u001b[36m-> WikidataCorpus(wikidata)\u001b[0m )\n",
      "[15:31:59] lltk.corpus.corpus.\u001b[34m\u001b[1mtext\u001b[0m( \u001b[36m<- id = Q6511, corpus = WikidataCorpus(wikidata)\u001b[0m )\n",
      "[15:31:59] lltk.corpus.corpus.\u001b[34m\u001b[1mget_text_id\u001b[0m( \u001b[36m<- id = Q6511, corpus = WikidataCorpus(wikidata)\u001b[0m )\n",
      "[15:31:59] lltk.corpus.corpus.\u001b[34m\u001b[1mget_text_id\u001b[0m( \u001b[36m-> Q6511\u001b[0m )\n",
      "[15:31:59] lltk.corpus.corpus.\u001b[34m\u001b[1mtext\u001b[0m( \u001b[36m-> TextWikidataClass(_wikidata/Q6511)\u001b[0m )\n",
      "[15:31:59] lltk.text.text.\u001b[34m\u001b[1mText\u001b[0m( \u001b[36m-> TextWikidataClass(_wikidata/Q6511)\u001b[0m )\n",
      "[15:31:59] lltk.text.text.\u001b[34m\u001b[1mget_local_sources\u001b[0m( \u001b[36mfound source: BaseText(_tmp/author=Joyce/title=Ulysses)\u001b[0m )\n",
      "[15:31:59] lltk.text.text.\u001b[34m\u001b[1mget_local_sources\u001b[0m( \u001b[36mfound source: BaseText(_tmp/author=Joyce/title=Ulysses/v4)\u001b[0m )\n",
      "[15:31:59] lltk.text.text.\u001b[34m\u001b[1mget_local_sources\u001b[0m( \u001b[36mfound source: BaseText(_tmp/author=Joyce/title=Ulysses/v3)\u001b[0m )\n",
      "[15:31:59] lltk.text.text.\u001b[34m\u001b[1mget_local_sources\u001b[0m( \u001b[36mfound source: TextWikidataClass(_wikidata/Q6511)\u001b[0m )\n",
      "[15:31:59] lltk.text.text.\u001b[34m\u001b[1mmetadata_from_sources\u001b[0m( \u001b[36madding metadata from source: TextWikidataClass(_wikidata/Q6511)\u001b[0m )\n"
     ]
    },
    {
     "data": {
      "text/plain": [
       "{'id': 'author=Joyce/title=Ulysses/v2',\n",
       " 'id__wikidata': 'Q6511',\n",
       " 'ausstage_work_id|P8294__wikidata': '3970',\n",
       " 'author': 'Joyce',\n",
       " 'author|P50__wikidata': 'James Joyce|Q6882',\n",
       " 'award_received|P166__wikidata': \"Le Monde's 100 Books of the Century|Q40734\",\n",
       " 'based_on|P144__wikidata': 'Odyssey|Q35160',\n",
       " 'biblioteca_nacional_de_espana_id|P950__wikidata': 'XX3383715',\n",
       " 'bibliotheque_nationale_de_france_id|P268__wikidata': '11943692j',\n",
       " 'bitraga_work_id|P6175__wikidata': ['5309', '4955'],\n",
       " 'bookbrainz_work_id|P7823__wikidata': 'fdcce91f-92e1-4e00-8045-e7187bd7ebe0',\n",
       " 'bookogs_work_id|P8211__wikidata': '405385',\n",
       " 'characters|P674__wikidata': ['Leopold Bloom|Q573988',\n",
       "  'Molly Bloom|Q2296791',\n",
       "  'Stephen Dedalus|Q543671',\n",
       "  'May Goulding Dedalus|Q16910626',\n",
       "  'Simon Dedalus|Q7518595',\n",
       "  'Milly Bloom|Q6860161',\n",
       "  'Buck Mulligan|Q4982905',\n",
       "  'Michael Cusack|Q1927217',\n",
       "  'George William Russell|Q366070',\n",
       "  'William Magee|Q18880357',\n",
       "  'Thomas William Lyster|Q1416892',\n",
       "  'Joseph Patrick Nannetti|Q1707785',\n",
       "  'Richard Irvine Best|Q7326690',\n",
       "  'David Sheehy|Q5239704',\n",
       "  'John Hooper|Q6239779',\n",
       "  'Tisdall Farrell|Q28575591',\n",
       "  'Haines|Q28601692',\n",
       "  'Martha Clifford|Q28602262',\n",
       "  'Garrett Deasy|Q16739979',\n",
       "  \"C. P. M'Coy|Q28602472\",\n",
       "  'Corny Kelleher (Ulysses character)|Q16910929',\n",
       "  'Jack Power (Ulysses character)|Q16919411',\n",
       "  'Martin Cunningham|Q16739992'],\n",
       " 'commons_category|P373__wikidata': 'Ulysses (James Joyce)',\n",
       " 'copyright_status|P6216__wikidata': ['public domain|Q19652',\n",
       "  'public domain|Q19652'],\n",
       " 'country_of_origin|P495__wikidata': ['France|Q142',\n",
       "  'United States of America|Q30',\n",
       "  'French Third Republic|Q70802',\n",
       "  'United Kingdom of Great Britain and Ireland|Q174193'],\n",
       " 'derivative_work|P4969__wikidata': ['Ulysses|Q820061', 'Bloom|Q4928147'],\n",
       " 'dewey_decimal_classification_(works_and_editions)|P8359__wikidata': '823.912',\n",
       " 'encyclopaedia_britannica_online_id|P1417__wikidata': 'topic/Ulysses-novel-by-Joyce',\n",
       " 'encyclopaedia_universalis_id|P3219__wikidata': 'ulysse-james-joyce',\n",
       " 'first_line|P1922__wikidata': 'Stately, plump Buck Mulligan came from the stairhead, bearing a bowl of lather on which a mirror and a razor lay crossed.',\n",
       " 'followed_by|P156__wikidata': 'Finnegans Wake|Q6507',\n",
       " 'follows|P155__wikidata': 'A Portrait of the Artist as a Young Man|Q465360',\n",
       " 'form_of_creative_work|P7937__wikidata': 'novel|Q8261',\n",
       " 'freebase_id|P646__wikidata': '/m/0f3dt',\n",
       " 'full_work_available_at_url|P953__wikidata': 'https://archive.org/stream/ulysses04300gut/ulyss12.txt',\n",
       " 'genre|P136__wikidata': ['modernist literature|Q971480',\n",
       "  'experimental literature|Q1384425',\n",
       "  'literary fiction|Q6647667',\n",
       "  'metafiction|Q531067',\n",
       "  'serialized fiction|Q1347298',\n",
       "  'autobiography|Q4184'],\n",
       " 'gnd_id|P227__wikidata': '4099246-9',\n",
       " 'gran_enciclopedia_catalana_id|P1296__wikidata': '0068263',\n",
       " 'has_edition_or_translation|P747__wikidata': ['Ulysses (2004 German translation)|Q15996608',\n",
       "  'Ulysses|Q19020726',\n",
       "  'Ulysses (1986)|Q28599480',\n",
       "  'Ulysses (1932)|Q28599496',\n",
       "  'Ulysses (1934)|Q28599520',\n",
       "  'Ulysses (1936)|Q28599521',\n",
       "  'Ulysses (1960)|Q28599523',\n",
       "  'Ulysses (1961)|Q28599525',\n",
       "  'Ulysses (1984)|Q28599531',\n",
       "  'Ulysses (2004)|Q28599849',\n",
       "  'Iliada|Q33182025',\n",
       "  'Ulysses (1935)|Q104191512'],\n",
       " 'has_part_or_parts|P527__wikidata': ['Telemachus|Q28601581',\n",
       "  'Nestor|Q28601624',\n",
       "  'Proteus|Q28601724',\n",
       "  'Calypso|Q28601800',\n",
       "  'Lotus-eaters|Q28602222',\n",
       "  'Hades|Q28602572',\n",
       "  'Aeolus|Q28602745',\n",
       "  'Lestrygonians|Q28647765',\n",
       "  'Scylla and Charybdis|Q28657069',\n",
       "  'Wandering Rocks|Q28709812',\n",
       "  'Sirens|Q56103204',\n",
       "  'Cyclops|Q56103151',\n",
       "  'Nausikaa|Q56103127',\n",
       "  'Oxen of the Sun|Q56103091',\n",
       "  'Circe|Q56103050',\n",
       "  'Eumaeus|Q56103019',\n",
       "  'Ithaca|Q56102932',\n",
       "  'Penelope|Q38138028'],\n",
       " 'idref_id|P269__wikidata': '027383113',\n",
       " 'image|P18__wikidata': 'UlyssesCover.jpg',\n",
       " 'inception|P571__wikidata': '+1914-00-00T00:00:00Z',\n",
       " 'inspired_by|P941__wikidata': 'Odyssey|Q35160',\n",
       " 'instance_of|P31__wikidata': 'literary work|Q7725634',\n",
       " 'label__wikidata': 'Ulysses',\n",
       " 'language_of_work_or_name|P407__wikidata': 'English|Q1860',\n",
       " 'last_line|P3132__wikidata': 'I said yes I will Yes.',\n",
       " 'library_of_congress_authority_id|P244__wikidata': 'n92029109',\n",
       " 'librarything_work_id|P1085__wikidata': ['21004298', '21004302'],\n",
       " 'modernist_commons_id|P9365__wikidata': '15',\n",
       " 'musicbrainz_work_id|P435__wikidata': '67e71930-7053-448a-8326-6917f683a4ea',\n",
       " 'narrative_location|P840__wikidata': ['Dublin|Q1761',\n",
       "  'James Joyce Tower and Museum|Q2062702',\n",
       "  'National Library of Ireland|Q1672830',\n",
       "  'Sandymount Strand|Q7417543',\n",
       "  'Glasnevin Cemetery|Q1263215',\n",
       "  \"Freeman's Journal|Q5500969\",\n",
       "  \"Davy Byrne's pub|Q5242183\",\n",
       "  'Dalkey|Q659895',\n",
       "  'Cabra (Dublin)|Q2088319',\n",
       "  'Grafton Street|Q135501',\n",
       "  \"O'Connell Bridge|Q1766409\",\n",
       "  \"Nelson's Pillar|Q2350741\",\n",
       "  'National Maternity Hospital, Dublin|Q13156901',\n",
       "  '#7 Eccles street|Q28601860'],\n",
       " 'national_diet_library_id|P349__wikidata': '00971887',\n",
       " 'national_library_of_israel_id_(old)|P949__wikidata': '001787167',\n",
       " 'national_library_of_israel_j9u_id|P8189__wikidata': '987007590322605171',\n",
       " 'ne.se_id|P3222__wikidata': 'odysseus-(joyce)',\n",
       " 'nkcr_aut_id|P691__wikidata': 'aun2006373019',\n",
       " 'nnl_item_id|P3959__wikidata': '001210300',\n",
       " 'number_of_parts_of_this_work|P2635__wikidata': {'amount': '+18',\n",
       "  'unit': 'http://www.wikidata.org/entity/Q1983062'},\n",
       " 'oclc_work_id|P5331__wikidata': '395796',\n",
       " 'open_library_id|P648__wikidata': 'OL86344W',\n",
       " 'project_gutenberg_ebook_id|P2034__wikidata': '4300',\n",
       " 'publication_date|P577__wikidata': '+1922-02-02T00:00:00Z',\n",
       " 'published_in|P1433__wikidata': 'The Little Review|Q17113018',\n",
       " 'publisher|P123__wikidata': ['Shakespeare and Company|Q1503157',\n",
       "  'Sylvia Beach|Q265562'],\n",
       " 'set_in_period|P2408__wikidata': 'June 1904|Q13066091',\n",
       " 'significant_event|P793__wikidata': ['Bloomsday|Q804551',\n",
       "  'Obscenity trial of Ulysses in The Little Review|Q16153541',\n",
       "  'United States v. One Book Called Ulysses|Q2895062'],\n",
       " 'svkkl_authority_id|P9322__wikidata': '0377445-Joyce-James-18821941',\n",
       " 'title': 'Ulysses',\n",
       " 'title|P1476__wikidata': 'Ulysses',\n",
       " 'topics_main_category|P910__wikidata': 'Category:Ulysses (novel)|Q8857597',\n",
       " 'viaf_id|P214__wikidata': '174999739',\n",
       " 'what__wikidata': 'literary work'}"
      ]
     },
     "execution_count": 2,
     "metadata": {},
     "output_type": "execute_result"
    }
   ],
   "source": [
    "with log: meta=t.metadata(remote=True)\n",
    "meta"
   ]
  },
  {
   "cell_type": "code",
   "execution_count": null,
   "metadata": {},
   "outputs": [
    {
     "data": {
      "text/plain": [
       "[BaseText(_tmp/author=Joyce/title=Ulysses/v4),\n",
       " BaseText(_tmp/author=Joyce/title=Ulysses/v3),\n",
       " BaseText(_tmp/author=Joyce/title=Ulysses),\n",
       " TextWikidataClass(_wikidata/Q6511)]"
      ]
     },
     "execution_count": 5,
     "metadata": {},
     "output_type": "execute_result"
    }
   ],
   "source": [
    "t.sources"
   ]
  },
  {
   "cell_type": "code",
   "execution_count": null,
   "metadata": {},
   "outputs": [],
   "source": [
    "def get_remote_sources(self,sources=None,wikidata=True,**kwargs):\n",
    "    if log>0: log('...')\n",
    "    sofar=set()\n",
    "    if wikidata:\n",
    "        wiki=self.wikidata(sources,**kwargs)\n",
    "        if wiki is not None:\n",
    "            sofar|={wiki}\n",
    "    return sofar - {self}\n"
   ]
  },
  {
   "cell_type": "code",
   "execution_count": null,
   "metadata": {},
   "outputs": [],
   "source": []
  },
  {
   "cell_type": "code",
   "execution_count": null,
   "metadata": {},
   "outputs": [],
   "source": []
  },
  {
   "cell_type": "code",
   "execution_count": null,
   "metadata": {},
   "outputs": [
    {
     "name": "stderr",
     "output_type": "stream",
     "text": [
      "[15:25:08] lltk.text.text.\u001b[34m\u001b[1mget_local_sources\u001b[0m( \u001b[36mget_sources(sofar = None, recursive = False, **kwargs\u001b[0m )\n",
      "[15:25:08] lltk.text.text.\u001b[34m\u001b[1mText\u001b[0m( \u001b[36m<- id = _wikidata/Q6511\u001b[0m )\n",
      "[15:25:08] lltk.text.text.\u001b[34m\u001b[1mText\u001b[0m( \u001b[36m<- addr = _wikidata/Q6511\u001b[0m )\n",
      "[15:25:08] lltk.text.text.\u001b[34m\u001b[1mText\u001b[0m( \u001b[36mfound in `TEXT_CACHE`\u001b[0m )\n",
      "[15:25:08] lltk.text.text.\u001b[34m\u001b[1mText\u001b[0m( \u001b[36m-> TextWikidataClass(_wikidata/Q6511)\u001b[0m )\n",
      "[15:25:08] lltk.text.text.\u001b[34m\u001b[1mget_local_sources\u001b[0m( \u001b[36mMy _sources:\u001b[0m )\n",
      "[15:25:08] lltk.text.text.\u001b[34m\u001b[1mget_local_sources\u001b[0m( \u001b[36mfound source: TextWikidataClass(_wikidata/Q6511)\u001b[0m )\n",
      "[15:25:08] lltk.model.matcher.\u001b[34m\u001b[1mcache_g_triples\u001b[0m( \u001b[36mcached graph to /Users/ryan/lltk_data/corpora/tmp/data/rels/triples.txt\u001b[0m )\n",
      "[15:25:08] lltk.text.text.\u001b[34m\u001b[1msymlink\u001b[0m( \u001b[36m/Users/ryan/lltk_data/corpora/tmp/texts/author=Joyce/title=Ulysses/_sources/_wikidata__Q6511 --> ../../../../../wikidata/texts/Q6511\u001b[0m )\n"
     ]
    }
   ],
   "source": [
    "with log: t.symlink(t.source,force=True)"
   ]
  },
  {
   "cell_type": "code",
   "execution_count": null,
   "metadata": {},
   "outputs": [
    {
     "data": {
      "text/plain": [
       "{'id__wikidata': 'Q6511',\n",
       " 'ausstage_work_id|P8294__wikidata': '3970',\n",
       " 'author|P50__wikidata': 'James Joyce|Q6882',\n",
       " 'award_received|P166__wikidata': \"Le Monde's 100 Books of the Century|Q40734\",\n",
       " 'based_on|P144__wikidata': 'Odyssey|Q35160',\n",
       " 'biblioteca_nacional_de_espana_id|P950__wikidata': 'XX3383715',\n",
       " 'bibliotheque_nationale_de_france_id|P268__wikidata': '11943692j',\n",
       " 'bitraga_work_id|P6175__wikidata': ['5309', '4955'],\n",
       " 'bookbrainz_work_id|P7823__wikidata': 'fdcce91f-92e1-4e00-8045-e7187bd7ebe0',\n",
       " 'bookogs_work_id|P8211__wikidata': '405385',\n",
       " 'characters|P674__wikidata': ['Leopold Bloom|Q573988',\n",
       "  'Molly Bloom|Q2296791',\n",
       "  'Stephen Dedalus|Q543671',\n",
       "  'May Goulding Dedalus|Q16910626',\n",
       "  'Simon Dedalus|Q7518595',\n",
       "  'Milly Bloom|Q6860161',\n",
       "  'Buck Mulligan|Q4982905',\n",
       "  'Michael Cusack|Q1927217',\n",
       "  'George William Russell|Q366070',\n",
       "  'William Magee|Q18880357',\n",
       "  'Thomas William Lyster|Q1416892',\n",
       "  'Joseph Patrick Nannetti|Q1707785',\n",
       "  'Richard Irvine Best|Q7326690',\n",
       "  'David Sheehy|Q5239704',\n",
       "  'John Hooper|Q6239779',\n",
       "  'Tisdall Farrell|Q28575591',\n",
       "  'Haines|Q28601692',\n",
       "  'Martha Clifford|Q28602262',\n",
       "  'Garrett Deasy|Q16739979',\n",
       "  \"C. P. M'Coy|Q28602472\",\n",
       "  'Corny Kelleher (Ulysses character)|Q16910929',\n",
       "  'Jack Power (Ulysses character)|Q16919411',\n",
       "  'Martin Cunningham|Q16739992'],\n",
       " 'commons_category|P373__wikidata': 'Ulysses (James Joyce)',\n",
       " 'copyright_status|P6216__wikidata': ['public domain|Q19652',\n",
       "  'public domain|Q19652'],\n",
       " 'country_of_origin|P495__wikidata': ['France|Q142',\n",
       "  'United States of America|Q30',\n",
       "  'French Third Republic|Q70802',\n",
       "  'United Kingdom of Great Britain and Ireland|Q174193'],\n",
       " 'derivative_work|P4969__wikidata': ['Ulysses|Q820061', 'Bloom|Q4928147'],\n",
       " 'dewey_decimal_classification_(works_and_editions)|P8359__wikidata': '823.912',\n",
       " 'encyclopaedia_britannica_online_id|P1417__wikidata': 'topic/Ulysses-novel-by-Joyce',\n",
       " 'encyclopaedia_universalis_id|P3219__wikidata': 'ulysse-james-joyce',\n",
       " 'first_line|P1922__wikidata': 'Stately, plump Buck Mulligan came from the stairhead, bearing a bowl of lather on which a mirror and a razor lay crossed.',\n",
       " 'followed_by|P156__wikidata': 'Finnegans Wake|Q6507',\n",
       " 'follows|P155__wikidata': 'A Portrait of the Artist as a Young Man|Q465360',\n",
       " 'form_of_creative_work|P7937__wikidata': 'novel|Q8261',\n",
       " 'freebase_id|P646__wikidata': '/m/0f3dt',\n",
       " 'full_work_available_at_url|P953__wikidata': 'https://archive.org/stream/ulysses04300gut/ulyss12.txt',\n",
       " 'genre|P136__wikidata': ['modernist literature|Q971480',\n",
       "  'experimental literature|Q1384425',\n",
       "  'literary fiction|Q6647667',\n",
       "  'metafiction|Q531067',\n",
       "  'serialized fiction|Q1347298',\n",
       "  'autobiography|Q4184'],\n",
       " 'gnd_id|P227__wikidata': '4099246-9',\n",
       " 'gran_enciclopedia_catalana_id|P1296__wikidata': '0068263',\n",
       " 'has_edition_or_translation|P747__wikidata': ['Ulysses (2004 German translation)|Q15996608',\n",
       "  'Ulysses|Q19020726',\n",
       "  'Ulysses (1986)|Q28599480',\n",
       "  'Ulysses (1932)|Q28599496',\n",
       "  'Ulysses (1934)|Q28599520',\n",
       "  'Ulysses (1936)|Q28599521',\n",
       "  'Ulysses (1960)|Q28599523',\n",
       "  'Ulysses (1961)|Q28599525',\n",
       "  'Ulysses (1984)|Q28599531',\n",
       "  'Ulysses (2004)|Q28599849',\n",
       "  'Iliada|Q33182025',\n",
       "  'Ulysses (1935)|Q104191512'],\n",
       " 'has_part_or_parts|P527__wikidata': ['Telemachus|Q28601581',\n",
       "  'Nestor|Q28601624',\n",
       "  'Proteus|Q28601724',\n",
       "  'Calypso|Q28601800',\n",
       "  'Lotus-eaters|Q28602222',\n",
       "  'Hades|Q28602572',\n",
       "  'Aeolus|Q28602745',\n",
       "  'Lestrygonians|Q28647765',\n",
       "  'Scylla and Charybdis|Q28657069',\n",
       "  'Wandering Rocks|Q28709812',\n",
       "  'Sirens|Q56103204',\n",
       "  'Cyclops|Q56103151',\n",
       "  'Nausikaa|Q56103127',\n",
       "  'Oxen of the Sun|Q56103091',\n",
       "  'Circe|Q56103050',\n",
       "  'Eumaeus|Q56103019',\n",
       "  'Ithaca|Q56102932',\n",
       "  'Penelope|Q38138028'],\n",
       " 'idref_id|P269__wikidata': '027383113',\n",
       " 'image|P18__wikidata': 'UlyssesCover.jpg',\n",
       " 'inception|P571__wikidata': '+1914-00-00T00:00:00Z',\n",
       " 'inspired_by|P941__wikidata': 'Odyssey|Q35160',\n",
       " 'instance_of|P31__wikidata': 'literary work|Q7725634',\n",
       " 'label__wikidata': 'Ulysses',\n",
       " 'language_of_work_or_name|P407__wikidata': 'English|Q1860',\n",
       " 'last_line|P3132__wikidata': 'I said yes I will Yes.',\n",
       " 'library_of_congress_authority_id|P244__wikidata': 'n92029109',\n",
       " 'librarything_work_id|P1085__wikidata': ['21004298', '21004302'],\n",
       " 'modernist_commons_id|P9365__wikidata': '15',\n",
       " 'musicbrainz_work_id|P435__wikidata': '67e71930-7053-448a-8326-6917f683a4ea',\n",
       " 'narrative_location|P840__wikidata': ['Dublin|Q1761',\n",
       "  'James Joyce Tower and Museum|Q2062702',\n",
       "  'National Library of Ireland|Q1672830',\n",
       "  'Sandymount Strand|Q7417543',\n",
       "  'Glasnevin Cemetery|Q1263215',\n",
       "  \"Freeman's Journal|Q5500969\",\n",
       "  \"Davy Byrne's pub|Q5242183\",\n",
       "  'Dalkey|Q659895',\n",
       "  'Cabra (Dublin)|Q2088319',\n",
       "  'Grafton Street|Q135501',\n",
       "  \"O'Connell Bridge|Q1766409\",\n",
       "  \"Nelson's Pillar|Q2350741\",\n",
       "  'National Maternity Hospital, Dublin|Q13156901',\n",
       "  '#7 Eccles street|Q28601860'],\n",
       " 'national_diet_library_id|P349__wikidata': '00971887',\n",
       " 'national_library_of_israel_id_(old)|P949__wikidata': '001787167',\n",
       " 'national_library_of_israel_j9u_id|P8189__wikidata': '987007590322605171',\n",
       " 'ne.se_id|P3222__wikidata': 'odysseus-(joyce)',\n",
       " 'nkcr_aut_id|P691__wikidata': 'aun2006373019',\n",
       " 'nnl_item_id|P3959__wikidata': '001210300',\n",
       " 'number_of_parts_of_this_work|P2635__wikidata': {'amount': '+18',\n",
       "  'unit': 'http://www.wikidata.org/entity/Q1983062'},\n",
       " 'oclc_work_id|P5331__wikidata': '395796',\n",
       " 'open_library_id|P648__wikidata': 'OL86344W',\n",
       " 'project_gutenberg_ebook_id|P2034__wikidata': '4300',\n",
       " 'publication_date|P577__wikidata': '+1922-02-02T00:00:00Z',\n",
       " 'published_in|P1433__wikidata': 'The Little Review|Q17113018',\n",
       " 'publisher|P123__wikidata': ['Shakespeare and Company|Q1503157',\n",
       "  'Sylvia Beach|Q265562'],\n",
       " 'set_in_period|P2408__wikidata': 'June 1904|Q13066091',\n",
       " 'significant_event|P793__wikidata': ['Bloomsday|Q804551',\n",
       "  'Obscenity trial of Ulysses in The Little Review|Q16153541',\n",
       "  'United States v. One Book Called Ulysses|Q2895062'],\n",
       " 'svkkl_authority_id|P9322__wikidata': '0377445-Joyce-James-18821941',\n",
       " 'title|P1476__wikidata': 'Ulysses',\n",
       " 'topics_main_category|P910__wikidata': 'Category:Ulysses (novel)|Q8857597',\n",
       " 'viaf_id|P214__wikidata': '174999739',\n",
       " 'what__wikidata': 'literary work'}"
      ]
     },
     "execution_count": 4,
     "metadata": {},
     "output_type": "execute_result"
    }
   ],
   "source": [
    "next(t.init_cache_json_sources_iter())"
   ]
  },
  {
   "cell_type": "code",
   "execution_count": null,
   "metadata": {},
   "outputs": [
    {
     "ename": "NameError",
     "evalue": "name 'stop' is not defined",
     "output_type": "error",
     "traceback": [
      "\u001b[0;31m---------------------------------------------------------------------------\u001b[0m",
      "\u001b[0;31mNameError\u001b[0m                                 Traceback (most recent call last)",
      "\u001b[1;32m/Users/ryan/github/lltk/notebooks/dev_graphdb2.ipynb Cell 7'\u001b[0m in \u001b[0;36m<cell line: 1>\u001b[0;34m()\u001b[0m\n\u001b[0;32m----> <a href='vscode-notebook-cell:/Users/ryan/github/lltk/notebooks/dev_graphdb2.ipynb#ch0000016?line=0'>1</a>\u001b[0m stop\n",
      "\u001b[0;31mNameError\u001b[0m: name 'stop' is not defined"
     ]
    }
   ],
   "source": [
    "stop"
   ]
  },
  {
   "cell_type": "code",
   "execution_count": null,
   "metadata": {},
   "outputs": [],
   "source": [
    "# db = DB(engine='zodb')\n",
    "# db.open()\n",
    "# db.__dict__"
   ]
  },
  {
   "cell_type": "code",
   "execution_count": null,
   "metadata": {},
   "outputs": [],
   "source": [
    "# class LLGraph(): pass \n",
    "# # llg = LLGraph()\n",
    "# # db.set('llg2',llg)\n",
    "# llg = db.get('llg2')"
   ]
  },
  {
   "cell_type": "code",
   "execution_count": null,
   "metadata": {},
   "outputs": [
    {
     "name": "stdout",
     "output_type": "stream",
     "text": [
      "3.97 ms ± 264 µs per loop (mean ± std. dev. of 7 runs, 100 loops each)\n"
     ]
    }
   ],
   "source": [
    "%%timeit\n",
    "with log.quiet: M.init_g_triples()"
   ]
  },
  {
   "cell_type": "code",
   "execution_count": null,
   "metadata": {},
   "outputs": [],
   "source": [
    "class LLGraph():\n",
    "    "
   ]
  },
  {
   "cell_type": "code",
   "execution_count": null,
   "metadata": {},
   "outputs": [],
   "source": [
    "db.get(llg)"
   ]
  },
  {
   "cell_type": "code",
   "execution_count": null,
   "metadata": {},
   "outputs": [
    {
     "data": {
      "text/plain": [
       "False"
      ]
     },
     "execution_count": 9,
     "metadata": {},
     "output_type": "execute_result"
    }
   ],
   "source": [
    "llg._p_oid == id1"
   ]
  },
  {
   "cell_type": "code",
   "execution_count": null,
   "metadata": {},
   "outputs": [
    {
     "ename": "AttributeError",
     "evalue": "'LLDBZodb' object has no attribute 'commit'",
     "output_type": "error",
     "traceback": [
      "\u001b[0;31m---------------------------------------------------------------------------\u001b[0m",
      "\u001b[0;31mAttributeError\u001b[0m                            Traceback (most recent call last)",
      "\u001b[1;32m/Users/ryan/github/lltk/notebooks/dev_graphdb.ipynb Cell 6'\u001b[0m in \u001b[0;36m<cell line: 1>\u001b[0;34m()\u001b[0m\n\u001b[0;32m----> <a href='vscode-notebook-cell:/Users/ryan/github/lltk/notebooks/dev_graphdb.ipynb#ch0000012?line=0'>1</a>\u001b[0m db\u001b[39m.\u001b[39;49mcommit()\n",
      "\u001b[0;31mAttributeError\u001b[0m: 'LLDBZodb' object has no attribute 'commit'"
     ]
    }
   ],
   "source": [
    "db.commit()"
   ]
  },
  {
   "cell_type": "code",
   "execution_count": null,
   "metadata": {},
   "outputs": [],
   "source": []
  }
 ],
 "metadata": {
  "interpreter": {
   "hash": "99c3488a746bccd77b7949f8f419451e1c962da56ebbaaae6e4d2e6c8c07eaa0"
  },
  "kernelspec": {
   "display_name": "Python 3.9.7 ('base')",
   "language": "python",
   "name": "python3"
  },
  "language_info": {
   "codemirror_mode": {
    "name": "ipython",
    "version": 3
   },
   "file_extension": ".py",
   "mimetype": "text/x-python",
   "name": "python",
   "nbconvert_exporter": "python",
   "pygments_lexer": "ipython3",
   "version": "3.9.7"
  },
  "orig_nbformat": 4
 },
 "nbformat": 4,
 "nbformat_minor": 2
}

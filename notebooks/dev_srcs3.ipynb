{
 "cells": [
  {
   "cell_type": "code",
   "execution_count": 1,
   "metadata": {},
   "outputs": [],
   "source": [
    "import sys; sys.path.insert(0,'../../yapmap')\n",
    "import sys; sys.path.insert(0,'..')\n",
    "from lltk import *\n",
    "log.show()"
   ]
  },
  {
   "cell_type": "code",
   "execution_count": 2,
   "metadata": {},
   "outputs": [],
   "source": [
    "with log.quiet:\n",
    "    t = Text(title=\"Moon is a Harsh Mistress\", author=\"Heinlein\")\n",
    "    C = Corpus('hathi')"
   ]
  },
  {
   "cell_type": "code",
   "execution_count": 3,
   "metadata": {},
   "outputs": [
    {
     "name": "stderr",
     "output_type": "stream",
     "text": [
      "[12:06:06] lltk.corpus.corpus.\u001b[34m\u001b[1mtext\u001b[0m( \u001b[36m<- id = BaseText(_tmp/author=Heinlein/title=Moon_is_a_Harsh_Mistress), corpus = HathiCorpus(hathi)\u001b[0m )\n",
      "[12:06:06] lltk.corpus.corpus.\u001b[34m\u001b[1mtext\u001b[0m( \u001b[36mis_textish id = BaseText(_tmp/author=Heinlein/title=Moon_is_a_Harsh_Mistress)\u001b[0m )\n",
      "[12:06:06] hathi.\u001b[34m\u001b[1mget_text_id\u001b[0m( \u001b[36m<- id = BaseText(_tmp/author=Heinlein/title=Moon_is_a_Harsh_Mistress), source = BaseText(_tmp/author=Heinlein/title=Moon_is_a_Harsh_Mistress), kwargs = {'_new': False})\u001b[0m )\n",
      "[12:06:06] hathi.\u001b[34m\u001b[1mquery_for_ids\u001b[0m( \u001b[36m<- BaseText(_tmp/author=Heinlein/title=Moon_is_a_Harsh_Mistress)\u001b[0m )\n",
      "[12:06:06] hathi.\u001b[34m\u001b[1mquery_for_ids\u001b[0m( \u001b[36m<- https://catalog.hathitrust.org/Search/Home?adv=1&lookfor%5B%5D=Heinlein&type%5B%5D=author&bool%5B%5D=AND&lookfor%5B%5D=Moon+Is+A+Harsh+Mistress&type%5B%5D=title&bool%5B%5D=AND&yop=after&page=1&pagesize=100\u001b[0m )\n",
      "[12:06:07] hathi.\u001b[34m\u001b[1mquery_for_ids\u001b[0m( \u001b[36mfound result on website (5 records)\u001b[0m )\n",
      "[12:06:07] hathi.\u001b[34m\u001b[1mquery_for_ids\u001b[0m( \u001b[36m-> ['000241743', '000782881', '001028638', '007143577', '009919229']\u001b[0m )\n",
      "[12:06:07] hathi.\u001b[34m\u001b[1mget_text_id\u001b[0m( \u001b[36m-> htrn/000241743\u001b[0m )\n",
      "[12:06:07] lltk.corpus.corpus.\u001b[34m\u001b[1minit_text\u001b[0m( \u001b[36m<- id = htrn/000241743, corpus = HathiCorpus(hathi), source = BaseText(_tmp/author=Heinlein/title=Moon_is_a_Harsh_Mistress)\u001b[0m )\n",
      "[12:06:07] lltk.text.text.\u001b[34m\u001b[1m__init__\u001b[0m( \u001b[36m<- id = htrn/000241743, corpus = HathiCorpus(hathi), source = BaseText(_tmp/author=Heinlein/title=Moon_is_a_Harsh_Mistress)\u001b[0m )\n",
      "[12:06:07] lltk.text.text.\u001b[34m\u001b[1m__init__\u001b[0m( \u001b[36mTextHathi(id = htrn/000241743, corpus = HathiCorpus(hathi), source = BaseText(_tmp/author=Heinlein/title=Moon_is_a_Harsh_Mistress))\u001b[0m )\n",
      "[12:06:07] lltk.text.text.\u001b[34m\u001b[1m__init__\u001b[0m( \u001b[36m! BaseText(_tmp/author=Heinlein/title=Moon_is_a_Harsh_Mistress)\u001b[0m )\n",
      "[12:06:07] lltk.text.text.\u001b[34m\u001b[1m__init__\u001b[0m( \u001b[36mLoaded source! BaseText(_tmp/author=Heinlein/title=Moon_is_a_Harsh_Mistress)\u001b[0m )\n",
      "[12:06:07] lltk.model.matcher.\u001b[34m\u001b[1mMatcher\u001b[0m( \u001b[36m<- hathi\u001b[0m )\n",
      "[12:06:07] lltk.model.matcher.\u001b[34m\u001b[1minit_g_triples\u001b[0m( \u001b[36mread graph from /Users/ryan/lltk_data/corpora/hathi/data/rels/triples.txt\u001b[0m )\n",
      "[12:06:07] lltk.model.matcher.\u001b[34m\u001b[1mMatcher\u001b[0m( \u001b[36m-> <lltk.model.matcher.MatcherModel object at 0x16bef07c0>\u001b[0m )\n",
      "[12:06:07] lltk.model.matcher.\u001b[34m\u001b[1mcache_g_triples\u001b[0m( \u001b[36mcached graph to /Users/ryan/lltk_data/corpora/hathi/data/rels/triples.txt\u001b[0m )\n",
      "[12:06:07] lltk.model.matcher.\u001b[34m\u001b[1mcache_g_triples\u001b[0m( \u001b[36mcached graph to /Users/ryan/lltk_data/data/rels/triples.txt\u001b[0m )\n",
      "[12:06:07] lltk.text.text.\u001b[34m\u001b[1madd_source\u001b[0m( \u001b[36mfound match: (True, True)\u001b[0m )\n",
      "[12:06:07] lltk.text.text.\u001b[34m\u001b[1madd_source\u001b[0m( \u001b[36madding source vice versa\u001b[0m )\n",
      "[12:06:07] lltk.model.matcher.\u001b[34m\u001b[1mMatcher\u001b[0m( \u001b[36m<- tmp\u001b[0m )\n",
      "[12:06:08] lltk.model.matcher.\u001b[34m\u001b[1minit_g_triples\u001b[0m( \u001b[36mread graph from /Users/ryan/lltk_data/corpora/tmp/data/rels/triples.txt\u001b[0m )\n",
      "[12:06:08] lltk.model.matcher.\u001b[34m\u001b[1mMatcher\u001b[0m( \u001b[36m-> <lltk.model.matcher.MatcherModel object at 0x16bef0a00>\u001b[0m )\n",
      "[12:06:08] lltk.model.matcher.\u001b[34m\u001b[1mcache_g_triples\u001b[0m( \u001b[36mcached graph to /Users/ryan/lltk_data/corpora/tmp/data/rels/triples.txt\u001b[0m )\n",
      "[12:06:08] lltk.text.text.\u001b[34m\u001b[1madd_source\u001b[0m( \u001b[36mfound match: (True, None)\u001b[0m )\n",
      "[12:06:08] lltk.text.text.\u001b[34m\u001b[1m__init__\u001b[0m( \u001b[36mTextHathi(_hathi/htrn/000241743) has sources: [BaseText(_tmp/author=Heinlein/title=Moon_is_a_Harsh_Mistress)]\u001b[0m )\n",
      "[12:06:08] lltk.corpus.corpus.\u001b[34m\u001b[1minit_text\u001b[0m( \u001b[36m-> TextHathi(_hathi/htrn/000241743)\u001b[0m )\n",
      "[12:06:08] lltk.text.text.\u001b[34m\u001b[1mcache\u001b[0m( \u001b[36mTextHathiRecord(_hathi/htrn/000241743)\u001b[0m )\n",
      "[12:06:08] lltk.text.text.\u001b[34m\u001b[1mcache_json\u001b[0m( \u001b[36mcached text meta in json: /Users/ryan/lltk_data/corpora/hathi/texts/htrn/000241743/meta.json\u001b[0m )\n",
      "[12:06:08] lltk.corpus.corpus.\u001b[34m\u001b[1mtext\u001b[0m( \u001b[36m-> TextHathiRecord(_hathi/htrn/000241743)\u001b[0m )\n"
     ]
    }
   ],
   "source": [
    "ht = C.text(t)"
   ]
  },
  {
   "cell_type": "code",
   "execution_count": 7,
   "metadata": {},
   "outputs": [
    {
     "name": "stderr",
     "output_type": "stream",
     "text": [
      "[12:06:38] lltk.text.text.\u001b[34m\u001b[1mText\u001b[0m( \u001b[36m<- id = _hathi/htid/mdp.39015040086160\u001b[0m )\n",
      "[12:06:38] lltk.text.text.\u001b[34m\u001b[1mText\u001b[0m( \u001b[36m<- addr = _hathi/htid/mdp.39015040086160\u001b[0m )\n",
      "[12:06:38] lltk.text.text.\u001b[34m\u001b[1mText\u001b[0m( \u001b[36m-> TextHathiVolume(_hathi/htid/mdp.39015040086160)\u001b[0m )\n",
      "[12:06:38] lltk.text.text.\u001b[34m\u001b[1mText\u001b[0m( \u001b[36m<- id = _tmp/author=Heinlein/title=Moon_is_a_Harsh_Mistress\u001b[0m )\n",
      "[12:06:38] lltk.text.text.\u001b[34m\u001b[1mText\u001b[0m( \u001b[36m<- addr = _tmp/author=Heinlein/title=Moon_is_a_Harsh_Mistress\u001b[0m )\n",
      "[12:06:38] lltk.text.text.\u001b[34m\u001b[1mText\u001b[0m( \u001b[36m-> BaseText(_tmp/author=Heinlein/title=Moon_is_a_Harsh_Mistress)\u001b[0m )\n",
      "[12:06:38] lltk.text.text.\u001b[34m\u001b[1mget_local_sources\u001b[0m( \u001b[36mfound source: TextHathiVolume(_hathi/htid/mdp.39015040086160)\u001b[0m )\n",
      "[12:06:38] lltk.text.text.\u001b[34m\u001b[1mget_local_sources\u001b[0m( \u001b[36mfound source: BaseText(_tmp/author=Heinlein/title=Moon_is_a_Harsh_Mistress)\u001b[0m )\n",
      "[12:06:38] lltk.model.wikidata.\u001b[34m\u001b[1mget_remote_sources\u001b[0m( \u001b[36m...\u001b[0m )\n",
      "[12:06:38] lltk.text.text.\u001b[34m\u001b[1mText\u001b[0m( \u001b[36m<- id = _hathi/htid/mdp.39015040086160\u001b[0m )\n",
      "[12:06:38] lltk.text.text.\u001b[34m\u001b[1mText\u001b[0m( \u001b[36m<- addr = _hathi/htid/mdp.39015040086160\u001b[0m )\n",
      "[12:06:38] lltk.text.text.\u001b[34m\u001b[1mText\u001b[0m( \u001b[36m-> TextHathiVolume(_hathi/htid/mdp.39015040086160)\u001b[0m )\n",
      "[12:06:38] lltk.text.text.\u001b[34m\u001b[1mText\u001b[0m( \u001b[36m<- id = _tmp/author=Heinlein/title=Moon_is_a_Harsh_Mistress\u001b[0m )\n",
      "[12:06:38] lltk.text.text.\u001b[34m\u001b[1mText\u001b[0m( \u001b[36m<- addr = _tmp/author=Heinlein/title=Moon_is_a_Harsh_Mistress\u001b[0m )\n",
      "[12:06:38] lltk.text.text.\u001b[34m\u001b[1mText\u001b[0m( \u001b[36m-> BaseText(_tmp/author=Heinlein/title=Moon_is_a_Harsh_Mistress)\u001b[0m )\n",
      "[12:06:38] lltk.text.text.\u001b[34m\u001b[1mget_local_sources\u001b[0m( \u001b[36mfound source: TextHathiVolume(_hathi/htid/mdp.39015040086160)\u001b[0m )\n",
      "[12:06:38] lltk.text.text.\u001b[34m\u001b[1mget_local_sources\u001b[0m( \u001b[36mfound source: BaseText(_tmp/author=Heinlein/title=Moon_is_a_Harsh_Mistress)\u001b[0m )\n",
      "[12:06:38] lltk.text.text.\u001b[34m\u001b[1mmetadata\u001b[0m( \u001b[36madding metadata from source: TextHathiVolume(_hathi/htid/mdp.39015040086160)\u001b[0m )\n",
      "[12:06:38] lltk.text.text.\u001b[34m\u001b[1mcache\u001b[0m( \u001b[36mTextHathiVolume(_hathi/htid/mdp.39015040086160)\u001b[0m )\n",
      "[12:06:38] lltk.text.text.\u001b[34m\u001b[1mcache_json\u001b[0m( \u001b[36mcached text meta in json: /Users/ryan/lltk_data/corpora/hathi/texts/htid/mdp.39015040086160/meta.json\u001b[0m )\n"
     ]
    },
    {
     "data": {
      "text/plain": [
       "{'id': 'htrn/000241743',\n",
       " 'id__hathi': 'htid/mdp.39015040086160',\n",
       " 'access_profile': 'google',\n",
       " 'access_rights': 'ic',\n",
       " 'author': 'Heinlein, Robert A. (Robert Anson), 1907-1988.',\n",
       " 'contributor': 'Heinlein, Robert A. (Robert Anson), 1907-1988.',\n",
       " 'contributor_ld': {'id': 'http://www.viaf.org/viaf/12309757',\n",
       "  'type': 'http://id.loc.gov/ontologies/bibframe/Person',\n",
       "  'name': 'Heinlein, Robert A. (Robert Anson), 1907-1988.'},\n",
       " 'date_created': 20200209,\n",
       " 'default_page_section': 'body',\n",
       " 'feature_schema_version': 'https://schemas.hathitrust.org/EF_Schema_FeaturesSubSchema_v_3.0',\n",
       " 'genre': ['document (computer)', 'fiction'],\n",
       " 'genre_ld': ['http://id.loc.gov/vocabulary/marcgt/doc',\n",
       "  'http://id.loc.gov/vocabulary/marcgt/fic'],\n",
       " 'handle_url': 'http://hdl.handle.net/2027/mdp.39015040086160',\n",
       " 'htid': 'mdp.39015040086160',\n",
       " 'isbn': '0425062627',\n",
       " 'isbns': ['9780425062623', '9780425062623'],\n",
       " 'language': 'eng',\n",
       " 'last_rights_update_date': 20180830,\n",
       " 'main_entity_of_page': ['https://catalog.hathitrust.org/Record/000241743',\n",
       "  'http://catalog.hathitrust.org/api/volumes/brief/oclc/9772210.json',\n",
       "  'http://catalog.hathitrust.org/api/volumes/full/oclc/9772210.json'],\n",
       " 'metadata_schema_version': 'https://schemas.hathitrust.org/EF_Schema_MetadataSubSchema_v_3.0',\n",
       " 'num_vols': 1,\n",
       " 'oclc': '9772210',\n",
       " 'page_count': 310,\n",
       " 'pub_date': 1983,\n",
       " 'pub_place': 'New York (State)',\n",
       " 'pub_place_ld': {'id': 'http://id.loc.gov/vocabulary/countries/nyu',\n",
       "  'type': 'http://id.loc.gov/ontologies/bibframe/Place',\n",
       "  'name': 'New York (State)'},\n",
       " 'publishDate': '1983',\n",
       " 'publisher': 'Berkley Books',\n",
       " 'publisher_ld': {'id': 'http://catalogdata.library.illinois.edu/lod/entities/ProvisionActivityAgent/ht/Berkley%20Books',\n",
       "  'type': 'http://id.loc.gov/ontologies/bibframe/Organization',\n",
       "  'name': 'Berkley Books'},\n",
       " 'recordURL': 'https://catalog.hathitrust.org/Record/000241743',\n",
       " 'source_institution': 'MIU',\n",
       " 'source_institution_ld': {'type': 'http://id.loc.gov/ontologies/bibframe/Organization',\n",
       "  'name': 'MIU'},\n",
       " 'title': 'The moon is a harsh mistress /',\n",
       " 'type': ['DataFeedItem', 'Book'],\n",
       " 'type_of_resource': 'http://id.loc.gov/ontologies/bibframe/Text',\n",
       " 'year': 1983}"
      ]
     },
     "execution_count": 7,
     "metadata": {},
     "output_type": "execute_result"
    }
   ],
   "source": [
    "ht.metadata(remote=True)"
   ]
  },
  {
   "cell_type": "code",
   "execution_count": 10,
   "metadata": {},
   "outputs": [
    {
     "name": "stderr",
     "output_type": "stream",
     "text": [
      "[12:06:54] lltk.text.text.\u001b[34m\u001b[1mText\u001b[0m( \u001b[36m<- id = _hathi/htid/mdp.39015040086160\u001b[0m )\n",
      "[12:06:54] lltk.text.text.\u001b[34m\u001b[1mText\u001b[0m( \u001b[36m<- addr = _hathi/htid/mdp.39015040086160\u001b[0m )\n",
      "[12:06:54] lltk.text.text.\u001b[34m\u001b[1mText\u001b[0m( \u001b[36m-> TextHathiVolume(_hathi/htid/mdp.39015040086160)\u001b[0m )\n",
      "[12:06:54] lltk.text.text.\u001b[34m\u001b[1mText\u001b[0m( \u001b[36m<- id = _hathi/htrn/000241743\u001b[0m )\n",
      "[12:06:54] lltk.text.text.\u001b[34m\u001b[1mText\u001b[0m( \u001b[36m<- addr = _hathi/htrn/000241743\u001b[0m )\n",
      "[12:06:54] lltk.text.text.\u001b[34m\u001b[1mText\u001b[0m( \u001b[36m-> TextHathiRecord(_hathi/htrn/000241743)\u001b[0m )\n",
      "[12:06:54] lltk.text.text.\u001b[34m\u001b[1mget_local_sources\u001b[0m( \u001b[36mfound source: TextHathiVolume(_hathi/htid/mdp.39015040086160)\u001b[0m )\n",
      "[12:06:54] lltk.text.text.\u001b[34m\u001b[1mget_local_sources\u001b[0m( \u001b[36mfound source: TextHathiRecord(_hathi/htrn/000241743)\u001b[0m )\n",
      "[12:06:54] lltk.model.wikidata.\u001b[34m\u001b[1mget_remote_sources\u001b[0m( \u001b[36m...\u001b[0m )\n",
      "[12:06:54] lltk.model.wikidata.\u001b[34m\u001b[1mwikidata\u001b[0m( \u001b[36m...\u001b[0m )\n",
      "[12:06:54] lltk.corpus.corpus.\u001b[34m\u001b[1mCorpus\u001b[0m( \u001b[36m<- id = wikidata\u001b[0m )\n",
      "[12:06:54] lltk.corpus.corpus.\u001b[34m\u001b[1mCorpus\u001b[0m( \u001b[36m-> WikidataCorpus(wikidata)\u001b[0m )\n",
      "[12:06:54] lltk.corpus.corpus.\u001b[34m\u001b[1mtext\u001b[0m( \u001b[36m<- id = Q0, corpus = WikidataCorpus(wikidata)\u001b[0m )\n",
      "[12:06:54] lltk.corpus.corpus.\u001b[34m\u001b[1mget_text_id\u001b[0m( \u001b[36m<- id = Q0, corpus = WikidataCorpus(wikidata)\u001b[0m )\n",
      "[12:06:54] lltk.corpus.corpus.\u001b[34m\u001b[1mget_text_id\u001b[0m( \u001b[36m-> Q0\u001b[0m )\n",
      "[12:06:54] lltk.corpus.corpus.\u001b[34m\u001b[1mtext\u001b[0m( \u001b[36m-> TextWikidataClass(_wikidata/Q0)\u001b[0m )\n",
      "[12:06:54] lltk.text.text.\u001b[33m\u001b[1mget_ish\u001b[0m( \u001b[36mmore than one metadata key begins with \"title\": title, title__hathi. Using key: \"title\".\u001b[0m )\n",
      "[12:06:54] lltk.text.text.\u001b[33m\u001b[1mget_ish\u001b[0m( \u001b[36mmore than one metadata key begins with \"author\": author, author__hathi. Using key: \"author\".\u001b[0m )\n",
      "[12:06:54] lltk.model.wikidata.\u001b[34m\u001b[1mquery_get_wikidata_id\u001b[0m( \u001b[36mQuerying for ID: Moon Is A Harsh Mistress Heinlein\u001b[0m )\n",
      "[12:06:54] lltk.model.wikidata.\u001b[34m\u001b[1mquery_set_db\u001b[0m( \u001b[36mset result in db for \"Moon Is A Harsh Mistress Heinlein\": ['Q1410482']\u001b[0m )\n",
      "[12:06:54] lltk.corpus.corpus.\u001b[34m\u001b[1mCorpus\u001b[0m( \u001b[36m<- id = wikidata\u001b[0m )\n",
      "[12:06:54] lltk.corpus.corpus.\u001b[34m\u001b[1mCorpus\u001b[0m( \u001b[36m-> WikidataCorpus(wikidata)\u001b[0m )\n",
      "[12:06:54] lltk.model.wikidata.\u001b[34m\u001b[1mquery_get_wikidata_id\u001b[0m( \u001b[36mqid_meta from db: 33 keys\u001b[0m )\n",
      "[12:06:54] lltk.corpus.corpus.\u001b[34m\u001b[1mCorpus\u001b[0m( \u001b[36m<- id = wikidata\u001b[0m )\n",
      "[12:06:54] lltk.corpus.corpus.\u001b[34m\u001b[1mCorpus\u001b[0m( \u001b[36m-> WikidataCorpus(wikidata)\u001b[0m )\n",
      "[12:06:54] lltk.corpus.corpus.\u001b[34m\u001b[1mtext\u001b[0m( \u001b[36m<- id = Q1410482, corpus = WikidataCorpus(wikidata), kwargs = {'author|P50': 'Robert A. Heinlein|Q123078', 'award_received|P166': ['Hugo Award for Best Novel|Q255)\u001b[0m )\n",
      "[12:06:54] lltk.corpus.corpus.\u001b[34m\u001b[1mget_text_id\u001b[0m( \u001b[36m<- id = Q1410482, corpus = WikidataCorpus(wikidata), kwargs = {'author|P50': 'Robert A. Heinlein|Q123078', 'award_received|P166': ['Hugo Award for Best Novel|Q255)\u001b[0m )\n",
      "[12:06:54] lltk.corpus.corpus.\u001b[34m\u001b[1mget_text_id\u001b[0m( \u001b[36m-> Q1410482\u001b[0m )\n",
      "[12:06:54] lltk.corpus.corpus.\u001b[34m\u001b[1minit_text\u001b[0m( \u001b[36m<- id = Q1410482, corpus = WikidataCorpus(wikidata), kwargs = {'author|P50': 'Robert A. Heinlein|Q123078', 'award_received|P166': ['Hugo Award for Best Novel|Q255)\u001b[0m )\n",
      "[12:06:54] lltk.text.text.\u001b[34m\u001b[1m__init__\u001b[0m( \u001b[36m<- id = Q1410482, corpus = WikidataCorpus(wikidata), kwargs = {'author|P50': 'Robert A. Heinlein|Q123078', 'award_received|P166': ['Hugo Award for Best Novel|Q255)\u001b[0m )\n",
      "[12:06:54] lltk.text.text.\u001b[34m\u001b[1m__init__\u001b[0m( \u001b[36mTextWikidataClass(id = Q1410482, corpus = WikidataCorpus(wikidata), kwargs = {'author|P50': 'Robert A. Heinlein|Q123078', 'award_received|P166': ['Hugo Award for Best Novel|Q255))\u001b[0m )\n",
      "[12:06:54] lltk.corpus.corpus.\u001b[34m\u001b[1minit_text\u001b[0m( \u001b[36m-> TextWikidataClass(_wikidata/Q1410482)\u001b[0m )\n",
      "[12:06:54] lltk.text.text.\u001b[34m\u001b[1mcache\u001b[0m( \u001b[36mTextWikidataClass(_wikidata/Q1410482)\u001b[0m )\n",
      "[12:06:54] lltk.text.text.\u001b[34m\u001b[1mcache_json\u001b[0m( \u001b[36mcached text meta in json: /Users/ryan/lltk_data/corpora/wikidata/texts/Q1410482/meta.json\u001b[0m )\n",
      "[12:06:54] lltk.corpus.corpus.\u001b[34m\u001b[1mtext\u001b[0m( \u001b[36m-> TextWikidataClass(_wikidata/Q1410482)\u001b[0m )\n",
      "[12:06:54] lltk.text.text.\u001b[34m\u001b[1mText\u001b[0m( \u001b[36m<- id = Q1410482, corpus = wikidata, kwargs = {'author|P50': 'Robert A. Heinlein|Q123078', 'award_received|P166': ['Hugo Award for Best Novel|Q255)\u001b[0m )\n",
      "[12:06:54] lltk.text.text.\u001b[34m\u001b[1mText\u001b[0m( \u001b[36m<- addr = _wikidata/Q1410482\u001b[0m )\n",
      "[12:06:54] lltk.corpus.corpus.\u001b[34m\u001b[1mCorpus\u001b[0m( \u001b[36m<- id = wikidata\u001b[0m )\n",
      "[12:06:54] lltk.corpus.corpus.\u001b[34m\u001b[1mCorpus\u001b[0m( \u001b[36m-> WikidataCorpus(wikidata)\u001b[0m )\n",
      "[12:06:54] lltk.corpus.corpus.\u001b[34m\u001b[1mtext\u001b[0m( \u001b[36m<- id = Q1410482, corpus = WikidataCorpus(wikidata), kwargs = {'author|P50': 'Robert A. Heinlein|Q123078', 'award_received|P166': ['Hugo Award for Best Novel|Q255)\u001b[0m )\n",
      "[12:06:54] lltk.corpus.corpus.\u001b[34m\u001b[1mget_text_id\u001b[0m( \u001b[36m<- id = Q1410482, corpus = WikidataCorpus(wikidata), kwargs = {'author|P50': 'Robert A. Heinlein|Q123078', 'award_received|P166': ['Hugo Award for Best Novel|Q255)\u001b[0m )\n",
      "[12:06:54] lltk.corpus.corpus.\u001b[34m\u001b[1mget_text_id\u001b[0m( \u001b[36m-> Q1410482\u001b[0m )\n",
      "[12:06:54] lltk.text.text.\u001b[34m\u001b[1mupdate\u001b[0m( \u001b[36m<- \u001b[0m )\n",
      "[12:06:54] lltk.corpus.corpus.\u001b[34m\u001b[1mtext\u001b[0m( \u001b[36m-> TextWikidataClass(_wikidata/Q1410482)\u001b[0m )\n",
      "[12:06:54] lltk.text.text.\u001b[34m\u001b[1mText\u001b[0m( \u001b[36m-> TextWikidataClass(_wikidata/Q1410482)\u001b[0m )\n",
      "[12:06:54] lltk.corpus.wikidata.wikidata.\u001b[34m\u001b[1mTextWikidata\u001b[0m( \u001b[36mGenerated wiki text: TextWikidataClass(_wikidata/Q1410482)\u001b[0m )\n",
      "[12:06:54] lltk.model.matcher.\u001b[34m\u001b[1mcache_g_triples\u001b[0m( \u001b[36mcached graph to /Users/ryan/lltk_data/corpora/tmp/data/rels/triples.txt\u001b[0m )\n",
      "[12:06:54] lltk.model.matcher.\u001b[34m\u001b[1mcache_g_triples\u001b[0m( \u001b[36mcached graph to /Users/ryan/lltk_data/data/rels/triples.txt\u001b[0m )\n",
      "[12:06:54] lltk.text.text.\u001b[34m\u001b[1madd_source\u001b[0m( \u001b[36mfound match: (True, True)\u001b[0m )\n",
      "[12:06:54] lltk.text.text.\u001b[34m\u001b[1madd_source\u001b[0m( \u001b[36madding source vice versa\u001b[0m )\n",
      "[12:06:54] lltk.model.matcher.\u001b[34m\u001b[1mMatcher\u001b[0m( \u001b[36m<- wikidata\u001b[0m )\n",
      "[12:06:54] lltk.model.matcher.\u001b[34m\u001b[1minit_g_triples\u001b[0m( \u001b[36mread graph from /Users/ryan/lltk_data/corpora/wikidata/data/rels/triples.txt\u001b[0m )\n",
      "[12:06:54] lltk.model.matcher.\u001b[34m\u001b[1mMatcher\u001b[0m( \u001b[36m-> <lltk.model.matcher.MatcherModel object at 0x16bec98e0>\u001b[0m )\n",
      "[12:06:54] lltk.model.matcher.\u001b[34m\u001b[1mcache_g_triples\u001b[0m( \u001b[36mcached graph to /Users/ryan/lltk_data/corpora/wikidata/data/rels/triples.txt\u001b[0m )\n",
      "[12:06:54] lltk.text.text.\u001b[34m\u001b[1madd_source\u001b[0m( \u001b[36mfound match: (True, None)\u001b[0m )\n",
      "[12:06:54] lltk.text.text.\u001b[34m\u001b[1mText\u001b[0m( \u001b[36m<- id = _hathi/htid/mdp.39015040086160\u001b[0m )\n",
      "[12:06:54] lltk.text.text.\u001b[34m\u001b[1mText\u001b[0m( \u001b[36m<- addr = _hathi/htid/mdp.39015040086160\u001b[0m )\n",
      "[12:06:54] lltk.text.text.\u001b[34m\u001b[1mText\u001b[0m( \u001b[36m-> TextHathiVolume(_hathi/htid/mdp.39015040086160)\u001b[0m )\n",
      "[12:06:54] lltk.text.text.\u001b[34m\u001b[1mText\u001b[0m( \u001b[36m<- id = _hathi/htrn/000241743\u001b[0m )\n",
      "[12:06:54] lltk.text.text.\u001b[34m\u001b[1mText\u001b[0m( \u001b[36m<- addr = _hathi/htrn/000241743\u001b[0m )\n",
      "[12:06:54] lltk.text.text.\u001b[34m\u001b[1mText\u001b[0m( \u001b[36m-> TextHathiRecord(_hathi/htrn/000241743)\u001b[0m )\n",
      "[12:06:54] lltk.text.text.\u001b[34m\u001b[1mText\u001b[0m( \u001b[36m<- id = _tmp/author=Heinlein/title=Moon_is_a_Harsh_Mistress\u001b[0m )\n",
      "[12:06:54] lltk.text.text.\u001b[34m\u001b[1mText\u001b[0m( \u001b[36m<- addr = _tmp/author=Heinlein/title=Moon_is_a_Harsh_Mistress\u001b[0m )\n",
      "[12:06:54] lltk.text.text.\u001b[34m\u001b[1mText\u001b[0m( \u001b[36m-> BaseText(_tmp/author=Heinlein/title=Moon_is_a_Harsh_Mistress)\u001b[0m )\n",
      "[12:06:54] lltk.text.text.\u001b[34m\u001b[1mText\u001b[0m( \u001b[36m<- id = _markmark/Heinlein,_Robert.The_Moon_is_a_Harsh_Mistress\u001b[0m )\n",
      "[12:06:54] lltk.text.text.\u001b[34m\u001b[1mText\u001b[0m( \u001b[36m<- addr = _markmark/Heinlein,_Robert.The_Moon_is_a_Harsh_Mistress\u001b[0m )\n",
      "[12:06:54] lltk.corpus.corpus.\u001b[34m\u001b[1mCorpus\u001b[0m( \u001b[36m<- id = markmark\u001b[0m )\n",
      "[12:06:54] lltk.corpus.utils.\u001b[34m\u001b[1mload_corpus\u001b[0m( \u001b[36m<- id = markmark\u001b[0m )\n",
      "[12:06:54] lltk.corpus.utils.\u001b[34m\u001b[1mload_corpus\u001b[0m( \u001b[36mImporting corpus class \"MarkMark\" from /Users/ryan/github/lltk/lltk/corpus/markmark/markmark.py\u001b[0m )\n",
      "[12:06:54] lltk.corpus.corpus.\u001b[34m\u001b[1m__init__\u001b[0m( \u001b[36mMarkMark(markmark)\u001b[0m )\n",
      "[12:06:54] lltk.corpus.utils.\u001b[34m\u001b[1mload_corpus\u001b[0m( \u001b[36m-> MarkMarkCorpus(markmark)\u001b[0m )\n",
      "[12:06:54] lltk.corpus.corpus.\u001b[34m\u001b[1mCorpus\u001b[0m( \u001b[36m-> MarkMarkCorpus(markmark)\u001b[0m )\n",
      "[12:06:54] lltk.corpus.corpus.\u001b[34m\u001b[1mtext\u001b[0m( \u001b[36m<- id = Heinlein,_Robert.The_Moon_is_a_Harsh_Mistress, corpus = MarkMarkCorpus(markmark)\u001b[0m )\n",
      "[12:06:54] lltk.corpus.corpus.\u001b[34m\u001b[1mget_text_id\u001b[0m( \u001b[36m<- id = Heinlein,_Robert.The_Moon_is_a_Harsh_Mistress, corpus = MarkMarkCorpus(markmark)\u001b[0m )\n",
      "[12:06:54] lltk.corpus.corpus.\u001b[34m\u001b[1mget_text_id\u001b[0m( \u001b[36m-> Heinlein,_Robert.The_Moon_is_a_Harsh_Mistress\u001b[0m )\n",
      "[12:06:54] lltk.corpus.corpus.\u001b[34m\u001b[1minit_text\u001b[0m( \u001b[36m<- id = Heinlein,_Robert.The_Moon_is_a_Harsh_Mistress, corpus = MarkMarkCorpus(markmark)\u001b[0m )\n",
      "[12:06:54] lltk.text.text.\u001b[34m\u001b[1m__init__\u001b[0m( \u001b[36m<- id = Heinlein,_Robert.The_Moon_is_a_Harsh_Mistress, corpus = MarkMarkCorpus(markmark)\u001b[0m )\n",
      "[12:06:54] lltk.text.text.\u001b[34m\u001b[1m__init__\u001b[0m( \u001b[36mTextMarkMark(id = Heinlein,_Robert.The_Moon_is_a_Harsh_Mistress, corpus = MarkMarkCorpus(markmark))\u001b[0m )\n",
      "[12:06:54] lltk.corpus.corpus.\u001b[34m\u001b[1minit_text\u001b[0m( \u001b[36m-> TextMarkMark(_markmark/Heinlein,_Robert.The_Moon_is_a_Harsh_Mistress)\u001b[0m )\n",
      "[12:06:54] lltk.corpus.corpus.\u001b[34m\u001b[1mtext\u001b[0m( \u001b[36m-> TextMarkMark(_markmark/Heinlein,_Robert.The_Moon_is_a_Harsh_Mistress)\u001b[0m )\n",
      "[12:06:54] lltk.text.text.\u001b[34m\u001b[1mText\u001b[0m( \u001b[36m-> TextMarkMark(_markmark/Heinlein,_Robert.The_Moon_is_a_Harsh_Mistress)\u001b[0m )\n",
      "[12:06:54] lltk.text.text.\u001b[34m\u001b[1mget_local_sources\u001b[0m( \u001b[36mfound source: TextHathiVolume(_hathi/htid/mdp.39015040086160)\u001b[0m )\n",
      "[12:06:54] lltk.text.text.\u001b[34m\u001b[1mget_local_sources\u001b[0m( \u001b[36mfound source: TextHathiRecord(_hathi/htrn/000241743)\u001b[0m )\n",
      "[12:06:54] lltk.text.text.\u001b[34m\u001b[1mget_local_sources\u001b[0m( \u001b[36mfound source: BaseText(_tmp/author=Heinlein/title=Moon_is_a_Harsh_Mistress)\u001b[0m )\n",
      "[12:06:54] lltk.text.text.\u001b[34m\u001b[1mget_local_sources\u001b[0m( \u001b[36mfound source: TextMarkMark(_markmark/Heinlein,_Robert.The_Moon_is_a_Harsh_Mistress)\u001b[0m )\n",
      "[12:06:54] lltk.text.text.\u001b[34m\u001b[1mmetadata\u001b[0m( \u001b[36madding metadata from source: TextHathiVolume(_hathi/htid/mdp.39015040086160)\u001b[0m )\n",
      "[12:06:54] lltk.text.text.\u001b[34m\u001b[1mmetadata\u001b[0m( \u001b[36madding metadata from source: TextHathiRecord(_hathi/htrn/000241743)\u001b[0m )\n",
      "[12:06:54] lltk.text.text.\u001b[34m\u001b[1mmetadata\u001b[0m( \u001b[36madding metadata from source: TextMarkMark(_markmark/Heinlein,_Robert.The_Moon_is_a_Harsh_Mistress)\u001b[0m )\n",
      "[12:06:54] lltk.text.text.\u001b[34m\u001b[1mcache\u001b[0m( \u001b[36mTextMarkMark(_markmark/Heinlein,_Robert.The_Moon_is_a_Harsh_Mistress)\u001b[0m )\n",
      "[12:06:54] lltk.text.text.\u001b[34m\u001b[1mcache_json\u001b[0m( \u001b[36mcached text meta in json: /Users/ryan/lltk_data/corpora/markmark/texts/Heinlein,_Robert.The_Moon_is_a_Harsh_Mistress/meta.json\u001b[0m )\n",
      "[12:06:54] lltk.text.text.\u001b[34m\u001b[1mText\u001b[0m( \u001b[36m<- id = _hathi/htid/mdp.39015040086160\u001b[0m )\n",
      "[12:06:54] lltk.text.text.\u001b[34m\u001b[1mText\u001b[0m( \u001b[36m<- addr = _hathi/htid/mdp.39015040086160\u001b[0m )\n",
      "[12:06:54] lltk.text.text.\u001b[34m\u001b[1mText\u001b[0m( \u001b[36m-> TextHathiVolume(_hathi/htid/mdp.39015040086160)\u001b[0m )\n",
      "[12:06:54] lltk.text.text.\u001b[34m\u001b[1mText\u001b[0m( \u001b[36m<- id = _wikidata/Q1410482\u001b[0m )\n",
      "[12:06:54] lltk.text.text.\u001b[34m\u001b[1mText\u001b[0m( \u001b[36m<- addr = _wikidata/Q1410482\u001b[0m )\n",
      "[12:06:54] lltk.text.text.\u001b[34m\u001b[1mText\u001b[0m( \u001b[36m-> TextWikidataClass(_wikidata/Q1410482)\u001b[0m )\n",
      "[12:06:54] lltk.text.text.\u001b[34m\u001b[1mText\u001b[0m( \u001b[36m<- id = _hathi/htrn/000241743\u001b[0m )\n",
      "[12:06:54] lltk.text.text.\u001b[34m\u001b[1mText\u001b[0m( \u001b[36m<- addr = _hathi/htrn/000241743\u001b[0m )\n",
      "[12:06:54] lltk.text.text.\u001b[34m\u001b[1mText\u001b[0m( \u001b[36m-> TextHathiRecord(_hathi/htrn/000241743)\u001b[0m )\n",
      "[12:06:54] lltk.text.text.\u001b[34m\u001b[1mget_local_sources\u001b[0m( \u001b[36mfound source: TextWikidataClass(_wikidata/Q1410482)\u001b[0m )\n",
      "[12:06:54] lltk.text.text.\u001b[34m\u001b[1mget_local_sources\u001b[0m( \u001b[36mfound source: TextHathiVolume(_hathi/htid/mdp.39015040086160)\u001b[0m )\n",
      "[12:06:54] lltk.text.text.\u001b[34m\u001b[1mget_local_sources\u001b[0m( \u001b[36mfound source: TextHathiRecord(_hathi/htrn/000241743)\u001b[0m )\n",
      "[12:06:54] lltk.text.text.\u001b[34m\u001b[1mmetadata\u001b[0m( \u001b[36madding metadata from source: TextWikidataClass(_wikidata/Q1410482)\u001b[0m )\n",
      "[12:06:54] lltk.text.text.\u001b[34m\u001b[1mmetadata\u001b[0m( \u001b[36madding metadata from source: TextHathiVolume(_hathi/htid/mdp.39015040086160)\u001b[0m )\n",
      "[12:06:54] lltk.text.text.\u001b[34m\u001b[1mcache\u001b[0m( \u001b[36mTextHathiVolume(_hathi/htid/mdp.39015040086160)\u001b[0m )\n",
      "[12:06:54] lltk.text.text.\u001b[34m\u001b[1mcache_json\u001b[0m( \u001b[36mcached text meta in json: /Users/ryan/lltk_data/corpora/hathi/texts/htid/mdp.39015040086160/meta.json\u001b[0m )\n",
      "[12:06:54] lltk.text.text.\u001b[34m\u001b[1mmetadata\u001b[0m( \u001b[36madding metadata from source: TextHathiRecord(_hathi/htrn/000241743)\u001b[0m )\n"
     ]
    },
    {
     "data": {
      "text/plain": [
       "{'id': 'author=Heinlein/title=Moon_is_a_Harsh_Mistress',\n",
       " 'id__hathi': 'htrn/000241743',\n",
       " 'id__wikidata': 'Q1410482',\n",
       " 'access_profile__hathi': 'google',\n",
       " 'access_rights__hathi': 'ic',\n",
       " 'author': 'Heinlein',\n",
       " 'author__hathi': 'Heinlein, Robert A. (Robert Anson), 1907-1988.',\n",
       " 'author|P50__wikidata': 'Robert A. Heinlein|Q123078',\n",
       " 'award_received|P166__wikidata': ['Hugo Award for Best Novel|Q255032',\n",
       "  'NPR Top 100 Science Fiction and Fantasy Books|Q20899118',\n",
       "  'Prometheus Award - Hall of Fame|Q19360203'],\n",
       " 'babelio_work_id|P3631__wikidata': '97857',\n",
       " 'contributor__hathi': 'Heinlein, Robert A. (Robert Anson), 1907-1988.',\n",
       " 'contributor_ld__hathi': {'id': 'http://www.viaf.org/viaf/12309757',\n",
       "  'type': 'http://id.loc.gov/ontologies/bibframe/Person',\n",
       "  'name': 'Heinlein, Robert A. (Robert Anson), 1907-1988.'},\n",
       " 'country_of_origin|P495__wikidata': 'United States of America|Q30',\n",
       " 'cover_art_by|P736__wikidata': 'Irv Docktor|Q6074117',\n",
       " 'date_created__hathi': 20200209,\n",
       " 'default_page_section__hathi': 'body',\n",
       " 'fantlab_work_id|P7439__wikidata': '2802',\n",
       " 'feature_schema_version__hathi': 'https://schemas.hathitrust.org/EF_Schema_FeaturesSubSchema_v_3.0',\n",
       " 'followed_by|P156__wikidata': 'The Rolling Stones|Q7761365',\n",
       " 'follows|P155__wikidata': 'The Rolling Stones|Q7761365',\n",
       " 'form_of_creative_work|P7937__wikidata': 'novel|Q8261',\n",
       " 'freebase_id|P646__wikidata': '/m/0f18s',\n",
       " 'genre__hathi': ['document (computer)', 'fiction'],\n",
       " 'genre_ld__hathi': ['http://id.loc.gov/vocabulary/marcgt/doc',\n",
       "  'http://id.loc.gov/vocabulary/marcgt/fic'],\n",
       " 'genre|P136__wikidata': 'science fiction|Q24925',\n",
       " 'goodreads_work_id|P8383__wikidata': '1048525',\n",
       " 'handle_url__hathi': 'http://hdl.handle.net/2027/mdp.39015040086160',\n",
       " 'htid__hathi': 'mdp.39015040086160',\n",
       " 'image|P18__wikidata': 'Tanstaafl.jpg',\n",
       " 'inception|P571__wikidata': '+1965-00-00T00:00:00Z',\n",
       " 'instance_of|P31__wikidata': 'literary work|Q7725634',\n",
       " 'internet_archive_id|P724__wikidata': 'moonisharshmistr00hein',\n",
       " 'isbn-10|P957__wikidata': '4-15-010207-4',\n",
       " 'isbn-13|P212__wikidata': '978-4-15-010207-4',\n",
       " 'isbn__hathi': '0425062627',\n",
       " 'isbns__hathi': ['9780425062623', '9780425062623'],\n",
       " 'isfdb_title_id|P1274__wikidata': '1502',\n",
       " 'label__wikidata': 'The Moon Is a Harsh Mistress',\n",
       " 'language__hathi': 'eng',\n",
       " 'language_of_work_or_name|P407__wikidata': 'English|Q1860',\n",
       " 'last_rights_update_date__hathi': 20180830,\n",
       " 'librarything_work_id|P1085__wikidata': '7930',\n",
       " 'main_entity_of_page__hathi': ['https://catalog.hathitrust.org/Record/000241743',\n",
       "  'http://catalog.hathitrust.org/api/volumes/brief/oclc/9772210.json',\n",
       "  'http://catalog.hathitrust.org/api/volumes/full/oclc/9772210.json'],\n",
       " 'metadata_schema_version__hathi': 'https://schemas.hathitrust.org/EF_Schema_MetadataSubSchema_v_3.0',\n",
       " 'musicbrainz_work_id|P435__wikidata': '1e77fef8-9631-4428-9c8b-008dab1cdaff',\n",
       " 'narrative_location|P840__wikidata': 'Mare Crisium|Q168416',\n",
       " 'nnl_item_id|P3959__wikidata': ['002524849', '001863427'],\n",
       " 'noosfere_book_id|P5571__wikidata': '8396',\n",
       " 'num_vols__hathi': 1,\n",
       " 'oclc__hathi': '9772210',\n",
       " 'oclc_work_id|P5331__wikidata': '19888747',\n",
       " 'open_library_id|P648__wikidata': 'OL59728W',\n",
       " 'page_count__hathi': 310,\n",
       " 'pub_date__hathi': 1983,\n",
       " 'pub_place__hathi': 'New York (State)',\n",
       " 'pub_place_ld__hathi': {'id': 'http://id.loc.gov/vocabulary/countries/nyu',\n",
       "  'type': 'http://id.loc.gov/ontologies/bibframe/Place',\n",
       "  'name': 'New York (State)'},\n",
       " 'publication_date|P577__wikidata': '+1966-00-00T00:00:00Z',\n",
       " 'publishDate__hathi': '1983',\n",
       " 'publisher__hathi': 'Berkley Books',\n",
       " 'publisher_ld__hathi': {'id': 'http://catalogdata.library.illinois.edu/lod/entities/ProvisionActivityAgent/ht/Berkley%20Books',\n",
       "  'type': 'http://id.loc.gov/ontologies/bibframe/Organization',\n",
       "  'name': 'Berkley Books'},\n",
       " 'publisher|P123__wikidata': \"G. P. Putnam's Sons|Q3093062\",\n",
       " 'recordURL__hathi': 'https://catalog.hathitrust.org/Record/000241743',\n",
       " 'source_institution__hathi': 'MIU',\n",
       " 'source_institution_ld__hathi': {'type': 'http://id.loc.gov/ontologies/bibframe/Organization',\n",
       "  'name': 'MIU'},\n",
       " 'title': 'Moon is a Harsh Mistress',\n",
       " 'title__hathi': 'The moon is a harsh mistress /',\n",
       " 'title|P1476__wikidata': 'The Moon Is a Harsh Mistress',\n",
       " 'type__hathi': ['DataFeedItem', 'Book'],\n",
       " 'type_of_resource__hathi': 'http://id.loc.gov/ontologies/bibframe/Text',\n",
       " 'vegetti_catalog_of_fantastic_literature_nilf_id|P2191__wikidata': '1037623',\n",
       " 'what__wikidata': 'literary work',\n",
       " 'year__hathi': 1983}"
      ]
     },
     "execution_count": 10,
     "metadata": {},
     "output_type": "execute_result"
    }
   ],
   "source": [
    "t.metadata(remote=True)"
   ]
  },
  {
   "cell_type": "code",
   "execution_count": 31,
   "metadata": {},
   "outputs": [
    {
     "name": "stderr",
     "output_type": "stream",
     "text": [
      "[11:07:14] lltk.text.text.\u001b[34m\u001b[1mText\u001b[0m( \u001b[36m<- kwargs = {'title': 'Dune', 'author': 'Herbert'})\u001b[0m )\n",
      "[11:07:14] lltk.text.text.\u001b[34m\u001b[1mText\u001b[0m( \u001b[36m<- addr = _tmp/author=Herbert/title=Dune\u001b[0m )\n",
      "[11:07:14] lltk.corpus.corpus.\u001b[34m\u001b[1mCorpus\u001b[0m( \u001b[36m<- id = tmp\u001b[0m )\n",
      "[11:07:14] lltk.corpus.corpus.\u001b[34m\u001b[1mCorpus\u001b[0m( \u001b[36m-> BaseCorpus(tmp)\u001b[0m )\n",
      "[11:07:14] lltk.corpus.corpus.\u001b[34m\u001b[1mtext\u001b[0m( \u001b[36m<- id = author=Herbert/title=Dune, corpus = BaseCorpus(tmp), kwargs = {'title': 'Dune', 'author': 'Herbert'})\u001b[0m )\n",
      "[11:07:14] lltk.corpus.corpus.\u001b[34m\u001b[1mget_text_id\u001b[0m( \u001b[36m<- id = author=Herbert/title=Dune, corpus = BaseCorpus(tmp), kwargs = {'title': 'Dune', 'author': 'Herbert'})\u001b[0m )\n",
      "[11:07:14] lltk.corpus.corpus.\u001b[34m\u001b[1mget_text_id\u001b[0m( \u001b[36m-> author=Herbert/title=Dune\u001b[0m )\n",
      "[11:07:14] lltk.corpus.corpus.\u001b[34m\u001b[1minit_text\u001b[0m( \u001b[36m<- id = author=Herbert/title=Dune, corpus = BaseCorpus(tmp), kwargs = {'title': 'Dune', 'author': 'Herbert'})\u001b[0m )\n",
      "[11:07:14] lltk.text.text.\u001b[34m\u001b[1m__init__\u001b[0m( \u001b[36m<- id = author=Herbert/title=Dune, corpus = BaseCorpus(tmp), kwargs = {'title': 'Dune', 'author': 'Herbert'})\u001b[0m )\n",
      "[11:07:14] lltk.text.text.\u001b[34m\u001b[1m__init__\u001b[0m( \u001b[36mBaseText(id = author=Herbert/title=Dune, corpus = BaseCorpus(tmp), kwargs = {'title': 'Dune', 'author': 'Herbert'}))\u001b[0m )\n",
      "[11:07:14] lltk.corpus.corpus.\u001b[34m\u001b[1minit_text\u001b[0m( \u001b[36m-> BaseText(_tmp/author=Herbert/title=Dune)\u001b[0m )\n",
      "[11:07:14] lltk.corpus.corpus.\u001b[34m\u001b[1mtext\u001b[0m( \u001b[36m-> BaseText(_tmp/author=Herbert/title=Dune)\u001b[0m )\n",
      "[11:07:14] lltk.text.text.\u001b[34m\u001b[1mText\u001b[0m( \u001b[36m-> BaseText(_tmp/author=Herbert/title=Dune)\u001b[0m )\n"
     ]
    },
    {
     "data": {
      "text/plain": [
       "'Dune Herbert'"
      ]
     },
     "execution_count": 31,
     "metadata": {},
     "output_type": "execute_result"
    }
   ],
   "source": [
    "t3=Text(title=\"Dune\",author=\"Herbert\")\n",
    "t3.qstr"
   ]
  },
  {
   "cell_type": "code",
   "execution_count": 32,
   "metadata": {},
   "outputs": [
    {
     "name": "stderr",
     "output_type": "stream",
     "text": [
      "[11:07:19] lltk.corpus.corpus.\u001b[34m\u001b[1mtext\u001b[0m( \u001b[36m<- id = BaseText(_tmp/author=Herbert/title=Dune), corpus = HathiCorpus(hathi)\u001b[0m )\n",
      "[11:07:19] lltk.corpus.corpus.\u001b[34m\u001b[1mtext\u001b[0m( \u001b[36mis_textish id = BaseText(_tmp/author=Herbert/title=Dune)\u001b[0m )\n",
      "[11:07:19] hathi.\u001b[34m\u001b[1mget_text_id\u001b[0m( \u001b[36m<- id = BaseText(_tmp/author=Herbert/title=Dune), source = BaseText(_tmp/author=Herbert/title=Dune), kwargs = {'_new': False})\u001b[0m )\n",
      "[11:07:19] hathi.\u001b[34m\u001b[1mquery_for_ids\u001b[0m( \u001b[36m<- BaseText(_tmp/author=Herbert/title=Dune)\u001b[0m )\n",
      "[11:07:19] hathi.\u001b[34m\u001b[1mquery_for_ids\u001b[0m( \u001b[36m<- https://catalog.hathitrust.org/Search/Home?adv=1&lookfor%5B%5D=Herbert&type%5B%5D=author&bool%5B%5D=AND&lookfor%5B%5D=Dune&type%5B%5D=title&bool%5B%5D=AND&yop=after&page=1&pagesize=100\u001b[0m )\n",
      "[11:07:19] hathi.\u001b[34m\u001b[1mquery_for_ids\u001b[0m( \u001b[36mfound result on db (20 records)\u001b[0m )\n",
      "[11:07:19] hathi.\u001b[34m\u001b[1mget_text_id\u001b[0m( \u001b[36m-> htrn/001292521\u001b[0m )\n",
      "[11:07:19] lltk.corpus.corpus.\u001b[34m\u001b[1mtext\u001b[0m( \u001b[36m-> TextHathiRecord(_hathi/htrn/001292521)\u001b[0m )\n"
     ]
    },
    {
     "data": {
      "text/plain": [
       "TextHathiRecord(_hathi/htrn/001292521)"
      ]
     },
     "execution_count": 32,
     "metadata": {},
     "output_type": "execute_result"
    }
   ],
   "source": [
    "with log: ht3 = C.text(t3)\n",
    "ht3"
   ]
  },
  {
   "cell_type": "code",
   "execution_count": 34,
   "metadata": {},
   "outputs": [
    {
     "data": {
      "text/plain": [
       "('_hathi/htrn/001292521', '_hathi/htrn/001292521', True)"
      ]
     },
     "execution_count": 34,
     "metadata": {},
     "output_type": "execute_result"
    }
   ],
   "source": [
    "ht3.addr, ht.addr, ht3 is ht"
   ]
  },
  {
   "cell_type": "code",
   "execution_count": null,
   "metadata": {},
   "outputs": [],
   "source": []
  },
  {
   "cell_type": "code",
   "execution_count": null,
   "metadata": {},
   "outputs": [],
   "source": []
  }
 ],
 "metadata": {
  "interpreter": {
   "hash": "99c3488a746bccd77b7949f8f419451e1c962da56ebbaaae6e4d2e6c8c07eaa0"
  },
  "kernelspec": {
   "display_name": "Python 3.9.7 ('base')",
   "language": "python",
   "name": "python3"
  },
  "language_info": {
   "codemirror_mode": {
    "name": "ipython",
    "version": 3
   },
   "file_extension": ".py",
   "mimetype": "text/x-python",
   "name": "python",
   "nbconvert_exporter": "python",
   "pygments_lexer": "ipython3",
   "version": "3.9.7"
  },
  "orig_nbformat": 4
 },
 "nbformat": 4,
 "nbformat_minor": 2
}

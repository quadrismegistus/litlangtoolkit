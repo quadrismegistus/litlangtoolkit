{
 "cells": [
  {
   "cell_type": "code",
   "execution_count": 1,
   "metadata": {},
   "outputs": [
    {
     "name": "stderr",
     "output_type": "stream",
     "text": [
      "[08:45:05] lltk.lltk.\u001b[34m\u001b[1m<module>\u001b[0m( \u001b[36mready\u001b[0m )\n"
     ]
    }
   ],
   "source": [
    "import sys; sys.path.insert(0,os.path.join('..','..','yapmap'))\n",
    "import sys; sys.path.insert(0,'..')\n",
    "from lltk.model.preprocess import *"
   ]
  },
  {
   "cell_type": "code",
   "execution_count": 2,
   "metadata": {},
   "outputs": [
    {
     "data": {
      "text/plain": [
       "8"
      ]
     },
     "execution_count": 2,
     "metadata": {},
     "output_type": "execute_result"
    }
   ],
   "source": [
    "DEFAULT_NUM_PROC"
   ]
  },
  {
   "cell_type": "code",
   "execution_count": 8,
   "metadata": {},
   "outputs": [],
   "source": [
    "def preprocess_txt(\n",
    "        self: BaseCorpus,\n",
    "        force: bool = False,\n",
    "        num_proc: int = DEFAULT_NUM_PROC,\n",
    "        verbose: bool =True,\n",
    "        lim: Union[int,None] = None,\n",
    "        **attrs):\n",
    "    \n",
    "    # make sure init\n",
    "    self.init(force=False)\n",
    "    \n",
    "    objs = [\n",
    "        (t.path_xml,t.path_txt,t.xml2txt_func)\n",
    "        for t in self.texts()\n",
    "        if t.path_xml and t.path_txt and t.xml2txt_func\n",
    "    ]\n",
    "    if not objs:\n",
    "        if log.verbose>0: log.error('No XML files to produce plain text files from')\n",
    "        return\n",
    "    objs = objs[:lim]\n",
    "    pmap(\n",
    "        do_preprocess_txt,\n",
    "        objs,\n",
    "        num_proc=num_proc,\n",
    "        desc=f'[{self.name}] Saving plain text versions of XML files',\n",
    "        **attrs\n",
    "    )\n",
    "\n",
    "\n",
    "\n",
    "def do_preprocess_txt(obj):\n",
    "    ifnfn, ofnfn, func = obj\n",
    "    otxt = func(ifnfn)\n",
    "    odir=os.path.dirname(ofnfn)\n",
    "    if not os.path.exists(odir):\n",
    "        try:\n",
    "            os.makedirs(odir)\n",
    "        except Exception:\n",
    "            pass\n",
    "    \n",
    "    with open(ofnfn,'w',encoding='utf-8',errors='ignore') as f:\n",
    "        f.write(otxt)\n",
    "        if log.verbose>1: log(f'>> saved: {ofnfn}')\n"
   ]
  },
  {
   "cell_type": "code",
   "execution_count": 21,
   "metadata": {},
   "outputs": [],
   "source": [
    "# C=Corpus('chadwyck')\n",
    "# preprocess_txt(C)"
   ]
  },
  {
   "cell_type": "code",
   "execution_count": 22,
   "metadata": {},
   "outputs": [],
   "source": [
    "BaseCorpus.preprocess_txt = preprocess_txt"
   ]
  },
  {
   "cell_type": "code",
   "execution_count": 23,
   "metadata": {},
   "outputs": [
    {
     "data": {
      "application/vnd.jupyter.widget-view+json": {
       "model_id": "97fbbf8fbd674871878506da3d16eaa5",
       "version_major": 2,
       "version_minor": 0
      },
      "text/plain": [
       "[Chadwyck] Saving plain text versions of XML files [x8]:   0%|          | 0/1338 [00:00<?, ?it/s]"
      ]
     },
     "metadata": {},
     "output_type": "display_data"
    }
   ],
   "source": [
    "C.preprocess_txt()"
   ]
  },
  {
   "cell_type": "code",
   "execution_count": 17,
   "metadata": {},
   "outputs": [
    {
     "data": {
      "text/plain": [
       "('/Users/ryan/lltk_data/corpora/chadwyck/texts/Early_American_Fiction/cozzensf.04/text.txt',\n",
       " True)"
      ]
     },
     "execution_count": 17,
     "metadata": {},
     "output_type": "execute_result"
    }
   ],
   "source": [
    "C.t.path_txt, os.path.exists(C.t.path_txt)"
   ]
  },
  {
   "cell_type": "code",
   "execution_count": 20,
   "metadata": {},
   "outputs": [
    {
     "name": "stdout",
     "output_type": "stream",
     "text": [
      "“But natures of the noblest frame\n",
      "These toyles and dangers please;\n",
      "And they take comfort in the same,\n",
      "As much as you in ease.”\n",
      "\n",
      "Inscribed TO JESSIE, HAROLD, AND PHYLLIS.\n",
      "\n",
      "One morning a large wooden case was brought to the farmhouse, and Bevis, impatient to see what was in it, ran for the hard chisel and the hammer, and would not consent to put off the work of undoing it for a moment. It must be done directly. The case was very broad and nearly square, but only a few inches deep, and was formed of thin boards. They placed it for him upon the floor, and, kneeling down, he tapped the chisel, driving the edge in under the lid, and so starting the nails. Twice he hit his fingers in his haste, once so hard that he dropped the hammer, but he picked it up again and went on as before, till he had loosened the lid all round.\n",
      "\n",
      "After labouring like this, and bruising his finger, Bevis was disappointed to find that the case only contained a picture which might look very well, but was of no use to him. It was a fine engraving of “An English Merry-making in the Olden Time,” and was soon hoisted up and slung to the wall. Bevis claimed the case as his perquisite, and began to meditate what he could do with it. It was dragged from the house into one of the sheds for him, and he fetched the hammer and his own special little hatchet, for his first idea was to split up the boards. Deal splits so easily, it is a pleasure to feel the fibres part, but upon consideration he thought it might do for the roof of a hut, if he could fix it on four stakes, one at each corner.\n"
     ]
    }
   ],
   "source": []
  },
  {
   "cell_type": "code",
   "execution_count": null,
   "metadata": {},
   "outputs": [],
   "source": []
  }
 ],
 "metadata": {
  "interpreter": {
   "hash": "99c3488a746bccd77b7949f8f419451e1c962da56ebbaaae6e4d2e6c8c07eaa0"
  },
  "kernelspec": {
   "display_name": "Python 3.9.7 ('base')",
   "language": "python",
   "name": "python3"
  },
  "language_info": {
   "codemirror_mode": {
    "name": "ipython",
    "version": 3
   },
   "file_extension": ".py",
   "mimetype": "text/x-python",
   "name": "python",
   "nbconvert_exporter": "python",
   "pygments_lexer": "ipython3",
   "version": "3.9.7"
  },
  "orig_nbformat": 4
 },
 "nbformat": 4,
 "nbformat_minor": 2
}

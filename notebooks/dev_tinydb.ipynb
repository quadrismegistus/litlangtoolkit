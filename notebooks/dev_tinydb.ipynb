{
 "cells": [
  {
   "cell_type": "code",
   "execution_count": 1,
   "id": "8349c3c4-d837-44ee-86d0-bf95128a1ac3",
   "metadata": {},
   "outputs": [
    {
     "name": "stdout",
     "output_type": "stream",
     "text": [
      "\u001b[33mWARNING: Ignoring invalid distribution -xml (/Users/ryan/miniforge3/lib/python3.9/site-packages)\u001b[0m\n",
      "\u001b[33mWARNING: Ignoring invalid distribution -xml (/Users/ryan/miniforge3/lib/python3.9/site-packages)\u001b[0m\n",
      "Requirement already satisfied: tinydb in /Users/ryan/miniforge3/lib/python3.9/site-packages (4.7.0)\n",
      "\u001b[33mWARNING: Ignoring invalid distribution -xml (/Users/ryan/miniforge3/lib/python3.9/site-packages)\u001b[0m\n",
      "\u001b[33mWARNING: Ignoring invalid distribution -xml (/Users/ryan/miniforge3/lib/python3.9/site-packages)\u001b[0m\n",
      "\u001b[33mWARNING: Ignoring invalid distribution -xml (/Users/ryan/miniforge3/lib/python3.9/site-packages)\u001b[0m\n",
      "\u001b[33mWARNING: Ignoring invalid distribution -xml (/Users/ryan/miniforge3/lib/python3.9/site-packages)\u001b[0m\n"
     ]
    }
   ],
   "source": [
    "!pip install tinydb"
   ]
  },
  {
   "cell_type": "code",
   "execution_count": null,
   "id": "208b1b57-da26-4286-b74d-23bed5ed65d2",
   "metadata": {},
   "outputs": [],
   "source": []
  }
 ],
 "metadata": {
  "kernelspec": {
   "display_name": "Python 3 (ipykernel)",
   "language": "python",
   "name": "python3"
  },
  "language_info": {
   "codemirror_mode": {
    "name": "ipython",
    "version": 3
   },
   "file_extension": ".py",
   "mimetype": "text/x-python",
   "name": "python",
   "nbconvert_exporter": "python",
   "pygments_lexer": "ipython3",
   "version": "3.9.7"
  }
 },
 "nbformat": 4,
 "nbformat_minor": 5
}

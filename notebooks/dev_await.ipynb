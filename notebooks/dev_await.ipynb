{
 "cells": [
  {
   "cell_type": "code",
   "execution_count": 12,
   "metadata": {},
   "outputs": [],
   "source": [
    "import sys; sys.path.insert(0,'..')\n",
    "from lltk import *\n",
    "import asyncio as aio"
   ]
  },
  {
   "cell_type": "code",
   "execution_count": 9,
   "metadata": {},
   "outputs": [
    {
     "data": {
      "text/plain": [
       "<Task pending name='Task-8' coro=<hw() running at /var/folders/py/jyzw5nyj1fnf0c_1czgsg2fc0000gn/T/ipykernel_2115/2638077661.py:1>>"
      ]
     },
     "execution_count": 9,
     "metadata": {},
     "output_type": "execute_result"
    },
    {
     "name": "stdout",
     "output_type": "stream",
     "text": [
      "hello\n",
      "world\n",
      "0\n",
      "1\n",
      "2\n"
     ]
    }
   ],
   "source": [
    "async def hw():\n",
    "    print('hello')\n",
    "    await aio.sleep(random.random())\n",
    "    print('world')\n",
    "    for n in range(10):\n",
    "        print(n)\n",
    "        await aio.sleep(random.random()*2)\n",
    "    await gb()\n",
    "\n",
    "async def gb():\n",
    "    print('goodbye')\n",
    "    await aio.sleep(random.random())\n",
    "    print('world')\n",
    "#     await hw()\n",
    "    \n",
    "    \n",
    "loop = aio.get_event_loop()\n",
    "loop.create_task(hw())"
   ]
  },
  {
   "cell_type": "code",
   "execution_count": 10,
   "metadata": {},
   "outputs": [
    {
     "data": {
      "text/plain": [
       "1"
      ]
     },
     "execution_count": 10,
     "metadata": {},
     "output_type": "execute_result"
    },
    {
     "name": "stdout",
     "output_type": "stream",
     "text": [
      "3\n",
      "4\n",
      "5\n",
      "6\n"
     ]
    }
   ],
   "source": [
    "1\n"
   ]
  },
  {
   "cell_type": "code",
   "execution_count": 11,
   "metadata": {},
   "outputs": [
    {
     "data": {
      "text/plain": [
       "'were'"
      ]
     },
     "execution_count": 11,
     "metadata": {},
     "output_type": "execute_result"
    },
    {
     "name": "stdout",
     "output_type": "stream",
     "text": [
      "7\n",
      "8\n",
      "9\n",
      "goodbye\n",
      "world\n"
     ]
    }
   ],
   "source": [
    "'were'"
   ]
  },
  {
   "cell_type": "code",
   "execution_count": 6,
   "metadata": {},
   "outputs": [
    {
     "name": "stdout",
     "output_type": "stream",
     "text": [
      "response status 200\n",
      "{'args': {},\n",
      " 'headers': {'Accept': '*/*',\n",
      "             'Accept-Encoding': 'gzip, deflate, br',\n",
      "             'Host': 'httpbin.org',\n",
      "             'User-Agent': 'python-requests/2.27.1',\n",
      "             'X-Amzn-Trace-Id': 'Root=1-627c888d-68f5d3ff08c28d1337b3507c'},\n",
      " 'origin': '128.232.229.63',\n",
      " 'url': 'http://httpbin.org/get'}\n"
     ]
    }
   ],
   "source": [
    "from pprint import pprint\n",
    "from requests_futures.sessions import FuturesSession\n",
    "\n",
    "session = FuturesSession()\n",
    "\n",
    "def response_hook(resp, *args, **kwargs):\n",
    "    # parse the json storing the result on the response object\n",
    "    resp.data = resp.json()\n",
    "\n",
    "future = session.get('http://httpbin.org/get', hooks={\n",
    "    'response': response_hook,\n",
    "})\n",
    "# do some other stuff, send some more requests while this one works\n",
    "response = future.result()\n",
    "print('response status {0}'.format(response.status_code))\n",
    "# data will have been attached to the response object in the background\n",
    "pprint(response.data)"
   ]
  },
  {
   "cell_type": "code",
   "execution_count": 2,
   "metadata": {},
   "outputs": [
    {
     "name": "stdout",
     "output_type": "stream",
     "text": [
      "Requirement already satisfied: requests-futures in /Users/ryan/miniforge3/envs/jlab/lib/python3.10/site-packages (1.0.0)\n",
      "Requirement already satisfied: requests>=1.2.0 in /Users/ryan/miniforge3/envs/jlab/lib/python3.10/site-packages (from requests-futures) (2.27.1)\n",
      "Requirement already satisfied: idna<4,>=2.5 in /Users/ryan/miniforge3/envs/jlab/lib/python3.10/site-packages (from requests>=1.2.0->requests-futures) (3.3)\n",
      "Requirement already satisfied: charset-normalizer~=2.0.0 in /Users/ryan/miniforge3/envs/jlab/lib/python3.10/site-packages (from requests>=1.2.0->requests-futures) (2.0.12)\n",
      "Requirement already satisfied: urllib3<1.27,>=1.21.1 in /Users/ryan/miniforge3/envs/jlab/lib/python3.10/site-packages (from requests>=1.2.0->requests-futures) (1.26.9)\n",
      "Requirement already satisfied: certifi>=2017.4.17 in /Users/ryan/miniforge3/envs/jlab/lib/python3.10/site-packages (from requests>=1.2.0->requests-futures) (2021.10.8)\n"
     ]
    }
   ],
   "source": [
    "!pip install requests-futures"
   ]
  },
  {
   "cell_type": "code",
   "execution_count": 11,
   "metadata": {},
   "outputs": [
    {
     "ename": "NameError",
     "evalue": "name 'BaseText' is not defined",
     "output_type": "error",
     "traceback": [
      "\u001b[0;31m---------------------------------------------------------------------------\u001b[0m",
      "\u001b[0;31mNameError\u001b[0m                                 Traceback (most recent call last)",
      "Input \u001b[0;32mIn [11]\u001b[0m, in \u001b[0;36m<cell line: 29>\u001b[0;34m()\u001b[0m\n\u001b[1;32m     25\u001b[0m             o\u001b[38;5;241m+\u001b[39m\u001b[38;5;241m=\u001b[39mcl\n\u001b[1;32m     27\u001b[0m     \u001b[38;5;28;01mreturn\u001b[39;00m o\n\u001b[0;32m---> 29\u001b[0m \u001b[43mBaseText\u001b[49m\u001b[38;5;241m.\u001b[39mget_remote_sources\u001b[38;5;241m=\u001b[39mget_remote_sources\n",
      "\u001b[0;31mNameError\u001b[0m: name 'BaseText' is not defined"
     ]
    }
   ],
   "source": [
    "from lltk.imports import *\n",
    "\n",
    "\n",
    "def get_remote_sources(self,corpora=None,cache=True,lim=1,progress=False,*args,**kwargs):\n",
    "    from lltk.corpus.corpus import Corpus\n",
    "    if corpora is None: corpora = self.corpus.REMOTE_SOURCES\n",
    "    o=[]\n",
    "    # other corpora?\n",
    "    if corpora:\n",
    "        if log: log(f'corpora = {corpora}')\n",
    "        desc=f'[{self.addr}] '\n",
    "        iterr=corpora\n",
    "        if progress: iterr=get_tqdm(iterr,desc=desc,position=0)\n",
    "        for i,c in enumerate(iterr):\n",
    "            C=Corpus(c)\n",
    "            if progress: iterr.set_description(f'{desc}: Querying {C.name}')\n",
    "\n",
    "            if log: log(f'Remote corpus: {C} ({self.addr})')\n",
    "            cl=[]\n",
    "            for tsrc in C.texts_from(self,remote=remote,**kwargs):\n",
    "                if tsrc is not None:\n",
    "                    cl.append(tsrc)\n",
    "                    if progress: iterr.set_description(f'{desc}: Found {tsrc})')\n",
    "                    if len(cl)>=lim: break\n",
    "            o+=cl\n",
    "\n",
    "    return o\n",
    "\n",
    "BaseText.get_remote_sources=get_remote_sources"
   ]
  },
  {
   "cell_type": "code",
   "execution_count": null,
   "metadata": {},
   "outputs": [],
   "source": []
  }
 ],
 "metadata": {
  "interpreter": {
   "hash": "99c3488a746bccd77b7949f8f419451e1c962da56ebbaaae6e4d2e6c8c07eaa0"
  },
  "kernelspec": {
   "display_name": "base",
   "language": "python",
   "name": "base"
  },
  "language_info": {
   "codemirror_mode": {
    "name": "ipython",
    "version": 3
   },
   "file_extension": ".py",
   "mimetype": "text/x-python",
   "name": "python",
   "nbconvert_exporter": "python",
   "pygments_lexer": "ipython3",
   "version": "3.9.7"
  }
 },
 "nbformat": 4,
 "nbformat_minor": 4
}

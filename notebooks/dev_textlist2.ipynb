{
 "cells": [
  {
   "cell_type": "code",
   "execution_count": 1,
   "id": "b036aeaa-6e66-4db1-8d4a-ba659dca70eb",
   "metadata": {
    "tags": []
   },
   "outputs": [],
   "source": [
    "import sys; sys.path.insert(0,'../../yapmap')\n",
    "import sys; sys.path.insert(0,'..')\n",
    "from lltk import *\n",
    "\n",
    "# for c in ['chicago','chadwyck','markmark']: Corpus(c).sync()"
   ]
  },
  {
   "cell_type": "code",
   "execution_count": 2,
   "id": "70752561-f797-46e7-ba70-b3aa883d5c12",
   "metadata": {},
   "outputs": [],
   "source": [
    "t=LLTK('_hathi/htrn/005261377')"
   ]
  },
  {
   "cell_type": "code",
   "execution_count": null,
   "id": "70a5b6ac-70cf-4512-902e-644467667ca0",
   "metadata": {},
   "outputs": [
    {
     "data": {
      "text/plain": [
       "['hvd.hwk6q7', 'uc2.ark:/13960/t0ks6jh13']"
      ]
     },
     "execution_count": 9,
     "metadata": {},
     "output_type": "execute_result"
    }
   ],
   "source": [
    "t.htid_l"
   ]
  },
  {
   "cell_type": "code",
   "execution_count": null,
   "id": "a1ff899e-df6d-4e89-9043-12a41a7ba313",
   "metadata": {},
   "outputs": [
    {
     "name": "stdout",
     "output_type": "stream",
     "text": [
      "set()\n",
      "['hvd.hwk6q7', 'uc2.ark:/13960/t0ks6jh13']\n"
     ]
    }
   ],
   "source": [
    "with LLTK.online: t.init()"
   ]
  },
  {
   "cell_type": "code",
   "execution_count": null,
   "id": "e7a328bb-56a8-40c7-a899-adbd893c25ed",
   "metadata": {},
   "outputs": [
    {
     "data": {
      "text/plain": [
       "[Whittier, The Vision Of Echard (1878) [_hathi/htid/hvd.hwk6q7] (3),\n",
       " Whittier, The Vision Of Echard (1878) [_hathi/htid/uc2.ark:/13960/t0ks6jh13] (3)]"
      ]
     },
     "execution_count": 12,
     "metadata": {},
     "output_type": "execute_result"
    }
   ],
   "source": []
  },
  {
   "cell_type": "code",
   "execution_count": null,
   "id": "c6743e4c-c566-4f82-a0dd-310da4c1d0ae",
   "metadata": {},
   "outputs": [
    {
     "data": {
      "application/vnd.jupyter.widget-view+json": {
       "model_id": "",
       "version_major": 2,
       "version_minor": 0
      },
      "text/plain": [
       "[LLTK] Syncing across corpora:   0%|          | 0/7 [00:00<?, ?it/s]"
      ]
     },
     "metadata": {},
     "output_type": "display_data"
    }
   ],
   "source": [
    "LLTK.sync()"
   ]
  },
  {
   "cell_type": "code",
   "execution_count": null,
   "id": "6766fc4b-1013-4bd0-b644-f098480ed2c0",
   "metadata": {},
   "outputs": [],
   "source": []
  },
  {
   "cell_type": "code",
   "execution_count": null,
   "id": "c693c987-802c-4923-bb4d-ded944046435",
   "metadata": {},
   "outputs": [],
   "source": []
  },
  {
   "cell_type": "code",
   "execution_count": 3,
   "id": "63a79c8d-5d5d-48be-9d65-20998ca50c21",
   "metadata": {},
   "outputs": [
    {
     "data": {
      "application/vnd.jupyter.widget-view+json": {
       "model_id": "e82b383ea9bc483eb50e641669f9cd34",
       "version_major": 2,
       "version_minor": 0
      },
      "text/plain": [
       "[LLTK] Iterating over all texts:   0%|          | 0/17343 [00:00<?, ?it/s]"
      ]
     },
     "metadata": {},
     "output_type": "display_data"
    }
   ],
   "source": [
    "for t in LLTK: pass"
   ]
  },
  {
   "cell_type": "code",
   "execution_count": null,
   "id": "a0633a94-c8c3-4ab7-8496-216fb968f0e7",
   "metadata": {},
   "outputs": [],
   "source": []
  },
  {
   "cell_type": "code",
   "execution_count": null,
   "id": "dc8b2c24-4dd8-4b02-8042-6d91974197bc",
   "metadata": {},
   "outputs": [],
   "source": []
  },
  {
   "cell_type": "code",
   "execution_count": 4,
   "id": "de1b0817-520a-496f-9c1e-48e43ba3fad0",
   "metadata": {},
   "outputs": [
    {
     "name": "stdout",
     "output_type": "stream",
     "text": [
      "set()\n",
      "[['hvd.hwk6q7', 'uc2.ark:/13960/t0ks6jh13']]\n"
     ]
    },
    {
     "ename": "TypeError",
     "evalue": "unhashable type: 'list'",
     "output_type": "error",
     "traceback": [
      "\u001b[0;31m---------------------------------------------------------------------------\u001b[0m",
      "\u001b[0;31mTypeError\u001b[0m                                 Traceback (most recent call last)",
      "Input \u001b[0;32mIn [4]\u001b[0m, in \u001b[0;36m<cell line: 1>\u001b[0;34m()\u001b[0m\n\u001b[0;32m----> 1\u001b[0m \u001b[38;5;28;01mwith\u001b[39;00m LLTK\u001b[38;5;241m.\u001b[39monline: t\u001b[38;5;241m.\u001b[39minit()\n",
      "File \u001b[0;32m~/github/lltk/lltk/corpus/hathi/hathi.py:63\u001b[0m, in \u001b[0;36mTextHathiRecord.init\u001b[0;34m(self, remote, *x, **y)\u001b[0m\n\u001b[1;32m     61\u001b[0m \u001b[38;5;28mprint\u001b[39m(htid_srcs)\n\u001b[1;32m     62\u001b[0m \u001b[38;5;28mprint\u001b[39m(\u001b[38;5;28mself\u001b[39m\u001b[38;5;241m.\u001b[39mhtid_l)\n\u001b[0;32m---> 63\u001b[0m \u001b[38;5;28;01mfor\u001b[39;00m htid \u001b[38;5;129;01min\u001b[39;00m \u001b[38;5;28;43mset\u001b[39;49m\u001b[43m(\u001b[49m\u001b[38;5;28;43mself\u001b[39;49m\u001b[38;5;241;43m.\u001b[39;49m\u001b[43mhtid_l\u001b[49m\u001b[43m)\u001b[49m \u001b[38;5;241m-\u001b[39m htid_srcs:\n\u001b[1;32m     64\u001b[0m     \u001b[38;5;28;01mif\u001b[39;00m log: log(htid)\n\u001b[1;32m     65\u001b[0m     t\u001b[38;5;241m=\u001b[39m\u001b[38;5;28mself\u001b[39m\u001b[38;5;241m.\u001b[39mcorpus\u001b[38;5;241m.\u001b[39mtext(\u001b[38;5;124mf\u001b[39m\u001b[38;5;124m'\u001b[39m\u001b[38;5;124mhtid/\u001b[39m\u001b[38;5;132;01m{\u001b[39;00mhtid\u001b[38;5;132;01m}\u001b[39;00m\u001b[38;5;124m'\u001b[39m)\u001b[38;5;241m.\u001b[39minit(remote\u001b[38;5;241m=\u001b[39mremote,\u001b[38;5;241m*\u001b[39m\u001b[38;5;241m*\u001b[39my)\n",
      "\u001b[0;31mTypeError\u001b[0m: unhashable type: 'list'"
     ]
    }
   ],
   "source": []
  },
  {
   "cell_type": "code",
   "execution_count": null,
   "id": "b9f76a9d-14e7-4217-8c33-02284a0c2950",
   "metadata": {},
   "outputs": [],
   "source": []
  },
  {
   "cell_type": "code",
   "execution_count": null,
   "id": "be0390a1-be57-4f08-b20d-b357b376008f",
   "metadata": {},
   "outputs": [],
   "source": []
  },
  {
   "cell_type": "code",
   "execution_count": null,
   "id": "16cdec25-d559-47d7-a7c9-36cb21aa5f19",
   "metadata": {},
   "outputs": [],
   "source": []
  },
  {
   "cell_type": "code",
   "execution_count": null,
   "id": "1cf39dd0-dbf6-4069-b71a-199c5ec7be1b",
   "metadata": {},
   "outputs": [],
   "source": []
  },
  {
   "cell_type": "code",
   "execution_count": null,
   "id": "06850b2e-69c0-4779-9b81-2fe715bbaa53",
   "metadata": {},
   "outputs": [],
   "source": []
  },
  {
   "cell_type": "code",
   "execution_count": null,
   "id": "29f96462-b24a-48bd-bcae-18180904f0c7",
   "metadata": {},
   "outputs": [],
   "source": []
  },
  {
   "cell_type": "code",
   "execution_count": null,
   "id": "e40d9b36-90a6-40ed-80cc-94e6a169843d",
   "metadata": {},
   "outputs": [],
   "source": []
  },
  {
   "cell_type": "code",
   "execution_count": null,
   "id": "83a8b4dd-3e9e-4ac0-91a1-d0932209e265",
   "metadata": {},
   "outputs": [
    {
     "data": {
      "application/vnd.jupyter.widget-view+json": {
       "model_id": "",
       "version_major": 2,
       "version_minor": 0
      },
      "text/plain": [
       "[LLTK] loading:   0%|          | 0/16 [00:00<?, ?it/s]"
      ]
     },
     "metadata": {},
     "output_type": "display_data"
    },
    {
     "data": {
      "application/vnd.jupyter.widget-view+json": {
       "model_id": "",
       "version_major": 2,
       "version_minor": 0
      },
      "text/plain": [
       "[LLTK] filtering texts:   0%|          | 0/8 [00:00<?, ?it/s]"
      ]
     },
     "metadata": {},
     "output_type": "display_data"
    },
    {
     "data": {
      "text/plain": [
       "TextList([Austen, Sense And Sensibility (1811) [_chadwyck/Nineteenth-Century_Fiction/ncf0204.08] (6),\n",
       "          Austen, Pride And Prejudice (1813) [_chadwyck/Nineteenth-Century_Fiction/ncf0204.06] (6),\n",
       "          Austen, Mansfield Park (1814) [_chadwyck/Nineteenth-Century_Fiction/ncf0204.03] (6),\n",
       "          Austen, Emma (1815) [_chadwyck/Nineteenth-Century_Fiction/ncf0204.01] (7),\n",
       "          Austen, Northanger Abbey (1817) [_chadwyck/Nineteenth-Century_Fiction/ncf0204.04] (6),\n",
       "          Austen, Persuasion (1817) [_chadwyck/Nineteenth-Century_Fiction/ncf0204.05] (5),\n",
       "          Austen, Lady Susan (1871) [_chadwyck/Nineteenth-Century_Fiction/ncf0204.02] (5),\n",
       "          Austen, The Watsons (1871) [_chadwyck/Nineteenth-Century_Fiction/ncf0204.09] (6)])"
      ]
     },
     "execution_count": 2,
     "metadata": {},
     "output_type": "execute_result"
    }
   ],
   "source": [
    "tl=LLTK(author=\"Jane Austen\")\n",
    "tl"
   ]
  },
  {
   "cell_type": "code",
   "execution_count": null,
   "id": "e339e8e0-8f1b-4878-bb78-5c6e5912246f",
   "metadata": {},
   "outputs": [],
   "source": []
  },
  {
   "cell_type": "code",
   "execution_count": null,
   "id": "0004e849-cbc9-4bbf-8b24-879f1f03f5d7",
   "metadata": {},
   "outputs": [
    {
     "data": {
      "text/plain": [
       "\u001b[0;31mSignature:\u001b[0m \u001b[0mLLTK\u001b[0m\u001b[0;34m.\u001b[0m\u001b[0miter_all_texts\u001b[0m\u001b[0;34m(\u001b[0m\u001b[0mtext_iter\u001b[0m\u001b[0;34m=\u001b[0m\u001b[0;32mNone\u001b[0m\u001b[0;34m,\u001b[0m \u001b[0m_unique\u001b[0m\u001b[0;34m=\u001b[0m\u001b[0;32mTrue\u001b[0m\u001b[0;34m,\u001b[0m \u001b[0;34m**\u001b[0m\u001b[0mkwargs\u001b[0m\u001b[0;34m)\u001b[0m\u001b[0;34m\u001b[0m\u001b[0;34m\u001b[0m\u001b[0m\n",
       "\u001b[0;31mDocstring:\u001b[0m <no docstring>\n",
       "\u001b[0;31mSource:\u001b[0m   \n",
       "    \u001b[0;32mdef\u001b[0m \u001b[0miter_texts\u001b[0m\u001b[0;34m(\u001b[0m\u001b[0mself\u001b[0m\u001b[0;34m,\u001b[0m\u001b[0mtext_iter\u001b[0m\u001b[0;34m=\u001b[0m\u001b[0;32mNone\u001b[0m\u001b[0;34m,\u001b[0m\u001b[0m_unique\u001b[0m\u001b[0;34m=\u001b[0m\u001b[0;32mTrue\u001b[0m\u001b[0;34m,\u001b[0m\u001b[0;34m**\u001b[0m\u001b[0mkwargs\u001b[0m\u001b[0;34m)\u001b[0m\u001b[0;34m:\u001b[0m\u001b[0;34m\u001b[0m\n",
       "\u001b[0;34m\u001b[0m        \u001b[0;32mif\u001b[0m \u001b[0m_unique\u001b[0m\u001b[0;34m:\u001b[0m\u001b[0;34m\u001b[0m\n",
       "\u001b[0;34m\u001b[0m            \u001b[0;32myield\u001b[0m \u001b[0;32mfrom\u001b[0m \u001b[0mself\u001b[0m\u001b[0;34m.\u001b[0m\u001b[0miter_texts_uniq\u001b[0m\u001b[0;34m(\u001b[0m\u001b[0mtext_iter\u001b[0m\u001b[0;34m,\u001b[0m\u001b[0;34m**\u001b[0m\u001b[0mkwargs\u001b[0m\u001b[0;34m)\u001b[0m\u001b[0;34m\u001b[0m\n",
       "\u001b[0;34m\u001b[0m        \u001b[0;32melse\u001b[0m\u001b[0;34m:\u001b[0m\u001b[0;34m\u001b[0m\n",
       "\u001b[0;34m\u001b[0m            \u001b[0;32myield\u001b[0m \u001b[0;32mfrom\u001b[0m \u001b[0mself\u001b[0m\u001b[0;34m.\u001b[0m\u001b[0miter_texts_each\u001b[0m\u001b[0;34m(\u001b[0m\u001b[0mtext_iter\u001b[0m\u001b[0;34m,\u001b[0m\u001b[0;34m**\u001b[0m\u001b[0mkwargs\u001b[0m\u001b[0;34m)\u001b[0m\u001b[0;34m\u001b[0m\u001b[0;34m\u001b[0m\u001b[0m\n",
       "\u001b[0;31mFile:\u001b[0m      ~/github/lltk/lltk/text/textlist.py\n",
       "\u001b[0;31mType:\u001b[0m      method\n"
      ]
     },
     "metadata": {},
     "output_type": "display_data"
    }
   ],
   "source": [
    "LLTK.iter_all_texts??"
   ]
  },
  {
   "cell_type": "code",
   "execution_count": null,
   "id": "19358792-0af2-4ca4-b6fd-c27819c6d1ef",
   "metadata": {},
   "outputs": [
    {
     "name": "stdout",
     "output_type": "stream",
     "text": [
      "30.2 µs ± 196 ns per loop (mean ± std. dev. of 7 runs, 10,000 loops each)\n"
     ]
    }
   ],
   "source": [
    "%%timeit\n",
    "LLTK.mdb.get(_type=\"Text\")"
   ]
  },
  {
   "cell_type": "code",
   "execution_count": null,
   "id": "261fc406-3e55-4a76-84c7-62e3e977992d",
   "metadata": {},
   "outputs": [
    {
     "name": "stdout",
     "output_type": "stream",
     "text": [
      "4.99 ms ± 58.9 µs per loop (mean ± std. dev. of 7 runs, 100 loops each)\n"
     ]
    }
   ],
   "source": [
    "%%timeit\n",
    "LLTK.gdb.get_nodes(_type=\"Text\")"
   ]
  },
  {
   "cell_type": "code",
   "execution_count": null,
   "id": "6f4b2e25-d852-478f-beab-821323ed07bf",
   "metadata": {},
   "outputs": [],
   "source": [
    "%%timeit\n",
    "LLTK.mdb.search(_type=\"Text\")"
   ]
  }
 ],
 "metadata": {
  "kernelspec": {
   "display_name": "Python 3 (ipykernel)",
   "language": "python",
   "name": "python3"
  },
  "language_info": {
   "codemirror_mode": {
    "name": "ipython",
    "version": 3
   },
   "file_extension": ".py",
   "mimetype": "text/x-python",
   "name": "python",
   "nbconvert_exporter": "python",
   "pygments_lexer": "ipython3",
   "version": "3.9.7"
  }
 },
 "nbformat": 4,
 "nbformat_minor": 5
}

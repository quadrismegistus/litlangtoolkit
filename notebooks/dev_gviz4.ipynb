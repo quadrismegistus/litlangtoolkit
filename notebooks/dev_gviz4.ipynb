{
 "cells": [
  {
   "cell_type": "code",
   "execution_count": 1,
   "metadata": {},
   "outputs": [],
   "source": [
    "import sys; sys.path.insert(0,'../../yapmap')\n",
    "import sys; sys.path.insert(0,'..')\n",
    "from lltk import *\n",
    "from lltk.model.networks import *\n",
    "gdb=GDB()"
   ]
  },
  {
   "cell_type": "code",
   "execution_count": 2,
   "metadata": {},
   "outputs": [],
   "source": [
    "# C=Corpus('markmark')\n",
    "# # t=Text('_markmark/James,_Henry.The_Ambassadors')\n",
    "# t=[tx for tx in C if 'portrait of a lady' in tx.title.lower()][0]\n",
    "# for src in t.sources: t.init(force=True).sources"
   ]
  },
  {
   "cell_type": "code",
   "execution_count": 3,
   "metadata": {},
   "outputs": [
    {
     "data": {
      "text/plain": [
       "(_tmp/T88633)"
      ]
     },
     "execution_count": 3,
     "metadata": {},
     "output_type": "execute_result"
    }
   ],
   "source": [
    "t=Text(id=get_idx(), title=\"Clarissa\", author=\"Richardson\")\n",
    "t"
   ]
  },
  {
   "cell_type": "code",
   "execution_count": 4,
   "metadata": {},
   "outputs": [
    {
     "data": {
      "text/plain": [
       "(0, 0)"
      ]
     },
     "execution_count": 4,
     "metadata": {},
     "output_type": "execute_result"
    }
   ],
   "source": [
    "len(t.sources), len(t.dsources)"
   ]
  },
  {
   "cell_type": "code",
   "execution_count": 5,
   "metadata": {},
   "outputs": [
    {
     "name": "stderr",
     "output_type": "stream",
     "text": [
      "[16:04:35] lltk.text.text.\u001b[34m\u001b[1minit\u001b[0m( \u001b[36m^ (_tmp/T88633) (remote=True, cache=True [{}]\u001b[0m )\n",
      "[16:04:35] lltk.text.text.\u001b[34m\u001b[1minit\u001b[0m( \u001b[36mInit metadata: (_tmp/T88633), kwargs = {}\u001b[0m )\n",
      "[16:04:35] lltk.text.text.\u001b[34m\u001b[1mget_remote_sources\u001b[0m( \u001b[36mcorpora = ['hathi', 'wikidata', 'isbn', 'goodreads']\u001b[0m )\n",
      "[16:04:35] lltk.corpus.corpus.\u001b[34m\u001b[1mCorpus\u001b[0m( \u001b[36m<- id = hathi\u001b[0m )\n",
      "[16:04:35] lltk.corpus.utils.\u001b[34m\u001b[1mload_corpus\u001b[0m( \u001b[36m<- id = hathi\u001b[0m )\n",
      "[16:04:35] lltk.corpus.utils.\u001b[34m\u001b[1mload_corpus\u001b[0m( \u001b[36mImporting corpus class \"Hathi\" from /Users/ryan/github/lltk/lltk/corpus/hathi/hathi.py\u001b[0m )\n",
      "[16:04:35] lltk.corpus.corpus.\u001b[34m\u001b[1m__init__\u001b[0m( \u001b[36mHathi(hathi)\u001b[0m )\n",
      "[16:04:35] lltk.corpus.utils.\u001b[34m\u001b[1mload_corpus\u001b[0m( \u001b[36m-> HathiCorpus(hathi)\u001b[0m )\n",
      "[16:04:35] lltk.corpus.corpus.\u001b[34m\u001b[1mCorpus\u001b[0m( \u001b[36m-> HathiCorpus(hathi)\u001b[0m )\n",
      "[16:04:35] lltk.text.text.\u001b[34m\u001b[1mget_remote_sources\u001b[0m( \u001b[36mremote corpus: HathiCorpus(hathi) ((_tmp/T88633))\u001b[0m )\n",
      "[16:04:35] hathi.\u001b[34m\u001b[1mquery_for_ids\u001b[0m( \u001b[36m<- (_tmp/T88633)\u001b[0m )\n",
      "[16:04:35] hathi.\u001b[34m\u001b[1mquery_for_ids\u001b[0m( \u001b[36m<- https://catalog.hathitrust.org/Search/Home?adv=1&lookfor%5B%5D=Richardson&type%5B%5D=author&bool%5B%5D=AND&lookfor%5B%5D=Clarissa&type%5B%5D=title&bool%5B%5D=AND&yop=after&page=1&pagesize=100\u001b[0m )\n",
      "[16:04:35] lltk.tools.db.\u001b[34m\u001b[1mquery\u001b[0m( \u001b[36m? https://catalog.hathitrust.org/Search/Home?adv=1&lookfor%5B%5D=Richardson&type%5B%5D=author&bool%5B%5D=AND&lookfor%5B%5D=Clarissa&type%5B%5D=title&bool%5B%5D=AND&yop=after&page=1&pagesize=100\u001b[0m )\n",
      "[16:04:35] lltk.tools.db.\u001b[34m\u001b[1mquery\u001b[0m( \u001b[36m-> <class 'str'> (0)\u001b[0m )\n",
      "[16:04:35] hathi.\u001b[34m\u001b[1mquery_for_ids\u001b[0m( \u001b[36m-> []\u001b[0m )\n",
      "[16:04:35] lltk.corpus.corpus.\u001b[34m\u001b[1mCorpus\u001b[0m( \u001b[36m<- id = wikidata\u001b[0m )\n",
      "[16:04:35] lltk.corpus.utils.\u001b[34m\u001b[1mload_corpus\u001b[0m( \u001b[36m<- id = wikidata\u001b[0m )\n",
      "[16:04:35] lltk.corpus.utils.\u001b[34m\u001b[1mload_corpus\u001b[0m( \u001b[36mImporting corpus class \"Wikidata\" from /Users/ryan/github/lltk/lltk/corpus/wikidata/wikidata.py\u001b[0m )\n",
      "[16:04:35] lltk.corpus.corpus.\u001b[34m\u001b[1m__init__\u001b[0m( \u001b[36mWikidata(wikidata)\u001b[0m )\n",
      "[16:04:35] lltk.corpus.utils.\u001b[34m\u001b[1mload_corpus\u001b[0m( \u001b[36m-> WikidataCorpus(wikidata)\u001b[0m )\n",
      "[16:04:35] lltk.corpus.corpus.\u001b[34m\u001b[1mCorpus\u001b[0m( \u001b[36m-> WikidataCorpus(wikidata)\u001b[0m )\n",
      "[16:04:35] lltk.text.text.\u001b[34m\u001b[1mget_remote_sources\u001b[0m( \u001b[36mremote corpus: WikidataCorpus(wikidata) ((_tmp/T88633))\u001b[0m )\n",
      "[16:04:35] wikidata.\u001b[34m\u001b[1mquery_get_wikidata_id\u001b[0m( \u001b[36mQuerying for ID: Clarissa Richardson\u001b[0m )\n",
      "[16:04:35] lltk.corpus.corpus.\u001b[34m\u001b[1mCorpus\u001b[0m( \u001b[36m<- id = wikidata\u001b[0m )\n",
      "[16:04:35] lltk.corpus.corpus.\u001b[34m\u001b[1mCorpus\u001b[0m( \u001b[36m-> WikidataCorpus(wikidata)\u001b[0m )\n",
      "[16:04:35] lltk.corpus.corpus.\u001b[34m\u001b[1mCorpus\u001b[0m( \u001b[36m<- id = wikidata\u001b[0m )\n",
      "[16:04:35] lltk.corpus.corpus.\u001b[34m\u001b[1mCorpus\u001b[0m( \u001b[36m-> WikidataCorpus(wikidata)\u001b[0m )\n",
      "[16:04:35] wikidata.\u001b[34m\u001b[1mquery_get_db\u001b[0m( \u001b[36mfound result in db for \"Clarissa Richardson\": ['Q980534', 'Q91020427', 'Q28608475', 'Q59546629', 'Q80224924', 'Q58637388', 'Q112562', 'Q59577299', 'Q52070584', 'Q60188648', 'Q89626716', 'Q57126022', 'Q28266655', 'Q23758781', 'Q37076421', 'Q37362485', 'Q47635702', 'Q44555991', 'Q45298324', 'Q43707486']\u001b[0m )\n",
      "[16:04:35] wikidata.\u001b[34m\u001b[1mquery_get_wikidata_id\u001b[0m( \u001b[36mqid_meta from db: 23 keys\u001b[0m )\n",
      "[16:04:35] lltk.corpus.corpus.\u001b[34m\u001b[1mtext\u001b[0m( \u001b[36m<- {'label': 'Clarissa', 'what': 'written work', 'instance_of|P31': ['written work|Q47461344', 'book|Q571'], 'author|P50': 'Samuel Richardson|Q295941', 'genre|P136': 'epistolary novel|Q465821', 'has_edition_or_translation|P747': 'Clara Harlowe|Q15126108', 'freebase_id|P646': '/m/05s1st', 'gnd_id|P227': '4138842-2', 'viaf_id|P214': '181856293', 'title|P1476': 'Clarissa, or, the History of a Young Lady', 'publication_date|P577': '+1748-00-00T00:00:00Z', 'encyclopaedia_britannica_online_id|P1417': 'topic/Clarissa-novel-by-Richardson', 'image|P18': ['RichardsonClarissa.jpg', 'Clarissa, or, the History of a Young Lady (title page).png'], 'language_of_work_or_name|P407': 'English|Q1860', 'idref_id|P269': '027342077', 'bibliotheque_nationale_de_france_id|P268': '11940494z', 'copyright_status|P6216': ['public domain|Q19652', 'public domain|Q19652'], 'oclc_work_id|P5331': '8914116070', 'kinematoscope_literary_work_id|P7487': '229', 'characters|P674': 'Clarissa Harlowe|Q91020427', 'country_of_origin|P495': 'United Kingdom|Q145', 'form_of_creative_work|P7937': 'novel|Q8261'}\u001b[0m )\n",
      "[16:04:35] lltk.corpus.corpus.\u001b[34m\u001b[1mtext\u001b[0m( \u001b[36m<- id = Q980534, corpus = WikidataCorpus(wikidata), kwargs = {'label': 'Clarissa', 'what': 'written work', 'instance_of|P31': ['written work|Q47461344', 'book|Q5)\u001b[0m )\n",
      "[16:04:35] lltk.corpus.corpus.\u001b[34m\u001b[1mget_text\u001b[0m( \u001b[36m<- id = Q980534\u001b[0m )\n",
      "[16:04:35] lltk.corpus.corpus.\u001b[34m\u001b[1mget_text\u001b[0m( \u001b[36m-> ?\u001b[0m )\n",
      "[16:04:35] lltk.corpus.corpus.\u001b[34m\u001b[1minit_text\u001b[0m( \u001b[36m...\u001b[0m )\n",
      "[16:04:35] lltk.corpus.corpus.\u001b[34m\u001b[1minit_text\u001b[0m( \u001b[36m<- id = Q980534, corpus = WikidataCorpus(wikidata), kwargs = {'label': 'Clarissa', 'what': 'written work', 'instance_of|P31': ['written work|Q47461344', 'book|Q5)\u001b[0m )\n",
      "[16:04:35] lltk.text.text.\u001b[34m\u001b[1m__init__\u001b[0m( \u001b[36m<- id = Q980534, corpus = WikidataCorpus(wikidata), kwargs = {'label': 'Clarissa', 'what': 'written work', 'instance_of|P31': ['written work|Q47461344', 'book|Q5)\u001b[0m )\n",
      "[16:04:35] lltk.text.text.\u001b[34m\u001b[1mcache\u001b[0m( \u001b[36m? (_wikidata/Q980534)\u001b[0m )\n",
      "[16:04:35] lltk.tools.tools.\u001b[34m\u001b[1mis_cacheworthy\u001b[0m( \u001b[36mcache unchanged\u001b[0m )\n",
      "[16:04:35] lltk.corpus.corpus.\u001b[34m\u001b[1minit_text\u001b[0m( \u001b[36m-> (_wikidata/Q980534)\u001b[0m )\n",
      "[16:04:35] lltk.corpus.corpus.\u001b[34m\u001b[1mtext\u001b[0m( \u001b[36m-> (_wikidata/Q980534)\u001b[0m )\n",
      "[16:04:35] wikidata.\u001b[34m\u001b[1mtexts_from\u001b[0m( \u001b[36m<- query_get_wikidata_id = ('Q980534', {'id': 'Q980534', 'label': 'Clarissa', 'what': 'written work', 'instance_of|P31': ['written work|Q47461344', 'book|Q571'], 'author|P50': 'Samuel Richardson|Q295941', 'genre|P136': 'epistolary novel|Q465821', 'has_edition_or_translation|P747': 'Clara Harlowe|Q15126108', 'freebase_id|P646': '/m/05s1st', 'gnd_id|P227': '4138842-2', 'viaf_id|P214': '181856293', 'title|P1476': 'Clarissa, or, the History of a Young Lady', 'publication_date|P577': '+1748-00-00T00:00:00Z', 'encyclopaedia_britannica_online_id|P1417': 'topic/Clarissa-novel-by-Richardson', 'image|P18': ['RichardsonClarissa.jpg', 'Clarissa, or, the History of a Young Lady (title page).png'], 'language_of_work_or_name|P407': 'English|Q1860', 'idref_id|P269': '027342077', 'bibliotheque_nationale_de_france_id|P268': '11940494z', 'copyright_status|P6216': ['public domain|Q19652', 'public domain|Q19652'], 'oclc_work_id|P5331': '8914116070', 'kinematoscope_literary_work_id|P7487': '229', 'characters|P674': 'Clarissa Harlowe|Q91020427', 'country_of_origin|P495': 'United Kingdom|Q145', 'form_of_creative_work|P7937': 'novel|Q8261'})\u001b[0m )\n",
      "[16:04:35] lltk.corpus.corpus.\u001b[34m\u001b[1mtext\u001b[0m( \u001b[36m<- {'label': 'Clarissa', 'what': 'written work', 'instance_of|P31': ['written work|Q47461344', 'book|Q571'], 'author|P50': 'Samuel Richardson|Q295941', 'genre|P136': 'epistolary novel|Q465821', 'has_edition_or_translation|P747': 'Clara Harlowe|Q15126108', 'freebase_id|P646': '/m/05s1st', 'gnd_id|P227': '4138842-2', 'viaf_id|P214': '181856293', 'title|P1476': 'Clarissa, or, the History of a Young Lady', 'publication_date|P577': '+1748-00-00T00:00:00Z', 'encyclopaedia_britannica_online_id|P1417': 'topic/Clarissa-novel-by-Richardson', 'image|P18': ['RichardsonClarissa.jpg', 'Clarissa, or, the History of a Young Lady (title page).png'], 'language_of_work_or_name|P407': 'English|Q1860', 'idref_id|P269': '027342077', 'bibliotheque_nationale_de_france_id|P268': '11940494z', 'copyright_status|P6216': ['public domain|Q19652', 'public domain|Q19652'], 'oclc_work_id|P5331': '8914116070', 'kinematoscope_literary_work_id|P7487': '229', 'characters|P674': 'Clarissa Harlowe|Q91020427', 'country_of_origin|P495': 'United Kingdom|Q145', 'form_of_creative_work|P7937': 'novel|Q8261'}\u001b[0m )\n",
      "[16:04:35] lltk.corpus.corpus.\u001b[34m\u001b[1mtext\u001b[0m( \u001b[36m<- id = Q980534, corpus = WikidataCorpus(wikidata), kwargs = {'label': 'Clarissa', 'what': 'written work', 'instance_of|P31': ['written work|Q47461344', 'book|Q5)\u001b[0m )\n",
      "[16:04:35] lltk.corpus.corpus.\u001b[34m\u001b[1mget_text\u001b[0m( \u001b[36m<- id = Q980534\u001b[0m )\n",
      "[16:04:35] lltk.corpus.corpus.\u001b[34m\u001b[1mget_text\u001b[0m( \u001b[36m-> (_wikidata/Q980534)\u001b[0m )\n",
      "[16:04:35] lltk.text.text.\u001b[34m\u001b[1mupdate\u001b[0m( \u001b[36m<- \u001b[0m )\n",
      "[16:04:35] lltk.corpus.corpus.\u001b[34m\u001b[1mtext\u001b[0m( \u001b[36m-> (_wikidata/Q980534)\u001b[0m )\n",
      "[16:04:35] lltk.text.text.\u001b[34m\u001b[1minit\u001b[0m( \u001b[36m^ (_wikidata/Q980534) (remote=True, cache=True [{'from_sources': False}]\u001b[0m )\n",
      "[16:04:35] lltk.text.text.\u001b[34m\u001b[1minit\u001b[0m( \u001b[36mInit metadata: (_wikidata/Q980534), kwargs = {'from_sources': False}\u001b[0m )\n",
      "[16:04:35] lltk.text.text.\u001b[34m\u001b[1mcache\u001b[0m( \u001b[36m? (_wikidata/Q980534)\u001b[0m )\n",
      "[16:04:35] lltk.tools.tools.\u001b[34m\u001b[1mis_cacheworthy\u001b[0m( \u001b[36mcache unchanged\u001b[0m )\n",
      "[16:04:35] lltk.text.text.\u001b[34m\u001b[1madd_source\u001b[0m( \u001b[36m(_wikidata/Q980534) -> (_tmp/T88633)\u001b[0m )\n",
      "[16:04:35] lltk.text.text.\u001b[34m\u001b[1mmatch\u001b[0m( \u001b[36m_wikidata/Q980534 --> _tmp/T88633 ?\u001b[0m )\n",
      "[16:04:35] lltk.text.text.\u001b[34m\u001b[1madd_source\u001b[0m( \u001b[36m(_tmp/T88633) -> (_wikidata/Q980534)\u001b[0m )\n",
      "[16:04:35] lltk.text.text.\u001b[34m\u001b[1mmatch\u001b[0m( \u001b[36m_tmp/T88633 --> _wikidata/Q980534 ?\u001b[0m )\n",
      "[16:04:35] wikidata.\u001b[34m\u001b[1mtexts_from\u001b[0m( \u001b[36m-> (_wikidata/Q980534)\u001b[0m )\n",
      "[16:04:35] lltk.text.text.\u001b[34m\u001b[1mget_remote_sources\u001b[0m( \u001b[36mtsrc.init(remote=True,cache=True)\u001b[0m )\n",
      "[16:04:35] lltk.text.text.\u001b[34m\u001b[1minit\u001b[0m( \u001b[36m^ (_wikidata/Q980534) (remote=True, cache=True [{'from_sources': False}]\u001b[0m )\n",
      "[16:04:35] lltk.corpus.corpus.\u001b[34m\u001b[1mCorpus\u001b[0m( \u001b[36m<- id = isbn\u001b[0m )\n",
      "[16:04:35] lltk.corpus.utils.\u001b[34m\u001b[1mload_corpus\u001b[0m( \u001b[36m<- id = isbn\u001b[0m )\n",
      "[16:04:35] lltk.corpus.utils.\u001b[34m\u001b[1mload_corpus\u001b[0m( \u001b[36mImporting corpus class \"Isbn\" from /Users/ryan/github/lltk/lltk/corpus/isbn/isbn.py\u001b[0m )\n",
      "[16:04:35] lltk.corpus.corpus.\u001b[34m\u001b[1m__init__\u001b[0m( \u001b[36mIsbn(isbn)\u001b[0m )\n",
      "[16:04:35] lltk.corpus.utils.\u001b[34m\u001b[1mload_corpus\u001b[0m( \u001b[36m-> IsbnCorpus(isbn)\u001b[0m )\n",
      "[16:04:35] lltk.corpus.corpus.\u001b[34m\u001b[1mCorpus\u001b[0m( \u001b[36m-> IsbnCorpus(isbn)\u001b[0m )\n",
      "[16:04:35] lltk.text.text.\u001b[34m\u001b[1mget_remote_sources\u001b[0m( \u001b[36mremote corpus: IsbnCorpus(isbn) ((_tmp/T88633))\u001b[0m )\n",
      "[16:04:35] isbn.\u001b[34m\u001b[1mtexts_from\u001b[0m( \u001b[36m!? (_tmp/T88633) []\u001b[0m )\n",
      "[16:04:35] lltk.corpus.corpus.\u001b[34m\u001b[1mCorpus\u001b[0m( \u001b[36m<- id = goodreads\u001b[0m )\n",
      "[16:04:35] lltk.corpus.utils.\u001b[34m\u001b[1mload_corpus\u001b[0m( \u001b[36m<- id = goodreads\u001b[0m )\n",
      "[16:04:35] lltk.corpus.utils.\u001b[34m\u001b[1mload_corpus\u001b[0m( \u001b[36mImporting corpus class \"Goodreads\" from /Users/ryan/github/lltk/lltk/corpus/goodreads/goodreads.py\u001b[0m )\n",
      "[16:04:35] lltk.corpus.corpus.\u001b[34m\u001b[1m__init__\u001b[0m( \u001b[36mGoodreads(goodreads)\u001b[0m )\n",
      "[16:04:35] lltk.corpus.utils.\u001b[34m\u001b[1mload_corpus\u001b[0m( \u001b[36m-> GoodreadsCorpus(goodreads)\u001b[0m )\n",
      "[16:04:35] lltk.corpus.corpus.\u001b[34m\u001b[1mCorpus\u001b[0m( \u001b[36m-> GoodreadsCorpus(goodreads)\u001b[0m )\n",
      "[16:04:35] lltk.text.text.\u001b[34m\u001b[1mget_remote_sources\u001b[0m( \u001b[36mremote corpus: GoodreadsCorpus(goodreads) ((_tmp/T88633))\u001b[0m )\n",
      "[16:04:35] lltk.text.text.\u001b[34m\u001b[1mmetadata_from_sources\u001b[0m( \u001b[36m(_tmp/T88633)\u001b[0m )\n",
      "[16:04:35] lltk.text.text.\u001b[34m\u001b[1mmetadata_from_sources\u001b[0m( \u001b[36msources_present = set()\u001b[0m )\n",
      "[16:04:35] lltk.corpus.corpus.\u001b[34m\u001b[1mCorpus\u001b[0m( \u001b[36m<- id = wikidata\u001b[0m )\n",
      "[16:04:35] lltk.corpus.corpus.\u001b[34m\u001b[1mCorpus\u001b[0m( \u001b[36m-> WikidataCorpus(wikidata)\u001b[0m )\n",
      "[16:04:35] lltk.corpus.corpus.\u001b[34m\u001b[1mtext\u001b[0m( \u001b[36m<- {}\u001b[0m )\n",
      "[16:04:35] lltk.corpus.corpus.\u001b[34m\u001b[1mtext\u001b[0m( \u001b[36m<- id = Q980534, corpus = WikidataCorpus(wikidata)\u001b[0m )\n",
      "[16:04:35] lltk.corpus.corpus.\u001b[34m\u001b[1mget_text\u001b[0m( \u001b[36m<- id = Q980534\u001b[0m )\n",
      "[16:04:35] lltk.corpus.corpus.\u001b[34m\u001b[1mget_text\u001b[0m( \u001b[36m-> (_wikidata/Q980534)\u001b[0m )\n",
      "[16:04:35] lltk.corpus.corpus.\u001b[34m\u001b[1mtext\u001b[0m( \u001b[36m-> (_wikidata/Q980534)\u001b[0m )\n",
      "[16:04:35] lltk.text.text.\u001b[34m\u001b[1mText\u001b[0m( \u001b[36m-> (_wikidata/Q980534)\u001b[0m )\n",
      "[16:04:35] lltk.corpus.corpus.\u001b[34m\u001b[1mCorpus\u001b[0m( \u001b[36m<- id = tmp\u001b[0m )\n",
      "[16:04:35] lltk.corpus.corpus.\u001b[34m\u001b[1mCorpus\u001b[0m( \u001b[36m-> BaseCorpus(tmp)\u001b[0m )\n",
      "[16:04:35] lltk.corpus.corpus.\u001b[34m\u001b[1mtext\u001b[0m( \u001b[36m<- {}\u001b[0m )\n",
      "[16:04:35] lltk.corpus.corpus.\u001b[34m\u001b[1mtext\u001b[0m( \u001b[36m<- id = T42972, corpus = BaseCorpus(tmp)\u001b[0m )\n",
      "[16:04:35] lltk.corpus.corpus.\u001b[34m\u001b[1mget_text\u001b[0m( \u001b[36m<- id = T42972\u001b[0m )\n",
      "[16:04:35] lltk.corpus.corpus.\u001b[34m\u001b[1mget_text\u001b[0m( \u001b[36m-> ?\u001b[0m )\n",
      "[16:04:35] lltk.corpus.corpus.\u001b[34m\u001b[1minit_text\u001b[0m( \u001b[36m...\u001b[0m )\n",
      "[16:04:35] lltk.corpus.corpus.\u001b[34m\u001b[1minit_text\u001b[0m( \u001b[36m<- id = T42972, corpus = BaseCorpus(tmp)\u001b[0m )\n",
      "[16:04:35] lltk.text.text.\u001b[34m\u001b[1m__init__\u001b[0m( \u001b[36m<- id = T42972, corpus = BaseCorpus(tmp)\u001b[0m )\n",
      "[16:04:35] lltk.text.text.\u001b[34m\u001b[1mcache\u001b[0m( \u001b[36m? (_tmp/T42972)\u001b[0m )\n",
      "[16:04:35] lltk.tools.tools.\u001b[34m\u001b[1mis_cacheworthy\u001b[0m( \u001b[36mcache unchanged\u001b[0m )\n",
      "[16:04:35] lltk.corpus.corpus.\u001b[34m\u001b[1minit_text\u001b[0m( \u001b[36m-> (_tmp/T42972)\u001b[0m )\n",
      "[16:04:35] lltk.corpus.corpus.\u001b[34m\u001b[1mtext\u001b[0m( \u001b[36m-> (_tmp/T42972)\u001b[0m )\n",
      "[16:04:35] lltk.text.text.\u001b[34m\u001b[1mText\u001b[0m( \u001b[36m-> (_tmp/T42972)\u001b[0m )\n",
      "[16:04:35] lltk.corpus.corpus.\u001b[34m\u001b[1mCorpus\u001b[0m( \u001b[36m<- id = tmp\u001b[0m )\n",
      "[16:04:35] lltk.corpus.corpus.\u001b[34m\u001b[1mCorpus\u001b[0m( \u001b[36m-> BaseCorpus(tmp)\u001b[0m )\n",
      "[16:04:35] lltk.corpus.corpus.\u001b[34m\u001b[1mtext\u001b[0m( \u001b[36m<- {}\u001b[0m )\n",
      "[16:04:35] lltk.corpus.corpus.\u001b[34m\u001b[1mtext\u001b[0m( \u001b[36m<- id = T52048, corpus = BaseCorpus(tmp)\u001b[0m )\n",
      "[16:04:35] lltk.corpus.corpus.\u001b[34m\u001b[1mget_text\u001b[0m( \u001b[36m<- id = T52048\u001b[0m )\n",
      "[16:04:35] lltk.corpus.corpus.\u001b[34m\u001b[1mget_text\u001b[0m( \u001b[36m-> ?\u001b[0m )\n",
      "[16:04:35] lltk.corpus.corpus.\u001b[34m\u001b[1minit_text\u001b[0m( \u001b[36m...\u001b[0m )\n",
      "[16:04:35] lltk.corpus.corpus.\u001b[34m\u001b[1minit_text\u001b[0m( \u001b[36m<- id = T52048, corpus = BaseCorpus(tmp)\u001b[0m )\n",
      "[16:04:35] lltk.text.text.\u001b[34m\u001b[1m__init__\u001b[0m( \u001b[36m<- id = T52048, corpus = BaseCorpus(tmp)\u001b[0m )\n",
      "[16:04:35] lltk.text.text.\u001b[34m\u001b[1mcache\u001b[0m( \u001b[36m? (_tmp/T52048)\u001b[0m )\n",
      "[16:04:35] lltk.tools.tools.\u001b[34m\u001b[1mis_cacheworthy\u001b[0m( \u001b[36mcache unchanged\u001b[0m )\n",
      "[16:04:35] lltk.corpus.corpus.\u001b[34m\u001b[1minit_text\u001b[0m( \u001b[36m-> (_tmp/T52048)\u001b[0m )\n",
      "[16:04:35] lltk.corpus.corpus.\u001b[34m\u001b[1mtext\u001b[0m( \u001b[36m-> (_tmp/T52048)\u001b[0m )\n",
      "[16:04:35] lltk.text.text.\u001b[34m\u001b[1mText\u001b[0m( \u001b[36m-> (_tmp/T52048)\u001b[0m )\n",
      "[16:04:35] lltk.text.text.\u001b[34m\u001b[1mmetadata_from_sources\u001b[0m( \u001b[36msources_needed = [(_wikidata/Q980534)]\u001b[0m )\n",
      "[16:04:35] lltk.text.text.\u001b[34m\u001b[1mcache\u001b[0m( \u001b[36m? (_wikidata/Q980534)\u001b[0m )\n",
      "[16:04:35] lltk.tools.tools.\u001b[34m\u001b[1mis_cacheworthy\u001b[0m( \u001b[36mcache unchanged\u001b[0m )\n",
      "[16:04:35] lltk.text.text.\u001b[34m\u001b[1mcache\u001b[0m( \u001b[36m? (_tmp/T88633)\u001b[0m )\n",
      "[16:04:35] lltk.tools.tools.\u001b[34m\u001b[1mis_cacheworthy\u001b[0m( \u001b[36mcache unchanged\u001b[0m )\n"
     ]
    }
   ],
   "source": [
    "with log: t.init(remote=True)"
   ]
  },
  {
   "cell_type": "code",
   "execution_count": 6,
   "metadata": {},
   "outputs": [
    {
     "data": {
      "image/png": "[encoded data removed]",
      "text/plain": [
       "<Figure size 1440x720 with 1 Axes>"
      ]
     },
     "metadata": {},
     "output_type": "display_data"
    }
   ],
   "source": [
    "# %%timeit\n",
    "with log:\n",
    "    g=t.matchgraph()\n",
    "    draw_nx(g)"
   ]
  },
  {
   "cell_type": "code",
   "execution_count": 7,
   "metadata": {},
   "outputs": [
    {
     "data": {
      "text/plain": [
       "False"
      ]
     },
     "execution_count": 7,
     "metadata": {},
     "output_type": "execute_result"
    }
   ],
   "source": [
    "tnull=Text('None')\n",
    "tnull.id_is_valid()"
   ]
  },
  {
   "cell_type": "code",
   "execution_count": 8,
   "metadata": {},
   "outputs": [
    {
     "data": {
      "text/plain": [
       "False"
      ]
     },
     "execution_count": 8,
     "metadata": {},
     "output_type": "execute_result"
    }
   ],
   "source": [
    "tnull in t.dsources"
   ]
  },
  {
   "cell_type": "code",
   "execution_count": null,
   "metadata": {},
   "outputs": [],
   "source": []
  }
 ],
 "metadata": {
  "interpreter": {
   "hash": "99c3488a746bccd77b7949f8f419451e1c962da56ebbaaae6e4d2e6c8c07eaa0"
  },
  "kernelspec": {
   "display_name": "Python 3.9.7 ('base')",
   "language": "python",
   "name": "python3"
  },
  "language_info": {
   "codemirror_mode": {
    "name": "ipython",
    "version": 3
   },
   "file_extension": ".py",
   "mimetype": "text/x-python",
   "name": "python",
   "nbconvert_exporter": "python",
   "pygments_lexer": "ipython3",
   "version": "3.9.7"
  },
  "orig_nbformat": 4
 },
 "nbformat": 4,
 "nbformat_minor": 2
}

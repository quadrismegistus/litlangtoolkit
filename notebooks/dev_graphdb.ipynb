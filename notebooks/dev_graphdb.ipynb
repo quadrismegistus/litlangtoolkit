{
 "cells": [
  {
   "cell_type": "code",
   "execution_count": 1,
   "metadata": {},
   "outputs": [],
   "source": [
    "import sys; sys.path.insert(0,'../../yapmap')\n",
    "import sys; sys.path.insert(0,'..')\n",
    "from lltk import *"
   ]
  },
  {
   "cell_type": "code",
   "execution_count": 2,
   "metadata": {},
   "outputs": [
    {
     "data": {
      "text/plain": [
       "('/Users/ryan/lltk_data/corpora/tmp/texts/author=Joyce/title=Ulysses/_sources',\n",
       " [TextWikidataClass(_wikidata/Q6511)])"
      ]
     },
     "execution_count": 2,
     "metadata": {},
     "output_type": "execute_result"
    }
   ],
   "source": [
    "t=Text(title='Ulysses',author='Joyce')\n",
    "t.metadata(remote=True)\n",
    "t.path_sources, t.sources\n"
   ]
  },
  {
   "cell_type": "code",
   "execution_count": 3,
   "metadata": {},
   "outputs": [],
   "source": [
    "@property\n",
    "def path_rel(self): return self.relpath()\n",
    "@property\n",
    "def rel_path(self): return self.relpath(reverse=True)\n",
    "\n",
    "def relpath(self,path=None,text=None,reverse=False):\n",
    "    a = path if path else self.path\n",
    "    b = text.path if text else PATH_CORPUS\n",
    "    if reverse: a,b=b,a\n",
    "    return os.path.relpath(a,b)\n",
    "    \n",
    "BaseText.path_rel=path_rel\n",
    "BaseText.rel_path=rel_path\n",
    "BaseText.relpath=relpath"
   ]
  },
  {
   "cell_type": "code",
   "execution_count": 4,
   "metadata": {},
   "outputs": [
    {
     "data": {
      "text/plain": [
       "('tmp/texts/author=Joyce/title=Ulysses', '../../../..')"
      ]
     },
     "execution_count": 4,
     "metadata": {},
     "output_type": "execute_result"
    }
   ],
   "source": [
    "t.path_rel, t.rel_path"
   ]
  },
  {
   "cell_type": "code",
   "execution_count": 17,
   "metadata": {},
   "outputs": [],
   "source": [
    "def symlink(self,text,force=False,sep=META_KEY_SEP):\n",
    "    path_src_fn=os.path.join(\n",
    "        self.path_sources,\n",
    "        text.addr.replace(os.path.sep,sep)[:100]\n",
    "    )\n",
    "    if force or not os.path.exists(path_src_fn):\n",
    "        rmfn(path_src_fn)\n",
    "        path_rel = os.path.relpath(text.path, self.path_sources)\n",
    "        log(f'{path_src_fn} --> {path_rel}')\n",
    "        ensure_dir_exists(path_src_fn,fn=True)\n",
    "        os.symlink(path_rel, path_src_fn)\n",
    "        return path_rel\n",
    "    \n",
    "def init_cache_json_sources_iter(self,sep=META_KEY_SEP,*x,**y):\n",
    "    if os.path.exists(self.path_sources):\n",
    "        for fn in os.listdir(self.path_sources):\n",
    "            fnfn=os.path.join(self.path_sources,fn)\n",
    "            if Path(fnfn).is_symlink():\n",
    "                corpus = to_corpus_and_id(fn.replace(sep,os.path.sep))[0]\n",
    "                print(corpus)\n",
    "\n",
    "\n",
    "BaseText.init_cache_json_sources_iter = init_cache_json_sources_iter\n",
    "BaseText.symlink=symlink"
   ]
  },
  {
   "cell_type": "code",
   "execution_count": 18,
   "metadata": {},
   "outputs": [
    {
     "name": "stderr",
     "output_type": "stream",
     "text": [
      "[14:45:54] lltk.model.matcher.\u001b[34m\u001b[1mcache_g_triples\u001b[0m( \u001b[36mcached graph to /Users/ryan/lltk_data/corpora/tmp/data/rels/triples.txt\u001b[0m )\n"
     ]
    },
    {
     "ename": "AttributeError",
     "evalue": "'NoneType' object has no attribute 'addr'",
     "output_type": "error",
     "traceback": [
      "\u001b[0;31m---------------------------------------------------------------------------\u001b[0m",
      "\u001b[0;31mAttributeError\u001b[0m                            Traceback (most recent call last)",
      "\u001b[1;32m/Users/ryan/github/lltk/notebooks/dev_graphdb.ipynb Cell 6'\u001b[0m in \u001b[0;36m<cell line: 1>\u001b[0;34m()\u001b[0m\n\u001b[0;32m----> <a href='vscode-notebook-cell:/Users/ryan/github/lltk/notebooks/dev_graphdb.ipynb#ch0000015?line=0'>1</a>\u001b[0m \u001b[39mwith\u001b[39;00m log: t\u001b[39m.\u001b[39msymlink(t\u001b[39m.\u001b[39msource,force\u001b[39m=\u001b[39m\u001b[39mTrue\u001b[39;00m)\n",
      "\u001b[1;32m/Users/ryan/github/lltk/notebooks/dev_graphdb.ipynb Cell 5'\u001b[0m in \u001b[0;36msymlink\u001b[0;34m(self, text, force, sep)\u001b[0m\n\u001b[1;32m      <a href='vscode-notebook-cell:/Users/ryan/github/lltk/notebooks/dev_graphdb.ipynb#ch0000011?line=0'>1</a>\u001b[0m \u001b[39mdef\u001b[39;00m \u001b[39msymlink\u001b[39m(\u001b[39mself\u001b[39m,text,force\u001b[39m=\u001b[39m\u001b[39mFalse\u001b[39;00m,sep\u001b[39m=\u001b[39mMETA_KEY_SEP):\n\u001b[1;32m      <a href='vscode-notebook-cell:/Users/ryan/github/lltk/notebooks/dev_graphdb.ipynb#ch0000011?line=1'>2</a>\u001b[0m     path_src_fn\u001b[39m=\u001b[39mos\u001b[39m.\u001b[39mpath\u001b[39m.\u001b[39mjoin(\n\u001b[1;32m      <a href='vscode-notebook-cell:/Users/ryan/github/lltk/notebooks/dev_graphdb.ipynb#ch0000011?line=2'>3</a>\u001b[0m         \u001b[39mself\u001b[39m\u001b[39m.\u001b[39mpath_sources,\n\u001b[0;32m----> <a href='vscode-notebook-cell:/Users/ryan/github/lltk/notebooks/dev_graphdb.ipynb#ch0000011?line=3'>4</a>\u001b[0m         text\u001b[39m.\u001b[39;49maddr\u001b[39m.\u001b[39mreplace(os\u001b[39m.\u001b[39mpath\u001b[39m.\u001b[39msep,sep)[:\u001b[39m100\u001b[39m]\n\u001b[1;32m      <a href='vscode-notebook-cell:/Users/ryan/github/lltk/notebooks/dev_graphdb.ipynb#ch0000011?line=4'>5</a>\u001b[0m     )\n\u001b[1;32m      <a href='vscode-notebook-cell:/Users/ryan/github/lltk/notebooks/dev_graphdb.ipynb#ch0000011?line=5'>6</a>\u001b[0m     \u001b[39mif\u001b[39;00m force \u001b[39mor\u001b[39;00m \u001b[39mnot\u001b[39;00m os\u001b[39m.\u001b[39mpath\u001b[39m.\u001b[39mexists(path_src_fn):\n\u001b[1;32m      <a href='vscode-notebook-cell:/Users/ryan/github/lltk/notebooks/dev_graphdb.ipynb#ch0000011?line=6'>7</a>\u001b[0m         rmfn(path_src_fn)\n",
      "\u001b[0;31mAttributeError\u001b[0m: 'NoneType' object has no attribute 'addr'"
     ]
    }
   ],
   "source": [
    "with log: t.symlink(t.source,force=True)"
   ]
  },
  {
   "cell_type": "code",
   "execution_count": 13,
   "metadata": {},
   "outputs": [],
   "source": []
  },
  {
   "cell_type": "code",
   "execution_count": 15,
   "metadata": {},
   "outputs": [
    {
     "ename": "TypeError",
     "evalue": "'NoneType' object is not an iterator",
     "output_type": "error",
     "traceback": [
      "\u001b[0;31m---------------------------------------------------------------------------\u001b[0m",
      "\u001b[0;31mTypeError\u001b[0m                                 Traceback (most recent call last)",
      "\u001b[1;32m/Users/ryan/github/lltk/notebooks/dev_graphdb.ipynb Cell 8'\u001b[0m in \u001b[0;36m<cell line: 2>\u001b[0;34m()\u001b[0m\n\u001b[1;32m      <a href='vscode-notebook-cell:/Users/ryan/github/lltk/notebooks/dev_graphdb.ipynb#ch0000021?line=0'>1</a>\u001b[0m t\u001b[39m=\u001b[39mText()\n\u001b[0;32m----> <a href='vscode-notebook-cell:/Users/ryan/github/lltk/notebooks/dev_graphdb.ipynb#ch0000021?line=1'>2</a>\u001b[0m \u001b[39mnext\u001b[39;49m(t\u001b[39m.\u001b[39;49minit_cache_json_sources_iter())\n",
      "\u001b[0;31mTypeError\u001b[0m: 'NoneType' object is not an iterator"
     ]
    }
   ],
   "source": [
    "t=Text()\n",
    "next(t.init_cache_json_sources_iter())"
   ]
  },
  {
   "cell_type": "code",
   "execution_count": 16,
   "metadata": {},
   "outputs": [],
   "source": [
    "# db = DB(engine='zodb')\n",
    "# db.open()\n",
    "# db.__dict__"
   ]
  },
  {
   "cell_type": "code",
   "execution_count": 3,
   "metadata": {},
   "outputs": [],
   "source": [
    "# class LLGraph(): pass \n",
    "# # llg = LLGraph()\n",
    "# # db.set('llg2',llg)\n",
    "# llg = db.get('llg2')"
   ]
  },
  {
   "cell_type": "code",
   "execution_count": 5,
   "metadata": {},
   "outputs": [
    {
     "name": "stdout",
     "output_type": "stream",
     "text": [
      "3.97 ms ± 264 µs per loop (mean ± std. dev. of 7 runs, 100 loops each)\n"
     ]
    }
   ],
   "source": [
    "%%timeit\n",
    "with log.quiet: M.init_g_triples()"
   ]
  },
  {
   "cell_type": "code",
   "execution_count": 7,
   "metadata": {},
   "outputs": [],
   "source": [
    "class LLGraph():\n",
    "    "
   ]
  },
  {
   "cell_type": "code",
   "execution_count": 10,
   "metadata": {},
   "outputs": [],
   "source": [
    "db.get(llg)"
   ]
  },
  {
   "cell_type": "code",
   "execution_count": 9,
   "metadata": {},
   "outputs": [
    {
     "data": {
      "text/plain": [
       "False"
      ]
     },
     "execution_count": 9,
     "metadata": {},
     "output_type": "execute_result"
    }
   ],
   "source": [
    "llg._p_oid == id1"
   ]
  },
  {
   "cell_type": "code",
   "execution_count": 10,
   "metadata": {},
   "outputs": [
    {
     "ename": "AttributeError",
     "evalue": "'LLDBZodb' object has no attribute 'commit'",
     "output_type": "error",
     "traceback": [
      "\u001b[0;31m---------------------------------------------------------------------------\u001b[0m",
      "\u001b[0;31mAttributeError\u001b[0m                            Traceback (most recent call last)",
      "\u001b[1;32m/Users/ryan/github/lltk/notebooks/dev_graphdb.ipynb Cell 6'\u001b[0m in \u001b[0;36m<cell line: 1>\u001b[0;34m()\u001b[0m\n\u001b[0;32m----> <a href='vscode-notebook-cell:/Users/ryan/github/lltk/notebooks/dev_graphdb.ipynb#ch0000012?line=0'>1</a>\u001b[0m db\u001b[39m.\u001b[39;49mcommit()\n",
      "\u001b[0;31mAttributeError\u001b[0m: 'LLDBZodb' object has no attribute 'commit'"
     ]
    }
   ],
   "source": [
    "db.commit()"
   ]
  },
  {
   "cell_type": "code",
   "execution_count": null,
   "metadata": {},
   "outputs": [],
   "source": []
  }
 ],
 "metadata": {
  "interpreter": {
   "hash": "99c3488a746bccd77b7949f8f419451e1c962da56ebbaaae6e4d2e6c8c07eaa0"
  },
  "kernelspec": {
   "display_name": "Python 3.9.7 ('base')",
   "language": "python",
   "name": "python3"
  },
  "language_info": {
   "codemirror_mode": {
    "name": "ipython",
    "version": 3
   },
   "file_extension": ".py",
   "mimetype": "text/x-python",
   "name": "python",
   "nbconvert_exporter": "python",
   "pygments_lexer": "ipython3",
   "version": "3.9.7"
  },
  "orig_nbformat": 4
 },
 "nbformat": 4,
 "nbformat_minor": 2
}

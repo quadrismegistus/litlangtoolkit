{
 "cells": [
  {
   "cell_type": "code",
   "execution_count": 2,
   "metadata": {},
   "outputs": [],
   "source": [
    "import sys; sys.path.insert(0,'../../yapmap')\n",
    "import sys; sys.path.insert(0,'..')\n",
    "from lltk import *\n",
    "from lltk.model.networks import draw_nx\n",
    "gdb=GDB()\n",
    "# res=Corpus('markmark').sync(), Corpus('chicago').sync()"
   ]
  },
  {
   "cell_type": "code",
   "execution_count": 3,
   "metadata": {},
   "outputs": [],
   "source": [
    "addrs=['_markmark/James,_Henry.The_Ambassadors', '_markmark/James,_Henry.The_Golden_Bowl', '_markmark/James,_Henry.The_Portrait_of_a_Lady', '_markmark/James,_Henry.The_Wings_of_the_Dove', '_markmark/James,_Henry.The_Bostonians', '_chicago/00000086', '_chicago/00000524', '_chicago/00000711', '_chicago/00000901', '_chicago/00000902', '_chicago/00001457', '_chicago/00001601', '_chicago/00001757', '_chicago/00002238', '_chicago/00002499', '_chicago/00003859', '_chicago/00000038', '_chicago/00003858', '_chicago/00004205', '_chicago/00000039', '_chicago/00000381', '_chicago/00000037', '_chicago/00000130', '_chicago/00001312', '_chicago/00002099', '_chicago/00003255']\n",
    "texts=list(map(Text,addrs))\n",
    "t=texts[0]\n",
    "# t, t._meta"
   ]
  },
  {
   "cell_type": "code",
   "execution_count": 4,
   "metadata": {},
   "outputs": [
    {
     "name": "stderr",
     "output_type": "stream",
     "text": [
      "[20:49:53] lltk.text.text.\u001b[34m\u001b[1minit\u001b[0m( \u001b[36mInit metadata: TextMarkMark(_markmark/James,_Henry.The_Ambassadors), kwargs = {}\u001b[0m )\n",
      "[20:49:53] lltk.text.text.\u001b[34m\u001b[1mget_remote_sources\u001b[0m( \u001b[36mTextMarkMark(_markmark/James,_Henry.The_Ambassadors)\u001b[0m )\n",
      "[20:49:53] lltk.corpus.corpus.\u001b[34m\u001b[1mCorpus\u001b[0m( \u001b[36m<- id = hathi\u001b[0m )\n",
      "[20:49:53] lltk.corpus.utils.\u001b[34m\u001b[1mload_corpus\u001b[0m( \u001b[36m<- id = hathi\u001b[0m )\n",
      "[20:49:53] lltk.corpus.utils.\u001b[34m\u001b[1mload_corpus\u001b[0m( \u001b[36mImporting corpus class \"Hathi\" from /Users/ryan/github/lltk/lltk/corpus/hathi/hathi.py\u001b[0m )\n",
      "[20:49:53] lltk.corpus.corpus.\u001b[34m\u001b[1m__init__\u001b[0m( \u001b[36mHathi(hathi)\u001b[0m )\n",
      "[20:49:53] lltk.corpus.utils.\u001b[34m\u001b[1mload_corpus\u001b[0m( \u001b[36m-> HathiCorpus(hathi)\u001b[0m )\n",
      "[20:49:53] lltk.corpus.corpus.\u001b[34m\u001b[1mCorpus\u001b[0m( \u001b[36m-> HathiCorpus(hathi)\u001b[0m )\n",
      "[20:49:53] lltk.text.text.\u001b[34m\u001b[1mget_remote_sources\u001b[0m( \u001b[36mremote corpus: HathiCorpus(hathi) (TextMarkMark(_markmark/James,_Henry.The_Ambassadors))\u001b[0m )\n",
      "[20:49:53] hathi.\u001b[34m\u001b[1mquery_for_ids\u001b[0m( \u001b[36m<- TextMarkMark(_markmark/James,_Henry.The_Ambassadors)\u001b[0m )\n",
      "[20:49:53] hathi.\u001b[34m\u001b[1mquery_for_ids\u001b[0m( \u001b[36m<- https://catalog.hathitrust.org/Search/Home?adv=1&lookfor%5B%5D=James&type%5B%5D=author&bool%5B%5D=AND&lookfor%5B%5D=The+Ambassadors&type%5B%5D=title&bool%5B%5D=AND&yop=after&page=1&pagesize=100\u001b[0m )\n",
      "[20:49:53] hathi.\u001b[34m\u001b[1mquery_for_ids\u001b[0m( \u001b[36mfound result on db (46 records)\u001b[0m )\n",
      "[20:49:53] lltk.corpus.corpus.\u001b[34m\u001b[1mtext\u001b[0m( \u001b[36m<- {}\u001b[0m )\n",
      "[20:49:53] lltk.corpus.corpus.\u001b[34m\u001b[1mtext\u001b[0m( \u001b[36m<- id = htrn/000145209, corpus = HathiCorpus(hathi), source = TextMarkMark(_markmark/James,_Henry.The_Ambassadors)\u001b[0m )\n",
      "[20:49:53] hathi.\u001b[34m\u001b[1mget_text_id\u001b[0m( \u001b[36m<- id = htrn/000145209, source = TextMarkMark(_markmark/James,_Henry.The_Ambassadors), kwargs = {'_new': False})\u001b[0m )\n",
      "[20:49:53] lltk.corpus.corpus.\u001b[34m\u001b[1mget_text\u001b[0m( \u001b[36m<- id = htrn/000145209\u001b[0m )\n",
      "[20:49:53] lltk.corpus.corpus.\u001b[34m\u001b[1mget_text\u001b[0m( \u001b[36m-> ?\u001b[0m )\n",
      "[20:49:53] lltk.corpus.corpus.\u001b[34m\u001b[1minit_text\u001b[0m( \u001b[36m...\u001b[0m )\n",
      "[20:49:53] lltk.corpus.corpus.\u001b[34m\u001b[1minit_text\u001b[0m( \u001b[36m<- id = htrn/000145209, corpus = HathiCorpus(hathi), source = TextMarkMark(_markmark/James,_Henry.The_Ambassadors)\u001b[0m )\n",
      "[20:49:53] lltk.text.text.\u001b[34m\u001b[1m__init__\u001b[0m( \u001b[36m<- id = htrn/000145209, corpus = HathiCorpus(hathi), source = TextMarkMark(_markmark/James,_Henry.The_Ambassadors)\u001b[0m )\n",
      "[20:49:54] lltk.corpus.corpus.\u001b[34m\u001b[1minit_text\u001b[0m( \u001b[36m-> TextHathi(_hathi/htrn/000145209)\u001b[0m )\n",
      "[20:49:54] lltk.text.text.\u001b[34m\u001b[1madd_source\u001b[0m( \u001b[36mTextHathiRecord(_hathi/htrn/000145209) -> TextMarkMark(_markmark/James,_Henry.The_Ambassadors)\u001b[0m )\n",
      "[20:49:54] lltk.text.text.\u001b[34m\u001b[1mmatch\u001b[0m( \u001b[36m_hathi/htrn/000145209 --> _markmark/James,_Henry.The_Ambassadors ?\u001b[0m )\n",
      "[20:49:54] lltk.text.text.\u001b[34m\u001b[1madd_source\u001b[0m( \u001b[36mTextMarkMark(_markmark/James,_Henry.The_Ambassadors) -> TextHathiRecord(_hathi/htrn/000145209)\u001b[0m )\n",
      "[20:49:54] lltk.text.text.\u001b[34m\u001b[1mmatch\u001b[0m( \u001b[36m_markmark/James,_Henry.The_Ambassadors --> _hathi/htrn/000145209 ?\u001b[0m )\n",
      "[20:49:54] lltk.corpus.corpus.\u001b[34m\u001b[1mtext\u001b[0m( \u001b[36m-> TextHathiRecord(_hathi/htrn/000145209)\u001b[0m )\n",
      "[20:49:54] lltk.text.text.\u001b[34m\u001b[1minit\u001b[0m( \u001b[36mInit metadata: TextHathiRecord(_hathi/htrn/000145209), kwargs = {'from_sources': False}\u001b[0m )\n",
      "[20:49:54] lltk.corpus.corpus.\u001b[34m\u001b[1mCorpus\u001b[0m( \u001b[36m<- id = wikidata\u001b[0m )\n",
      "[20:49:54] lltk.corpus.utils.\u001b[34m\u001b[1mload_corpus\u001b[0m( \u001b[36m<- id = wikidata\u001b[0m )\n",
      "[20:49:54] lltk.corpus.utils.\u001b[34m\u001b[1mload_corpus\u001b[0m( \u001b[36mImporting corpus class \"Wikidata\" from /Users/ryan/github/lltk/lltk/corpus/wikidata/wikidata.py\u001b[0m )\n",
      "[20:49:54] lltk.corpus.corpus.\u001b[34m\u001b[1m__init__\u001b[0m( \u001b[36mWikidata(wikidata)\u001b[0m )\n",
      "[20:49:54] lltk.corpus.utils.\u001b[34m\u001b[1mload_corpus\u001b[0m( \u001b[36m-> WikidataCorpus(wikidata)\u001b[0m )\n",
      "[20:49:54] lltk.corpus.corpus.\u001b[34m\u001b[1mCorpus\u001b[0m( \u001b[36m-> WikidataCorpus(wikidata)\u001b[0m )\n",
      "[20:49:54] lltk.text.text.\u001b[34m\u001b[1mget_remote_sources\u001b[0m( \u001b[36mremote corpus: WikidataCorpus(wikidata) (TextMarkMark(_markmark/James,_Henry.The_Ambassadors))\u001b[0m )\n",
      "[20:49:54] wikidata.\u001b[34m\u001b[1mquery_get_wikidata_id\u001b[0m( \u001b[36mQuerying for ID: The Ambassadors James\u001b[0m )\n",
      "[20:49:54] lltk.corpus.corpus.\u001b[34m\u001b[1mCorpus\u001b[0m( \u001b[36m<- id = wikidata\u001b[0m )\n",
      "[20:49:54] lltk.corpus.corpus.\u001b[34m\u001b[1mCorpus\u001b[0m( \u001b[36m-> WikidataCorpus(wikidata)\u001b[0m )\n",
      "[20:49:54] lltk.corpus.corpus.\u001b[34m\u001b[1mCorpus\u001b[0m( \u001b[36m<- id = wikidata\u001b[0m )\n",
      "[20:49:54] lltk.corpus.corpus.\u001b[34m\u001b[1mCorpus\u001b[0m( \u001b[36m-> WikidataCorpus(wikidata)\u001b[0m )\n",
      "[20:49:54] wikidata.\u001b[34m\u001b[1mquery_get_db\u001b[0m( \u001b[36mfound result in db for \"The Ambassadors James\": ['Q650571', 'Q69261763', 'Q555683', 'Q39335025', 'Q296616', 'Q67626259', 'Q98663801', 'Q456692', 'Q5887360', 'Q6137426', 'Q19662698', 'Q5306810', 'Q34074863', 'Q25513458', 'Q57578351', 'Q6129098', 'Q24572428', 'Q6143943', 'Q39955022', 'Q20557342']\u001b[0m )\n",
      "[20:49:54] wikidata.\u001b[34m\u001b[1mquery_get_wikidata_id\u001b[0m( \u001b[36mqid_meta from db: 19 keys\u001b[0m )\n",
      "[20:49:54] lltk.corpus.corpus.\u001b[34m\u001b[1mtext\u001b[0m( \u001b[36m<- {'label': 'The Ambassadors', 'what': 'written work', 'author|P50': 'Henry James|Q170509', 'instance_of|P31': ['written work|Q47461344', 'literary work|Q7725634'], 'oclc_control_number|P243': '503867', 'bibliotheque_nationale_de_france_id|P268': '120837342', 'freebase_id|P646': '/m/03fx8n', 'country_of_origin|P495': 'United States of America|Q30', 'project_gutenberg_ebook_id|P2034': '432', 'publication_date|P577': '+1903-00-00T00:00:00Z', 'language_of_work_or_name|P407': 'English|Q1860', 'title|P1476': 'The Ambassadors', 'oclc_work_id|P5331': '427919', 'copyright_status|P6216': ['public domain|Q19652', 'public domain|Q19652'], 'narrative_location|P840': 'United States of America|Q30', 'form_of_creative_work|P7937': 'novel|Q8261', 'encyclopaedia_britannica_online_id|P1417': 'topic/The-Ambassadors', 'genre|P136': 'novel|Q8261'}\u001b[0m )\n",
      "[20:49:54] lltk.corpus.corpus.\u001b[34m\u001b[1mtext\u001b[0m( \u001b[36m<- id = Q650571, corpus = WikidataCorpus(wikidata), kwargs = {'label': 'The Ambassadors', 'what': 'written work', 'author|P50': 'Henry James|Q170509', 'instance_)\u001b[0m )\n",
      "[20:49:54] lltk.corpus.corpus.\u001b[34m\u001b[1mget_text\u001b[0m( \u001b[36m<- id = Q650571\u001b[0m )\n",
      "[20:49:54] lltk.corpus.corpus.\u001b[34m\u001b[1mget_text\u001b[0m( \u001b[36m-> ?\u001b[0m )\n",
      "[20:49:54] lltk.corpus.corpus.\u001b[34m\u001b[1minit_text\u001b[0m( \u001b[36m...\u001b[0m )\n",
      "[20:49:54] lltk.corpus.corpus.\u001b[34m\u001b[1minit_text\u001b[0m( \u001b[36m<- id = Q650571, corpus = WikidataCorpus(wikidata), kwargs = {'label': 'The Ambassadors', 'what': 'written work', 'author|P50': 'Henry James|Q170509', 'instance_)\u001b[0m )\n",
      "[20:49:54] lltk.text.text.\u001b[34m\u001b[1m__init__\u001b[0m( \u001b[36m<- id = Q650571, corpus = WikidataCorpus(wikidata), kwargs = {'label': 'The Ambassadors', 'what': 'written work', 'author|P50': 'Henry James|Q170509', 'instance_)\u001b[0m )\n",
      "[20:49:54] lltk.corpus.corpus.\u001b[34m\u001b[1minit_text\u001b[0m( \u001b[36m-> TextWikidataClass(_wikidata/Q650571)\u001b[0m )\n",
      "[20:49:54] lltk.corpus.corpus.\u001b[34m\u001b[1mtext\u001b[0m( \u001b[36m-> TextWikidataClass(_wikidata/Q650571)\u001b[0m )\n",
      "[20:49:54] wikidata.\u001b[34m\u001b[1mtexts_from\u001b[0m( \u001b[36m<- query_get_wikidata_id = ('Q650571', {'id': 'Q650571', 'label': 'The Ambassadors', 'what': 'written work', 'author|P50': 'Henry James|Q170509', 'instance_of|P31': ['written work|Q47461344', 'literary work|Q7725634'], 'oclc_control_number|P243': '503867', 'bibliotheque_nationale_de_france_id|P268': '120837342', 'freebase_id|P646': '/m/03fx8n', 'country_of_origin|P495': 'United States of America|Q30', 'project_gutenberg_ebook_id|P2034': '432', 'publication_date|P577': '+1903-00-00T00:00:00Z', 'language_of_work_or_name|P407': 'English|Q1860', 'title|P1476': 'The Ambassadors', 'oclc_work_id|P5331': '427919', 'copyright_status|P6216': ['public domain|Q19652', 'public domain|Q19652'], 'narrative_location|P840': 'United States of America|Q30', 'form_of_creative_work|P7937': 'novel|Q8261', 'encyclopaedia_britannica_online_id|P1417': 'topic/The-Ambassadors', 'genre|P136': 'novel|Q8261'})\u001b[0m )\n",
      "[20:49:54] lltk.corpus.corpus.\u001b[34m\u001b[1mtext\u001b[0m( \u001b[36m<- {'label': 'The Ambassadors', 'what': 'written work', 'author|P50': 'Henry James|Q170509', 'instance_of|P31': ['written work|Q47461344', 'literary work|Q7725634'], 'oclc_control_number|P243': '503867', 'bibliotheque_nationale_de_france_id|P268': '120837342', 'freebase_id|P646': '/m/03fx8n', 'country_of_origin|P495': 'United States of America|Q30', 'project_gutenberg_ebook_id|P2034': '432', 'publication_date|P577': '+1903-00-00T00:00:00Z', 'language_of_work_or_name|P407': 'English|Q1860', 'title|P1476': 'The Ambassadors', 'oclc_work_id|P5331': '427919', 'copyright_status|P6216': ['public domain|Q19652', 'public domain|Q19652'], 'narrative_location|P840': 'United States of America|Q30', 'form_of_creative_work|P7937': 'novel|Q8261', 'encyclopaedia_britannica_online_id|P1417': 'topic/The-Ambassadors', 'genre|P136': 'novel|Q8261'}\u001b[0m )\n",
      "[20:49:54] lltk.corpus.corpus.\u001b[34m\u001b[1mtext\u001b[0m( \u001b[36m<- id = Q650571, corpus = WikidataCorpus(wikidata), source = TextMarkMark(_markmark/James,_Henry.The_Ambassadors), kwargs = {'label': 'The Ambassadors', 'what': 'written work', 'author|P50': 'Henry James|Q170509', 'instance_)\u001b[0m )\n",
      "[20:49:54] lltk.corpus.corpus.\u001b[34m\u001b[1mget_text\u001b[0m( \u001b[36m<- id = Q650571\u001b[0m )\n",
      "[20:49:54] lltk.corpus.corpus.\u001b[34m\u001b[1mget_text\u001b[0m( \u001b[36m-> TextWikidataClass(_wikidata/Q650571)\u001b[0m )\n",
      "[20:49:54] lltk.text.text.\u001b[34m\u001b[1mupdate\u001b[0m( \u001b[36m<- \u001b[0m )\n",
      "[20:49:54] lltk.text.text.\u001b[34m\u001b[1madd_source\u001b[0m( \u001b[36mTextWikidataClass(_wikidata/Q650571) -> TextMarkMark(_markmark/James,_Henry.The_Ambassadors)\u001b[0m )\n",
      "[20:49:54] lltk.text.text.\u001b[34m\u001b[1mmatch\u001b[0m( \u001b[36m_wikidata/Q650571 --> _markmark/James,_Henry.The_Ambassadors ?\u001b[0m )\n",
      "[20:49:54] lltk.text.text.\u001b[34m\u001b[1madd_source\u001b[0m( \u001b[36mTextMarkMark(_markmark/James,_Henry.The_Ambassadors) -> TextWikidataClass(_wikidata/Q650571)\u001b[0m )\n",
      "[20:49:54] lltk.text.text.\u001b[34m\u001b[1mmatch\u001b[0m( \u001b[36m_markmark/James,_Henry.The_Ambassadors --> _wikidata/Q650571 ?\u001b[0m )\n",
      "[20:49:54] lltk.corpus.corpus.\u001b[34m\u001b[1mtext\u001b[0m( \u001b[36m-> TextWikidataClass(_wikidata/Q650571)\u001b[0m )\n",
      "[20:49:54] lltk.text.text.\u001b[34m\u001b[1minit\u001b[0m( \u001b[36mInit metadata: TextWikidataClass(_wikidata/Q650571), kwargs = {'from_sources': False}\u001b[0m )\n",
      "[20:49:54] wikidata.\u001b[34m\u001b[1mtexts_from\u001b[0m( \u001b[36m-> TextWikidataClass(_wikidata/Q650571)\u001b[0m )\n",
      "[20:49:54] lltk.corpus.corpus.\u001b[34m\u001b[1mCorpus\u001b[0m( \u001b[36m<- id = isbn\u001b[0m )\n",
      "[20:49:54] lltk.corpus.utils.\u001b[34m\u001b[1mload_corpus\u001b[0m( \u001b[36m<- id = isbn\u001b[0m )\n",
      "[20:49:54] lltk.corpus.utils.\u001b[34m\u001b[1mload_corpus\u001b[0m( \u001b[36mImporting corpus class \"Isbn\" from /Users/ryan/github/lltk/lltk/corpus/isbn/isbn.py\u001b[0m )\n",
      "[20:49:54] lltk.corpus.corpus.\u001b[34m\u001b[1m__init__\u001b[0m( \u001b[36mIsbn(isbn)\u001b[0m )\n",
      "[20:49:54] lltk.corpus.utils.\u001b[34m\u001b[1mload_corpus\u001b[0m( \u001b[36m-> IsbnCorpus(isbn)\u001b[0m )\n",
      "[20:49:54] lltk.corpus.corpus.\u001b[34m\u001b[1mCorpus\u001b[0m( \u001b[36m-> IsbnCorpus(isbn)\u001b[0m )\n",
      "[20:49:54] lltk.text.text.\u001b[34m\u001b[1mget_remote_sources\u001b[0m( \u001b[36mremote corpus: IsbnCorpus(isbn) (TextMarkMark(_markmark/James,_Henry.The_Ambassadors))\u001b[0m )\n",
      "[20:49:54] lltk.text.text.\u001b[34m\u001b[1mmetadata_from_sources\u001b[0m( \u001b[36mTextMarkMark(_markmark/James,_Henry.The_Ambassadors)\u001b[0m )\n",
      "[20:49:54] lltk.text.text.\u001b[34m\u001b[1mmetadata_from_sources\u001b[0m( \u001b[36msources_present = set()\u001b[0m )\n",
      "[20:49:54] lltk.text.text.\u001b[34m\u001b[1mget_sources\u001b[0m( \u001b[36m...\u001b[0m )\n",
      "[20:49:54] lltk.text.text.\u001b[34m\u001b[1mget_matches\u001b[0m( \u001b[36m...\u001b[0m )\n",
      "[20:49:54] lltk.corpus.corpus.\u001b[34m\u001b[1mCorpus\u001b[0m( \u001b[36m<- id = worldcat\u001b[0m )\n",
      "[20:49:54] lltk.corpus.utils.\u001b[34m\u001b[1mload_corpus\u001b[0m( \u001b[36m<- id = worldcat\u001b[0m )\n",
      "[20:49:54] lltk.corpus.utils.\u001b[34m\u001b[1mload_corpus\u001b[0m( \u001b[36mImporting corpus class \"Worldcat\" from /Users/ryan/github/lltk/lltk/corpus/worldcat/worldcat.py\u001b[0m )\n",
      "[20:49:54] lltk.corpus.corpus.\u001b[34m\u001b[1m__init__\u001b[0m( \u001b[36mWorldcat(worldcat)\u001b[0m )\n",
      "[20:49:54] lltk.corpus.utils.\u001b[34m\u001b[1mload_corpus\u001b[0m( \u001b[36m-> WorldcatCorpus(worldcat)\u001b[0m )\n",
      "[20:49:54] lltk.corpus.corpus.\u001b[34m\u001b[1mCorpus\u001b[0m( \u001b[36m-> WorldcatCorpus(worldcat)\u001b[0m )\n",
      "[20:49:54] lltk.corpus.corpus.\u001b[34m\u001b[1mtext\u001b[0m( \u001b[36m<- {}\u001b[0m )\n",
      "[20:49:54] lltk.corpus.corpus.\u001b[34m\u001b[1mtext\u001b[0m( \u001b[36m<- id = _markmark/James,_Henry.The_Ambassadors, corpus = WorldcatCorpus(worldcat)\u001b[0m )\n",
      "[20:49:54] lltk.corpus.corpus.\u001b[34m\u001b[1mget_text\u001b[0m( \u001b[36m<- id = _markmark/James,_Henry.The_Ambassadors\u001b[0m )\n",
      "[20:49:54] lltk.corpus.corpus.\u001b[34m\u001b[1mget_text\u001b[0m( \u001b[36m-> ?\u001b[0m )\n",
      "[20:49:54] lltk.corpus.corpus.\u001b[34m\u001b[1minit_text\u001b[0m( \u001b[36m...\u001b[0m )\n",
      "[20:49:54] lltk.corpus.corpus.\u001b[34m\u001b[1minit_text\u001b[0m( \u001b[36m<- id = _markmark/James,_Henry.The_Ambassadors, corpus = WorldcatCorpus(worldcat), source = _markmark/James,_Henry.The_Ambassadors\u001b[0m )\n",
      "[20:49:54] lltk.text.text.\u001b[34m\u001b[1m__init__\u001b[0m( \u001b[36m<- id = _markmark/James,_Henry.The_Ambassadors, corpus = WorldcatCorpus(worldcat), source = _markmark/James,_Henry.The_Ambassadors\u001b[0m )\n",
      "[20:49:54] lltk.corpus.corpus.\u001b[34m\u001b[1minit_text\u001b[0m( \u001b[36m-> TextWorldcat(_worldcat/_markmark/James,_Henry.The_Ambassadors)\u001b[0m )\n",
      "[20:49:54] lltk.text.text.\u001b[34m\u001b[1madd_source\u001b[0m( \u001b[36mTextWorldcat(_worldcat/_markmark/James,_Henry.The_Ambassadors) -> _markmark/James,_Henry.The_Ambassadors\u001b[0m )\n",
      "[20:49:54] lltk.text.text.\u001b[34m\u001b[1mmatch\u001b[0m( \u001b[36m_worldcat/_markmark/James,_Henry.The_Ambassadors --> _markmark/James,_Henry.The_Ambassadors ?\u001b[0m )\n",
      "[20:49:54] lltk.text.text.\u001b[34m\u001b[1madd_source\u001b[0m( \u001b[36mTextMarkMark(_markmark/James,_Henry.The_Ambassadors) -> TextWorldcat(_worldcat/_markmark/James,_Henry.The_Ambassadors)\u001b[0m )\n",
      "[20:49:54] lltk.text.text.\u001b[34m\u001b[1mmatch\u001b[0m( \u001b[36m_markmark/James,_Henry.The_Ambassadors --> _worldcat/_markmark/James,_Henry.The_Ambassadors ?\u001b[0m )\n",
      "[20:49:54] lltk.corpus.corpus.\u001b[34m\u001b[1mtext\u001b[0m( \u001b[36m-> TextWorldcat(_worldcat/_markmark/James,_Henry.The_Ambassadors)\u001b[0m )\n",
      "[20:49:54] lltk.text.text.\u001b[34m\u001b[1mText\u001b[0m( \u001b[36m-> TextWorldcat(_worldcat/_markmark/James,_Henry.The_Ambassadors)\u001b[0m )\n",
      "[20:49:54] lltk.corpus.corpus.\u001b[34m\u001b[1mCorpus\u001b[0m( \u001b[36m<- id = hathi\u001b[0m )\n",
      "[20:49:54] lltk.corpus.corpus.\u001b[34m\u001b[1mCorpus\u001b[0m( \u001b[36m-> HathiCorpus(hathi)\u001b[0m )\n",
      "[20:49:54] lltk.corpus.corpus.\u001b[34m\u001b[1mtext\u001b[0m( \u001b[36m<- {}\u001b[0m )\n",
      "[20:49:54] lltk.corpus.corpus.\u001b[34m\u001b[1mtext\u001b[0m( \u001b[36m<- id = htrn/000145209, corpus = HathiCorpus(hathi)\u001b[0m )\n",
      "[20:49:54] hathi.\u001b[34m\u001b[1mget_text_id\u001b[0m( \u001b[36m<- id = htrn/000145209, kwargs = {'_new': False})\u001b[0m )\n",
      "[20:49:54] lltk.corpus.corpus.\u001b[34m\u001b[1mget_text\u001b[0m( \u001b[36m<- id = htrn/000145209\u001b[0m )\n",
      "[20:49:54] lltk.corpus.corpus.\u001b[34m\u001b[1mget_text\u001b[0m( \u001b[36m-> TextHathiRecord(_hathi/htrn/000145209)\u001b[0m )\n",
      "[20:49:54] lltk.corpus.corpus.\u001b[34m\u001b[1mtext\u001b[0m( \u001b[36m-> TextHathiRecord(_hathi/htrn/000145209)\u001b[0m )\n",
      "[20:49:54] lltk.text.text.\u001b[34m\u001b[1mText\u001b[0m( \u001b[36m-> TextHathiRecord(_hathi/htrn/000145209)\u001b[0m )\n",
      "[20:49:54] lltk.corpus.corpus.\u001b[34m\u001b[1mCorpus\u001b[0m( \u001b[36m<- id = wikidata\u001b[0m )\n",
      "[20:49:54] lltk.corpus.corpus.\u001b[34m\u001b[1mCorpus\u001b[0m( \u001b[36m-> WikidataCorpus(wikidata)\u001b[0m )\n",
      "[20:49:54] lltk.corpus.corpus.\u001b[34m\u001b[1mtext\u001b[0m( \u001b[36m<- {}\u001b[0m )\n",
      "[20:49:54] lltk.corpus.corpus.\u001b[34m\u001b[1mtext\u001b[0m( \u001b[36m<- id = Q650571, corpus = WikidataCorpus(wikidata)\u001b[0m )\n",
      "[20:49:54] lltk.corpus.corpus.\u001b[34m\u001b[1mget_text\u001b[0m( \u001b[36m<- id = Q650571\u001b[0m )\n",
      "[20:49:54] lltk.corpus.corpus.\u001b[34m\u001b[1mget_text\u001b[0m( \u001b[36m-> TextWikidataClass(_wikidata/Q650571)\u001b[0m )\n",
      "[20:49:54] lltk.corpus.corpus.\u001b[34m\u001b[1mtext\u001b[0m( \u001b[36m-> TextWikidataClass(_wikidata/Q650571)\u001b[0m )\n",
      "[20:49:54] lltk.text.text.\u001b[34m\u001b[1mText\u001b[0m( \u001b[36m-> TextWikidataClass(_wikidata/Q650571)\u001b[0m )\n",
      "[20:49:54] lltk.text.text.\u001b[34m\u001b[1mmetadata_from_sources\u001b[0m( \u001b[36msources_needed = [TextHathiRecord(_hathi/htrn/000145209), TextWikidataClass(_wikidata/Q650571), TextWorldcat(_worldcat/_markmark/James,_Henry.The_Ambassadors)]\u001b[0m )\n",
      "[20:49:54] isbn.\u001b[34m\u001b[1mtexts_from\u001b[0m( \u001b[36m!? TextMarkMark(_markmark/James,_Henry.The_Ambassadors) []\u001b[0m )\n",
      "[20:49:54] lltk.corpus.corpus.\u001b[34m\u001b[1mCorpus\u001b[0m( \u001b[36m<- id = worldcat\u001b[0m )\n",
      "[20:49:54] lltk.corpus.corpus.\u001b[34m\u001b[1mCorpus\u001b[0m( \u001b[36m-> WorldcatCorpus(worldcat)\u001b[0m )\n",
      "[20:49:54] lltk.text.text.\u001b[34m\u001b[1mget_remote_sources\u001b[0m( \u001b[36mremote corpus: WorldcatCorpus(worldcat) (TextMarkMark(_markmark/James,_Henry.The_Ambassadors))\u001b[0m )\n",
      "[20:49:54] worldcat.\u001b[34m\u001b[1mtexts_from\u001b[0m( \u001b[36mfound oclc in metadata: 503867\u001b[0m )\n",
      "[20:49:54] lltk.corpus.corpus.\u001b[34m\u001b[1mtext\u001b[0m( \u001b[36m<- {}\u001b[0m )\n",
      "[20:49:54] lltk.corpus.corpus.\u001b[34m\u001b[1mtext\u001b[0m( \u001b[36m<- id = 503867, corpus = WorldcatCorpus(worldcat), source = TextMarkMark(_markmark/James,_Henry.The_Ambassadors)\u001b[0m )\n",
      "[20:49:54] lltk.corpus.corpus.\u001b[34m\u001b[1mget_text\u001b[0m( \u001b[36m<- id = _markmark/James,_Henry.The_Ambassadors\u001b[0m )\n",
      "[20:49:54] lltk.corpus.corpus.\u001b[34m\u001b[1mget_text\u001b[0m( \u001b[36m-> TextWorldcat(_worldcat/_markmark/James,_Henry.The_Ambassadors)\u001b[0m )\n",
      "[20:49:54] lltk.text.text.\u001b[34m\u001b[1madd_source\u001b[0m( \u001b[36mTextWorldcat(_worldcat/_markmark/James,_Henry.The_Ambassadors) -> TextMarkMark(_markmark/James,_Henry.The_Ambassadors)\u001b[0m )\n",
      "[20:49:54] lltk.text.text.\u001b[34m\u001b[1mmatch\u001b[0m( \u001b[36m_worldcat/_markmark/James,_Henry.The_Ambassadors --> _markmark/James,_Henry.The_Ambassadors ?\u001b[0m )\n",
      "[20:49:54] lltk.text.text.\u001b[34m\u001b[1madd_source\u001b[0m( \u001b[36mTextMarkMark(_markmark/James,_Henry.The_Ambassadors) -> TextWorldcat(_worldcat/_markmark/James,_Henry.The_Ambassadors)\u001b[0m )\n",
      "[20:49:54] lltk.text.text.\u001b[34m\u001b[1mmatch\u001b[0m( \u001b[36m_markmark/James,_Henry.The_Ambassadors --> _worldcat/_markmark/James,_Henry.The_Ambassadors ?\u001b[0m )\n",
      "[20:49:54] lltk.corpus.corpus.\u001b[34m\u001b[1mtext\u001b[0m( \u001b[36m-> TextWorldcat(_worldcat/_markmark/James,_Henry.The_Ambassadors)\u001b[0m )\n",
      "[20:49:54] lltk.text.text.\u001b[34m\u001b[1minit\u001b[0m( \u001b[36mInit metadata: TextWorldcat(_worldcat/_markmark/James,_Henry.The_Ambassadors), kwargs = {'from_sources': False}\u001b[0m )\n",
      "[20:49:54] lltk.text.text.\u001b[34m\u001b[1mmetadata_remote\u001b[0m( \u001b[36mself.query({}) -> {'num_editions': 0, 'num_editions_found': 0, 'edition_oclcs': [], '_sources': []}\u001b[0m )\n",
      "[20:49:54] lltk.corpus.corpus.\u001b[34m\u001b[1mCorpus\u001b[0m( \u001b[36m<- id = goodreads\u001b[0m )\n",
      "[20:49:54] lltk.corpus.utils.\u001b[34m\u001b[1mload_corpus\u001b[0m( \u001b[36m<- id = goodreads\u001b[0m )\n",
      "[20:49:54] lltk.corpus.utils.\u001b[34m\u001b[1mload_corpus\u001b[0m( \u001b[36mImporting corpus class \"Goodreads\" from /Users/ryan/github/lltk/lltk/corpus/goodreads/goodreads.py\u001b[0m )\n",
      "[20:49:54] lltk.corpus.corpus.\u001b[34m\u001b[1m__init__\u001b[0m( \u001b[36mGoodreads(goodreads)\u001b[0m )\n",
      "[20:49:54] lltk.corpus.utils.\u001b[34m\u001b[1mload_corpus\u001b[0m( \u001b[36m-> GoodreadsCorpus(goodreads)\u001b[0m )\n",
      "[20:49:54] lltk.corpus.corpus.\u001b[34m\u001b[1mCorpus\u001b[0m( \u001b[36m-> GoodreadsCorpus(goodreads)\u001b[0m )\n",
      "[20:49:54] lltk.text.text.\u001b[34m\u001b[1mget_remote_sources\u001b[0m( \u001b[36mremote corpus: GoodreadsCorpus(goodreads) (TextMarkMark(_markmark/James,_Henry.The_Ambassadors))\u001b[0m )\n",
      "[20:49:54] lltk.text.text.\u001b[34m\u001b[1mmetadata_from_sources\u001b[0m( \u001b[36mTextMarkMark(_markmark/James,_Henry.The_Ambassadors)\u001b[0m )\n",
      "[20:49:54] lltk.text.text.\u001b[34m\u001b[1mmetadata_from_sources\u001b[0m( \u001b[36msources_present = set()\u001b[0m )\n",
      "[20:49:54] lltk.text.text.\u001b[34m\u001b[1mget_sources\u001b[0m( \u001b[36m...\u001b[0m )\n",
      "[20:49:54] lltk.text.text.\u001b[34m\u001b[1mget_matches\u001b[0m( \u001b[36m...\u001b[0m )\n",
      "[20:49:54] lltk.text.text.\u001b[34m\u001b[1mmetadata_from_sources\u001b[0m( \u001b[36msources_needed = [TextHathiRecord(_hathi/htrn/000145209), TextWikidataClass(_wikidata/Q650571), TextWorldcat(_worldcat/_markmark/James,_Henry.The_Ambassadors)]\u001b[0m )\n",
      "[20:49:54] lltk.text.text.\u001b[34m\u001b[1mmetadata_remote\u001b[0m( \u001b[36mself.query({}) -> {'num_editions': 0, 'num_editions_found': 0, 'edition_oclcs': [], '_sources': []}\u001b[0m )\n"
     ]
    }
   ],
   "source": [
    "with log: t.init(remote=True)"
   ]
  },
  {
   "cell_type": "code",
   "execution_count": null,
   "metadata": {},
   "outputs": [],
   "source": [
    "t.title, [tx.title for tx in t.sources]"
   ]
  },
  {
   "cell_type": "code",
   "execution_count": null,
   "metadata": {},
   "outputs": [],
   "source": [
    "for t in get_tqdm(texts): t.init(remote=True)"
   ]
  },
  {
   "cell_type": "code",
   "execution_count": null,
   "metadata": {},
   "outputs": [],
   "source": [
    "stop"
   ]
  },
  {
   "cell_type": "code",
   "execution_count": null,
   "metadata": {},
   "outputs": [],
   "source": [
    "tx=random.choice(texts)\n",
    "tx, tx._meta"
   ]
  },
  {
   "cell_type": "code",
   "execution_count": null,
   "metadata": {},
   "outputs": [],
   "source": [
    "pladys = [t for t in texts if 'portrait of a lady' in t.title.lower()]\n",
    "t = pladys[0]\n",
    "t"
   ]
  },
  {
   "cell_type": "code",
   "execution_count": null,
   "metadata": {},
   "outputs": [],
   "source": [
    "def to_nx2(self,texts,rel=None,min_overlap=3,**kwargs):\n",
    "    g=nx.Graph()\n",
    "    all_texts = {t for t in texts} | {src for t in texts for src in t.sources}\n",
    "    if log: log(f'all_texts = {len(all_texts)}')\n",
    "    for t1 in get_tqdm(all_texts):\n",
    "        for t2 in all_texts:\n",
    "            if t1.addr>=t2.addr: continue\n",
    "            overlap=t1.linked() & t2.linked()\n",
    "            log(f'{t1} --> {t2}, {len(overlap)} {pf(overlap)}')\n",
    "            if len(overlap) >= min_overlap:\n",
    "                g.add_edge(t1.addr,t2.addr)\n",
    "    return g\n",
    "\n",
    "LLDBGraph.to_nx2=to_nx2\n",
    "\n",
    "\n",
    "def to_nx(self,texts,rel=None,**kwargs):\n",
    "    g=nx.MultiGraph()\n",
    "    for tx in get_tqdm(texts):\n",
    "        for src in tx.sources:\n",
    "            for u,v,d in src.gdb.get_edges(src.addr):\n",
    "                relx=d.get('rel')\n",
    "                if rel and relx != rel: continue\n",
    "                if not g.has_node(u): g.add_node(u)#,**Text(u).meta)\n",
    "                if not g.has_node(v): g.add_node(v)#,**Text(v).meta)\n",
    "                if not g.has_edge(u,v,key=relx):\n",
    "                    g.add_edge(u,v,key=relx,**d)\n",
    "    return g\n",
    "\n",
    "LLDBGraph.to_nx=to_nx"
   ]
  },
  {
   "cell_type": "code",
   "execution_count": null,
   "metadata": {},
   "outputs": [],
   "source": [
    "C=Corpus('markmark')"
   ]
  },
  {
   "cell_type": "code",
   "execution_count": null,
   "metadata": {},
   "outputs": [],
   "source": [
    "Ctexts=set(texts)\n",
    "len(Ctexts), Ctexts"
   ]
  },
  {
   "cell_type": "code",
   "execution_count": null,
   "metadata": {},
   "outputs": [],
   "source": [
    "g=gdb.to_nx(Ctexts)\n",
    "g"
   ]
  },
  {
   "cell_type": "code",
   "execution_count": null,
   "metadata": {},
   "outputs": [],
   "source": [
    "from cdlib.algorithms import louvain\n",
    "\n",
    "coms = louvain(g, resolution=1, randomize=False)\n",
    "coms"
   ]
  },
  {
   "cell_type": "code",
   "execution_count": null,
   "metadata": {},
   "outputs": [],
   "source": []
  },
  {
   "cell_type": "code",
   "execution_count": null,
   "metadata": {},
   "outputs": [],
   "source": [
    "len(coms.communities)"
   ]
  },
  {
   "cell_type": "code",
   "execution_count": null,
   "metadata": {},
   "outputs": [],
   "source": [
    "for nset in coms.communities:\n",
    "    tset=list(map(Text,nset))\n",
    "    print(Counter(t.title for t in tset if t.title))\n",
    "    print(tset)\n",
    "    print()"
   ]
  }
 ],
 "metadata": {
  "interpreter": {
   "hash": "99c3488a746bccd77b7949f8f419451e1c962da56ebbaaae6e4d2e6c8c07eaa0"
  },
  "kernelspec": {
   "display_name": "Python 3.9.7 ('base')",
   "language": "python",
   "name": "python3"
  },
  "language_info": {
   "codemirror_mode": {
    "name": "ipython",
    "version": 3
   },
   "file_extension": ".py",
   "mimetype": "text/x-python",
   "name": "python",
   "nbconvert_exporter": "python",
   "pygments_lexer": "ipython3",
   "version": "3.9.7"
  },
  "orig_nbformat": 4
 },
 "nbformat": 4,
 "nbformat_minor": 2
}

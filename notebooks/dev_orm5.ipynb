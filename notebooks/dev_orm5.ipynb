{
 "cells": [
  {
   "cell_type": "code",
   "execution_count": 1,
   "metadata": {},
   "outputs": [],
   "source": [
    "import sys; sys.path.insert(0,'..')\n",
    "from lltk import *\n",
    "# LLTK.cdb.clear()"
   ]
  },
  {
   "cell_type": "code",
   "execution_count": 10,
   "metadata": {},
   "outputs": [],
   "source": [
    "def sync(self,progress=True,**kwargs):\n",
    "    iterr = list(self.init_meta_csv())\n",
    "    if progress: iterr = get_tqdm(iterr, desc=f'[{self.name}] Syncing texts to db')\n",
    "    o=[]\n",
    "    for i,(id,d) in enumerate(iterr):\n",
    "        addr = self.get_addr(id)\n",
    "        meta = safebool(just_meta_no_id(d))\n",
    "        t=Text(addr,_cache=True,**meta)\n",
    "        o.append(t)\n",
    "    return o\n",
    "\n",
    "BaseCorpus.sync=sync\n",
    "\n",
    "def load(self):\n",
    "    with self.cdb:\n",
    "        tdoc = self.cdb.get(self.addr)\n",
    "    if not tdoc:\n",
    "        log.error('nothing found to load')\n",
    "        return\n",
    "    if tdoc.data:\n",
    "        newmeta = deserialize_map(dict(tdoc.data))\n",
    "        self._meta={**self._meta, **newmeta}\n",
    "    if log: log('we all good')\n",
    "    return\n",
    "\n",
    "def cache(self,ometa={},force=False,**y):\n",
    "    new = self.ensure_id({\n",
    "        # **(old if old else {}),\n",
    "        **(self.__meta if self.__meta else {}),\n",
    "        **(self._meta if self._meta else {}),\n",
    "        **(ometa if ometa else {})\n",
    "    },allow_sep=False)\n",
    "    o=self.cache_cdb(new)\n",
    "    return o\n",
    "\n",
    "def cache_cdb(self,ometa={},force=False,**y):\n",
    "    dbd={}\n",
    "    dbd['id']=self.addr\n",
    "    dbd['corpus']=self.corpus.id\n",
    "    dbd['author']=self.author\n",
    "    dbd['title']=self.title\n",
    "    dbd['year']=self.year\n",
    "    dbd['data']=serialize_map(just_meta_no_id(ometa))\n",
    "    with self.cdb: return self.doctype.create(**dbd)\n",
    "\n",
    "BaseText.cache=cache\n",
    "BaseText.cache_cdb=cache_cdb"
   ]
  },
  {
   "cell_type": "code",
   "execution_count": 11,
   "metadata": {},
   "outputs": [
    {
     "name": "stderr",
     "output_type": "stream",
     "text": [
      "[13:22:44] lltk.corpus.corpus.\u001b[34m\u001b[1minit_meta_csv\u001b[0m( \u001b[36mMarkMarkCorpus(markmark)\u001b[0m )\n"
     ]
    },
    {
     "data": {
      "application/vnd.jupyter.widget-view+json": {
       "model_id": "fe6fd9ffba654ceeab1dca4368f7d032",
       "version_major": 2,
       "version_minor": 0
      },
      "text/plain": [
       "[MarkMark] Syncing texts to db:   0%|          | 0/355 [00:00<?, ?it/s]"
      ]
     },
     "metadata": {},
     "output_type": "display_data"
    },
    {
     "name": "stderr",
     "output_type": "stream",
     "text": [
      "[13:22:44] lltk.corpus.corpus.\u001b[34m\u001b[1mtext\u001b[0m( \u001b[36m<- id = Caldwell,_Erskine.Tobacco_Road, corpus = MarkMarkCorpus(markmark), kwargs = {'author': 'Caldwell, Erskine', 'corpus': 'MarkMark', 'dob': '1903.0', 'dod': '1987.0', 'gender': 'M)\u001b[0m )\n",
      "[13:22:44] __main__.\u001b[34m\u001b[1mcache\u001b[0m( \u001b[36mTextDoc <id=_markmark/Caldwell,_Erskine.Tobacco_Road>\u001b[0m )\n"
     ]
    },
    {
     "ename": "NameError",
     "evalue": "name 'stop' is not defined",
     "output_type": "error",
     "traceback": [
      "\u001b[0;31m---------------------------------------------------------------------------\u001b[0m",
      "\u001b[0;31mNameError\u001b[0m                                 Traceback (most recent call last)",
      "\u001b[1;32m/Users/ryan/github/lltk/notebooks/dev_orm5.ipynb Cell 3'\u001b[0m in \u001b[0;36m<cell line: 2>\u001b[0;34m()\u001b[0m\n\u001b[1;32m      <a href='vscode-notebook-cell:/Users/ryan/github/lltk/notebooks/dev_orm5.ipynb#ch0000028?line=0'>1</a>\u001b[0m C\u001b[39m=\u001b[39mCorpus(\u001b[39m'\u001b[39m\u001b[39mmarkmark\u001b[39m\u001b[39m'\u001b[39m)\n\u001b[0;32m----> <a href='vscode-notebook-cell:/Users/ryan/github/lltk/notebooks/dev_orm5.ipynb#ch0000028?line=1'>2</a>\u001b[0m \u001b[39mwith\u001b[39;00m LLTK: C\u001b[39m.\u001b[39msync()\n",
      "\u001b[1;32m/Users/ryan/github/lltk/notebooks/dev_orm5.ipynb Cell 2'\u001b[0m in \u001b[0;36msync\u001b[0;34m(self, progress, **kwargs)\u001b[0m\n\u001b[1;32m      <a href='vscode-notebook-cell:/Users/ryan/github/lltk/notebooks/dev_orm5.ipynb#ch0000026?line=5'>6</a>\u001b[0m     addr \u001b[39m=\u001b[39m \u001b[39mself\u001b[39m\u001b[39m.\u001b[39mget_addr(\u001b[39mid\u001b[39m)\n\u001b[1;32m      <a href='vscode-notebook-cell:/Users/ryan/github/lltk/notebooks/dev_orm5.ipynb#ch0000026?line=6'>7</a>\u001b[0m     meta \u001b[39m=\u001b[39m safebool(just_meta_no_id(d))\n\u001b[0;32m----> <a href='vscode-notebook-cell:/Users/ryan/github/lltk/notebooks/dev_orm5.ipynb#ch0000026?line=7'>8</a>\u001b[0m     t\u001b[39m=\u001b[39mText(addr,_cache\u001b[39m=\u001b[39;49m\u001b[39mTrue\u001b[39;49;00m,\u001b[39m*\u001b[39;49m\u001b[39m*\u001b[39;49mmeta)\n\u001b[1;32m      <a href='vscode-notebook-cell:/Users/ryan/github/lltk/notebooks/dev_orm5.ipynb#ch0000026?line=8'>9</a>\u001b[0m     o\u001b[39m.\u001b[39mappend(t)\n\u001b[1;32m     <a href='vscode-notebook-cell:/Users/ryan/github/lltk/notebooks/dev_orm5.ipynb#ch0000026?line=9'>10</a>\u001b[0m \u001b[39mreturn\u001b[39;00m o\n",
      "File \u001b[0;32m~/github/lltk/notebooks/../lltk/text/text.py:1317\u001b[0m, in \u001b[0;36mText\u001b[0;34m(text, _corpus, _source, _force, _new, _add, _init, _cache, _use_db, **_params_or_meta)\u001b[0m\n\u001b[1;32m   <a href='file:///Users/ryan/github/lltk/notebooks/../lltk/text/text.py?line=1313'>1314</a>\u001b[0m     \u001b[39mif\u001b[39;00m log\u001b[39m>\u001b[39m\u001b[39m1\u001b[39m: log(\u001b[39mf\u001b[39m\u001b[39m'\u001b[39m\u001b[39mCorpus( \u001b[39m\u001b[39m{\u001b[39;00mtcorp\u001b[39m}\u001b[39;00m\u001b[39m ).text( \u001b[39m\u001b[39m{\u001b[39;00mtid\u001b[39m}\u001b[39;00m\u001b[39m ) ->\u001b[39m\u001b[39m'\u001b[39m)\n\u001b[1;32m   <a href='file:///Users/ryan/github/lltk/notebooks/../lltk/text/text.py?line=1315'>1316</a>\u001b[0m     \u001b[39mfrom\u001b[39;00m \u001b[39mlltk\u001b[39;00m\u001b[39m.\u001b[39;00m\u001b[39mcorpus\u001b[39;00m\u001b[39m.\u001b[39;00m\u001b[39mcorpus\u001b[39;00m \u001b[39mimport\u001b[39;00m Corpus\n\u001b[0;32m-> <a href='file:///Users/ryan/github/lltk/notebooks/../lltk/text/text.py?line=1316'>1317</a>\u001b[0m     t \u001b[39m=\u001b[39m Corpus(tcorp)\u001b[39m.\u001b[39;49mtext(\n\u001b[1;32m   <a href='file:///Users/ryan/github/lltk/notebooks/../lltk/text/text.py?line=1317'>1318</a>\u001b[0m         \u001b[39mid\u001b[39;49m\u001b[39m=\u001b[39;49mtid,\n\u001b[1;32m   <a href='file:///Users/ryan/github/lltk/notebooks/../lltk/text/text.py?line=1318'>1319</a>\u001b[0m         _source\u001b[39m=\u001b[39;49m_source,\n\u001b[1;32m   <a href='file:///Users/ryan/github/lltk/notebooks/../lltk/text/text.py?line=1319'>1320</a>\u001b[0m         _add\u001b[39m=\u001b[39;49m_add,\n\u001b[1;32m   <a href='file:///Users/ryan/github/lltk/notebooks/../lltk/text/text.py?line=1320'>1321</a>\u001b[0m         _init\u001b[39m=\u001b[39;49m_init,\n\u001b[1;32m   <a href='file:///Users/ryan/github/lltk/notebooks/../lltk/text/text.py?line=1321'>1322</a>\u001b[0m         _cache\u001b[39m=\u001b[39;49m_cache,\n\u001b[1;32m   <a href='file:///Users/ryan/github/lltk/notebooks/../lltk/text/text.py?line=1322'>1323</a>\u001b[0m         _force\u001b[39m=\u001b[39;49m_force,\n\u001b[1;32m   <a href='file:///Users/ryan/github/lltk/notebooks/../lltk/text/text.py?line=1323'>1324</a>\u001b[0m         _new\u001b[39m=\u001b[39;49m_new,\n\u001b[1;32m   <a href='file:///Users/ryan/github/lltk/notebooks/../lltk/text/text.py?line=1324'>1325</a>\u001b[0m         \u001b[39m*\u001b[39;49m\u001b[39m*\u001b[39;49mmeta\n\u001b[1;32m   <a href='file:///Users/ryan/github/lltk/notebooks/../lltk/text/text.py?line=1325'>1326</a>\u001b[0m     )\n\u001b[1;32m   <a href='file:///Users/ryan/github/lltk/notebooks/../lltk/text/text.py?line=1326'>1327</a>\u001b[0m     \u001b[39mif\u001b[39;00m is_valid_text_obj(t): TEXT_CACHE[t\u001b[39m.\u001b[39maddr] \u001b[39m=\u001b[39m t\n\u001b[1;32m   <a href='file:///Users/ryan/github/lltk/notebooks/../lltk/text/text.py?line=1328'>1329</a>\u001b[0m t \u001b[39m=\u001b[39m t \u001b[39mif\u001b[39;00m is_valid_text_obj(t) \u001b[39melse\u001b[39;00m NullText()\n",
      "File \u001b[0;32m~/github/lltk/notebooks/../lltk/corpus/corpus.py:413\u001b[0m, in \u001b[0;36mBaseCorpus.text\u001b[0;34m(self, id, _source, _add, _cache, _force, _new, _init, _remote, **kwargs)\u001b[0m\n\u001b[1;32m    <a href='file:///Users/ryan/github/lltk/notebooks/../lltk/corpus/corpus.py?line=410'>411</a>\u001b[0m \u001b[39m# Create?\u001b[39;00m\n\u001b[1;32m    <a href='file:///Users/ryan/github/lltk/notebooks/../lltk/corpus/corpus.py?line=411'>412</a>\u001b[0m \u001b[39mif\u001b[39;00m _force \u001b[39mor\u001b[39;00m t \u001b[39mis\u001b[39;00m \u001b[39mNone\u001b[39;00m: t \u001b[39m=\u001b[39m \u001b[39mself\u001b[39m\u001b[39m.\u001b[39minit_text(\u001b[39mid\u001b[39m,_source\u001b[39m=\u001b[39m_source,_cache\u001b[39m=\u001b[39m_cache,_remote\u001b[39m=\u001b[39m_remote,\u001b[39m*\u001b[39m\u001b[39m*\u001b[39mmeta)\n\u001b[0;32m--> <a href='file:///Users/ryan/github/lltk/notebooks/../lltk/corpus/corpus.py?line=412'>413</a>\u001b[0m \u001b[39melif\u001b[39;00m meta \u001b[39mand\u001b[39;00m is_text_obj(t): t\u001b[39m.\u001b[39;49mupdate(meta,_cache\u001b[39m=\u001b[39;49m_cache)\n\u001b[1;32m    <a href='file:///Users/ryan/github/lltk/notebooks/../lltk/corpus/corpus.py?line=414'>415</a>\u001b[0m \u001b[39m# Fail?\u001b[39;00m\n\u001b[1;32m    <a href='file:///Users/ryan/github/lltk/notebooks/../lltk/corpus/corpus.py?line=415'>416</a>\u001b[0m \u001b[39mif\u001b[39;00m t \u001b[39mis\u001b[39;00m \u001b[39mNone\u001b[39;00m: \u001b[39mraise\u001b[39;00m CorpusTextException(\u001b[39m'\u001b[39m\u001b[39mCould not get or create text\u001b[39m\u001b[39m'\u001b[39m)\n",
      "File \u001b[0;32m~/github/lltk/notebooks/../lltk/text/text.py:418\u001b[0m, in \u001b[0;36mBaseText.update\u001b[0;34m(self, meta, _force, _cache, **metad)\u001b[0m\n\u001b[1;32m    <a href='file:///Users/ryan/github/lltk/notebooks/../lltk/text/text.py?line=415'>416</a>\u001b[0m \u001b[39mif\u001b[39;00m log\u001b[39m>\u001b[39m\u001b[39m1\u001b[39m: log(\u001b[39mf\u001b[39m\u001b[39m'\u001b[39m\u001b[39m<- \u001b[39m\u001b[39m{\u001b[39;00mimeta\u001b[39m}\u001b[39;00m\u001b[39m'\u001b[39m)\n\u001b[1;32m    <a href='file:///Users/ryan/github/lltk/notebooks/../lltk/text/text.py?line=416'>417</a>\u001b[0m \u001b[39mif\u001b[39;00m _cache:\n\u001b[0;32m--> <a href='file:///Users/ryan/github/lltk/notebooks/../lltk/text/text.py?line=417'>418</a>\u001b[0m     ometa \u001b[39m=\u001b[39m \u001b[39mself\u001b[39;49m\u001b[39m.\u001b[39;49mcache(imeta,force\u001b[39m=\u001b[39;49m_force)\n\u001b[1;32m    <a href='file:///Users/ryan/github/lltk/notebooks/../lltk/text/text.py?line=418'>419</a>\u001b[0m     \u001b[39mself\u001b[39m\u001b[39m.\u001b[39m_meta \u001b[39m=\u001b[39m {\u001b[39m*\u001b[39m\u001b[39m*\u001b[39m\u001b[39mself\u001b[39m\u001b[39m.\u001b[39m_meta, \u001b[39m*\u001b[39m\u001b[39m*\u001b[39mometa}\n\u001b[1;32m    <a href='file:///Users/ryan/github/lltk/notebooks/../lltk/text/text.py?line=419'>420</a>\u001b[0m \u001b[39melse\u001b[39;00m:\n",
      "\u001b[1;32m/Users/ryan/github/lltk/notebooks/dev_orm5.ipynb Cell 2'\u001b[0m in \u001b[0;36mcache\u001b[0;34m(self, ometa, force, **y)\u001b[0m\n\u001b[1;32m     <a href='vscode-notebook-cell:/Users/ryan/github/lltk/notebooks/dev_orm5.ipynb#ch0000026?line=21'>22</a>\u001b[0m o\u001b[39m=\u001b[39m\u001b[39mself\u001b[39m\u001b[39m.\u001b[39mcache_cdb(new)\n\u001b[1;32m     <a href='vscode-notebook-cell:/Users/ryan/github/lltk/notebooks/dev_orm5.ipynb#ch0000026?line=22'>23</a>\u001b[0m log(o)\n\u001b[0;32m---> <a href='vscode-notebook-cell:/Users/ryan/github/lltk/notebooks/dev_orm5.ipynb#ch0000026?line=23'>24</a>\u001b[0m stop\n\u001b[1;32m     <a href='vscode-notebook-cell:/Users/ryan/github/lltk/notebooks/dev_orm5.ipynb#ch0000026?line=24'>25</a>\u001b[0m \u001b[39mreturn\u001b[39;00m o\n",
      "\u001b[0;31mNameError\u001b[0m: name 'stop' is not defined"
     ]
    }
   ],
   "source": [
    "C=Corpus('markmark')\n",
    "with LLTK: C.sync()"
   ]
  },
  {
   "cell_type": "code",
   "execution_count": null,
   "metadata": {},
   "outputs": [],
   "source": []
  }
 ],
 "metadata": {
  "interpreter": {
   "hash": "99c3488a746bccd77b7949f8f419451e1c962da56ebbaaae6e4d2e6c8c07eaa0"
  },
  "kernelspec": {
   "display_name": "Python 3.9.7 ('base')",
   "language": "python",
   "name": "python3"
  },
  "language_info": {
   "codemirror_mode": {
    "name": "ipython",
    "version": 3
   },
   "file_extension": ".py",
   "mimetype": "text/x-python",
   "name": "python",
   "nbconvert_exporter": "python",
   "pygments_lexer": "ipython3",
   "version": "3.9.7"
  }
 },
 "nbformat": 4,
 "nbformat_minor": 4
}

{
 "cells": [
  {
   "cell_type": "code",
   "execution_count": 46,
   "metadata": {},
   "outputs": [],
   "source": [
    "def tokenize_agnostic(txt):\n",
    "    import regex\n",
    "    #return regex.findall(r'[\\p{L}]+|[^\\p{L}]+', txt)\n",
    "    return regex.findall(r'[\\w]+|[^\\p{L}]+', txt)\n",
    "    # return regex.findall(r'[\\p{L}]+|[^\\p{L}]+', txt)\n",
    "    # return regex.findall(r'[^\\p{Z}\\p{P}\\p{M}]+|[\\p{Z}\\p{P}\\p{M}]', txt)"
   ]
  },
  {
   "cell_type": "code",
   "execution_count": 47,
   "metadata": {},
   "outputs": [
    {
     "data": {
      "text/plain": [
       "['Hello', '\\n\\n\\n', 'world']"
      ]
     },
     "execution_count": 47,
     "metadata": {},
     "output_type": "execute_result"
    }
   ],
   "source": [
    "tokenize_agnostic(\"\"\"Hello\n",
    "\n",
    "\n",
    "world\"\"\")"
   ]
  },
  {
   "cell_type": "code",
   "execution_count": 48,
   "metadata": {},
   "outputs": [
    {
     "data": {
      "text/plain": [
       "['Hello',\n",
       " ', ',\n",
       " 'world',\n",
       " '–! ',\n",
       " 'how',\n",
       " ' ',\n",
       " 'is',\n",
       " ' ',\n",
       " 'weather',\n",
       " '-',\n",
       " 'vane',\n",
       " ' ',\n",
       " 'and',\n",
       " ' ',\n",
       " 'mfwemf',\n",
       " '#',\n",
       " 'r4',\n",
       " '\\n\\n\\n\\n\\n',\n",
       " 'hello',\n",
       " '\\t–-',\n",
       " 'eor',\n",
       " '-',\n",
       " 'wer',\n",
       " ' ',\n",
       " 'we',\n",
       " \"'\",\n",
       " 'll',\n",
       " ' ',\n",
       " 'be',\n",
       " ' ',\n",
       " 'on',\n",
       " ' ',\n",
       " 'your',\n",
       " ' ',\n",
       " 'way',\n",
       " ' ',\n",
       " 'young',\n",
       " ' ',\n",
       " 'l',\n",
       " \"'\",\n",
       " 'huomo',\n",
       " ' ',\n",
       " 'l',\n",
       " '’',\n",
       " 'huomo',\n",
       " ' ',\n",
       " 'ee']"
      ]
     },
     "execution_count": 48,
     "metadata": {},
     "output_type": "execute_result"
    }
   ],
   "source": [
    "tokenize_agnostic(s1)"
   ]
  },
  {
   "cell_type": "code",
   "execution_count": null,
   "metadata": {},
   "outputs": [],
   "source": []
  },
  {
   "cell_type": "code",
   "execution_count": null,
   "metadata": {},
   "outputs": [],
   "source": []
  }
 ],
 "metadata": {
  "kernelspec": {
   "display_name": "Python 3.9.7 ('base')",
   "language": "python",
   "name": "python3"
  },
  "language_info": {
   "codemirror_mode": {
    "name": "ipython",
    "version": 3
   },
   "file_extension": ".py",
   "mimetype": "text/x-python",
   "name": "python",
   "nbconvert_exporter": "python",
   "pygments_lexer": "ipython3",
   "version": "3.9.7"
  },
  "orig_nbformat": 4,
  "vscode": {
   "interpreter": {
    "hash": "99c3488a746bccd77b7949f8f419451e1c962da56ebbaaae6e4d2e6c8c07eaa0"
   }
  }
 },
 "nbformat": 4,
 "nbformat_minor": 2
}
